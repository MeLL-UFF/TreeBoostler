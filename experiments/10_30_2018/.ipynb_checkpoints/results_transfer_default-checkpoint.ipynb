{
 "cells": [
  {
   "cell_type": "code",
   "execution_count": 1,
   "metadata": {
    "collapsed": true
   },
   "outputs": [],
   "source": [
    "import matplotlib.pyplot as plt\n",
    "from IPython.display import display, Markdown, Latex\n",
    "import numpy as np\n",
    "import json\n",
    "import pandas as pd\n",
    "\n",
    "with open('transfer_experiment_default.json', 'r') as fp:\n",
    "    data = json.load(fp)"
   ]
  },
  {
   "cell_type": "code",
   "execution_count": 2,
   "metadata": {
    "collapsed": false
   },
   "outputs": [
    {
     "data": {
      "text/markdown": [
       "# Results for AUC ROC"
      ],
      "text/plain": [
       "<IPython.core.display.Markdown object>"
      ]
     },
     "metadata": {},
     "output_type": "display_data"
    },
    {
     "data": {
      "text/html": [
       "<div>\n",
       "<table border=\"1\" class=\"dataframe\">\n",
       "  <thead>\n",
       "    <tr style=\"text-align: right;\">\n",
       "      <th></th>\n",
       "      <th>Experiment</th>\n",
       "      <th>Transfer Learning</th>\n",
       "      <th>Transfer Learning with Revision Theory</th>\n",
       "      <th>Learning from scratch</th>\n",
       "    </tr>\n",
       "  </thead>\n",
       "  <tbody>\n",
       "    <tr>\n",
       "      <th>0</th>\n",
       "      <td>imdb-&gt;uwcse</td>\n",
       "      <td>0.930 +/- 0.039</td>\n",
       "      <td>0.935 +/- 0.046</td>\n",
       "      <td>0.916 +/- 0.075</td>\n",
       "    </tr>\n",
       "    <tr>\n",
       "      <th>1</th>\n",
       "      <td>uwcse-&gt;imdb</td>\n",
       "      <td>1.000 +/- 0.000</td>\n",
       "      <td>0.990 +/- 0.039</td>\n",
       "      <td>0.978 +/- 0.039</td>\n",
       "    </tr>\n",
       "    <tr>\n",
       "      <th>2</th>\n",
       "      <td>imdb-&gt;cora</td>\n",
       "      <td>0.542 +/- 0.234</td>\n",
       "      <td>0.546 +/- 0.239</td>\n",
       "      <td>0.543 +/- 0.238</td>\n",
       "    </tr>\n",
       "  </tbody>\n",
       "</table>\n",
       "</div>"
      ],
      "text/plain": [
       "    Experiment Transfer Learning Transfer Learning with Revision Theory  \\\n",
       "0  imdb->uwcse   0.930 +/- 0.039                        0.935 +/- 0.046   \n",
       "1  uwcse->imdb   1.000 +/- 0.000                        0.990 +/- 0.039   \n",
       "2   imdb->cora   0.542 +/- 0.234                        0.546 +/- 0.239   \n",
       "\n",
       "  Learning from scratch  \n",
       "0       0.916 +/- 0.075  \n",
       "1       0.978 +/- 0.039  \n",
       "2       0.543 +/- 0.238  "
      ]
     },
     "metadata": {},
     "output_type": "display_data"
    },
    {
     "data": {
      "text/markdown": [
       "# Results for AUC PR"
      ],
      "text/plain": [
       "<IPython.core.display.Markdown object>"
      ]
     },
     "metadata": {},
     "output_type": "display_data"
    },
    {
     "data": {
      "text/html": [
       "<div>\n",
       "<table border=\"1\" class=\"dataframe\">\n",
       "  <thead>\n",
       "    <tr style=\"text-align: right;\">\n",
       "      <th></th>\n",
       "      <th>Experiment</th>\n",
       "      <th>Transfer Learning</th>\n",
       "      <th>Transfer Learning with Revision Theory</th>\n",
       "      <th>Learning from scratch</th>\n",
       "    </tr>\n",
       "  </thead>\n",
       "  <tbody>\n",
       "    <tr>\n",
       "      <th>0</th>\n",
       "      <td>imdb-&gt;uwcse</td>\n",
       "      <td>0.908 +/- 0.085</td>\n",
       "      <td>0.890 +/- 0.093</td>\n",
       "      <td>0.865 +/- 0.141</td>\n",
       "    </tr>\n",
       "    <tr>\n",
       "      <th>1</th>\n",
       "      <td>uwcse-&gt;imdb</td>\n",
       "      <td>1.000 +/- 0.000</td>\n",
       "      <td>0.982 +/- 0.072</td>\n",
       "      <td>0.960 +/- 0.071</td>\n",
       "    </tr>\n",
       "    <tr>\n",
       "      <th>2</th>\n",
       "      <td>imdb-&gt;cora</td>\n",
       "      <td>0.922 +/- 0.057</td>\n",
       "      <td>0.924 +/- 0.058</td>\n",
       "      <td>0.922 +/- 0.062</td>\n",
       "    </tr>\n",
       "  </tbody>\n",
       "</table>\n",
       "</div>"
      ],
      "text/plain": [
       "    Experiment Transfer Learning Transfer Learning with Revision Theory  \\\n",
       "0  imdb->uwcse   0.908 +/- 0.085                        0.890 +/- 0.093   \n",
       "1  uwcse->imdb   1.000 +/- 0.000                        0.982 +/- 0.072   \n",
       "2   imdb->cora   0.922 +/- 0.057                        0.924 +/- 0.058   \n",
       "\n",
       "  Learning from scratch  \n",
       "0       0.865 +/- 0.141  \n",
       "1       0.960 +/- 0.071  \n",
       "2       0.922 +/- 0.062  "
      ]
     },
     "metadata": {},
     "output_type": "display_data"
    },
    {
     "data": {
      "text/markdown": [
       "# Results for CLL"
      ],
      "text/plain": [
       "<IPython.core.display.Markdown object>"
      ]
     },
     "metadata": {},
     "output_type": "display_data"
    },
    {
     "data": {
      "text/html": [
       "<div>\n",
       "<table border=\"1\" class=\"dataframe\">\n",
       "  <thead>\n",
       "    <tr style=\"text-align: right;\">\n",
       "      <th></th>\n",
       "      <th>Experiment</th>\n",
       "      <th>Transfer Learning</th>\n",
       "      <th>Transfer Learning with Revision Theory</th>\n",
       "      <th>Learning from scratch</th>\n",
       "    </tr>\n",
       "  </thead>\n",
       "  <tbody>\n",
       "    <tr>\n",
       "      <th>0</th>\n",
       "      <td>imdb-&gt;uwcse</td>\n",
       "      <td>-0.288 +/- 0.029</td>\n",
       "      <td>-0.288 +/- 0.044</td>\n",
       "      <td>-0.321 +/- 0.113</td>\n",
       "    </tr>\n",
       "    <tr>\n",
       "      <th>1</th>\n",
       "      <td>uwcse-&gt;imdb</td>\n",
       "      <td>-0.096 +/- 0.003</td>\n",
       "      <td>-0.115 +/- 0.081</td>\n",
       "      <td>-0.170 +/- 0.107</td>\n",
       "    </tr>\n",
       "    <tr>\n",
       "      <th>2</th>\n",
       "      <td>imdb-&gt;cora</td>\n",
       "      <td>-0.289 +/- 0.091</td>\n",
       "      <td>-0.284 +/- 0.075</td>\n",
       "      <td>-0.285 +/- 0.077</td>\n",
       "    </tr>\n",
       "  </tbody>\n",
       "</table>\n",
       "</div>"
      ],
      "text/plain": [
       "    Experiment Transfer Learning Transfer Learning with Revision Theory  \\\n",
       "0  imdb->uwcse  -0.288 +/- 0.029                       -0.288 +/- 0.044   \n",
       "1  uwcse->imdb  -0.096 +/- 0.003                       -0.115 +/- 0.081   \n",
       "2   imdb->cora  -0.289 +/- 0.091                       -0.284 +/- 0.075   \n",
       "\n",
       "  Learning from scratch  \n",
       "0      -0.321 +/- 0.113  \n",
       "1      -0.170 +/- 0.107  \n",
       "2      -0.285 +/- 0.077  "
      ]
     },
     "metadata": {},
     "output_type": "display_data"
    },
    {
     "data": {
      "text/markdown": [
       "# Results for Recall"
      ],
      "text/plain": [
       "<IPython.core.display.Markdown object>"
      ]
     },
     "metadata": {},
     "output_type": "display_data"
    },
    {
     "data": {
      "text/html": [
       "<div>\n",
       "<table border=\"1\" class=\"dataframe\">\n",
       "  <thead>\n",
       "    <tr style=\"text-align: right;\">\n",
       "      <th></th>\n",
       "      <th>Experiment</th>\n",
       "      <th>Transfer Learning</th>\n",
       "      <th>Transfer Learning with Revision Theory</th>\n",
       "      <th>Learning from scratch</th>\n",
       "    </tr>\n",
       "  </thead>\n",
       "  <tbody>\n",
       "    <tr>\n",
       "      <th>0</th>\n",
       "      <td>imdb-&gt;uwcse</td>\n",
       "      <td>1.000 +/- 0.000</td>\n",
       "      <td>0.952 +/- 0.107</td>\n",
       "      <td>0.957 +/- 0.090</td>\n",
       "    </tr>\n",
       "    <tr>\n",
       "      <th>1</th>\n",
       "      <td>uwcse-&gt;imdb</td>\n",
       "      <td>1.000 +/- 0.000</td>\n",
       "      <td>1.000 +/- 0.000</td>\n",
       "      <td>1.000 +/- 0.000</td>\n",
       "    </tr>\n",
       "    <tr>\n",
       "      <th>2</th>\n",
       "      <td>imdb-&gt;cora</td>\n",
       "      <td>1.000 +/- 0.000</td>\n",
       "      <td>1.000 +/- 0.000</td>\n",
       "      <td>1.000 +/- 0.000</td>\n",
       "    </tr>\n",
       "  </tbody>\n",
       "</table>\n",
       "</div>"
      ],
      "text/plain": [
       "    Experiment Transfer Learning Transfer Learning with Revision Theory  \\\n",
       "0  imdb->uwcse   1.000 +/- 0.000                        0.952 +/- 0.107   \n",
       "1  uwcse->imdb   1.000 +/- 0.000                        1.000 +/- 0.000   \n",
       "2   imdb->cora   1.000 +/- 0.000                        1.000 +/- 0.000   \n",
       "\n",
       "  Learning from scratch  \n",
       "0       0.957 +/- 0.090  \n",
       "1       1.000 +/- 0.000  \n",
       "2       1.000 +/- 0.000  "
      ]
     },
     "metadata": {},
     "output_type": "display_data"
    },
    {
     "data": {
      "text/markdown": [
       "# Results for F1"
      ],
      "text/plain": [
       "<IPython.core.display.Markdown object>"
      ]
     },
     "metadata": {},
     "output_type": "display_data"
    },
    {
     "data": {
      "text/html": [
       "<div>\n",
       "<table border=\"1\" class=\"dataframe\">\n",
       "  <thead>\n",
       "    <tr style=\"text-align: right;\">\n",
       "      <th></th>\n",
       "      <th>Experiment</th>\n",
       "      <th>Transfer Learning</th>\n",
       "      <th>Transfer Learning with Revision Theory</th>\n",
       "      <th>Learning from scratch</th>\n",
       "    </tr>\n",
       "  </thead>\n",
       "  <tbody>\n",
       "    <tr>\n",
       "      <th>0</th>\n",
       "      <td>imdb-&gt;uwcse</td>\n",
       "      <td>0.912 +/- 0.021</td>\n",
       "      <td>0.896 +/- 0.026</td>\n",
       "      <td>0.886 +/- 0.042</td>\n",
       "    </tr>\n",
       "    <tr>\n",
       "      <th>1</th>\n",
       "      <td>uwcse-&gt;imdb</td>\n",
       "      <td>1.000 +/- 0.000</td>\n",
       "      <td>0.991 +/- 0.037</td>\n",
       "      <td>0.964 +/- 0.052</td>\n",
       "    </tr>\n",
       "    <tr>\n",
       "      <th>2</th>\n",
       "      <td>imdb-&gt;cora</td>\n",
       "      <td>0.964 +/- 0.020</td>\n",
       "      <td>0.964 +/- 0.020</td>\n",
       "      <td>0.964 +/- 0.020</td>\n",
       "    </tr>\n",
       "  </tbody>\n",
       "</table>\n",
       "</div>"
      ],
      "text/plain": [
       "    Experiment Transfer Learning Transfer Learning with Revision Theory  \\\n",
       "0  imdb->uwcse   0.912 +/- 0.021                        0.896 +/- 0.026   \n",
       "1  uwcse->imdb   1.000 +/- 0.000                        0.991 +/- 0.037   \n",
       "2   imdb->cora   0.964 +/- 0.020                        0.964 +/- 0.020   \n",
       "\n",
       "  Learning from scratch  \n",
       "0       0.886 +/- 0.042  \n",
       "1       0.964 +/- 0.052  \n",
       "2       0.964 +/- 0.020  "
      ]
     },
     "metadata": {},
     "output_type": "display_data"
    },
    {
     "data": {
      "text/markdown": [
       "# Results for Precision"
      ],
      "text/plain": [
       "<IPython.core.display.Markdown object>"
      ]
     },
     "metadata": {},
     "output_type": "display_data"
    },
    {
     "data": {
      "text/html": [
       "<div>\n",
       "<table border=\"1\" class=\"dataframe\">\n",
       "  <thead>\n",
       "    <tr style=\"text-align: right;\">\n",
       "      <th></th>\n",
       "      <th>Experiment</th>\n",
       "      <th>Transfer Learning</th>\n",
       "      <th>Transfer Learning with Revision Theory</th>\n",
       "      <th>Learning from scratch</th>\n",
       "    </tr>\n",
       "  </thead>\n",
       "  <tbody>\n",
       "    <tr>\n",
       "      <th>0</th>\n",
       "      <td>imdb-&gt;uwcse</td>\n",
       "      <td>0.838 +/- 0.035</td>\n",
       "      <td>0.850 +/- 0.051</td>\n",
       "      <td>0.827 +/- 0.053</td>\n",
       "    </tr>\n",
       "    <tr>\n",
       "      <th>1</th>\n",
       "      <td>uwcse-&gt;imdb</td>\n",
       "      <td>1.000 +/- 0.000</td>\n",
       "      <td>0.982 +/- 0.072</td>\n",
       "      <td>0.932 +/- 0.097</td>\n",
       "    </tr>\n",
       "    <tr>\n",
       "      <th>2</th>\n",
       "      <td>imdb-&gt;cora</td>\n",
       "      <td>0.930 +/- 0.036</td>\n",
       "      <td>0.930 +/- 0.036</td>\n",
       "      <td>0.930 +/- 0.036</td>\n",
       "    </tr>\n",
       "  </tbody>\n",
       "</table>\n",
       "</div>"
      ],
      "text/plain": [
       "    Experiment Transfer Learning Transfer Learning with Revision Theory  \\\n",
       "0  imdb->uwcse   0.838 +/- 0.035                        0.850 +/- 0.051   \n",
       "1  uwcse->imdb   1.000 +/- 0.000                        0.982 +/- 0.072   \n",
       "2   imdb->cora   0.930 +/- 0.036                        0.930 +/- 0.036   \n",
       "\n",
       "  Learning from scratch  \n",
       "0       0.827 +/- 0.053  \n",
       "1       0.932 +/- 0.097  \n",
       "2       0.930 +/- 0.036  "
      ]
     },
     "metadata": {},
     "output_type": "display_data"
    },
    {
     "data": {
      "text/markdown": [
       "# Results for Learning and Revision time"
      ],
      "text/plain": [
       "<IPython.core.display.Markdown object>"
      ]
     },
     "metadata": {},
     "output_type": "display_data"
    },
    {
     "data": {
      "text/html": [
       "<div>\n",
       "<table border=\"1\" class=\"dataframe\">\n",
       "  <thead>\n",
       "    <tr style=\"text-align: right;\">\n",
       "      <th></th>\n",
       "      <th>Experiment</th>\n",
       "      <th>Transfer Learning</th>\n",
       "      <th>Transfer Learning with Revision Theory</th>\n",
       "      <th>Learning from scratch</th>\n",
       "    </tr>\n",
       "  </thead>\n",
       "  <tbody>\n",
       "    <tr>\n",
       "      <th>0</th>\n",
       "      <td>imdb-&gt;uwcse</td>\n",
       "      <td>3.475 +/- 2.984</td>\n",
       "      <td>8.787 +/- 7.492</td>\n",
       "      <td>6.057 +/- 5.731</td>\n",
       "    </tr>\n",
       "    <tr>\n",
       "      <th>1</th>\n",
       "      <td>uwcse-&gt;imdb</td>\n",
       "      <td>1.916 +/- 1.063</td>\n",
       "      <td>3.748 +/- 2.413</td>\n",
       "      <td>2.254 +/- 0.798</td>\n",
       "    </tr>\n",
       "    <tr>\n",
       "      <th>2</th>\n",
       "      <td>imdb-&gt;cora</td>\n",
       "      <td>6.629 +/- 8.105</td>\n",
       "      <td>10.801 +/- 11.827</td>\n",
       "      <td>7.493 +/- 7.891</td>\n",
       "    </tr>\n",
       "  </tbody>\n",
       "</table>\n",
       "</div>"
      ],
      "text/plain": [
       "    Experiment Transfer Learning Transfer Learning with Revision Theory  \\\n",
       "0  imdb->uwcse   3.475 +/- 2.984                        8.787 +/- 7.492   \n",
       "1  uwcse->imdb   1.916 +/- 1.063                        3.748 +/- 2.413   \n",
       "2   imdb->cora   6.629 +/- 8.105                      10.801 +/- 11.827   \n",
       "\n",
       "  Learning from scratch  \n",
       "0       6.057 +/- 5.731  \n",
       "1       2.254 +/- 0.798  \n",
       "2       7.493 +/- 7.891  "
      ]
     },
     "metadata": {},
     "output_type": "display_data"
    },
    {
     "data": {
      "text/markdown": [
       "# Results for Inference time"
      ],
      "text/plain": [
       "<IPython.core.display.Markdown object>"
      ]
     },
     "metadata": {},
     "output_type": "display_data"
    },
    {
     "data": {
      "text/html": [
       "<div>\n",
       "<table border=\"1\" class=\"dataframe\">\n",
       "  <thead>\n",
       "    <tr style=\"text-align: right;\">\n",
       "      <th></th>\n",
       "      <th>Experiment</th>\n",
       "      <th>Transfer Learning</th>\n",
       "      <th>Transfer Learning with Revision Theory</th>\n",
       "      <th>Learning from scratch</th>\n",
       "    </tr>\n",
       "  </thead>\n",
       "  <tbody>\n",
       "    <tr>\n",
       "      <th>0</th>\n",
       "      <td>imdb-&gt;uwcse</td>\n",
       "      <td>3.475 +/- 2.984</td>\n",
       "      <td>0.792 +/- 0.151</td>\n",
       "      <td>0.803 +/- 0.260</td>\n",
       "    </tr>\n",
       "    <tr>\n",
       "      <th>1</th>\n",
       "      <td>uwcse-&gt;imdb</td>\n",
       "      <td>1.916 +/- 1.063</td>\n",
       "      <td>0.831 +/- 0.109</td>\n",
       "      <td>0.776 +/- 0.059</td>\n",
       "    </tr>\n",
       "    <tr>\n",
       "      <th>2</th>\n",
       "      <td>imdb-&gt;cora</td>\n",
       "      <td>6.629 +/- 8.105</td>\n",
       "      <td>2.223 +/- 2.305</td>\n",
       "      <td>2.131 +/- 2.118</td>\n",
       "    </tr>\n",
       "  </tbody>\n",
       "</table>\n",
       "</div>"
      ],
      "text/plain": [
       "    Experiment Transfer Learning Transfer Learning with Revision Theory  \\\n",
       "0  imdb->uwcse   3.475 +/- 2.984                        0.792 +/- 0.151   \n",
       "1  uwcse->imdb   1.916 +/- 1.063                        0.831 +/- 0.109   \n",
       "2   imdb->cora   6.629 +/- 8.105                        2.223 +/- 2.305   \n",
       "\n",
       "  Learning from scratch  \n",
       "0       0.803 +/- 0.260  \n",
       "1       0.776 +/- 0.059  \n",
       "2       2.131 +/- 2.118  "
      ]
     },
     "metadata": {},
     "output_type": "display_data"
    }
   ],
   "source": [
    "experiments = [\n",
    "            {'source':'imdb', 'target':'uwcse', 'predicate':'workedunder'},\n",
    "            {'source':'uwcse', 'target':'imdb', 'predicate':'advisedby'},\n",
    "            {'source':'imdb', 'target':'cora', 'predicate':'workedunder'},\n",
    "            {'source':'cora', 'target':'imdb', 'predicate':'samevenue'},\n",
    "            {'source':'yeast', 'target':'twitter', 'predicate':'proteinclass'},\n",
    "            {'source':'twitter', 'target':'yeast', 'predicate':'accounttype'},\n",
    "            #{'source':'nell_sports', 'target':'nell_finances', 'predicate':'teamplayssport'},\n",
    "            #{'source':'nell_finances', 'target':'nell_sports', 'predicate':'companyeconomicsector'},\n",
    "            #{'source':'yeast', 'target':'webkb', 'predicate':'proteinclass'},\n",
    "            #{'source':'webkb', 'target':'yeast', 'predicate':'departmentof'},\n",
    "            #{'source':'twitter', 'target':'webkb', 'predicate':'accounttype'},\n",
    "            #{'source':'webkb', 'target':'twitter', 'predicate':'pageclass'},\n",
    "            ]\n",
    "\n",
    "for metric in ['AUC ROC', 'AUC PR', 'CLL', 'Recall', 'F1', 'Precision', 'Learning and Revision time', 'Inference time']:\n",
    "    display(Markdown('# Results for ' + metric))\n",
    "    table = []\n",
    "    for j in range(len(experiments)):\n",
    "        dataset = experiments[j]['source'] + '->' + experiments[j]['target']\n",
    "        if dataset in data['results']: \n",
    "            #for metric in ['AUC ROC', 'AUC PR']:\n",
    "                #display(Markdown('## ' + metric))\n",
    "            if metric == 'Precision':\n",
    "                scratch = np.array([item['scratch']['Precision'][0] for sublist in data['results'][str(dataset)] for item in sublist])\n",
    "                parameter = np.array([item['transfer']['Parameter Learning results']['Precision'][0] for sublist in data['results'][str(dataset)] for item in sublist])\n",
    "                transfer = np.array([item['transfer']['Precision'][0] for sublist in data['results'][str(dataset)] for item in sublist])\n",
    "            elif metric == 'Learning and Revision time':\n",
    "                scratch = np.array([item['scratch']['Learning time'] for sublist in data['results'][str(dataset)] for item in sublist])\n",
    "                parameter = np.array([item['transfer']['Parameter Learning results']['Learning time'] for sublist in data['results'][str(dataset)] for item in sublist])\n",
    "                transfer = np.array([item['transfer']['Learning time'] for sublist in data['results'][str(dataset)] for item in sublist])\n",
    "            elif metric == 'Inference time':\n",
    "                scratch = np.array([item['scratch']['Inference time'] for sublist in data['results'][str(dataset)] for item in sublist])\n",
    "                parameter = np.array([item['transfer']['Parameter Learning results']['Learning time'] for sublist in data['results'][str(dataset)] for item in sublist])\n",
    "                transfer = np.array([item['transfer']['Inference time'] for sublist in data['results'][str(dataset)] for item in sublist])\n",
    "            else:\n",
    "                scratch = np.array([item['scratch'][metric] for sublist in data['results'][str(dataset)] for item in sublist])\n",
    "                parameter = np.array([item['transfer']['Parameter Learning results'][metric] for sublist in data['results'][str(dataset)] for item in sublist])\n",
    "                transfer = np.array([item['transfer'][metric] for sublist in data['results'][str(dataset)] for item in sublist])\n",
    "            table.append([dataset, '%.3f +/- %.3f' % (parameter.mean(), 2 * parameter.std()),\n",
    "            '%.3f +/- %.3f' % (transfer.mean(), 2 * transfer.std()),\n",
    "            '%.3f +/- %.3f' % (scratch.mean(), 2 * scratch.std())])\n",
    "    display(pd.DataFrame(table, columns=['Experiment', 'Transfer Learning', 'Transfer Learning with Revision Theory', 'Learning from scratch']))"
   ]
  },
  {
   "cell_type": "code",
   "execution_count": 3,
   "metadata": {
    "collapsed": false
   },
   "outputs": [
    {
     "data": {
      "text/markdown": [
       "# Results for imdb->uwcse"
      ],
      "text/plain": [
       "<IPython.core.display.Markdown object>"
      ]
     },
     "metadata": {},
     "output_type": "display_data"
    },
    {
     "data": {
      "text/markdown": [
       "## AUC ROC"
      ],
      "text/plain": [
       "<IPython.core.display.Markdown object>"
      ]
     },
     "metadata": {},
     "output_type": "display_data"
    },
    {
     "name": "stdout",
     "output_type": "stream",
     "text": [
      "Scratch: [0.884533 0.94456  0.860577 0.933594 0.958285]\n",
      "Transfer: [0.949704 0.929472 0.894231 0.930938 0.945797]\n",
      "Transfer & Revision: [0.934172 0.955775 0.894231 0.933594 0.957966]\n"
     ]
    },
    {
     "data": {
      "text/markdown": [
       "## AUC PR"
      ],
      "text/plain": [
       "<IPython.core.display.Markdown object>"
      ]
     },
     "metadata": {},
     "output_type": "display_data"
    },
    {
     "name": "stdout",
     "output_type": "stream",
     "text": [
      "Scratch: [0.778351 0.916285 0.781955 0.899207 0.947272]\n",
      "Transfer: [0.939729 0.918777 0.825397 0.920612 0.937284]\n",
      "Transfer & Revision: [0.847725 0.935903 0.825397 0.899207 0.940709]\n"
     ]
    },
    {
     "data": {
      "text/markdown": [
       "## CLL"
      ],
      "text/plain": [
       "<IPython.core.display.Markdown object>"
      ]
     },
     "metadata": {},
     "output_type": "display_data"
    },
    {
     "name": "stdout",
     "output_type": "stream",
     "text": [
      "Scratch: [-0.396411 -0.284644 -0.382487 -0.275741 -0.265593]\n",
      "Transfer: [-0.273854 -0.290507 -0.313006 -0.287685 -0.272526]\n",
      "Transfer & Revision: [-0.315901 -0.274247 -0.313006 -0.275741 -0.261639]\n"
     ]
    },
    {
     "data": {
      "text/markdown": [
       "## Recall"
      ],
      "text/plain": [
       "<IPython.core.display.Markdown object>"
      ]
     },
     "metadata": {},
     "output_type": "display_data"
    },
    {
     "name": "stdout",
     "output_type": "stream",
     "text": [
      "Scratch: [0.884615 1.       1.       0.975    0.927835]\n",
      "Transfer: [1. 1. 1. 1. 1.]\n",
      "Transfer & Revision: [0.858974 1.       1.       0.975    0.927835]\n"
     ]
    },
    {
     "data": {
      "text/markdown": [
       "## F1"
      ],
      "text/plain": [
       "<IPython.core.display.Markdown object>"
      ]
     },
     "metadata": {},
     "output_type": "display_data"
    },
    {
     "name": "stdout",
     "output_type": "stream",
     "text": [
      "Scratch: [0.851852 0.902913 0.877637 0.912281 0.8867  ]\n",
      "Transfer: [0.928571 0.902913 0.904348 0.903955 0.919431]\n",
      "Transfer & Revision: [0.875817 0.902913 0.904348 0.912281 0.8867  ]\n"
     ]
    },
    {
     "data": {
      "text/markdown": [
       "## Precision"
      ],
      "text/plain": [
       "<IPython.core.display.Markdown object>"
      ]
     },
     "metadata": {},
     "output_type": "display_data"
    },
    {
     "name": "stdout",
     "output_type": "stream",
     "text": [
      "Scratch: [0.821429 0.823009 0.781955 0.857143 0.849057]\n",
      "Transfer: [0.866667 0.823009 0.825397 0.824742 0.850877]\n",
      "Transfer & Revision: [0.893333 0.823009 0.825397 0.857143 0.849057]\n"
     ]
    },
    {
     "data": {
      "text/markdown": [
       "## Learning and Revision time"
      ],
      "text/plain": [
       "<IPython.core.display.Markdown object>"
      ]
     },
     "metadata": {},
     "output_type": "display_data"
    },
    {
     "name": "stdout",
     "output_type": "stream",
     "text": [
      "Scratch: [9.625 4.602 1.464 8.307 6.286]\n",
      "Transfer: [5.653 2.688 1.375 4.574 3.084]\n",
      "Transfer & Revision: [13.736  6.384  3.472 12.149  8.194]\n"
     ]
    },
    {
     "data": {
      "text/markdown": [
       "## Inference time"
      ],
      "text/plain": [
       "<IPython.core.display.Markdown object>"
      ]
     },
     "metadata": {},
     "output_type": "display_data"
    },
    {
     "name": "stdout",
     "output_type": "stream",
     "text": [
      "Scratch: [0.768 0.832 0.606 0.796 1.012]\n",
      "Transfer: [5.653 2.688 1.375 4.574 3.084]\n",
      "Transfer & Revision: [0.773 0.722 0.761 0.939 0.767]\n"
     ]
    },
    {
     "data": {
      "text/markdown": [
       "# Results for uwcse->imdb"
      ],
      "text/plain": [
       "<IPython.core.display.Markdown object>"
      ]
     },
     "metadata": {},
     "output_type": "display_data"
    },
    {
     "data": {
      "text/markdown": [
       "## AUC ROC"
      ],
      "text/plain": [
       "<IPython.core.display.Markdown object>"
      ]
     },
     "metadata": {},
     "output_type": "display_data"
    },
    {
     "name": "stdout",
     "output_type": "stream",
     "text": [
      "Scratch: [0.95092  0.95779  1.       0.986647 0.992472]\n",
      "Transfer: [1. 1. 1. 1. 1.]\n",
      "Transfer & Revision: [0.95092 1.      1.      1.      1.     ]\n"
     ]
    },
    {
     "data": {
      "text/markdown": [
       "## AUC PR"
      ],
      "text/plain": [
       "<IPython.core.display.Markdown object>"
      ]
     },
     "metadata": {},
     "output_type": "display_data"
    },
    {
     "name": "stdout",
     "output_type": "stream",
     "text": [
      "Scratch: [0.910615 0.925491 1.       0.973988 0.990625]\n",
      "Transfer: [1. 1. 1. 1. 1.]\n",
      "Transfer & Revision: [0.910615 1.       1.       1.       1.      ]\n"
     ]
    },
    {
     "data": {
      "text/markdown": [
       "## CLL"
      ],
      "text/plain": [
       "<IPython.core.display.Markdown object>"
      ]
     },
     "metadata": {},
     "output_type": "display_data"
    },
    {
     "name": "stdout",
     "output_type": "stream",
     "text": [
      "Scratch: [-0.195966 -0.19503  -0.094637 -0.122206 -0.241338]\n",
      "Transfer: [-0.099086 -0.095245 -0.094637 -0.094637 -0.094789]\n",
      "Transfer & Revision: [-0.195966 -0.094637 -0.094637 -0.094637 -0.094637]\n"
     ]
    },
    {
     "data": {
      "text/markdown": [
       "## Recall"
      ],
      "text/plain": [
       "<IPython.core.display.Markdown object>"
      ]
     },
     "metadata": {},
     "output_type": "display_data"
    },
    {
     "name": "stdout",
     "output_type": "stream",
     "text": [
      "Scratch: [1. 1. 1. 1. 1.]\n",
      "Transfer: [1. 1. 1. 1. 1.]\n",
      "Transfer & Revision: [1. 1. 1. 1. 1.]\n"
     ]
    },
    {
     "data": {
      "text/markdown": [
       "## F1"
      ],
      "text/plain": [
       "<IPython.core.display.Markdown object>"
      ]
     },
     "metadata": {},
     "output_type": "display_data"
    },
    {
     "name": "stdout",
     "output_type": "stream",
     "text": [
      "Scratch: [0.953216 0.954345 1.       0.986823 0.927098]\n",
      "Transfer: [1. 1. 1. 1. 1.]\n",
      "Transfer & Revision: [0.953216 1.       1.       1.       1.      ]\n"
     ]
    },
    {
     "data": {
      "text/markdown": [
       "## Precision"
      ],
      "text/plain": [
       "<IPython.core.display.Markdown object>"
      ]
     },
     "metadata": {},
     "output_type": "display_data"
    },
    {
     "name": "stdout",
     "output_type": "stream",
     "text": [
      "Scratch: [0.910615 0.912676 1.       0.973988 0.864103]\n",
      "Transfer: [1. 1. 1. 1. 1.]\n",
      "Transfer & Revision: [0.910615 1.       1.       1.       1.      ]\n"
     ]
    },
    {
     "data": {
      "text/markdown": [
       "## Learning and Revision time"
      ],
      "text/plain": [
       "<IPython.core.display.Markdown object>"
      ]
     },
     "metadata": {},
     "output_type": "display_data"
    },
    {
     "name": "stdout",
     "output_type": "stream",
     "text": [
      "Scratch: [1.7   2.302 2.917 2.045 2.308]\n",
      "Transfer: [1.616 1.706 2.972 1.564 1.721]\n",
      "Transfer & Revision: [2.875 3.26  6.143 3.17  3.293]\n"
     ]
    },
    {
     "data": {
      "text/markdown": [
       "## Inference time"
      ],
      "text/plain": [
       "<IPython.core.display.Markdown object>"
      ]
     },
     "metadata": {},
     "output_type": "display_data"
    },
    {
     "name": "stdout",
     "output_type": "stream",
     "text": [
      "Scratch: [0.775 0.794 0.723 0.776 0.81 ]\n",
      "Transfer: [1.616 1.706 2.972 1.564 1.721]\n",
      "Transfer & Revision: [0.784 0.81  0.937 0.823 0.803]\n"
     ]
    },
    {
     "data": {
      "text/markdown": [
       "# Results for imdb->cora"
      ],
      "text/plain": [
       "<IPython.core.display.Markdown object>"
      ]
     },
     "metadata": {},
     "output_type": "display_data"
    },
    {
     "data": {
      "text/markdown": [
       "## AUC ROC"
      ],
      "text/plain": [
       "<IPython.core.display.Markdown object>"
      ]
     },
     "metadata": {},
     "output_type": "display_data"
    },
    {
     "name": "stdout",
     "output_type": "stream",
     "text": [
      "Scratch: [0.591354 0.569243 0.308061 0.614653 0.630357]\n",
      "Transfer: [0.591354 0.573001 0.310525 0.614653 0.621875]\n",
      "Transfer & Revision: [0.591354 0.573001 0.310525 0.624499 0.630748]\n"
     ]
    },
    {
     "data": {
      "text/markdown": [
       "## AUC PR"
      ],
      "text/plain": [
       "<IPython.core.display.Markdown object>"
      ]
     },
     "metadata": {},
     "output_type": "display_data"
    },
    {
     "name": "stdout",
     "output_type": "stream",
     "text": [
      "Scratch: [0.942615 0.934792 0.859435 0.933172 0.937926]\n",
      "Transfer: [0.942615 0.935755 0.866163 0.933172 0.934613]\n",
      "Transfer & Revision: [0.942615 0.935755 0.866163 0.936044 0.937958]\n"
     ]
    },
    {
     "data": {
      "text/markdown": [
       "## CLL"
      ],
      "text/plain": [
       "<IPython.core.display.Markdown object>"
      ]
     },
     "metadata": {},
     "output_type": "display_data"
    },
    {
     "name": "stdout",
     "output_type": "stream",
     "text": [
      "Scratch: [-0.316343 -0.25356  -0.345004 -0.248078 -0.263678]\n",
      "Transfer: [-0.314766 -0.25356  -0.367114 -0.248058 -0.26297 ]\n",
      "Transfer & Revision: [-0.309779 -0.25356  -0.3453   -0.248029 -0.26373 ]\n"
     ]
    },
    {
     "data": {
      "text/markdown": [
       "## Recall"
      ],
      "text/plain": [
       "<IPython.core.display.Markdown object>"
      ]
     },
     "metadata": {},
     "output_type": "display_data"
    },
    {
     "name": "stdout",
     "output_type": "stream",
     "text": [
      "Scratch: [1. 1. 1. 1. 1.]\n",
      "Transfer: [1. 1. 1. 1. 1.]\n",
      "Transfer & Revision: [1. 1. 1. 1. 1.]\n"
     ]
    },
    {
     "data": {
      "text/markdown": [
       "## F1"
      ],
      "text/plain": [
       "<IPython.core.display.Markdown object>"
      ]
     },
     "metadata": {},
     "output_type": "display_data"
    },
    {
     "name": "stdout",
     "output_type": "stream",
     "text": [
      "Scratch: [0.954114 0.971831 0.949713 0.970326 0.972644]\n",
      "Transfer: [0.954114 0.971831 0.949713 0.970326 0.972644]\n",
      "Transfer & Revision: [0.954114 0.971831 0.949713 0.970326 0.972644]\n"
     ]
    },
    {
     "data": {
      "text/markdown": [
       "## Precision"
      ],
      "text/plain": [
       "<IPython.core.display.Markdown object>"
      ]
     },
     "metadata": {},
     "output_type": "display_data"
    },
    {
     "name": "stdout",
     "output_type": "stream",
     "text": [
      "Scratch: [0.912254 0.945205 0.904241 0.942363 0.946746]\n",
      "Transfer: [0.912254 0.945205 0.904241 0.942363 0.946746]\n",
      "Transfer & Revision: [0.912254 0.945205 0.904241 0.942363 0.946746]\n"
     ]
    },
    {
     "data": {
      "text/markdown": [
       "## Learning and Revision time"
      ],
      "text/plain": [
       "<IPython.core.display.Markdown object>"
      ]
     },
     "metadata": {},
     "output_type": "display_data"
    },
    {
     "name": "stdout",
     "output_type": "stream",
     "text": [
      "Scratch: [ 3.602  6.041  6.26   6.456 15.108]\n",
      "Transfer: [ 3.222  5.214  4.322  5.85  14.539]\n",
      "Transfer & Revision: [ 5.828  8.448  7.439  9.976 22.316]\n"
     ]
    },
    {
     "data": {
      "text/markdown": [
       "## Inference time"
      ],
      "text/plain": [
       "<IPython.core.display.Markdown object>"
      ]
     },
     "metadata": {},
     "output_type": "display_data"
    },
    {
     "name": "stdout",
     "output_type": "stream",
     "text": [
      "Scratch: [1.393 1.849 1.456 1.736 4.222]\n",
      "Transfer: [ 3.222  5.214  4.322  5.85  14.539]\n",
      "Transfer & Revision: [1.367 1.896 1.577 1.774 4.5  ]\n"
     ]
    },
    {
     "data": {
      "text/markdown": [
       "# Results for cora->imdb"
      ],
      "text/plain": [
       "<IPython.core.display.Markdown object>"
      ]
     },
     "metadata": {},
     "output_type": "display_data"
    },
    {
     "data": {
      "text/markdown": [
       "# Results for yeast->twitter"
      ],
      "text/plain": [
       "<IPython.core.display.Markdown object>"
      ]
     },
     "metadata": {},
     "output_type": "display_data"
    },
    {
     "data": {
      "text/markdown": [
       "# Results for twitter->yeast"
      ],
      "text/plain": [
       "<IPython.core.display.Markdown object>"
      ]
     },
     "metadata": {},
     "output_type": "display_data"
    }
   ],
   "source": [
    "for j in range(len(experiments)):\n",
    "    dataset = experiments[j]['source'] + '->' + experiments[j]['target']\n",
    "    display(Markdown('# Results for ' + dataset))\n",
    "    table = []\n",
    "    for metric in ['AUC ROC', 'AUC PR', 'CLL', 'Recall', 'F1', 'Precision', 'Learning and Revision time', 'Inference time']:\n",
    "    #for metric in ['AUC ROC', 'AUC PR']:\n",
    "        if dataset in data['results']: \n",
    "            #for metric in ['AUC ROC', 'AUC PR']:\n",
    "            display(Markdown('## ' + metric))\n",
    "            if metric == 'Precision':\n",
    "                scratch = np.array([item['scratch']['Precision'][0] for sublist in data['results'][str(dataset)] for item in sublist])\n",
    "                parameter = np.array([item['transfer']['Parameter Learning results']['Precision'][0] for sublist in data['results'][str(dataset)] for item in sublist])\n",
    "                transfer = np.array([item['transfer']['Precision'][0] for sublist in data['results'][str(dataset)] for item in sublist])\n",
    "            elif metric == 'Learning and Revision time':\n",
    "                scratch = np.array([item['scratch']['Learning time'] for sublist in data['results'][str(dataset)] for item in sublist])\n",
    "                parameter = np.array([item['transfer']['Parameter Learning results']['Learning time'] for sublist in data['results'][str(dataset)] for item in sublist])\n",
    "                transfer = np.array([item['transfer']['Learning time'] for sublist in data['results'][str(dataset)] for item in sublist])\n",
    "            elif metric == 'Inference time':\n",
    "                scratch = np.array([item['scratch']['Inference time'] for sublist in data['results'][str(dataset)] for item in sublist])\n",
    "                parameter = np.array([item['transfer']['Parameter Learning results']['Learning time'] for sublist in data['results'][str(dataset)] for item in sublist])\n",
    "                transfer = np.array([item['transfer']['Inference time'] for sublist in data['results'][str(dataset)] for item in sublist])\n",
    "            else:\n",
    "                scratch = np.array([item['scratch'][metric] for sublist in data['results'][str(dataset)] for item in sublist])\n",
    "                parameter = np.array([item['transfer']['Parameter Learning results'][metric] for sublist in data['results'][str(dataset)] for item in sublist])\n",
    "                transfer = np.array([item['transfer'][metric] for sublist in data['results'][str(dataset)] for item in sublist])\n",
    "            print('Scratch: %s' % scratch)\n",
    "            print('Transfer: %s' % parameter)\n",
    "            print('Transfer & Revision: %s' % transfer)"
   ]
  },
  {
   "cell_type": "code",
   "execution_count": null,
   "metadata": {
    "collapsed": true
   },
   "outputs": [],
   "source": []
  }
 ],
 "metadata": {
  "anaconda-cloud": {},
  "kernelspec": {
   "display_name": "Python [conda env:anaconda3]",
   "language": "python",
   "name": "conda-env-anaconda3-py"
  },
  "language_info": {
   "codemirror_mode": {
    "name": "ipython",
    "version": 3
   },
   "file_extension": ".py",
   "mimetype": "text/x-python",
   "name": "python",
   "nbconvert_exporter": "python",
   "pygments_lexer": "ipython3",
   "version": "3.5.2"
  }
 },
 "nbformat": 4,
 "nbformat_minor": 1
}
