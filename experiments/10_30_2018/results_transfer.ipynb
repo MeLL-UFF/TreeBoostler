{
 "cells": [
  {
   "cell_type": "code",
   "execution_count": 1,
   "metadata": {
    "collapsed": true
   },
   "outputs": [],
   "source": [
    "import matplotlib.pyplot as plt\n",
    "from IPython.display import display, Markdown, Latex\n",
    "import numpy as np\n",
    "import json\n",
    "import pandas as pd\n",
    "\n",
    "with open('transfer_experiment.json', 'r') as fp:\n",
    "    data = json.load(fp)"
   ]
  },
  {
   "cell_type": "code",
   "execution_count": 2,
   "metadata": {
    "collapsed": false
   },
   "outputs": [
    {
     "data": {
      "text/markdown": [
       "# Results for AUC ROC"
      ],
      "text/plain": [
       "<IPython.core.display.Markdown object>"
      ]
     },
     "metadata": {},
     "output_type": "display_data"
    },
    {
     "name": "stderr",
     "output_type": "stream",
     "text": [
      "/home/rodrigoazs/anaconda3/lib/python3.5/site-packages/ipykernel/__main__.py:40: RuntimeWarning: Mean of empty slice.\n",
      "/home/rodrigoazs/anaconda3/lib/python3.5/site-packages/numpy/core/_methods.py:140: RuntimeWarning: Degrees of freedom <= 0 for slice\n",
      "  keepdims=keepdims)\n",
      "/home/rodrigoazs/anaconda3/lib/python3.5/site-packages/ipykernel/__main__.py:41: RuntimeWarning: Mean of empty slice.\n",
      "/home/rodrigoazs/anaconda3/lib/python3.5/site-packages/ipykernel/__main__.py:42: RuntimeWarning: Mean of empty slice.\n"
     ]
    },
    {
     "data": {
      "text/html": [
       "<div>\n",
       "<table border=\"1\" class=\"dataframe\">\n",
       "  <thead>\n",
       "    <tr style=\"text-align: right;\">\n",
       "      <th></th>\n",
       "      <th>Experiment</th>\n",
       "      <th>Transfer Learning</th>\n",
       "      <th>Transfer Learning with Revision Theory</th>\n",
       "      <th>Learning from scratch</th>\n",
       "    </tr>\n",
       "  </thead>\n",
       "  <tbody>\n",
       "    <tr>\n",
       "      <th>0</th>\n",
       "      <td>imdb-&gt;uwcse</td>\n",
       "      <td>0.764 +/- 0.246</td>\n",
       "      <td>0.940 +/- 0.055</td>\n",
       "      <td>0.940 +/- 0.069</td>\n",
       "    </tr>\n",
       "    <tr>\n",
       "      <th>1</th>\n",
       "      <td>uwcse-&gt;imdb</td>\n",
       "      <td>0.826 +/- 0.222</td>\n",
       "      <td>0.985 +/- 0.030</td>\n",
       "      <td>0.995 +/- 0.005</td>\n",
       "    </tr>\n",
       "    <tr>\n",
       "      <th>2</th>\n",
       "      <td>imdb-&gt;cora</td>\n",
       "      <td>nan +/- nan</td>\n",
       "      <td>nan +/- nan</td>\n",
       "      <td>nan +/- nan</td>\n",
       "    </tr>\n",
       "    <tr>\n",
       "      <th>3</th>\n",
       "      <td>cora-&gt;imdb</td>\n",
       "      <td>0.878 +/- 0.018</td>\n",
       "      <td>0.995 +/- 0.005</td>\n",
       "      <td>0.995 +/- 0.005</td>\n",
       "    </tr>\n",
       "    <tr>\n",
       "      <th>4</th>\n",
       "      <td>yeast-&gt;twitter</td>\n",
       "      <td>nan +/- nan</td>\n",
       "      <td>nan +/- nan</td>\n",
       "      <td>nan +/- nan</td>\n",
       "    </tr>\n",
       "    <tr>\n",
       "      <th>5</th>\n",
       "      <td>twitter-&gt;yeast</td>\n",
       "      <td>nan +/- nan</td>\n",
       "      <td>nan +/- nan</td>\n",
       "      <td>nan +/- nan</td>\n",
       "    </tr>\n",
       "  </tbody>\n",
       "</table>\n",
       "</div>"
      ],
      "text/plain": [
       "       Experiment Transfer Learning Transfer Learning with Revision Theory  \\\n",
       "0     imdb->uwcse   0.764 +/- 0.246                        0.940 +/- 0.055   \n",
       "1     uwcse->imdb   0.826 +/- 0.222                        0.985 +/- 0.030   \n",
       "2      imdb->cora       nan +/- nan                            nan +/- nan   \n",
       "3      cora->imdb   0.878 +/- 0.018                        0.995 +/- 0.005   \n",
       "4  yeast->twitter       nan +/- nan                            nan +/- nan   \n",
       "5  twitter->yeast       nan +/- nan                            nan +/- nan   \n",
       "\n",
       "  Learning from scratch  \n",
       "0       0.940 +/- 0.069  \n",
       "1       0.995 +/- 0.005  \n",
       "2           nan +/- nan  \n",
       "3       0.995 +/- 0.005  \n",
       "4           nan +/- nan  \n",
       "5           nan +/- nan  "
      ]
     },
     "metadata": {},
     "output_type": "display_data"
    },
    {
     "data": {
      "text/markdown": [
       "# Results for AUC PR"
      ],
      "text/plain": [
       "<IPython.core.display.Markdown object>"
      ]
     },
     "metadata": {},
     "output_type": "display_data"
    },
    {
     "data": {
      "text/html": [
       "<div>\n",
       "<table border=\"1\" class=\"dataframe\">\n",
       "  <thead>\n",
       "    <tr style=\"text-align: right;\">\n",
       "      <th></th>\n",
       "      <th>Experiment</th>\n",
       "      <th>Transfer Learning</th>\n",
       "      <th>Transfer Learning with Revision Theory</th>\n",
       "      <th>Learning from scratch</th>\n",
       "    </tr>\n",
       "  </thead>\n",
       "  <tbody>\n",
       "    <tr>\n",
       "      <th>0</th>\n",
       "      <td>imdb-&gt;uwcse</td>\n",
       "      <td>0.814 +/- 0.174</td>\n",
       "      <td>0.898 +/- 0.092</td>\n",
       "      <td>0.900 +/- 0.122</td>\n",
       "    </tr>\n",
       "    <tr>\n",
       "      <th>1</th>\n",
       "      <td>uwcse-&gt;imdb</td>\n",
       "      <td>0.865 +/- 0.160</td>\n",
       "      <td>0.970 +/- 0.060</td>\n",
       "      <td>0.990 +/- 0.010</td>\n",
       "    </tr>\n",
       "    <tr>\n",
       "      <th>2</th>\n",
       "      <td>imdb-&gt;cora</td>\n",
       "      <td>nan +/- nan</td>\n",
       "      <td>nan +/- nan</td>\n",
       "      <td>nan +/- nan</td>\n",
       "    </tr>\n",
       "    <tr>\n",
       "      <th>3</th>\n",
       "      <td>cora-&gt;imdb</td>\n",
       "      <td>0.804 +/- 0.023</td>\n",
       "      <td>0.990 +/- 0.010</td>\n",
       "      <td>0.990 +/- 0.010</td>\n",
       "    </tr>\n",
       "    <tr>\n",
       "      <th>4</th>\n",
       "      <td>yeast-&gt;twitter</td>\n",
       "      <td>nan +/- nan</td>\n",
       "      <td>nan +/- nan</td>\n",
       "      <td>nan +/- nan</td>\n",
       "    </tr>\n",
       "    <tr>\n",
       "      <th>5</th>\n",
       "      <td>twitter-&gt;yeast</td>\n",
       "      <td>nan +/- nan</td>\n",
       "      <td>nan +/- nan</td>\n",
       "      <td>nan +/- nan</td>\n",
       "    </tr>\n",
       "  </tbody>\n",
       "</table>\n",
       "</div>"
      ],
      "text/plain": [
       "       Experiment Transfer Learning Transfer Learning with Revision Theory  \\\n",
       "0     imdb->uwcse   0.814 +/- 0.174                        0.898 +/- 0.092   \n",
       "1     uwcse->imdb   0.865 +/- 0.160                        0.970 +/- 0.060   \n",
       "2      imdb->cora       nan +/- nan                            nan +/- nan   \n",
       "3      cora->imdb   0.804 +/- 0.023                        0.990 +/- 0.010   \n",
       "4  yeast->twitter       nan +/- nan                            nan +/- nan   \n",
       "5  twitter->yeast       nan +/- nan                            nan +/- nan   \n",
       "\n",
       "  Learning from scratch  \n",
       "0       0.900 +/- 0.122  \n",
       "1       0.990 +/- 0.010  \n",
       "2           nan +/- nan  \n",
       "3       0.990 +/- 0.010  \n",
       "4           nan +/- nan  \n",
       "5           nan +/- nan  "
      ]
     },
     "metadata": {},
     "output_type": "display_data"
    },
    {
     "data": {
      "text/markdown": [
       "# Results for CLL"
      ],
      "text/plain": [
       "<IPython.core.display.Markdown object>"
      ]
     },
     "metadata": {},
     "output_type": "display_data"
    },
    {
     "data": {
      "text/html": [
       "<div>\n",
       "<table border=\"1\" class=\"dataframe\">\n",
       "  <thead>\n",
       "    <tr style=\"text-align: right;\">\n",
       "      <th></th>\n",
       "      <th>Experiment</th>\n",
       "      <th>Transfer Learning</th>\n",
       "      <th>Transfer Learning with Revision Theory</th>\n",
       "      <th>Learning from scratch</th>\n",
       "    </tr>\n",
       "  </thead>\n",
       "  <tbody>\n",
       "    <tr>\n",
       "      <th>0</th>\n",
       "      <td>imdb-&gt;uwcse</td>\n",
       "      <td>-0.537 +/- 0.115</td>\n",
       "      <td>-0.251 +/- 0.086</td>\n",
       "      <td>-0.248 +/- 0.098</td>\n",
       "    </tr>\n",
       "    <tr>\n",
       "      <th>1</th>\n",
       "      <td>uwcse-&gt;imdb</td>\n",
       "      <td>-0.451 +/- 0.290</td>\n",
       "      <td>-0.125 +/- 0.053</td>\n",
       "      <td>-0.105 +/- 0.010</td>\n",
       "    </tr>\n",
       "    <tr>\n",
       "      <th>2</th>\n",
       "      <td>imdb-&gt;cora</td>\n",
       "      <td>nan +/- nan</td>\n",
       "      <td>nan +/- nan</td>\n",
       "      <td>nan +/- nan</td>\n",
       "    </tr>\n",
       "    <tr>\n",
       "      <th>3</th>\n",
       "      <td>cora-&gt;imdb</td>\n",
       "      <td>-0.343 +/- 0.017</td>\n",
       "      <td>-0.105 +/- 0.010</td>\n",
       "      <td>-0.105 +/- 0.010</td>\n",
       "    </tr>\n",
       "    <tr>\n",
       "      <th>4</th>\n",
       "      <td>yeast-&gt;twitter</td>\n",
       "      <td>nan +/- nan</td>\n",
       "      <td>nan +/- nan</td>\n",
       "      <td>nan +/- nan</td>\n",
       "    </tr>\n",
       "    <tr>\n",
       "      <th>5</th>\n",
       "      <td>twitter-&gt;yeast</td>\n",
       "      <td>nan +/- nan</td>\n",
       "      <td>nan +/- nan</td>\n",
       "      <td>nan +/- nan</td>\n",
       "    </tr>\n",
       "  </tbody>\n",
       "</table>\n",
       "</div>"
      ],
      "text/plain": [
       "       Experiment Transfer Learning Transfer Learning with Revision Theory  \\\n",
       "0     imdb->uwcse  -0.537 +/- 0.115                       -0.251 +/- 0.086   \n",
       "1     uwcse->imdb  -0.451 +/- 0.290                       -0.125 +/- 0.053   \n",
       "2      imdb->cora       nan +/- nan                            nan +/- nan   \n",
       "3      cora->imdb  -0.343 +/- 0.017                       -0.105 +/- 0.010   \n",
       "4  yeast->twitter       nan +/- nan                            nan +/- nan   \n",
       "5  twitter->yeast       nan +/- nan                            nan +/- nan   \n",
       "\n",
       "  Learning from scratch  \n",
       "0      -0.248 +/- 0.098  \n",
       "1      -0.105 +/- 0.010  \n",
       "2           nan +/- nan  \n",
       "3      -0.105 +/- 0.010  \n",
       "4           nan +/- nan  \n",
       "5           nan +/- nan  "
      ]
     },
     "metadata": {},
     "output_type": "display_data"
    },
    {
     "data": {
      "text/markdown": [
       "# Results for Recall"
      ],
      "text/plain": [
       "<IPython.core.display.Markdown object>"
      ]
     },
     "metadata": {},
     "output_type": "display_data"
    },
    {
     "data": {
      "text/html": [
       "<div>\n",
       "<table border=\"1\" class=\"dataframe\">\n",
       "  <thead>\n",
       "    <tr style=\"text-align: right;\">\n",
       "      <th></th>\n",
       "      <th>Experiment</th>\n",
       "      <th>Transfer Learning</th>\n",
       "      <th>Transfer Learning with Revision Theory</th>\n",
       "      <th>Learning from scratch</th>\n",
       "    </tr>\n",
       "  </thead>\n",
       "  <tbody>\n",
       "    <tr>\n",
       "      <th>0</th>\n",
       "      <td>imdb-&gt;uwcse</td>\n",
       "      <td>0.432 +/- 0.409</td>\n",
       "      <td>0.995 +/- 0.022</td>\n",
       "      <td>0.995 +/- 0.021</td>\n",
       "    </tr>\n",
       "    <tr>\n",
       "      <th>1</th>\n",
       "      <td>uwcse-&gt;imdb</td>\n",
       "      <td>0.538 +/- 0.415</td>\n",
       "      <td>1.000 +/- 0.000</td>\n",
       "      <td>1.000 +/- 0.000</td>\n",
       "    </tr>\n",
       "    <tr>\n",
       "      <th>2</th>\n",
       "      <td>imdb-&gt;cora</td>\n",
       "      <td>nan +/- nan</td>\n",
       "      <td>nan +/- nan</td>\n",
       "      <td>nan +/- nan</td>\n",
       "    </tr>\n",
       "    <tr>\n",
       "      <th>3</th>\n",
       "      <td>cora-&gt;imdb</td>\n",
       "      <td>1.000 +/- 0.000</td>\n",
       "      <td>1.000 +/- 0.000</td>\n",
       "      <td>1.000 +/- 0.000</td>\n",
       "    </tr>\n",
       "    <tr>\n",
       "      <th>4</th>\n",
       "      <td>yeast-&gt;twitter</td>\n",
       "      <td>nan +/- nan</td>\n",
       "      <td>nan +/- nan</td>\n",
       "      <td>nan +/- nan</td>\n",
       "    </tr>\n",
       "    <tr>\n",
       "      <th>5</th>\n",
       "      <td>twitter-&gt;yeast</td>\n",
       "      <td>nan +/- nan</td>\n",
       "      <td>nan +/- nan</td>\n",
       "      <td>nan +/- nan</td>\n",
       "    </tr>\n",
       "  </tbody>\n",
       "</table>\n",
       "</div>"
      ],
      "text/plain": [
       "       Experiment Transfer Learning Transfer Learning with Revision Theory  \\\n",
       "0     imdb->uwcse   0.432 +/- 0.409                        0.995 +/- 0.022   \n",
       "1     uwcse->imdb   0.538 +/- 0.415                        1.000 +/- 0.000   \n",
       "2      imdb->cora       nan +/- nan                            nan +/- nan   \n",
       "3      cora->imdb   1.000 +/- 0.000                        1.000 +/- 0.000   \n",
       "4  yeast->twitter       nan +/- nan                            nan +/- nan   \n",
       "5  twitter->yeast       nan +/- nan                            nan +/- nan   \n",
       "\n",
       "  Learning from scratch  \n",
       "0       0.995 +/- 0.021  \n",
       "1       1.000 +/- 0.000  \n",
       "2           nan +/- nan  \n",
       "3       1.000 +/- 0.000  \n",
       "4           nan +/- nan  \n",
       "5           nan +/- nan  "
      ]
     },
     "metadata": {},
     "output_type": "display_data"
    },
    {
     "data": {
      "text/markdown": [
       "# Results for F1"
      ],
      "text/plain": [
       "<IPython.core.display.Markdown object>"
      ]
     },
     "metadata": {},
     "output_type": "display_data"
    },
    {
     "data": {
      "text/html": [
       "<div>\n",
       "<table border=\"1\" class=\"dataframe\">\n",
       "  <thead>\n",
       "    <tr style=\"text-align: right;\">\n",
       "      <th></th>\n",
       "      <th>Experiment</th>\n",
       "      <th>Transfer Learning</th>\n",
       "      <th>Transfer Learning with Revision Theory</th>\n",
       "      <th>Learning from scratch</th>\n",
       "    </tr>\n",
       "  </thead>\n",
       "  <tbody>\n",
       "    <tr>\n",
       "      <th>0</th>\n",
       "      <td>imdb-&gt;uwcse</td>\n",
       "      <td>0.574 +/- 0.260</td>\n",
       "      <td>0.930 +/- 0.056</td>\n",
       "      <td>0.933 +/- 0.064</td>\n",
       "    </tr>\n",
       "    <tr>\n",
       "      <th>1</th>\n",
       "      <td>uwcse-&gt;imdb</td>\n",
       "      <td>0.678 +/- 0.282</td>\n",
       "      <td>0.986 +/- 0.026</td>\n",
       "      <td>0.995 +/- 0.005</td>\n",
       "    </tr>\n",
       "    <tr>\n",
       "      <th>2</th>\n",
       "      <td>imdb-&gt;cora</td>\n",
       "      <td>nan +/- nan</td>\n",
       "      <td>nan +/- nan</td>\n",
       "      <td>nan +/- nan</td>\n",
       "    </tr>\n",
       "    <tr>\n",
       "      <th>3</th>\n",
       "      <td>cora-&gt;imdb</td>\n",
       "      <td>0.891 +/- 0.014</td>\n",
       "      <td>0.995 +/- 0.005</td>\n",
       "      <td>0.995 +/- 0.005</td>\n",
       "    </tr>\n",
       "    <tr>\n",
       "      <th>4</th>\n",
       "      <td>yeast-&gt;twitter</td>\n",
       "      <td>nan +/- nan</td>\n",
       "      <td>nan +/- nan</td>\n",
       "      <td>nan +/- nan</td>\n",
       "    </tr>\n",
       "    <tr>\n",
       "      <th>5</th>\n",
       "      <td>twitter-&gt;yeast</td>\n",
       "      <td>nan +/- nan</td>\n",
       "      <td>nan +/- nan</td>\n",
       "      <td>nan +/- nan</td>\n",
       "    </tr>\n",
       "  </tbody>\n",
       "</table>\n",
       "</div>"
      ],
      "text/plain": [
       "       Experiment Transfer Learning Transfer Learning with Revision Theory  \\\n",
       "0     imdb->uwcse   0.574 +/- 0.260                        0.930 +/- 0.056   \n",
       "1     uwcse->imdb   0.678 +/- 0.282                        0.986 +/- 0.026   \n",
       "2      imdb->cora       nan +/- nan                            nan +/- nan   \n",
       "3      cora->imdb   0.891 +/- 0.014                        0.995 +/- 0.005   \n",
       "4  yeast->twitter       nan +/- nan                            nan +/- nan   \n",
       "5  twitter->yeast       nan +/- nan                            nan +/- nan   \n",
       "\n",
       "  Learning from scratch  \n",
       "0       0.933 +/- 0.064  \n",
       "1       0.995 +/- 0.005  \n",
       "2           nan +/- nan  \n",
       "3       0.995 +/- 0.005  \n",
       "4           nan +/- nan  \n",
       "5           nan +/- nan  "
      ]
     },
     "metadata": {},
     "output_type": "display_data"
    },
    {
     "data": {
      "text/markdown": [
       "# Results for Precision"
      ],
      "text/plain": [
       "<IPython.core.display.Markdown object>"
      ]
     },
     "metadata": {},
     "output_type": "display_data"
    },
    {
     "data": {
      "text/html": [
       "<div>\n",
       "<table border=\"1\" class=\"dataframe\">\n",
       "  <thead>\n",
       "    <tr style=\"text-align: right;\">\n",
       "      <th></th>\n",
       "      <th>Experiment</th>\n",
       "      <th>Transfer Learning</th>\n",
       "      <th>Transfer Learning with Revision Theory</th>\n",
       "      <th>Learning from scratch</th>\n",
       "    </tr>\n",
       "  </thead>\n",
       "  <tbody>\n",
       "    <tr>\n",
       "      <th>0</th>\n",
       "      <td>imdb-&gt;uwcse</td>\n",
       "      <td>0.986 +/- 0.082</td>\n",
       "      <td>0.875 +/- 0.100</td>\n",
       "      <td>0.880 +/- 0.115</td>\n",
       "    </tr>\n",
       "    <tr>\n",
       "      <th>1</th>\n",
       "      <td>uwcse-&gt;imdb</td>\n",
       "      <td>0.997 +/- 0.035</td>\n",
       "      <td>0.973 +/- 0.050</td>\n",
       "      <td>0.990 +/- 0.010</td>\n",
       "    </tr>\n",
       "    <tr>\n",
       "      <th>2</th>\n",
       "      <td>imdb-&gt;cora</td>\n",
       "      <td>nan +/- nan</td>\n",
       "      <td>nan +/- nan</td>\n",
       "      <td>nan +/- nan</td>\n",
       "    </tr>\n",
       "    <tr>\n",
       "      <th>3</th>\n",
       "      <td>cora-&gt;imdb</td>\n",
       "      <td>0.804 +/- 0.023</td>\n",
       "      <td>0.990 +/- 0.010</td>\n",
       "      <td>0.990 +/- 0.010</td>\n",
       "    </tr>\n",
       "    <tr>\n",
       "      <th>4</th>\n",
       "      <td>yeast-&gt;twitter</td>\n",
       "      <td>nan +/- nan</td>\n",
       "      <td>nan +/- nan</td>\n",
       "      <td>nan +/- nan</td>\n",
       "    </tr>\n",
       "    <tr>\n",
       "      <th>5</th>\n",
       "      <td>twitter-&gt;yeast</td>\n",
       "      <td>nan +/- nan</td>\n",
       "      <td>nan +/- nan</td>\n",
       "      <td>nan +/- nan</td>\n",
       "    </tr>\n",
       "  </tbody>\n",
       "</table>\n",
       "</div>"
      ],
      "text/plain": [
       "       Experiment Transfer Learning Transfer Learning with Revision Theory  \\\n",
       "0     imdb->uwcse   0.986 +/- 0.082                        0.875 +/- 0.100   \n",
       "1     uwcse->imdb   0.997 +/- 0.035                        0.973 +/- 0.050   \n",
       "2      imdb->cora       nan +/- nan                            nan +/- nan   \n",
       "3      cora->imdb   0.804 +/- 0.023                        0.990 +/- 0.010   \n",
       "4  yeast->twitter       nan +/- nan                            nan +/- nan   \n",
       "5  twitter->yeast       nan +/- nan                            nan +/- nan   \n",
       "\n",
       "  Learning from scratch  \n",
       "0       0.880 +/- 0.115  \n",
       "1       0.990 +/- 0.010  \n",
       "2           nan +/- nan  \n",
       "3       0.990 +/- 0.010  \n",
       "4           nan +/- nan  \n",
       "5           nan +/- nan  "
      ]
     },
     "metadata": {},
     "output_type": "display_data"
    },
    {
     "data": {
      "text/markdown": [
       "# Results for Learning and Revision time"
      ],
      "text/plain": [
       "<IPython.core.display.Markdown object>"
      ]
     },
     "metadata": {},
     "output_type": "display_data"
    },
    {
     "data": {
      "text/html": [
       "<div>\n",
       "<table border=\"1\" class=\"dataframe\">\n",
       "  <thead>\n",
       "    <tr style=\"text-align: right;\">\n",
       "      <th></th>\n",
       "      <th>Experiment</th>\n",
       "      <th>Transfer Learning</th>\n",
       "      <th>Transfer Learning with Revision Theory</th>\n",
       "      <th>Learning from scratch</th>\n",
       "    </tr>\n",
       "  </thead>\n",
       "  <tbody>\n",
       "    <tr>\n",
       "      <th>0</th>\n",
       "      <td>imdb-&gt;uwcse</td>\n",
       "      <td>8.211 +/- 14.631</td>\n",
       "      <td>17.336 +/- 26.821</td>\n",
       "      <td>9.837 +/- 15.610</td>\n",
       "    </tr>\n",
       "    <tr>\n",
       "      <th>1</th>\n",
       "      <td>uwcse-&gt;imdb</td>\n",
       "      <td>6.461 +/- 6.849</td>\n",
       "      <td>11.538 +/- 12.097</td>\n",
       "      <td>5.281 +/- 7.231</td>\n",
       "    </tr>\n",
       "    <tr>\n",
       "      <th>2</th>\n",
       "      <td>imdb-&gt;cora</td>\n",
       "      <td>nan +/- nan</td>\n",
       "      <td>nan +/- nan</td>\n",
       "      <td>nan +/- nan</td>\n",
       "    </tr>\n",
       "    <tr>\n",
       "      <th>3</th>\n",
       "      <td>cora-&gt;imdb</td>\n",
       "      <td>2.777 +/- 2.325</td>\n",
       "      <td>5.438 +/- 5.356</td>\n",
       "      <td>2.988 +/- 4.094</td>\n",
       "    </tr>\n",
       "    <tr>\n",
       "      <th>4</th>\n",
       "      <td>yeast-&gt;twitter</td>\n",
       "      <td>nan +/- nan</td>\n",
       "      <td>nan +/- nan</td>\n",
       "      <td>nan +/- nan</td>\n",
       "    </tr>\n",
       "    <tr>\n",
       "      <th>5</th>\n",
       "      <td>twitter-&gt;yeast</td>\n",
       "      <td>nan +/- nan</td>\n",
       "      <td>nan +/- nan</td>\n",
       "      <td>nan +/- nan</td>\n",
       "    </tr>\n",
       "  </tbody>\n",
       "</table>\n",
       "</div>"
      ],
      "text/plain": [
       "       Experiment Transfer Learning Transfer Learning with Revision Theory  \\\n",
       "0     imdb->uwcse  8.211 +/- 14.631                      17.336 +/- 26.821   \n",
       "1     uwcse->imdb   6.461 +/- 6.849                      11.538 +/- 12.097   \n",
       "2      imdb->cora       nan +/- nan                            nan +/- nan   \n",
       "3      cora->imdb   2.777 +/- 2.325                        5.438 +/- 5.356   \n",
       "4  yeast->twitter       nan +/- nan                            nan +/- nan   \n",
       "5  twitter->yeast       nan +/- nan                            nan +/- nan   \n",
       "\n",
       "  Learning from scratch  \n",
       "0      9.837 +/- 15.610  \n",
       "1       5.281 +/- 7.231  \n",
       "2           nan +/- nan  \n",
       "3       2.988 +/- 4.094  \n",
       "4           nan +/- nan  \n",
       "5           nan +/- nan  "
      ]
     },
     "metadata": {},
     "output_type": "display_data"
    },
    {
     "data": {
      "text/markdown": [
       "# Results for Inference time"
      ],
      "text/plain": [
       "<IPython.core.display.Markdown object>"
      ]
     },
     "metadata": {},
     "output_type": "display_data"
    },
    {
     "data": {
      "text/html": [
       "<div>\n",
       "<table border=\"1\" class=\"dataframe\">\n",
       "  <thead>\n",
       "    <tr style=\"text-align: right;\">\n",
       "      <th></th>\n",
       "      <th>Experiment</th>\n",
       "      <th>Transfer Learning</th>\n",
       "      <th>Transfer Learning with Revision Theory</th>\n",
       "      <th>Learning from scratch</th>\n",
       "    </tr>\n",
       "  </thead>\n",
       "  <tbody>\n",
       "    <tr>\n",
       "      <th>0</th>\n",
       "      <td>imdb-&gt;uwcse</td>\n",
       "      <td>8.211 +/- 14.631</td>\n",
       "      <td>1.500 +/- 0.779</td>\n",
       "      <td>1.397 +/- 0.897</td>\n",
       "    </tr>\n",
       "    <tr>\n",
       "      <th>1</th>\n",
       "      <td>uwcse-&gt;imdb</td>\n",
       "      <td>6.461 +/- 6.849</td>\n",
       "      <td>1.883 +/- 1.017</td>\n",
       "      <td>1.723 +/- 0.884</td>\n",
       "    </tr>\n",
       "    <tr>\n",
       "      <th>2</th>\n",
       "      <td>imdb-&gt;cora</td>\n",
       "      <td>nan +/- nan</td>\n",
       "      <td>nan +/- nan</td>\n",
       "      <td>nan +/- nan</td>\n",
       "    </tr>\n",
       "    <tr>\n",
       "      <th>3</th>\n",
       "      <td>cora-&gt;imdb</td>\n",
       "      <td>2.777 +/- 2.325</td>\n",
       "      <td>0.887 +/- 0.131</td>\n",
       "      <td>0.830 +/- 0.175</td>\n",
       "    </tr>\n",
       "    <tr>\n",
       "      <th>4</th>\n",
       "      <td>yeast-&gt;twitter</td>\n",
       "      <td>nan +/- nan</td>\n",
       "      <td>nan +/- nan</td>\n",
       "      <td>nan +/- nan</td>\n",
       "    </tr>\n",
       "    <tr>\n",
       "      <th>5</th>\n",
       "      <td>twitter-&gt;yeast</td>\n",
       "      <td>nan +/- nan</td>\n",
       "      <td>nan +/- nan</td>\n",
       "      <td>nan +/- nan</td>\n",
       "    </tr>\n",
       "  </tbody>\n",
       "</table>\n",
       "</div>"
      ],
      "text/plain": [
       "       Experiment Transfer Learning Transfer Learning with Revision Theory  \\\n",
       "0     imdb->uwcse  8.211 +/- 14.631                        1.500 +/- 0.779   \n",
       "1     uwcse->imdb   6.461 +/- 6.849                        1.883 +/- 1.017   \n",
       "2      imdb->cora       nan +/- nan                            nan +/- nan   \n",
       "3      cora->imdb   2.777 +/- 2.325                        0.887 +/- 0.131   \n",
       "4  yeast->twitter       nan +/- nan                            nan +/- nan   \n",
       "5  twitter->yeast       nan +/- nan                            nan +/- nan   \n",
       "\n",
       "  Learning from scratch  \n",
       "0       1.397 +/- 0.897  \n",
       "1       1.723 +/- 0.884  \n",
       "2           nan +/- nan  \n",
       "3       0.830 +/- 0.175  \n",
       "4           nan +/- nan  \n",
       "5           nan +/- nan  "
      ]
     },
     "metadata": {},
     "output_type": "display_data"
    }
   ],
   "source": [
    "experiments = [\n",
    "            {'source':'imdb', 'target':'uwcse', 'predicate':'workedunder'},\n",
    "            {'source':'uwcse', 'target':'imdb', 'predicate':'advisedby'},\n",
    "            {'source':'imdb', 'target':'cora', 'predicate':'workedunder'},\n",
    "            {'source':'cora', 'target':'imdb', 'predicate':'samevenue'},\n",
    "            {'source':'yeast', 'target':'twitter', 'predicate':'interaction'},\n",
    "            {'source':'twitter', 'target':'yeast', 'predicate':'follows'},\n",
    "            #{'source':'nell_sports', 'target':'nell_finances', 'predicate':'teamplayssport'},\n",
    "            #{'source':'nell_finances', 'target':'nell_sports', 'predicate':'companyeconomicsector'},\n",
    "            #{'source':'yeast', 'target':'webkb', 'predicate':'proteinclass'},\n",
    "            #{'source':'webkb', 'target':'yeast', 'predicate':'departmentof'},\n",
    "            #{'source':'twitter', 'target':'webkb', 'predicate':'accounttype'},\n",
    "            #{'source':'webkb', 'target':'twitter', 'predicate':'pageclass'},\n",
    "            ]\n",
    "\n",
    "for metric in ['AUC ROC', 'AUC PR', 'CLL', 'Recall', 'F1', 'Precision', 'Learning and Revision time', 'Inference time']:\n",
    "    display(Markdown('# Results for ' + metric))\n",
    "    table = []\n",
    "    for j in range(len(experiments)):\n",
    "        dataset = experiments[j]['source'] + '->' + experiments[j]['target']\n",
    "        if dataset in data['results']: \n",
    "            #for metric in ['AUC ROC', 'AUC PR']:\n",
    "                #display(Markdown('## ' + metric))\n",
    "            if metric == 'Precision':\n",
    "                scratch = np.array([item['scratch']['Precision'][0] for sublist in data['results'][str(dataset)] for item in sublist])\n",
    "                parameter = np.array([item['transfer']['Parameter Learning results']['Precision'][0] for sublist in data['results'][str(dataset)] for item in sublist])\n",
    "                transfer = np.array([item['transfer']['Precision'][0] for sublist in data['results'][str(dataset)] for item in sublist])\n",
    "            elif metric == 'Learning and Revision time':\n",
    "                scratch = np.array([item['scratch']['Learning time'] for sublist in data['results'][str(dataset)] for item in sublist])\n",
    "                parameter = np.array([item['transfer']['Parameter Learning results']['Learning time'] for sublist in data['results'][str(dataset)] for item in sublist])\n",
    "                transfer = np.array([item['transfer']['Learning time'] for sublist in data['results'][str(dataset)] for item in sublist])\n",
    "            elif metric == 'Inference time':\n",
    "                scratch = np.array([item['scratch']['Inference time'] for sublist in data['results'][str(dataset)] for item in sublist])\n",
    "                parameter = np.array([item['transfer']['Parameter Learning results']['Learning time'] for sublist in data['results'][str(dataset)] for item in sublist])\n",
    "                transfer = np.array([item['transfer']['Inference time'] for sublist in data['results'][str(dataset)] for item in sublist])\n",
    "            else:\n",
    "                scratch = np.array([item['scratch'][metric] for sublist in data['results'][str(dataset)] for item in sublist])\n",
    "                parameter = np.array([item['transfer']['Parameter Learning results'][metric] for sublist in data['results'][str(dataset)] for item in sublist])\n",
    "                transfer = np.array([item['transfer'][metric] for sublist in data['results'][str(dataset)] for item in sublist])\n",
    "            table.append([dataset, '%.3f +/- %.3f' % (parameter.mean(), 2 * parameter.std()),\n",
    "            '%.3f +/- %.3f' % (transfer.mean(), 2 * transfer.std()),\n",
    "            '%.3f +/- %.3f' % (scratch.mean(), 2 * scratch.std())])\n",
    "    display(pd.DataFrame(table, columns=['Experiment', 'Transfer Learning', 'Transfer Learning with Revision Theory', 'Learning from scratch']))"
   ]
  },
  {
   "cell_type": "code",
   "execution_count": 3,
   "metadata": {
    "collapsed": false
   },
   "outputs": [
    {
     "data": {
      "text/markdown": [
       "# Results for imdb->uwcse"
      ],
      "text/plain": [
       "<IPython.core.display.Markdown object>"
      ]
     },
     "metadata": {},
     "output_type": "display_data"
    },
    {
     "data": {
      "text/markdown": [
       "## AUC ROC"
      ],
      "text/plain": [
       "<IPython.core.display.Markdown object>"
      ]
     },
     "metadata": {},
     "output_type": "display_data"
    },
    {
     "name": "stdout",
     "output_type": "stream",
     "text": [
      "Scratch: [0.968935 0.917447 0.894231 0.991563 0.938144 0.969757 0.917447 0.894231\n",
      " 0.991406 0.938144 0.946746 0.917447 0.894231 0.991406 0.938144 0.969428\n",
      " 0.907793 0.894231 0.991563 0.938144 0.94954  0.917447 0.894231 0.989219\n",
      " 0.938144 0.970085 0.917447 0.894231 0.991406 0.938144 0.968935 0.907793\n",
      " 0.894231 0.991406 0.938144]\n",
      "Transfer: [0.677268 0.679096 0.698225 0.683125 0.69391  0.677268 0.679096 0.698225\n",
      " 0.683125 0.69391  0.677268 0.679096 0.698225 0.683125 0.69391  0.677268\n",
      " 0.679096 0.698225 0.683125 0.69391  0.962278 0.932998 0.964497 0.98375\n",
      " 0.945797 0.962278 0.932998 0.964497 0.98375  0.945797 0.677268 0.679096\n",
      " 0.698225 0.683125 0.69391 ]\n",
      "Transfer & Revision: [0.969099 0.917447 0.894231 0.970781 0.938144 0.97025  0.917447 0.894231\n",
      " 0.97     0.938144 0.97025  0.917447 0.894231 0.97     0.938144 0.962032\n",
      " 0.917447 0.894231 0.970781 0.938144 0.962689 0.917447 0.942308 0.975156\n",
      " 0.938144 0.97025  0.917447 0.942308 0.974375 0.938144 0.961045 0.917447\n",
      " 0.894231 0.970313 0.938144]\n"
     ]
    },
    {
     "data": {
      "text/markdown": [
       "## AUC PR"
      ],
      "text/plain": [
       "<IPython.core.display.Markdown object>"
      ]
     },
     "metadata": {},
     "output_type": "display_data"
    },
    {
     "name": "stdout",
     "output_type": "stream",
     "text": [
      "Scratch: [0.962359 0.859858 0.825397 0.989415 0.889908 0.963142 0.859858 0.825397\n",
      " 0.989221 0.889908 0.885311 0.859858 0.825397 0.989221 0.889908 0.961848\n",
      " 0.841987 0.825397 0.989415 0.889908 0.890412 0.859858 0.825397 0.985896\n",
      " 0.889908 0.962835 0.859858 0.825397 0.989221 0.889908 0.962756 0.841987\n",
      " 0.825397 0.989221 0.889908]\n",
      "Transfer: [0.751722 0.751963 0.77124  0.755407 0.768512 0.751722 0.751963 0.77124\n",
      " 0.755407 0.768512 0.751722 0.751963 0.77124  0.755407 0.768512 0.751722\n",
      " 0.751963 0.77124  0.755407 0.768512 0.95357  0.92229  0.957287 0.979077\n",
      " 0.937284 0.95357  0.92229  0.957287 0.979077 0.937284 0.751722 0.751963\n",
      " 0.77124  0.755407 0.768512]\n",
      "Transfer & Revision: [0.962987 0.859858 0.825397 0.941421 0.889908 0.964555 0.859858 0.825397\n",
      " 0.94005  0.889908 0.963583 0.859858 0.825397 0.94005  0.889908 0.922527\n",
      " 0.859858 0.825397 0.941421 0.889908 0.923317 0.859858 0.896552 0.964755\n",
      " 0.889908 0.963583 0.859858 0.896552 0.963383 0.889908 0.921305 0.859858\n",
      " 0.825397 0.940412 0.889908]\n"
     ]
    },
    {
     "data": {
      "text/markdown": [
       "## CLL"
      ],
      "text/plain": [
       "<IPython.core.display.Markdown object>"
      ]
     },
     "metadata": {},
     "output_type": "display_data"
    },
    {
     "name": "stdout",
     "output_type": "stream",
     "text": [
      "Scratch: [-0.219549 -0.29576  -0.313006 -0.182949 -0.222343 -0.221586 -0.29576\n",
      " -0.313006 -0.183874 -0.222343 -0.227023 -0.29576  -0.313006 -0.186314\n",
      " -0.222343 -0.216549 -0.295847 -0.313006 -0.184814 -0.222343 -0.226447\n",
      " -0.29576  -0.313006 -0.186195 -0.222343 -0.21635  -0.29576  -0.313006\n",
      " -0.184324 -0.222343 -0.224868 -0.296231 -0.313006 -0.184459 -0.222343]\n",
      "Transfer: [-0.577494 -0.583488 -0.562965 -0.575328 -0.561872 -0.577494 -0.583488\n",
      " -0.562965 -0.575328 -0.561872 -0.577494 -0.583488 -0.562965 -0.575328\n",
      " -0.561872 -0.577846 -0.583704 -0.563158 -0.57558  -0.562842 -0.442592\n",
      " -0.454596 -0.426107 -0.457852 -0.45496  -0.442592 -0.454596 -0.426107\n",
      " -0.457852 -0.45496  -0.577494 -0.583488 -0.562965 -0.575328 -0.561872]\n",
      "Transfer & Revision: [-0.218724 -0.29576  -0.313006 -0.209856 -0.222343 -0.219534 -0.29576\n",
      " -0.313006 -0.210532 -0.222343 -0.217641 -0.29576  -0.313006 -0.211969\n",
      " -0.222343 -0.215869 -0.29576  -0.313006 -0.209857 -0.222343 -0.214587\n",
      " -0.29576  -0.304717 -0.207701 -0.222343 -0.219557 -0.29576  -0.304717\n",
      " -0.208105 -0.222343 -0.220608 -0.29576  -0.313006 -0.20966  -0.222343]\n"
     ]
    },
    {
     "data": {
      "text/markdown": [
       "## Recall"
      ],
      "text/plain": [
       "<IPython.core.display.Markdown object>"
      ]
     },
     "metadata": {},
     "output_type": "display_data"
    },
    {
     "name": "stdout",
     "output_type": "stream",
     "text": [
      "Scratch: [0.974359 1.       1.       1.       1.       0.974359 1.       1.\n",
      " 1.       1.       0.974359 1.       1.       1.       1.       0.974359\n",
      " 1.       1.       1.       1.       0.974359 1.       1.       1.\n",
      " 1.       0.974359 1.       1.       1.       1.       0.974359 1.\n",
      " 1.       1.       1.      ]\n",
      "Transfer: [0.346154 0.344086 0.384615 0.35     0.381443 0.346154 0.344086 0.384615\n",
      " 0.35     0.381443 0.346154 0.344086 0.384615 0.35     0.381443 0.346154\n",
      " 0.344086 0.384615 0.35     0.381443 0.346154 0.344086 1.       0.35\n",
      " 1.       0.346154 0.344086 1.       0.35     1.       0.346154 0.344086\n",
      " 0.384615 0.35     0.381443]\n",
      "Transfer & Revision: [0.974359 1.       1.       1.       1.       0.974359 1.       1.\n",
      " 1.       1.       0.974359 1.       1.       1.       1.       0.974359\n",
      " 1.       1.       1.       1.       0.974359 1.       1.       1.\n",
      " 1.       0.974359 1.       1.       1.       1.       0.961538 1.\n",
      " 1.       1.       1.      ]\n"
     ]
    },
    {
     "data": {
      "text/markdown": [
       "## F1"
      ],
      "text/plain": [
       "<IPython.core.display.Markdown object>"
      ]
     },
     "metadata": {},
     "output_type": "display_data"
    },
    {
     "name": "stdout",
     "output_type": "stream",
     "text": [
      "Scratch: [0.932515 0.898551 0.904348 0.987654 0.941748 0.932515 0.898551 0.904348\n",
      " 0.987654 0.941748 0.932515 0.898551 0.904348 0.987654 0.941748 0.932515\n",
      " 0.898551 0.904348 0.987654 0.941748 0.932515 0.898551 0.904348 0.987654\n",
      " 0.941748 0.932515 0.898551 0.904348 0.987654 0.941748 0.932515 0.898551\n",
      " 0.904348 0.987654 0.941748]\n",
      "Transfer: [0.514286 0.512    0.555556 0.518519 0.552239 0.514286 0.512    0.555556\n",
      " 0.518519 0.552239 0.514286 0.512    0.555556 0.518519 0.552239 0.514286\n",
      " 0.512    0.555556 0.518519 0.552239 0.514286 0.512    0.945455 0.518519\n",
      " 0.919431 0.514286 0.512    0.945455 0.518519 0.919431 0.514286 0.512\n",
      " 0.555556 0.518519 0.552239]\n",
      "Transfer & Revision: [0.932515 0.898551 0.904348 0.97561  0.941748 0.932515 0.898551 0.904348\n",
      " 0.97561  0.941748 0.932515 0.898551 0.904348 0.97561  0.941748 0.932515\n",
      " 0.898551 0.904348 0.97561  0.941748 0.932515 0.898551 0.904348 0.97561\n",
      " 0.941748 0.932515 0.898551 0.904348 0.97561  0.941748 0.925926 0.898551\n",
      " 0.904348 0.97561  0.941748]\n"
     ]
    },
    {
     "data": {
      "text/markdown": [
       "## Precision"
      ],
      "text/plain": [
       "<IPython.core.display.Markdown object>"
      ]
     },
     "metadata": {},
     "output_type": "display_data"
    },
    {
     "name": "stdout",
     "output_type": "stream",
     "text": [
      "Scratch: [0.894118 0.815789 0.825397 0.97561  0.889908 0.894118 0.815789 0.825397\n",
      " 0.97561  0.889908 0.894118 0.815789 0.825397 0.97561  0.889908 0.894118\n",
      " 0.815789 0.825397 0.97561  0.889908 0.894118 0.815789 0.825397 0.97561\n",
      " 0.889908 0.894118 0.815789 0.825397 0.97561  0.889908 0.894118 0.815789\n",
      " 0.825397 0.97561  0.889908]\n",
      "Transfer: [1.       1.       1.       1.       1.       1.       1.       1.\n",
      " 1.       1.       1.       1.       1.       1.       1.       1.\n",
      " 1.       1.       1.       1.       1.       1.       0.896552 1.\n",
      " 0.850877 1.       1.       0.896552 1.       0.850877 1.       1.\n",
      " 1.       1.       1.      ]\n",
      "Transfer & Revision: [0.894118 0.815789 0.825397 0.952381 0.889908 0.894118 0.815789 0.825397\n",
      " 0.952381 0.889908 0.894118 0.815789 0.825397 0.952381 0.889908 0.894118\n",
      " 0.815789 0.825397 0.952381 0.889908 0.894118 0.815789 0.825397 0.952381\n",
      " 0.889908 0.894118 0.815789 0.825397 0.952381 0.889908 0.892857 0.815789\n",
      " 0.825397 0.952381 0.889908]\n"
     ]
    },
    {
     "data": {
      "text/markdown": [
       "## Learning and Revision time"
      ],
      "text/plain": [
       "<IPython.core.display.Markdown object>"
      ]
     },
     "metadata": {},
     "output_type": "display_data"
    },
    {
     "name": "stdout",
     "output_type": "stream",
     "text": [
      "Scratch: [13.597  9.665  3.7   24.224  4.108 18.081 12.32   4.02  32.997  5.626\n",
      " 13.835  8.72   2.954 21.911  3.988 11.56   6.929  2.622 21.823  2.546\n",
      " 10.996  5.827  2.554 21.544  2.886 10.638  5.751  2.229 21.365  3.157\n",
      "  8.37   5.637  1.754 14.269  2.087]\n",
      "Transfer: [11.63   6.892  3.106 13.517  5.03  40.668  8.681  3.379 16.297  9.946\n",
      "  9.211  5.926  2.705 12.898  4.734  8.023  4.315  2.38  11.037  2.404\n",
      " 12.037  4.843  2.315 11.317  2.676  6.742  4.722  2.105 22.536  2.952\n",
      " 13.963  3.74   2.005  7.783  4.887]\n",
      "Transfer & Revision: [26.315 13.359  6.813 40.247  9.891 58.559 17.099  7.601 43.828 15.061\n",
      " 20.361 11.711  5.783 31.593  8.728 19.906  9.335  4.834 25.109  5.233\n",
      " 32.128  9.791  4.694 31.341  5.303 18.288  9.658  4.375 40.983  5.984\n",
      " 21.167  7.772  3.837 23.056  7.003]\n"
     ]
    },
    {
     "data": {
      "text/markdown": [
       "## Inference time"
      ],
      "text/plain": [
       "<IPython.core.display.Markdown object>"
      ]
     },
     "metadata": {},
     "output_type": "display_data"
    },
    {
     "name": "stdout",
     "output_type": "stream",
     "text": [
      "Scratch: [1.781 2.116 1.486 1.807 1.612 2.457 2.42  1.636 2.139 1.793 1.766 1.781\n",
      " 1.496 1.574 1.285 1.535 1.407 0.907 1.171 0.939 1.218 1.246 1.021 1.393\n",
      " 1.011 1.288 1.302 1.017 1.154 0.949 0.932 0.876 0.71  0.925 0.761]\n",
      "Transfer: [11.63   6.892  3.106 13.517  5.03  40.668  8.681  3.379 16.297  9.946\n",
      "  9.211  5.926  2.705 12.898  4.734  8.023  4.315  2.38  11.037  2.404\n",
      " 12.037  4.843  2.315 11.317  2.676  6.742  4.722  2.105 22.536  2.952\n",
      " 13.963  3.74   2.005  7.783  4.887]\n",
      "Transfer & Revision: [1.819 1.709 1.827 1.699 2.04  2.244 2.116 1.977 2.119 2.057 1.861 1.752\n",
      " 1.598 1.77  1.81  1.333 1.238 1.187 1.274 1.15  1.362 1.634 1.39  1.27\n",
      " 1.288 1.516 1.098 1.105 1.316 1.22  0.909 0.895 0.944 0.981 0.983]\n"
     ]
    },
    {
     "data": {
      "text/markdown": [
       "# Results for uwcse->imdb"
      ],
      "text/plain": [
       "<IPython.core.display.Markdown object>"
      ]
     },
     "metadata": {},
     "output_type": "display_data"
    },
    {
     "data": {
      "text/markdown": [
       "## AUC ROC"
      ],
      "text/plain": [
       "<IPython.core.display.Markdown object>"
      ]
     },
     "metadata": {},
     "output_type": "display_data"
    },
    {
     "name": "stdout",
     "output_type": "stream",
     "text": [
      "Scratch: [0.993865 0.993827 1.       0.994065 0.994065 0.993865 0.993827 1.\n",
      " 0.994065 0.994065 0.993865 0.993827 1.       0.994065 0.994065 0.993865\n",
      " 0.993827 1.       0.994065 0.994065 0.993865 0.993827 1.       0.994065\n",
      " 0.994065 0.993865 0.993827 1.       0.994065 0.994065]\n",
      "Transfer: [0.73224  0.744742 1.       0.746876 0.731485 0.73224  0.744742 1.\n",
      " 0.746876 0.731485 1.       0.972651 0.784242 0.971788 0.972396 0.878604\n",
      " 0.890604 1.       0.894205 0.879545 0.73224  0.744742 0.702963 0.746876\n",
      " 0.731485 0.73224  0.744742 1.       0.746876 0.731485]\n",
      "Transfer & Revision: [0.991174 0.958733 1.       0.991265 0.970326 0.991174 0.958733 1.\n",
      " 0.991265 0.970326 1.       0.958733 1.       0.996865 0.970326 0.991174\n",
      " 0.996685 1.       0.991265 0.991477 0.991174 0.958733 1.       0.991265\n",
      " 0.970326 0.991174 0.958733 1.       0.991265 0.970326]\n"
     ]
    },
    {
     "data": {
      "text/markdown": [
       "## AUC PR"
      ],
      "text/plain": [
       "<IPython.core.display.Markdown object>"
      ]
     },
     "metadata": {},
     "output_type": "display_data"
    },
    {
     "name": "stdout",
     "output_type": "stream",
     "text": [
      "Scratch: [0.987879 0.987805 1.       0.98827  0.98827  0.987879 0.987805 1.\n",
      " 0.98827  0.98827  0.987879 0.987805 1.       0.98827  0.98827  0.987879\n",
      " 0.987805 1.       0.98827  0.98827  0.987879 0.987805 1.       0.98827\n",
      " 0.98827  0.987879 0.987805 1.       0.98827  0.98827 ]\n",
      "Transfer: [0.799431 0.810433 1.       0.813296 0.798536 0.799431 0.810433 1.\n",
      " 0.813296 0.798536 1.       0.96818  0.816969 0.967438 0.967335 0.883313\n",
      " 0.894601 1.       0.898106 0.883747 0.799431 0.810433 0.776462 0.813296\n",
      " 0.798536 0.799431 0.810433 1.       0.813296 0.798536]\n",
      "Transfer & Revision: [0.981023 0.916335 1.       0.980939 0.943978 0.981023 0.916335 1.\n",
      " 0.980939 0.943978 1.       0.916335 1.       0.996129 0.943978 0.981023\n",
      " 0.995888 1.       0.980939 0.981681 0.981023 0.916335 1.       0.980939\n",
      " 0.943978 0.981023 0.916335 1.       0.980939 0.943978]\n"
     ]
    },
    {
     "data": {
      "text/markdown": [
       "## CLL"
      ],
      "text/plain": [
       "<IPython.core.display.Markdown object>"
      ]
     },
     "metadata": {},
     "output_type": "display_data"
    },
    {
     "name": "stdout",
     "output_type": "stream",
     "text": [
      "Scratch: [-0.107303 -0.107382 -0.094637 -0.10689  -0.10689  -0.107303 -0.107382\n",
      " -0.094637 -0.10689  -0.10689  -0.107303 -0.107382 -0.094637 -0.10689\n",
      " -0.10689  -0.107303 -0.107382 -0.094637 -0.10689  -0.10689  -0.107303\n",
      " -0.107382 -0.094637 -0.10689  -0.10689  -0.107303 -0.107382 -0.094637\n",
      " -0.10689  -0.10689 ]\n",
      "Transfer: [-0.536633 -0.52376  -0.098224 -0.522374 -0.541778 -0.533263 -0.519691\n",
      " -0.094637 -0.51999  -0.539865 -0.098018 -0.400403 -0.538659 -0.393067\n",
      " -0.419525 -0.485071 -0.473542 -0.4307   -0.474401 -0.492127 -0.536011\n",
      " -0.522837 -0.558335 -0.51999  -0.539865 -0.533781 -0.52036  -0.096286\n",
      " -0.521083 -0.540508]\n",
      "Transfer & Revision: [-0.10802  -0.158359 -0.096267 -0.108252 -0.155901 -0.108665 -0.158359\n",
      " -0.095081 -0.10937  -0.155901 -0.095916 -0.158359 -0.094637 -0.108313\n",
      " -0.155901 -0.110639 -0.153001 -0.09596  -0.109737 -0.151228 -0.107825\n",
      " -0.158359 -0.095312 -0.107986 -0.155901 -0.108531 -0.158359 -0.094637\n",
      " -0.108089 -0.155901]\n"
     ]
    },
    {
     "data": {
      "text/markdown": [
       "## Recall"
      ],
      "text/plain": [
       "<IPython.core.display.Markdown object>"
      ]
     },
     "metadata": {},
     "output_type": "display_data"
    },
    {
     "name": "stdout",
     "output_type": "stream",
     "text": [
      "Scratch: [1. 1. 1. 1. 1. 1. 1. 1. 1. 1. 1. 1. 1. 1. 1. 1. 1. 1. 1. 1. 1. 1. 1. 1.\n",
      " 1. 1. 1. 1. 1. 1.]\n",
      "Transfer: [0.43865  0.462963 1.       0.47181  0.436202 0.43865  0.462963 1.\n",
      " 0.47181  0.436202 1.       0.462963 0.397059 1.       0.436202 0.43865\n",
      " 0.462963 0.397059 0.47181  0.436202 0.43865  0.462963 0.397059 0.47181\n",
      " 0.436202 0.43865  0.462963 1.       0.47181  0.436202]\n",
      "Transfer & Revision: [1. 1. 1. 1. 1. 1. 1. 1. 1. 1. 1. 1. 1. 1. 1. 1. 1. 1. 1. 1. 1. 1. 1. 1.\n",
      " 1. 1. 1. 1. 1. 1.]\n"
     ]
    },
    {
     "data": {
      "text/markdown": [
       "## F1"
      ],
      "text/plain": [
       "<IPython.core.display.Markdown object>"
      ]
     },
     "metadata": {},
     "output_type": "display_data"
    },
    {
     "name": "stdout",
     "output_type": "stream",
     "text": [
      "Scratch: [0.993902 0.993865 1.       0.9941   0.9941   0.993902 0.993865 1.\n",
      " 0.9941   0.9941   0.993902 0.993865 1.       0.9941   0.9941   0.993902\n",
      " 0.993865 1.       0.9941   0.9941   0.993902 0.993865 1.       0.9941\n",
      " 0.9941   0.993902 0.993865 1.       0.9941   0.9941  ]\n",
      "Transfer: [0.609808 0.632911 1.       0.641129 0.607438 0.609808 0.632911 1.\n",
      " 0.641129 0.607438 1.       0.632911 0.568421 0.949296 0.607438 0.609808\n",
      " 0.632911 0.568421 0.641129 0.607438 0.609808 0.632911 0.568421 0.641129\n",
      " 0.607438 0.609808 0.632911 1.       0.641129 0.607438]\n",
      "Transfer & Revision: [0.993902 0.97006  1.       0.9941   0.971182 0.993902 0.97006  1.\n",
      " 0.9941   0.971182 1.       0.97006  1.       0.9941   0.971182 0.993902\n",
      " 0.97006  1.       0.9941   0.971182 0.993902 0.97006  1.       0.9941\n",
      " 0.971182 0.993902 0.97006  1.       0.9941   0.971182]\n"
     ]
    },
    {
     "data": {
      "text/markdown": [
       "## Precision"
      ],
      "text/plain": [
       "<IPython.core.display.Markdown object>"
      ]
     },
     "metadata": {},
     "output_type": "display_data"
    },
    {
     "name": "stdout",
     "output_type": "stream",
     "text": [
      "Scratch: [0.987879 0.987805 1.       0.98827  0.98827  0.987879 0.987805 1.\n",
      " 0.98827  0.98827  0.987879 0.987805 1.       0.98827  0.98827  0.987879\n",
      " 0.987805 1.       0.98827  0.98827  0.987879 0.987805 1.       0.98827\n",
      " 0.98827  0.987879 0.987805 1.       0.98827  0.98827 ]\n",
      "Transfer: [1.       1.       1.       1.       1.       1.       1.       1.\n",
      " 1.       1.       1.       1.       1.       0.903485 1.       1.\n",
      " 1.       1.       1.       1.       1.       1.       1.       1.\n",
      " 1.       1.       1.       1.       1.       1.      ]\n",
      "Transfer & Revision: [0.987879 0.94186  1.       0.98827  0.943978 0.987879 0.94186  1.\n",
      " 0.98827  0.943978 1.       0.94186  1.       0.98827  0.943978 0.987879\n",
      " 0.94186  1.       0.98827  0.943978 0.987879 0.94186  1.       0.98827\n",
      " 0.943978 0.987879 0.94186  1.       0.98827  0.943978]\n"
     ]
    },
    {
     "data": {
      "text/markdown": [
       "## Learning and Revision time"
      ],
      "text/plain": [
       "<IPython.core.display.Markdown object>"
      ]
     },
     "metadata": {},
     "output_type": "display_data"
    },
    {
     "name": "stdout",
     "output_type": "stream",
     "text": [
      "Scratch: [ 5.62   5.737 17.391  4.907  5.015  5.372  4.974 14.493  4.092  4.864\n",
      "  3.913  3.774 11.481  3.325  3.196  2.93   3.191  8.208  2.61   2.563\n",
      "  3.175  2.837  9.127  2.922  2.577  2.983  2.994  8.809  2.417  2.945]\n",
      "Transfer: [ 7.008  7.913 18.35   6.41   4.923  6.514  6.536 15.14   7.027  6.466\n",
      "  3.35   6.353 11.692  5.271  5.718  5.255  4.024  8.851  3.959  3.843\n",
      "  3.185  4.118 10.453  5.096  3.536  4.262  5.03   6.132  3.815  3.601]\n",
      "Transfer & Revision: [13.753 12.564 31.142 11.645  9.613 13.049 11.812 26.846 12.964 11.261\n",
      "  6.785 10.19  21.52   8.78   9.441  8.747  7.167 18.125  7.161  6.646\n",
      "  6.352  7.282 18.927  8.138  6.399  7.651  8.11  11.02   6.793  6.245]\n"
     ]
    },
    {
     "data": {
      "text/markdown": [
       "## Inference time"
      ],
      "text/plain": [
       "<IPython.core.display.Markdown object>"
      ]
     },
     "metadata": {},
     "output_type": "display_data"
    },
    {
     "name": "stdout",
     "output_type": "stream",
     "text": [
      "Scratch: [2.273 2.72  2.327 2.273 2.243 2.246 2.019 2.385 2.305 2.064 1.742 1.755\n",
      " 1.767 1.609 1.909 1.259 1.255 1.493 1.358 1.241 1.378 1.311 1.231 1.431\n",
      " 1.279 1.442 1.336 1.35  1.333 1.349]\n",
      "Transfer: [ 7.008  7.913 18.35   6.41   4.923  6.514  6.536 15.14   7.027  6.466\n",
      "  3.35   6.353 11.692  5.271  5.718  5.255  4.024  8.851  3.959  3.843\n",
      "  3.185  4.118 10.453  5.096  3.536  4.262  5.03   6.132  3.815  3.601]\n",
      "Transfer & Revision: [2.792 2.586 2.366 2.498 2.624 3.06  2.539 2.244 2.266 2.241 1.857 1.816\n",
      " 1.819 2.055 1.938 1.572 1.412 1.336 1.671 1.438 1.51  1.467 1.607 1.437\n",
      " 1.342 1.57  1.341 1.157 1.422 1.511]\n"
     ]
    },
    {
     "data": {
      "text/markdown": [
       "# Results for imdb->cora"
      ],
      "text/plain": [
       "<IPython.core.display.Markdown object>"
      ]
     },
     "metadata": {},
     "output_type": "display_data"
    },
    {
     "data": {
      "text/markdown": [
       "## AUC ROC"
      ],
      "text/plain": [
       "<IPython.core.display.Markdown object>"
      ]
     },
     "metadata": {},
     "output_type": "display_data"
    },
    {
     "name": "stdout",
     "output_type": "stream",
     "text": [
      "Scratch: []\n",
      "Transfer: []\n",
      "Transfer & Revision: []\n"
     ]
    },
    {
     "data": {
      "text/markdown": [
       "## AUC PR"
      ],
      "text/plain": [
       "<IPython.core.display.Markdown object>"
      ]
     },
     "metadata": {},
     "output_type": "display_data"
    },
    {
     "name": "stdout",
     "output_type": "stream",
     "text": [
      "Scratch: []\n",
      "Transfer: []\n",
      "Transfer & Revision: []\n"
     ]
    },
    {
     "data": {
      "text/markdown": [
       "## CLL"
      ],
      "text/plain": [
       "<IPython.core.display.Markdown object>"
      ]
     },
     "metadata": {},
     "output_type": "display_data"
    },
    {
     "name": "stdout",
     "output_type": "stream",
     "text": [
      "Scratch: []\n",
      "Transfer: []\n",
      "Transfer & Revision: []\n"
     ]
    },
    {
     "data": {
      "text/markdown": [
       "## Recall"
      ],
      "text/plain": [
       "<IPython.core.display.Markdown object>"
      ]
     },
     "metadata": {},
     "output_type": "display_data"
    },
    {
     "name": "stdout",
     "output_type": "stream",
     "text": [
      "Scratch: []\n",
      "Transfer: []\n",
      "Transfer & Revision: []\n"
     ]
    },
    {
     "data": {
      "text/markdown": [
       "## F1"
      ],
      "text/plain": [
       "<IPython.core.display.Markdown object>"
      ]
     },
     "metadata": {},
     "output_type": "display_data"
    },
    {
     "name": "stdout",
     "output_type": "stream",
     "text": [
      "Scratch: []\n",
      "Transfer: []\n",
      "Transfer & Revision: []\n"
     ]
    },
    {
     "data": {
      "text/markdown": [
       "## Precision"
      ],
      "text/plain": [
       "<IPython.core.display.Markdown object>"
      ]
     },
     "metadata": {},
     "output_type": "display_data"
    },
    {
     "name": "stdout",
     "output_type": "stream",
     "text": [
      "Scratch: []\n",
      "Transfer: []\n",
      "Transfer & Revision: []\n"
     ]
    },
    {
     "data": {
      "text/markdown": [
       "## Learning and Revision time"
      ],
      "text/plain": [
       "<IPython.core.display.Markdown object>"
      ]
     },
     "metadata": {},
     "output_type": "display_data"
    },
    {
     "name": "stdout",
     "output_type": "stream",
     "text": [
      "Scratch: []\n",
      "Transfer: []\n",
      "Transfer & Revision: []\n"
     ]
    },
    {
     "data": {
      "text/markdown": [
       "## Inference time"
      ],
      "text/plain": [
       "<IPython.core.display.Markdown object>"
      ]
     },
     "metadata": {},
     "output_type": "display_data"
    },
    {
     "name": "stdout",
     "output_type": "stream",
     "text": [
      "Scratch: []\n",
      "Transfer: []\n",
      "Transfer & Revision: []\n"
     ]
    },
    {
     "data": {
      "text/markdown": [
       "# Results for cora->imdb"
      ],
      "text/plain": [
       "<IPython.core.display.Markdown object>"
      ]
     },
     "metadata": {},
     "output_type": "display_data"
    },
    {
     "data": {
      "text/markdown": [
       "## AUC ROC"
      ],
      "text/plain": [
       "<IPython.core.display.Markdown object>"
      ]
     },
     "metadata": {},
     "output_type": "display_data"
    },
    {
     "name": "stdout",
     "output_type": "stream",
     "text": [
      "Scratch: [0.993865 0.993827 1.       0.994065 0.994065 0.993865 0.993827 1.\n",
      " 0.994065 0.994065]\n",
      "Transfer: [0.884969 0.87963  0.860294 0.882789 0.882789 0.884969 0.87963  0.860294\n",
      " 0.882789 0.882789]\n",
      "Transfer & Revision: [0.993865 0.993827 1.       0.994065 0.994065 0.993865 0.993827 1.\n",
      " 0.994065 0.994065]\n"
     ]
    },
    {
     "data": {
      "text/markdown": [
       "## AUC PR"
      ],
      "text/plain": [
       "<IPython.core.display.Markdown object>"
      ]
     },
     "metadata": {},
     "output_type": "display_data"
    },
    {
     "name": "stdout",
     "output_type": "stream",
     "text": [
      "Scratch: [0.987879 0.987805 1.       0.98827  0.98827  0.987879 0.987805 1.\n",
      " 0.98827  0.98827 ]\n",
      "Transfer: [0.812968 0.80597  0.781609 0.810096 0.810096 0.812968 0.80597  0.781609\n",
      " 0.810096 0.810096]\n",
      "Transfer & Revision: [0.987879 0.987805 1.       0.98827  0.98827  0.987879 0.987805 1.\n",
      " 0.98827  0.98827 ]\n"
     ]
    },
    {
     "data": {
      "text/markdown": [
       "## CLL"
      ],
      "text/plain": [
       "<IPython.core.display.Markdown object>"
      ]
     },
     "metadata": {},
     "output_type": "display_data"
    },
    {
     "name": "stdout",
     "output_type": "stream",
     "text": [
      "Scratch: [-0.107303 -0.107382 -0.094637 -0.10689  -0.10689  -0.107303 -0.107382\n",
      " -0.094637 -0.10689  -0.10689 ]\n",
      "Transfer: [-0.336814 -0.335702 -0.358446 -0.337351 -0.337351 -0.34187  -0.340091\n",
      " -0.361348 -0.342238 -0.342238]\n",
      "Transfer & Revision: [-0.107303 -0.107382 -0.094637 -0.10689  -0.10689  -0.107303 -0.107382\n",
      " -0.094713 -0.10689  -0.10689 ]\n"
     ]
    },
    {
     "data": {
      "text/markdown": [
       "## Recall"
      ],
      "text/plain": [
       "<IPython.core.display.Markdown object>"
      ]
     },
     "metadata": {},
     "output_type": "display_data"
    },
    {
     "name": "stdout",
     "output_type": "stream",
     "text": [
      "Scratch: [1. 1. 1. 1. 1. 1. 1. 1. 1. 1.]\n",
      "Transfer: [1. 1. 1. 1. 1. 1. 1. 1. 1. 1.]\n",
      "Transfer & Revision: [1. 1. 1. 1. 1. 1. 1. 1. 1. 1.]\n"
     ]
    },
    {
     "data": {
      "text/markdown": [
       "## F1"
      ],
      "text/plain": [
       "<IPython.core.display.Markdown object>"
      ]
     },
     "metadata": {},
     "output_type": "display_data"
    },
    {
     "name": "stdout",
     "output_type": "stream",
     "text": [
      "Scratch: [0.993902 0.993865 1.       0.9941   0.9941   0.993902 0.993865 1.\n",
      " 0.9941   0.9941  ]\n",
      "Transfer: [0.896836 0.892562 0.877419 0.895086 0.895086 0.896836 0.892562 0.877419\n",
      " 0.895086 0.895086]\n",
      "Transfer & Revision: [0.993902 0.993865 1.       0.9941   0.9941   0.993902 0.993865 1.\n",
      " 0.9941   0.9941  ]\n"
     ]
    },
    {
     "data": {
      "text/markdown": [
       "## Precision"
      ],
      "text/plain": [
       "<IPython.core.display.Markdown object>"
      ]
     },
     "metadata": {},
     "output_type": "display_data"
    },
    {
     "name": "stdout",
     "output_type": "stream",
     "text": [
      "Scratch: [0.987879 0.987805 1.       0.98827  0.98827  0.987879 0.987805 1.\n",
      " 0.98827  0.98827 ]\n",
      "Transfer: [0.812968 0.80597  0.781609 0.810096 0.810096 0.812968 0.80597  0.781609\n",
      " 0.810096 0.810096]\n",
      "Transfer & Revision: [0.987879 0.987805 1.       0.98827  0.98827  0.987879 0.987805 1.\n",
      " 0.98827  0.98827 ]\n"
     ]
    },
    {
     "data": {
      "text/markdown": [
       "## Learning and Revision time"
      ],
      "text/plain": [
       "<IPython.core.display.Markdown object>"
      ]
     },
     "metadata": {},
     "output_type": "display_data"
    },
    {
     "name": "stdout",
     "output_type": "stream",
     "text": [
      "Scratch: [2.215 2.287 7.896 2.316 2.283 1.851 1.686 6.028 1.74  1.575]\n",
      "Transfer: [3.062 1.742 4.619 2.884 2.433 2.714 1.541 5.117 1.952 1.704]\n",
      "Transfer & Revision: [ 5.142  3.643  9.268  4.615  4.562  4.626  3.642 11.844  3.55   3.489]\n"
     ]
    },
    {
     "data": {
      "text/markdown": [
       "## Inference time"
      ],
      "text/plain": [
       "<IPython.core.display.Markdown object>"
      ]
     },
     "metadata": {},
     "output_type": "display_data"
    },
    {
     "name": "stdout",
     "output_type": "stream",
     "text": [
      "Scratch: [0.842 1.058 0.886 0.795 0.865 0.789 0.768 0.775 0.774 0.745]\n",
      "Transfer: [3.062 1.742 4.619 2.884 2.433 2.714 1.541 5.117 1.952 1.704]\n",
      "Transfer & Revision: [0.904 0.893 1.003 0.953 0.964 0.823 0.805 0.824 0.878 0.826]\n"
     ]
    },
    {
     "data": {
      "text/markdown": [
       "# Results for yeast->twitter"
      ],
      "text/plain": [
       "<IPython.core.display.Markdown object>"
      ]
     },
     "metadata": {},
     "output_type": "display_data"
    },
    {
     "data": {
      "text/markdown": [
       "## AUC ROC"
      ],
      "text/plain": [
       "<IPython.core.display.Markdown object>"
      ]
     },
     "metadata": {},
     "output_type": "display_data"
    },
    {
     "name": "stdout",
     "output_type": "stream",
     "text": [
      "Scratch: []\n",
      "Transfer: []\n",
      "Transfer & Revision: []\n"
     ]
    },
    {
     "data": {
      "text/markdown": [
       "## AUC PR"
      ],
      "text/plain": [
       "<IPython.core.display.Markdown object>"
      ]
     },
     "metadata": {},
     "output_type": "display_data"
    },
    {
     "name": "stdout",
     "output_type": "stream",
     "text": [
      "Scratch: []\n",
      "Transfer: []\n",
      "Transfer & Revision: []\n"
     ]
    },
    {
     "data": {
      "text/markdown": [
       "## CLL"
      ],
      "text/plain": [
       "<IPython.core.display.Markdown object>"
      ]
     },
     "metadata": {},
     "output_type": "display_data"
    },
    {
     "name": "stdout",
     "output_type": "stream",
     "text": [
      "Scratch: []\n",
      "Transfer: []\n",
      "Transfer & Revision: []\n"
     ]
    },
    {
     "data": {
      "text/markdown": [
       "## Recall"
      ],
      "text/plain": [
       "<IPython.core.display.Markdown object>"
      ]
     },
     "metadata": {},
     "output_type": "display_data"
    },
    {
     "name": "stdout",
     "output_type": "stream",
     "text": [
      "Scratch: []\n",
      "Transfer: []\n",
      "Transfer & Revision: []\n"
     ]
    },
    {
     "data": {
      "text/markdown": [
       "## F1"
      ],
      "text/plain": [
       "<IPython.core.display.Markdown object>"
      ]
     },
     "metadata": {},
     "output_type": "display_data"
    },
    {
     "name": "stdout",
     "output_type": "stream",
     "text": [
      "Scratch: []\n",
      "Transfer: []\n",
      "Transfer & Revision: []\n"
     ]
    },
    {
     "data": {
      "text/markdown": [
       "## Precision"
      ],
      "text/plain": [
       "<IPython.core.display.Markdown object>"
      ]
     },
     "metadata": {},
     "output_type": "display_data"
    },
    {
     "name": "stdout",
     "output_type": "stream",
     "text": [
      "Scratch: []\n",
      "Transfer: []\n",
      "Transfer & Revision: []\n"
     ]
    },
    {
     "data": {
      "text/markdown": [
       "## Learning and Revision time"
      ],
      "text/plain": [
       "<IPython.core.display.Markdown object>"
      ]
     },
     "metadata": {},
     "output_type": "display_data"
    },
    {
     "name": "stdout",
     "output_type": "stream",
     "text": [
      "Scratch: []\n",
      "Transfer: []\n",
      "Transfer & Revision: []\n"
     ]
    },
    {
     "data": {
      "text/markdown": [
       "## Inference time"
      ],
      "text/plain": [
       "<IPython.core.display.Markdown object>"
      ]
     },
     "metadata": {},
     "output_type": "display_data"
    },
    {
     "name": "stdout",
     "output_type": "stream",
     "text": [
      "Scratch: []\n",
      "Transfer: []\n",
      "Transfer & Revision: []\n"
     ]
    },
    {
     "data": {
      "text/markdown": [
       "# Results for twitter->yeast"
      ],
      "text/plain": [
       "<IPython.core.display.Markdown object>"
      ]
     },
     "metadata": {},
     "output_type": "display_data"
    },
    {
     "data": {
      "text/markdown": [
       "## AUC ROC"
      ],
      "text/plain": [
       "<IPython.core.display.Markdown object>"
      ]
     },
     "metadata": {},
     "output_type": "display_data"
    },
    {
     "name": "stdout",
     "output_type": "stream",
     "text": [
      "Scratch: []\n",
      "Transfer: []\n",
      "Transfer & Revision: []\n"
     ]
    },
    {
     "data": {
      "text/markdown": [
       "## AUC PR"
      ],
      "text/plain": [
       "<IPython.core.display.Markdown object>"
      ]
     },
     "metadata": {},
     "output_type": "display_data"
    },
    {
     "name": "stdout",
     "output_type": "stream",
     "text": [
      "Scratch: []\n",
      "Transfer: []\n",
      "Transfer & Revision: []\n"
     ]
    },
    {
     "data": {
      "text/markdown": [
       "## CLL"
      ],
      "text/plain": [
       "<IPython.core.display.Markdown object>"
      ]
     },
     "metadata": {},
     "output_type": "display_data"
    },
    {
     "name": "stdout",
     "output_type": "stream",
     "text": [
      "Scratch: []\n",
      "Transfer: []\n",
      "Transfer & Revision: []\n"
     ]
    },
    {
     "data": {
      "text/markdown": [
       "## Recall"
      ],
      "text/plain": [
       "<IPython.core.display.Markdown object>"
      ]
     },
     "metadata": {},
     "output_type": "display_data"
    },
    {
     "name": "stdout",
     "output_type": "stream",
     "text": [
      "Scratch: []\n",
      "Transfer: []\n",
      "Transfer & Revision: []\n"
     ]
    },
    {
     "data": {
      "text/markdown": [
       "## F1"
      ],
      "text/plain": [
       "<IPython.core.display.Markdown object>"
      ]
     },
     "metadata": {},
     "output_type": "display_data"
    },
    {
     "name": "stdout",
     "output_type": "stream",
     "text": [
      "Scratch: []\n",
      "Transfer: []\n",
      "Transfer & Revision: []\n"
     ]
    },
    {
     "data": {
      "text/markdown": [
       "## Precision"
      ],
      "text/plain": [
       "<IPython.core.display.Markdown object>"
      ]
     },
     "metadata": {},
     "output_type": "display_data"
    },
    {
     "name": "stdout",
     "output_type": "stream",
     "text": [
      "Scratch: []\n",
      "Transfer: []\n",
      "Transfer & Revision: []\n"
     ]
    },
    {
     "data": {
      "text/markdown": [
       "## Learning and Revision time"
      ],
      "text/plain": [
       "<IPython.core.display.Markdown object>"
      ]
     },
     "metadata": {},
     "output_type": "display_data"
    },
    {
     "name": "stdout",
     "output_type": "stream",
     "text": [
      "Scratch: []\n",
      "Transfer: []\n",
      "Transfer & Revision: []\n"
     ]
    },
    {
     "data": {
      "text/markdown": [
       "## Inference time"
      ],
      "text/plain": [
       "<IPython.core.display.Markdown object>"
      ]
     },
     "metadata": {},
     "output_type": "display_data"
    },
    {
     "name": "stdout",
     "output_type": "stream",
     "text": [
      "Scratch: []\n",
      "Transfer: []\n",
      "Transfer & Revision: []\n"
     ]
    }
   ],
   "source": [
    "for j in range(len(experiments)):\n",
    "    dataset = experiments[j]['source'] + '->' + experiments[j]['target']\n",
    "    display(Markdown('# Results for ' + dataset))\n",
    "    table = []\n",
    "    for metric in ['AUC ROC', 'AUC PR', 'CLL', 'Recall', 'F1', 'Precision', 'Learning and Revision time', 'Inference time']:\n",
    "    #for metric in ['AUC ROC', 'AUC PR']:\n",
    "        if dataset in data['results']: \n",
    "            #for metric in ['AUC ROC', 'AUC PR']:\n",
    "            display(Markdown('## ' + metric))\n",
    "            if metric == 'Precision':\n",
    "                scratch = np.array([item['scratch']['Precision'][0] for sublist in data['results'][str(dataset)] for item in sublist])\n",
    "                parameter = np.array([item['transfer']['Parameter Learning results']['Precision'][0] for sublist in data['results'][str(dataset)] for item in sublist])\n",
    "                transfer = np.array([item['transfer']['Precision'][0] for sublist in data['results'][str(dataset)] for item in sublist])\n",
    "            elif metric == 'Learning and Revision time':\n",
    "                scratch = np.array([item['scratch']['Learning time'] for sublist in data['results'][str(dataset)] for item in sublist])\n",
    "                parameter = np.array([item['transfer']['Parameter Learning results']['Learning time'] for sublist in data['results'][str(dataset)] for item in sublist])\n",
    "                transfer = np.array([item['transfer']['Learning time'] for sublist in data['results'][str(dataset)] for item in sublist])\n",
    "            elif metric == 'Inference time':\n",
    "                scratch = np.array([item['scratch']['Inference time'] for sublist in data['results'][str(dataset)] for item in sublist])\n",
    "                parameter = np.array([item['transfer']['Parameter Learning results']['Learning time'] for sublist in data['results'][str(dataset)] for item in sublist])\n",
    "                transfer = np.array([item['transfer']['Inference time'] for sublist in data['results'][str(dataset)] for item in sublist])\n",
    "            else:\n",
    "                scratch = np.array([item['scratch'][metric] for sublist in data['results'][str(dataset)] for item in sublist])\n",
    "                parameter = np.array([item['transfer']['Parameter Learning results'][metric] for sublist in data['results'][str(dataset)] for item in sublist])\n",
    "                transfer = np.array([item['transfer'][metric] for sublist in data['results'][str(dataset)] for item in sublist])\n",
    "            print('Scratch: %s' % scratch)\n",
    "            print('Transfer: %s' % parameter)\n",
    "            print('Transfer & Revision: %s' % transfer)"
   ]
  },
  {
   "cell_type": "code",
   "execution_count": null,
   "metadata": {
    "collapsed": true
   },
   "outputs": [],
   "source": []
  }
 ],
 "metadata": {
  "anaconda-cloud": {},
  "kernelspec": {
   "display_name": "Python [conda env:anaconda3]",
   "language": "python",
   "name": "conda-env-anaconda3-py"
  },
  "language_info": {
   "codemirror_mode": {
    "name": "ipython",
    "version": 3
   },
   "file_extension": ".py",
   "mimetype": "text/x-python",
   "name": "python",
   "nbconvert_exporter": "python",
   "pygments_lexer": "ipython3",
   "version": "3.5.2"
  }
 },
 "nbformat": 4,
 "nbformat_minor": 1
}
