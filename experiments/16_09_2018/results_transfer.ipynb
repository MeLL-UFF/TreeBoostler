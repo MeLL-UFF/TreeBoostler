{
 "cells": [
  {
   "cell_type": "code",
   "execution_count": 1,
   "metadata": {
    "collapsed": true
   },
   "outputs": [],
   "source": [
    "import matplotlib.pyplot as plt\n",
    "from IPython.display import display, Markdown, Latex\n",
    "import numpy as np\n",
    "import json\n",
    "import pandas as pd\n",
    "\n",
    "with open('transfer_experiment.json', 'r') as fp:\n",
    "    data = json.load(fp)"
   ]
  },
  {
   "cell_type": "code",
   "execution_count": 2,
   "metadata": {
    "collapsed": false
   },
   "outputs": [
    {
     "data": {
      "text/markdown": [
       "# Results for AUC ROC"
      ],
      "text/plain": [
       "<IPython.core.display.Markdown object>"
      ]
     },
     "metadata": {},
     "output_type": "display_data"
    },
    {
     "data": {
      "text/html": [
       "<div>\n",
       "<table border=\"1\" class=\"dataframe\">\n",
       "  <thead>\n",
       "    <tr style=\"text-align: right;\">\n",
       "      <th></th>\n",
       "      <th>Experiment</th>\n",
       "      <th>Transfer Learning</th>\n",
       "      <th>Transfer Learning with Revision Theory</th>\n",
       "      <th>Learning from scratch</th>\n",
       "    </tr>\n",
       "  </thead>\n",
       "  <tbody>\n",
       "    <tr>\n",
       "      <th>0</th>\n",
       "      <td>imdb-&gt;uwcse</td>\n",
       "      <td>0.688 +/- 0.018</td>\n",
       "      <td>0.825 +/- 0.241</td>\n",
       "      <td>0.946 +/- 0.045</td>\n",
       "    </tr>\n",
       "    <tr>\n",
       "      <th>1</th>\n",
       "      <td>yeast-&gt;twitter</td>\n",
       "      <td>0.702 +/- 0.062</td>\n",
       "      <td>0.702 +/- 0.062</td>\n",
       "      <td>0.723 +/- 0.047</td>\n",
       "    </tr>\n",
       "    <tr>\n",
       "      <th>2</th>\n",
       "      <td>twitter-&gt;yeast</td>\n",
       "      <td>0.616 +/- 0.084</td>\n",
       "      <td>0.616 +/- 0.084</td>\n",
       "      <td>0.640 +/- 0.037</td>\n",
       "    </tr>\n",
       "    <tr>\n",
       "      <th>3</th>\n",
       "      <td>nell_finances-&gt;nell_sports</td>\n",
       "      <td>0.838 +/- 0.092</td>\n",
       "      <td>0.880 +/- 0.096</td>\n",
       "      <td>0.923 +/- 0.020</td>\n",
       "    </tr>\n",
       "  </tbody>\n",
       "</table>\n",
       "</div>"
      ],
      "text/plain": [
       "                   Experiment Transfer Learning  \\\n",
       "0                 imdb->uwcse   0.688 +/- 0.018   \n",
       "1              yeast->twitter   0.702 +/- 0.062   \n",
       "2              twitter->yeast   0.616 +/- 0.084   \n",
       "3  nell_finances->nell_sports   0.838 +/- 0.092   \n",
       "\n",
       "  Transfer Learning with Revision Theory Learning from scratch  \n",
       "0                        0.825 +/- 0.241       0.946 +/- 0.045  \n",
       "1                        0.702 +/- 0.062       0.723 +/- 0.047  \n",
       "2                        0.616 +/- 0.084       0.640 +/- 0.037  \n",
       "3                        0.880 +/- 0.096       0.923 +/- 0.020  "
      ]
     },
     "metadata": {},
     "output_type": "display_data"
    },
    {
     "data": {
      "text/markdown": [
       "# Results for AUC PR"
      ],
      "text/plain": [
       "<IPython.core.display.Markdown object>"
      ]
     },
     "metadata": {},
     "output_type": "display_data"
    },
    {
     "data": {
      "text/html": [
       "<div>\n",
       "<table border=\"1\" class=\"dataframe\">\n",
       "  <thead>\n",
       "    <tr style=\"text-align: right;\">\n",
       "      <th></th>\n",
       "      <th>Experiment</th>\n",
       "      <th>Transfer Learning</th>\n",
       "      <th>Transfer Learning with Revision Theory</th>\n",
       "      <th>Learning from scratch</th>\n",
       "    </tr>\n",
       "  </thead>\n",
       "  <tbody>\n",
       "    <tr>\n",
       "      <th>0</th>\n",
       "      <td>imdb-&gt;uwcse</td>\n",
       "      <td>0.759 +/- 0.023</td>\n",
       "      <td>0.837 +/- 0.147</td>\n",
       "      <td>0.909 +/- 0.088</td>\n",
       "    </tr>\n",
       "    <tr>\n",
       "      <th>1</th>\n",
       "      <td>yeast-&gt;twitter</td>\n",
       "      <td>0.670 +/- 0.080</td>\n",
       "      <td>0.670 +/- 0.080</td>\n",
       "      <td>0.696 +/- 0.046</td>\n",
       "    </tr>\n",
       "    <tr>\n",
       "      <th>2</th>\n",
       "      <td>twitter-&gt;yeast</td>\n",
       "      <td>0.616 +/- 0.048</td>\n",
       "      <td>0.620 +/- 0.041</td>\n",
       "      <td>0.655 +/- 0.035</td>\n",
       "    </tr>\n",
       "    <tr>\n",
       "      <th>3</th>\n",
       "      <td>nell_finances-&gt;nell_sports</td>\n",
       "      <td>0.823 +/- 0.119</td>\n",
       "      <td>0.869 +/- 0.122</td>\n",
       "      <td>0.907 +/- 0.028</td>\n",
       "    </tr>\n",
       "  </tbody>\n",
       "</table>\n",
       "</div>"
      ],
      "text/plain": [
       "                   Experiment Transfer Learning  \\\n",
       "0                 imdb->uwcse   0.759 +/- 0.023   \n",
       "1              yeast->twitter   0.670 +/- 0.080   \n",
       "2              twitter->yeast   0.616 +/- 0.048   \n",
       "3  nell_finances->nell_sports   0.823 +/- 0.119   \n",
       "\n",
       "  Transfer Learning with Revision Theory Learning from scratch  \n",
       "0                        0.837 +/- 0.147       0.909 +/- 0.088  \n",
       "1                        0.670 +/- 0.080       0.696 +/- 0.046  \n",
       "2                        0.620 +/- 0.041       0.655 +/- 0.035  \n",
       "3                        0.869 +/- 0.122       0.907 +/- 0.028  "
      ]
     },
     "metadata": {},
     "output_type": "display_data"
    },
    {
     "data": {
      "text/markdown": [
       "# Results for CLL"
      ],
      "text/plain": [
       "<IPython.core.display.Markdown object>"
      ]
     },
     "metadata": {},
     "output_type": "display_data"
    },
    {
     "data": {
      "text/html": [
       "<div>\n",
       "<table border=\"1\" class=\"dataframe\">\n",
       "  <thead>\n",
       "    <tr style=\"text-align: right;\">\n",
       "      <th></th>\n",
       "      <th>Experiment</th>\n",
       "      <th>Transfer Learning</th>\n",
       "      <th>Transfer Learning with Revision Theory</th>\n",
       "      <th>Learning from scratch</th>\n",
       "    </tr>\n",
       "  </thead>\n",
       "  <tbody>\n",
       "    <tr>\n",
       "      <th>0</th>\n",
       "      <td>imdb-&gt;uwcse</td>\n",
       "      <td>-0.575 +/- 0.023</td>\n",
       "      <td>-0.429 +/- 0.283</td>\n",
       "      <td>-0.241 +/- 0.034</td>\n",
       "    </tr>\n",
       "    <tr>\n",
       "      <th>1</th>\n",
       "      <td>yeast-&gt;twitter</td>\n",
       "      <td>-0.632 +/- 0.018</td>\n",
       "      <td>-0.633 +/- 0.017</td>\n",
       "      <td>-0.614 +/- 0.044</td>\n",
       "    </tr>\n",
       "    <tr>\n",
       "      <th>2</th>\n",
       "      <td>twitter-&gt;yeast</td>\n",
       "      <td>-0.668 +/- 0.024</td>\n",
       "      <td>-0.668 +/- 0.024</td>\n",
       "      <td>-0.666 +/- 0.019</td>\n",
       "    </tr>\n",
       "    <tr>\n",
       "      <th>3</th>\n",
       "      <td>nell_finances-&gt;nell_sports</td>\n",
       "      <td>-0.546 +/- 0.106</td>\n",
       "      <td>-0.473 +/- 0.132</td>\n",
       "      <td>-0.373 +/- 0.026</td>\n",
       "    </tr>\n",
       "  </tbody>\n",
       "</table>\n",
       "</div>"
      ],
      "text/plain": [
       "                   Experiment Transfer Learning  \\\n",
       "0                 imdb->uwcse  -0.575 +/- 0.023   \n",
       "1              yeast->twitter  -0.632 +/- 0.018   \n",
       "2              twitter->yeast  -0.668 +/- 0.024   \n",
       "3  nell_finances->nell_sports  -0.546 +/- 0.106   \n",
       "\n",
       "  Transfer Learning with Revision Theory Learning from scratch  \n",
       "0                       -0.429 +/- 0.283      -0.241 +/- 0.034  \n",
       "1                       -0.633 +/- 0.017      -0.614 +/- 0.044  \n",
       "2                       -0.668 +/- 0.024      -0.666 +/- 0.019  \n",
       "3                       -0.473 +/- 0.132      -0.373 +/- 0.026  "
      ]
     },
     "metadata": {},
     "output_type": "display_data"
    },
    {
     "data": {
      "text/markdown": [
       "# Results for Recall"
      ],
      "text/plain": [
       "<IPython.core.display.Markdown object>"
      ]
     },
     "metadata": {},
     "output_type": "display_data"
    },
    {
     "data": {
      "text/html": [
       "<div>\n",
       "<table border=\"1\" class=\"dataframe\">\n",
       "  <thead>\n",
       "    <tr style=\"text-align: right;\">\n",
       "      <th></th>\n",
       "      <th>Experiment</th>\n",
       "      <th>Transfer Learning</th>\n",
       "      <th>Transfer Learning with Revision Theory</th>\n",
       "      <th>Learning from scratch</th>\n",
       "    </tr>\n",
       "  </thead>\n",
       "  <tbody>\n",
       "    <tr>\n",
       "      <th>0</th>\n",
       "      <td>imdb-&gt;uwcse</td>\n",
       "      <td>0.361 +/- 0.036</td>\n",
       "      <td>0.690 +/- 0.640</td>\n",
       "      <td>0.985 +/- 0.037</td>\n",
       "    </tr>\n",
       "    <tr>\n",
       "      <th>1</th>\n",
       "      <td>yeast-&gt;twitter</td>\n",
       "      <td>0.673 +/- 0.255</td>\n",
       "      <td>0.673 +/- 0.255</td>\n",
       "      <td>0.513 +/- 0.034</td>\n",
       "    </tr>\n",
       "    <tr>\n",
       "      <th>2</th>\n",
       "      <td>twitter-&gt;yeast</td>\n",
       "      <td>0.447 +/- 0.347</td>\n",
       "      <td>0.403 +/- 0.361</td>\n",
       "      <td>0.421 +/- 0.190</td>\n",
       "    </tr>\n",
       "    <tr>\n",
       "      <th>3</th>\n",
       "      <td>nell_finances-&gt;nell_sports</td>\n",
       "      <td>0.719 +/- 0.173</td>\n",
       "      <td>0.748 +/- 0.117</td>\n",
       "      <td>0.811 +/- 0.056</td>\n",
       "    </tr>\n",
       "  </tbody>\n",
       "</table>\n",
       "</div>"
      ],
      "text/plain": [
       "                   Experiment Transfer Learning  \\\n",
       "0                 imdb->uwcse   0.361 +/- 0.036   \n",
       "1              yeast->twitter   0.673 +/- 0.255   \n",
       "2              twitter->yeast   0.447 +/- 0.347   \n",
       "3  nell_finances->nell_sports   0.719 +/- 0.173   \n",
       "\n",
       "  Transfer Learning with Revision Theory Learning from scratch  \n",
       "0                        0.690 +/- 0.640       0.985 +/- 0.037  \n",
       "1                        0.673 +/- 0.255       0.513 +/- 0.034  \n",
       "2                        0.403 +/- 0.361       0.421 +/- 0.190  \n",
       "3                        0.748 +/- 0.117       0.811 +/- 0.056  "
      ]
     },
     "metadata": {},
     "output_type": "display_data"
    },
    {
     "data": {
      "text/markdown": [
       "# Results for F1"
      ],
      "text/plain": [
       "<IPython.core.display.Markdown object>"
      ]
     },
     "metadata": {},
     "output_type": "display_data"
    },
    {
     "data": {
      "text/html": [
       "<div>\n",
       "<table border=\"1\" class=\"dataframe\">\n",
       "  <thead>\n",
       "    <tr style=\"text-align: right;\">\n",
       "      <th></th>\n",
       "      <th>Experiment</th>\n",
       "      <th>Transfer Learning</th>\n",
       "      <th>Transfer Learning with Revision Theory</th>\n",
       "      <th>Learning from scratch</th>\n",
       "    </tr>\n",
       "  </thead>\n",
       "  <tbody>\n",
       "    <tr>\n",
       "      <th>0</th>\n",
       "      <td>imdb-&gt;uwcse</td>\n",
       "      <td>0.530 +/- 0.039</td>\n",
       "      <td>0.725 +/- 0.386</td>\n",
       "      <td>0.927 +/- 0.007</td>\n",
       "    </tr>\n",
       "    <tr>\n",
       "      <th>1</th>\n",
       "      <td>yeast-&gt;twitter</td>\n",
       "      <td>0.661 +/- 0.093</td>\n",
       "      <td>0.661 +/- 0.093</td>\n",
       "      <td>0.615 +/- 0.035</td>\n",
       "    </tr>\n",
       "    <tr>\n",
       "      <th>2</th>\n",
       "      <td>twitter-&gt;yeast</td>\n",
       "      <td>0.501 +/- 0.287</td>\n",
       "      <td>0.469 +/- 0.304</td>\n",
       "      <td>0.507 +/- 0.128</td>\n",
       "    </tr>\n",
       "    <tr>\n",
       "      <th>3</th>\n",
       "      <td>nell_finances-&gt;nell_sports</td>\n",
       "      <td>0.769 +/- 0.133</td>\n",
       "      <td>0.805 +/- 0.107</td>\n",
       "      <td>0.851 +/- 0.023</td>\n",
       "    </tr>\n",
       "  </tbody>\n",
       "</table>\n",
       "</div>"
      ],
      "text/plain": [
       "                   Experiment Transfer Learning  \\\n",
       "0                 imdb->uwcse   0.530 +/- 0.039   \n",
       "1              yeast->twitter   0.661 +/- 0.093   \n",
       "2              twitter->yeast   0.501 +/- 0.287   \n",
       "3  nell_finances->nell_sports   0.769 +/- 0.133   \n",
       "\n",
       "  Transfer Learning with Revision Theory Learning from scratch  \n",
       "0                        0.725 +/- 0.386       0.927 +/- 0.007  \n",
       "1                        0.661 +/- 0.093       0.615 +/- 0.035  \n",
       "2                        0.469 +/- 0.304       0.507 +/- 0.128  \n",
       "3                        0.805 +/- 0.107       0.851 +/- 0.023  "
      ]
     },
     "metadata": {},
     "output_type": "display_data"
    },
    {
     "data": {
      "text/markdown": [
       "# Results for Precision"
      ],
      "text/plain": [
       "<IPython.core.display.Markdown object>"
      ]
     },
     "metadata": {},
     "output_type": "display_data"
    },
    {
     "data": {
      "text/html": [
       "<div>\n",
       "<table border=\"1\" class=\"dataframe\">\n",
       "  <thead>\n",
       "    <tr style=\"text-align: right;\">\n",
       "      <th></th>\n",
       "      <th>Experiment</th>\n",
       "      <th>Transfer Learning</th>\n",
       "      <th>Transfer Learning with Revision Theory</th>\n",
       "      <th>Learning from scratch</th>\n",
       "    </tr>\n",
       "  </thead>\n",
       "  <tbody>\n",
       "    <tr>\n",
       "      <th>0</th>\n",
       "      <td>imdb-&gt;uwcse</td>\n",
       "      <td>0.996 +/- 0.030</td>\n",
       "      <td>0.911 +/- 0.164</td>\n",
       "      <td>0.877 +/- 0.038</td>\n",
       "    </tr>\n",
       "    <tr>\n",
       "      <th>1</th>\n",
       "      <td>yeast-&gt;twitter</td>\n",
       "      <td>0.672 +/- 0.101</td>\n",
       "      <td>0.672 +/- 0.101</td>\n",
       "      <td>0.769 +/- 0.037</td>\n",
       "    </tr>\n",
       "    <tr>\n",
       "      <th>2</th>\n",
       "      <td>twitter-&gt;yeast</td>\n",
       "      <td>0.678 +/- 0.244</td>\n",
       "      <td>0.684 +/- 0.238</td>\n",
       "      <td>0.662 +/- 0.045</td>\n",
       "    </tr>\n",
       "    <tr>\n",
       "      <th>3</th>\n",
       "      <td>nell_finances-&gt;nell_sports</td>\n",
       "      <td>0.832 +/- 0.140</td>\n",
       "      <td>0.874 +/- 0.133</td>\n",
       "      <td>0.897 +/- 0.045</td>\n",
       "    </tr>\n",
       "  </tbody>\n",
       "</table>\n",
       "</div>"
      ],
      "text/plain": [
       "                   Experiment Transfer Learning  \\\n",
       "0                 imdb->uwcse   0.996 +/- 0.030   \n",
       "1              yeast->twitter   0.672 +/- 0.101   \n",
       "2              twitter->yeast   0.678 +/- 0.244   \n",
       "3  nell_finances->nell_sports   0.832 +/- 0.140   \n",
       "\n",
       "  Transfer Learning with Revision Theory Learning from scratch  \n",
       "0                        0.911 +/- 0.164       0.877 +/- 0.038  \n",
       "1                        0.672 +/- 0.101       0.769 +/- 0.037  \n",
       "2                        0.684 +/- 0.238       0.662 +/- 0.045  \n",
       "3                        0.874 +/- 0.133       0.897 +/- 0.045  "
      ]
     },
     "metadata": {},
     "output_type": "display_data"
    },
    {
     "data": {
      "text/markdown": [
       "# Results for Learning and Revision time"
      ],
      "text/plain": [
       "<IPython.core.display.Markdown object>"
      ]
     },
     "metadata": {},
     "output_type": "display_data"
    },
    {
     "data": {
      "text/html": [
       "<div>\n",
       "<table border=\"1\" class=\"dataframe\">\n",
       "  <thead>\n",
       "    <tr style=\"text-align: right;\">\n",
       "      <th></th>\n",
       "      <th>Experiment</th>\n",
       "      <th>Transfer Learning</th>\n",
       "      <th>Transfer Learning with Revision Theory</th>\n",
       "      <th>Learning from scratch</th>\n",
       "    </tr>\n",
       "  </thead>\n",
       "  <tbody>\n",
       "    <tr>\n",
       "      <th>0</th>\n",
       "      <td>imdb-&gt;uwcse</td>\n",
       "      <td>4.218 +/- 6.795</td>\n",
       "      <td>12.335 +/- 14.886</td>\n",
       "      <td>6.820 +/- 9.161</td>\n",
       "    </tr>\n",
       "    <tr>\n",
       "      <th>1</th>\n",
       "      <td>yeast-&gt;twitter</td>\n",
       "      <td>110.809 +/- 115.171</td>\n",
       "      <td>238.517 +/- 222.085</td>\n",
       "      <td>375.167 +/- 495.725</td>\n",
       "    </tr>\n",
       "    <tr>\n",
       "      <th>2</th>\n",
       "      <td>twitter-&gt;yeast</td>\n",
       "      <td>81.425 +/- 273.772</td>\n",
       "      <td>270.421 +/- 721.664</td>\n",
       "      <td>197.261 +/- 380.815</td>\n",
       "    </tr>\n",
       "    <tr>\n",
       "      <th>3</th>\n",
       "      <td>nell_finances-&gt;nell_sports</td>\n",
       "      <td>220.848 +/- 647.840</td>\n",
       "      <td>633.659 +/- 981.307</td>\n",
       "      <td>412.227 +/- 694.615</td>\n",
       "    </tr>\n",
       "  </tbody>\n",
       "</table>\n",
       "</div>"
      ],
      "text/plain": [
       "                   Experiment    Transfer Learning  \\\n",
       "0                 imdb->uwcse      4.218 +/- 6.795   \n",
       "1              yeast->twitter  110.809 +/- 115.171   \n",
       "2              twitter->yeast   81.425 +/- 273.772   \n",
       "3  nell_finances->nell_sports  220.848 +/- 647.840   \n",
       "\n",
       "  Transfer Learning with Revision Theory Learning from scratch  \n",
       "0                      12.335 +/- 14.886       6.820 +/- 9.161  \n",
       "1                    238.517 +/- 222.085   375.167 +/- 495.725  \n",
       "2                    270.421 +/- 721.664   197.261 +/- 380.815  \n",
       "3                    633.659 +/- 981.307   412.227 +/- 694.615  "
      ]
     },
     "metadata": {},
     "output_type": "display_data"
    },
    {
     "data": {
      "text/markdown": [
       "# Results for Inference time"
      ],
      "text/plain": [
       "<IPython.core.display.Markdown object>"
      ]
     },
     "metadata": {},
     "output_type": "display_data"
    },
    {
     "data": {
      "text/html": [
       "<div>\n",
       "<table border=\"1\" class=\"dataframe\">\n",
       "  <thead>\n",
       "    <tr style=\"text-align: right;\">\n",
       "      <th></th>\n",
       "      <th>Experiment</th>\n",
       "      <th>Transfer Learning</th>\n",
       "      <th>Transfer Learning with Revision Theory</th>\n",
       "      <th>Learning from scratch</th>\n",
       "    </tr>\n",
       "  </thead>\n",
       "  <tbody>\n",
       "    <tr>\n",
       "      <th>0</th>\n",
       "      <td>imdb-&gt;uwcse</td>\n",
       "      <td>4.218 +/- 6.795</td>\n",
       "      <td>0.744 +/- 0.260</td>\n",
       "      <td>0.727 +/- 0.163</td>\n",
       "    </tr>\n",
       "    <tr>\n",
       "      <th>1</th>\n",
       "      <td>yeast-&gt;twitter</td>\n",
       "      <td>110.809 +/- 115.171</td>\n",
       "      <td>3.508 +/- 8.629</td>\n",
       "      <td>1.475 +/- 0.282</td>\n",
       "    </tr>\n",
       "    <tr>\n",
       "      <th>2</th>\n",
       "      <td>twitter-&gt;yeast</td>\n",
       "      <td>81.425 +/- 273.772</td>\n",
       "      <td>2.775 +/- 1.529</td>\n",
       "      <td>8.088 +/- 9.741</td>\n",
       "    </tr>\n",
       "    <tr>\n",
       "      <th>3</th>\n",
       "      <td>nell_finances-&gt;nell_sports</td>\n",
       "      <td>220.848 +/- 647.840</td>\n",
       "      <td>5.017 +/- 7.651</td>\n",
       "      <td>8.972 +/- 18.481</td>\n",
       "    </tr>\n",
       "  </tbody>\n",
       "</table>\n",
       "</div>"
      ],
      "text/plain": [
       "                   Experiment    Transfer Learning  \\\n",
       "0                 imdb->uwcse      4.218 +/- 6.795   \n",
       "1              yeast->twitter  110.809 +/- 115.171   \n",
       "2              twitter->yeast   81.425 +/- 273.772   \n",
       "3  nell_finances->nell_sports  220.848 +/- 647.840   \n",
       "\n",
       "  Transfer Learning with Revision Theory Learning from scratch  \n",
       "0                        0.744 +/- 0.260       0.727 +/- 0.163  \n",
       "1                        3.508 +/- 8.629       1.475 +/- 0.282  \n",
       "2                        2.775 +/- 1.529       8.088 +/- 9.741  \n",
       "3                        5.017 +/- 7.651      8.972 +/- 18.481  "
      ]
     },
     "metadata": {},
     "output_type": "display_data"
    }
   ],
   "source": [
    "experiments = [\n",
    "            {'source':'imdb', 'target':'uwcse', 'predicate':'workedunder'},\n",
    "            {'source':'uwcse', 'target':'imdb', 'predicate':'advisedby'},\n",
    "            {'source':'imdb', 'target':'cora', 'predicate':'workedunder'},\n",
    "            {'source':'cora', 'target':'imdb', 'predicate':'samevenue'},\n",
    "            {'source':'yeast', 'target':'twitter', 'predicate':'proteinclass'},\n",
    "            {'source':'twitter', 'target':'yeast', 'predicate':'accounttype'},\n",
    "            {'source':'nell_sports', 'target':'nell_finances', 'predicate':'teamplayssport'},\n",
    "            {'source':'nell_finances', 'target':'nell_sports', 'predicate':'companyeconomicsector'},\n",
    "            #{'source':'yeast', 'target':'webkb', 'predicate':'proteinclass'},\n",
    "            #{'source':'webkb', 'target':'yeast', 'predicate':'departmentof'},\n",
    "            #{'source':'twitter', 'target':'webkb', 'predicate':'accounttype'},\n",
    "            #{'source':'webkb', 'target':'twitter', 'predicate':'pageclass'},\n",
    "            ]\n",
    "\n",
    "for metric in ['AUC ROC', 'AUC PR', 'CLL', 'Recall', 'F1', 'Precision', 'Learning and Revision time', 'Inference time']:\n",
    "    display(Markdown('# Results for ' + metric))\n",
    "    table = []\n",
    "    for j in range(len(experiments)):\n",
    "        dataset = experiments[j]['source'] + '->' + experiments[j]['target']\n",
    "        if dataset in data['results']: \n",
    "            #for metric in ['AUC ROC', 'AUC PR']:\n",
    "                #display(Markdown('## ' + metric))\n",
    "            if metric == 'Precision':\n",
    "                scratch = np.array([item['scratch']['Precision'][0] for sublist in data['results'][str(dataset)] for item in sublist])\n",
    "                parameter = np.array([item['transfer']['Parameter Learning results']['Precision'][0] for sublist in data['results'][str(dataset)] for item in sublist])\n",
    "                transfer = np.array([item['transfer']['Precision'][0] for sublist in data['results'][str(dataset)] for item in sublist])\n",
    "            elif metric == 'Learning and Revision time':\n",
    "                scratch = np.array([item['scratch']['Learning time'] for sublist in data['results'][str(dataset)] for item in sublist])\n",
    "                parameter = np.array([item['transfer']['Parameter Learning results']['Learning time'] for sublist in data['results'][str(dataset)] for item in sublist])\n",
    "                transfer = np.array([item['transfer']['Learning time'] for sublist in data['results'][str(dataset)] for item in sublist])\n",
    "            elif metric == 'Inference time':\n",
    "                scratch = np.array([item['scratch']['Inference time'] for sublist in data['results'][str(dataset)] for item in sublist])\n",
    "                parameter = np.array([item['transfer']['Parameter Learning results']['Learning time'] for sublist in data['results'][str(dataset)] for item in sublist])\n",
    "                transfer = np.array([item['transfer']['Inference time'] for sublist in data['results'][str(dataset)] for item in sublist])\n",
    "            else:\n",
    "                scratch = np.array([item['scratch'][metric] for sublist in data['results'][str(dataset)] for item in sublist])\n",
    "                parameter = np.array([item['transfer']['Parameter Learning results'][metric] for sublist in data['results'][str(dataset)] for item in sublist])\n",
    "                transfer = np.array([item['transfer'][metric] for sublist in data['results'][str(dataset)] for item in sublist])\n",
    "            table.append([dataset, '%.3f +/- %.3f' % (parameter.mean(), 2 * parameter.std()),\n",
    "            '%.3f +/- %.3f' % (transfer.mean(), 2 * transfer.std()),\n",
    "            '%.3f +/- %.3f' % (scratch.mean(), 2 * scratch.std())])\n",
    "    display(pd.DataFrame(table, columns=['Experiment', 'Transfer Learning', 'Transfer Learning with Revision Theory', 'Learning from scratch']))"
   ]
  },
  {
   "cell_type": "code",
   "execution_count": 3,
   "metadata": {
    "collapsed": false
   },
   "outputs": [
    {
     "data": {
      "text/markdown": [
       "# Results for imdb->uwcse"
      ],
      "text/plain": [
       "<IPython.core.display.Markdown object>"
      ]
     },
     "metadata": {},
     "output_type": "display_data"
    },
    {
     "data": {
      "text/markdown": [
       "## AUC ROC"
      ],
      "text/plain": [
       "<IPython.core.display.Markdown object>"
      ]
     },
     "metadata": {},
     "output_type": "display_data"
    },
    {
     "name": "stdout",
     "output_type": "stream",
     "text": [
      "Scratch: [0.944938 0.917794 0.923077 0.978828 0.960942 0.944938 0.912013 0.923077\n",
      " 0.984922 0.957434 0.944938 0.929934 0.923077 0.974297 0.957434 0.944938\n",
      " 0.929934 0.923077 0.978047 0.960942 0.944938 0.912938 0.923077 0.982031\n",
      " 0.960942]\n",
      "Transfer: [0.685651 0.66129  0.698225 0.687188 0.680412 0.685651 0.679096 0.698225\n",
      " 0.687188 0.697099 0.685651 0.679096 0.698225 0.687188 0.697099 0.685651\n",
      " 0.679096 0.698225 0.687188 0.697099 0.685651 0.679096 0.698225 0.687188\n",
      " 0.697099]\n",
      "Transfer & Revision: [0.685651 0.929934 0.698225 0.687188 0.957434 0.685651 0.952133 0.698225\n",
      " 0.687188 0.929057 0.685651 0.929934 0.927376 0.687188 0.912637 0.685651\n",
      " 0.929934 0.698225 0.687188 0.905463 0.906969 0.921552 0.952663 0.945469\n",
      " 0.938304]\n"
     ]
    },
    {
     "data": {
      "text/markdown": [
       "## AUC PR"
      ],
      "text/plain": [
       "<IPython.core.display.Markdown object>"
      ]
     },
     "metadata": {},
     "output_type": "display_data"
    },
    {
     "name": "stdout",
     "output_type": "stream",
     "text": [
      "Scratch: [0.901018 0.863863 0.866667 0.978294 0.935502 0.901018 0.855143 0.866667\n",
      " 0.985128 0.93239  0.901018 0.877937 0.866667 0.972766 0.93239  0.901018\n",
      " 0.877937 0.866667 0.97751  0.935502 0.901018 0.846212 0.866667 0.982017\n",
      " 0.935502]\n",
      "Transfer: [0.755526 0.721712 0.77124  0.757257 0.741584 0.755526 0.751963 0.77124\n",
      " 0.757257 0.769933 0.755526 0.751963 0.77124  0.757257 0.769933 0.755526\n",
      " 0.751963 0.77124  0.757257 0.769933 0.755526 0.751963 0.77124  0.757257\n",
      " 0.769933]\n",
      "Transfer & Revision: [0.755526 0.877937 0.77124  0.757257 0.93239  0.755526 0.942548 0.77124\n",
      " 0.757257 0.92359  0.755526 0.877937 0.919579 0.757257 0.876966 0.755526\n",
      " 0.877937 0.77124  0.757257 0.837642 0.817319 0.881518 0.944534 0.906616\n",
      " 0.935648]\n"
     ]
    },
    {
     "data": {
      "text/markdown": [
       "## CLL"
      ],
      "text/plain": [
       "<IPython.core.display.Markdown object>"
      ]
     },
     "metadata": {},
     "output_type": "display_data"
    },
    {
     "name": "stdout",
     "output_type": "stream",
     "text": [
      "Scratch: [-0.23198  -0.260639 -0.259851 -0.214954 -0.235462 -0.23198  -0.261916\n",
      " -0.259851 -0.212308 -0.237854 -0.23198  -0.258666 -0.259851 -0.219141\n",
      " -0.237487 -0.23198  -0.258666 -0.259851 -0.216532 -0.236098 -0.23198\n",
      " -0.258786 -0.259851 -0.214279 -0.235932]\n",
      "Transfer: [-0.575688 -0.610059 -0.56849  -0.573592 -0.605409 -0.575688 -0.579685\n",
      " -0.56849  -0.573592 -0.559427 -0.575688 -0.579685 -0.56849  -0.573592\n",
      " -0.559427 -0.575688 -0.579685 -0.56849  -0.573592 -0.559427 -0.57621\n",
      " -0.580223 -0.570833 -0.574101 -0.560432]\n",
      "Transfer & Revision: [-0.575688 -0.258666 -0.56849  -0.573592 -0.237487 -0.575688 -0.257978\n",
      " -0.56849  -0.573592 -0.310153 -0.575688 -0.258666 -0.456986 -0.573592\n",
      " -0.310174 -0.575688 -0.258666 -0.56849  -0.573592 -0.309147 -0.264467\n",
      " -0.261361 -0.44892  -0.485991 -0.303368]\n"
     ]
    },
    {
     "data": {
      "text/markdown": [
       "## Recall"
      ],
      "text/plain": [
       "<IPython.core.display.Markdown object>"
      ]
     },
     "metadata": {},
     "output_type": "display_data"
    },
    {
     "name": "stdout",
     "output_type": "stream",
     "text": [
      "Scratch: [0.961538 1.       1.       0.9625   1.       0.961538 1.       1.\n",
      " 0.9625   1.       0.961538 1.       1.       0.9625   1.       0.961538\n",
      " 1.       1.       0.9625   1.       0.961538 1.       1.       0.9625\n",
      " 1.      ]\n",
      "Transfer: [0.346154 0.344086 0.384615 0.35     0.381443 0.346154 0.344086 0.384615\n",
      " 0.35     0.381443 0.346154 0.344086 0.384615 0.35     0.381443 0.346154\n",
      " 0.344086 0.384615 0.35     0.381443 0.346154 0.344086 0.384615 0.35\n",
      " 0.381443]\n",
      "Transfer & Revision: [0.346154 1.       0.384615 0.35     1.       0.346154 1.       0.384615\n",
      " 0.35     1.       0.346154 1.       1.       0.35     1.       0.346154\n",
      " 1.       0.384615 0.35     1.       0.961538 1.       1.       0.35\n",
      " 1.      ]\n"
     ]
    },
    {
     "data": {
      "text/markdown": [
       "## F1"
      ],
      "text/plain": [
       "<IPython.core.display.Markdown object>"
      ]
     },
     "metadata": {},
     "output_type": "display_data"
    },
    {
     "name": "stdout",
     "output_type": "stream",
     "text": [
      "Scratch: [0.931677 0.920792 0.928571 0.927711 0.92823  0.931677 0.920792 0.928571\n",
      " 0.927711 0.92823  0.931677 0.920792 0.928571 0.927711 0.92823  0.931677\n",
      " 0.920792 0.928571 0.927711 0.92823  0.931677 0.920792 0.928571 0.927711\n",
      " 0.92823 ]\n",
      "Transfer: [0.514286 0.503937 0.555556 0.518519 0.544118 0.514286 0.512    0.555556\n",
      " 0.518519 0.552239 0.514286 0.512    0.555556 0.518519 0.552239 0.514286\n",
      " 0.512    0.555556 0.518519 0.552239 0.514286 0.512    0.555556 0.518519\n",
      " 0.552239]\n",
      "Transfer & Revision: [0.514286 0.920792 0.555556 0.518519 0.92823  0.514286 0.920792 0.555556\n",
      " 0.518519 0.889908 0.514286 0.920792 0.892704 0.518519 0.889908 0.514286\n",
      " 0.920792 0.555556 0.518519 0.889908 0.914634 0.920792 0.928571 0.504505\n",
      " 0.889908]\n"
     ]
    },
    {
     "data": {
      "text/markdown": [
       "## Precision"
      ],
      "text/plain": [
       "<IPython.core.display.Markdown object>"
      ]
     },
     "metadata": {},
     "output_type": "display_data"
    },
    {
     "name": "stdout",
     "output_type": "stream",
     "text": [
      "Scratch: [0.903614 0.853211 0.866667 0.895349 0.866071 0.903614 0.853211 0.866667\n",
      " 0.895349 0.866071 0.903614 0.853211 0.866667 0.895349 0.866071 0.903614\n",
      " 0.853211 0.866667 0.895349 0.866071 0.903614 0.853211 0.866667 0.895349\n",
      " 0.866071]\n",
      "Transfer: [1.       0.941176 1.       1.       0.948718 1.       1.       1.\n",
      " 1.       1.       1.       1.       1.       1.       1.       1.\n",
      " 1.       1.       1.       1.       1.       1.       1.       1.\n",
      " 1.      ]\n",
      "Transfer & Revision: [1.       0.853211 1.       1.       0.866071 1.       0.853211 1.\n",
      " 1.       0.801653 1.       0.853211 0.806202 1.       0.801653 1.\n",
      " 0.853211 1.       1.       0.801653 0.872093 0.853211 0.866667 0.903226\n",
      " 0.801653]\n"
     ]
    },
    {
     "data": {
      "text/markdown": [
       "## Learning and Revision time"
      ],
      "text/plain": [
       "<IPython.core.display.Markdown object>"
      ]
     },
     "metadata": {},
     "output_type": "display_data"
    },
    {
     "name": "stdout",
     "output_type": "stream",
     "text": [
      "Scratch: [ 8.616  4.755  3.301 16.611  4.51   6.432  4.29   2.669 16.749  4.759\n",
      "  6.451  4.233  2.465 14.776  5.485  6.022  5.236  2.719 12.888  4.438\n",
      "  6.67   3.753  2.355 16.151  4.157]\n",
      "Transfer: [ 3.723  3.08   2.641 11.536  2.357  2.963  2.739  1.443 11.94   4.479\n",
      "  2.96   2.022  1.084 10.314  2.385  2.799  2.039  1.685  9.953  2.652\n",
      "  2.915  3.578  1.043 10.3    2.824]\n",
      "Transfer & Revision: [ 9.025 13.113  5.507 24.01  12.552  6.66   9.547  4.058 24.789 11.783\n",
      "  7.605  8.635  5.782 22.257 12.271  6.552  8.963  4.211 21.894  9.16\n",
      " 18.115 10.654  6.153 33.81  11.276]\n"
     ]
    },
    {
     "data": {
      "text/markdown": [
       "## Inference time"
      ],
      "text/plain": [
       "<IPython.core.display.Markdown object>"
      ]
     },
     "metadata": {},
     "output_type": "display_data"
    },
    {
     "name": "stdout",
     "output_type": "stream",
     "text": [
      "Scratch: [0.861 0.93  0.792 0.942 0.771 0.69  0.736 0.68  0.683 0.7   0.68  0.728\n",
      " 0.666 0.625 0.691 0.67  0.766 0.675 0.597 0.723 0.678 0.713 0.685 0.771\n",
      " 0.71 ]\n",
      "Transfer: [ 3.723  3.08   2.641 11.536  2.357  2.963  2.739  1.443 11.94   4.479\n",
      "  2.96   2.022  1.084 10.314  2.385  2.799  2.039  1.685  9.953  2.652\n",
      "  2.915  3.578  1.043 10.3    2.824]\n",
      "Transfer & Revision: [0.956 1.1   1.022 0.87  0.699 0.689 0.758 0.765 0.546 0.727 0.644 0.773\n",
      " 0.733 0.549 0.728 0.679 0.748 0.781 0.526 0.722 0.678 0.739 0.752 0.675\n",
      " 0.741]\n"
     ]
    },
    {
     "data": {
      "text/markdown": [
       "# Results for uwcse->imdb"
      ],
      "text/plain": [
       "<IPython.core.display.Markdown object>"
      ]
     },
     "metadata": {},
     "output_type": "display_data"
    },
    {
     "data": {
      "text/markdown": [
       "# Results for imdb->cora"
      ],
      "text/plain": [
       "<IPython.core.display.Markdown object>"
      ]
     },
     "metadata": {},
     "output_type": "display_data"
    },
    {
     "data": {
      "text/markdown": [
       "# Results for cora->imdb"
      ],
      "text/plain": [
       "<IPython.core.display.Markdown object>"
      ]
     },
     "metadata": {},
     "output_type": "display_data"
    },
    {
     "data": {
      "text/markdown": [
       "# Results for yeast->twitter"
      ],
      "text/plain": [
       "<IPython.core.display.Markdown object>"
      ]
     },
     "metadata": {},
     "output_type": "display_data"
    },
    {
     "data": {
      "text/markdown": [
       "## AUC ROC"
      ],
      "text/plain": [
       "<IPython.core.display.Markdown object>"
      ]
     },
     "metadata": {},
     "output_type": "display_data"
    },
    {
     "name": "stdout",
     "output_type": "stream",
     "text": [
      "Scratch: [0.732318 0.711567 0.748983 0.697251 0.748983 0.697251 0.748983 0.697251\n",
      " 0.748983 0.697251]\n",
      "Transfer: [0.641412 0.714562 0.670204 0.702182 0.749541 0.702494 0.689433 0.701401\n",
      " 0.749062 0.702069]\n",
      "Transfer & Revision: [0.641412 0.714562 0.670204 0.702182 0.749541 0.697146 0.689433 0.701401\n",
      " 0.749062 0.702069]\n"
     ]
    },
    {
     "data": {
      "text/markdown": [
       "## AUC PR"
      ],
      "text/plain": [
       "<IPython.core.display.Markdown object>"
      ]
     },
     "metadata": {},
     "output_type": "display_data"
    },
    {
     "name": "stdout",
     "output_type": "stream",
     "text": [
      "Scratch: [0.69956  0.688766 0.72186  0.670471 0.72186  0.670471 0.72186  0.670471\n",
      " 0.72186  0.670471]\n",
      "Transfer: [0.593446 0.702221 0.614681 0.672603 0.723426 0.672703 0.654107 0.672377\n",
      " 0.723297 0.672564]\n",
      "Transfer & Revision: [0.593446 0.702221 0.614681 0.672603 0.723426 0.670434 0.654107 0.672377\n",
      " 0.723297 0.672564]\n"
     ]
    },
    {
     "data": {
      "text/markdown": [
       "## CLL"
      ],
      "text/plain": [
       "<IPython.core.display.Markdown object>"
      ]
     },
     "metadata": {},
     "output_type": "display_data"
    },
    {
     "name": "stdout",
     "output_type": "stream",
     "text": [
      "Scratch: [-0.600441 -0.628552 -0.59057  -0.637301 -0.59057  -0.637301 -0.59057\n",
      " -0.637301 -0.59057  -0.637301]\n",
      "Transfer: [-0.651436 -0.631429 -0.642695 -0.628394 -0.621056 -0.625379 -0.636633\n",
      " -0.626437 -0.625239 -0.627981]\n",
      "Transfer & Revision: [-0.651436 -0.631429 -0.642695 -0.628394 -0.621056 -0.637599 -0.636633\n",
      " -0.626437 -0.625239 -0.627981]\n"
     ]
    },
    {
     "data": {
      "text/markdown": [
       "## Recall"
      ],
      "text/plain": [
       "<IPython.core.display.Markdown object>"
      ]
     },
     "metadata": {},
     "output_type": "display_data"
    },
    {
     "name": "stdout",
     "output_type": "stream",
     "text": [
      "Scratch: [0.529661 0.496154 0.529661 0.496154 0.529661 0.496154 0.529661 0.496154\n",
      " 0.529661 0.496154]\n",
      "Transfer: [0.730226 0.496154 0.810734 0.588462 0.810734 0.496154 0.810734 0.588462\n",
      " 0.810734 0.588462]\n",
      "Transfer & Revision: [0.730226 0.496154 0.810734 0.588462 0.810734 0.496154 0.810734 0.588462\n",
      " 0.810734 0.588462]\n"
     ]
    },
    {
     "data": {
      "text/markdown": [
       "## F1"
      ],
      "text/plain": [
       "<IPython.core.display.Markdown object>"
      ]
     },
     "metadata": {},
     "output_type": "display_data"
    },
    {
     "name": "stdout",
     "output_type": "stream",
     "text": [
      "Scratch: [0.626043 0.604688 0.633981 0.596762 0.633981 0.596762 0.633981 0.596762\n",
      " 0.633981 0.596762]\n",
      "Transfer: [0.661125 0.604688 0.714375 0.630928 0.714375 0.596762 0.714375 0.630928\n",
      " 0.714375 0.630928]\n",
      "Transfer & Revision: [0.661125 0.604688 0.714375 0.630928 0.714375 0.596762 0.714375 0.630928\n",
      " 0.714375 0.630928]\n"
     ]
    },
    {
     "data": {
      "text/markdown": [
       "## Precision"
      ],
      "text/plain": [
       "<IPython.core.display.Markdown object>"
      ]
     },
     "metadata": {},
     "output_type": "display_data"
    },
    {
     "name": "stdout",
     "output_type": "stream",
     "text": [
      "Scratch: [0.765306 0.774    0.789474 0.748549 0.789474 0.748549 0.789474 0.748549\n",
      " 0.789474 0.748549]\n",
      "Transfer: [0.603972 0.774    0.638487 0.68     0.638487 0.748549 0.638487 0.68\n",
      " 0.638487 0.68    ]\n",
      "Transfer & Revision: [0.603972 0.774    0.638487 0.68     0.638487 0.748549 0.638487 0.68\n",
      " 0.638487 0.68    ]\n"
     ]
    },
    {
     "data": {
      "text/markdown": [
       "## Learning and Revision time"
      ],
      "text/plain": [
       "<IPython.core.display.Markdown object>"
      ]
     },
     "metadata": {},
     "output_type": "display_data"
    },
    {
     "name": "stdout",
     "output_type": "stream",
     "text": [
      "Scratch: [140.134 191.633 719.961 182.297 696.375 178.501 632.229 172.848 660.373\n",
      " 177.322]\n",
      "Transfer: [ 74.185  75.104 204.368  68.846 164.412  58.152 172.644  54.278 178.302\n",
      "  57.8  ]\n",
      "Transfer & Revision: [147.231 152.417 385.002 131.433 340.985 277.058 353.438 109.173 371.977\n",
      " 116.454]\n"
     ]
    },
    {
     "data": {
      "text/markdown": [
       "## Inference time"
      ],
      "text/plain": [
       "<IPython.core.display.Markdown object>"
      ]
     },
     "metadata": {},
     "output_type": "display_data"
    },
    {
     "name": "stdout",
     "output_type": "stream",
     "text": [
      "Scratch: [1.347 1.658 1.458 1.406 1.488 1.609 1.644 1.47  1.164 1.503]\n",
      "Transfer: [ 74.185  75.104 204.368  68.846 164.412  58.152 172.644  54.278 178.302\n",
      "  57.8  ]\n",
      "Transfer & Revision: [ 1.226  1.34   8.678 14.631  0.953  1.435  0.996  1.026  2.382  2.408]\n"
     ]
    },
    {
     "data": {
      "text/markdown": [
       "# Results for twitter->yeast"
      ],
      "text/plain": [
       "<IPython.core.display.Markdown object>"
      ]
     },
     "metadata": {},
     "output_type": "display_data"
    },
    {
     "data": {
      "text/markdown": [
       "## AUC ROC"
      ],
      "text/plain": [
       "<IPython.core.display.Markdown object>"
      ]
     },
     "metadata": {},
     "output_type": "display_data"
    },
    {
     "name": "stdout",
     "output_type": "stream",
     "text": [
      "Scratch: [0.653523 0.64564  0.645567 0.613637 0.65243  0.649668 0.646756 0.607084\n",
      " 0.654424 0.651161 0.653748 0.616431 0.657382 0.643932 0.652615 0.599833]\n",
      "Transfer: [0.565998 0.564107 0.549017 0.55181  0.657726 0.645378 0.652567 0.586946\n",
      " 0.657726 0.645378 0.652567 0.586946 0.657726 0.645378 0.652567 0.586946]\n",
      "Transfer & Revision: [0.565998 0.564107 0.549017 0.55181  0.657726 0.645378 0.652567 0.584419\n",
      " 0.657726 0.645378 0.652567 0.577851 0.657726 0.645378 0.652567 0.598477]\n"
     ]
    },
    {
     "data": {
      "text/markdown": [
       "## AUC PR"
      ],
      "text/plain": [
       "<IPython.core.display.Markdown object>"
      ]
     },
     "metadata": {},
     "output_type": "display_data"
    },
    {
     "name": "stdout",
     "output_type": "stream",
     "text": [
      "Scratch: [0.668636 0.670894 0.665096 0.637274 0.64574  0.675769 0.663343 0.628411\n",
      " 0.649814 0.655164 0.671072 0.634594 0.651005 0.671542 0.668095 0.615699]\n",
      "Transfer: [0.603465 0.595416 0.579892 0.584066 0.639384 0.636573 0.633533 0.587618\n",
      " 0.639384 0.636573 0.633533 0.587618 0.639384 0.636573 0.633533 0.587618]\n",
      "Transfer & Revision: [0.603465 0.595416 0.579892 0.584066 0.639384 0.636573 0.633533 0.608072\n",
      " 0.639384 0.636573 0.633533 0.601063 0.639384 0.636573 0.633533 0.626018]\n"
     ]
    },
    {
     "data": {
      "text/markdown": [
       "## CLL"
      ],
      "text/plain": [
       "<IPython.core.display.Markdown object>"
      ]
     },
     "metadata": {},
     "output_type": "display_data"
    },
    {
     "name": "stdout",
     "output_type": "stream",
     "text": [
      "Scratch: [-0.656042 -0.664945 -0.666597 -0.677683 -0.657149 -0.661076 -0.668298\n",
      " -0.680219 -0.653877 -0.663851 -0.660422 -0.679306 -0.652513 -0.664846\n",
      " -0.66278  -0.684363]\n",
      "Transfer: [-0.666673 -0.673222 -0.691045 -0.689755 -0.654507 -0.660701 -0.661881\n",
      " -0.680042 -0.654507 -0.660701 -0.661881 -0.680042 -0.654507 -0.660701\n",
      " -0.661881 -0.680042]\n",
      "Transfer & Revision: [-0.666673 -0.673222 -0.691045 -0.689755 -0.654507 -0.660701 -0.661881\n",
      " -0.680271 -0.654507 -0.660701 -0.661881 -0.682834 -0.654507 -0.660701\n",
      " -0.661881 -0.678496]\n"
     ]
    },
    {
     "data": {
      "text/markdown": [
       "## Recall"
      ],
      "text/plain": [
       "<IPython.core.display.Markdown object>"
      ]
     },
     "metadata": {},
     "output_type": "display_data"
    },
    {
     "name": "stdout",
     "output_type": "stream",
     "text": [
      "Scratch: [0.588511 0.361985 0.406547 0.26969  0.549043 0.370763 0.422386 0.353752\n",
      " 0.594373 0.382567 0.410771 0.363564 0.556077 0.355327 0.426082 0.325643]\n",
      "Transfer: [0.113326 0.234867 0.487064 0.071334 0.671747 0.431901 0.43321  0.544948\n",
      " 0.671747 0.431901 0.43321  0.544948 0.671747 0.431901 0.43321  0.544948]\n",
      "Transfer & Revision: [0.113326 0.234867 0.487064 0.071334 0.671747 0.431901 0.43321  0.168656\n",
      " 0.671747 0.431901 0.43321  0.300716 0.671747 0.431901 0.43321  0.46725 ]\n"
     ]
    },
    {
     "data": {
      "text/markdown": [
       "## F1"
      ],
      "text/plain": [
       "<IPython.core.display.Markdown object>"
      ]
     },
     "metadata": {},
     "output_type": "display_data"
    },
    {
     "name": "stdout",
     "output_type": "stream",
     "text": [
      "Scratch: [0.610582 0.472914 0.506496 0.389581 0.590833 0.484477 0.515298 0.458104\n",
      " 0.614297 0.491637 0.507999 0.462083 0.602456 0.467171 0.511326 0.434613]\n",
      "Transfer: [0.203152 0.336222 0.509317 0.132774 0.642977 0.53556  0.532706 0.564328\n",
      " 0.642977 0.53556  0.532706 0.564328 0.642977 0.53556  0.532706 0.564328]\n",
      "Transfer & Revision: [0.203152 0.336222 0.509317 0.132774 0.642977 0.53556  0.532706 0.268015\n",
      " 0.642977 0.53556  0.532706 0.395397 0.642977 0.53556  0.532706 0.530084]\n"
     ]
    },
    {
     "data": {
      "text/markdown": [
       "## Precision"
      ],
      "text/plain": [
       "<IPython.core.display.Markdown object>"
      ]
     },
     "metadata": {},
     "output_type": "display_data"
    },
    {
     "name": "stdout",
     "output_type": "stream",
     "text": [
      "Scratch: [0.634372 0.68187  0.671609 0.701379 0.639508 0.698802 0.660611 0.649781\n",
      " 0.635604 0.687704 0.665526 0.633842 0.657275 0.681765 0.639208 0.653191]\n",
      "Transfer: [0.97973  0.591463 0.5337   0.957295 0.616571 0.704691 0.69153  0.585137\n",
      " 0.616571 0.704691 0.69153  0.585137 0.616571 0.704691 0.69153  0.585137]\n",
      "Transfer & Revision: [0.97973  0.591463 0.5337   0.957295 0.616571 0.704691 0.69153  0.652308\n",
      " 0.616571 0.704691 0.69153  0.577099 0.616571 0.704691 0.69153  0.612444]\n"
     ]
    },
    {
     "data": {
      "text/markdown": [
       "## Learning and Revision time"
      ],
      "text/plain": [
       "<IPython.core.display.Markdown object>"
      ]
     },
     "metadata": {},
     "output_type": "display_data"
    },
    {
     "name": "stdout",
     "output_type": "stream",
     "text": [
      "Scratch: [ 80.708 619.734  72.333  56.051 501.979 147.049  42.061 176.671 110.951\n",
      " 148.895  57.547 598.166  74.168  91.064 278.822  99.971]\n",
      "Transfer: [586.515  79.491  59.374  42.833  35.025  30.938  19.546  29.14   33.883\n",
      "  33.452  18.448 196.592  39.557  31.366  13.741  52.901]\n",
      "Transfer & Revision: [ 632.134  136.102   89.754  227.79    81.051  114.662   43.59   367.757\n",
      "   81.186   70.782   37.563 1174.498   71.052   65.584   30.707 1102.526]\n"
     ]
    },
    {
     "data": {
      "text/markdown": [
       "## Inference time"
      ],
      "text/plain": [
       "<IPython.core.display.Markdown object>"
      ]
     },
     "metadata": {},
     "output_type": "display_data"
    },
    {
     "name": "stdout",
     "output_type": "stream",
     "text": [
      "Scratch: [ 3.556  7.628 10.602  6.59  19.698  5.624  3.694 12.574  2.885  4.83\n",
      "  6.875 16.267  3.031  4.5    7.925 13.13 ]\n",
      "Transfer: [586.515  79.491  59.374  42.833  35.025  30.938  19.546  29.14   33.883\n",
      "  33.452  18.448 196.592  39.557  31.366  13.741  52.901]\n",
      "Transfer & Revision: [2.603 2.22  2.812 2.766 2.81  2.148 3.011 2.89  2.051 2.613 2.599 5.478\n",
      " 2.278 2.252 2.724 3.145]\n"
     ]
    },
    {
     "data": {
      "text/markdown": [
       "# Results for nell_sports->nell_finances"
      ],
      "text/plain": [
       "<IPython.core.display.Markdown object>"
      ]
     },
     "metadata": {},
     "output_type": "display_data"
    },
    {
     "data": {
      "text/markdown": [
       "# Results for nell_finances->nell_sports"
      ],
      "text/plain": [
       "<IPython.core.display.Markdown object>"
      ]
     },
     "metadata": {},
     "output_type": "display_data"
    },
    {
     "data": {
      "text/markdown": [
       "## AUC ROC"
      ],
      "text/plain": [
       "<IPython.core.display.Markdown object>"
      ]
     },
     "metadata": {},
     "output_type": "display_data"
    },
    {
     "name": "stdout",
     "output_type": "stream",
     "text": [
      "Scratch: [0.881956 0.925234 0.929162 0.925543 0.918272 0.928831 0.917971 0.921924\n",
      " 0.926811 0.922784 0.923087 0.929557 0.914413 0.91729  0.924728 0.922729\n",
      " 0.927998 0.924228 0.927774 0.923421 0.921888 0.923693 0.932287 0.918981\n",
      " 0.890079 0.92796  0.92681  0.928299 0.929442 0.928079 0.931268 0.920681\n",
      " 0.922493 0.936067 0.927016 0.925648 0.928379 0.934953 0.916671 0.918772]\n",
      "Transfer: [0.826635 0.868431 0.862711 0.869244 0.81393  0.866419 0.873554 0.868139\n",
      " 0.754589 0.878135 0.873599 0.879784 0.871982 0.8627   0.865538 0.861191\n",
      " 0.867028 0.866264 0.868925 0.869835 0.727293 0.756541 0.745612 0.741317\n",
      " 0.78509  0.867174 0.861447 0.85935  0.838204 0.855468 0.857565 0.852233\n",
      " 0.868018 0.861659 0.858425 0.855175 0.867437 0.754381 0.77848  0.771609]\n",
      "Transfer & Revision: [0.826635 0.911171 0.907043 0.896826 0.908652 0.866419 0.901586 0.889283\n",
      " 0.754589 0.914548 0.903193 0.911525 0.895198 0.908438 0.899655 0.900781\n",
      " 0.903144 0.898055 0.906212 0.906558 0.881648 0.756541 0.90219  0.741317\n",
      " 0.78509  0.867174 0.861447 0.85935  0.902787 0.911041 0.921152 0.907375\n",
      " 0.901736 0.911043 0.907548 0.900211 0.893854 0.898685 0.77848  0.886794]\n"
     ]
    },
    {
     "data": {
      "text/markdown": [
       "## AUC PR"
      ],
      "text/plain": [
       "<IPython.core.display.Markdown object>"
      ]
     },
     "metadata": {},
     "output_type": "display_data"
    },
    {
     "name": "stdout",
     "output_type": "stream",
     "text": [
      "Scratch: [0.861393 0.916631 0.91472  0.898687 0.880861 0.914594 0.901234 0.909115\n",
      " 0.919173 0.894031 0.913567 0.916832 0.904079 0.899638 0.912417 0.904672\n",
      " 0.908238 0.903211 0.908726 0.912857 0.915329 0.912895 0.917937 0.899688\n",
      " 0.857977 0.91329  0.921204 0.903952 0.908867 0.918629 0.920116 0.898977\n",
      " 0.906717 0.92417  0.910792 0.91376  0.919653 0.92013  0.901435 0.914655]\n",
      "Transfer: [0.80542  0.851893 0.846897 0.855754 0.800289 0.860108 0.877487 0.85213\n",
      " 0.68456  0.863764 0.864759 0.866239 0.858271 0.847947 0.861584 0.854491\n",
      " 0.854148 0.853208 0.855421 0.858975 0.681841 0.709351 0.699403 0.700014\n",
      " 0.739345 0.859423 0.851814 0.862109 0.832901 0.856777 0.860381 0.852794\n",
      " 0.86343  0.859556 0.862854 0.849325 0.858292 0.752321 0.75619  0.736397]\n",
      "Transfer & Revision: [0.80542  0.901411 0.900054 0.889115 0.907109 0.860108 0.900689 0.890419\n",
      " 0.68456  0.903944 0.90268  0.902715 0.887857 0.89782  0.898599 0.895025\n",
      " 0.888814 0.889784 0.891847 0.892794 0.893362 0.709351 0.893726 0.700014\n",
      " 0.739345 0.859423 0.851814 0.862109 0.902544 0.905547 0.912522 0.901628\n",
      " 0.895261 0.903122 0.900239 0.894148 0.902549 0.895899 0.75619  0.883465]\n"
     ]
    },
    {
     "data": {
      "text/markdown": [
       "## CLL"
      ],
      "text/plain": [
       "<IPython.core.display.Markdown object>"
      ]
     },
     "metadata": {},
     "output_type": "display_data"
    },
    {
     "name": "stdout",
     "output_type": "stream",
     "text": [
      "Scratch: [-0.42321  -0.364868 -0.374692 -0.366385 -0.359669 -0.375526 -0.376427\n",
      " -0.366231 -0.375352 -0.367199 -0.380599 -0.378449 -0.371836 -0.366203\n",
      " -0.363972 -0.373753 -0.369429 -0.367882 -0.371706 -0.375512 -0.375364\n",
      " -0.360455 -0.366096 -0.384226 -0.415435 -0.37407  -0.364252 -0.363042\n",
      " -0.374126 -0.367955 -0.373526 -0.383443 -0.379096 -0.359006 -0.361858\n",
      " -0.363228 -0.363748 -0.362191 -0.375982 -0.388033]\n",
      "Transfer: [-0.544386 -0.50018  -0.500626 -0.50127  -0.555785 -0.499961 -0.500181\n",
      " -0.50237  -0.579407 -0.475498 -0.480175 -0.479816 -0.492782 -0.500329\n",
      " -0.504286 -0.503946 -0.484028 -0.486314 -0.483988 -0.485769 -0.611462\n",
      " -0.642766 -0.64307  -0.642842 -0.576199 -0.544543 -0.548525 -0.549252\n",
      " -0.572524 -0.586895 -0.589317 -0.587861 -0.532766 -0.573581 -0.574156\n",
      " -0.570954 -0.538964 -0.631127 -0.625963 -0.627336]\n",
      "Transfer & Revision: [-0.544386 -0.422127 -0.423646 -0.443134 -0.412078 -0.499961 -0.424329\n",
      " -0.468597 -0.579407 -0.407059 -0.425218 -0.42101  -0.436649 -0.422501\n",
      " -0.425043 -0.422889 -0.42177  -0.417838 -0.430202 -0.420658 -0.480124\n",
      " -0.642766 -0.453867 -0.642842 -0.576199 -0.544543 -0.548525 -0.549252\n",
      " -0.43732  -0.462435 -0.412265 -0.465304 -0.443775 -0.452879 -0.445151\n",
      " -0.467203 -0.44152  -0.46041  -0.625963 -0.479669]\n"
     ]
    },
    {
     "data": {
      "text/markdown": [
       "## Recall"
      ],
      "text/plain": [
       "<IPython.core.display.Markdown object>"
      ]
     },
     "metadata": {},
     "output_type": "display_data"
    },
    {
     "name": "stdout",
     "output_type": "stream",
     "text": [
      "Scratch: [0.835443 0.850116 0.786079 0.823366 0.845012 0.799072 0.794432 0.822902\n",
      " 0.762413 0.834339 0.789327 0.784423 0.839443 0.833411 0.839907 0.842837\n",
      " 0.804176 0.827842 0.777726 0.820121 0.819026 0.850116 0.798608 0.768197\n",
      " 0.890295 0.789791 0.80464  0.817803 0.769374 0.821346 0.781439 0.765879\n",
      " 0.783295 0.825058 0.835267 0.796013 0.82413  0.809745 0.789327 0.79694 ]\n",
      "Transfer: [0.860759 0.793968 0.793968 0.792304 0.646868 0.742923 0.750812 0.75058\n",
      " 0.659397 0.755916 0.745708 0.75707  0.7471   0.783759 0.776798 0.771905\n",
      " 0.756845 0.791183 0.784687 0.792768 0.655684 0.551276 0.545708 0.652758\n",
      " 0.814346 0.780046 0.761485 0.721836 0.784687 0.601856 0.624594 0.608716\n",
      " 0.801856 0.730858 0.722042 0.762633 0.752204 0.541531 0.546636 0.548911]\n",
      "Transfer & Revision: [0.860759 0.784687 0.759165 0.786277 0.783295 0.742923 0.742923 0.769587\n",
      " 0.659397 0.796288 0.753132 0.762633 0.772158 0.790255 0.788863 0.802967\n",
      " 0.763341 0.791647 0.7471   0.748725 0.721114 0.551276 0.742459 0.652758\n",
      " 0.814346 0.780046 0.761485 0.721836 0.733179 0.751276 0.748492 0.774223\n",
      " 0.734571 0.771694 0.753132 0.751507 0.711833 0.759165 0.546636 0.713955]\n"
     ]
    },
    {
     "data": {
      "text/markdown": [
       "## F1"
      ],
      "text/plain": [
       "<IPython.core.display.Markdown object>"
      ]
     },
     "metadata": {},
     "output_type": "display_data"
    },
    {
     "name": "stdout",
     "output_type": "stream",
     "text": [
      "Scratch: [0.825    0.869896 0.842158 0.860257 0.8657   0.849322 0.846059 0.861441\n",
      " 0.829798 0.859876 0.848168 0.841791 0.858974 0.860565 0.868314 0.86716\n",
      " 0.850343 0.862044 0.83591  0.849868 0.853069 0.872797 0.854306 0.831201\n",
      " 0.844    0.848666 0.852927 0.858394 0.836107 0.862573 0.842421 0.832451\n",
      " 0.839383 0.861852 0.858164 0.844357 0.857557 0.856022 0.84375  0.845133]\n",
      "Transfer: [0.790698 0.804609 0.804798 0.805752 0.723968 0.81393  0.817998 0.814591\n",
      " 0.670441 0.818182 0.80612  0.815074 0.805806 0.821698 0.823211 0.819591\n",
      " 0.805631 0.809399 0.805046 0.800937 0.669034 0.628738 0.619763 0.674653\n",
      " 0.75835  0.835903 0.823175 0.800926 0.79783  0.72357  0.741394 0.726217\n",
      " 0.809178 0.808522 0.801442 0.807758 0.817654 0.639277 0.638309 0.641387]\n",
      "Transfer & Revision: [0.790698 0.8328   0.823559 0.832393 0.839175 0.81393  0.819135 0.828137\n",
      " 0.670441 0.843036 0.821148 0.827257 0.829925 0.841195 0.838058 0.84798\n",
      " 0.823117 0.844973 0.81643  0.815039 0.805181 0.628738 0.820092 0.674653\n",
      " 0.75835  0.835903 0.823175 0.800926 0.811088 0.828133 0.827604 0.837093\n",
      " 0.808891 0.835678 0.828484 0.819515 0.795643 0.813323 0.638309 0.79157 ]\n"
     ]
    },
    {
     "data": {
      "text/markdown": [
       "## Precision"
      ],
      "text/plain": [
       "<IPython.core.display.Markdown object>"
      ]
     },
     "metadata": {},
     "output_type": "display_data"
    },
    {
     "name": "stdout",
     "output_type": "stream",
     "text": [
      "Scratch: [0.814815 0.890617 0.906852 0.900609 0.887427 0.906316 0.904863 0.903768\n",
      " 0.910249 0.887025 0.916487 0.908213 0.879436 0.889549 0.898709 0.892927\n",
      " 0.902134 0.899194 0.903504 0.881854 0.890066 0.896721 0.918356 0.905464\n",
      " 0.802281 0.917026 0.907378 0.903226 0.915516 0.908158 0.913728 0.9117\n",
      " 0.904124 0.90208  0.882353 0.898953 0.89381  0.907908 0.906233 0.899529]\n",
      "Transfer: [0.731183 0.815539 0.815928 0.819664 0.821934 0.899944 0.89839  0.890539\n",
      " 0.681862 0.891626 0.877183 0.882703 0.874525 0.863497 0.875523 0.873557\n",
      " 0.86114  0.828474 0.826491 0.809276 0.682939 0.731527 0.717073 0.698066\n",
      " 0.709559 0.900375 0.895742 0.89948  0.81142  0.906993 0.911924 0.899931\n",
      " 0.816635 0.904652 0.900463 0.858559 0.89558  0.78008  0.766927 0.771336]\n",
      "Transfer & Revision: [0.731183 0.887198 0.89989  0.884254 0.90364  0.899944 0.912771 0.896328\n",
      " 0.681862 0.895616 0.90267  0.903846 0.897035 0.899155 0.893796 0.89834\n",
      " 0.893051 0.906001 0.899944 0.894241 0.911437 0.731527 0.915856 0.698066\n",
      " 0.709559 0.900375 0.895742 0.89948  0.907524 0.922507 0.925416 0.911075\n",
      " 0.899943 0.911233 0.92059  0.901056 0.901822 0.875803 0.766927 0.88812 ]\n"
     ]
    },
    {
     "data": {
      "text/markdown": [
       "## Learning and Revision time"
      ],
      "text/plain": [
       "<IPython.core.display.Markdown object>"
      ]
     },
     "metadata": {},
     "output_type": "display_data"
    },
    {
     "name": "stdout",
     "output_type": "stream",
     "text": [
      "Scratch: [  73.604  219.773  122.6    297.105  795.544 1068.756  241.495  512.806\n",
      "  869.516  242.    1047.698  560.08   145.928  359.883  285.238  177.083\n",
      "  162.542  204.474  213.076  169.828  127.434  393.869  874.284  333.852\n",
      "  234.995  154.595  846.981 1030.831  269.056 1090.024  212.69  1411.647\n",
      "  240.451   90.26   146.696  192.089  562.921  204.528  113.172  189.686]\n",
      "Transfer: [  16.343 1735.1     64.799   50.78   376.177   32.944   25.107   59.576\n",
      "  102.967   88.795   31.822   55.207   74.848  413.056  325.52   171.374\n",
      "  215.747  705.129   55.752  131.782  736.745  131.635  102.84    41.67\n",
      "   74.624   57.126  120.357   47.643   52.651   42.048  120.953  582.683\n",
      "  253.552  293.572   35.319  225.871   79.22   101.664   48.667  952.249]\n",
      "Transfer & Revision: [  39.54  2255.997  504.068  429.337 1101.915   75.139  675.524  253.185\n",
      "  238.083 1028.529  412.642  328.071  469.149  763.562 1645.209  753.646\n",
      "  451.555 1091.354  465.772  762.221 1062.391  241.355  814.769   93.372\n",
      "   93.829  117.785  290.881  159.219  358.559  573.377 1296.834  906.453\n",
      "  634.987 1009.003  344.769  532.192  282.609  883.607  145.319 1760.57 ]\n"
     ]
    },
    {
     "data": {
      "text/markdown": [
       "## Inference time"
      ],
      "text/plain": [
       "<IPython.core.display.Markdown object>"
      ]
     },
     "metadata": {},
     "output_type": "display_data"
    },
    {
     "name": "stdout",
     "output_type": "stream",
     "text": [
      "Scratch: [ 1.891  7.348  3.116  6.04  16.109 13.496  3.262  5.567 25.71  10.189\n",
      " 28.692 18.414  3.493  3.716  3.526  7.747  4.468  5.645  4.051  3.349\n",
      "  3.168  3.45   7.154  3.787  2.397  3.62   6.024 38.071  7.769 40.215\n",
      "  6.367 11.998  3.835  3.037  4.046  3.322 17.787  9.747  3.885  3.375]\n",
      "Transfer: [  16.343 1735.1     64.799   50.78   376.177   32.944   25.107   59.576\n",
      "  102.967   88.795   31.822   55.207   74.848  413.056  325.52   171.374\n",
      "  215.747  705.129   55.752  131.782  736.745  131.635  102.84    41.67\n",
      "   74.624   57.126  120.357   47.643   52.651   42.048  120.953  582.683\n",
      "  253.552  293.572   35.319  225.871   79.22   101.664   48.667  952.249]\n",
      "Transfer & Revision: [ 2.355  3.033  4.986  4.277  3.505  2.032  3.035  3.26   3.201  6.374\n",
      "  3.363  3.906  6.322  6.906  5.127  3.858  8.817  6.025  2.763 23.505\n",
      "  3.681  2.562  4.081  2.279  6.89   2.341  2.158  2.557  8.014  4.829\n",
      " 14.001  5.382 10.002  2.997  2.205  3.695  3.653  5.948  3.38   3.387]\n"
     ]
    }
   ],
   "source": [
    "for j in range(len(experiments)):\n",
    "    dataset = experiments[j]['source'] + '->' + experiments[j]['target']\n",
    "    display(Markdown('# Results for ' + dataset))\n",
    "    table = []\n",
    "    for metric in ['AUC ROC', 'AUC PR', 'CLL', 'Recall', 'F1', 'Precision', 'Learning and Revision time', 'Inference time']:\n",
    "    #for metric in ['AUC ROC', 'AUC PR']:\n",
    "        if dataset in data['results']: \n",
    "            #for metric in ['AUC ROC', 'AUC PR']:\n",
    "            display(Markdown('## ' + metric))\n",
    "            if metric == 'Precision':\n",
    "                scratch = np.array([item['scratch']['Precision'][0] for sublist in data['results'][str(dataset)] for item in sublist])\n",
    "                parameter = np.array([item['transfer']['Parameter Learning results']['Precision'][0] for sublist in data['results'][str(dataset)] for item in sublist])\n",
    "                transfer = np.array([item['transfer']['Precision'][0] for sublist in data['results'][str(dataset)] for item in sublist])\n",
    "            elif metric == 'Learning and Revision time':\n",
    "                scratch = np.array([item['scratch']['Learning time'] for sublist in data['results'][str(dataset)] for item in sublist])\n",
    "                parameter = np.array([item['transfer']['Parameter Learning results']['Learning time'] for sublist in data['results'][str(dataset)] for item in sublist])\n",
    "                transfer = np.array([item['transfer']['Learning time'] for sublist in data['results'][str(dataset)] for item in sublist])\n",
    "            elif metric == 'Inference time':\n",
    "                scratch = np.array([item['scratch']['Inference time'] for sublist in data['results'][str(dataset)] for item in sublist])\n",
    "                parameter = np.array([item['transfer']['Parameter Learning results']['Learning time'] for sublist in data['results'][str(dataset)] for item in sublist])\n",
    "                transfer = np.array([item['transfer']['Inference time'] for sublist in data['results'][str(dataset)] for item in sublist])\n",
    "            else:\n",
    "                scratch = np.array([item['scratch'][metric] for sublist in data['results'][str(dataset)] for item in sublist])\n",
    "                parameter = np.array([item['transfer']['Parameter Learning results'][metric] for sublist in data['results'][str(dataset)] for item in sublist])\n",
    "                transfer = np.array([item['transfer'][metric] for sublist in data['results'][str(dataset)] for item in sublist])\n",
    "            print('Scratch: %s' % scratch)\n",
    "            print('Transfer: %s' % parameter)\n",
    "            print('Transfer & Revision: %s' % transfer)"
   ]
  },
  {
   "cell_type": "code",
   "execution_count": null,
   "metadata": {
    "collapsed": true
   },
   "outputs": [],
   "source": []
  }
 ],
 "metadata": {
  "anaconda-cloud": {},
  "kernelspec": {
   "display_name": "Python [conda env:anaconda3]",
   "language": "python",
   "name": "conda-env-anaconda3-py"
  },
  "language_info": {
   "codemirror_mode": {
    "name": "ipython",
    "version": 3
   },
   "file_extension": ".py",
   "mimetype": "text/x-python",
   "name": "python",
   "nbconvert_exporter": "python",
   "pygments_lexer": "ipython3",
   "version": "3.5.2"
  }
 },
 "nbformat": 4,
 "nbformat_minor": 1
}
