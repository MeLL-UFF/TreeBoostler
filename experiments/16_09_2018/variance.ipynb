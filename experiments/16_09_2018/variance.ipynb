{
 "cells": [
  {
   "cell_type": "markdown",
   "metadata": {},
   "source": [
    "O algoritmo"
   ]
  },
  {
   "cell_type": "code",
   "execution_count": 19,
   "metadata": {
    "collapsed": true
   },
   "outputs": [],
   "source": [
    "# goodEnoughFitTrueBranch = atMaxDepth || bestNode.acceptableScoreTrueBranch(outerLoopState.maxAcceptableNodeScoreToStop);\n",
    "# goodEnoughFitFalseBranch = atMaxDepth || bestNode.acceptableScoreFalseBranch(outerLoopState.maxAcceptableNodeScoreToStop);"
   ]
  },
  {
   "cell_type": "markdown",
   "metadata": {},
   "source": [
    "Em que outerLoopState.maxAcceptableNodeScoreToStop = 0.0025. atMaxDepth é true caso tenha excedido um limite máximo do tamanho da árvore (nós internos)."
   ]
  },
  {
   "cell_type": "code",
   "execution_count": 16,
   "metadata": {
    "collapsed": true
   },
   "outputs": [],
   "source": [
    "# // If TRUE, then this branch will become a LEAF.\n",
    "# public boolean acceptableScoreTrueBranch(double acceptableScore) throws SearchInterrupted {\n",
    "# ....\n",
    "# variance = getRegressionInfoHolder().varianceAtSuccess() ;\n",
    "# ....\n",
    "# return variance <= acceptableScore;"
   ]
  },
  {
   "cell_type": "code",
   "execution_count": 17,
   "metadata": {
    "collapsed": true
   },
   "outputs": [],
   "source": [
    "# // If TRUE, then this branch will become a LEAF.\n",
    "# public boolean acceptableScoreFalseBranch(double minAcceptableScore) throws SearchInterrupted {\n",
    "# ...\n",
    "# variance = getRegressionInfoHolder().varianceAtFailure() ;\n",
    "# ...\n",
    "# return variance <= minAcceptableScore;"
   ]
  },
  {
   "cell_type": "markdown",
   "metadata": {},
   "source": [
    "É criado então uma folha se"
   ]
  },
  {
   "cell_type": "code",
   "execution_count": 14,
   "metadata": {
    "collapsed": true
   },
   "outputs": [],
   "source": [
    "# if (atMaxDepth || goodEnoughFitTrueBranch ||\n",
    "#  newClause.getLength()   >  maxTreeDepthInLiterals || // We use '>' here since we don't count the head literal in depth.\n",
    "#  wgtedCountTrueBranchPos <  2.1 * innerLoopTask.getMinPosCoverage() ||\n",
    "#  wgtedCountTrueBranchPos < outerLoopState.getOverallMinPosWeight()) {"
   ]
  },
  {
   "cell_type": "markdown",
   "metadata": {},
   "source": [
    "wgtedCountTrueBranchPos é o número de positivos que caíram no ramo, outerLoopState.getOverallMinPosWeight() e innerLoopTask.getMinPosCoverage() são parâmetros definidos como 3. maxTreeDepthInLiterals é um parâmetro setado 25 como default e significa que uma cláusula não pode ter mais de 25 literais."
   ]
  },
  {
   "cell_type": "code",
   "execution_count": 13,
   "metadata": {
    "collapsed": true
   },
   "outputs": [],
   "source": [
    "# % Expanding node at Level 0 with score = 1,797693e+308.\n",
    "# % Will extend: workedunder(A, B) :- director(B), movie(C, A), movie(C, B).  [covers 343,0/1.045,0 pos, 0,0/0,0 neg]\n",
    "# Comparing variance: 0.017186716419182242 to score=0.0025 #egs=343.0\n",
    "# Comparing variance: -3.8715469576672126E-16 to score=0.0025 #egs=702.0\n",
    "# %   Creating a FALSE-branch leaf because good enough fit since score < 0.0025"
   ]
  },
  {
   "cell_type": "markdown",
   "metadata": {},
   "source": [
    "A árvore apreendida tem a seguinte estrutura:"
   ]
  },
  {
   "cell_type": "code",
   "execution_count": 12,
   "metadata": {
    "collapsed": true
   },
   "outputs": [],
   "source": [
    "# % FOR workedunder(A, B):\n",
    "# %   if ( director(B), movie(C, A), movie(C, B) )\n",
    "# %   then return 0.840656223729246;  // std dev = 2,428, 343,000 (wgt'ed) examples reached here.  /* #neg=6 #pos=337 */\n",
    "# %   else return -0.14185106490048865;  // std dev = 0,000, 702,000 (wgt'ed) examples reached here.  /* #neg=702 */"
   ]
  },
  {
   "cell_type": "code",
   "execution_count": 11,
   "metadata": {
    "collapsed": true
   },
   "outputs": [],
   "source": [
    "# % Expanding node at Level 0 with score = 1,797693e+308.\n",
    "# % Will extend: workedunder(A, B) :- director(B), movie(C, A), movie(C, B).  [covers 343,0/1.033,0 pos, 0,0/0,0 neg]\n",
    "# Comparing variance: 0.017186716419182242 to score=0.0025 #egs=343.0\n",
    "# Comparing variance: -3.681435188901968E-16 to score=0.0025 #egs=690.0\n",
    "# %   Creating a TRUE-branch interior node with wgtedCountTrueBranchPos = 343,0\n",
    "# %      addToQueueOfTreeStructuredLearningTasks (level=1; score=-0,017187)\n",
    "# %         ILP node to extend: workedunder(A, B) :- director(B), movie(C, A), movie(C, B).  [covers 343,0/1.033,0 pos, 0,0/0,0 neg]\n",
    "# %      Insert tree-structured search node (@ level = 1 and with score = -0,017187) into the LAST position (#1) in the search queue.\n",
    "# %   Creating a FALSE-branch leaf because good enough fit since score < 0.0025\n",
    "\n",
    "# % Expanding node at Level 1 with score = -0,017.\n",
    "# % Will extend: workedunder(A, B) :- director(B), movie(C, A), movie(C, B), actor(A), genre(B, _).  [covers 288,0/343,0 pos, 0,0/0,0 neg]\n",
    "# Comparing variance: 4.046146134189459E-15 to score=0.0025 #egs=288.0\n",
    "# Comparing variance: 0.09719008264462865 to score=0.0025 #egs=55.0\n",
    "# %   Creating a TRUE-branch leaf because good enough fit since score < 0.0025\n",
    "# %   Creating a FALSE-branch interior node with wgtedCountFalseBranchPos = 55,0\n",
    "# %      addToQueueOfTreeStructuredLearningTasks (level=2; score=-0,097190)\n",
    "# %         ILP node to extend: workedunder(A, B) :- director(B), movie(C, A), movie(C, B).  [covers 343,0/343,0 pos, 0,0/0,0 neg]\n",
    "# %      Insert tree-structured search node (@ level = 2 and with score = -0,097190) into the LAST position (#1) in the search queue.\n",
    "    \n",
    "# % Expanding node at Level 2 with score = -0,097.\n",
    "# % Will extend: workedunder(A, B) :- director(B), movie(C, A), movie(C, B), actor(A).  [covers 49,0/55,0 pos, 0,0/0,0 neg]\n",
    "# Comparing variance: 5.800348863347756E-16 to score=0.0025 #egs=49.0\n",
    "# Comparing variance: -6.938893903907228E-18 to score=0.0025 #egs=6.0\n",
    "# %   Creating a TRUE-branch leaf because good enough fit since score < 0.0025\n",
    "# %   Creating a FALSE-branch leaf because wgtedCountFalseBranchPos = 6,0 < 2.1 * minPosCov = 6,3"
   ]
  },
  {
   "cell_type": "markdown",
   "metadata": {},
   "source": [
    "A árvore aprendida acima tem a seguinte estrutura:"
   ]
  },
  {
   "cell_type": "code",
   "execution_count": 10,
   "metadata": {
    "collapsed": true
   },
   "outputs": [],
   "source": [
    "# % FOR workedunder(A, B):\n",
    "# %   if ( director(B), movie(C, A), movie(C, B) )\n",
    "# %   then if ( actor(A), genre(B, D) )\n",
    "# %   | then return 0.8581489350995085;  // std dev = 1,08e-06, 288,000 (wgt'ed) examples reached here.  /* #pos=288 */\n",
    "# %   | else if ( actor(A) )\n",
    "# %   | | then return 0.8581489350995122;  // std dev = 1,69e-07, 49,000 (wgt'ed) examples reached here.  /* #pos=49 */\n",
    "# %   | | else return -0.1418510649004878;  // std dev = 0,000, 6,000 (wgt'ed) examples reached here.  /* #neg=6 */\n",
    "# %   else return -0.1418510649004886;  // std dev = 0,000, 690,000 (wgt'ed) examples reached here.  /* #neg=690 */"
   ]
  },
  {
   "cell_type": "code",
   "execution_count": null,
   "metadata": {
    "collapsed": true
   },
   "outputs": [],
   "source": []
  }
 ],
 "metadata": {
  "kernelspec": {
   "display_name": "Python [conda env:anaconda3]",
   "language": "python",
   "name": "conda-env-anaconda3-py"
  },
  "language_info": {
   "codemirror_mode": {
    "name": "ipython",
    "version": 3
   },
   "file_extension": ".py",
   "mimetype": "text/x-python",
   "name": "python",
   "nbconvert_exporter": "python",
   "pygments_lexer": "ipython3",
   "version": "3.5.2"
  }
 },
 "nbformat": 4,
 "nbformat_minor": 1
}
