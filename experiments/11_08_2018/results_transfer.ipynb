{
 "cells": [
  {
   "cell_type": "code",
   "execution_count": 1,
   "metadata": {
    "collapsed": true
   },
   "outputs": [],
   "source": [
    "import matplotlib.pyplot as plt\n",
    "from IPython.display import display, Markdown, Latex\n",
    "import numpy as np\n",
    "import json\n",
    "import pandas as pd\n",
    "\n",
    "with open('transfer_experiment.json', 'r') as fp:\n",
    "    data = json.load(fp)"
   ]
  },
  {
   "cell_type": "code",
   "execution_count": 2,
   "metadata": {
    "collapsed": false
   },
   "outputs": [
    {
     "data": {
      "text/markdown": [
       "# Results for AUC ROC"
      ],
      "text/plain": [
       "<IPython.core.display.Markdown object>"
      ]
     },
     "metadata": {},
     "output_type": "display_data"
    },
    {
     "data": {
      "text/html": [
       "<div>\n",
       "<table border=\"1\" class=\"dataframe\">\n",
       "  <thead>\n",
       "    <tr style=\"text-align: right;\">\n",
       "      <th></th>\n",
       "      <th>Experiment</th>\n",
       "      <th>Transfer Learning</th>\n",
       "      <th>Transfer Learning with Revision Theory</th>\n",
       "      <th>Learning from scratch</th>\n",
       "    </tr>\n",
       "  </thead>\n",
       "  <tbody>\n",
       "    <tr>\n",
       "      <th>0</th>\n",
       "      <td>imdb-&gt;uwcse</td>\n",
       "      <td>0.935 +/- 0.007</td>\n",
       "      <td>0.932 +/- 0.026</td>\n",
       "      <td>0.904 +/- 0.061</td>\n",
       "    </tr>\n",
       "    <tr>\n",
       "      <th>1</th>\n",
       "      <td>uwcse-&gt;imdb</td>\n",
       "      <td>1.000 +/- 0.000</td>\n",
       "      <td>0.988 +/- 0.046</td>\n",
       "      <td>0.981 +/- 0.064</td>\n",
       "    </tr>\n",
       "    <tr>\n",
       "      <th>2</th>\n",
       "      <td>imdb-&gt;cora</td>\n",
       "      <td>0.532 +/- 0.089</td>\n",
       "      <td>0.533 +/- 0.088</td>\n",
       "      <td>0.533 +/- 0.084</td>\n",
       "    </tr>\n",
       "    <tr>\n",
       "      <th>3</th>\n",
       "      <td>cora-&gt;imdb</td>\n",
       "      <td>0.952 +/- 0.109</td>\n",
       "      <td>0.997 +/- 0.007</td>\n",
       "      <td>0.981 +/- 0.064</td>\n",
       "    </tr>\n",
       "    <tr>\n",
       "      <th>4</th>\n",
       "      <td>yeast-&gt;twitter</td>\n",
       "      <td>0.707 +/- 0.053</td>\n",
       "      <td>0.718 +/- 0.033</td>\n",
       "      <td>0.717 +/- 0.033</td>\n",
       "    </tr>\n",
       "    <tr>\n",
       "      <th>5</th>\n",
       "      <td>twitter-&gt;yeast</td>\n",
       "      <td>0.666 +/- 0.013</td>\n",
       "      <td>0.665 +/- 0.036</td>\n",
       "      <td>0.671 +/- 0.024</td>\n",
       "    </tr>\n",
       "    <tr>\n",
       "      <th>6</th>\n",
       "      <td>nell_sports-&gt;nell_finances</td>\n",
       "      <td>0.517 +/- 0.019</td>\n",
       "      <td>0.519 +/- 0.003</td>\n",
       "      <td>0.519 +/- 0.001</td>\n",
       "    </tr>\n",
       "    <tr>\n",
       "      <th>7</th>\n",
       "      <td>nell_finances-&gt;nell_sports</td>\n",
       "      <td>0.500 +/- 0.000</td>\n",
       "      <td>0.913 +/- 0.017</td>\n",
       "      <td>0.936 +/- 0.005</td>\n",
       "    </tr>\n",
       "  </tbody>\n",
       "</table>\n",
       "</div>"
      ],
      "text/plain": [
       "                   Experiment Transfer Learning  \\\n",
       "0                 imdb->uwcse   0.935 +/- 0.007   \n",
       "1                 uwcse->imdb   1.000 +/- 0.000   \n",
       "2                  imdb->cora   0.532 +/- 0.089   \n",
       "3                  cora->imdb   0.952 +/- 0.109   \n",
       "4              yeast->twitter   0.707 +/- 0.053   \n",
       "5              twitter->yeast   0.666 +/- 0.013   \n",
       "6  nell_sports->nell_finances   0.517 +/- 0.019   \n",
       "7  nell_finances->nell_sports   0.500 +/- 0.000   \n",
       "\n",
       "  Transfer Learning with Revision Theory Learning from scratch  \n",
       "0                        0.932 +/- 0.026       0.904 +/- 0.061  \n",
       "1                        0.988 +/- 0.046       0.981 +/- 0.064  \n",
       "2                        0.533 +/- 0.088       0.533 +/- 0.084  \n",
       "3                        0.997 +/- 0.007       0.981 +/- 0.064  \n",
       "4                        0.718 +/- 0.033       0.717 +/- 0.033  \n",
       "5                        0.665 +/- 0.036       0.671 +/- 0.024  \n",
       "6                        0.519 +/- 0.003       0.519 +/- 0.001  \n",
       "7                        0.913 +/- 0.017       0.936 +/- 0.005  "
      ]
     },
     "metadata": {},
     "output_type": "display_data"
    },
    {
     "data": {
      "text/markdown": [
       "# Results for AUC PR"
      ],
      "text/plain": [
       "<IPython.core.display.Markdown object>"
      ]
     },
     "metadata": {},
     "output_type": "display_data"
    },
    {
     "data": {
      "text/html": [
       "<div>\n",
       "<table border=\"1\" class=\"dataframe\">\n",
       "  <thead>\n",
       "    <tr style=\"text-align: right;\">\n",
       "      <th></th>\n",
       "      <th>Experiment</th>\n",
       "      <th>Transfer Learning</th>\n",
       "      <th>Transfer Learning with Revision Theory</th>\n",
       "      <th>Learning from scratch</th>\n",
       "    </tr>\n",
       "  </thead>\n",
       "  <tbody>\n",
       "    <tr>\n",
       "      <th>0</th>\n",
       "      <td>imdb-&gt;uwcse</td>\n",
       "      <td>0.925 +/- 0.007</td>\n",
       "      <td>0.898 +/- 0.053</td>\n",
       "      <td>0.854 +/- 0.092</td>\n",
       "    </tr>\n",
       "    <tr>\n",
       "      <th>1</th>\n",
       "      <td>uwcse-&gt;imdb</td>\n",
       "      <td>1.000 +/- 0.000</td>\n",
       "      <td>0.979 +/- 0.083</td>\n",
       "      <td>0.967 +/- 0.110</td>\n",
       "    </tr>\n",
       "    <tr>\n",
       "      <th>2</th>\n",
       "      <td>imdb-&gt;cora</td>\n",
       "      <td>0.543 +/- 0.094</td>\n",
       "      <td>0.545 +/- 0.093</td>\n",
       "      <td>0.543 +/- 0.090</td>\n",
       "    </tr>\n",
       "    <tr>\n",
       "      <th>3</th>\n",
       "      <td>cora-&gt;imdb</td>\n",
       "      <td>0.938 +/- 0.175</td>\n",
       "      <td>0.994 +/- 0.014</td>\n",
       "      <td>0.967 +/- 0.110</td>\n",
       "    </tr>\n",
       "    <tr>\n",
       "      <th>4</th>\n",
       "      <td>yeast-&gt;twitter</td>\n",
       "      <td>0.679 +/- 0.059</td>\n",
       "      <td>0.687 +/- 0.028</td>\n",
       "      <td>0.686 +/- 0.030</td>\n",
       "    </tr>\n",
       "    <tr>\n",
       "      <th>5</th>\n",
       "      <td>twitter-&gt;yeast</td>\n",
       "      <td>0.647 +/- 0.013</td>\n",
       "      <td>0.668 +/- 0.087</td>\n",
       "      <td>0.687 +/- 0.027</td>\n",
       "    </tr>\n",
       "    <tr>\n",
       "      <th>6</th>\n",
       "      <td>nell_sports-&gt;nell_finances</td>\n",
       "      <td>0.507 +/- 0.009</td>\n",
       "      <td>0.509 +/- 0.002</td>\n",
       "      <td>0.509 +/- 0.002</td>\n",
       "    </tr>\n",
       "    <tr>\n",
       "      <th>7</th>\n",
       "      <td>nell_finances-&gt;nell_sports</td>\n",
       "      <td>0.500 +/- 0.000</td>\n",
       "      <td>0.888 +/- 0.028</td>\n",
       "      <td>0.922 +/- 0.009</td>\n",
       "    </tr>\n",
       "  </tbody>\n",
       "</table>\n",
       "</div>"
      ],
      "text/plain": [
       "                   Experiment Transfer Learning  \\\n",
       "0                 imdb->uwcse   0.925 +/- 0.007   \n",
       "1                 uwcse->imdb   1.000 +/- 0.000   \n",
       "2                  imdb->cora   0.543 +/- 0.094   \n",
       "3                  cora->imdb   0.938 +/- 0.175   \n",
       "4              yeast->twitter   0.679 +/- 0.059   \n",
       "5              twitter->yeast   0.647 +/- 0.013   \n",
       "6  nell_sports->nell_finances   0.507 +/- 0.009   \n",
       "7  nell_finances->nell_sports   0.500 +/- 0.000   \n",
       "\n",
       "  Transfer Learning with Revision Theory Learning from scratch  \n",
       "0                        0.898 +/- 0.053       0.854 +/- 0.092  \n",
       "1                        0.979 +/- 0.083       0.967 +/- 0.110  \n",
       "2                        0.545 +/- 0.093       0.543 +/- 0.090  \n",
       "3                        0.994 +/- 0.014       0.967 +/- 0.110  \n",
       "4                        0.687 +/- 0.028       0.686 +/- 0.030  \n",
       "5                        0.668 +/- 0.087       0.687 +/- 0.027  \n",
       "6                        0.509 +/- 0.002       0.509 +/- 0.002  \n",
       "7                        0.888 +/- 0.028       0.922 +/- 0.009  "
      ]
     },
     "metadata": {},
     "output_type": "display_data"
    },
    {
     "data": {
      "text/markdown": [
       "# Results for CLL"
      ],
      "text/plain": [
       "<IPython.core.display.Markdown object>"
      ]
     },
     "metadata": {},
     "output_type": "display_data"
    },
    {
     "data": {
      "text/html": [
       "<div>\n",
       "<table border=\"1\" class=\"dataframe\">\n",
       "  <thead>\n",
       "    <tr style=\"text-align: right;\">\n",
       "      <th></th>\n",
       "      <th>Experiment</th>\n",
       "      <th>Transfer Learning</th>\n",
       "      <th>Transfer Learning with Revision Theory</th>\n",
       "      <th>Learning from scratch</th>\n",
       "    </tr>\n",
       "  </thead>\n",
       "  <tbody>\n",
       "    <tr>\n",
       "      <th>0</th>\n",
       "      <td>imdb-&gt;uwcse</td>\n",
       "      <td>-0.287 +/- 0.010</td>\n",
       "      <td>-0.299 +/- 0.028</td>\n",
       "      <td>-0.334 +/- 0.075</td>\n",
       "    </tr>\n",
       "    <tr>\n",
       "      <th>1</th>\n",
       "      <td>uwcse-&gt;imdb</td>\n",
       "      <td>-0.099 +/- 0.008</td>\n",
       "      <td>-0.119 +/- 0.095</td>\n",
       "      <td>-0.164 +/- 0.120</td>\n",
       "    </tr>\n",
       "    <tr>\n",
       "      <th>2</th>\n",
       "      <td>imdb-&gt;cora</td>\n",
       "      <td>-0.690 +/- 0.023</td>\n",
       "      <td>-0.690 +/- 0.026</td>\n",
       "      <td>-0.690 +/- 0.023</td>\n",
       "    </tr>\n",
       "    <tr>\n",
       "      <th>3</th>\n",
       "      <td>cora-&gt;imdb</td>\n",
       "      <td>-0.333 +/- 0.063</td>\n",
       "      <td>-0.112 +/- 0.019</td>\n",
       "      <td>-0.164 +/- 0.120</td>\n",
       "    </tr>\n",
       "    <tr>\n",
       "      <th>4</th>\n",
       "      <td>yeast-&gt;twitter</td>\n",
       "      <td>-0.635 +/- 0.026</td>\n",
       "      <td>-0.617 +/- 0.029</td>\n",
       "      <td>-0.620 +/- 0.039</td>\n",
       "    </tr>\n",
       "    <tr>\n",
       "      <th>5</th>\n",
       "      <td>twitter-&gt;yeast</td>\n",
       "      <td>-0.653 +/- 0.012</td>\n",
       "      <td>-0.654 +/- 0.012</td>\n",
       "      <td>-0.648 +/- 0.012</td>\n",
       "    </tr>\n",
       "    <tr>\n",
       "      <th>6</th>\n",
       "      <td>nell_sports-&gt;nell_finances</td>\n",
       "      <td>-0.695 +/- 0.017</td>\n",
       "      <td>-0.688 +/- 0.002</td>\n",
       "      <td>-0.688 +/- 0.002</td>\n",
       "    </tr>\n",
       "    <tr>\n",
       "      <th>7</th>\n",
       "      <td>nell_finances-&gt;nell_sports</td>\n",
       "      <td>-0.696 +/- 0.000</td>\n",
       "      <td>-0.421 +/- 0.033</td>\n",
       "      <td>-0.348 +/- 0.016</td>\n",
       "    </tr>\n",
       "  </tbody>\n",
       "</table>\n",
       "</div>"
      ],
      "text/plain": [
       "                   Experiment Transfer Learning  \\\n",
       "0                 imdb->uwcse  -0.287 +/- 0.010   \n",
       "1                 uwcse->imdb  -0.099 +/- 0.008   \n",
       "2                  imdb->cora  -0.690 +/- 0.023   \n",
       "3                  cora->imdb  -0.333 +/- 0.063   \n",
       "4              yeast->twitter  -0.635 +/- 0.026   \n",
       "5              twitter->yeast  -0.653 +/- 0.012   \n",
       "6  nell_sports->nell_finances  -0.695 +/- 0.017   \n",
       "7  nell_finances->nell_sports  -0.696 +/- 0.000   \n",
       "\n",
       "  Transfer Learning with Revision Theory Learning from scratch  \n",
       "0                       -0.299 +/- 0.028      -0.334 +/- 0.075  \n",
       "1                       -0.119 +/- 0.095      -0.164 +/- 0.120  \n",
       "2                       -0.690 +/- 0.026      -0.690 +/- 0.023  \n",
       "3                       -0.112 +/- 0.019      -0.164 +/- 0.120  \n",
       "4                       -0.617 +/- 0.029      -0.620 +/- 0.039  \n",
       "5                       -0.654 +/- 0.012      -0.648 +/- 0.012  \n",
       "6                       -0.688 +/- 0.002      -0.688 +/- 0.002  \n",
       "7                       -0.421 +/- 0.033      -0.348 +/- 0.016  "
      ]
     },
     "metadata": {},
     "output_type": "display_data"
    },
    {
     "data": {
      "text/markdown": [
       "# Results for Recall"
      ],
      "text/plain": [
       "<IPython.core.display.Markdown object>"
      ]
     },
     "metadata": {},
     "output_type": "display_data"
    },
    {
     "data": {
      "text/html": [
       "<div>\n",
       "<table border=\"1\" class=\"dataframe\">\n",
       "  <thead>\n",
       "    <tr style=\"text-align: right;\">\n",
       "      <th></th>\n",
       "      <th>Experiment</th>\n",
       "      <th>Transfer Learning</th>\n",
       "      <th>Transfer Learning with Revision Theory</th>\n",
       "      <th>Learning from scratch</th>\n",
       "    </tr>\n",
       "  </thead>\n",
       "  <tbody>\n",
       "    <tr>\n",
       "      <th>0</th>\n",
       "      <td>imdb-&gt;uwcse</td>\n",
       "      <td>1.000 +/- 0.000</td>\n",
       "      <td>0.945 +/- 0.118</td>\n",
       "      <td>0.944 +/- 0.119</td>\n",
       "    </tr>\n",
       "    <tr>\n",
       "      <th>1</th>\n",
       "      <td>uwcse-&gt;imdb</td>\n",
       "      <td>1.000 +/- 0.000</td>\n",
       "      <td>1.000 +/- 0.000</td>\n",
       "      <td>1.000 +/- 0.000</td>\n",
       "    </tr>\n",
       "    <tr>\n",
       "      <th>2</th>\n",
       "      <td>imdb-&gt;cora</td>\n",
       "      <td>0.762 +/- 0.711</td>\n",
       "      <td>0.759 +/- 0.703</td>\n",
       "      <td>0.763 +/- 0.707</td>\n",
       "    </tr>\n",
       "    <tr>\n",
       "      <th>3</th>\n",
       "      <td>cora-&gt;imdb</td>\n",
       "      <td>1.000 +/- 0.000</td>\n",
       "      <td>1.000 +/- 0.000</td>\n",
       "      <td>1.000 +/- 0.000</td>\n",
       "    </tr>\n",
       "    <tr>\n",
       "      <th>4</th>\n",
       "      <td>yeast-&gt;twitter</td>\n",
       "      <td>0.723 +/- 0.215</td>\n",
       "      <td>0.514 +/- 0.032</td>\n",
       "      <td>0.514 +/- 0.031</td>\n",
       "    </tr>\n",
       "    <tr>\n",
       "      <th>5</th>\n",
       "      <td>twitter-&gt;yeast</td>\n",
       "      <td>0.518 +/- 0.177</td>\n",
       "      <td>0.554 +/- 0.149</td>\n",
       "      <td>0.507 +/- 0.160</td>\n",
       "    </tr>\n",
       "    <tr>\n",
       "      <th>6</th>\n",
       "      <td>nell_sports-&gt;nell_finances</td>\n",
       "      <td>0.000 +/- 0.000</td>\n",
       "      <td>0.003 +/- 0.008</td>\n",
       "      <td>0.012 +/- 0.028</td>\n",
       "    </tr>\n",
       "    <tr>\n",
       "      <th>7</th>\n",
       "      <td>nell_finances-&gt;nell_sports</td>\n",
       "      <td>0.000 +/- 0.000</td>\n",
       "      <td>0.886 +/- 0.036</td>\n",
       "      <td>0.879 +/- 0.024</td>\n",
       "    </tr>\n",
       "  </tbody>\n",
       "</table>\n",
       "</div>"
      ],
      "text/plain": [
       "                   Experiment Transfer Learning  \\\n",
       "0                 imdb->uwcse   1.000 +/- 0.000   \n",
       "1                 uwcse->imdb   1.000 +/- 0.000   \n",
       "2                  imdb->cora   0.762 +/- 0.711   \n",
       "3                  cora->imdb   1.000 +/- 0.000   \n",
       "4              yeast->twitter   0.723 +/- 0.215   \n",
       "5              twitter->yeast   0.518 +/- 0.177   \n",
       "6  nell_sports->nell_finances   0.000 +/- 0.000   \n",
       "7  nell_finances->nell_sports   0.000 +/- 0.000   \n",
       "\n",
       "  Transfer Learning with Revision Theory Learning from scratch  \n",
       "0                        0.945 +/- 0.118       0.944 +/- 0.119  \n",
       "1                        1.000 +/- 0.000       1.000 +/- 0.000  \n",
       "2                        0.759 +/- 0.703       0.763 +/- 0.707  \n",
       "3                        1.000 +/- 0.000       1.000 +/- 0.000  \n",
       "4                        0.514 +/- 0.032       0.514 +/- 0.031  \n",
       "5                        0.554 +/- 0.149       0.507 +/- 0.160  \n",
       "6                        0.003 +/- 0.008       0.012 +/- 0.028  \n",
       "7                        0.886 +/- 0.036       0.879 +/- 0.024  "
      ]
     },
     "metadata": {},
     "output_type": "display_data"
    },
    {
     "data": {
      "text/markdown": [
       "# Results for F1"
      ],
      "text/plain": [
       "<IPython.core.display.Markdown object>"
      ]
     },
     "metadata": {},
     "output_type": "display_data"
    },
    {
     "data": {
      "text/html": [
       "<div>\n",
       "<table border=\"1\" class=\"dataframe\">\n",
       "  <thead>\n",
       "    <tr style=\"text-align: right;\">\n",
       "      <th></th>\n",
       "      <th>Experiment</th>\n",
       "      <th>Transfer Learning</th>\n",
       "      <th>Transfer Learning with Revision Theory</th>\n",
       "      <th>Learning from scratch</th>\n",
       "    </tr>\n",
       "  </thead>\n",
       "  <tbody>\n",
       "    <tr>\n",
       "      <th>0</th>\n",
       "      <td>imdb-&gt;uwcse</td>\n",
       "      <td>0.908 +/- 0.009</td>\n",
       "      <td>0.886 +/- 0.037</td>\n",
       "      <td>0.876 +/- 0.041</td>\n",
       "    </tr>\n",
       "    <tr>\n",
       "      <th>1</th>\n",
       "      <td>uwcse-&gt;imdb</td>\n",
       "      <td>1.000 +/- 0.000</td>\n",
       "      <td>0.989 +/- 0.044</td>\n",
       "      <td>0.957 +/- 0.065</td>\n",
       "    </tr>\n",
       "    <tr>\n",
       "      <th>2</th>\n",
       "      <td>imdb-&gt;cora</td>\n",
       "      <td>0.568 +/- 0.472</td>\n",
       "      <td>0.569 +/- 0.464</td>\n",
       "      <td>0.570 +/- 0.465</td>\n",
       "    </tr>\n",
       "    <tr>\n",
       "      <th>3</th>\n",
       "      <td>cora-&gt;imdb</td>\n",
       "      <td>0.872 +/- 0.021</td>\n",
       "      <td>0.993 +/- 0.007</td>\n",
       "      <td>0.957 +/- 0.065</td>\n",
       "    </tr>\n",
       "    <tr>\n",
       "      <th>4</th>\n",
       "      <td>yeast-&gt;twitter</td>\n",
       "      <td>0.673 +/- 0.080</td>\n",
       "      <td>0.613 +/- 0.031</td>\n",
       "      <td>0.613 +/- 0.031</td>\n",
       "    </tr>\n",
       "    <tr>\n",
       "      <th>5</th>\n",
       "      <td>twitter-&gt;yeast</td>\n",
       "      <td>0.582 +/- 0.077</td>\n",
       "      <td>0.599 +/- 0.061</td>\n",
       "      <td>0.573 +/- 0.091</td>\n",
       "    </tr>\n",
       "    <tr>\n",
       "      <th>6</th>\n",
       "      <td>nell_sports-&gt;nell_finances</td>\n",
       "      <td>nan +/- nan</td>\n",
       "      <td>nan +/- nan</td>\n",
       "      <td>nan +/- nan</td>\n",
       "    </tr>\n",
       "    <tr>\n",
       "      <th>7</th>\n",
       "      <td>nell_finances-&gt;nell_sports</td>\n",
       "      <td>nan +/- nan</td>\n",
       "      <td>0.858 +/- 0.028</td>\n",
       "      <td>0.867 +/- 0.014</td>\n",
       "    </tr>\n",
       "  </tbody>\n",
       "</table>\n",
       "</div>"
      ],
      "text/plain": [
       "                   Experiment Transfer Learning  \\\n",
       "0                 imdb->uwcse   0.908 +/- 0.009   \n",
       "1                 uwcse->imdb   1.000 +/- 0.000   \n",
       "2                  imdb->cora   0.568 +/- 0.472   \n",
       "3                  cora->imdb   0.872 +/- 0.021   \n",
       "4              yeast->twitter   0.673 +/- 0.080   \n",
       "5              twitter->yeast   0.582 +/- 0.077   \n",
       "6  nell_sports->nell_finances       nan +/- nan   \n",
       "7  nell_finances->nell_sports       nan +/- nan   \n",
       "\n",
       "  Transfer Learning with Revision Theory Learning from scratch  \n",
       "0                        0.886 +/- 0.037       0.876 +/- 0.041  \n",
       "1                        0.989 +/- 0.044       0.957 +/- 0.065  \n",
       "2                        0.569 +/- 0.464       0.570 +/- 0.465  \n",
       "3                        0.993 +/- 0.007       0.957 +/- 0.065  \n",
       "4                        0.613 +/- 0.031       0.613 +/- 0.031  \n",
       "5                        0.599 +/- 0.061       0.573 +/- 0.091  \n",
       "6                            nan +/- nan           nan +/- nan  \n",
       "7                        0.858 +/- 0.028       0.867 +/- 0.014  "
      ]
     },
     "metadata": {},
     "output_type": "display_data"
    },
    {
     "data": {
      "text/markdown": [
       "# Results for Precision"
      ],
      "text/plain": [
       "<IPython.core.display.Markdown object>"
      ]
     },
     "metadata": {},
     "output_type": "display_data"
    },
    {
     "data": {
      "text/html": [
       "<div>\n",
       "<table border=\"1\" class=\"dataframe\">\n",
       "  <thead>\n",
       "    <tr style=\"text-align: right;\">\n",
       "      <th></th>\n",
       "      <th>Experiment</th>\n",
       "      <th>Transfer Learning</th>\n",
       "      <th>Transfer Learning with Revision Theory</th>\n",
       "      <th>Learning from scratch</th>\n",
       "    </tr>\n",
       "  </thead>\n",
       "  <tbody>\n",
       "    <tr>\n",
       "      <th>0</th>\n",
       "      <td>imdb-&gt;uwcse</td>\n",
       "      <td>0.831 +/- 0.016</td>\n",
       "      <td>0.836 +/- 0.032</td>\n",
       "      <td>0.820 +/- 0.046</td>\n",
       "    </tr>\n",
       "    <tr>\n",
       "      <th>1</th>\n",
       "      <td>uwcse-&gt;imdb</td>\n",
       "      <td>1.000 +/- 0.000</td>\n",
       "      <td>0.979 +/- 0.083</td>\n",
       "      <td>0.920 +/- 0.120</td>\n",
       "    </tr>\n",
       "    <tr>\n",
       "      <th>2</th>\n",
       "      <td>imdb-&gt;cora</td>\n",
       "      <td>0.556 +/- 0.070</td>\n",
       "      <td>0.556 +/- 0.069</td>\n",
       "      <td>0.555 +/- 0.067</td>\n",
       "    </tr>\n",
       "    <tr>\n",
       "      <th>3</th>\n",
       "      <td>cora-&gt;imdb</td>\n",
       "      <td>0.774 +/- 0.032</td>\n",
       "      <td>0.986 +/- 0.014</td>\n",
       "      <td>0.920 +/- 0.120</td>\n",
       "    </tr>\n",
       "    <tr>\n",
       "      <th>4</th>\n",
       "      <td>yeast-&gt;twitter</td>\n",
       "      <td>0.643 +/- 0.081</td>\n",
       "      <td>0.760 +/- 0.026</td>\n",
       "      <td>0.760 +/- 0.027</td>\n",
       "    </tr>\n",
       "    <tr>\n",
       "      <th>5</th>\n",
       "      <td>twitter-&gt;yeast</td>\n",
       "      <td>0.681 +/- 0.068</td>\n",
       "      <td>0.662 +/- 0.060</td>\n",
       "      <td>0.671 +/- 0.045</td>\n",
       "    </tr>\n",
       "    <tr>\n",
       "      <th>6</th>\n",
       "      <td>nell_sports-&gt;nell_finances</td>\n",
       "      <td>nan +/- nan</td>\n",
       "      <td>nan +/- nan</td>\n",
       "      <td>nan +/- nan</td>\n",
       "    </tr>\n",
       "    <tr>\n",
       "      <th>7</th>\n",
       "      <td>nell_finances-&gt;nell_sports</td>\n",
       "      <td>nan +/- nan</td>\n",
       "      <td>0.833 +/- 0.042</td>\n",
       "      <td>0.856 +/- 0.015</td>\n",
       "    </tr>\n",
       "  </tbody>\n",
       "</table>\n",
       "</div>"
      ],
      "text/plain": [
       "                   Experiment Transfer Learning  \\\n",
       "0                 imdb->uwcse   0.831 +/- 0.016   \n",
       "1                 uwcse->imdb   1.000 +/- 0.000   \n",
       "2                  imdb->cora   0.556 +/- 0.070   \n",
       "3                  cora->imdb   0.774 +/- 0.032   \n",
       "4              yeast->twitter   0.643 +/- 0.081   \n",
       "5              twitter->yeast   0.681 +/- 0.068   \n",
       "6  nell_sports->nell_finances       nan +/- nan   \n",
       "7  nell_finances->nell_sports       nan +/- nan   \n",
       "\n",
       "  Transfer Learning with Revision Theory Learning from scratch  \n",
       "0                        0.836 +/- 0.032       0.820 +/- 0.046  \n",
       "1                        0.979 +/- 0.083       0.920 +/- 0.120  \n",
       "2                        0.556 +/- 0.069       0.555 +/- 0.067  \n",
       "3                        0.986 +/- 0.014       0.920 +/- 0.120  \n",
       "4                        0.760 +/- 0.026       0.760 +/- 0.027  \n",
       "5                        0.662 +/- 0.060       0.671 +/- 0.045  \n",
       "6                            nan +/- nan           nan +/- nan  \n",
       "7                        0.833 +/- 0.042       0.856 +/- 0.015  "
      ]
     },
     "metadata": {},
     "output_type": "display_data"
    },
    {
     "data": {
      "text/markdown": [
       "# Results for Learning and Revision time"
      ],
      "text/plain": [
       "<IPython.core.display.Markdown object>"
      ]
     },
     "metadata": {},
     "output_type": "display_data"
    },
    {
     "data": {
      "text/html": [
       "<div>\n",
       "<table border=\"1\" class=\"dataframe\">\n",
       "  <thead>\n",
       "    <tr style=\"text-align: right;\">\n",
       "      <th></th>\n",
       "      <th>Experiment</th>\n",
       "      <th>Transfer Learning</th>\n",
       "      <th>Transfer Learning with Revision Theory</th>\n",
       "      <th>Learning from scratch</th>\n",
       "    </tr>\n",
       "  </thead>\n",
       "  <tbody>\n",
       "    <tr>\n",
       "      <th>0</th>\n",
       "      <td>imdb-&gt;uwcse</td>\n",
       "      <td>3.471 +/- 2.659</td>\n",
       "      <td>7.751 +/- 5.040</td>\n",
       "      <td>6.901 +/- 13.793</td>\n",
       "    </tr>\n",
       "    <tr>\n",
       "      <th>1</th>\n",
       "      <td>uwcse-&gt;imdb</td>\n",
       "      <td>1.896 +/- 0.843</td>\n",
       "      <td>3.735 +/- 1.854</td>\n",
       "      <td>2.240 +/- 0.944</td>\n",
       "    </tr>\n",
       "    <tr>\n",
       "      <th>2</th>\n",
       "      <td>imdb-&gt;cora</td>\n",
       "      <td>33.220 +/- 26.484</td>\n",
       "      <td>62.292 +/- 49.619</td>\n",
       "      <td>36.807 +/- 30.491</td>\n",
       "    </tr>\n",
       "    <tr>\n",
       "      <th>3</th>\n",
       "      <td>cora-&gt;imdb</td>\n",
       "      <td>2.461 +/- 1.998</td>\n",
       "      <td>5.793 +/- 4.258</td>\n",
       "      <td>2.236 +/- 1.016</td>\n",
       "    </tr>\n",
       "    <tr>\n",
       "      <th>4</th>\n",
       "      <td>yeast-&gt;twitter</td>\n",
       "      <td>27.395 +/- 4.692</td>\n",
       "      <td>68.392 +/- 13.286</td>\n",
       "      <td>49.908 +/- 11.590</td>\n",
       "    </tr>\n",
       "    <tr>\n",
       "      <th>5</th>\n",
       "      <td>twitter-&gt;yeast</td>\n",
       "      <td>39.339 +/- 72.043</td>\n",
       "      <td>95.694 +/- 107.375</td>\n",
       "      <td>84.796 +/- 180.343</td>\n",
       "    </tr>\n",
       "    <tr>\n",
       "      <th>6</th>\n",
       "      <td>nell_sports-&gt;nell_finances</td>\n",
       "      <td>47.806 +/- 40.303</td>\n",
       "      <td>95.936 +/- 67.864</td>\n",
       "      <td>48.841 +/- 40.178</td>\n",
       "    </tr>\n",
       "    <tr>\n",
       "      <th>7</th>\n",
       "      <td>nell_finances-&gt;nell_sports</td>\n",
       "      <td>964.215 +/- 2706.069</td>\n",
       "      <td>2078.264 +/- 2744.348</td>\n",
       "      <td>662.010 +/- 437.385</td>\n",
       "    </tr>\n",
       "  </tbody>\n",
       "</table>\n",
       "</div>"
      ],
      "text/plain": [
       "                   Experiment     Transfer Learning  \\\n",
       "0                 imdb->uwcse       3.471 +/- 2.659   \n",
       "1                 uwcse->imdb       1.896 +/- 0.843   \n",
       "2                  imdb->cora     33.220 +/- 26.484   \n",
       "3                  cora->imdb       2.461 +/- 1.998   \n",
       "4              yeast->twitter      27.395 +/- 4.692   \n",
       "5              twitter->yeast     39.339 +/- 72.043   \n",
       "6  nell_sports->nell_finances     47.806 +/- 40.303   \n",
       "7  nell_finances->nell_sports  964.215 +/- 2706.069   \n",
       "\n",
       "  Transfer Learning with Revision Theory Learning from scratch  \n",
       "0                        7.751 +/- 5.040      6.901 +/- 13.793  \n",
       "1                        3.735 +/- 1.854       2.240 +/- 0.944  \n",
       "2                      62.292 +/- 49.619     36.807 +/- 30.491  \n",
       "3                        5.793 +/- 4.258       2.236 +/- 1.016  \n",
       "4                      68.392 +/- 13.286     49.908 +/- 11.590  \n",
       "5                     95.694 +/- 107.375    84.796 +/- 180.343  \n",
       "6                      95.936 +/- 67.864     48.841 +/- 40.178  \n",
       "7                  2078.264 +/- 2744.348   662.010 +/- 437.385  "
      ]
     },
     "metadata": {},
     "output_type": "display_data"
    },
    {
     "data": {
      "text/markdown": [
       "# Results for Inference time"
      ],
      "text/plain": [
       "<IPython.core.display.Markdown object>"
      ]
     },
     "metadata": {},
     "output_type": "display_data"
    },
    {
     "data": {
      "text/html": [
       "<div>\n",
       "<table border=\"1\" class=\"dataframe\">\n",
       "  <thead>\n",
       "    <tr style=\"text-align: right;\">\n",
       "      <th></th>\n",
       "      <th>Experiment</th>\n",
       "      <th>Transfer Learning</th>\n",
       "      <th>Transfer Learning with Revision Theory</th>\n",
       "      <th>Learning from scratch</th>\n",
       "    </tr>\n",
       "  </thead>\n",
       "  <tbody>\n",
       "    <tr>\n",
       "      <th>0</th>\n",
       "      <td>imdb-&gt;uwcse</td>\n",
       "      <td>3.471 +/- 2.659</td>\n",
       "      <td>0.799 +/- 0.067</td>\n",
       "      <td>0.773 +/- 0.073</td>\n",
       "    </tr>\n",
       "    <tr>\n",
       "      <th>1</th>\n",
       "      <td>uwcse-&gt;imdb</td>\n",
       "      <td>1.896 +/- 0.843</td>\n",
       "      <td>0.850 +/- 0.103</td>\n",
       "      <td>0.826 +/- 0.087</td>\n",
       "    </tr>\n",
       "    <tr>\n",
       "      <th>2</th>\n",
       "      <td>imdb-&gt;cora</td>\n",
       "      <td>33.220 +/- 26.484</td>\n",
       "      <td>3.944 +/- 2.845</td>\n",
       "      <td>3.339 +/- 2.535</td>\n",
       "    </tr>\n",
       "    <tr>\n",
       "      <th>3</th>\n",
       "      <td>cora-&gt;imdb</td>\n",
       "      <td>2.461 +/- 1.998</td>\n",
       "      <td>1.284 +/- 0.337</td>\n",
       "      <td>0.828 +/- 0.088</td>\n",
       "    </tr>\n",
       "    <tr>\n",
       "      <th>4</th>\n",
       "      <td>yeast-&gt;twitter</td>\n",
       "      <td>27.395 +/- 4.692</td>\n",
       "      <td>1.443 +/- 0.113</td>\n",
       "      <td>1.306 +/- 0.138</td>\n",
       "    </tr>\n",
       "    <tr>\n",
       "      <th>5</th>\n",
       "      <td>twitter-&gt;yeast</td>\n",
       "      <td>39.339 +/- 72.043</td>\n",
       "      <td>2.777 +/- 1.002</td>\n",
       "      <td>2.822 +/- 1.387</td>\n",
       "    </tr>\n",
       "    <tr>\n",
       "      <th>6</th>\n",
       "      <td>nell_sports-&gt;nell_finances</td>\n",
       "      <td>47.806 +/- 40.303</td>\n",
       "      <td>1.942 +/- 1.746</td>\n",
       "      <td>1.440 +/- 0.343</td>\n",
       "    </tr>\n",
       "    <tr>\n",
       "      <th>7</th>\n",
       "      <td>nell_finances-&gt;nell_sports</td>\n",
       "      <td>964.215 +/- 2706.069</td>\n",
       "      <td>82.334 +/- 154.919</td>\n",
       "      <td>8.076 +/- 5.090</td>\n",
       "    </tr>\n",
       "  </tbody>\n",
       "</table>\n",
       "</div>"
      ],
      "text/plain": [
       "                   Experiment     Transfer Learning  \\\n",
       "0                 imdb->uwcse       3.471 +/- 2.659   \n",
       "1                 uwcse->imdb       1.896 +/- 0.843   \n",
       "2                  imdb->cora     33.220 +/- 26.484   \n",
       "3                  cora->imdb       2.461 +/- 1.998   \n",
       "4              yeast->twitter      27.395 +/- 4.692   \n",
       "5              twitter->yeast     39.339 +/- 72.043   \n",
       "6  nell_sports->nell_finances     47.806 +/- 40.303   \n",
       "7  nell_finances->nell_sports  964.215 +/- 2706.069   \n",
       "\n",
       "  Transfer Learning with Revision Theory Learning from scratch  \n",
       "0                        0.799 +/- 0.067       0.773 +/- 0.073  \n",
       "1                        0.850 +/- 0.103       0.826 +/- 0.087  \n",
       "2                        3.944 +/- 2.845       3.339 +/- 2.535  \n",
       "3                        1.284 +/- 0.337       0.828 +/- 0.088  \n",
       "4                        1.443 +/- 0.113       1.306 +/- 0.138  \n",
       "5                        2.777 +/- 1.002       2.822 +/- 1.387  \n",
       "6                        1.942 +/- 1.746       1.440 +/- 0.343  \n",
       "7                     82.334 +/- 154.919       8.076 +/- 5.090  "
      ]
     },
     "metadata": {},
     "output_type": "display_data"
    }
   ],
   "source": [
    "experiments = [\n",
    "            {'source':'imdb', 'target':'uwcse', 'predicate':'workedunder'},\n",
    "            {'source':'uwcse', 'target':'imdb', 'predicate':'advisedby'},\n",
    "            {'source':'imdb', 'target':'cora', 'predicate':'workedunder'},\n",
    "            {'source':'cora', 'target':'imdb', 'predicate':'samevenue'},\n",
    "            {'source':'yeast', 'target':'twitter', 'predicate':'interaction'},\n",
    "            {'source':'twitter', 'target':'yeast', 'predicate':'follows'},\n",
    "            {'source':'nell_sports', 'target':'nell_finances', 'predicate':'teamplayssport'},\n",
    "            {'source':'nell_finances', 'target':'nell_sports', 'predicate':'companyeconomicsector'},\n",
    "            #{'source':'yeast', 'target':'webkb', 'predicate':'proteinclass'},\n",
    "            #{'source':'webkb', 'target':'yeast', 'predicate':'departmentof'},\n",
    "            #{'source':'twitter', 'target':'webkb', 'predicate':'accounttype'},\n",
    "            #{'source':'webkb', 'target':'twitter', 'predicate':'pageclass'},\n",
    "            ]\n",
    "\n",
    "for metric in ['AUC ROC', 'AUC PR', 'CLL', 'Recall', 'F1', 'Precision', 'Learning and Revision time', 'Inference time']:\n",
    "    display(Markdown('# Results for ' + metric))\n",
    "    table = []\n",
    "    for j in range(len(experiments)):\n",
    "        dataset = experiments[j]['source'] + '->' + experiments[j]['target']\n",
    "        if dataset in data['results']: \n",
    "            #for metric in ['AUC ROC', 'AUC PR']:\n",
    "                #display(Markdown('## ' + metric))\n",
    "            if metric == 'Precision':\n",
    "                scratch = np.array([item['scratch']['Precision'][0] for sublist in data['results'][str(dataset)] for item in sublist])\n",
    "                parameter = np.array([item['transfer']['Parameter Learning results']['Precision'][0] for sublist in data['results'][str(dataset)] for item in sublist])\n",
    "                transfer = np.array([item['transfer']['Precision'][0] for sublist in data['results'][str(dataset)] for item in sublist])\n",
    "            elif metric == 'Learning and Revision time':\n",
    "                scratch = np.array([item['scratch']['Learning time'] for sublist in data['results'][str(dataset)] for item in sublist])\n",
    "                parameter = np.array([item['transfer']['Parameter Learning results']['Learning time'] for sublist in data['results'][str(dataset)] for item in sublist])\n",
    "                transfer = np.array([item['transfer']['Learning time'] for sublist in data['results'][str(dataset)] for item in sublist])\n",
    "            elif metric == 'Inference time':\n",
    "                scratch = np.array([item['scratch']['Inference time'] for sublist in data['results'][str(dataset)] for item in sublist])\n",
    "                parameter = np.array([item['transfer']['Parameter Learning results']['Learning time'] for sublist in data['results'][str(dataset)] for item in sublist])\n",
    "                transfer = np.array([item['transfer']['Inference time'] for sublist in data['results'][str(dataset)] for item in sublist])\n",
    "            else:\n",
    "                scratch = np.array([item['scratch'][metric] for sublist in data['results'][str(dataset)] for item in sublist])\n",
    "                parameter = np.array([item['transfer']['Parameter Learning results'][metric] for sublist in data['results'][str(dataset)] for item in sublist])\n",
    "                transfer = np.array([item['transfer'][metric] for sublist in data['results'][str(dataset)] for item in sublist])\n",
    "            table.append([dataset, '%.3f +/- %.3f' % (parameter.mean(), 2 * parameter.std()),\n",
    "            '%.3f +/- %.3f' % (transfer.mean(), 2 * transfer.std()),\n",
    "            '%.3f +/- %.3f' % (scratch.mean(), 2 * scratch.std())])\n",
    "    display(pd.DataFrame(table, columns=['Experiment', 'Transfer Learning', 'Transfer Learning with Revision Theory', 'Learning from scratch']))"
   ]
  },
  {
   "cell_type": "code",
   "execution_count": 3,
   "metadata": {
    "collapsed": false
   },
   "outputs": [
    {
     "data": {
      "text/markdown": [
       "# Results for imdb->uwcse"
      ],
      "text/plain": [
       "<IPython.core.display.Markdown object>"
      ]
     },
     "metadata": {},
     "output_type": "display_data"
    },
    {
     "data": {
      "text/markdown": [
       "## AUC ROC"
      ],
      "text/plain": [
       "<IPython.core.display.Markdown object>"
      ]
     },
     "metadata": {},
     "output_type": "display_data"
    },
    {
     "name": "stdout",
     "output_type": "stream",
     "text": [
      "Scratch: [0.915598 0.919644 0.895433 0.944453 0.854182 0.915434 0.919528 0.895433\n",
      " 0.939766 0.852482 0.915434 0.919528 0.895433 0.944453 0.847699 0.915434\n",
      " 0.919528 0.895433 0.94     0.850462 0.915598 0.907388 0.895433 0.94\n",
      " 0.850462]\n",
      "Transfer: [0.928748 0.936524 0.934911 0.939063 0.936231 0.928748 0.936524 0.934911\n",
      " 0.939063 0.936231 0.928748 0.936524 0.934911 0.939063 0.936231 0.928748\n",
      " 0.936524 0.934911 0.939063 0.936231 0.928748 0.936524 0.934911 0.939063\n",
      " 0.936231]\n",
      "Transfer & Revision: [0.930473 0.952827 0.923909 0.939609 0.914444 0.930638 0.952827 0.923909\n",
      " 0.939375 0.914444 0.931131 0.952827 0.923909 0.939922 0.914444 0.931131\n",
      " 0.952827 0.923909 0.939766 0.914444 0.931624 0.952827 0.923909 0.939688\n",
      " 0.914444]\n"
     ]
    },
    {
     "data": {
      "text/markdown": [
       "## AUC PR"
      ],
      "text/plain": [
       "<IPython.core.display.Markdown object>"
      ]
     },
     "metadata": {},
     "output_type": "display_data"
    },
    {
     "name": "stdout",
     "output_type": "stream",
     "text": [
      "Scratch: [0.864411 0.885346 0.827978 0.934059 0.777138 0.864291 0.884671 0.827978\n",
      " 0.896334 0.773535 0.864397 0.884671 0.827978 0.934059 0.76777  0.864291\n",
      " 0.884671 0.827978 0.899002 0.795275 0.864411 0.868351 0.827978 0.899002\n",
      " 0.795275]\n",
      "Transfer: [0.918202 0.925853 0.926596 0.928784 0.927706 0.918202 0.925853 0.926596\n",
      " 0.928784 0.927706 0.918202 0.925853 0.926596 0.928784 0.927706 0.918202\n",
      " 0.925853 0.926596 0.928784 0.927706 0.918202 0.925853 0.926596 0.928784\n",
      " 0.927706]\n",
      "Transfer & Revision: [0.889492 0.947848 0.879179 0.896151 0.873614 0.889854 0.947848 0.879179\n",
      " 0.895871 0.873614 0.8906   0.947848 0.879179 0.896398 0.873614 0.890212\n",
      " 0.947848 0.879179 0.896334 0.873614 0.890957 0.947848 0.879179 0.898755\n",
      " 0.873614]\n"
     ]
    },
    {
     "data": {
      "text/markdown": [
       "## CLL"
      ],
      "text/plain": [
       "<IPython.core.display.Markdown object>"
      ]
     },
     "metadata": {},
     "output_type": "display_data"
    },
    {
     "name": "stdout",
     "output_type": "stream",
     "text": [
      "Scratch: [-0.309874 -0.334816 -0.314588 -0.300728 -0.405108 -0.30961  -0.335636\n",
      " -0.314588 -0.304731 -0.405768 -0.308935 -0.335636 -0.314588 -0.302665\n",
      " -0.405395 -0.309823 -0.335636 -0.314588 -0.303023 -0.404323 -0.310283\n",
      " -0.337788 -0.314588 -0.301815 -0.404628]\n",
      "Transfer: [-0.292223 -0.29085  -0.289509 -0.281731 -0.28091  -0.292223 -0.29085\n",
      " -0.289509 -0.281731 -0.28091  -0.292223 -0.29085  -0.289509 -0.281731\n",
      " -0.28091  -0.292223 -0.29085  -0.289509 -0.281731 -0.28091  -0.292223\n",
      " -0.29085  -0.289509 -0.281731 -0.28091 ]\n",
      "Transfer & Revision: [-0.292259 -0.284104 -0.291737 -0.298598 -0.324903 -0.292877 -0.284104\n",
      " -0.291737 -0.299582 -0.324903 -0.290534 -0.284104 -0.291737 -0.303196\n",
      " -0.324903 -0.29257  -0.284104 -0.291737 -0.304731 -0.324903 -0.290744\n",
      " -0.284104 -0.291737 -0.298357 -0.324903]\n"
     ]
    },
    {
     "data": {
      "text/markdown": [
       "## Recall"
      ],
      "text/plain": [
       "<IPython.core.display.Markdown object>"
      ]
     },
     "metadata": {},
     "output_type": "display_data"
    },
    {
     "name": "stdout",
     "output_type": "stream",
     "text": [
      "Scratch: [0.974359 0.924731 1.       0.875    1.       0.974359 0.860215 1.\n",
      " 0.875    1.       0.974359 0.860215 1.       0.875    1.       0.974359\n",
      " 0.860215 1.       0.875    1.       0.974359 0.860215 1.       0.875\n",
      " 1.      ]\n",
      "Transfer: [1. 1. 1. 1. 1. 1. 1. 1. 1. 1. 1. 1. 1. 1. 1. 1. 1. 1. 1. 1. 1. 1. 1. 1.\n",
      " 1.]\n",
      "Transfer & Revision: [0.987179 0.860215 1.       0.9      1.       0.974359 0.860215 1.\n",
      " 0.9      1.       0.974359 0.860215 1.       0.875    1.       0.974359\n",
      " 0.860215 1.       0.875    1.       0.974359 0.860215 1.       0.9\n",
      " 1.      ]\n"
     ]
    },
    {
     "data": {
      "text/markdown": [
       "## F1"
      ],
      "text/plain": [
       "<IPython.core.display.Markdown object>"
      ]
     },
     "metadata": {},
     "output_type": "display_data"
    },
    {
     "name": "stdout",
     "output_type": "stream",
     "text": [
      "Scratch: [0.888889 0.86     0.904348 0.864198 0.877828 0.888889 0.842105 0.904348\n",
      " 0.864198 0.877828 0.888889 0.842105 0.904348 0.864198 0.877828 0.888889\n",
      " 0.842105 0.904348 0.864198 0.877828 0.888889 0.842105 0.904348 0.864198\n",
      " 0.877828]\n",
      "Transfer: [0.901734 0.911765 0.904348 0.914286 0.906542 0.901734 0.911765 0.904348\n",
      " 0.914286 0.906542 0.901734 0.911765 0.904348 0.914286 0.906542 0.901734\n",
      " 0.911765 0.904348 0.914286 0.906542 0.901734 0.911765 0.904348 0.914286\n",
      " 0.906542]\n",
      "Transfer & Revision: [0.895349 0.860215 0.904348 0.872727 0.906542 0.888889 0.860215 0.904348\n",
      " 0.872727 0.906542 0.888889 0.860215 0.904348 0.864198 0.906542 0.888889\n",
      " 0.860215 0.904348 0.864198 0.906542 0.888889 0.860215 0.904348 0.872727\n",
      " 0.906542]\n"
     ]
    },
    {
     "data": {
      "text/markdown": [
       "## Precision"
      ],
      "text/plain": [
       "<IPython.core.display.Markdown object>"
      ]
     },
     "metadata": {},
     "output_type": "display_data"
    },
    {
     "name": "stdout",
     "output_type": "stream",
     "text": [
      "Scratch: [0.817204 0.803738 0.825397 0.853659 0.782258 0.817204 0.824742 0.825397\n",
      " 0.853659 0.782258 0.817204 0.824742 0.825397 0.853659 0.782258 0.817204\n",
      " 0.824742 0.825397 0.853659 0.782258 0.817204 0.824742 0.825397 0.853659\n",
      " 0.782258]\n",
      "Transfer: [0.821053 0.837838 0.825397 0.842105 0.82906  0.821053 0.837838 0.825397\n",
      " 0.842105 0.82906  0.821053 0.837838 0.825397 0.842105 0.82906  0.821053\n",
      " 0.837838 0.825397 0.842105 0.82906  0.821053 0.837838 0.825397 0.842105\n",
      " 0.82906 ]\n",
      "Transfer & Revision: [0.819149 0.860215 0.825397 0.847059 0.82906  0.817204 0.860215 0.825397\n",
      " 0.847059 0.82906  0.817204 0.860215 0.825397 0.853659 0.82906  0.817204\n",
      " 0.860215 0.825397 0.853659 0.82906  0.817204 0.860215 0.825397 0.847059\n",
      " 0.82906 ]\n"
     ]
    },
    {
     "data": {
      "text/markdown": [
       "## Learning and Revision time"
      ],
      "text/plain": [
       "<IPython.core.display.Markdown object>"
      ]
     },
     "metadata": {},
     "output_type": "display_data"
    },
    {
     "name": "stdout",
     "output_type": "stream",
     "text": [
      "Scratch: [ 6.175  4.121  2.285  6.126  6.429  5.447  4.046  2.295 32.763  6.907\n",
      "  5.835  4.116  2.294  6.199  7.026  5.859  4.121  2.379 26.105  6.85\n",
      "  6.051  4.782  2.218  5.333  6.768]\n",
      "Transfer: [2.359 4.158 1.699 3.546 5.37  2.32  4.434 1.79  3.439 5.425 2.392 4.201\n",
      " 1.759 3.207 5.37  2.394 4.407 1.926 3.212 5.614 2.255 4.497 1.803 3.712\n",
      " 5.487]\n",
      "Transfer & Revision: [ 7.763  7.369  3.639  8.655 11.326  7.487  7.702  3.691  8.606 11.496\n",
      "  7.626  7.45   3.767  7.821 11.372  7.81   7.521  3.809  7.654 12.14\n",
      "  7.276  7.844  3.628  8.762 11.569]\n"
     ]
    },
    {
     "data": {
      "text/markdown": [
       "## Inference time"
      ],
      "text/plain": [
       "<IPython.core.display.Markdown object>"
      ]
     },
     "metadata": {},
     "output_type": "display_data"
    },
    {
     "name": "stdout",
     "output_type": "stream",
     "text": [
      "Scratch: [0.754 0.776 0.708 0.789 0.781 0.785 0.758 0.754 0.82  0.791 0.764 0.799\n",
      " 0.692 0.785 0.847 0.829 0.749 0.738 0.756 0.816 0.763 0.756 0.723 0.779\n",
      " 0.818]\n",
      "Transfer: [2.359 4.158 1.699 3.546 5.37  2.32  4.434 1.79  3.439 5.425 2.392 4.201\n",
      " 1.759 3.207 5.37  2.394 4.407 1.926 3.212 5.614 2.255 4.497 1.803 3.712\n",
      " 5.487]\n",
      "Transfer & Revision: [0.782 0.797 0.819 0.751 0.822 0.768 0.779 0.765 0.802 0.867 0.786 0.772\n",
      " 0.783 0.761 0.84  0.83  0.766 0.82  0.769 0.867 0.826 0.769 0.8   0.786\n",
      " 0.858]\n"
     ]
    },
    {
     "data": {
      "text/markdown": [
       "# Results for uwcse->imdb"
      ],
      "text/plain": [
       "<IPython.core.display.Markdown object>"
      ]
     },
     "metadata": {},
     "output_type": "display_data"
    },
    {
     "data": {
      "text/markdown": [
       "## AUC ROC"
      ],
      "text/plain": [
       "<IPython.core.display.Markdown object>"
      ]
     },
     "metadata": {},
     "output_type": "display_data"
    },
    {
     "name": "stdout",
     "output_type": "stream",
     "text": [
      "Scratch: [1.       0.990741 1.       0.995298 0.916914 1.       0.990741 1.\n",
      " 0.995298 0.916914 1.       0.990741 1.       0.995298 0.916914 1.\n",
      " 0.990741 1.       0.995298 0.916914 1.       0.990741 1.       0.995298\n",
      " 0.916914]\n",
      "Transfer: [1. 1. 1. 1. 1. 1. 1. 1. 1. 1. 1. 1. 1. 1. 1. 1. 1. 1. 1. 1. 1. 1. 1. 1.\n",
      " 1.]\n",
      "Transfer & Revision: [1.       1.       1.       1.       0.942136 1.       1.       1.\n",
      " 1.       0.942136 1.       1.       1.       1.       0.942136 1.\n",
      " 1.       1.       1.       0.942136 1.       1.       1.       1.\n",
      " 0.942136]\n"
     ]
    },
    {
     "data": {
      "text/markdown": [
       "## AUC PR"
      ],
      "text/plain": [
       "<IPython.core.display.Markdown object>"
      ]
     },
     "metadata": {},
     "output_type": "display_data"
    },
    {
     "name": "stdout",
     "output_type": "stream",
     "text": [
      "Scratch: [1.       0.981818 1.       0.994219 0.857506 1.       0.981818 1.\n",
      " 0.994219 0.857506 1.       0.981818 1.       0.994219 0.857506 1.\n",
      " 0.981818 1.       0.994219 0.857506 1.       0.981818 1.       0.994219\n",
      " 0.857506]\n",
      "Transfer: [1. 1. 1. 1. 1. 1. 1. 1. 1. 1. 1. 1. 1. 1. 1. 1. 1. 1. 1. 1. 1. 1. 1. 1.\n",
      " 1.]\n",
      "Transfer & Revision: [1.       1.       1.       1.       0.896277 1.       1.       1.\n",
      " 1.       0.896277 1.       1.       1.       1.       0.896277 1.\n",
      " 1.       1.       1.       0.896277 1.       1.       1.       1.\n",
      " 0.896277]\n"
     ]
    },
    {
     "data": {
      "text/markdown": [
       "## CLL"
      ],
      "text/plain": [
       "<IPython.core.display.Markdown object>"
      ]
     },
     "metadata": {},
     "output_type": "display_data"
    },
    {
     "name": "stdout",
     "output_type": "stream",
     "text": [
      "Scratch: [-0.179352 -0.113754 -0.094637 -0.164888 -0.266175 -0.179352 -0.113754\n",
      " -0.094637 -0.164888 -0.266175 -0.179352 -0.113754 -0.094637 -0.164928\n",
      " -0.266175 -0.179352 -0.113754 -0.094637 -0.164888 -0.266175 -0.179352\n",
      " -0.113754 -0.094637 -0.164888 -0.266175]\n",
      "Transfer: [-0.104813 -0.10521  -0.101624 -0.104932 -0.108074 -0.09576  -0.095451\n",
      " -0.094637 -0.095497 -0.099882 -0.096636 -0.097116 -0.096595 -0.09748\n",
      " -0.101766 -0.09782  -0.097934 -0.096577 -0.097664 -0.103986 -0.095851\n",
      " -0.095505 -0.094637 -0.095604 -0.099882]\n",
      "Transfer & Revision: [-0.099697 -0.094637 -0.094637 -0.099409 -0.214101 -0.094637 -0.094782\n",
      " -0.094637 -0.094637 -0.214101 -0.098119 -0.094637 -0.096179 -0.097618\n",
      " -0.214101 -0.096171 -0.094637 -0.094637 -0.095878 -0.214101 -0.094637\n",
      " -0.094796 -0.094637 -0.094637 -0.214101]\n"
     ]
    },
    {
     "data": {
      "text/markdown": [
       "## Recall"
      ],
      "text/plain": [
       "<IPython.core.display.Markdown object>"
      ]
     },
     "metadata": {},
     "output_type": "display_data"
    },
    {
     "name": "stdout",
     "output_type": "stream",
     "text": [
      "Scratch: [1. 1. 1. 1. 1. 1. 1. 1. 1. 1. 1. 1. 1. 1. 1. 1. 1. 1. 1. 1. 1. 1. 1. 1.\n",
      " 1.]\n",
      "Transfer: [1. 1. 1. 1. 1. 1. 1. 1. 1. 1. 1. 1. 1. 1. 1. 1. 1. 1. 1. 1. 1. 1. 1. 1.\n",
      " 1.]\n",
      "Transfer & Revision: [1. 1. 1. 1. 1. 1. 1. 1. 1. 1. 1. 1. 1. 1. 1. 1. 1. 1. 1. 1. 1. 1. 1. 1.\n",
      " 1.]\n"
     ]
    },
    {
     "data": {
      "text/markdown": [
       "## F1"
      ],
      "text/plain": [
       "<IPython.core.display.Markdown object>"
      ]
     },
     "metadata": {},
     "output_type": "display_data"
    },
    {
     "name": "stdout",
     "output_type": "stream",
     "text": [
      "Scratch: [0.946299 0.990826 1.       0.925824 0.923288 0.946299 0.990826 1.\n",
      " 0.925824 0.923288 0.946299 0.990826 1.       0.925824 0.923288 0.946299\n",
      " 0.990826 1.       0.925824 0.923288 0.946299 0.990826 1.       0.925824\n",
      " 0.923288]\n",
      "Transfer: [1. 1. 1. 1. 1. 1. 1. 1. 1. 1. 1. 1. 1. 1. 1. 1. 1. 1. 1. 1. 1. 1. 1. 1.\n",
      " 1.]\n",
      "Transfer & Revision: [1.       1.       1.       1.       0.945302 1.       1.       1.\n",
      " 1.       0.945302 1.       1.       1.       1.       0.945302 1.\n",
      " 1.       1.       1.       0.945302 1.       1.       1.       1.\n",
      " 0.945302]\n"
     ]
    },
    {
     "data": {
      "text/markdown": [
       "## Precision"
      ],
      "text/plain": [
       "<IPython.core.display.Markdown object>"
      ]
     },
     "metadata": {},
     "output_type": "display_data"
    },
    {
     "name": "stdout",
     "output_type": "stream",
     "text": [
      "Scratch: [0.898072 0.981818 1.       0.861893 0.857506 0.898072 0.981818 1.\n",
      " 0.861893 0.857506 0.898072 0.981818 1.       0.861893 0.857506 0.898072\n",
      " 0.981818 1.       0.861893 0.857506 0.898072 0.981818 1.       0.861893\n",
      " 0.857506]\n",
      "Transfer: [1. 1. 1. 1. 1. 1. 1. 1. 1. 1. 1. 1. 1. 1. 1. 1. 1. 1. 1. 1. 1. 1. 1. 1.\n",
      " 1.]\n",
      "Transfer & Revision: [1.       1.       1.       1.       0.896277 1.       1.       1.\n",
      " 1.       0.896277 1.       1.       1.       1.       0.896277 1.\n",
      " 1.       1.       1.       0.896277 1.       1.       1.       1.\n",
      " 0.896277]\n"
     ]
    },
    {
     "data": {
      "text/markdown": [
       "## Learning and Revision time"
      ],
      "text/plain": [
       "<IPython.core.display.Markdown object>"
      ]
     },
     "metadata": {},
     "output_type": "display_data"
    },
    {
     "name": "stdout",
     "output_type": "stream",
     "text": [
      "Scratch: [2.315 2.09  3.084 2.323 1.57  2.158 2.027 3.088 2.125 1.597 2.357 2.\n",
      " 3.036 2.185 1.58  2.345 2.043 3.029 2.194 1.651 2.338 2.005 3.017 2.189\n",
      " 1.658]\n",
      "Transfer: [1.937 1.681 3.25  1.595 1.56  1.981 1.859 2.463 1.674 1.669 1.823 1.69\n",
      " 2.488 1.537 1.636 1.59  1.528 2.568 1.602 1.603 2.088 1.938 2.418 1.661\n",
      " 1.558]\n",
      "Transfer & Revision: [3.694 3.227 5.676 3.146 4.018 3.577 3.769 4.65  3.225 3.048 3.342 3.224\n",
      " 5.287 3.128 2.895 3.152 3.027 6.018 3.033 2.979 3.681 4.019 5.541 3.148\n",
      " 2.876]\n"
     ]
    },
    {
     "data": {
      "text/markdown": [
       "## Inference time"
      ],
      "text/plain": [
       "<IPython.core.display.Markdown object>"
      ]
     },
     "metadata": {},
     "output_type": "display_data"
    },
    {
     "name": "stdout",
     "output_type": "stream",
     "text": [
      "Scratch: [0.883 0.81  0.783 0.837 0.735 0.865 0.848 0.816 0.831 0.759 0.908 0.874\n",
      " 0.788 0.839 0.772 0.883 0.825 0.787 0.842 0.803 0.858 0.851 0.769 0.879\n",
      " 0.814]\n",
      "Transfer: [1.937 1.681 3.25  1.595 1.56  1.981 1.859 2.463 1.674 1.669 1.823 1.69\n",
      " 2.488 1.537 1.636 1.59  1.528 2.568 1.602 1.603 2.088 1.938 2.418 1.661\n",
      " 1.558]\n",
      "Transfer & Revision: [0.84  0.873 0.779 0.839 0.948 0.842 0.944 0.757 0.856 0.801 0.843 0.93\n",
      " 0.778 0.835 0.802 0.841 0.861 0.852 0.891 0.792 0.881 0.942 0.833 0.873\n",
      " 0.819]\n"
     ]
    },
    {
     "data": {
      "text/markdown": [
       "# Results for imdb->cora"
      ],
      "text/plain": [
       "<IPython.core.display.Markdown object>"
      ]
     },
     "metadata": {},
     "output_type": "display_data"
    },
    {
     "data": {
      "text/markdown": [
       "## AUC ROC"
      ],
      "text/plain": [
       "<IPython.core.display.Markdown object>"
      ]
     },
     "metadata": {},
     "output_type": "display_data"
    },
    {
     "name": "stdout",
     "output_type": "stream",
     "text": [
      "Scratch: [0.547342 0.440788 0.547985 0.57133  0.542666 0.548233 0.462513 0.547858\n",
      " 0.571069 0.541817 0.549477 0.45077  0.546617 0.571643 0.54968  0.547342\n",
      " 0.451997 0.547855 0.572306 0.547949 0.548235 0.452771 0.547997 0.571331\n",
      " 0.54477 ]\n",
      "Transfer: [0.548233 0.462593 0.547997 0.56567  0.547529 0.548236 0.440786 0.547994\n",
      " 0.571833 0.549787 0.548928 0.439993 0.547997 0.571945 0.550092 0.548233\n",
      " 0.439227 0.547986 0.572027 0.534815 0.548236 0.44001  0.54787  0.571034\n",
      " 0.550101]\n",
      "Transfer & Revision: [0.549421 0.451377 0.547994 0.571979 0.550072 0.547345 0.440778 0.547985\n",
      " 0.572741 0.549055 0.549424 0.451834 0.547997 0.571945 0.55069  0.548233\n",
      " 0.4516   0.547997 0.572027 0.550513 0.549421 0.440927 0.547994 0.572686\n",
      " 0.550496]\n"
     ]
    },
    {
     "data": {
      "text/markdown": [
       "## AUC PR"
      ],
      "text/plain": [
       "<IPython.core.display.Markdown object>"
      ]
     },
     "metadata": {},
     "output_type": "display_data"
    },
    {
     "name": "stdout",
     "output_type": "stream",
     "text": [
      "Scratch: [0.551722 0.452306 0.555914 0.586544 0.557544 0.553546 0.461282 0.555876\n",
      " 0.584781 0.555783 0.552873 0.453263 0.555126 0.5888   0.56785  0.551722\n",
      " 0.45529  0.555875 0.591187 0.564015 0.553546 0.458395 0.555917 0.586548\n",
      " 0.562661]\n",
      "Transfer: [0.553546 0.462623 0.555917 0.579977 0.562683 0.553547 0.452304 0.555917\n",
      " 0.592328 0.570295 0.553957 0.447824 0.555917 0.590058 0.568181 0.553546\n",
      " 0.448945 0.555914 0.588188 0.544945 0.553547 0.450416 0.555879 0.59089\n",
      " 0.568903]\n",
      "Transfer & Revision: [0.551891 0.457205 0.555917 0.590256 0.568071 0.551723 0.452313 0.555914\n",
      " 0.59253  0.566699 0.551892 0.457332 0.555917 0.590058 0.56886  0.553546\n",
      " 0.457942 0.555917 0.588188 0.569473 0.551891 0.452939 0.555917 0.591872\n",
      " 0.569469]\n"
     ]
    },
    {
     "data": {
      "text/markdown": [
       "## CLL"
      ],
      "text/plain": [
       "<IPython.core.display.Markdown object>"
      ]
     },
     "metadata": {},
     "output_type": "display_data"
    },
    {
     "name": "stdout",
     "output_type": "stream",
     "text": [
      "Scratch: [-0.684467 -0.71465  -0.684833 -0.680255 -0.686809 -0.684494 -0.709976\n",
      " -0.684879 -0.680366 -0.687142 -0.685435 -0.711378 -0.684883 -0.679439\n",
      " -0.686579 -0.68457  -0.711693 -0.684986 -0.678717 -0.686906 -0.684491\n",
      " -0.713605 -0.684864 -0.680227 -0.685526]\n",
      "Transfer: [-0.68455  -0.713005 -0.684917 -0.682691 -0.687075 -0.684494 -0.712955\n",
      " -0.684882 -0.678469 -0.685777 -0.684579 -0.711614 -0.68491  -0.678859\n",
      " -0.685966 -0.68459  -0.712399 -0.684843 -0.679198 -0.687545 -0.684587\n",
      " -0.712953 -0.68489  -0.679773 -0.685773]\n",
      "Transfer & Revision: [-0.684629 -0.715659 -0.684986 -0.678892 -0.686272 -0.684625 -0.713635\n",
      " -0.684899 -0.677878 -0.685319 -0.684666 -0.714185 -0.685037 -0.678859\n",
      " -0.685158 -0.684598 -0.715458 -0.68495  -0.679198 -0.686457 -0.684937\n",
      " -0.715811 -0.684984 -0.678061 -0.685787]\n"
     ]
    },
    {
     "data": {
      "text/markdown": [
       "## Recall"
      ],
      "text/plain": [
       "<IPython.core.display.Markdown object>"
      ]
     },
     "metadata": {},
     "output_type": "display_data"
    },
    {
     "name": "stdout",
     "output_type": "stream",
     "text": [
      "Scratch: [0.94413  0.973731 0.897783 0.057709 0.942035 0.94413  0.97195  0.897783\n",
      " 0.057709 0.94244  0.921102 0.979519 0.917898 0.057709 0.950547 0.94413\n",
      " 0.966162 0.897783 0.057709 0.94244  0.94413  0.972841 0.897783 0.057709\n",
      " 0.950547]\n",
      "Transfer: [0.94413  0.966607 0.897783 0.03304  0.950547 0.94413  0.973731 0.897783\n",
      " 0.057709 0.951358 0.914307 0.973731 0.897783 0.057709 0.94244  0.94413\n",
      " 0.973731 0.897783 0.057709 0.94244  0.94413  0.973731 0.897783 0.057709\n",
      " 0.950547]\n",
      "Transfer & Revision: [0.921102 0.973731 0.897783 0.057709 0.94244  0.94413  0.973731 0.897783\n",
      " 0.057709 0.933928 0.921102 0.966607 0.897783 0.057709 0.934333 0.94413\n",
      " 0.973731 0.897783 0.057709 0.934333 0.921102 0.973731 0.897783 0.057709\n",
      " 0.934333]\n"
     ]
    },
    {
     "data": {
      "text/markdown": [
       "## F1"
      ],
      "text/plain": [
       "<IPython.core.display.Markdown object>"
      ]
     },
     "metadata": {},
     "output_type": "display_data"
    },
    {
     "name": "stdout",
     "output_type": "stream",
     "text": [
      "Scratch: [0.698506 0.665956 0.687196 0.105475 0.691358 0.698506 0.669119 0.687196\n",
      " 0.105475 0.69145  0.693182 0.668287 0.692367 0.105518 0.692967 0.698506\n",
      " 0.666872 0.687196 0.105475 0.691656 0.698506 0.665854 0.687196 0.105475\n",
      " 0.692967]\n",
      "Transfer: [0.698506 0.666871 0.687196 0.062762 0.692967 0.698506 0.665956 0.687196\n",
      " 0.105518 0.693455 0.69052  0.666159 0.687196 0.105475 0.69145  0.698506\n",
      " 0.665956 0.687196 0.105518 0.691553 0.698506 0.665956 0.687196 0.105475\n",
      " 0.692967]\n",
      "Transfer & Revision: [0.693182 0.665956 0.687196 0.105475 0.69145  0.698506 0.665956 0.687196\n",
      " 0.105518 0.68982  0.693182 0.666667 0.687196 0.105475 0.69012  0.698506\n",
      " 0.665956 0.687196 0.105518 0.690016 0.693182 0.665956 0.687196 0.105518\n",
      " 0.69012 ]\n"
     ]
    },
    {
     "data": {
      "text/markdown": [
       "## Precision"
      ],
      "text/plain": [
       "<IPython.core.display.Markdown object>"
      ]
     },
     "metadata": {},
     "output_type": "display_data"
    },
    {
     "name": "stdout",
     "output_type": "stream",
     "text": [
      "Scratch: [0.5543   0.506016 0.55663  0.61215  0.546053 0.5543   0.510166 0.55663\n",
      " 0.61215  0.546031 0.555682 0.507146 0.555804 0.615023 0.545222 0.5543\n",
      " 0.509151 0.55663  0.61215  0.546288 0.5543   0.506139 0.55663  0.61215\n",
      " 0.545222]\n",
      "Transfer: [0.5543   0.509027 0.55663  0.625    0.545222 0.5543   0.506016 0.55663\n",
      " 0.615023 0.54556  0.554741 0.50625  0.55663  0.61215  0.546031 0.5543\n",
      " 0.506016 0.55663  0.615023 0.546159 0.5543   0.506016 0.55663  0.61215\n",
      " 0.545222]\n",
      "Transfer & Revision: [0.555682 0.506016 0.55663  0.61215  0.546031 0.5543   0.506016 0.55663\n",
      " 0.615023 0.546879 0.555682 0.508788 0.55663  0.61215  0.547116 0.5543\n",
      " 0.506016 0.55663  0.615023 0.546986 0.555682 0.506016 0.55663  0.615023\n",
      " 0.547116]\n"
     ]
    },
    {
     "data": {
      "text/markdown": [
       "## Learning and Revision time"
      ],
      "text/plain": [
       "<IPython.core.display.Markdown object>"
      ]
     },
     "metadata": {},
     "output_type": "display_data"
    },
    {
     "name": "stdout",
     "output_type": "stream",
     "text": [
      "Scratch: [20.479 45.444 41.994 33.988 51.451 12.038 30.059 25.882 40.835 47.938\n",
      " 13.677 37.748 24.301 40.377 45.706 12.998 64.181 33.747 40.053 40.953\n",
      " 12.034 71.174 42.917 35.256 54.956]\n",
      "Transfer: [12.731 42.089 25.606 26.466 52.    12.886 40.332 25.029 36.844 35.498\n",
      " 13.614 37.575 32.09  37.746 52.969 12.526 61.379 28.496 36.53  38.665\n",
      " 16.748 40.758 23.126 37.302 51.484]\n",
      "Transfer & Revision: [ 22.46   78.947  44.209  60.434  84.778  22.845  80.014  42.054  77.268\n",
      "  73.109  26.713  97.261  55.105  63.988  91.919  21.574 105.955  55.056\n",
      "  62.239  77.423  27.492  79.222  43.433  72.482  91.321]\n"
     ]
    },
    {
     "data": {
      "text/markdown": [
       "## Inference time"
      ],
      "text/plain": [
       "<IPython.core.display.Markdown object>"
      ]
     },
     "metadata": {},
     "output_type": "display_data"
    },
    {
     "name": "stdout",
     "output_type": "stream",
     "text": [
      "Scratch: [1.951 5.18  2.721 3.253 5.246 1.908 2.612 2.205 2.359 4.75  2.249 3.42\n",
      " 2.165 3.47  4.761 1.958 3.489 2.199 3.5   5.729 1.843 4.913 2.845 3.081\n",
      " 5.661]\n",
      "Transfer: [12.731 42.089 25.606 26.466 52.    12.886 40.332 25.029 36.844 35.498\n",
      " 13.614 37.575 32.09  37.746 52.969 12.526 61.379 28.496 36.53  38.665\n",
      " 16.748 40.758 23.126 37.302 51.484]\n",
      "Transfer & Revision: [2.128 5.869 3.157 3.235 4.69  2.024 4.665 2.58  5.217 5.132 2.138 4.708\n",
      " 3.502 3.187 5.93  1.873 5.771 2.863 3.21  5.481 2.328 6.173 2.702 4.279\n",
      " 5.763]\n"
     ]
    },
    {
     "data": {
      "text/markdown": [
       "# Results for cora->imdb"
      ],
      "text/plain": [
       "<IPython.core.display.Markdown object>"
      ]
     },
     "metadata": {},
     "output_type": "display_data"
    },
    {
     "data": {
      "text/markdown": [
       "## AUC ROC"
      ],
      "text/plain": [
       "<IPython.core.display.Markdown object>"
      ]
     },
     "metadata": {},
     "output_type": "display_data"
    },
    {
     "name": "stdout",
     "output_type": "stream",
     "text": [
      "Scratch: [1.       0.990741 1.       0.995298 0.916914 1.       0.990741 1.\n",
      " 0.995298 0.916914 1.       0.990741 1.       0.995298 0.916914 1.\n",
      " 0.990741 1.       0.995298 0.916914 1.       0.990741 1.       0.995298\n",
      " 0.916914]\n",
      "Transfer: [0.968634 0.97246  0.992311 0.972466 0.974113 0.977516 0.976957 0.992311\n",
      " 0.976362 0.974113 0.977516 0.976957 0.992311 0.976362 0.981447 0.851227\n",
      " 0.848765 0.833333 0.84273  0.847181 0.977516 0.976957 0.992311 0.976362\n",
      " 0.981447]\n",
      "Transfer & Revision: [0.998335 0.998314 1.       0.999709 0.994255 0.999167 0.999157 1.\n",
      " 0.999855 0.991098 0.997502 0.997471 1.       0.998296 0.991098 0.990798\n",
      " 0.990741 1.       0.995298 0.991098 0.997502 0.997471 1.       0.998296\n",
      " 0.991098]\n"
     ]
    },
    {
     "data": {
      "text/markdown": [
       "## AUC PR"
      ],
      "text/plain": [
       "<IPython.core.display.Markdown object>"
      ]
     },
     "metadata": {},
     "output_type": "display_data"
    },
    {
     "name": "stdout",
     "output_type": "stream",
     "text": [
      "Scratch: [1.       0.981818 1.       0.994219 0.857506 1.       0.981818 1.\n",
      " 0.994219 0.857506 1.       0.981818 1.       0.994219 0.857506 1.\n",
      " 0.981818 1.       0.994219 0.857506 1.       0.981818 1.       0.994219\n",
      " 0.857506]\n",
      "Transfer: [0.97205  0.975601 0.993525 0.975825 0.977353 0.979476 0.979012 0.993525\n",
      " 0.978728 0.977353 0.979476 0.979012 0.993525 0.978728 0.983335 0.770686\n",
      " 0.767773 0.75     0.760722 0.765909 0.979476 0.979012 0.993525 0.978728\n",
      " 0.983335]\n",
      "Transfer & Revision: [0.998246 0.998224 1.       0.99971  0.98914  0.999118 0.999106 1.\n",
      " 0.999854 0.982507 0.997316 0.997281 1.       0.99816  0.982507 0.981928\n",
      " 0.981818 1.       0.994219 0.982507 0.997316 0.997281 1.       0.99816\n",
      " 0.982507]\n"
     ]
    },
    {
     "data": {
      "text/markdown": [
       "## CLL"
      ],
      "text/plain": [
       "<IPython.core.display.Markdown object>"
      ]
     },
     "metadata": {},
     "output_type": "display_data"
    },
    {
     "name": "stdout",
     "output_type": "stream",
     "text": [
      "Scratch: [-0.179352 -0.113754 -0.094637 -0.164926 -0.266175 -0.179352 -0.113754\n",
      " -0.094637 -0.164888 -0.266175 -0.179352 -0.113754 -0.094637 -0.164928\n",
      " -0.266175 -0.179352 -0.113754 -0.094637 -0.164888 -0.266175 -0.179352\n",
      " -0.113754 -0.094637 -0.164888 -0.266175]\n",
      "Transfer: [-0.31285  -0.320042 -0.343563 -0.306542 -0.332533 -0.307659 -0.313134\n",
      " -0.340474 -0.300273 -0.32962  -0.306588 -0.314413 -0.340447 -0.299588\n",
      " -0.326633 -0.384005 -0.40063  -0.396625 -0.385216 -0.38581  -0.306157\n",
      " -0.309499 -0.336314 -0.29868  -0.321738]\n",
      "Transfer & Revision: [-0.114657 -0.114781 -0.094637 -0.114004 -0.113016 -0.113196 -0.113311\n",
      " -0.094637 -0.11259  -0.113016 -0.119969 -0.120126 -0.094637 -0.119143\n",
      " -0.113016 -0.113637 -0.113754 -0.094637 -0.113016 -0.113016 -0.124176\n",
      " -0.124358 -0.094637 -0.123211 -0.113016]\n"
     ]
    },
    {
     "data": {
      "text/markdown": [
       "## Recall"
      ],
      "text/plain": [
       "<IPython.core.display.Markdown object>"
      ]
     },
     "metadata": {},
     "output_type": "display_data"
    },
    {
     "name": "stdout",
     "output_type": "stream",
     "text": [
      "Scratch: [1. 1. 1. 1. 1. 1. 1. 1. 1. 1. 1. 1. 1. 1. 1. 1. 1. 1. 1. 1. 1. 1. 1. 1.\n",
      " 1.]\n",
      "Transfer: [1. 1. 1. 1. 1. 1. 1. 1. 1. 1. 1. 1. 1. 1. 1. 1. 1. 1. 1. 1. 1. 1. 1. 1.\n",
      " 1.]\n",
      "Transfer & Revision: [1. 1. 1. 1. 1. 1. 1. 1. 1. 1. 1. 1. 1. 1. 1. 1. 1. 1. 1. 1. 1. 1. 1. 1.\n",
      " 1.]\n"
     ]
    },
    {
     "data": {
      "text/markdown": [
       "## F1"
      ],
      "text/plain": [
       "<IPython.core.display.Markdown object>"
      ]
     },
     "metadata": {},
     "output_type": "display_data"
    },
    {
     "name": "stdout",
     "output_type": "stream",
     "text": [
      "Scratch: [0.946299 0.990826 1.       0.925824 0.923288 0.946299 0.990826 1.\n",
      " 0.925824 0.923288 0.946299 0.990826 1.       0.925824 0.923288 0.946299\n",
      " 0.990826 1.       0.925824 0.923288 0.946299 0.990826 1.       0.925824\n",
      " 0.923288]\n",
      "Transfer: [0.870494 0.868633 0.857143 0.864103 0.867439 0.88587  0.884038 0.864407\n",
      " 0.877604 0.867439 0.889495 0.887671 0.864407 0.881046 0.867439 0.870494\n",
      " 0.868633 0.857143 0.864103 0.867439 0.889495 0.887671 0.857143 0.881046\n",
      " 0.870801]\n",
      "Transfer & Revision: [0.990881 0.990826 1.       0.991176 0.991176 0.990881 0.990826 1.\n",
      " 0.991176 0.991176 0.990881 0.990826 1.       0.991176 0.991176 0.990881\n",
      " 0.990826 1.       0.991176 0.991176 0.990881 0.990826 1.       0.991176\n",
      " 0.991176]\n"
     ]
    },
    {
     "data": {
      "text/markdown": [
       "## Precision"
      ],
      "text/plain": [
       "<IPython.core.display.Markdown object>"
      ]
     },
     "metadata": {},
     "output_type": "display_data"
    },
    {
     "name": "stdout",
     "output_type": "stream",
     "text": [
      "Scratch: [0.898072 0.981818 1.       0.861893 0.857506 0.898072 0.981818 1.\n",
      " 0.861893 0.857506 0.898072 0.981818 1.       0.861893 0.857506 0.898072\n",
      " 0.981818 1.       0.861893 0.857506 0.898072 0.981818 1.       0.861893\n",
      " 0.857506]\n",
      "Transfer: [0.770686 0.767773 0.75     0.760722 0.765909 0.795122 0.792176 0.761194\n",
      " 0.781903 0.765909 0.800983 0.79803  0.761194 0.787383 0.765909 0.770686\n",
      " 0.767773 0.75     0.760722 0.765909 0.800983 0.79803  0.75     0.787383\n",
      " 0.771167]\n",
      "Transfer & Revision: [0.981928 0.981818 1.       0.982507 0.982507 0.981928 0.981818 1.\n",
      " 0.982507 0.982507 0.981928 0.981818 1.       0.982507 0.982507 0.981928\n",
      " 0.981818 1.       0.982507 0.982507 0.981928 0.981818 1.       0.982507\n",
      " 0.982507]\n"
     ]
    },
    {
     "data": {
      "text/markdown": [
       "## Learning and Revision time"
      ],
      "text/plain": [
       "<IPython.core.display.Markdown object>"
      ]
     },
     "metadata": {},
     "output_type": "display_data"
    },
    {
     "name": "stdout",
     "output_type": "stream",
     "text": [
      "Scratch: [2.334 2.043 3.3   2.2   1.532 2.213 2.038 3.166 2.313 1.551 2.222 2.002\n",
      " 3.043 2.276 1.639 2.271 1.967 3.063 2.185 1.608 2.281 1.845 3.02  2.178\n",
      " 1.6  ]\n",
      "Transfer: [2.465 2.25  4.317 1.911 1.968 2.074 1.862 4.419 2.003 1.979 2.179 2.045\n",
      " 4.73  1.77  1.743 2.279 1.866 4.056 1.772 1.644 2.169 1.975 4.545 1.755\n",
      " 1.752]\n",
      "Transfer & Revision: [ 5.468  4.774  9.664  4.817  4.79   5.058  3.964  9.498  5.006  4.684\n",
      "  5.392  4.639 10.567  4.691  4.385  5.516  4.289 10.704  4.817  4.767\n",
      "  4.78   4.244  9.376  4.655  4.282]\n"
     ]
    },
    {
     "data": {
      "text/markdown": [
       "## Inference time"
      ],
      "text/plain": [
       "<IPython.core.display.Markdown object>"
      ]
     },
     "metadata": {},
     "output_type": "display_data"
    },
    {
     "name": "stdout",
     "output_type": "stream",
     "text": [
      "Scratch: [0.868 0.835 0.809 0.859 0.864 0.835 0.821 0.802 0.846 0.765 0.888 0.817\n",
      " 0.77  0.865 0.739 0.925 0.84  0.751 0.839 0.788 0.895 0.841 0.794 0.829\n",
      " 0.818]\n",
      "Transfer: [2.465 2.25  4.317 1.911 1.968 2.074 1.862 4.419 2.003 1.979 2.179 2.045\n",
      " 4.73  1.77  1.743 2.279 1.866 4.056 1.772 1.644 2.169 1.975 4.545 1.755\n",
      " 1.752]\n",
      "Transfer & Revision: [1.364 1.118 1.247 1.392 1.445 1.313 0.945 1.187 1.334 1.281 1.384 1.068\n",
      " 1.365 1.446 1.347 1.485 1.071 1.234 1.546 1.573 1.224 0.954 1.067 1.406\n",
      " 1.294]\n"
     ]
    },
    {
     "data": {
      "text/markdown": [
       "# Results for yeast->twitter"
      ],
      "text/plain": [
       "<IPython.core.display.Markdown object>"
      ]
     },
     "metadata": {},
     "output_type": "display_data"
    },
    {
     "data": {
      "text/markdown": [
       "## AUC ROC"
      ],
      "text/plain": [
       "<IPython.core.display.Markdown object>"
      ]
     },
     "metadata": {},
     "output_type": "display_data"
    },
    {
     "name": "stdout",
     "output_type": "stream",
     "text": [
      "Scratch: [0.73377  0.7006   0.735964 0.7006   0.73377  0.7006   0.731576 0.7006  ]\n",
      "Transfer: [0.735821 0.643596 0.708907 0.70616  0.732601 0.70592  0.712219 0.706933]\n",
      "Transfer & Revision: [0.732601 0.701851 0.73699  0.701851 0.73699  0.702036 0.732601 0.701941]\n"
     ]
    },
    {
     "data": {
      "text/markdown": [
       "## AUC PR"
      ],
      "text/plain": [
       "<IPython.core.display.Markdown object>"
      ]
     },
     "metadata": {},
     "output_type": "display_data"
    },
    {
     "name": "stdout",
     "output_type": "stream",
     "text": [
      "Scratch: [0.700962 0.670604 0.701612 0.670604 0.700962 0.670604 0.700324 0.670604]\n",
      "Transfer: [0.702046 0.60315  0.682978 0.68727  0.700709 0.687214 0.684339 0.687665]\n",
      "Transfer & Revision: [0.700709 0.673437 0.701996 0.673437 0.701996 0.673582 0.700709 0.673472]\n"
     ]
    },
    {
     "data": {
      "text/markdown": [
       "## CLL"
      ],
      "text/plain": [
       "<IPython.core.display.Markdown object>"
      ]
     },
     "metadata": {},
     "output_type": "display_data"
    },
    {
     "name": "stdout",
     "output_type": "stream",
     "text": [
      "Scratch: [-0.600616 -0.639506 -0.600612 -0.639506 -0.600616 -0.639506 -0.600635\n",
      " -0.639506]\n",
      "Transfer: [-0.620747 -0.660398 -0.628842 -0.643718 -0.619986 -0.63297  -0.627952\n",
      " -0.643596]\n",
      "Transfer & Revision: [-0.601543 -0.62995  -0.602375 -0.632834 -0.602097 -0.63051  -0.602475\n",
      " -0.630671]\n"
     ]
    },
    {
     "data": {
      "text/markdown": [
       "## Recall"
      ],
      "text/plain": [
       "<IPython.core.display.Markdown object>"
      ]
     },
     "metadata": {},
     "output_type": "display_data"
    },
    {
     "name": "stdout",
     "output_type": "stream",
     "text": [
      "Scratch: [0.529661 0.498718 0.529661 0.498718 0.529661 0.498718 0.529661 0.498718]\n",
      "Transfer: [0.810734 0.625641 0.810734 0.710256 0.810734 0.496154 0.810734 0.710256]\n",
      "Transfer & Revision: [0.529661 0.498718 0.529661 0.498718 0.529661 0.496154 0.529661 0.498718]\n"
     ]
    },
    {
     "data": {
      "text/markdown": [
       "## F1"
      ],
      "text/plain": [
       "<IPython.core.display.Markdown object>"
      ]
     },
     "metadata": {},
     "output_type": "display_data"
    },
    {
     "name": "stdout",
     "output_type": "stream",
     "text": [
      "Scratch: [0.628667 0.598002 0.628667 0.598002 0.628667 0.598002 0.628667 0.598002]\n",
      "Transfer: [0.706897 0.62444  0.706897 0.668678 0.706897 0.597222 0.706897 0.668678]\n",
      "Transfer & Revision: [0.628667 0.598002 0.628667 0.598002 0.628667 0.597222 0.628667 0.598002]\n"
     ]
    },
    {
     "data": {
      "text/markdown": [
       "## Precision"
      ],
      "text/plain": [
       "<IPython.core.display.Markdown object>"
      ]
     },
     "metadata": {},
     "output_type": "display_data"
    },
    {
     "name": "stdout",
     "output_type": "stream",
     "text": [
      "Scratch: [0.773196 0.746641 0.773196 0.746641 0.773196 0.746641 0.773196 0.746641]\n",
      "Transfer: [0.626638 0.623244 0.626638 0.631699 0.626638 0.75     0.626638 0.631699]\n",
      "Transfer & Revision: [0.773196 0.746641 0.773196 0.746641 0.773196 0.75     0.773196 0.746641]\n"
     ]
    },
    {
     "data": {
      "text/markdown": [
       "## Learning and Revision time"
      ],
      "text/plain": [
       "<IPython.core.display.Markdown object>"
      ]
     },
     "metadata": {},
     "output_type": "display_data"
    },
    {
     "name": "stdout",
     "output_type": "stream",
     "text": [
      "Scratch: [42.668 55.272 47.243 54.673 42.503 55.996 44.746 56.161]\n",
      "Transfer: [26.482 28.173 26.785 27.188 22.65  28.823 27.469 31.593]\n",
      "Transfer & Revision: [70.075 79.691 61.12  72.95  59.074 68.686 62.24  73.302]\n"
     ]
    },
    {
     "data": {
      "text/markdown": [
       "## Inference time"
      ],
      "text/plain": [
       "<IPython.core.display.Markdown object>"
      ]
     },
     "metadata": {},
     "output_type": "display_data"
    },
    {
     "name": "stdout",
     "output_type": "stream",
     "text": [
      "Scratch: [1.221 1.406 1.244 1.36  1.239 1.371 1.252 1.355]\n",
      "Transfer: [26.482 28.173 26.785 27.188 22.65  28.823 27.469 31.593]\n",
      "Transfer & Revision: [1.498 1.491 1.373 1.42  1.452 1.404 1.372 1.534]\n"
     ]
    },
    {
     "data": {
      "text/markdown": [
       "# Results for twitter->yeast"
      ],
      "text/plain": [
       "<IPython.core.display.Markdown object>"
      ]
     },
     "metadata": {},
     "output_type": "display_data"
    },
    {
     "data": {
      "text/markdown": [
       "## AUC ROC"
      ],
      "text/plain": [
       "<IPython.core.display.Markdown object>"
      ]
     },
     "metadata": {},
     "output_type": "display_data"
    },
    {
     "name": "stdout",
     "output_type": "stream",
     "text": [
      "Scratch: [0.687854 0.675    0.671825 0.653654 0.685184 0.679734 0.667321 0.640206\n",
      " 0.687077 0.677443 0.668014 0.655156 0.677396 0.673684 0.668209 0.661264\n",
      " 0.680364 0.677017 0.673102 0.656235]\n",
      "Transfer: [0.667759 0.659058 0.661546 0.675284 0.667759 0.659058 0.661546 0.675284\n",
      " 0.667759 0.659058 0.661546 0.675284 0.667759 0.659058 0.661546 0.675284\n",
      " 0.667759 0.659058 0.661546 0.675284]\n",
      "Transfer & Revision: [0.636206 0.681306 0.668174 0.67063  0.63755  0.674986 0.664637 0.678287\n",
      " 0.63238  0.682297 0.665583 0.674976 0.638358 0.681764 0.666459 0.676968\n",
      " 0.630962 0.684085 0.672053 0.676251]\n"
     ]
    },
    {
     "data": {
      "text/markdown": [
       "## AUC PR"
      ],
      "text/plain": [
       "<IPython.core.display.Markdown object>"
      ]
     },
     "metadata": {},
     "output_type": "display_data"
    },
    {
     "name": "stdout",
     "output_type": "stream",
     "text": [
      "Scratch: [0.677875 0.702306 0.690143 0.683811 0.675739 0.7111   0.684823 0.673269\n",
      " 0.687176 0.703286 0.690027 0.678427 0.659067 0.705418 0.688647 0.687806\n",
      " 0.663043 0.704628 0.695247 0.679631]\n",
      "Transfer: [0.645843 0.643443 0.640965 0.657992 0.645843 0.643443 0.640965 0.657992\n",
      " 0.645843 0.643443 0.640965 0.657992 0.645843 0.643443 0.640965 0.657992\n",
      " 0.645843 0.643443 0.640965 0.657992]\n",
      "Transfer & Revision: [0.60019  0.704418 0.679822 0.690251 0.60051  0.695855 0.672599 0.693771\n",
      " 0.586129 0.704208 0.672754 0.693786 0.601067 0.706302 0.674227 0.693156\n",
      " 0.58867  0.713528 0.693057 0.693068]\n"
     ]
    },
    {
     "data": {
      "text/markdown": [
       "## CLL"
      ],
      "text/plain": [
       "<IPython.core.display.Markdown object>"
      ]
     },
     "metadata": {},
     "output_type": "display_data"
    },
    {
     "name": "stdout",
     "output_type": "stream",
     "text": [
      "Scratch: [-0.639634 -0.64608  -0.648098 -0.656195 -0.640699 -0.641183 -0.650196\n",
      " -0.661204 -0.643327 -0.642714 -0.651927 -0.656286 -0.644685 -0.645046\n",
      " -0.650865 -0.653577 -0.64553  -0.644383 -0.64841  -0.656066]\n",
      "Transfer: [-0.646091 -0.658065 -0.659948 -0.648778 -0.646091 -0.658065 -0.659948\n",
      " -0.648778 -0.646091 -0.658065 -0.659948 -0.648778 -0.646091 -0.658065\n",
      " -0.659948 -0.648778 -0.646074 -0.658054 -0.659964 -0.648763]\n",
      "Transfer & Revision: [-0.661371 -0.647762 -0.655855 -0.651863 -0.660627 -0.647461 -0.658294\n",
      " -0.650702 -0.663183 -0.644386 -0.6569   -0.650512 -0.659314 -0.645584\n",
      " -0.65716  -0.651766 -0.66257  -0.646661 -0.65304  -0.650793]\n"
     ]
    },
    {
     "data": {
      "text/markdown": [
       "## Recall"
      ],
      "text/plain": [
       "<IPython.core.display.Markdown object>"
      ]
     },
     "metadata": {},
     "output_type": "display_data"
    },
    {
     "name": "stdout",
     "output_type": "stream",
     "text": [
      "Scratch: [0.651426 0.500605 0.522703 0.424291 0.601016 0.491828 0.454593 0.3869\n",
      " 0.649082 0.496973 0.473073 0.418457 0.614693 0.500303 0.478089 0.428268\n",
      " 0.642048 0.492736 0.501584 0.419252]\n",
      "Transfer: [0.667839 0.455206 0.452218 0.495625 0.667839 0.455206 0.452218 0.495625\n",
      " 0.667839 0.455206 0.452218 0.495625 0.667839 0.455206 0.452218 0.495625\n",
      " 0.667839 0.455206 0.452218 0.495625]\n",
      "Transfer & Revision: [0.675655 0.50454  0.513992 0.474145 0.675655 0.502119 0.549894 0.438876\n",
      " 0.676827 0.507869 0.543031 0.512861 0.675655 0.510896 0.541447 0.514452\n",
      " 0.675264 0.511501 0.540919 0.535402]\n"
     ]
    },
    {
     "data": {
      "text/markdown": [
       "## F1"
      ],
      "text/plain": [
       "<IPython.core.display.Markdown object>"
      ]
     },
     "metadata": {},
     "output_type": "display_data"
    },
    {
     "name": "stdout",
     "output_type": "stream",
     "text": [
      "Scratch: [0.643629 0.583627 0.585626 0.516796 0.624822 0.576957 0.549633 0.486414\n",
      " 0.639461 0.58093  0.555401 0.518227 0.633763 0.580917 0.555351 0.524436\n",
      " 0.640047 0.579463 0.578299 0.512729]\n",
      "Transfer: [0.644298 0.552941 0.548335 0.580886 0.644298 0.552941 0.548335 0.580886\n",
      " 0.644298 0.552941 0.548335 0.580886 0.644298 0.552941 0.548335 0.580886\n",
      " 0.644298 0.552941 0.548335 0.580886]\n",
      "Transfer & Revision: [0.644788 0.582663 0.58804  0.549815 0.643588 0.582923 0.601415 0.537687\n",
      " 0.643986 0.586713 0.598487 0.574569 0.64539  0.586926 0.599532 0.587256\n",
      " 0.643695 0.588133 0.597028 0.590524]\n"
     ]
    },
    {
     "data": {
      "text/markdown": [
       "## Precision"
      ],
      "text/plain": [
       "<IPython.core.display.Markdown object>"
      ]
     },
     "metadata": {},
     "output_type": "display_data"
    },
    {
     "name": "stdout",
     "output_type": "stream",
     "text": [
      "Scratch: [0.636017 0.699662 0.66577  0.660884 0.650592 0.697724 0.694915 0.654847\n",
      " 0.630121 0.699021 0.67242  0.680466 0.654054 0.692501 0.662399 0.676298\n",
      " 0.638058 0.70324  0.682716 0.65985 ]\n",
      "Transfer: [0.62236  0.70412  0.696341 0.701577 0.62236  0.70412  0.696341 0.701577\n",
      " 0.62236  0.70412  0.696341 0.701577 0.62236  0.70412  0.696341 0.701577\n",
      " 0.62236  0.70412  0.696341 0.701577]\n",
      "Transfer & Revision: [0.616619 0.689413 0.687015 0.654226 0.614428 0.694724 0.663587 0.69392\n",
      " 0.614184 0.694536 0.666559 0.653158 0.617721 0.689542 0.671578 0.684062\n",
      " 0.614947 0.691772 0.666125 0.658298]\n"
     ]
    },
    {
     "data": {
      "text/markdown": [
       "## Learning and Revision time"
      ],
      "text/plain": [
       "<IPython.core.display.Markdown object>"
      ]
     },
     "metadata": {},
     "output_type": "display_data"
    },
    {
     "name": "stdout",
     "output_type": "stream",
     "text": [
      "Scratch: [101.99   61.799  35.434  45.901 315.249  76.603  39.833  40.278 379.831\n",
      "  57.292  38.25   37.083  79.151  65.589  37.452  34.004  77.336  82.386\n",
      "  43.606  46.862]\n",
      "Transfer: [ 45.166  39.104  16.699  19.06   43.596  46.301  14.664  15.702 137.92\n",
      "  40.117  22.138  17.108 141.59   40.508  18.392  11.113  58.648  23.494\n",
      "  18.164  17.294]\n",
      "Transfer & Revision: [184.432 119.743  51.414  58.267 107.46   93.312  44.183  48.953 192.805\n",
      " 104.584  62.463  45.878 215.939 154.932  58.748  48.014 136.78   87.599\n",
      "  55.067  43.31 ]\n"
     ]
    },
    {
     "data": {
      "text/markdown": [
       "## Inference time"
      ],
      "text/plain": [
       "<IPython.core.display.Markdown object>"
      ]
     },
     "metadata": {},
     "output_type": "display_data"
    },
    {
     "name": "stdout",
     "output_type": "stream",
     "text": [
      "Scratch: [2.02  2.877 2.688 2.588 2.099 4.574 2.682 2.547 2.131 2.755 2.586 2.328\n",
      " 2.923 3.552 2.805 2.507 2.223 3.556 4.493 2.506]\n",
      "Transfer: [ 45.166  39.104  16.699  19.06   43.596  46.301  14.664  15.702 137.92\n",
      "  40.117  22.138  17.108 141.59   40.508  18.392  11.113  58.648  23.494\n",
      "  18.164  17.294]\n",
      "Transfer & Revision: [2.174 3.605 2.536 2.864 2.189 2.467 3.128 2.867 2.188 4.084 2.59  2.878\n",
      " 2.238 3.517 2.647 2.648 2.231 2.988 2.806 2.9  ]\n"
     ]
    },
    {
     "data": {
      "text/markdown": [
       "# Results for nell_sports->nell_finances"
      ],
      "text/plain": [
       "<IPython.core.display.Markdown object>"
      ]
     },
     "metadata": {},
     "output_type": "display_data"
    },
    {
     "data": {
      "text/markdown": [
       "## AUC ROC"
      ],
      "text/plain": [
       "<IPython.core.display.Markdown object>"
      ]
     },
     "metadata": {},
     "output_type": "display_data"
    },
    {
     "name": "stdout",
     "output_type": "stream",
     "text": [
      "Scratch: [0.519855 0.518379 0.518265 0.519624 0.519752]\n",
      "Transfer: [0.520304 0.498144 0.521086 0.522169 0.521591]\n",
      "Transfer & Revision: [0.521463 0.518847 0.517989 0.518908 0.518008]\n"
     ]
    },
    {
     "data": {
      "text/markdown": [
       "## AUC PR"
      ],
      "text/plain": [
       "<IPython.core.display.Markdown object>"
      ]
     },
     "metadata": {},
     "output_type": "display_data"
    },
    {
     "name": "stdout",
     "output_type": "stream",
     "text": [
      "Scratch: [0.51015  0.509084 0.507408 0.509371 0.510292]\n",
      "Transfer: [0.508505 0.498429 0.508815 0.508842 0.510119]\n",
      "Transfer & Revision: [0.510539 0.508538 0.508623 0.507751 0.508449]\n"
     ]
    },
    {
     "data": {
      "text/markdown": [
       "## CLL"
      ],
      "text/plain": [
       "<IPython.core.display.Markdown object>"
      ]
     },
     "metadata": {},
     "output_type": "display_data"
    },
    {
     "name": "stdout",
     "output_type": "stream",
     "text": [
      "Scratch: [-0.690348 -0.687843 -0.687285 -0.687492 -0.689417]\n",
      "Transfer: [-0.68867  -0.711887 -0.691812 -0.691933 -0.690275]\n",
      "Transfer & Revision: [-0.687913 -0.687289 -0.689536 -0.688423 -0.687894]\n"
     ]
    },
    {
     "data": {
      "text/markdown": [
       "## Recall"
      ],
      "text/plain": [
       "<IPython.core.display.Markdown object>"
      ]
     },
     "metadata": {},
     "output_type": "display_data"
    },
    {
     "name": "stdout",
     "output_type": "stream",
     "text": [
      "Scratch: [0.       0.       0.       0.027027 0.030888]\n",
      "Transfer: [0. 0. 0. 0. 0.]\n",
      "Transfer & Revision: [0.009653 0.003861 0.       0.       0.      ]\n"
     ]
    },
    {
     "data": {
      "text/markdown": [
       "## F1"
      ],
      "text/plain": [
       "<IPython.core.display.Markdown object>"
      ]
     },
     "metadata": {},
     "output_type": "display_data"
    },
    {
     "name": "stdout",
     "output_type": "stream",
     "text": [
      "Scratch: [     nan      nan      nan 0.051376 0.058288]\n",
      "Transfer: [nan nan nan nan nan]\n",
      "Transfer & Revision: [0.018975 0.007678      nan      nan      nan]\n"
     ]
    },
    {
     "data": {
      "text/markdown": [
       "## Precision"
      ],
      "text/plain": [
       "<IPython.core.display.Markdown object>"
      ]
     },
     "metadata": {},
     "output_type": "display_data"
    },
    {
     "name": "stdout",
     "output_type": "stream",
     "text": [
      "Scratch: [     nan      nan      nan 0.518519 0.516129]\n",
      "Transfer: [nan nan nan nan nan]\n",
      "Transfer & Revision: [0.555556 0.666667      nan      nan      nan]\n"
     ]
    },
    {
     "data": {
      "text/markdown": [
       "## Learning and Revision time"
      ],
      "text/plain": [
       "<IPython.core.display.Markdown object>"
      ]
     },
     "metadata": {},
     "output_type": "display_data"
    },
    {
     "name": "stdout",
     "output_type": "stream",
     "text": [
      "Scratch: [13.713 68.345 68.144 50.471 43.531]\n",
      "Transfer: [36.495 56.034 52.554 16.883 77.064]\n",
      "Transfer & Revision: [ 61.109 134.475  71.263  73.022 139.81 ]\n"
     ]
    },
    {
     "data": {
      "text/markdown": [
       "## Inference time"
      ],
      "text/plain": [
       "<IPython.core.display.Markdown object>"
      ]
     },
     "metadata": {},
     "output_type": "display_data"
    },
    {
     "name": "stdout",
     "output_type": "stream",
     "text": [
      "Scratch: [1.218 1.559 1.622 1.247 1.555]\n",
      "Transfer: [36.495 56.034 52.554 16.883 77.064]\n",
      "Transfer & Revision: [3.668 1.499 1.3   1.531 1.712]\n"
     ]
    },
    {
     "data": {
      "text/markdown": [
       "# Results for nell_finances->nell_sports"
      ],
      "text/plain": [
       "<IPython.core.display.Markdown object>"
      ]
     },
     "metadata": {},
     "output_type": "display_data"
    },
    {
     "data": {
      "text/markdown": [
       "## AUC ROC"
      ],
      "text/plain": [
       "<IPython.core.display.Markdown object>"
      ]
     },
     "metadata": {},
     "output_type": "display_data"
    },
    {
     "name": "stdout",
     "output_type": "stream",
     "text": [
      "Scratch: [0.933777 0.940104 0.937586 0.937392 0.932794]\n",
      "Transfer: [0.5 0.5 0.5 0.5 0.5]\n",
      "Transfer & Revision: [0.927098 0.9112   0.912656 0.913194 0.900367]\n"
     ]
    },
    {
     "data": {
      "text/markdown": [
       "## AUC PR"
      ],
      "text/plain": [
       "<IPython.core.display.Markdown object>"
      ]
     },
     "metadata": {},
     "output_type": "display_data"
    },
    {
     "name": "stdout",
     "output_type": "stream",
     "text": [
      "Scratch: [0.923398 0.927421 0.919402 0.925651 0.915451]\n",
      "Transfer: [0.5 0.5 0.5 0.5 0.5]\n",
      "Transfer & Revision: [0.914232 0.888679 0.876736 0.876344 0.883825]\n"
     ]
    },
    {
     "data": {
      "text/markdown": [
       "## CLL"
      ],
      "text/plain": [
       "<IPython.core.display.Markdown object>"
      ]
     },
     "metadata": {},
     "output_type": "display_data"
    },
    {
     "name": "stdout",
     "output_type": "stream",
     "text": [
      "Scratch: [-0.358702 -0.344005 -0.334351 -0.350081 -0.350391]\n",
      "Transfer: [-0.695409 -0.695437 -0.695739 -0.696055 -0.695499]\n",
      "Transfer & Revision: [-0.404462 -0.432716 -0.412483 -0.409419 -0.447581]\n"
     ]
    },
    {
     "data": {
      "text/markdown": [
       "## Recall"
      ],
      "text/plain": [
       "<IPython.core.display.Markdown object>"
      ]
     },
     "metadata": {},
     "output_type": "display_data"
    },
    {
     "name": "stdout",
     "output_type": "stream",
     "text": [
      "Scratch: [0.871212 0.886364 0.893939 0.882576 0.859848]\n",
      "Transfer: [0. 0. 0. 0. 0.]\n",
      "Transfer & Revision: [0.856061 0.890152 0.886364 0.912879 0.882576]\n"
     ]
    },
    {
     "data": {
      "text/markdown": [
       "## F1"
      ],
      "text/plain": [
       "<IPython.core.display.Markdown object>"
      ]
     },
     "metadata": {},
     "output_type": "display_data"
    },
    {
     "name": "stdout",
     "output_type": "stream",
     "text": [
      "Scratch: [0.861423 0.869888 0.878957 0.862963 0.86148 ]\n",
      "Transfer: [nan nan nan nan nan]\n",
      "Transfer & Revision: [0.856061 0.857664 0.847826 0.884404 0.844203]\n"
     ]
    },
    {
     "data": {
      "text/markdown": [
       "## Precision"
      ],
      "text/plain": [
       "<IPython.core.display.Markdown object>"
      ]
     },
     "metadata": {},
     "output_type": "display_data"
    },
    {
     "name": "stdout",
     "output_type": "stream",
     "text": [
      "Scratch: [0.851852 0.854015 0.864469 0.844203 0.863118]\n",
      "Transfer: [nan nan nan nan nan]\n",
      "Transfer & Revision: [0.856061 0.827465 0.8125   0.857651 0.809028]\n"
     ]
    },
    {
     "data": {
      "text/markdown": [
       "## Learning and Revision time"
      ],
      "text/plain": [
       "<IPython.core.display.Markdown object>"
      ]
     },
     "metadata": {},
     "output_type": "display_data"
    },
    {
     "name": "stdout",
     "output_type": "stream",
     "text": [
      "Scratch: [ 453.194 1036.527  711.563  432.64   676.124]\n",
      "Transfer: [ 222.716  268.346 3667.915  269.144  392.955]\n",
      "Transfer & Revision: [1935.207 1187.09  4767.113 1230.271 1271.637]\n"
     ]
    },
    {
     "data": {
      "text/markdown": [
       "## Inference time"
      ],
      "text/plain": [
       "<IPython.core.display.Markdown object>"
      ]
     },
     "metadata": {},
     "output_type": "display_data"
    },
    {
     "name": "stdout",
     "output_type": "stream",
     "text": [
      "Scratch: [ 6.35  13.044  6.759  6.36   7.867]\n",
      "Transfer: [ 222.716  268.346 3667.915  269.144  392.955]\n",
      "Transfer & Revision: [231.335  20.508  80.372  52.796  26.657]\n"
     ]
    }
   ],
   "source": [
    "for j in range(len(experiments)):\n",
    "    dataset = experiments[j]['source'] + '->' + experiments[j]['target']\n",
    "    display(Markdown('# Results for ' + dataset))\n",
    "    table = []\n",
    "    for metric in ['AUC ROC', 'AUC PR', 'CLL', 'Recall', 'F1', 'Precision', 'Learning and Revision time', 'Inference time']:\n",
    "    #for metric in ['AUC ROC', 'AUC PR']:\n",
    "        if dataset in data['results']: \n",
    "            #for metric in ['AUC ROC', 'AUC PR']:\n",
    "            display(Markdown('## ' + metric))\n",
    "            if metric == 'Precision':\n",
    "                scratch = np.array([item['scratch']['Precision'][0] for sublist in data['results'][str(dataset)] for item in sublist])\n",
    "                parameter = np.array([item['transfer']['Parameter Learning results']['Precision'][0] for sublist in data['results'][str(dataset)] for item in sublist])\n",
    "                transfer = np.array([item['transfer']['Precision'][0] for sublist in data['results'][str(dataset)] for item in sublist])\n",
    "            elif metric == 'Learning and Revision time':\n",
    "                scratch = np.array([item['scratch']['Learning time'] for sublist in data['results'][str(dataset)] for item in sublist])\n",
    "                parameter = np.array([item['transfer']['Parameter Learning results']['Learning time'] for sublist in data['results'][str(dataset)] for item in sublist])\n",
    "                transfer = np.array([item['transfer']['Learning time'] for sublist in data['results'][str(dataset)] for item in sublist])\n",
    "            elif metric == 'Inference time':\n",
    "                scratch = np.array([item['scratch']['Inference time'] for sublist in data['results'][str(dataset)] for item in sublist])\n",
    "                parameter = np.array([item['transfer']['Parameter Learning results']['Learning time'] for sublist in data['results'][str(dataset)] for item in sublist])\n",
    "                transfer = np.array([item['transfer']['Inference time'] for sublist in data['results'][str(dataset)] for item in sublist])\n",
    "            else:\n",
    "                scratch = np.array([item['scratch'][metric] for sublist in data['results'][str(dataset)] for item in sublist])\n",
    "                parameter = np.array([item['transfer']['Parameter Learning results'][metric] for sublist in data['results'][str(dataset)] for item in sublist])\n",
    "                transfer = np.array([item['transfer'][metric] for sublist in data['results'][str(dataset)] for item in sublist])\n",
    "            print('Scratch: %s' % scratch)\n",
    "            print('Transfer: %s' % parameter)\n",
    "            print('Transfer & Revision: %s' % transfer)"
   ]
  },
  {
   "cell_type": "code",
   "execution_count": null,
   "metadata": {
    "collapsed": true
   },
   "outputs": [],
   "source": []
  },
  {
   "cell_type": "code",
   "execution_count": null,
   "metadata": {
    "collapsed": true
   },
   "outputs": [],
   "source": []
  }
 ],
 "metadata": {
  "anaconda-cloud": {},
  "kernelspec": {
   "display_name": "Python [conda env:anaconda3]",
   "language": "python",
   "name": "conda-env-anaconda3-py"
  },
  "language_info": {
   "codemirror_mode": {
    "name": "ipython",
    "version": 3
   },
   "file_extension": ".py",
   "mimetype": "text/x-python",
   "name": "python",
   "nbconvert_exporter": "python",
   "pygments_lexer": "ipython3",
   "version": "3.5.2"
  }
 },
 "nbformat": 4,
 "nbformat_minor": 1
}
