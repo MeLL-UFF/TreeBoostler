{
 "cells": [
  {
   "cell_type": "code",
   "execution_count": 1,
   "metadata": {
    "collapsed": true
   },
   "outputs": [],
   "source": [
    "import matplotlib.pyplot as plt\n",
    "from IPython.display import display, Markdown, Latex\n",
    "import numpy as np\n",
    "import json\n",
    "import pandas as pd\n",
    "\n",
    "with open('transfer_experiment2.json', 'r') as fp:\n",
    "    data = json.load(fp)"
   ]
  },
  {
   "cell_type": "code",
   "execution_count": 3,
   "metadata": {
    "collapsed": false
   },
   "outputs": [
    {
     "data": {
      "text/markdown": [
       "# Results for AUC ROC"
      ],
      "text/plain": [
       "<IPython.core.display.Markdown object>"
      ]
     },
     "metadata": {},
     "output_type": "display_data"
    },
    {
     "name": "stderr",
     "output_type": "stream",
     "text": [
      "/home/rodrigoazs/anaconda3/lib/python3.5/site-packages/ipykernel/__main__.py:36: RuntimeWarning: Mean of empty slice.\n",
      "/home/rodrigoazs/anaconda3/lib/python3.5/site-packages/numpy/core/_methods.py:140: RuntimeWarning: Degrees of freedom <= 0 for slice\n",
      "  keepdims=keepdims)\n",
      "/home/rodrigoazs/anaconda3/lib/python3.5/site-packages/ipykernel/__main__.py:37: RuntimeWarning: Mean of empty slice.\n",
      "/home/rodrigoazs/anaconda3/lib/python3.5/site-packages/ipykernel/__main__.py:38: RuntimeWarning: Mean of empty slice.\n"
     ]
    },
    {
     "data": {
      "text/html": [
       "<div>\n",
       "<table border=\"1\" class=\"dataframe\">\n",
       "  <thead>\n",
       "    <tr style=\"text-align: right;\">\n",
       "      <th></th>\n",
       "      <th>Experiment</th>\n",
       "      <th>Transfer Learning</th>\n",
       "      <th>Transfer Learning with Revision Theory</th>\n",
       "      <th>Learning from scratch</th>\n",
       "    </tr>\n",
       "  </thead>\n",
       "  <tbody>\n",
       "    <tr>\n",
       "      <th>0</th>\n",
       "      <td>imdb-&gt;uwcse(advisedby)</td>\n",
       "      <td>0.940 +/- 0.042</td>\n",
       "      <td>0.929 +/- 0.047</td>\n",
       "      <td>0.915 +/- 0.044</td>\n",
       "    </tr>\n",
       "    <tr>\n",
       "      <th>1</th>\n",
       "      <td>uwcse-&gt;imdb(workedunder)</td>\n",
       "      <td>nan +/- nan</td>\n",
       "      <td>nan +/- nan</td>\n",
       "      <td>nan +/- nan</td>\n",
       "    </tr>\n",
       "    <tr>\n",
       "      <th>2</th>\n",
       "      <td>imdb-&gt;cora(samevenue)</td>\n",
       "      <td>0.524 +/- 0.085</td>\n",
       "      <td>0.527 +/- 0.087</td>\n",
       "      <td>0.531 +/- 0.078</td>\n",
       "    </tr>\n",
       "    <tr>\n",
       "      <th>3</th>\n",
       "      <td>cora-&gt;imdb(workedunder)</td>\n",
       "      <td>0.917 +/- 0.053</td>\n",
       "      <td>0.967 +/- 0.072</td>\n",
       "      <td>0.976 +/- 0.057</td>\n",
       "    </tr>\n",
       "    <tr>\n",
       "      <th>4</th>\n",
       "      <td>yeast-&gt;twitter(follows)</td>\n",
       "      <td>0.709 +/- 0.052</td>\n",
       "      <td>0.722 +/- 0.007</td>\n",
       "      <td>0.726 +/- 0.029</td>\n",
       "    </tr>\n",
       "    <tr>\n",
       "      <th>5</th>\n",
       "      <td>twitter-&gt;yeast(interaction)</td>\n",
       "      <td>0.634 +/- 0.007</td>\n",
       "      <td>0.671 +/- 0.015</td>\n",
       "      <td>0.666 +/- 0.031</td>\n",
       "    </tr>\n",
       "    <tr>\n",
       "      <th>6</th>\n",
       "      <td>nell_sports-&gt;nell_finances(companyeconomicsector)</td>\n",
       "      <td>0.500 +/- 0.000</td>\n",
       "      <td>0.500 +/- 0.000</td>\n",
       "      <td>0.515 +/- 0.000</td>\n",
       "    </tr>\n",
       "    <tr>\n",
       "      <th>7</th>\n",
       "      <td>nell_finances-&gt;nell_sports(teamplayssport)</td>\n",
       "      <td>nan +/- nan</td>\n",
       "      <td>nan +/- nan</td>\n",
       "      <td>nan +/- nan</td>\n",
       "    </tr>\n",
       "  </tbody>\n",
       "</table>\n",
       "</div>"
      ],
      "text/plain": [
       "                                          Experiment Transfer Learning  \\\n",
       "0                             imdb->uwcse(advisedby)   0.940 +/- 0.042   \n",
       "1                           uwcse->imdb(workedunder)       nan +/- nan   \n",
       "2                              imdb->cora(samevenue)   0.524 +/- 0.085   \n",
       "3                            cora->imdb(workedunder)   0.917 +/- 0.053   \n",
       "4                            yeast->twitter(follows)   0.709 +/- 0.052   \n",
       "5                        twitter->yeast(interaction)   0.634 +/- 0.007   \n",
       "6  nell_sports->nell_finances(companyeconomicsector)   0.500 +/- 0.000   \n",
       "7         nell_finances->nell_sports(teamplayssport)       nan +/- nan   \n",
       "\n",
       "  Transfer Learning with Revision Theory Learning from scratch  \n",
       "0                        0.929 +/- 0.047       0.915 +/- 0.044  \n",
       "1                            nan +/- nan           nan +/- nan  \n",
       "2                        0.527 +/- 0.087       0.531 +/- 0.078  \n",
       "3                        0.967 +/- 0.072       0.976 +/- 0.057  \n",
       "4                        0.722 +/- 0.007       0.726 +/- 0.029  \n",
       "5                        0.671 +/- 0.015       0.666 +/- 0.031  \n",
       "6                        0.500 +/- 0.000       0.515 +/- 0.000  \n",
       "7                            nan +/- nan           nan +/- nan  "
      ]
     },
     "metadata": {},
     "output_type": "display_data"
    },
    {
     "data": {
      "text/markdown": [
       "# Results for AUC PR"
      ],
      "text/plain": [
       "<IPython.core.display.Markdown object>"
      ]
     },
     "metadata": {},
     "output_type": "display_data"
    },
    {
     "data": {
      "text/html": [
       "<div>\n",
       "<table border=\"1\" class=\"dataframe\">\n",
       "  <thead>\n",
       "    <tr style=\"text-align: right;\">\n",
       "      <th></th>\n",
       "      <th>Experiment</th>\n",
       "      <th>Transfer Learning</th>\n",
       "      <th>Transfer Learning with Revision Theory</th>\n",
       "      <th>Learning from scratch</th>\n",
       "    </tr>\n",
       "  </thead>\n",
       "  <tbody>\n",
       "    <tr>\n",
       "      <th>0</th>\n",
       "      <td>imdb-&gt;uwcse(advisedby)</td>\n",
       "      <td>0.919 +/- 0.089</td>\n",
       "      <td>0.887 +/- 0.084</td>\n",
       "      <td>0.868 +/- 0.092</td>\n",
       "    </tr>\n",
       "    <tr>\n",
       "      <th>1</th>\n",
       "      <td>uwcse-&gt;imdb(workedunder)</td>\n",
       "      <td>nan +/- nan</td>\n",
       "      <td>nan +/- nan</td>\n",
       "      <td>nan +/- nan</td>\n",
       "    </tr>\n",
       "    <tr>\n",
       "      <th>2</th>\n",
       "      <td>imdb-&gt;cora(samevenue)</td>\n",
       "      <td>0.531 +/- 0.087</td>\n",
       "      <td>0.540 +/- 0.090</td>\n",
       "      <td>0.542 +/- 0.087</td>\n",
       "    </tr>\n",
       "    <tr>\n",
       "      <th>3</th>\n",
       "      <td>cora-&gt;imdb(workedunder)</td>\n",
       "      <td>0.932 +/- 0.037</td>\n",
       "      <td>0.954 +/- 0.088</td>\n",
       "      <td>0.956 +/- 0.105</td>\n",
       "    </tr>\n",
       "    <tr>\n",
       "      <th>4</th>\n",
       "      <td>yeast-&gt;twitter(follows)</td>\n",
       "      <td>0.684 +/- 0.072</td>\n",
       "      <td>0.702 +/- 0.005</td>\n",
       "      <td>0.695 +/- 0.028</td>\n",
       "    </tr>\n",
       "    <tr>\n",
       "      <th>5</th>\n",
       "      <td>twitter-&gt;yeast(interaction)</td>\n",
       "      <td>0.617 +/- 0.006</td>\n",
       "      <td>0.693 +/- 0.016</td>\n",
       "      <td>0.691 +/- 0.022</td>\n",
       "    </tr>\n",
       "    <tr>\n",
       "      <th>6</th>\n",
       "      <td>nell_sports-&gt;nell_finances(companyeconomicsector)</td>\n",
       "      <td>0.500 +/- 0.000</td>\n",
       "      <td>0.500 +/- 0.000</td>\n",
       "      <td>0.509 +/- 0.000</td>\n",
       "    </tr>\n",
       "    <tr>\n",
       "      <th>7</th>\n",
       "      <td>nell_finances-&gt;nell_sports(teamplayssport)</td>\n",
       "      <td>nan +/- nan</td>\n",
       "      <td>nan +/- nan</td>\n",
       "      <td>nan +/- nan</td>\n",
       "    </tr>\n",
       "  </tbody>\n",
       "</table>\n",
       "</div>"
      ],
      "text/plain": [
       "                                          Experiment Transfer Learning  \\\n",
       "0                             imdb->uwcse(advisedby)   0.919 +/- 0.089   \n",
       "1                           uwcse->imdb(workedunder)       nan +/- nan   \n",
       "2                              imdb->cora(samevenue)   0.531 +/- 0.087   \n",
       "3                            cora->imdb(workedunder)   0.932 +/- 0.037   \n",
       "4                            yeast->twitter(follows)   0.684 +/- 0.072   \n",
       "5                        twitter->yeast(interaction)   0.617 +/- 0.006   \n",
       "6  nell_sports->nell_finances(companyeconomicsector)   0.500 +/- 0.000   \n",
       "7         nell_finances->nell_sports(teamplayssport)       nan +/- nan   \n",
       "\n",
       "  Transfer Learning with Revision Theory Learning from scratch  \n",
       "0                        0.887 +/- 0.084       0.868 +/- 0.092  \n",
       "1                            nan +/- nan           nan +/- nan  \n",
       "2                        0.540 +/- 0.090       0.542 +/- 0.087  \n",
       "3                        0.954 +/- 0.088       0.956 +/- 0.105  \n",
       "4                        0.702 +/- 0.005       0.695 +/- 0.028  \n",
       "5                        0.693 +/- 0.016       0.691 +/- 0.022  \n",
       "6                        0.500 +/- 0.000       0.509 +/- 0.000  \n",
       "7                            nan +/- nan           nan +/- nan  "
      ]
     },
     "metadata": {},
     "output_type": "display_data"
    },
    {
     "data": {
      "text/markdown": [
       "# Results for CLL"
      ],
      "text/plain": [
       "<IPython.core.display.Markdown object>"
      ]
     },
     "metadata": {},
     "output_type": "display_data"
    },
    {
     "data": {
      "text/html": [
       "<div>\n",
       "<table border=\"1\" class=\"dataframe\">\n",
       "  <thead>\n",
       "    <tr style=\"text-align: right;\">\n",
       "      <th></th>\n",
       "      <th>Experiment</th>\n",
       "      <th>Transfer Learning</th>\n",
       "      <th>Transfer Learning with Revision Theory</th>\n",
       "      <th>Learning from scratch</th>\n",
       "    </tr>\n",
       "  </thead>\n",
       "  <tbody>\n",
       "    <tr>\n",
       "      <th>0</th>\n",
       "      <td>imdb-&gt;uwcse(advisedby)</td>\n",
       "      <td>-0.265 +/- 0.040</td>\n",
       "      <td>-0.281 +/- 0.046</td>\n",
       "      <td>-0.291 +/- 0.033</td>\n",
       "    </tr>\n",
       "    <tr>\n",
       "      <th>1</th>\n",
       "      <td>uwcse-&gt;imdb(workedunder)</td>\n",
       "      <td>nan +/- nan</td>\n",
       "      <td>nan +/- nan</td>\n",
       "      <td>nan +/- nan</td>\n",
       "    </tr>\n",
       "    <tr>\n",
       "      <th>2</th>\n",
       "      <td>imdb-&gt;cora(samevenue)</td>\n",
       "      <td>-0.691 +/- 0.019</td>\n",
       "      <td>-0.692 +/- 0.021</td>\n",
       "      <td>-0.691 +/- 0.021</td>\n",
       "    </tr>\n",
       "    <tr>\n",
       "      <th>3</th>\n",
       "      <td>cora-&gt;imdb(workedunder)</td>\n",
       "      <td>-0.343 +/- 0.064</td>\n",
       "      <td>-0.224 +/- 0.175</td>\n",
       "      <td>-0.153 +/- 0.100</td>\n",
       "    </tr>\n",
       "    <tr>\n",
       "      <th>4</th>\n",
       "      <td>yeast-&gt;twitter(follows)</td>\n",
       "      <td>-0.627 +/- 0.019</td>\n",
       "      <td>-0.614 +/- 0.015</td>\n",
       "      <td>-0.612 +/- 0.033</td>\n",
       "    </tr>\n",
       "    <tr>\n",
       "      <th>5</th>\n",
       "      <td>twitter-&gt;yeast(interaction)</td>\n",
       "      <td>-0.662 +/- 0.005</td>\n",
       "      <td>-0.649 +/- 0.014</td>\n",
       "      <td>-0.650 +/- 0.018</td>\n",
       "    </tr>\n",
       "    <tr>\n",
       "      <th>6</th>\n",
       "      <td>nell_sports-&gt;nell_finances(companyeconomicsector)</td>\n",
       "      <td>-0.695 +/- 0.000</td>\n",
       "      <td>-0.695 +/- 0.000</td>\n",
       "      <td>-0.693 +/- 0.000</td>\n",
       "    </tr>\n",
       "    <tr>\n",
       "      <th>7</th>\n",
       "      <td>nell_finances-&gt;nell_sports(teamplayssport)</td>\n",
       "      <td>nan +/- nan</td>\n",
       "      <td>nan +/- nan</td>\n",
       "      <td>nan +/- nan</td>\n",
       "    </tr>\n",
       "  </tbody>\n",
       "</table>\n",
       "</div>"
      ],
      "text/plain": [
       "                                          Experiment Transfer Learning  \\\n",
       "0                             imdb->uwcse(advisedby)  -0.265 +/- 0.040   \n",
       "1                           uwcse->imdb(workedunder)       nan +/- nan   \n",
       "2                              imdb->cora(samevenue)  -0.691 +/- 0.019   \n",
       "3                            cora->imdb(workedunder)  -0.343 +/- 0.064   \n",
       "4                            yeast->twitter(follows)  -0.627 +/- 0.019   \n",
       "5                        twitter->yeast(interaction)  -0.662 +/- 0.005   \n",
       "6  nell_sports->nell_finances(companyeconomicsector)  -0.695 +/- 0.000   \n",
       "7         nell_finances->nell_sports(teamplayssport)       nan +/- nan   \n",
       "\n",
       "  Transfer Learning with Revision Theory Learning from scratch  \n",
       "0                       -0.281 +/- 0.046      -0.291 +/- 0.033  \n",
       "1                            nan +/- nan           nan +/- nan  \n",
       "2                       -0.692 +/- 0.021      -0.691 +/- 0.021  \n",
       "3                       -0.224 +/- 0.175      -0.153 +/- 0.100  \n",
       "4                       -0.614 +/- 0.015      -0.612 +/- 0.033  \n",
       "5                       -0.649 +/- 0.014      -0.650 +/- 0.018  \n",
       "6                       -0.695 +/- 0.000      -0.693 +/- 0.000  \n",
       "7                            nan +/- nan           nan +/- nan  "
      ]
     },
     "metadata": {},
     "output_type": "display_data"
    },
    {
     "data": {
      "text/markdown": [
       "# Results for Recall"
      ],
      "text/plain": [
       "<IPython.core.display.Markdown object>"
      ]
     },
     "metadata": {},
     "output_type": "display_data"
    },
    {
     "data": {
      "text/html": [
       "<div>\n",
       "<table border=\"1\" class=\"dataframe\">\n",
       "  <thead>\n",
       "    <tr style=\"text-align: right;\">\n",
       "      <th></th>\n",
       "      <th>Experiment</th>\n",
       "      <th>Transfer Learning</th>\n",
       "      <th>Transfer Learning with Revision Theory</th>\n",
       "      <th>Learning from scratch</th>\n",
       "    </tr>\n",
       "  </thead>\n",
       "  <tbody>\n",
       "    <tr>\n",
       "      <th>0</th>\n",
       "      <td>imdb-&gt;uwcse(advisedby)</td>\n",
       "      <td>1.000 +/- 0.000</td>\n",
       "      <td>0.987 +/- 0.051</td>\n",
       "      <td>0.975 +/- 0.062</td>\n",
       "    </tr>\n",
       "    <tr>\n",
       "      <th>1</th>\n",
       "      <td>uwcse-&gt;imdb(workedunder)</td>\n",
       "      <td>nan +/- nan</td>\n",
       "      <td>nan +/- nan</td>\n",
       "      <td>nan +/- nan</td>\n",
       "    </tr>\n",
       "    <tr>\n",
       "      <th>2</th>\n",
       "      <td>imdb-&gt;cora(samevenue)</td>\n",
       "      <td>0.579 +/- 0.947</td>\n",
       "      <td>0.618 +/- 0.880</td>\n",
       "      <td>0.720 +/- 0.764</td>\n",
       "    </tr>\n",
       "    <tr>\n",
       "      <th>3</th>\n",
       "      <td>cora-&gt;imdb(workedunder)</td>\n",
       "      <td>0.853 +/- 0.101</td>\n",
       "      <td>0.892 +/- 0.176</td>\n",
       "      <td>1.000 +/- 0.000</td>\n",
       "    </tr>\n",
       "    <tr>\n",
       "      <th>4</th>\n",
       "      <td>yeast-&gt;twitter(follows)</td>\n",
       "      <td>0.601 +/- 0.308</td>\n",
       "      <td>0.499 +/- 0.054</td>\n",
       "      <td>0.514 +/- 0.031</td>\n",
       "    </tr>\n",
       "    <tr>\n",
       "      <th>5</th>\n",
       "      <td>twitter-&gt;yeast(interaction)</td>\n",
       "      <td>0.636 +/- 0.048</td>\n",
       "      <td>0.463 +/- 0.204</td>\n",
       "      <td>0.470 +/- 0.203</td>\n",
       "    </tr>\n",
       "    <tr>\n",
       "      <th>6</th>\n",
       "      <td>nell_sports-&gt;nell_finances(companyeconomicsector)</td>\n",
       "      <td>0.000 +/- 0.000</td>\n",
       "      <td>0.000 +/- 0.000</td>\n",
       "      <td>0.000 +/- 0.000</td>\n",
       "    </tr>\n",
       "    <tr>\n",
       "      <th>7</th>\n",
       "      <td>nell_finances-&gt;nell_sports(teamplayssport)</td>\n",
       "      <td>nan +/- nan</td>\n",
       "      <td>nan +/- nan</td>\n",
       "      <td>nan +/- nan</td>\n",
       "    </tr>\n",
       "  </tbody>\n",
       "</table>\n",
       "</div>"
      ],
      "text/plain": [
       "                                          Experiment Transfer Learning  \\\n",
       "0                             imdb->uwcse(advisedby)   1.000 +/- 0.000   \n",
       "1                           uwcse->imdb(workedunder)       nan +/- nan   \n",
       "2                              imdb->cora(samevenue)   0.579 +/- 0.947   \n",
       "3                            cora->imdb(workedunder)   0.853 +/- 0.101   \n",
       "4                            yeast->twitter(follows)   0.601 +/- 0.308   \n",
       "5                        twitter->yeast(interaction)   0.636 +/- 0.048   \n",
       "6  nell_sports->nell_finances(companyeconomicsector)   0.000 +/- 0.000   \n",
       "7         nell_finances->nell_sports(teamplayssport)       nan +/- nan   \n",
       "\n",
       "  Transfer Learning with Revision Theory Learning from scratch  \n",
       "0                        0.987 +/- 0.051       0.975 +/- 0.062  \n",
       "1                            nan +/- nan           nan +/- nan  \n",
       "2                        0.618 +/- 0.880       0.720 +/- 0.764  \n",
       "3                        0.892 +/- 0.176       1.000 +/- 0.000  \n",
       "4                        0.499 +/- 0.054       0.514 +/- 0.031  \n",
       "5                        0.463 +/- 0.204       0.470 +/- 0.203  \n",
       "6                        0.000 +/- 0.000       0.000 +/- 0.000  \n",
       "7                            nan +/- nan           nan +/- nan  "
      ]
     },
     "metadata": {},
     "output_type": "display_data"
    },
    {
     "data": {
      "text/markdown": [
       "# Results for F1"
      ],
      "text/plain": [
       "<IPython.core.display.Markdown object>"
      ]
     },
     "metadata": {},
     "output_type": "display_data"
    },
    {
     "data": {
      "text/html": [
       "<div>\n",
       "<table border=\"1\" class=\"dataframe\">\n",
       "  <thead>\n",
       "    <tr style=\"text-align: right;\">\n",
       "      <th></th>\n",
       "      <th>Experiment</th>\n",
       "      <th>Transfer Learning</th>\n",
       "      <th>Transfer Learning with Revision Theory</th>\n",
       "      <th>Learning from scratch</th>\n",
       "    </tr>\n",
       "  </thead>\n",
       "  <tbody>\n",
       "    <tr>\n",
       "      <th>0</th>\n",
       "      <td>imdb-&gt;uwcse(advisedby)</td>\n",
       "      <td>0.923 +/- 0.017</td>\n",
       "      <td>0.919 +/- 0.019</td>\n",
       "      <td>0.912 +/- 0.021</td>\n",
       "    </tr>\n",
       "    <tr>\n",
       "      <th>1</th>\n",
       "      <td>uwcse-&gt;imdb(workedunder)</td>\n",
       "      <td>nan +/- nan</td>\n",
       "      <td>nan +/- nan</td>\n",
       "      <td>nan +/- nan</td>\n",
       "    </tr>\n",
       "    <tr>\n",
       "      <th>2</th>\n",
       "      <td>imdb-&gt;cora(samevenue)</td>\n",
       "      <td>nan +/- nan</td>\n",
       "      <td>0.459 +/- 0.600</td>\n",
       "      <td>0.538 +/- 0.519</td>\n",
       "    </tr>\n",
       "    <tr>\n",
       "      <th>3</th>\n",
       "      <td>cora-&gt;imdb(workedunder)</td>\n",
       "      <td>0.905 +/- 0.058</td>\n",
       "      <td>0.919 +/- 0.100</td>\n",
       "      <td>0.969 +/- 0.049</td>\n",
       "    </tr>\n",
       "    <tr>\n",
       "      <th>4</th>\n",
       "      <td>yeast-&gt;twitter(follows)</td>\n",
       "      <td>0.627 +/- 0.123</td>\n",
       "      <td>0.606 +/- 0.041</td>\n",
       "      <td>0.616 +/- 0.024</td>\n",
       "    </tr>\n",
       "    <tr>\n",
       "      <th>5</th>\n",
       "      <td>twitter-&gt;yeast(interaction)</td>\n",
       "      <td>0.633 +/- 0.017</td>\n",
       "      <td>0.545 +/- 0.126</td>\n",
       "      <td>0.549 +/- 0.122</td>\n",
       "    </tr>\n",
       "    <tr>\n",
       "      <th>6</th>\n",
       "      <td>nell_sports-&gt;nell_finances(companyeconomicsector)</td>\n",
       "      <td>nan +/- nan</td>\n",
       "      <td>nan +/- nan</td>\n",
       "      <td>nan +/- nan</td>\n",
       "    </tr>\n",
       "    <tr>\n",
       "      <th>7</th>\n",
       "      <td>nell_finances-&gt;nell_sports(teamplayssport)</td>\n",
       "      <td>nan +/- nan</td>\n",
       "      <td>nan +/- nan</td>\n",
       "      <td>nan +/- nan</td>\n",
       "    </tr>\n",
       "  </tbody>\n",
       "</table>\n",
       "</div>"
      ],
      "text/plain": [
       "                                          Experiment Transfer Learning  \\\n",
       "0                             imdb->uwcse(advisedby)   0.923 +/- 0.017   \n",
       "1                           uwcse->imdb(workedunder)       nan +/- nan   \n",
       "2                              imdb->cora(samevenue)       nan +/- nan   \n",
       "3                            cora->imdb(workedunder)   0.905 +/- 0.058   \n",
       "4                            yeast->twitter(follows)   0.627 +/- 0.123   \n",
       "5                        twitter->yeast(interaction)   0.633 +/- 0.017   \n",
       "6  nell_sports->nell_finances(companyeconomicsector)       nan +/- nan   \n",
       "7         nell_finances->nell_sports(teamplayssport)       nan +/- nan   \n",
       "\n",
       "  Transfer Learning with Revision Theory Learning from scratch  \n",
       "0                        0.919 +/- 0.019       0.912 +/- 0.021  \n",
       "1                            nan +/- nan           nan +/- nan  \n",
       "2                        0.459 +/- 0.600       0.538 +/- 0.519  \n",
       "3                        0.919 +/- 0.100       0.969 +/- 0.049  \n",
       "4                        0.606 +/- 0.041       0.616 +/- 0.024  \n",
       "5                        0.545 +/- 0.126       0.549 +/- 0.122  \n",
       "6                            nan +/- nan           nan +/- nan  \n",
       "7                            nan +/- nan           nan +/- nan  "
      ]
     },
     "metadata": {},
     "output_type": "display_data"
    },
    {
     "data": {
      "text/markdown": [
       "# Results for Precision"
      ],
      "text/plain": [
       "<IPython.core.display.Markdown object>"
      ]
     },
     "metadata": {},
     "output_type": "display_data"
    },
    {
     "data": {
      "text/html": [
       "<div>\n",
       "<table border=\"1\" class=\"dataframe\">\n",
       "  <thead>\n",
       "    <tr style=\"text-align: right;\">\n",
       "      <th></th>\n",
       "      <th>Experiment</th>\n",
       "      <th>Transfer Learning</th>\n",
       "      <th>Transfer Learning with Revision Theory</th>\n",
       "      <th>Learning from scratch</th>\n",
       "    </tr>\n",
       "  </thead>\n",
       "  <tbody>\n",
       "    <tr>\n",
       "      <th>0</th>\n",
       "      <td>imdb-&gt;uwcse(advisedby)</td>\n",
       "      <td>0.857 +/- 0.030</td>\n",
       "      <td>0.859 +/- 0.033</td>\n",
       "      <td>0.858 +/- 0.032</td>\n",
       "    </tr>\n",
       "    <tr>\n",
       "      <th>1</th>\n",
       "      <td>uwcse-&gt;imdb(workedunder)</td>\n",
       "      <td>nan +/- nan</td>\n",
       "      <td>nan +/- nan</td>\n",
       "      <td>nan +/- nan</td>\n",
       "    </tr>\n",
       "    <tr>\n",
       "      <th>2</th>\n",
       "      <td>imdb-&gt;cora(samevenue)</td>\n",
       "      <td>nan +/- nan</td>\n",
       "      <td>0.555 +/- 0.099</td>\n",
       "      <td>0.570 +/- 0.152</td>\n",
       "    </tr>\n",
       "    <tr>\n",
       "      <th>3</th>\n",
       "      <td>cora-&gt;imdb(workedunder)</td>\n",
       "      <td>0.965 +/- 0.030</td>\n",
       "      <td>0.952 +/- 0.074</td>\n",
       "      <td>0.942 +/- 0.093</td>\n",
       "    </tr>\n",
       "    <tr>\n",
       "      <th>4</th>\n",
       "      <td>yeast-&gt;twitter(follows)</td>\n",
       "      <td>0.703 +/- 0.146</td>\n",
       "      <td>0.772 +/- 0.006</td>\n",
       "      <td>0.768 +/- 0.004</td>\n",
       "    </tr>\n",
       "    <tr>\n",
       "      <th>5</th>\n",
       "      <td>twitter-&gt;yeast(interaction)</td>\n",
       "      <td>0.631 +/- 0.018</td>\n",
       "      <td>0.691 +/- 0.069</td>\n",
       "      <td>0.688 +/- 0.064</td>\n",
       "    </tr>\n",
       "    <tr>\n",
       "      <th>6</th>\n",
       "      <td>nell_sports-&gt;nell_finances(companyeconomicsector)</td>\n",
       "      <td>nan +/- nan</td>\n",
       "      <td>nan +/- nan</td>\n",
       "      <td>nan +/- nan</td>\n",
       "    </tr>\n",
       "    <tr>\n",
       "      <th>7</th>\n",
       "      <td>nell_finances-&gt;nell_sports(teamplayssport)</td>\n",
       "      <td>nan +/- nan</td>\n",
       "      <td>nan +/- nan</td>\n",
       "      <td>nan +/- nan</td>\n",
       "    </tr>\n",
       "  </tbody>\n",
       "</table>\n",
       "</div>"
      ],
      "text/plain": [
       "                                          Experiment Transfer Learning  \\\n",
       "0                             imdb->uwcse(advisedby)   0.857 +/- 0.030   \n",
       "1                           uwcse->imdb(workedunder)       nan +/- nan   \n",
       "2                              imdb->cora(samevenue)       nan +/- nan   \n",
       "3                            cora->imdb(workedunder)   0.965 +/- 0.030   \n",
       "4                            yeast->twitter(follows)   0.703 +/- 0.146   \n",
       "5                        twitter->yeast(interaction)   0.631 +/- 0.018   \n",
       "6  nell_sports->nell_finances(companyeconomicsector)       nan +/- nan   \n",
       "7         nell_finances->nell_sports(teamplayssport)       nan +/- nan   \n",
       "\n",
       "  Transfer Learning with Revision Theory Learning from scratch  \n",
       "0                        0.859 +/- 0.033       0.858 +/- 0.032  \n",
       "1                            nan +/- nan           nan +/- nan  \n",
       "2                        0.555 +/- 0.099       0.570 +/- 0.152  \n",
       "3                        0.952 +/- 0.074       0.942 +/- 0.093  \n",
       "4                        0.772 +/- 0.006       0.768 +/- 0.004  \n",
       "5                        0.691 +/- 0.069       0.688 +/- 0.064  \n",
       "6                            nan +/- nan           nan +/- nan  \n",
       "7                            nan +/- nan           nan +/- nan  "
      ]
     },
     "metadata": {},
     "output_type": "display_data"
    },
    {
     "data": {
      "text/markdown": [
       "# Results for Learning and Revision time"
      ],
      "text/plain": [
       "<IPython.core.display.Markdown object>"
      ]
     },
     "metadata": {},
     "output_type": "display_data"
    },
    {
     "data": {
      "text/html": [
       "<div>\n",
       "<table border=\"1\" class=\"dataframe\">\n",
       "  <thead>\n",
       "    <tr style=\"text-align: right;\">\n",
       "      <th></th>\n",
       "      <th>Experiment</th>\n",
       "      <th>Transfer Learning</th>\n",
       "      <th>Transfer Learning with Revision Theory</th>\n",
       "      <th>Learning from scratch</th>\n",
       "    </tr>\n",
       "  </thead>\n",
       "  <tbody>\n",
       "    <tr>\n",
       "      <th>0</th>\n",
       "      <td>imdb-&gt;uwcse(advisedby)</td>\n",
       "      <td>2.945 +/- 2.510</td>\n",
       "      <td>6.928 +/- 4.821</td>\n",
       "      <td>4.639 +/- 4.637</td>\n",
       "    </tr>\n",
       "    <tr>\n",
       "      <th>1</th>\n",
       "      <td>uwcse-&gt;imdb(workedunder)</td>\n",
       "      <td>nan +/- nan</td>\n",
       "      <td>nan +/- nan</td>\n",
       "      <td>nan +/- nan</td>\n",
       "    </tr>\n",
       "    <tr>\n",
       "      <th>2</th>\n",
       "      <td>imdb-&gt;cora(samevenue)</td>\n",
       "      <td>14.332 +/- 11.021</td>\n",
       "      <td>39.659 +/- 28.575</td>\n",
       "      <td>31.783 +/- 23.042</td>\n",
       "    </tr>\n",
       "    <tr>\n",
       "      <th>3</th>\n",
       "      <td>cora-&gt;imdb(workedunder)</td>\n",
       "      <td>2.192 +/- 1.595</td>\n",
       "      <td>5.126 +/- 4.436</td>\n",
       "      <td>2.204 +/- 1.032</td>\n",
       "    </tr>\n",
       "    <tr>\n",
       "      <th>4</th>\n",
       "      <td>yeast-&gt;twitter(follows)</td>\n",
       "      <td>31.885 +/- 7.854</td>\n",
       "      <td>77.817 +/- 9.883</td>\n",
       "      <td>47.232 +/- 12.608</td>\n",
       "    </tr>\n",
       "    <tr>\n",
       "      <th>5</th>\n",
       "      <td>twitter-&gt;yeast(interaction)</td>\n",
       "      <td>53.195 +/- 53.002</td>\n",
       "      <td>118.272 +/- 105.031</td>\n",
       "      <td>71.420 +/- 58.824</td>\n",
       "    </tr>\n",
       "    <tr>\n",
       "      <th>6</th>\n",
       "      <td>nell_sports-&gt;nell_finances(companyeconomicsector)</td>\n",
       "      <td>10.702 +/- 0.000</td>\n",
       "      <td>22.597 +/- 0.000</td>\n",
       "      <td>19.869 +/- 0.000</td>\n",
       "    </tr>\n",
       "    <tr>\n",
       "      <th>7</th>\n",
       "      <td>nell_finances-&gt;nell_sports(teamplayssport)</td>\n",
       "      <td>nan +/- nan</td>\n",
       "      <td>nan +/- nan</td>\n",
       "      <td>nan +/- nan</td>\n",
       "    </tr>\n",
       "  </tbody>\n",
       "</table>\n",
       "</div>"
      ],
      "text/plain": [
       "                                          Experiment  Transfer Learning  \\\n",
       "0                             imdb->uwcse(advisedby)    2.945 +/- 2.510   \n",
       "1                           uwcse->imdb(workedunder)        nan +/- nan   \n",
       "2                              imdb->cora(samevenue)  14.332 +/- 11.021   \n",
       "3                            cora->imdb(workedunder)    2.192 +/- 1.595   \n",
       "4                            yeast->twitter(follows)   31.885 +/- 7.854   \n",
       "5                        twitter->yeast(interaction)  53.195 +/- 53.002   \n",
       "6  nell_sports->nell_finances(companyeconomicsector)   10.702 +/- 0.000   \n",
       "7         nell_finances->nell_sports(teamplayssport)        nan +/- nan   \n",
       "\n",
       "  Transfer Learning with Revision Theory Learning from scratch  \n",
       "0                        6.928 +/- 4.821       4.639 +/- 4.637  \n",
       "1                            nan +/- nan           nan +/- nan  \n",
       "2                      39.659 +/- 28.575     31.783 +/- 23.042  \n",
       "3                        5.126 +/- 4.436       2.204 +/- 1.032  \n",
       "4                       77.817 +/- 9.883     47.232 +/- 12.608  \n",
       "5                    118.272 +/- 105.031     71.420 +/- 58.824  \n",
       "6                       22.597 +/- 0.000      19.869 +/- 0.000  \n",
       "7                            nan +/- nan           nan +/- nan  "
      ]
     },
     "metadata": {},
     "output_type": "display_data"
    },
    {
     "data": {
      "text/markdown": [
       "# Results for Inference time"
      ],
      "text/plain": [
       "<IPython.core.display.Markdown object>"
      ]
     },
     "metadata": {},
     "output_type": "display_data"
    },
    {
     "data": {
      "text/html": [
       "<div>\n",
       "<table border=\"1\" class=\"dataframe\">\n",
       "  <thead>\n",
       "    <tr style=\"text-align: right;\">\n",
       "      <th></th>\n",
       "      <th>Experiment</th>\n",
       "      <th>Transfer Learning</th>\n",
       "      <th>Transfer Learning with Revision Theory</th>\n",
       "      <th>Learning from scratch</th>\n",
       "    </tr>\n",
       "  </thead>\n",
       "  <tbody>\n",
       "    <tr>\n",
       "      <th>0</th>\n",
       "      <td>imdb-&gt;uwcse(advisedby)</td>\n",
       "      <td>2.945 +/- 2.510</td>\n",
       "      <td>0.779 +/- 0.043</td>\n",
       "      <td>0.755 +/- 0.084</td>\n",
       "    </tr>\n",
       "    <tr>\n",
       "      <th>1</th>\n",
       "      <td>uwcse-&gt;imdb(workedunder)</td>\n",
       "      <td>nan +/- nan</td>\n",
       "      <td>nan +/- nan</td>\n",
       "      <td>nan +/- nan</td>\n",
       "    </tr>\n",
       "    <tr>\n",
       "      <th>2</th>\n",
       "      <td>imdb-&gt;cora(samevenue)</td>\n",
       "      <td>14.332 +/- 11.021</td>\n",
       "      <td>3.175 +/- 2.591</td>\n",
       "      <td>3.304 +/- 2.535</td>\n",
       "    </tr>\n",
       "    <tr>\n",
       "      <th>3</th>\n",
       "      <td>cora-&gt;imdb(workedunder)</td>\n",
       "      <td>2.192 +/- 1.595</td>\n",
       "      <td>0.921 +/- 0.123</td>\n",
       "      <td>0.799 +/- 0.066</td>\n",
       "    </tr>\n",
       "    <tr>\n",
       "      <th>4</th>\n",
       "      <td>yeast-&gt;twitter(follows)</td>\n",
       "      <td>31.885 +/- 7.854</td>\n",
       "      <td>2.381 +/- 1.836</td>\n",
       "      <td>1.317 +/- 0.042</td>\n",
       "    </tr>\n",
       "    <tr>\n",
       "      <th>5</th>\n",
       "      <td>twitter-&gt;yeast(interaction)</td>\n",
       "      <td>53.195 +/- 53.002</td>\n",
       "      <td>2.862 +/- 0.356</td>\n",
       "      <td>2.825 +/- 0.547</td>\n",
       "    </tr>\n",
       "    <tr>\n",
       "      <th>6</th>\n",
       "      <td>nell_sports-&gt;nell_finances(companyeconomicsector)</td>\n",
       "      <td>10.702 +/- 0.000</td>\n",
       "      <td>2.959 +/- 0.000</td>\n",
       "      <td>1.208 +/- 0.000</td>\n",
       "    </tr>\n",
       "    <tr>\n",
       "      <th>7</th>\n",
       "      <td>nell_finances-&gt;nell_sports(teamplayssport)</td>\n",
       "      <td>nan +/- nan</td>\n",
       "      <td>nan +/- nan</td>\n",
       "      <td>nan +/- nan</td>\n",
       "    </tr>\n",
       "  </tbody>\n",
       "</table>\n",
       "</div>"
      ],
      "text/plain": [
       "                                          Experiment  Transfer Learning  \\\n",
       "0                             imdb->uwcse(advisedby)    2.945 +/- 2.510   \n",
       "1                           uwcse->imdb(workedunder)        nan +/- nan   \n",
       "2                              imdb->cora(samevenue)  14.332 +/- 11.021   \n",
       "3                            cora->imdb(workedunder)    2.192 +/- 1.595   \n",
       "4                            yeast->twitter(follows)   31.885 +/- 7.854   \n",
       "5                        twitter->yeast(interaction)  53.195 +/- 53.002   \n",
       "6  nell_sports->nell_finances(companyeconomicsector)   10.702 +/- 0.000   \n",
       "7         nell_finances->nell_sports(teamplayssport)        nan +/- nan   \n",
       "\n",
       "  Transfer Learning with Revision Theory Learning from scratch  \n",
       "0                        0.779 +/- 0.043       0.755 +/- 0.084  \n",
       "1                            nan +/- nan           nan +/- nan  \n",
       "2                        3.175 +/- 2.591       3.304 +/- 2.535  \n",
       "3                        0.921 +/- 0.123       0.799 +/- 0.066  \n",
       "4                        2.381 +/- 1.836       1.317 +/- 0.042  \n",
       "5                        2.862 +/- 0.356       2.825 +/- 0.547  \n",
       "6                        2.959 +/- 0.000       1.208 +/- 0.000  \n",
       "7                            nan +/- nan           nan +/- nan  "
      ]
     },
     "metadata": {},
     "output_type": "display_data"
    }
   ],
   "source": [
    "experiments = [\n",
    "            {'source':'imdb', 'target':'uwcse', 'predicate':'workedunder', 'to_predicate':'advisedby'},\n",
    "            {'source':'uwcse', 'target':'imdb', 'predicate':'advisedby', 'to_predicate':'workedunder'},\n",
    "            {'source':'imdb', 'target':'cora', 'predicate':'workedunder', 'to_predicate':'samevenue'},\n",
    "            {'source':'cora', 'target':'imdb', 'predicate':'samevenue', 'to_predicate':'workedunder'},\n",
    "            {'source':'yeast', 'target':'twitter', 'predicate':'interaction', 'to_predicate':'follows'},\n",
    "            {'source':'twitter', 'target':'yeast', 'predicate':'follows', 'to_predicate':'interaction'},\n",
    "            {'source':'nell_sports', 'target':'nell_finances', 'predicate':'teamplayssport', 'to_predicate':'companyeconomicsector'},\n",
    "            {'source':'nell_finances', 'target':'nell_sports', 'predicate':'companyeconomicsector', 'to_predicate':'teamplayssport'},\n",
    "            ]\n",
    "\n",
    "for metric in ['AUC ROC', 'AUC PR', 'CLL', 'Recall', 'F1', 'Precision', 'Learning and Revision time', 'Inference time']:\n",
    "    display(Markdown('# Results for ' + metric))\n",
    "    table = []\n",
    "    for j in range(len(experiments)):\n",
    "        dataset = experiments[j]['source'] + '->' + experiments[j]['target'] + '('+ experiments[j]['to_predicate'] + ')'\n",
    "        if dataset in data['results']: \n",
    "            #for metric in ['AUC ROC', 'AUC PR']:\n",
    "                #display(Markdown('## ' + metric))\n",
    "            if metric == 'Precision':\n",
    "                scratch = np.array([item['scratch']['Precision'][0] for sublist in data['results'][str(dataset)] for item in sublist])\n",
    "                parameter = np.array([item['transfer']['Parameter Learning results']['Precision'][0] for sublist in data['results'][str(dataset)] for item in sublist])\n",
    "                transfer = np.array([item['transfer']['Precision'][0] for sublist in data['results'][str(dataset)] for item in sublist])\n",
    "            elif metric == 'Learning and Revision time':\n",
    "                scratch = np.array([item['scratch']['Learning time'] for sublist in data['results'][str(dataset)] for item in sublist])\n",
    "                parameter = np.array([item['transfer']['Parameter Learning results']['Learning time'] for sublist in data['results'][str(dataset)] for item in sublist])\n",
    "                transfer = np.array([item['transfer']['Learning time'] for sublist in data['results'][str(dataset)] for item in sublist])\n",
    "            elif metric == 'Inference time':\n",
    "                scratch = np.array([item['scratch']['Inference time'] for sublist in data['results'][str(dataset)] for item in sublist])\n",
    "                parameter = np.array([item['transfer']['Parameter Learning results']['Learning time'] for sublist in data['results'][str(dataset)] for item in sublist])\n",
    "                transfer = np.array([item['transfer']['Inference time'] for sublist in data['results'][str(dataset)] for item in sublist])\n",
    "            else:\n",
    "                scratch = np.array([item['scratch'][metric] for sublist in data['results'][str(dataset)] for item in sublist])\n",
    "                parameter = np.array([item['transfer']['Parameter Learning results'][metric] for sublist in data['results'][str(dataset)] for item in sublist])\n",
    "                transfer = np.array([item['transfer'][metric] for sublist in data['results'][str(dataset)] for item in sublist])\n",
    "            table.append([dataset, '%.3f +/- %.3f' % (parameter.mean(), 2 * parameter.std()),\n",
    "            '%.3f +/- %.3f' % (transfer.mean(), 2 * transfer.std()),\n",
    "            '%.3f +/- %.3f' % (scratch.mean(), 2 * scratch.std())])\n",
    "    display(pd.DataFrame(table, columns=['Experiment', 'Transfer Learning', 'Transfer Learning with Revision Theory', 'Learning from scratch']))"
   ]
  },
  {
   "cell_type": "code",
   "execution_count": 5,
   "metadata": {
    "collapsed": false
   },
   "outputs": [
    {
     "data": {
      "text/markdown": [
       "# Results for imdb->uwcse"
      ],
      "text/plain": [
       "<IPython.core.display.Markdown object>"
      ]
     },
     "metadata": {},
     "output_type": "display_data"
    },
    {
     "data": {
      "text/markdown": [
       "## AUC ROC"
      ],
      "text/plain": [
       "<IPython.core.display.Markdown object>"
      ]
     },
     "metadata": {},
     "output_type": "display_data"
    },
    {
     "name": "stdout",
     "output_type": "stream",
     "text": [
      "Scratch: [0.884533 0.94456  0.860577 0.933594 0.958285 0.886999 0.957047 0.860577\n",
      " 0.930313 0.958285 0.878945 0.957047 0.860577 0.928047 0.95026 ]\n",
      "Transfer: [0.949704 0.929472 0.894231 0.930938 0.945797 0.949704 0.929472 0.894231\n",
      " 0.930938 0.945797 0.949704 0.929472 0.894231 0.930938 0.945797]\n",
      "Transfer & Revision: [0.934172 0.955775 0.894231 0.933594 0.957966 0.934172 0.959475 0.894231\n",
      " 0.930313 0.958391 0.945513 0.959475 0.894231 0.930313 0.956372]\n"
     ]
    },
    {
     "data": {
      "text/markdown": [
       "## AUC PR"
      ],
      "text/plain": [
       "<IPython.core.display.Markdown object>"
      ]
     },
     "metadata": {},
     "output_type": "display_data"
    },
    {
     "name": "stdout",
     "output_type": "stream",
     "text": [
      "Scratch: [0.778351 0.916285 0.781955 0.899207 0.947272 0.783218 0.928404 0.781955\n",
      " 0.894491 0.947272 0.762797 0.928404 0.781955 0.883652 0.941442]\n",
      "Transfer: [0.939729 0.918777 0.825397 0.920612 0.937284 0.939729 0.918777 0.825397\n",
      " 0.920612 0.937284 0.939729 0.918777 0.825397 0.920612 0.937284]\n",
      "Transfer & Revision: [0.847725 0.935903 0.825397 0.899207 0.940709 0.847725 0.953759 0.825397\n",
      " 0.894491 0.941273 0.878467 0.953759 0.825397 0.894491 0.933397]\n"
     ]
    },
    {
     "data": {
      "text/markdown": [
       "## CLL"
      ],
      "text/plain": [
       "<IPython.core.display.Markdown object>"
      ]
     },
     "metadata": {},
     "output_type": "display_data"
    },
    {
     "name": "stdout",
     "output_type": "stream",
     "text": [
      "Scratch: [-0.396411 -0.284644 -0.382487 -0.275741 -0.265593 -0.400721 -0.28334\n",
      " -0.382487 -0.276313 -0.264685 -0.395452 -0.280522 -0.382487 -0.277761\n",
      " -0.273747]\n",
      "Transfer: [-0.273854 -0.290507 -0.313006 -0.287685 -0.272526 -0.273854 -0.290507\n",
      " -0.313006 -0.287685 -0.272526 -0.273854 -0.290507 -0.313006 -0.287685\n",
      " -0.272526]\n",
      "Transfer & Revision: [-0.315901 -0.274247 -0.313006 -0.275741 -0.261639 -0.311178 -0.274262\n",
      " -0.313006 -0.276667 -0.260525 -0.307893 -0.27363  -0.313006 -0.277677\n",
      " -0.260759]\n"
     ]
    },
    {
     "data": {
      "text/markdown": [
       "## Recall"
      ],
      "text/plain": [
       "<IPython.core.display.Markdown object>"
      ]
     },
     "metadata": {},
     "output_type": "display_data"
    },
    {
     "name": "stdout",
     "output_type": "stream",
     "text": [
      "Scratch: [0.884615 1.       1.       0.975    0.927835 0.884615 1.       1.\n",
      " 0.975    0.927835 0.884615 1.       1.       0.975    0.927835]\n",
      "Transfer: [1. 1. 1. 1. 1. 1. 1. 1. 1. 1. 1. 1. 1. 1. 1.]\n",
      "Transfer & Revision: [0.858974 1.       1.       0.975    0.927835 0.884615 1.       1.\n",
      " 0.975    0.896907 0.858974 1.       1.       0.975    0.896907]\n"
     ]
    },
    {
     "data": {
      "text/markdown": [
       "## F1"
      ],
      "text/plain": [
       "<IPython.core.display.Markdown object>"
      ]
     },
     "metadata": {},
     "output_type": "display_data"
    },
    {
     "name": "stdout",
     "output_type": "stream",
     "text": [
      "Scratch: [0.851852 0.902913 0.877637 0.912281 0.8867   0.851852 0.902913 0.877637\n",
      " 0.912281 0.8867   0.851852 0.902913 0.877637 0.901734 0.8867  ]\n",
      "Transfer: [0.928571 0.902913 0.904348 0.903955 0.919431 0.928571 0.902913 0.904348\n",
      " 0.903955 0.919431 0.928571 0.902913 0.904348 0.903955 0.919431]\n",
      "Transfer & Revision: [0.875817 0.902913 0.904348 0.912281 0.8867   0.884615 0.902913 0.904348\n",
      " 0.912281 0.883249 0.875817 0.902913 0.904348 0.912281 0.883249]\n"
     ]
    },
    {
     "data": {
      "text/markdown": [
       "## Precision"
      ],
      "text/plain": [
       "<IPython.core.display.Markdown object>"
      ]
     },
     "metadata": {},
     "output_type": "display_data"
    },
    {
     "name": "stdout",
     "output_type": "stream",
     "text": [
      "Scratch: [0.821429 0.823009 0.781955 0.857143 0.849057 0.821429 0.823009 0.781955\n",
      " 0.857143 0.849057 0.821429 0.823009 0.781955 0.83871  0.849057]\n",
      "Transfer: [0.866667 0.823009 0.825397 0.824742 0.850877 0.866667 0.823009 0.825397\n",
      " 0.824742 0.850877 0.866667 0.823009 0.825397 0.824742 0.850877]\n",
      "Transfer & Revision: [0.893333 0.823009 0.825397 0.857143 0.849057 0.884615 0.823009 0.825397\n",
      " 0.857143 0.87     0.893333 0.823009 0.825397 0.857143 0.87    ]\n"
     ]
    },
    {
     "data": {
      "text/markdown": [
       "## Learning and Revision time"
      ],
      "text/plain": [
       "<IPython.core.display.Markdown object>"
      ]
     },
     "metadata": {},
     "output_type": "display_data"
    },
    {
     "name": "stdout",
     "output_type": "stream",
     "text": [
      "Scratch: [ 9.625  4.602  1.464  8.307  6.286  9.471  4.441  1.593  8.772  5.738\n",
      "  8.232  4.457  1.47  15.224  7.654]\n",
      "Transfer: [5.653 2.688 1.375 4.574 3.084 4.731 1.944 1.363 3.647 2.298 5.161 2.485\n",
      " 1.649 4.445 5.572]\n",
      "Transfer & Revision: [13.736  6.384  3.472 12.149  8.194 10.917  5.173  3.244 10.476  7.274\n",
      " 13.607  6.189  4.035 10.045 10.914]\n"
     ]
    },
    {
     "data": {
      "text/markdown": [
       "## Inference time"
      ],
      "text/plain": [
       "<IPython.core.display.Markdown object>"
      ]
     },
     "metadata": {},
     "output_type": "display_data"
    },
    {
     "name": "stdout",
     "output_type": "stream",
     "text": [
      "Scratch: [0.768 0.832 0.606 0.796 1.012 0.732 0.728 0.62  0.781 0.916 0.786 0.769\n",
      " 0.594 0.803 0.842]\n",
      "Transfer: [5.653 2.688 1.375 4.574 3.084 4.731 1.944 1.363 3.647 2.298 5.161 2.485\n",
      " 1.649 4.445 5.572]\n",
      "Transfer & Revision: [0.773 0.722 0.761 0.939 0.767 0.813 0.755 0.749 0.753 0.826 0.814 0.727\n",
      " 0.834 0.767 0.808]\n"
     ]
    },
    {
     "data": {
      "text/markdown": [
       "# Results for uwcse->imdb"
      ],
      "text/plain": [
       "<IPython.core.display.Markdown object>"
      ]
     },
     "metadata": {},
     "output_type": "display_data"
    },
    {
     "data": {
      "text/markdown": [
       "## AUC ROC"
      ],
      "text/plain": [
       "<IPython.core.display.Markdown object>"
      ]
     },
     "metadata": {},
     "output_type": "display_data"
    },
    {
     "name": "stdout",
     "output_type": "stream",
     "text": [
      "Scratch: [0.95092  0.95779  1.       0.986647 0.992472 0.95092  0.95779  1.\n",
      " 0.986647 0.992472 0.95092  0.95779  1.       0.986647 0.992472]\n",
      "Transfer: [1.       1.       1.       1.       1.       1.       1.       1.\n",
      " 1.       1.       0.735684 0.746399 0.702963 0.749227 0.733994]\n",
      "Transfer & Revision: [0.95092  1.       1.       1.       1.       0.95092  1.       1.\n",
      " 1.       1.       0.943308 0.989226 1.       0.992947 0.948388]\n"
     ]
    },
    {
     "data": {
      "text/markdown": [
       "## AUC PR"
      ],
      "text/plain": [
       "<IPython.core.display.Markdown object>"
      ]
     },
     "metadata": {},
     "output_type": "display_data"
    },
    {
     "name": "stdout",
     "output_type": "stream",
     "text": [
      "Scratch: [0.910615 0.925491 1.       0.973988 0.990625 0.910615 0.925491 1.\n",
      " 0.973988 0.990625 0.910615 0.925491 1.       0.973988 0.990625]\n",
      "Transfer: [1.       1.       1.       1.       1.       1.       1.       1.\n",
      " 1.       1.       0.80099  0.811178 0.776462 0.814346 0.799672]\n",
      "Transfer & Revision: [0.910615 1.       1.       1.       1.       0.910615 1.       1.\n",
      " 1.       1.       0.892574 0.986907 1.       0.991385 0.89892 ]\n"
     ]
    },
    {
     "data": {
      "text/markdown": [
       "## CLL"
      ],
      "text/plain": [
       "<IPython.core.display.Markdown object>"
      ]
     },
     "metadata": {},
     "output_type": "display_data"
    },
    {
     "name": "stdout",
     "output_type": "stream",
     "text": [
      "Scratch: [-0.195966 -0.19503  -0.094637 -0.122206 -0.241338 -0.195966 -0.19503\n",
      " -0.094637 -0.122206 -0.241338 -0.195966 -0.19503  -0.094637 -0.122206\n",
      " -0.241338]\n",
      "Transfer: [-0.099086 -0.095245 -0.094637 -0.094637 -0.094789 -0.099086 -0.094897\n",
      " -0.094637 -0.094637 -0.094637 -0.534654 -0.516486 -0.557553 -0.518054\n",
      " -0.53894 ]\n",
      "Transfer & Revision: [-0.195966 -0.094637 -0.094637 -0.094637 -0.094637 -0.195966 -0.096198\n",
      " -0.096153 -0.097273 -0.09613  -0.19844  -0.136056 -0.094637 -0.134994\n",
      " -0.246154]\n"
     ]
    },
    {
     "data": {
      "text/markdown": [
       "## Recall"
      ],
      "text/plain": [
       "<IPython.core.display.Markdown object>"
      ]
     },
     "metadata": {},
     "output_type": "display_data"
    },
    {
     "name": "stdout",
     "output_type": "stream",
     "text": [
      "Scratch: [1. 1. 1. 1. 1. 1. 1. 1. 1. 1. 1. 1. 1. 1. 1.]\n",
      "Transfer: [1.       1.       1.       1.       1.       1.       1.       1.\n",
      " 1.       1.       0.43865  0.462963 0.397059 0.47181  0.436202]\n",
      "Transfer & Revision: [1. 1. 1. 1. 1. 1. 1. 1. 1. 1. 1. 1. 1. 1. 1.]\n"
     ]
    },
    {
     "data": {
      "text/markdown": [
       "## F1"
      ],
      "text/plain": [
       "<IPython.core.display.Markdown object>"
      ]
     },
     "metadata": {},
     "output_type": "display_data"
    },
    {
     "name": "stdout",
     "output_type": "stream",
     "text": [
      "Scratch: [0.953216 0.954345 1.       0.986823 0.927098 0.953216 0.954345 1.\n",
      " 0.986823 0.927098 0.953216 0.954345 1.       0.986823 0.927098]\n",
      "Transfer: [1.       1.       1.       1.       1.       1.       1.       1.\n",
      " 1.       1.       0.609808 0.632911 0.568421 0.641129 0.607438]\n",
      "Transfer & Revision: [0.953216 1.       1.       1.       1.       0.953216 1.       1.\n",
      " 1.       1.       0.953216 0.980333 1.       0.986823 0.927098]\n"
     ]
    },
    {
     "data": {
      "text/markdown": [
       "## Precision"
      ],
      "text/plain": [
       "<IPython.core.display.Markdown object>"
      ]
     },
     "metadata": {},
     "output_type": "display_data"
    },
    {
     "name": "stdout",
     "output_type": "stream",
     "text": [
      "Scratch: [0.910615 0.912676 1.       0.973988 0.864103 0.910615 0.912676 1.\n",
      " 0.973988 0.864103 0.910615 0.912676 1.       0.973988 0.864103]\n",
      "Transfer: [1. 1. 1. 1. 1. 1. 1. 1. 1. 1. 1. 1. 1. 1. 1.]\n",
      "Transfer & Revision: [0.910615 1.       1.       1.       1.       0.910615 1.       1.\n",
      " 1.       1.       0.910615 0.961424 1.       0.973988 0.864103]\n"
     ]
    },
    {
     "data": {
      "text/markdown": [
       "## Learning and Revision time"
      ],
      "text/plain": [
       "<IPython.core.display.Markdown object>"
      ]
     },
     "metadata": {},
     "output_type": "display_data"
    },
    {
     "name": "stdout",
     "output_type": "stream",
     "text": [
      "Scratch: [1.7   2.302 2.917 2.045 2.308 1.735 2.034 3.073 1.962 1.986 1.845 2.26\n",
      " 3.182 2.048 2.292]\n",
      "Transfer: [1.616 1.706 2.972 1.564 1.721 1.579 1.872 2.197 1.901 1.201 1.713 1.869\n",
      " 2.78  2.379 1.915]\n",
      "Transfer & Revision: [2.875 3.26  6.143 3.17  3.293 3.051 3.489 5.735 3.12  2.84  3.718 4.05\n",
      " 7.141 4.959 3.825]\n"
     ]
    },
    {
     "data": {
      "text/markdown": [
       "## Inference time"
      ],
      "text/plain": [
       "<IPython.core.display.Markdown object>"
      ]
     },
     "metadata": {},
     "output_type": "display_data"
    },
    {
     "name": "stdout",
     "output_type": "stream",
     "text": [
      "Scratch: [0.775 0.794 0.723 0.776 0.81  0.723 0.771 0.694 0.76  0.805 0.769 0.906\n",
      " 0.74  0.768 0.777]\n",
      "Transfer: [1.616 1.706 2.972 1.564 1.721 1.579 1.872 2.197 1.901 1.201 1.713 1.869\n",
      " 2.78  2.379 1.915]\n",
      "Transfer & Revision: [0.784 0.81  0.937 0.823 0.803 0.715 0.813 0.789 0.689 0.826 0.963 1.094\n",
      " 0.979 0.902 0.81 ]\n"
     ]
    },
    {
     "data": {
      "text/markdown": [
       "# Results for imdb->cora"
      ],
      "text/plain": [
       "<IPython.core.display.Markdown object>"
      ]
     },
     "metadata": {},
     "output_type": "display_data"
    },
    {
     "data": {
      "text/markdown": [
       "## AUC ROC"
      ],
      "text/plain": [
       "<IPython.core.display.Markdown object>"
      ]
     },
     "metadata": {},
     "output_type": "display_data"
    },
    {
     "name": "stdout",
     "output_type": "stream",
     "text": [
      "Scratch: [0.591354 0.569243 0.308061 0.614653 0.630357 0.591354 0.569243 0.310525\n",
      " 0.614653 0.630357]\n",
      "Transfer: [0.591354 0.573001 0.310525 0.614653 0.621875 0.591354 0.573001 0.310525\n",
      " 0.614653 0.630357]\n",
      "Transfer & Revision: [0.591354 0.573001 0.310525 0.624499 0.630748 0.591354 0.573001 0.310525\n",
      " 0.614653 0.630357]\n"
     ]
    },
    {
     "data": {
      "text/markdown": [
       "## AUC PR"
      ],
      "text/plain": [
       "<IPython.core.display.Markdown object>"
      ]
     },
     "metadata": {},
     "output_type": "display_data"
    },
    {
     "name": "stdout",
     "output_type": "stream",
     "text": [
      "Scratch: [0.942615 0.934792 0.859435 0.933172 0.937926 0.942615 0.934792 0.866163\n",
      " 0.933172 0.937926]\n",
      "Transfer: [0.942615 0.935755 0.866163 0.933172 0.934613 0.942615 0.935755 0.866163\n",
      " 0.933172 0.937926]\n",
      "Transfer & Revision: [0.942615 0.935755 0.866163 0.936044 0.937958 0.942615 0.935755 0.866163\n",
      " 0.933172 0.937926]\n"
     ]
    },
    {
     "data": {
      "text/markdown": [
       "## CLL"
      ],
      "text/plain": [
       "<IPython.core.display.Markdown object>"
      ]
     },
     "metadata": {},
     "output_type": "display_data"
    },
    {
     "name": "stdout",
     "output_type": "stream",
     "text": [
      "Scratch: [-0.316343 -0.25356  -0.345004 -0.248078 -0.263678 -0.305931 -0.253578\n",
      " -0.353384 -0.248158 -0.263632]\n",
      "Transfer: [-0.314766 -0.25356  -0.367114 -0.248058 -0.26297  -0.314562 -0.25356\n",
      " -0.367158 -0.24817  -0.263584]\n",
      "Transfer & Revision: [-0.309779 -0.25356  -0.3453   -0.248029 -0.26373  -0.308856 -0.25356\n",
      " -0.345319 -0.248057 -0.263584]\n"
     ]
    },
    {
     "data": {
      "text/markdown": [
       "## Recall"
      ],
      "text/plain": [
       "<IPython.core.display.Markdown object>"
      ]
     },
     "metadata": {},
     "output_type": "display_data"
    },
    {
     "name": "stdout",
     "output_type": "stream",
     "text": [
      "Scratch: [1. 1. 1. 1. 1. 1. 1. 1. 1. 1.]\n",
      "Transfer: [1. 1. 1. 1. 1. 1. 1. 1. 1. 1.]\n",
      "Transfer & Revision: [1. 1. 1. 1. 1. 1. 1. 1. 1. 1.]\n"
     ]
    },
    {
     "data": {
      "text/markdown": [
       "## F1"
      ],
      "text/plain": [
       "<IPython.core.display.Markdown object>"
      ]
     },
     "metadata": {},
     "output_type": "display_data"
    },
    {
     "name": "stdout",
     "output_type": "stream",
     "text": [
      "Scratch: [0.954114 0.971831 0.949713 0.970326 0.972644 0.954114 0.971831 0.949713\n",
      " 0.970326 0.972644]\n",
      "Transfer: [0.954114 0.971831 0.949713 0.970326 0.972644 0.954114 0.971831 0.949713\n",
      " 0.970326 0.972644]\n",
      "Transfer & Revision: [0.954114 0.971831 0.949713 0.970326 0.972644 0.954114 0.971831 0.949713\n",
      " 0.970326 0.972644]\n"
     ]
    },
    {
     "data": {
      "text/markdown": [
       "## Precision"
      ],
      "text/plain": [
       "<IPython.core.display.Markdown object>"
      ]
     },
     "metadata": {},
     "output_type": "display_data"
    },
    {
     "name": "stdout",
     "output_type": "stream",
     "text": [
      "Scratch: [0.912254 0.945205 0.904241 0.942363 0.946746 0.912254 0.945205 0.904241\n",
      " 0.942363 0.946746]\n",
      "Transfer: [0.912254 0.945205 0.904241 0.942363 0.946746 0.912254 0.945205 0.904241\n",
      " 0.942363 0.946746]\n",
      "Transfer & Revision: [0.912254 0.945205 0.904241 0.942363 0.946746 0.912254 0.945205 0.904241\n",
      " 0.942363 0.946746]\n"
     ]
    },
    {
     "data": {
      "text/markdown": [
       "## Learning and Revision time"
      ],
      "text/plain": [
       "<IPython.core.display.Markdown object>"
      ]
     },
     "metadata": {},
     "output_type": "display_data"
    },
    {
     "name": "stdout",
     "output_type": "stream",
     "text": [
      "Scratch: [ 3.602  6.041  6.26   6.456 15.108  3.886  6.167  4.17   6.023 13.978]\n",
      "Transfer: [ 3.222  5.214  4.322  5.85  14.539  3.212  4.486  4.197  5.715 13.529]\n",
      "Transfer & Revision: [ 5.828  8.448  7.439  9.976 22.316  6.564  8.022  8.291  9.465 19.658]\n"
     ]
    },
    {
     "data": {
      "text/markdown": [
       "## Inference time"
      ],
      "text/plain": [
       "<IPython.core.display.Markdown object>"
      ]
     },
     "metadata": {},
     "output_type": "display_data"
    },
    {
     "name": "stdout",
     "output_type": "stream",
     "text": [
      "Scratch: [1.393 1.849 1.456 1.736 4.222 1.444 1.799 1.466 1.821 4.302]\n",
      "Transfer: [ 3.222  5.214  4.322  5.85  14.539  3.212  4.486  4.197  5.715 13.529]\n",
      "Transfer & Revision: [1.367 1.896 1.577 1.774 4.5   1.373 1.954 1.516 1.911 3.849]\n"
     ]
    },
    {
     "data": {
      "text/markdown": [
       "# Results for cora->imdb"
      ],
      "text/plain": [
       "<IPython.core.display.Markdown object>"
      ]
     },
     "metadata": {},
     "output_type": "display_data"
    },
    {
     "data": {
      "text/markdown": [
       "## AUC ROC"
      ],
      "text/plain": [
       "<IPython.core.display.Markdown object>"
      ]
     },
     "metadata": {},
     "output_type": "display_data"
    },
    {
     "name": "stdout",
     "output_type": "stream",
     "text": [
      "Scratch: [0.95092  0.95779  1.       0.986647 0.992472 0.95092  0.95779  1.\n",
      " 0.986647 0.992472]\n",
      "Transfer: [0.877301 0.871914 0.882353 0.87092  0.872404 0.97363  0.97499  0.994714\n",
      " 0.975843 0.97778 ]\n",
      "Transfer & Revision: [1.       0.986111 1.       0.992947 0.986647 1.       0.995785 1.\n",
      " 0.996104 0.989156]\n"
     ]
    },
    {
     "data": {
      "text/markdown": [
       "## AUC PR"
      ],
      "text/plain": [
       "<IPython.core.display.Markdown object>"
      ]
     },
     "metadata": {},
     "output_type": "display_data"
    },
    {
     "name": "stdout",
     "output_type": "stream",
     "text": [
      "Scratch: [0.910615 0.925491 1.       0.973988 0.990625 0.910615 0.925491 1.\n",
      " 0.973988 0.990625]\n",
      "Transfer: [0.802956 0.796069 0.809524 0.794811 0.79669  0.975782 0.977185 0.9953\n",
      " 0.978049 0.980002]\n",
      "Transfer & Revision: [1.       0.972973 1.       0.991385 0.973988 1.       0.995493 1.\n",
      " 0.995846 0.979162]\n"
     ]
    },
    {
     "data": {
      "text/markdown": [
       "## CLL"
      ],
      "text/plain": [
       "<IPython.core.display.Markdown object>"
      ]
     },
     "metadata": {},
     "output_type": "display_data"
    },
    {
     "name": "stdout",
     "output_type": "stream",
     "text": [
      "Scratch: [-0.195966 -0.19503  -0.094637 -0.122206 -0.241338 -0.195966 -0.195023\n",
      " -0.094637 -0.122206 -0.241338]\n",
      "Transfer: [-0.343299 -0.353645 -0.334717 -0.343872 -0.343345 -0.265399 -0.270068\n",
      " -0.263784 -0.259433 -0.281845]\n",
      "Transfer & Revision: [-0.094637 -0.123312 -0.094637 -0.122206 -0.122206 -0.102331 -0.126624\n",
      " -0.094637 -0.12539  -0.122206]\n"
     ]
    },
    {
     "data": {
      "text/markdown": [
       "## Recall"
      ],
      "text/plain": [
       "<IPython.core.display.Markdown object>"
      ]
     },
     "metadata": {},
     "output_type": "display_data"
    },
    {
     "name": "stdout",
     "output_type": "stream",
     "text": [
      "Scratch: [1. 1. 1. 1. 1. 1. 1. 1. 1. 1.]\n",
      "Transfer: [1.       1.       1.       1.       1.       0.819018 0.817901 1.\n",
      " 0.824926 1.      ]\n",
      "Transfer & Revision: [1. 1. 1. 1. 1. 1. 1. 1. 1. 1.]\n"
     ]
    },
    {
     "data": {
      "text/markdown": [
       "## F1"
      ],
      "text/plain": [
       "<IPython.core.display.Markdown object>"
      ]
     },
     "metadata": {},
     "output_type": "display_data"
    },
    {
     "name": "stdout",
     "output_type": "stream",
     "text": [
      "Scratch: [0.953216 0.954345 1.       0.986823 0.927098 0.953216 0.954345 1.\n",
      " 0.986823 0.927098]\n",
      "Transfer: [0.89071  0.886457 0.894737 0.885677 0.886842 0.892977 0.890756 0.900662\n",
      " 0.89533  0.886842]\n",
      "Transfer & Revision: [1.       0.986301 1.       0.986823 0.986823 1.       0.986301 1.\n",
      " 0.986823 0.986823]\n"
     ]
    },
    {
     "data": {
      "text/markdown": [
       "## Precision"
      ],
      "text/plain": [
       "<IPython.core.display.Markdown object>"
      ]
     },
     "metadata": {},
     "output_type": "display_data"
    },
    {
     "name": "stdout",
     "output_type": "stream",
     "text": [
      "Scratch: [0.910615 0.912676 1.       0.973988 0.864103 0.910615 0.912676 1.\n",
      " 0.973988 0.864103]\n",
      "Transfer: [0.802956 0.796069 0.809524 0.794811 0.79669  0.981618 0.97786  0.819277\n",
      " 0.978873 0.79669 ]\n",
      "Transfer & Revision: [1.       0.972973 1.       0.973988 0.973988 1.       0.972973 1.\n",
      " 0.973988 0.973988]\n"
     ]
    },
    {
     "data": {
      "text/markdown": [
       "## Learning and Revision time"
      ],
      "text/plain": [
       "<IPython.core.display.Markdown object>"
      ]
     },
     "metadata": {},
     "output_type": "display_data"
    },
    {
     "name": "stdout",
     "output_type": "stream",
     "text": [
      "Scratch: [1.542 1.987 3.149 1.92  2.337 1.819 1.871 2.537 1.741 1.951]\n",
      "Transfer: [1.794 2.021 3.35  1.659 1.941 1.844 1.772 3.801 1.719 1.862]\n",
      "Transfer & Revision: [5.074 4.055 8.829 4.536 5.275 4.77  3.967 7.705 5.198 4.47 ]\n"
     ]
    },
    {
     "data": {
      "text/markdown": [
       "## Inference time"
      ],
      "text/plain": [
       "<IPython.core.display.Markdown object>"
      ]
     },
     "metadata": {},
     "output_type": "display_data"
    },
    {
     "name": "stdout",
     "output_type": "stream",
     "text": [
      "Scratch: [0.761 0.837 0.712 0.817 0.826 0.747 0.632 0.722 0.598 0.831]\n",
      "Transfer: [1.794 2.021 3.35  1.659 1.941 1.844 1.772 3.801 1.719 1.862]\n",
      "Transfer & Revision: [1.372 0.797 1.839 1.339 1.418 1.525 1.132 1.378 1.453 1.496]\n"
     ]
    },
    {
     "data": {
      "text/markdown": [
       "# Results for yeast->twitter"
      ],
      "text/plain": [
       "<IPython.core.display.Markdown object>"
      ]
     },
     "metadata": {},
     "output_type": "display_data"
    },
    {
     "data": {
      "text/markdown": [
       "## AUC ROC"
      ],
      "text/plain": [
       "<IPython.core.display.Markdown object>"
      ]
     },
     "metadata": {},
     "output_type": "display_data"
    },
    {
     "name": "stdout",
     "output_type": "stream",
     "text": [
      "Scratch: []\n",
      "Transfer: []\n",
      "Transfer & Revision: []\n"
     ]
    },
    {
     "data": {
      "text/markdown": [
       "## AUC PR"
      ],
      "text/plain": [
       "<IPython.core.display.Markdown object>"
      ]
     },
     "metadata": {},
     "output_type": "display_data"
    },
    {
     "name": "stdout",
     "output_type": "stream",
     "text": [
      "Scratch: []\n",
      "Transfer: []\n",
      "Transfer & Revision: []\n"
     ]
    },
    {
     "data": {
      "text/markdown": [
       "## CLL"
      ],
      "text/plain": [
       "<IPython.core.display.Markdown object>"
      ]
     },
     "metadata": {},
     "output_type": "display_data"
    },
    {
     "name": "stdout",
     "output_type": "stream",
     "text": [
      "Scratch: []\n",
      "Transfer: []\n",
      "Transfer & Revision: []\n"
     ]
    },
    {
     "data": {
      "text/markdown": [
       "## Recall"
      ],
      "text/plain": [
       "<IPython.core.display.Markdown object>"
      ]
     },
     "metadata": {},
     "output_type": "display_data"
    },
    {
     "name": "stdout",
     "output_type": "stream",
     "text": [
      "Scratch: []\n",
      "Transfer: []\n",
      "Transfer & Revision: []\n"
     ]
    },
    {
     "data": {
      "text/markdown": [
       "## F1"
      ],
      "text/plain": [
       "<IPython.core.display.Markdown object>"
      ]
     },
     "metadata": {},
     "output_type": "display_data"
    },
    {
     "name": "stdout",
     "output_type": "stream",
     "text": [
      "Scratch: []\n",
      "Transfer: []\n",
      "Transfer & Revision: []\n"
     ]
    },
    {
     "data": {
      "text/markdown": [
       "## Precision"
      ],
      "text/plain": [
       "<IPython.core.display.Markdown object>"
      ]
     },
     "metadata": {},
     "output_type": "display_data"
    },
    {
     "name": "stdout",
     "output_type": "stream",
     "text": [
      "Scratch: []\n",
      "Transfer: []\n",
      "Transfer & Revision: []\n"
     ]
    },
    {
     "data": {
      "text/markdown": [
       "## Learning and Revision time"
      ],
      "text/plain": [
       "<IPython.core.display.Markdown object>"
      ]
     },
     "metadata": {},
     "output_type": "display_data"
    },
    {
     "name": "stdout",
     "output_type": "stream",
     "text": [
      "Scratch: []\n",
      "Transfer: []\n",
      "Transfer & Revision: []\n"
     ]
    },
    {
     "data": {
      "text/markdown": [
       "## Inference time"
      ],
      "text/plain": [
       "<IPython.core.display.Markdown object>"
      ]
     },
     "metadata": {},
     "output_type": "display_data"
    },
    {
     "name": "stdout",
     "output_type": "stream",
     "text": [
      "Scratch: []\n",
      "Transfer: []\n",
      "Transfer & Revision: []\n"
     ]
    },
    {
     "data": {
      "text/markdown": [
       "# Results for twitter->yeast"
      ],
      "text/plain": [
       "<IPython.core.display.Markdown object>"
      ]
     },
     "metadata": {},
     "output_type": "display_data"
    },
    {
     "data": {
      "text/markdown": [
       "## AUC ROC"
      ],
      "text/plain": [
       "<IPython.core.display.Markdown object>"
      ]
     },
     "metadata": {},
     "output_type": "display_data"
    },
    {
     "name": "stdout",
     "output_type": "stream",
     "text": [
      "Scratch: []\n",
      "Transfer: []\n",
      "Transfer & Revision: []\n"
     ]
    },
    {
     "data": {
      "text/markdown": [
       "## AUC PR"
      ],
      "text/plain": [
       "<IPython.core.display.Markdown object>"
      ]
     },
     "metadata": {},
     "output_type": "display_data"
    },
    {
     "name": "stdout",
     "output_type": "stream",
     "text": [
      "Scratch: []\n",
      "Transfer: []\n",
      "Transfer & Revision: []\n"
     ]
    },
    {
     "data": {
      "text/markdown": [
       "## CLL"
      ],
      "text/plain": [
       "<IPython.core.display.Markdown object>"
      ]
     },
     "metadata": {},
     "output_type": "display_data"
    },
    {
     "name": "stdout",
     "output_type": "stream",
     "text": [
      "Scratch: []\n",
      "Transfer: []\n",
      "Transfer & Revision: []\n"
     ]
    },
    {
     "data": {
      "text/markdown": [
       "## Recall"
      ],
      "text/plain": [
       "<IPython.core.display.Markdown object>"
      ]
     },
     "metadata": {},
     "output_type": "display_data"
    },
    {
     "name": "stdout",
     "output_type": "stream",
     "text": [
      "Scratch: []\n",
      "Transfer: []\n",
      "Transfer & Revision: []\n"
     ]
    },
    {
     "data": {
      "text/markdown": [
       "## F1"
      ],
      "text/plain": [
       "<IPython.core.display.Markdown object>"
      ]
     },
     "metadata": {},
     "output_type": "display_data"
    },
    {
     "name": "stdout",
     "output_type": "stream",
     "text": [
      "Scratch: []\n",
      "Transfer: []\n",
      "Transfer & Revision: []\n"
     ]
    },
    {
     "data": {
      "text/markdown": [
       "## Precision"
      ],
      "text/plain": [
       "<IPython.core.display.Markdown object>"
      ]
     },
     "metadata": {},
     "output_type": "display_data"
    },
    {
     "name": "stdout",
     "output_type": "stream",
     "text": [
      "Scratch: []\n",
      "Transfer: []\n",
      "Transfer & Revision: []\n"
     ]
    },
    {
     "data": {
      "text/markdown": [
       "## Learning and Revision time"
      ],
      "text/plain": [
       "<IPython.core.display.Markdown object>"
      ]
     },
     "metadata": {},
     "output_type": "display_data"
    },
    {
     "name": "stdout",
     "output_type": "stream",
     "text": [
      "Scratch: []\n",
      "Transfer: []\n",
      "Transfer & Revision: []\n"
     ]
    },
    {
     "data": {
      "text/markdown": [
       "## Inference time"
      ],
      "text/plain": [
       "<IPython.core.display.Markdown object>"
      ]
     },
     "metadata": {},
     "output_type": "display_data"
    },
    {
     "name": "stdout",
     "output_type": "stream",
     "text": [
      "Scratch: []\n",
      "Transfer: []\n",
      "Transfer & Revision: []\n"
     ]
    }
   ],
   "source": [
    "for j in range(len(experiments)):\n",
    "    dataset = experiments[j]['source'] + '->' + experiments[j]['target']\n",
    "    display(Markdown('# Results for ' + dataset))\n",
    "    table = []\n",
    "    for metric in ['AUC ROC', 'AUC PR', 'CLL', 'Recall', 'F1', 'Precision', 'Learning and Revision time', 'Inference time']:\n",
    "    #for metric in ['AUC ROC', 'AUC PR']:\n",
    "        if dataset in data['results']: \n",
    "            #for metric in ['AUC ROC', 'AUC PR']:\n",
    "            display(Markdown('## ' + metric))\n",
    "            if metric == 'Precision':\n",
    "                scratch = np.array([item['scratch']['Precision'][0] for sublist in data['results'][str(dataset)] for item in sublist])\n",
    "                parameter = np.array([item['transfer']['Parameter Learning results']['Precision'][0] for sublist in data['results'][str(dataset)] for item in sublist])\n",
    "                transfer = np.array([item['transfer']['Precision'][0] for sublist in data['results'][str(dataset)] for item in sublist])\n",
    "            elif metric == 'Learning and Revision time':\n",
    "                scratch = np.array([item['scratch']['Learning time'] for sublist in data['results'][str(dataset)] for item in sublist])\n",
    "                parameter = np.array([item['transfer']['Parameter Learning results']['Learning time'] for sublist in data['results'][str(dataset)] for item in sublist])\n",
    "                transfer = np.array([item['transfer']['Learning time'] for sublist in data['results'][str(dataset)] for item in sublist])\n",
    "            elif metric == 'Inference time':\n",
    "                scratch = np.array([item['scratch']['Inference time'] for sublist in data['results'][str(dataset)] for item in sublist])\n",
    "                parameter = np.array([item['transfer']['Parameter Learning results']['Learning time'] for sublist in data['results'][str(dataset)] for item in sublist])\n",
    "                transfer = np.array([item['transfer']['Inference time'] for sublist in data['results'][str(dataset)] for item in sublist])\n",
    "            else:\n",
    "                scratch = np.array([item['scratch'][metric] for sublist in data['results'][str(dataset)] for item in sublist])\n",
    "                parameter = np.array([item['transfer']['Parameter Learning results'][metric] for sublist in data['results'][str(dataset)] for item in sublist])\n",
    "                transfer = np.array([item['transfer'][metric] for sublist in data['results'][str(dataset)] for item in sublist])\n",
    "            print('Scratch: %s' % scratch)\n",
    "            print('Transfer: %s' % parameter)\n",
    "            print('Transfer & Revision: %s' % transfer)"
   ]
  },
  {
   "cell_type": "code",
   "execution_count": null,
   "metadata": {
    "collapsed": true
   },
   "outputs": [],
   "source": []
  },
  {
   "cell_type": "code",
   "execution_count": null,
   "metadata": {
    "collapsed": true
   },
   "outputs": [],
   "source": []
  }
 ],
 "metadata": {
  "anaconda-cloud": {},
  "kernelspec": {
   "display_name": "Python [conda env:anaconda3]",
   "language": "python",
   "name": "conda-env-anaconda3-py"
  },
  "language_info": {
   "codemirror_mode": {
    "name": "ipython",
    "version": 3
   },
   "file_extension": ".py",
   "mimetype": "text/x-python",
   "name": "python",
   "nbconvert_exporter": "python",
   "pygments_lexer": "ipython3",
   "version": "3.5.2"
  }
 },
 "nbformat": 4,
 "nbformat_minor": 1
}
