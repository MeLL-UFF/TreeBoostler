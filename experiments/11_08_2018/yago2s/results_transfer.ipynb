{
 "cells": [
  {
   "cell_type": "code",
   "execution_count": 1,
   "metadata": {
    "collapsed": true
   },
   "outputs": [],
   "source": [
    "import matplotlib.pyplot as plt\n",
    "from IPython.display import display, Markdown, Latex\n",
    "import numpy as np\n",
    "import json\n",
    "import pandas as pd\n",
    "\n",
    "with open('transfer_experiment.json', 'r') as fp:\n",
    "    data = json.load(fp)"
   ]
  },
  {
   "cell_type": "code",
   "execution_count": 2,
   "metadata": {
    "collapsed": false
   },
   "outputs": [
    {
     "data": {
      "text/markdown": [
       "# Results for AUC ROC"
      ],
      "text/plain": [
       "<IPython.core.display.Markdown object>"
      ]
     },
     "metadata": {},
     "output_type": "display_data"
    },
    {
     "name": "stderr",
     "output_type": "stream",
     "text": [
      "/home/rodrigoazs/anaconda3/lib/python3.5/site-packages/ipykernel/__main__.py:41: RuntimeWarning: Mean of empty slice.\n",
      "/home/rodrigoazs/anaconda3/lib/python3.5/site-packages/numpy/core/_methods.py:140: RuntimeWarning: Degrees of freedom <= 0 for slice\n",
      "  keepdims=keepdims)\n",
      "/home/rodrigoazs/anaconda3/lib/python3.5/site-packages/ipykernel/__main__.py:42: RuntimeWarning: Mean of empty slice.\n",
      "/home/rodrigoazs/anaconda3/lib/python3.5/site-packages/ipykernel/__main__.py:43: RuntimeWarning: Mean of empty slice.\n"
     ]
    },
    {
     "data": {
      "text/html": [
       "<div>\n",
       "<table border=\"1\" class=\"dataframe\">\n",
       "  <thead>\n",
       "    <tr style=\"text-align: right;\">\n",
       "      <th></th>\n",
       "      <th>Experiment</th>\n",
       "      <th>Transfer Learning</th>\n",
       "      <th>Transfer Learning with Revision Theory</th>\n",
       "      <th>Learning from scratch</th>\n",
       "    </tr>\n",
       "  </thead>\n",
       "  <tbody>\n",
       "    <tr>\n",
       "      <th>0</th>\n",
       "      <td>imdb-&gt;yago2s(ismarriedto)</td>\n",
       "      <td>0.506 +/- 0.000</td>\n",
       "      <td>0.731 +/- 0.000</td>\n",
       "      <td>0.727 +/- 0.000</td>\n",
       "    </tr>\n",
       "    <tr>\n",
       "      <th>1</th>\n",
       "      <td>imdb-&gt;yago2s(imports)</td>\n",
       "      <td>nan +/- nan</td>\n",
       "      <td>nan +/- nan</td>\n",
       "      <td>nan +/- nan</td>\n",
       "    </tr>\n",
       "    <tr>\n",
       "      <th>2</th>\n",
       "      <td>imdb-&gt;yago2s(exports)</td>\n",
       "      <td>nan +/- nan</td>\n",
       "      <td>nan +/- nan</td>\n",
       "      <td>nan +/- nan</td>\n",
       "    </tr>\n",
       "    <tr>\n",
       "      <th>3</th>\n",
       "      <td>imdb-&gt;yago2s(influences)</td>\n",
       "      <td>0.503 +/- 0.000</td>\n",
       "      <td>0.660 +/- 0.000</td>\n",
       "      <td>0.671 +/- 0.000</td>\n",
       "    </tr>\n",
       "    <tr>\n",
       "      <th>4</th>\n",
       "      <td>imdb-&gt;yago2s(wrotemusicfor)</td>\n",
       "      <td>nan +/- nan</td>\n",
       "      <td>nan +/- nan</td>\n",
       "      <td>nan +/- nan</td>\n",
       "    </tr>\n",
       "  </tbody>\n",
       "</table>\n",
       "</div>"
      ],
      "text/plain": [
       "                    Experiment Transfer Learning  \\\n",
       "0    imdb->yago2s(ismarriedto)   0.506 +/- 0.000   \n",
       "1        imdb->yago2s(imports)       nan +/- nan   \n",
       "2        imdb->yago2s(exports)       nan +/- nan   \n",
       "3     imdb->yago2s(influences)   0.503 +/- 0.000   \n",
       "4  imdb->yago2s(wrotemusicfor)       nan +/- nan   \n",
       "\n",
       "  Transfer Learning with Revision Theory Learning from scratch  \n",
       "0                        0.731 +/- 0.000       0.727 +/- 0.000  \n",
       "1                            nan +/- nan           nan +/- nan  \n",
       "2                            nan +/- nan           nan +/- nan  \n",
       "3                        0.660 +/- 0.000       0.671 +/- 0.000  \n",
       "4                            nan +/- nan           nan +/- nan  "
      ]
     },
     "metadata": {},
     "output_type": "display_data"
    },
    {
     "data": {
      "text/markdown": [
       "# Results for AUC PR"
      ],
      "text/plain": [
       "<IPython.core.display.Markdown object>"
      ]
     },
     "metadata": {},
     "output_type": "display_data"
    },
    {
     "data": {
      "text/html": [
       "<div>\n",
       "<table border=\"1\" class=\"dataframe\">\n",
       "  <thead>\n",
       "    <tr style=\"text-align: right;\">\n",
       "      <th></th>\n",
       "      <th>Experiment</th>\n",
       "      <th>Transfer Learning</th>\n",
       "      <th>Transfer Learning with Revision Theory</th>\n",
       "      <th>Learning from scratch</th>\n",
       "    </tr>\n",
       "  </thead>\n",
       "  <tbody>\n",
       "    <tr>\n",
       "      <th>0</th>\n",
       "      <td>imdb-&gt;yago2s(ismarriedto)</td>\n",
       "      <td>0.519 +/- 0.000</td>\n",
       "      <td>0.761 +/- 0.000</td>\n",
       "      <td>0.751 +/- 0.000</td>\n",
       "    </tr>\n",
       "    <tr>\n",
       "      <th>1</th>\n",
       "      <td>imdb-&gt;yago2s(imports)</td>\n",
       "      <td>nan +/- nan</td>\n",
       "      <td>nan +/- nan</td>\n",
       "      <td>nan +/- nan</td>\n",
       "    </tr>\n",
       "    <tr>\n",
       "      <th>2</th>\n",
       "      <td>imdb-&gt;yago2s(exports)</td>\n",
       "      <td>nan +/- nan</td>\n",
       "      <td>nan +/- nan</td>\n",
       "      <td>nan +/- nan</td>\n",
       "    </tr>\n",
       "    <tr>\n",
       "      <th>3</th>\n",
       "      <td>imdb-&gt;yago2s(influences)</td>\n",
       "      <td>0.509 +/- 0.000</td>\n",
       "      <td>0.676 +/- 0.000</td>\n",
       "      <td>0.683 +/- 0.000</td>\n",
       "    </tr>\n",
       "    <tr>\n",
       "      <th>4</th>\n",
       "      <td>imdb-&gt;yago2s(wrotemusicfor)</td>\n",
       "      <td>nan +/- nan</td>\n",
       "      <td>nan +/- nan</td>\n",
       "      <td>nan +/- nan</td>\n",
       "    </tr>\n",
       "  </tbody>\n",
       "</table>\n",
       "</div>"
      ],
      "text/plain": [
       "                    Experiment Transfer Learning  \\\n",
       "0    imdb->yago2s(ismarriedto)   0.519 +/- 0.000   \n",
       "1        imdb->yago2s(imports)       nan +/- nan   \n",
       "2        imdb->yago2s(exports)       nan +/- nan   \n",
       "3     imdb->yago2s(influences)   0.509 +/- 0.000   \n",
       "4  imdb->yago2s(wrotemusicfor)       nan +/- nan   \n",
       "\n",
       "  Transfer Learning with Revision Theory Learning from scratch  \n",
       "0                        0.761 +/- 0.000       0.751 +/- 0.000  \n",
       "1                            nan +/- nan           nan +/- nan  \n",
       "2                            nan +/- nan           nan +/- nan  \n",
       "3                        0.676 +/- 0.000       0.683 +/- 0.000  \n",
       "4                            nan +/- nan           nan +/- nan  "
      ]
     },
     "metadata": {},
     "output_type": "display_data"
    },
    {
     "data": {
      "text/markdown": [
       "# Results for CLL"
      ],
      "text/plain": [
       "<IPython.core.display.Markdown object>"
      ]
     },
     "metadata": {},
     "output_type": "display_data"
    },
    {
     "data": {
      "text/html": [
       "<div>\n",
       "<table border=\"1\" class=\"dataframe\">\n",
       "  <thead>\n",
       "    <tr style=\"text-align: right;\">\n",
       "      <th></th>\n",
       "      <th>Experiment</th>\n",
       "      <th>Transfer Learning</th>\n",
       "      <th>Transfer Learning with Revision Theory</th>\n",
       "      <th>Learning from scratch</th>\n",
       "    </tr>\n",
       "  </thead>\n",
       "  <tbody>\n",
       "    <tr>\n",
       "      <th>0</th>\n",
       "      <td>imdb-&gt;yago2s(ismarriedto)</td>\n",
       "      <td>-0.692 +/- 0.000</td>\n",
       "      <td>-0.605 +/- 0.000</td>\n",
       "      <td>-0.600 +/- 0.000</td>\n",
       "    </tr>\n",
       "    <tr>\n",
       "      <th>1</th>\n",
       "      <td>imdb-&gt;yago2s(imports)</td>\n",
       "      <td>nan +/- nan</td>\n",
       "      <td>nan +/- nan</td>\n",
       "      <td>nan +/- nan</td>\n",
       "    </tr>\n",
       "    <tr>\n",
       "      <th>2</th>\n",
       "      <td>imdb-&gt;yago2s(exports)</td>\n",
       "      <td>nan +/- nan</td>\n",
       "      <td>nan +/- nan</td>\n",
       "      <td>nan +/- nan</td>\n",
       "    </tr>\n",
       "    <tr>\n",
       "      <th>3</th>\n",
       "      <td>imdb-&gt;yago2s(influences)</td>\n",
       "      <td>-0.694 +/- 0.000</td>\n",
       "      <td>-0.655 +/- 0.000</td>\n",
       "      <td>-0.651 +/- 0.000</td>\n",
       "    </tr>\n",
       "    <tr>\n",
       "      <th>4</th>\n",
       "      <td>imdb-&gt;yago2s(wrotemusicfor)</td>\n",
       "      <td>nan +/- nan</td>\n",
       "      <td>nan +/- nan</td>\n",
       "      <td>nan +/- nan</td>\n",
       "    </tr>\n",
       "  </tbody>\n",
       "</table>\n",
       "</div>"
      ],
      "text/plain": [
       "                    Experiment Transfer Learning  \\\n",
       "0    imdb->yago2s(ismarriedto)  -0.692 +/- 0.000   \n",
       "1        imdb->yago2s(imports)       nan +/- nan   \n",
       "2        imdb->yago2s(exports)       nan +/- nan   \n",
       "3     imdb->yago2s(influences)  -0.694 +/- 0.000   \n",
       "4  imdb->yago2s(wrotemusicfor)       nan +/- nan   \n",
       "\n",
       "  Transfer Learning with Revision Theory Learning from scratch  \n",
       "0                       -0.605 +/- 0.000      -0.600 +/- 0.000  \n",
       "1                            nan +/- nan           nan +/- nan  \n",
       "2                            nan +/- nan           nan +/- nan  \n",
       "3                       -0.655 +/- 0.000      -0.651 +/- 0.000  \n",
       "4                            nan +/- nan           nan +/- nan  "
      ]
     },
     "metadata": {},
     "output_type": "display_data"
    },
    {
     "data": {
      "text/markdown": [
       "# Results for Recall"
      ],
      "text/plain": [
       "<IPython.core.display.Markdown object>"
      ]
     },
     "metadata": {},
     "output_type": "display_data"
    },
    {
     "data": {
      "text/html": [
       "<div>\n",
       "<table border=\"1\" class=\"dataframe\">\n",
       "  <thead>\n",
       "    <tr style=\"text-align: right;\">\n",
       "      <th></th>\n",
       "      <th>Experiment</th>\n",
       "      <th>Transfer Learning</th>\n",
       "      <th>Transfer Learning with Revision Theory</th>\n",
       "      <th>Learning from scratch</th>\n",
       "    </tr>\n",
       "  </thead>\n",
       "  <tbody>\n",
       "    <tr>\n",
       "      <th>0</th>\n",
       "      <td>imdb-&gt;yago2s(ismarriedto)</td>\n",
       "      <td>0.012 +/- 0.000</td>\n",
       "      <td>0.296 +/- 0.000</td>\n",
       "      <td>0.302 +/- 0.000</td>\n",
       "    </tr>\n",
       "    <tr>\n",
       "      <th>1</th>\n",
       "      <td>imdb-&gt;yago2s(imports)</td>\n",
       "      <td>nan +/- nan</td>\n",
       "      <td>nan +/- nan</td>\n",
       "      <td>nan +/- nan</td>\n",
       "    </tr>\n",
       "    <tr>\n",
       "      <th>2</th>\n",
       "      <td>imdb-&gt;yago2s(exports)</td>\n",
       "      <td>nan +/- nan</td>\n",
       "      <td>nan +/- nan</td>\n",
       "      <td>nan +/- nan</td>\n",
       "    </tr>\n",
       "    <tr>\n",
       "      <th>3</th>\n",
       "      <td>imdb-&gt;yago2s(influences)</td>\n",
       "      <td>0.005 +/- 0.000</td>\n",
       "      <td>0.402 +/- 0.000</td>\n",
       "      <td>0.424 +/- 0.000</td>\n",
       "    </tr>\n",
       "    <tr>\n",
       "      <th>4</th>\n",
       "      <td>imdb-&gt;yago2s(wrotemusicfor)</td>\n",
       "      <td>nan +/- nan</td>\n",
       "      <td>nan +/- nan</td>\n",
       "      <td>nan +/- nan</td>\n",
       "    </tr>\n",
       "  </tbody>\n",
       "</table>\n",
       "</div>"
      ],
      "text/plain": [
       "                    Experiment Transfer Learning  \\\n",
       "0    imdb->yago2s(ismarriedto)   0.012 +/- 0.000   \n",
       "1        imdb->yago2s(imports)       nan +/- nan   \n",
       "2        imdb->yago2s(exports)       nan +/- nan   \n",
       "3     imdb->yago2s(influences)   0.005 +/- 0.000   \n",
       "4  imdb->yago2s(wrotemusicfor)       nan +/- nan   \n",
       "\n",
       "  Transfer Learning with Revision Theory Learning from scratch  \n",
       "0                        0.296 +/- 0.000       0.302 +/- 0.000  \n",
       "1                            nan +/- nan           nan +/- nan  \n",
       "2                            nan +/- nan           nan +/- nan  \n",
       "3                        0.402 +/- 0.000       0.424 +/- 0.000  \n",
       "4                            nan +/- nan           nan +/- nan  "
      ]
     },
     "metadata": {},
     "output_type": "display_data"
    },
    {
     "data": {
      "text/markdown": [
       "# Results for F1"
      ],
      "text/plain": [
       "<IPython.core.display.Markdown object>"
      ]
     },
     "metadata": {},
     "output_type": "display_data"
    },
    {
     "data": {
      "text/html": [
       "<div>\n",
       "<table border=\"1\" class=\"dataframe\">\n",
       "  <thead>\n",
       "    <tr style=\"text-align: right;\">\n",
       "      <th></th>\n",
       "      <th>Experiment</th>\n",
       "      <th>Transfer Learning</th>\n",
       "      <th>Transfer Learning with Revision Theory</th>\n",
       "      <th>Learning from scratch</th>\n",
       "    </tr>\n",
       "  </thead>\n",
       "  <tbody>\n",
       "    <tr>\n",
       "      <th>0</th>\n",
       "      <td>imdb-&gt;yago2s(ismarriedto)</td>\n",
       "      <td>0.024 +/- 0.000</td>\n",
       "      <td>0.444 +/- 0.000</td>\n",
       "      <td>0.447 +/- 0.000</td>\n",
       "    </tr>\n",
       "    <tr>\n",
       "      <th>1</th>\n",
       "      <td>imdb-&gt;yago2s(imports)</td>\n",
       "      <td>nan +/- nan</td>\n",
       "      <td>nan +/- nan</td>\n",
       "      <td>nan +/- nan</td>\n",
       "    </tr>\n",
       "    <tr>\n",
       "      <th>2</th>\n",
       "      <td>imdb-&gt;yago2s(exports)</td>\n",
       "      <td>nan +/- nan</td>\n",
       "      <td>nan +/- nan</td>\n",
       "      <td>nan +/- nan</td>\n",
       "    </tr>\n",
       "    <tr>\n",
       "      <th>3</th>\n",
       "      <td>imdb-&gt;yago2s(influences)</td>\n",
       "      <td>0.010 +/- 0.000</td>\n",
       "      <td>0.510 +/- 0.000</td>\n",
       "      <td>0.527 +/- 0.000</td>\n",
       "    </tr>\n",
       "    <tr>\n",
       "      <th>4</th>\n",
       "      <td>imdb-&gt;yago2s(wrotemusicfor)</td>\n",
       "      <td>nan +/- nan</td>\n",
       "      <td>nan +/- nan</td>\n",
       "      <td>nan +/- nan</td>\n",
       "    </tr>\n",
       "  </tbody>\n",
       "</table>\n",
       "</div>"
      ],
      "text/plain": [
       "                    Experiment Transfer Learning  \\\n",
       "0    imdb->yago2s(ismarriedto)   0.024 +/- 0.000   \n",
       "1        imdb->yago2s(imports)       nan +/- nan   \n",
       "2        imdb->yago2s(exports)       nan +/- nan   \n",
       "3     imdb->yago2s(influences)   0.010 +/- 0.000   \n",
       "4  imdb->yago2s(wrotemusicfor)       nan +/- nan   \n",
       "\n",
       "  Transfer Learning with Revision Theory Learning from scratch  \n",
       "0                        0.444 +/- 0.000       0.447 +/- 0.000  \n",
       "1                            nan +/- nan           nan +/- nan  \n",
       "2                            nan +/- nan           nan +/- nan  \n",
       "3                        0.510 +/- 0.000       0.527 +/- 0.000  \n",
       "4                            nan +/- nan           nan +/- nan  "
      ]
     },
     "metadata": {},
     "output_type": "display_data"
    },
    {
     "data": {
      "text/markdown": [
       "# Results for Precision"
      ],
      "text/plain": [
       "<IPython.core.display.Markdown object>"
      ]
     },
     "metadata": {},
     "output_type": "display_data"
    },
    {
     "data": {
      "text/html": [
       "<div>\n",
       "<table border=\"1\" class=\"dataframe\">\n",
       "  <thead>\n",
       "    <tr style=\"text-align: right;\">\n",
       "      <th></th>\n",
       "      <th>Experiment</th>\n",
       "      <th>Transfer Learning</th>\n",
       "      <th>Transfer Learning with Revision Theory</th>\n",
       "      <th>Learning from scratch</th>\n",
       "    </tr>\n",
       "  </thead>\n",
       "  <tbody>\n",
       "    <tr>\n",
       "      <th>0</th>\n",
       "      <td>imdb-&gt;yago2s(ismarriedto)</td>\n",
       "      <td>1.000 +/- 0.000</td>\n",
       "      <td>0.888 +/- 0.000</td>\n",
       "      <td>0.866 +/- 0.000</td>\n",
       "    </tr>\n",
       "    <tr>\n",
       "      <th>1</th>\n",
       "      <td>imdb-&gt;yago2s(imports)</td>\n",
       "      <td>nan +/- nan</td>\n",
       "      <td>nan +/- nan</td>\n",
       "      <td>nan +/- nan</td>\n",
       "    </tr>\n",
       "    <tr>\n",
       "      <th>2</th>\n",
       "      <td>imdb-&gt;yago2s(exports)</td>\n",
       "      <td>nan +/- nan</td>\n",
       "      <td>nan +/- nan</td>\n",
       "      <td>nan +/- nan</td>\n",
       "    </tr>\n",
       "    <tr>\n",
       "      <th>3</th>\n",
       "      <td>imdb-&gt;yago2s(influences)</td>\n",
       "      <td>1.000 +/- 0.000</td>\n",
       "      <td>0.697 +/- 0.000</td>\n",
       "      <td>0.697 +/- 0.000</td>\n",
       "    </tr>\n",
       "    <tr>\n",
       "      <th>4</th>\n",
       "      <td>imdb-&gt;yago2s(wrotemusicfor)</td>\n",
       "      <td>nan +/- nan</td>\n",
       "      <td>nan +/- nan</td>\n",
       "      <td>nan +/- nan</td>\n",
       "    </tr>\n",
       "  </tbody>\n",
       "</table>\n",
       "</div>"
      ],
      "text/plain": [
       "                    Experiment Transfer Learning  \\\n",
       "0    imdb->yago2s(ismarriedto)   1.000 +/- 0.000   \n",
       "1        imdb->yago2s(imports)       nan +/- nan   \n",
       "2        imdb->yago2s(exports)       nan +/- nan   \n",
       "3     imdb->yago2s(influences)   1.000 +/- 0.000   \n",
       "4  imdb->yago2s(wrotemusicfor)       nan +/- nan   \n",
       "\n",
       "  Transfer Learning with Revision Theory Learning from scratch  \n",
       "0                        0.888 +/- 0.000       0.866 +/- 0.000  \n",
       "1                            nan +/- nan           nan +/- nan  \n",
       "2                            nan +/- nan           nan +/- nan  \n",
       "3                        0.697 +/- 0.000       0.697 +/- 0.000  \n",
       "4                            nan +/- nan           nan +/- nan  "
      ]
     },
     "metadata": {},
     "output_type": "display_data"
    },
    {
     "data": {
      "text/markdown": [
       "# Results for Learning and Revision time"
      ],
      "text/plain": [
       "<IPython.core.display.Markdown object>"
      ]
     },
     "metadata": {},
     "output_type": "display_data"
    },
    {
     "data": {
      "text/html": [
       "<div>\n",
       "<table border=\"1\" class=\"dataframe\">\n",
       "  <thead>\n",
       "    <tr style=\"text-align: right;\">\n",
       "      <th></th>\n",
       "      <th>Experiment</th>\n",
       "      <th>Transfer Learning</th>\n",
       "      <th>Transfer Learning with Revision Theory</th>\n",
       "      <th>Learning from scratch</th>\n",
       "    </tr>\n",
       "  </thead>\n",
       "  <tbody>\n",
       "    <tr>\n",
       "      <th>0</th>\n",
       "      <td>imdb-&gt;yago2s(ismarriedto)</td>\n",
       "      <td>282.986 +/- 0.000</td>\n",
       "      <td>989.959 +/- 0.000</td>\n",
       "      <td>575.823 +/- 0.000</td>\n",
       "    </tr>\n",
       "    <tr>\n",
       "      <th>1</th>\n",
       "      <td>imdb-&gt;yago2s(imports)</td>\n",
       "      <td>nan +/- nan</td>\n",
       "      <td>nan +/- nan</td>\n",
       "      <td>nan +/- nan</td>\n",
       "    </tr>\n",
       "    <tr>\n",
       "      <th>2</th>\n",
       "      <td>imdb-&gt;yago2s(exports)</td>\n",
       "      <td>nan +/- nan</td>\n",
       "      <td>nan +/- nan</td>\n",
       "      <td>nan +/- nan</td>\n",
       "    </tr>\n",
       "    <tr>\n",
       "      <th>3</th>\n",
       "      <td>imdb-&gt;yago2s(influences)</td>\n",
       "      <td>636.402 +/- 0.000</td>\n",
       "      <td>1847.806 +/- 0.000</td>\n",
       "      <td>1387.874 +/- 0.000</td>\n",
       "    </tr>\n",
       "    <tr>\n",
       "      <th>4</th>\n",
       "      <td>imdb-&gt;yago2s(wrotemusicfor)</td>\n",
       "      <td>nan +/- nan</td>\n",
       "      <td>nan +/- nan</td>\n",
       "      <td>nan +/- nan</td>\n",
       "    </tr>\n",
       "  </tbody>\n",
       "</table>\n",
       "</div>"
      ],
      "text/plain": [
       "                    Experiment  Transfer Learning  \\\n",
       "0    imdb->yago2s(ismarriedto)  282.986 +/- 0.000   \n",
       "1        imdb->yago2s(imports)        nan +/- nan   \n",
       "2        imdb->yago2s(exports)        nan +/- nan   \n",
       "3     imdb->yago2s(influences)  636.402 +/- 0.000   \n",
       "4  imdb->yago2s(wrotemusicfor)        nan +/- nan   \n",
       "\n",
       "  Transfer Learning with Revision Theory Learning from scratch  \n",
       "0                      989.959 +/- 0.000     575.823 +/- 0.000  \n",
       "1                            nan +/- nan           nan +/- nan  \n",
       "2                            nan +/- nan           nan +/- nan  \n",
       "3                     1847.806 +/- 0.000    1387.874 +/- 0.000  \n",
       "4                            nan +/- nan           nan +/- nan  "
      ]
     },
     "metadata": {},
     "output_type": "display_data"
    },
    {
     "data": {
      "text/markdown": [
       "# Results for Inference time"
      ],
      "text/plain": [
       "<IPython.core.display.Markdown object>"
      ]
     },
     "metadata": {},
     "output_type": "display_data"
    },
    {
     "data": {
      "text/html": [
       "<div>\n",
       "<table border=\"1\" class=\"dataframe\">\n",
       "  <thead>\n",
       "    <tr style=\"text-align: right;\">\n",
       "      <th></th>\n",
       "      <th>Experiment</th>\n",
       "      <th>Transfer Learning</th>\n",
       "      <th>Transfer Learning with Revision Theory</th>\n",
       "      <th>Learning from scratch</th>\n",
       "    </tr>\n",
       "  </thead>\n",
       "  <tbody>\n",
       "    <tr>\n",
       "      <th>0</th>\n",
       "      <td>imdb-&gt;yago2s(ismarriedto)</td>\n",
       "      <td>282.986 +/- 0.000</td>\n",
       "      <td>68.649 +/- 0.000</td>\n",
       "      <td>97.919 +/- 0.000</td>\n",
       "    </tr>\n",
       "    <tr>\n",
       "      <th>1</th>\n",
       "      <td>imdb-&gt;yago2s(imports)</td>\n",
       "      <td>nan +/- nan</td>\n",
       "      <td>nan +/- nan</td>\n",
       "      <td>nan +/- nan</td>\n",
       "    </tr>\n",
       "    <tr>\n",
       "      <th>2</th>\n",
       "      <td>imdb-&gt;yago2s(exports)</td>\n",
       "      <td>nan +/- nan</td>\n",
       "      <td>nan +/- nan</td>\n",
       "      <td>nan +/- nan</td>\n",
       "    </tr>\n",
       "    <tr>\n",
       "      <th>3</th>\n",
       "      <td>imdb-&gt;yago2s(influences)</td>\n",
       "      <td>636.402 +/- 0.000</td>\n",
       "      <td>103.787 +/- 0.000</td>\n",
       "      <td>78.799 +/- 0.000</td>\n",
       "    </tr>\n",
       "    <tr>\n",
       "      <th>4</th>\n",
       "      <td>imdb-&gt;yago2s(wrotemusicfor)</td>\n",
       "      <td>nan +/- nan</td>\n",
       "      <td>nan +/- nan</td>\n",
       "      <td>nan +/- nan</td>\n",
       "    </tr>\n",
       "  </tbody>\n",
       "</table>\n",
       "</div>"
      ],
      "text/plain": [
       "                    Experiment  Transfer Learning  \\\n",
       "0    imdb->yago2s(ismarriedto)  282.986 +/- 0.000   \n",
       "1        imdb->yago2s(imports)        nan +/- nan   \n",
       "2        imdb->yago2s(exports)        nan +/- nan   \n",
       "3     imdb->yago2s(influences)  636.402 +/- 0.000   \n",
       "4  imdb->yago2s(wrotemusicfor)        nan +/- nan   \n",
       "\n",
       "  Transfer Learning with Revision Theory Learning from scratch  \n",
       "0                       68.649 +/- 0.000      97.919 +/- 0.000  \n",
       "1                            nan +/- nan           nan +/- nan  \n",
       "2                            nan +/- nan           nan +/- nan  \n",
       "3                      103.787 +/- 0.000      78.799 +/- 0.000  \n",
       "4                            nan +/- nan           nan +/- nan  "
      ]
     },
     "metadata": {},
     "output_type": "display_data"
    }
   ],
   "source": [
    "experiments = [\n",
    "            #{'source':'imdb', 'target':'uwcse', 'predicate':'workedunder', 'to_predicate':'advisedby'},\n",
    "            #{'source':'uwcse', 'target':'imdb', 'predicate':'advisedby', 'to_predicate':'workedunder'},\n",
    "            #{'source':'imdb', 'target':'cora', 'predicate':'workedunder', 'to_predicate':'samevenue'},\n",
    "            #{'source':'cora', 'target':'imdb', 'predicate':'samevenue', 'to_predicate':'workedunder'},\n",
    "            #{'source':'yeast', 'target':'twitter', 'predicate':'interaction', 'to_predicate':'follows'},\n",
    "            #{'source':'twitter', 'target':'yeast', 'predicate':'follows', 'to_predicate':'interaction'},\n",
    "            #{'source':'nell_sports', 'target':'nell_finances', 'predicate':'teamplayssport', 'to_predicate':'companyeconomicsector'},\n",
    "            #{'source':'nell_finances', 'target':'nell_sports', 'predicate':'companyeconomicsector', 'to_predicate':'teamplayssport'},\n",
    "            {'source':'imdb', 'target':'yago2s', 'predicate':'workedunder', 'to_predicate':'ismarriedto'},\n",
    "            {'source':'imdb', 'target':'yago2s', 'predicate':'workedunder', 'to_predicate':'imports'},\n",
    "            {'source':'imdb', 'target':'yago2s', 'predicate':'workedunder', 'to_predicate':'exports'},\n",
    "            {'source':'imdb', 'target':'yago2s', 'predicate':'workedunder', 'to_predicate':'influences'},\n",
    "            {'source':'imdb', 'target':'yago2s', 'predicate':'workedunder', 'to_predicate':'wrotemusicfor'},            \n",
    "]\n",
    "\n",
    "for metric in ['AUC ROC', 'AUC PR', 'CLL', 'Recall', 'F1', 'Precision', 'Learning and Revision time', 'Inference time']:\n",
    "    display(Markdown('# Results for ' + metric))\n",
    "    table = []\n",
    "    for j in range(len(experiments)):\n",
    "        dataset = experiments[j]['source'] + '->' + experiments[j]['target'] + '('+ experiments[j]['to_predicate'] + ')'\n",
    "        if dataset in data['results']: \n",
    "            #for metric in ['AUC ROC', 'AUC PR']:\n",
    "                #display(Markdown('## ' + metric))\n",
    "            if metric == 'Precision':\n",
    "                scratch = np.array([item['scratch']['Precision'][0] for sublist in data['results'][str(dataset)] for item in sublist])\n",
    "                parameter = np.array([item['transfer']['Parameter Learning results']['Precision'][0] for sublist in data['results'][str(dataset)] for item in sublist])\n",
    "                transfer = np.array([item['transfer']['Precision'][0] for sublist in data['results'][str(dataset)] for item in sublist])\n",
    "            elif metric == 'Learning and Revision time':\n",
    "                scratch = np.array([item['scratch']['Learning time'] for sublist in data['results'][str(dataset)] for item in sublist])\n",
    "                parameter = np.array([item['transfer']['Parameter Learning results']['Learning time'] for sublist in data['results'][str(dataset)] for item in sublist])\n",
    "                transfer = np.array([item['transfer']['Learning time'] for sublist in data['results'][str(dataset)] for item in sublist])\n",
    "            elif metric == 'Inference time':\n",
    "                scratch = np.array([item['scratch']['Inference time'] for sublist in data['results'][str(dataset)] for item in sublist])\n",
    "                parameter = np.array([item['transfer']['Parameter Learning results']['Learning time'] for sublist in data['results'][str(dataset)] for item in sublist])\n",
    "                transfer = np.array([item['transfer']['Inference time'] for sublist in data['results'][str(dataset)] for item in sublist])\n",
    "            else:\n",
    "                scratch = np.array([item['scratch'][metric] for sublist in data['results'][str(dataset)] for item in sublist])\n",
    "                parameter = np.array([item['transfer']['Parameter Learning results'][metric] for sublist in data['results'][str(dataset)] for item in sublist])\n",
    "                transfer = np.array([item['transfer'][metric] for sublist in data['results'][str(dataset)] for item in sublist])\n",
    "            table.append([dataset, '%.3f +/- %.3f' % (parameter.mean(), 2 * parameter.std()),\n",
    "            '%.3f +/- %.3f' % (transfer.mean(), 2 * transfer.std()),\n",
    "            '%.3f +/- %.3f' % (scratch.mean(), 2 * scratch.std())])\n",
    "    display(pd.DataFrame(table, columns=['Experiment', 'Transfer Learning', 'Transfer Learning with Revision Theory', 'Learning from scratch']))"
   ]
  },
  {
   "cell_type": "code",
   "execution_count": 4,
   "metadata": {
    "collapsed": false
   },
   "outputs": [
    {
     "data": {
      "text/markdown": [
       "# Results for imdb->yago2s"
      ],
      "text/plain": [
       "<IPython.core.display.Markdown object>"
      ]
     },
     "metadata": {},
     "output_type": "display_data"
    },
    {
     "data": {
      "text/markdown": [
       "# Results for imdb->yago2s"
      ],
      "text/plain": [
       "<IPython.core.display.Markdown object>"
      ]
     },
     "metadata": {},
     "output_type": "display_data"
    },
    {
     "data": {
      "text/markdown": [
       "# Results for imdb->yago2s"
      ],
      "text/plain": [
       "<IPython.core.display.Markdown object>"
      ]
     },
     "metadata": {},
     "output_type": "display_data"
    },
    {
     "data": {
      "text/markdown": [
       "# Results for imdb->yago2s"
      ],
      "text/plain": [
       "<IPython.core.display.Markdown object>"
      ]
     },
     "metadata": {},
     "output_type": "display_data"
    },
    {
     "data": {
      "text/markdown": [
       "# Results for imdb->yago2s"
      ],
      "text/plain": [
       "<IPython.core.display.Markdown object>"
      ]
     },
     "metadata": {},
     "output_type": "display_data"
    }
   ],
   "source": [
    "for j in range(len(experiments)):\n",
    "    dataset = experiments[j]['source'] + '->' + experiments[j]['target']\n",
    "    display(Markdown('# Results for ' + dataset))\n",
    "    table = []\n",
    "    for metric in ['AUC ROC', 'AUC PR', 'CLL', 'Recall', 'F1', 'Precision', 'Learning and Revision time', 'Inference time']:\n",
    "    #for metric in ['AUC ROC', 'AUC PR']:\n",
    "        if dataset in data['results']: \n",
    "            #for metric in ['AUC ROC', 'AUC PR']:\n",
    "            display(Markdown('## ' + metric))\n",
    "            if metric == 'Precision':\n",
    "                scratch = np.array([item['scratch']['Precision'][0] for sublist in data['results'][str(dataset)] for item in sublist])\n",
    "                parameter = np.array([item['transfer']['Parameter Learning results']['Precision'][0] for sublist in data['results'][str(dataset)] for item in sublist])\n",
    "                transfer = np.array([item['transfer']['Precision'][0] for sublist in data['results'][str(dataset)] for item in sublist])\n",
    "            elif metric == 'Learning and Revision time':\n",
    "                scratch = np.array([item['scratch']['Learning time'] for sublist in data['results'][str(dataset)] for item in sublist])\n",
    "                parameter = np.array([item['transfer']['Parameter Learning results']['Learning time'] for sublist in data['results'][str(dataset)] for item in sublist])\n",
    "                transfer = np.array([item['transfer']['Learning time'] for sublist in data['results'][str(dataset)] for item in sublist])\n",
    "            elif metric == 'Inference time':\n",
    "                scratch = np.array([item['scratch']['Inference time'] for sublist in data['results'][str(dataset)] for item in sublist])\n",
    "                parameter = np.array([item['transfer']['Parameter Learning results']['Learning time'] for sublist in data['results'][str(dataset)] for item in sublist])\n",
    "                transfer = np.array([item['transfer']['Inference time'] for sublist in data['results'][str(dataset)] for item in sublist])\n",
    "            else:\n",
    "                scratch = np.array([item['scratch'][metric] for sublist in data['results'][str(dataset)] for item in sublist])\n",
    "                parameter = np.array([item['transfer']['Parameter Learning results'][metric] for sublist in data['results'][str(dataset)] for item in sublist])\n",
    "                transfer = np.array([item['transfer'][metric] for sublist in data['results'][str(dataset)] for item in sublist])\n",
    "            print('Scratch: %s' % scratch)\n",
    "            print('Transfer: %s' % parameter)\n",
    "            print('Transfer & Revision: %s' % transfer)"
   ]
  },
  {
   "cell_type": "code",
   "execution_count": null,
   "metadata": {
    "collapsed": true
   },
   "outputs": [],
   "source": []
  },
  {
   "cell_type": "code",
   "execution_count": null,
   "metadata": {
    "collapsed": true
   },
   "outputs": [],
   "source": []
  }
 ],
 "metadata": {
  "anaconda-cloud": {},
  "kernelspec": {
   "display_name": "Python [conda env:anaconda3]",
   "language": "python",
   "name": "conda-env-anaconda3-py"
  },
  "language_info": {
   "codemirror_mode": {
    "name": "ipython",
    "version": 3
   },
   "file_extension": ".py",
   "mimetype": "text/x-python",
   "name": "python",
   "nbconvert_exporter": "python",
   "pygments_lexer": "ipython3",
   "version": "3.5.2"
  }
 },
 "nbformat": 4,
 "nbformat_minor": 1
}
