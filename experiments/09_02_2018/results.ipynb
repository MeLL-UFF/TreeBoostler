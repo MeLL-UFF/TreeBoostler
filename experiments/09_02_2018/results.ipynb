{
 "cells": [
  {
   "cell_type": "code",
   "execution_count": 61,
   "metadata": {
    "collapsed": true
   },
   "outputs": [],
   "source": [
    "import matplotlib.pyplot as plt\n",
    "from IPython.display import display, Markdown, Latex, HTML\n",
    "import numpy as np\n",
    "import pandas as pd\n",
    "import json\n",
    "\n",
    "with open('transfer_experiment.json', 'r') as fp:\n",
    "    transfer = json.load(fp)\n",
    "    \n",
    "with open('learning_from_scratch.json', 'r') as fp:\n",
    "    scratch = json.load(fp)"
   ]
  },
  {
   "cell_type": "code",
   "execution_count": 69,
   "metadata": {
    "collapsed": false
   },
   "outputs": [],
   "source": [
    "imdb_to_uwcse = ['workedunder(A, B) -> advisedby(A, B)',\n",
    "                'director(A) -> professor(A)',\n",
    "                'actor(A) -> student(A)',\n",
    "                'movie(A, B) -> publication(A, B)',\n",
    "                'female(A) -> student(A)'\n",
    "                ]\n",
    "    \n",
    "imdb_to_cora = ['workedunder(A, B) -> sameauthor(A, B)',\n",
    "                'movie(A, B) -> author(A, B)',\n",
    "                'genre(A, B) -> haswordauthor(B, A)'\n",
    "                ] \n",
    "        \n",
    "uwcse_to_imdb = ['advisedby(A, B) -> workedunder(A, B)',\n",
    "                'professor(A) -> director(A)',\n",
    "                'student(A) -> actor(A)',\n",
    "                'publication(A, B) -> movie(A, B)',\n",
    "                'student(A) -> female(A)'\n",
    "                ]  "
   ]
  },
  {
   "cell_type": "code",
   "execution_count": 64,
   "metadata": {
    "collapsed": false
   },
   "outputs": [
    {
     "data": {
      "text/markdown": [
       "# Results for AUC ROC"
      ],
      "text/plain": [
       "<IPython.core.display.Markdown object>"
      ]
     },
     "metadata": {},
     "output_type": "display_data"
    },
    {
     "data": {
      "text/html": [
       "<div>\n",
       "<table border=\"1\" class=\"dataframe\">\n",
       "  <thead>\n",
       "    <tr style=\"text-align: right;\">\n",
       "      <th></th>\n",
       "      <th>Transfer</th>\n",
       "      <th>Transfer Learning</th>\n",
       "      <th>Transfer Learning with Revision Theory</th>\n",
       "      <th>Learning from scratch</th>\n",
       "    </tr>\n",
       "  </thead>\n",
       "  <tbody>\n",
       "    <tr>\n",
       "      <th>0</th>\n",
       "      <td>IMDB -&gt; UWCSE</td>\n",
       "      <td>0.681 +/- 0.097</td>\n",
       "      <td>0.905 +/- 0.137</td>\n",
       "      <td>0.961 +/- 0.046</td>\n",
       "    </tr>\n",
       "    <tr>\n",
       "      <th>1</th>\n",
       "      <td>IMDB -&gt; Cora</td>\n",
       "      <td>0.608 +/- 0.013</td>\n",
       "      <td>0.979 +/- 0.034</td>\n",
       "      <td>0.972 +/- 0.065</td>\n",
       "    </tr>\n",
       "    <tr>\n",
       "      <th>2</th>\n",
       "      <td>UWCSE -&gt; IMDB</td>\n",
       "      <td>0.716 +/- 0.115</td>\n",
       "      <td>0.998 +/- 0.009</td>\n",
       "      <td>0.996 +/- 0.018</td>\n",
       "    </tr>\n",
       "  </tbody>\n",
       "</table>\n",
       "</div>"
      ],
      "text/plain": [
       "        Transfer Transfer Learning Transfer Learning with Revision Theory  \\\n",
       "0  IMDB -> UWCSE   0.681 +/- 0.097                        0.905 +/- 0.137   \n",
       "1   IMDB -> Cora   0.608 +/- 0.013                        0.979 +/- 0.034   \n",
       "2  UWCSE -> IMDB   0.716 +/- 0.115                        0.998 +/- 0.009   \n",
       "\n",
       "  Learning from scratch  \n",
       "0       0.961 +/- 0.046  \n",
       "1       0.972 +/- 0.065  \n",
       "2       0.996 +/- 0.018  "
      ]
     },
     "metadata": {},
     "output_type": "display_data"
    },
    {
     "data": {
      "text/markdown": [
       "# Results for AUC PR"
      ],
      "text/plain": [
       "<IPython.core.display.Markdown object>"
      ]
     },
     "metadata": {},
     "output_type": "display_data"
    },
    {
     "data": {
      "text/html": [
       "<div>\n",
       "<table border=\"1\" class=\"dataframe\">\n",
       "  <thead>\n",
       "    <tr style=\"text-align: right;\">\n",
       "      <th></th>\n",
       "      <th>Transfer</th>\n",
       "      <th>Transfer Learning</th>\n",
       "      <th>Transfer Learning with Revision Theory</th>\n",
       "      <th>Learning from scratch</th>\n",
       "    </tr>\n",
       "  </thead>\n",
       "  <tbody>\n",
       "    <tr>\n",
       "      <th>0</th>\n",
       "      <td>IMDB -&gt; UWCSE</td>\n",
       "      <td>0.743 +/- 0.119</td>\n",
       "      <td>0.841 +/- 0.237</td>\n",
       "      <td>0.952 +/- 0.067</td>\n",
       "    </tr>\n",
       "    <tr>\n",
       "      <th>1</th>\n",
       "      <td>IMDB -&gt; Cora</td>\n",
       "      <td>0.950 +/- 0.044</td>\n",
       "      <td>0.999 +/- 0.002</td>\n",
       "      <td>0.998 +/- 0.002</td>\n",
       "    </tr>\n",
       "    <tr>\n",
       "      <th>2</th>\n",
       "      <td>UWCSE -&gt; IMDB</td>\n",
       "      <td>0.785 +/- 0.106</td>\n",
       "      <td>0.996 +/- 0.018</td>\n",
       "      <td>0.991 +/- 0.034</td>\n",
       "    </tr>\n",
       "  </tbody>\n",
       "</table>\n",
       "</div>"
      ],
      "text/plain": [
       "        Transfer Transfer Learning Transfer Learning with Revision Theory  \\\n",
       "0  IMDB -> UWCSE   0.743 +/- 0.119                        0.841 +/- 0.237   \n",
       "1   IMDB -> Cora   0.950 +/- 0.044                        0.999 +/- 0.002   \n",
       "2  UWCSE -> IMDB   0.785 +/- 0.106                        0.996 +/- 0.018   \n",
       "\n",
       "  Learning from scratch  \n",
       "0       0.952 +/- 0.067  \n",
       "1       0.998 +/- 0.002  \n",
       "2       0.991 +/- 0.034  "
      ]
     },
     "metadata": {},
     "output_type": "display_data"
    },
    {
     "data": {
      "text/markdown": [
       "# Results for CLL"
      ],
      "text/plain": [
       "<IPython.core.display.Markdown object>"
      ]
     },
     "metadata": {},
     "output_type": "display_data"
    },
    {
     "data": {
      "text/html": [
       "<div>\n",
       "<table border=\"1\" class=\"dataframe\">\n",
       "  <thead>\n",
       "    <tr style=\"text-align: right;\">\n",
       "      <th></th>\n",
       "      <th>Transfer</th>\n",
       "      <th>Transfer Learning</th>\n",
       "      <th>Transfer Learning with Revision Theory</th>\n",
       "      <th>Learning from scratch</th>\n",
       "    </tr>\n",
       "  </thead>\n",
       "  <tbody>\n",
       "    <tr>\n",
       "      <th>0</th>\n",
       "      <td>IMDB -&gt; UWCSE</td>\n",
       "      <td>-0.584 +/- 0.099</td>\n",
       "      <td>-0.319 +/- 0.183</td>\n",
       "      <td>-0.268 +/- 0.084</td>\n",
       "    </tr>\n",
       "    <tr>\n",
       "      <th>1</th>\n",
       "      <td>IMDB -&gt; Cora</td>\n",
       "      <td>-0.317 +/- 0.107</td>\n",
       "      <td>-0.211 +/- 0.096</td>\n",
       "      <td>-0.209 +/- 0.097</td>\n",
       "    </tr>\n",
       "    <tr>\n",
       "      <th>2</th>\n",
       "      <td>UWCSE -&gt; IMDB</td>\n",
       "      <td>-0.548 +/- 0.108</td>\n",
       "      <td>-0.100 +/- 0.018</td>\n",
       "      <td>-0.105 +/- 0.036</td>\n",
       "    </tr>\n",
       "  </tbody>\n",
       "</table>\n",
       "</div>"
      ],
      "text/plain": [
       "        Transfer Transfer Learning Transfer Learning with Revision Theory  \\\n",
       "0  IMDB -> UWCSE  -0.584 +/- 0.099                       -0.319 +/- 0.183   \n",
       "1   IMDB -> Cora  -0.317 +/- 0.107                       -0.211 +/- 0.096   \n",
       "2  UWCSE -> IMDB  -0.548 +/- 0.108                       -0.100 +/- 0.018   \n",
       "\n",
       "  Learning from scratch  \n",
       "0      -0.268 +/- 0.084  \n",
       "1      -0.209 +/- 0.097  \n",
       "2      -0.105 +/- 0.036  "
      ]
     },
     "metadata": {},
     "output_type": "display_data"
    },
    {
     "data": {
      "text/markdown": [
       "# Results for Recall"
      ],
      "text/plain": [
       "<IPython.core.display.Markdown object>"
      ]
     },
     "metadata": {},
     "output_type": "display_data"
    },
    {
     "data": {
      "text/html": [
       "<div>\n",
       "<table border=\"1\" class=\"dataframe\">\n",
       "  <thead>\n",
       "    <tr style=\"text-align: right;\">\n",
       "      <th></th>\n",
       "      <th>Transfer</th>\n",
       "      <th>Transfer Learning</th>\n",
       "      <th>Transfer Learning with Revision Theory</th>\n",
       "      <th>Learning from scratch</th>\n",
       "    </tr>\n",
       "  </thead>\n",
       "  <tbody>\n",
       "    <tr>\n",
       "      <th>0</th>\n",
       "      <td>IMDB -&gt; UWCSE</td>\n",
       "      <td>0.321 +/- 0.249</td>\n",
       "      <td>0.919 +/- 0.094</td>\n",
       "      <td>0.823 +/- 0.289</td>\n",
       "    </tr>\n",
       "    <tr>\n",
       "      <th>1</th>\n",
       "      <td>IMDB -&gt; Cora</td>\n",
       "      <td>1.000 +/- 0.000</td>\n",
       "      <td>0.976 +/- 0.038</td>\n",
       "      <td>0.976 +/- 0.038</td>\n",
       "    </tr>\n",
       "    <tr>\n",
       "      <th>2</th>\n",
       "      <td>UWCSE -&gt; IMDB</td>\n",
       "      <td>0.417 +/- 0.210</td>\n",
       "      <td>1.000 +/- 0.000</td>\n",
       "      <td>1.000 +/- 0.000</td>\n",
       "    </tr>\n",
       "  </tbody>\n",
       "</table>\n",
       "</div>"
      ],
      "text/plain": [
       "        Transfer Transfer Learning Transfer Learning with Revision Theory  \\\n",
       "0  IMDB -> UWCSE   0.321 +/- 0.249                        0.919 +/- 0.094   \n",
       "1   IMDB -> Cora   1.000 +/- 0.000                        0.976 +/- 0.038   \n",
       "2  UWCSE -> IMDB   0.417 +/- 0.210                        1.000 +/- 0.000   \n",
       "\n",
       "  Learning from scratch  \n",
       "0       0.823 +/- 0.289  \n",
       "1       0.976 +/- 0.038  \n",
       "2       1.000 +/- 0.000  "
      ]
     },
     "metadata": {},
     "output_type": "display_data"
    },
    {
     "data": {
      "text/markdown": [
       "# Results for F1"
      ],
      "text/plain": [
       "<IPython.core.display.Markdown object>"
      ]
     },
     "metadata": {},
     "output_type": "display_data"
    },
    {
     "data": {
      "text/html": [
       "<div>\n",
       "<table border=\"1\" class=\"dataframe\">\n",
       "  <thead>\n",
       "    <tr style=\"text-align: right;\">\n",
       "      <th></th>\n",
       "      <th>Transfer</th>\n",
       "      <th>Transfer Learning</th>\n",
       "      <th>Transfer Learning with Revision Theory</th>\n",
       "      <th>Learning from scratch</th>\n",
       "    </tr>\n",
       "  </thead>\n",
       "  <tbody>\n",
       "    <tr>\n",
       "      <th>0</th>\n",
       "      <td>IMDB -&gt; UWCSE</td>\n",
       "      <td>0.471 +/- 0.310</td>\n",
       "      <td>0.879 +/- 0.101</td>\n",
       "      <td>0.846 +/- 0.187</td>\n",
       "    </tr>\n",
       "    <tr>\n",
       "      <th>1</th>\n",
       "      <td>IMDB -&gt; Cora</td>\n",
       "      <td>0.955 +/- 0.041</td>\n",
       "      <td>0.979 +/- 0.033</td>\n",
       "      <td>0.977 +/- 0.040</td>\n",
       "    </tr>\n",
       "    <tr>\n",
       "      <th>2</th>\n",
       "      <td>UWCSE -&gt; IMDB</td>\n",
       "      <td>0.580 +/- 0.222</td>\n",
       "      <td>0.998 +/- 0.009</td>\n",
       "      <td>0.996 +/- 0.018</td>\n",
       "    </tr>\n",
       "  </tbody>\n",
       "</table>\n",
       "</div>"
      ],
      "text/plain": [
       "        Transfer Transfer Learning Transfer Learning with Revision Theory  \\\n",
       "0  IMDB -> UWCSE   0.471 +/- 0.310                        0.879 +/- 0.101   \n",
       "1   IMDB -> Cora   0.955 +/- 0.041                        0.979 +/- 0.033   \n",
       "2  UWCSE -> IMDB   0.580 +/- 0.222                        0.998 +/- 0.009   \n",
       "\n",
       "  Learning from scratch  \n",
       "0       0.846 +/- 0.187  \n",
       "1       0.977 +/- 0.040  \n",
       "2       0.996 +/- 0.018  "
      ]
     },
     "metadata": {},
     "output_type": "display_data"
    },
    {
     "data": {
      "text/markdown": [
       "# Results for Precision"
      ],
      "text/plain": [
       "<IPython.core.display.Markdown object>"
      ]
     },
     "metadata": {},
     "output_type": "display_data"
    },
    {
     "data": {
      "text/html": [
       "<div>\n",
       "<table border=\"1\" class=\"dataframe\">\n",
       "  <thead>\n",
       "    <tr style=\"text-align: right;\">\n",
       "      <th></th>\n",
       "      <th>Transfer</th>\n",
       "      <th>Transfer Learning</th>\n",
       "      <th>Transfer Learning with Revision Theory</th>\n",
       "      <th>Learning from scratch</th>\n",
       "    </tr>\n",
       "  </thead>\n",
       "  <tbody>\n",
       "    <tr>\n",
       "      <th>0</th>\n",
       "      <td>IMDB -&gt; UWCSE</td>\n",
       "      <td>1.000 +/- 0.000</td>\n",
       "      <td>0.845 +/- 0.154</td>\n",
       "      <td>0.882 +/- 0.066</td>\n",
       "    </tr>\n",
       "    <tr>\n",
       "      <th>1</th>\n",
       "      <td>IMDB -&gt; Cora</td>\n",
       "      <td>0.915 +/- 0.075</td>\n",
       "      <td>0.983 +/- 0.054</td>\n",
       "      <td>0.979 +/- 0.071</td>\n",
       "    </tr>\n",
       "    <tr>\n",
       "      <th>2</th>\n",
       "      <td>UWCSE -&gt; IMDB</td>\n",
       "      <td>1.000 +/- 0.000</td>\n",
       "      <td>0.996 +/- 0.018</td>\n",
       "      <td>0.991 +/- 0.034</td>\n",
       "    </tr>\n",
       "  </tbody>\n",
       "</table>\n",
       "</div>"
      ],
      "text/plain": [
       "        Transfer Transfer Learning Transfer Learning with Revision Theory  \\\n",
       "0  IMDB -> UWCSE   1.000 +/- 0.000                        0.845 +/- 0.154   \n",
       "1   IMDB -> Cora   0.915 +/- 0.075                        0.983 +/- 0.054   \n",
       "2  UWCSE -> IMDB   1.000 +/- 0.000                        0.996 +/- 0.018   \n",
       "\n",
       "  Learning from scratch  \n",
       "0       0.882 +/- 0.066  \n",
       "1       0.979 +/- 0.071  \n",
       "2       0.991 +/- 0.034  "
      ]
     },
     "metadata": {},
     "output_type": "display_data"
    }
   ],
   "source": [
    "for metric in ['AUC ROC', 'AUC PR', 'CLL', 'Recall', 'F1', 'Precision']:\n",
    "    display(Markdown('# Results for ' + metric))\n",
    "    table = []\n",
    "    transfers = ['imdb_to_uwcse', 'imdb_to_cora', 'uwcse_to_imdb']\n",
    "    transfers_names = ['IMDB -> UWCSE', 'IMDB -> Cora', 'UWCSE -> IMDB']\n",
    "    scratches = ['uwcse', 'cora', 'imdb']\n",
    "    for i in range(len(transfers)):\n",
    "        trsf = transfers[i]\n",
    "        trsf_name = transfers_names[i]\n",
    "        scrt = scratches[i]\n",
    "        tl = np.array([result['Parameter Learning results'][metric] if metric != 'Precision' else result['Parameter Learning results'][metric][0] for result in transfer['results'][trsf]])\n",
    "        tlrt = np.array([result[metric] if metric != 'Precision' else result[metric][0] for result in transfer['results'][trsf]])\n",
    "        lscrt = np.array([result[metric] if metric != 'Precision' else result[metric][0] for result in scratch['results'][scrt]])\n",
    "        table.append([trsf_name, '%.3f +/- %.3f' % (tl.mean(), 2 * tl.std()), '%.3f +/- %.3f' % (tlrt.mean(), 2 * tlrt.std()), '%.3f +/- %.3f' % (lscrt.mean(), 2 * lscrt.std())])\n",
    "    display(pd.DataFrame(table, columns=['Transfer', 'Transfer Learning', 'Transfer Learning with Revision Theory', 'Learning from scratch']))"
   ]
  },
  {
   "cell_type": "code",
   "execution_count": 65,
   "metadata": {
    "collapsed": false
   },
   "outputs": [
    {
     "data": {
      "text/markdown": [
       "# Results for Learning time"
      ],
      "text/plain": [
       "<IPython.core.display.Markdown object>"
      ]
     },
     "metadata": {},
     "output_type": "display_data"
    },
    {
     "data": {
      "text/html": [
       "<div>\n",
       "<table border=\"1\" class=\"dataframe\">\n",
       "  <thead>\n",
       "    <tr style=\"text-align: right;\">\n",
       "      <th></th>\n",
       "      <th>Transfer</th>\n",
       "      <th>Transfer Learning with Revision Theory</th>\n",
       "      <th>Learning from scratch</th>\n",
       "    </tr>\n",
       "  </thead>\n",
       "  <tbody>\n",
       "    <tr>\n",
       "      <th>0</th>\n",
       "      <td>IMDB -&gt; UWCSE</td>\n",
       "      <td>37.667 +/- 15.840</td>\n",
       "      <td>26.933 +/- 17.782</td>\n",
       "    </tr>\n",
       "    <tr>\n",
       "      <th>1</th>\n",
       "      <td>IMDB -&gt; Cora</td>\n",
       "      <td>857.390 +/- 876.883</td>\n",
       "      <td>381.106 +/- 95.701</td>\n",
       "    </tr>\n",
       "    <tr>\n",
       "      <th>2</th>\n",
       "      <td>UWCSE -&gt; IMDB</td>\n",
       "      <td>18.885 +/- 6.747</td>\n",
       "      <td>6.256 +/- 5.420</td>\n",
       "    </tr>\n",
       "  </tbody>\n",
       "</table>\n",
       "</div>"
      ],
      "text/plain": [
       "        Transfer Transfer Learning with Revision Theory Learning from scratch\n",
       "0  IMDB -> UWCSE                      37.667 +/- 15.840     26.933 +/- 17.782\n",
       "1   IMDB -> Cora                    857.390 +/- 876.883    381.106 +/- 95.701\n",
       "2  UWCSE -> IMDB                       18.885 +/- 6.747       6.256 +/- 5.420"
      ]
     },
     "metadata": {},
     "output_type": "display_data"
    }
   ],
   "source": [
    "metric = 'Learning time'\n",
    "display(Markdown('# Results for ' + metric))\n",
    "table = []\n",
    "transfers = ['imdb_to_uwcse', 'imdb_to_cora', 'uwcse_to_imdb']\n",
    "transfers_names = ['IMDB -> UWCSE', 'IMDB -> Cora', 'UWCSE -> IMDB']\n",
    "scratches = ['uwcse', 'cora', 'imdb']\n",
    "for i in range(len(transfers)):\n",
    "    trsf = transfers[i]\n",
    "    trsf_name = transfers_names[i]\n",
    "    scrt = scratches[i]\n",
    "    #tl = np.array([result['Parameter Learning results'][metric] if metric != 'Precision' else result['Parameter Learning results'][metric][0] for result in transfer['results'][trsf]])\n",
    "    tlrt = np.array([result[metric] if metric != 'Precision' else result[metric][0] for result in transfer['results'][trsf]])\n",
    "    lscrt = np.array([result[metric] if metric != 'Precision' else result[metric][0] for result in scratch['results'][scrt]])\n",
    "    table.append([trsf_name, '%.3f +/- %.3f' % (tlrt.mean(), 2 * tlrt.std()), '%.3f +/- %.3f' % (lscrt.mean(), 2 * lscrt.std())])\n",
    "display(pd.DataFrame(table, columns=['Transfer', 'Transfer Learning with Revision Theory', 'Learning from scratch']))"
   ]
  },
  {
   "cell_type": "code",
   "execution_count": 66,
   "metadata": {
    "collapsed": false
   },
   "outputs": [
    {
     "data": {
      "text/markdown": [
       "# Results for Inference time"
      ],
      "text/plain": [
       "<IPython.core.display.Markdown object>"
      ]
     },
     "metadata": {},
     "output_type": "display_data"
    },
    {
     "data": {
      "text/html": [
       "<div>\n",
       "<table border=\"1\" class=\"dataframe\">\n",
       "  <thead>\n",
       "    <tr style=\"text-align: right;\">\n",
       "      <th></th>\n",
       "      <th>Transfer</th>\n",
       "      <th>Transfer Learning with Revision Theory</th>\n",
       "      <th>Learning from scratch</th>\n",
       "    </tr>\n",
       "  </thead>\n",
       "  <tbody>\n",
       "    <tr>\n",
       "      <th>0</th>\n",
       "      <td>IMDB -&gt; UWCSE</td>\n",
       "      <td>0.650 +/- 0.144</td>\n",
       "      <td>0.697 +/- 0.189</td>\n",
       "    </tr>\n",
       "    <tr>\n",
       "      <th>1</th>\n",
       "      <td>IMDB -&gt; Cora</td>\n",
       "      <td>1.104 +/- 0.308</td>\n",
       "      <td>1.096 +/- 0.301</td>\n",
       "    </tr>\n",
       "    <tr>\n",
       "      <th>2</th>\n",
       "      <td>UWCSE -&gt; IMDB</td>\n",
       "      <td>0.632 +/- 0.130</td>\n",
       "      <td>0.553 +/- 0.128</td>\n",
       "    </tr>\n",
       "  </tbody>\n",
       "</table>\n",
       "</div>"
      ],
      "text/plain": [
       "        Transfer Transfer Learning with Revision Theory Learning from scratch\n",
       "0  IMDB -> UWCSE                        0.650 +/- 0.144       0.697 +/- 0.189\n",
       "1   IMDB -> Cora                        1.104 +/- 0.308       1.096 +/- 0.301\n",
       "2  UWCSE -> IMDB                        0.632 +/- 0.130       0.553 +/- 0.128"
      ]
     },
     "metadata": {},
     "output_type": "display_data"
    }
   ],
   "source": [
    "metric = 'Inference time'\n",
    "display(Markdown('# Results for ' + metric))\n",
    "table = []\n",
    "transfers = ['imdb_to_uwcse', 'imdb_to_cora', 'uwcse_to_imdb']\n",
    "transfers_names = ['IMDB -> UWCSE', 'IMDB -> Cora', 'UWCSE -> IMDB']\n",
    "scratches = ['uwcse', 'cora', 'imdb']\n",
    "for i in range(len(transfers)):\n",
    "    trsf = transfers[i]\n",
    "    trsf_name = transfers_names[i]\n",
    "    scrt = scratches[i]\n",
    "    #tl = np.array([result['Parameter Learning results'][metric] if metric != 'Precision' else result['Parameter Learning results'][metric][0] for result in transfer['results'][trsf]])\n",
    "    tlrt = np.array([result[metric] if metric != 'Precision' else result[metric][0] for result in transfer['results'][trsf]])\n",
    "    lscrt = np.array([result[metric] if metric != 'Precision' else result[metric][0] for result in scratch['results'][scrt]])\n",
    "    table.append([trsf_name, '%.3f +/- %.3f' % (tlrt.mean(), 2 * tlrt.std()), '%.3f +/- %.3f' % (lscrt.mean(), 2 * lscrt.std())])\n",
    "display(pd.DataFrame(table, columns=['Transfer', 'Transfer Learning with Revision Theory', 'Learning from scratch']))"
   ]
  },
  {
   "cell_type": "code",
   "execution_count": null,
   "metadata": {
    "collapsed": true
   },
   "outputs": [],
   "source": []
  }
 ],
 "metadata": {
  "anaconda-cloud": {},
  "kernelspec": {
   "display_name": "Python [conda root]",
   "language": "python",
   "name": "conda-root-py"
  },
  "language_info": {
   "codemirror_mode": {
    "name": "ipython",
    "version": 3
   },
   "file_extension": ".py",
   "mimetype": "text/x-python",
   "name": "python",
   "nbconvert_exporter": "python",
   "pygments_lexer": "ipython3",
   "version": "3.5.2"
  }
 },
 "nbformat": 4,
 "nbformat_minor": 1
}
