{
 "cells": [
  {
   "cell_type": "code",
   "execution_count": 1,
   "metadata": {
    "collapsed": true
   },
   "outputs": [],
   "source": [
    "import matplotlib.pyplot as plt\n",
    "from IPython.display import display, Markdown, Latex\n",
    "import numpy as np\n",
    "import json\n",
    "import pandas as pd\n",
    "\n",
    "with open('transfer_experiment.json', 'r') as fp:\n",
    "    data = json.load(fp)"
   ]
  },
  {
   "cell_type": "code",
   "execution_count": 2,
   "metadata": {
    "collapsed": false
   },
   "outputs": [
    {
     "data": {
      "text/markdown": [
       "# Results for AUC ROC"
      ],
      "text/plain": [
       "<IPython.core.display.Markdown object>"
      ]
     },
     "metadata": {},
     "output_type": "display_data"
    },
    {
     "data": {
      "text/html": [
       "<div>\n",
       "<table border=\"1\" class=\"dataframe\">\n",
       "  <thead>\n",
       "    <tr style=\"text-align: right;\">\n",
       "      <th></th>\n",
       "      <th>Experiment</th>\n",
       "      <th>Transfer Learning</th>\n",
       "      <th>Transfer Learning with Revision Theory</th>\n",
       "      <th>Learning from scratch</th>\n",
       "    </tr>\n",
       "  </thead>\n",
       "  <tbody>\n",
       "    <tr>\n",
       "      <th>0</th>\n",
       "      <td>yeast-&gt;twitter</td>\n",
       "      <td>0.695 +/- 0.019</td>\n",
       "      <td>0.695 +/- 0.018</td>\n",
       "      <td>0.709 +/- 0.043</td>\n",
       "    </tr>\n",
       "    <tr>\n",
       "      <th>1</th>\n",
       "      <td>twitter-&gt;yeast</td>\n",
       "      <td>0.637 +/- 0.013</td>\n",
       "      <td>0.655 +/- 0.038</td>\n",
       "      <td>0.666 +/- 0.025</td>\n",
       "    </tr>\n",
       "  </tbody>\n",
       "</table>\n",
       "</div>"
      ],
      "text/plain": [
       "       Experiment Transfer Learning Transfer Learning with Revision Theory  \\\n",
       "0  yeast->twitter   0.695 +/- 0.019                        0.695 +/- 0.018   \n",
       "1  twitter->yeast   0.637 +/- 0.013                        0.655 +/- 0.038   \n",
       "\n",
       "  Learning from scratch  \n",
       "0       0.709 +/- 0.043  \n",
       "1       0.666 +/- 0.025  "
      ]
     },
     "metadata": {},
     "output_type": "display_data"
    },
    {
     "data": {
      "text/markdown": [
       "# Results for AUC PR"
      ],
      "text/plain": [
       "<IPython.core.display.Markdown object>"
      ]
     },
     "metadata": {},
     "output_type": "display_data"
    },
    {
     "data": {
      "text/html": [
       "<div>\n",
       "<table border=\"1\" class=\"dataframe\">\n",
       "  <thead>\n",
       "    <tr style=\"text-align: right;\">\n",
       "      <th></th>\n",
       "      <th>Experiment</th>\n",
       "      <th>Transfer Learning</th>\n",
       "      <th>Transfer Learning with Revision Theory</th>\n",
       "      <th>Learning from scratch</th>\n",
       "    </tr>\n",
       "  </thead>\n",
       "  <tbody>\n",
       "    <tr>\n",
       "      <th>0</th>\n",
       "      <td>yeast-&gt;twitter</td>\n",
       "      <td>0.680 +/- 0.016</td>\n",
       "      <td>0.679 +/- 0.020</td>\n",
       "      <td>0.681 +/- 0.051</td>\n",
       "    </tr>\n",
       "    <tr>\n",
       "      <th>1</th>\n",
       "      <td>twitter-&gt;yeast</td>\n",
       "      <td>0.621 +/- 0.023</td>\n",
       "      <td>0.655 +/- 0.064</td>\n",
       "      <td>0.684 +/- 0.029</td>\n",
       "    </tr>\n",
       "  </tbody>\n",
       "</table>\n",
       "</div>"
      ],
      "text/plain": [
       "       Experiment Transfer Learning Transfer Learning with Revision Theory  \\\n",
       "0  yeast->twitter   0.680 +/- 0.016                        0.679 +/- 0.020   \n",
       "1  twitter->yeast   0.621 +/- 0.023                        0.655 +/- 0.064   \n",
       "\n",
       "  Learning from scratch  \n",
       "0       0.681 +/- 0.051  \n",
       "1       0.684 +/- 0.029  "
      ]
     },
     "metadata": {},
     "output_type": "display_data"
    },
    {
     "data": {
      "text/markdown": [
       "# Results for CLL"
      ],
      "text/plain": [
       "<IPython.core.display.Markdown object>"
      ]
     },
     "metadata": {},
     "output_type": "display_data"
    },
    {
     "data": {
      "text/html": [
       "<div>\n",
       "<table border=\"1\" class=\"dataframe\">\n",
       "  <thead>\n",
       "    <tr style=\"text-align: right;\">\n",
       "      <th></th>\n",
       "      <th>Experiment</th>\n",
       "      <th>Transfer Learning</th>\n",
       "      <th>Transfer Learning with Revision Theory</th>\n",
       "      <th>Learning from scratch</th>\n",
       "    </tr>\n",
       "  </thead>\n",
       "  <tbody>\n",
       "    <tr>\n",
       "      <th>0</th>\n",
       "      <td>yeast-&gt;twitter</td>\n",
       "      <td>-0.641 +/- 0.013</td>\n",
       "      <td>-0.640 +/- 0.010</td>\n",
       "      <td>-0.625 +/- 0.039</td>\n",
       "    </tr>\n",
       "    <tr>\n",
       "      <th>1</th>\n",
       "      <td>twitter-&gt;yeast</td>\n",
       "      <td>-0.662 +/- 0.008</td>\n",
       "      <td>-0.657 +/- 0.014</td>\n",
       "      <td>-0.651 +/- 0.013</td>\n",
       "    </tr>\n",
       "  </tbody>\n",
       "</table>\n",
       "</div>"
      ],
      "text/plain": [
       "       Experiment Transfer Learning Transfer Learning with Revision Theory  \\\n",
       "0  yeast->twitter  -0.641 +/- 0.013                       -0.640 +/- 0.010   \n",
       "1  twitter->yeast  -0.662 +/- 0.008                       -0.657 +/- 0.014   \n",
       "\n",
       "  Learning from scratch  \n",
       "0      -0.625 +/- 0.039  \n",
       "1      -0.651 +/- 0.013  "
      ]
     },
     "metadata": {},
     "output_type": "display_data"
    },
    {
     "data": {
      "text/markdown": [
       "# Results for Recall"
      ],
      "text/plain": [
       "<IPython.core.display.Markdown object>"
      ]
     },
     "metadata": {},
     "output_type": "display_data"
    },
    {
     "data": {
      "text/html": [
       "<div>\n",
       "<table border=\"1\" class=\"dataframe\">\n",
       "  <thead>\n",
       "    <tr style=\"text-align: right;\">\n",
       "      <th></th>\n",
       "      <th>Experiment</th>\n",
       "      <th>Transfer Learning</th>\n",
       "      <th>Transfer Learning with Revision Theory</th>\n",
       "      <th>Learning from scratch</th>\n",
       "    </tr>\n",
       "  </thead>\n",
       "  <tbody>\n",
       "    <tr>\n",
       "      <th>0</th>\n",
       "      <td>yeast-&gt;twitter</td>\n",
       "      <td>0.630 +/- 0.298</td>\n",
       "      <td>0.618 +/- 0.309</td>\n",
       "      <td>0.514 +/- 0.031</td>\n",
       "    </tr>\n",
       "    <tr>\n",
       "      <th>1</th>\n",
       "      <td>twitter-&gt;yeast</td>\n",
       "      <td>0.640 +/- 0.047</td>\n",
       "      <td>0.541 +/- 0.212</td>\n",
       "      <td>0.489 +/- 0.208</td>\n",
       "    </tr>\n",
       "  </tbody>\n",
       "</table>\n",
       "</div>"
      ],
      "text/plain": [
       "       Experiment Transfer Learning Transfer Learning with Revision Theory  \\\n",
       "0  yeast->twitter   0.630 +/- 0.298                        0.618 +/- 0.309   \n",
       "1  twitter->yeast   0.640 +/- 0.047                        0.541 +/- 0.212   \n",
       "\n",
       "  Learning from scratch  \n",
       "0       0.514 +/- 0.031  \n",
       "1       0.489 +/- 0.208  "
      ]
     },
     "metadata": {},
     "output_type": "display_data"
    },
    {
     "data": {
      "text/markdown": [
       "# Results for F1"
      ],
      "text/plain": [
       "<IPython.core.display.Markdown object>"
      ]
     },
     "metadata": {},
     "output_type": "display_data"
    },
    {
     "data": {
      "text/html": [
       "<div>\n",
       "<table border=\"1\" class=\"dataframe\">\n",
       "  <thead>\n",
       "    <tr style=\"text-align: right;\">\n",
       "      <th></th>\n",
       "      <th>Experiment</th>\n",
       "      <th>Transfer Learning</th>\n",
       "      <th>Transfer Learning with Revision Theory</th>\n",
       "      <th>Learning from scratch</th>\n",
       "    </tr>\n",
       "  </thead>\n",
       "  <tbody>\n",
       "    <tr>\n",
       "      <th>0</th>\n",
       "      <td>yeast-&gt;twitter</td>\n",
       "      <td>0.621 +/- 0.119</td>\n",
       "      <td>0.618 +/- 0.120</td>\n",
       "      <td>0.613 +/- 0.036</td>\n",
       "    </tr>\n",
       "    <tr>\n",
       "      <th>1</th>\n",
       "      <td>twitter-&gt;yeast</td>\n",
       "      <td>0.636 +/- 0.020</td>\n",
       "      <td>0.584 +/- 0.110</td>\n",
       "      <td>0.558 +/- 0.121</td>\n",
       "    </tr>\n",
       "  </tbody>\n",
       "</table>\n",
       "</div>"
      ],
      "text/plain": [
       "       Experiment Transfer Learning Transfer Learning with Revision Theory  \\\n",
       "0  yeast->twitter   0.621 +/- 0.119                        0.618 +/- 0.120   \n",
       "1  twitter->yeast   0.636 +/- 0.020                        0.584 +/- 0.110   \n",
       "\n",
       "  Learning from scratch  \n",
       "0       0.613 +/- 0.036  \n",
       "1       0.558 +/- 0.121  "
      ]
     },
     "metadata": {},
     "output_type": "display_data"
    },
    {
     "data": {
      "text/markdown": [
       "# Results for Precision"
      ],
      "text/plain": [
       "<IPython.core.display.Markdown object>"
      ]
     },
     "metadata": {},
     "output_type": "display_data"
    },
    {
     "data": {
      "text/html": [
       "<div>\n",
       "<table border=\"1\" class=\"dataframe\">\n",
       "  <thead>\n",
       "    <tr style=\"text-align: right;\">\n",
       "      <th></th>\n",
       "      <th>Experiment</th>\n",
       "      <th>Transfer Learning</th>\n",
       "      <th>Transfer Learning with Revision Theory</th>\n",
       "      <th>Learning from scratch</th>\n",
       "    </tr>\n",
       "  </thead>\n",
       "  <tbody>\n",
       "    <tr>\n",
       "      <th>0</th>\n",
       "      <td>yeast-&gt;twitter</td>\n",
       "      <td>0.651 +/- 0.142</td>\n",
       "      <td>0.663 +/- 0.149</td>\n",
       "      <td>0.759 +/- 0.041</td>\n",
       "    </tr>\n",
       "    <tr>\n",
       "      <th>1</th>\n",
       "      <td>twitter-&gt;yeast</td>\n",
       "      <td>0.633 +/- 0.017</td>\n",
       "      <td>0.655 +/- 0.052</td>\n",
       "      <td>0.673 +/- 0.055</td>\n",
       "    </tr>\n",
       "  </tbody>\n",
       "</table>\n",
       "</div>"
      ],
      "text/plain": [
       "       Experiment Transfer Learning Transfer Learning with Revision Theory  \\\n",
       "0  yeast->twitter   0.651 +/- 0.142                        0.663 +/- 0.149   \n",
       "1  twitter->yeast   0.633 +/- 0.017                        0.655 +/- 0.052   \n",
       "\n",
       "  Learning from scratch  \n",
       "0       0.759 +/- 0.041  \n",
       "1       0.673 +/- 0.055  "
      ]
     },
     "metadata": {},
     "output_type": "display_data"
    },
    {
     "data": {
      "text/markdown": [
       "# Results for Learning and Revision time"
      ],
      "text/plain": [
       "<IPython.core.display.Markdown object>"
      ]
     },
     "metadata": {},
     "output_type": "display_data"
    },
    {
     "data": {
      "text/html": [
       "<div>\n",
       "<table border=\"1\" class=\"dataframe\">\n",
       "  <thead>\n",
       "    <tr style=\"text-align: right;\">\n",
       "      <th></th>\n",
       "      <th>Experiment</th>\n",
       "      <th>Transfer Learning</th>\n",
       "      <th>Transfer Learning with Revision Theory</th>\n",
       "      <th>Learning from scratch</th>\n",
       "    </tr>\n",
       "  </thead>\n",
       "  <tbody>\n",
       "    <tr>\n",
       "      <th>0</th>\n",
       "      <td>yeast-&gt;twitter</td>\n",
       "      <td>25.976 +/- 7.908</td>\n",
       "      <td>29.807 +/- 27.443</td>\n",
       "      <td>43.998 +/- 9.424</td>\n",
       "    </tr>\n",
       "    <tr>\n",
       "      <th>1</th>\n",
       "      <td>twitter-&gt;yeast</td>\n",
       "      <td>36.381 +/- 53.350</td>\n",
       "      <td>53.136 +/- 64.202</td>\n",
       "      <td>52.204 +/- 49.526</td>\n",
       "    </tr>\n",
       "  </tbody>\n",
       "</table>\n",
       "</div>"
      ],
      "text/plain": [
       "       Experiment  Transfer Learning Transfer Learning with Revision Theory  \\\n",
       "0  yeast->twitter   25.976 +/- 7.908                      29.807 +/- 27.443   \n",
       "1  twitter->yeast  36.381 +/- 53.350                      53.136 +/- 64.202   \n",
       "\n",
       "  Learning from scratch  \n",
       "0      43.998 +/- 9.424  \n",
       "1     52.204 +/- 49.526  "
      ]
     },
     "metadata": {},
     "output_type": "display_data"
    },
    {
     "data": {
      "text/markdown": [
       "# Results for Inference time"
      ],
      "text/plain": [
       "<IPython.core.display.Markdown object>"
      ]
     },
     "metadata": {},
     "output_type": "display_data"
    },
    {
     "data": {
      "text/html": [
       "<div>\n",
       "<table border=\"1\" class=\"dataframe\">\n",
       "  <thead>\n",
       "    <tr style=\"text-align: right;\">\n",
       "      <th></th>\n",
       "      <th>Experiment</th>\n",
       "      <th>Transfer Learning</th>\n",
       "      <th>Transfer Learning with Revision Theory</th>\n",
       "      <th>Learning from scratch</th>\n",
       "    </tr>\n",
       "  </thead>\n",
       "  <tbody>\n",
       "    <tr>\n",
       "      <th>0</th>\n",
       "      <td>yeast-&gt;twitter</td>\n",
       "      <td>25.976 +/- 7.908</td>\n",
       "      <td>1.225 +/- 0.144</td>\n",
       "      <td>1.411 +/- 0.148</td>\n",
       "    </tr>\n",
       "    <tr>\n",
       "      <th>1</th>\n",
       "      <td>twitter-&gt;yeast</td>\n",
       "      <td>36.381 +/- 53.350</td>\n",
       "      <td>2.774 +/- 0.838</td>\n",
       "      <td>3.008 +/- 0.893</td>\n",
       "    </tr>\n",
       "  </tbody>\n",
       "</table>\n",
       "</div>"
      ],
      "text/plain": [
       "       Experiment  Transfer Learning Transfer Learning with Revision Theory  \\\n",
       "0  yeast->twitter   25.976 +/- 7.908                        1.225 +/- 0.144   \n",
       "1  twitter->yeast  36.381 +/- 53.350                        2.774 +/- 0.838   \n",
       "\n",
       "  Learning from scratch  \n",
       "0       1.411 +/- 0.148  \n",
       "1       3.008 +/- 0.893  "
      ]
     },
     "metadata": {},
     "output_type": "display_data"
    }
   ],
   "source": [
    "experiments = [\n",
    "            {'source':'imdb', 'target':'uwcse', 'predicate':'workedunder'},\n",
    "            {'source':'uwcse', 'target':'imdb', 'predicate':'advisedby'},\n",
    "            {'source':'imdb', 'target':'cora', 'predicate':'workedunder'},\n",
    "            {'source':'cora', 'target':'imdb', 'predicate':'samevenue'},\n",
    "            {'source':'yeast', 'target':'twitter', 'predicate':'interaction'},\n",
    "            {'source':'twitter', 'target':'yeast', 'predicate':'follows'},\n",
    "            #{'source':'nell_sports', 'target':'nell_finances', 'predicate':'teamplayssport'},\n",
    "            #{'source':'nell_finances', 'target':'nell_sports', 'predicate':'companyeconomicsector'},\n",
    "            #{'source':'yeast', 'target':'webkb', 'predicate':'proteinclass'},\n",
    "            #{'source':'webkb', 'target':'yeast', 'predicate':'departmentof'},\n",
    "            #{'source':'twitter', 'target':'webkb', 'predicate':'accounttype'},\n",
    "            #{'source':'webkb', 'target':'twitter', 'predicate':'pageclass'},\n",
    "            ]\n",
    "\n",
    "for metric in ['AUC ROC', 'AUC PR', 'CLL', 'Recall', 'F1', 'Precision', 'Learning and Revision time', 'Inference time']:\n",
    "    display(Markdown('# Results for ' + metric))\n",
    "    table = []\n",
    "    for j in range(len(experiments)):\n",
    "        dataset = experiments[j]['source'] + '->' + experiments[j]['target']\n",
    "        if dataset in data['results']: \n",
    "            #for metric in ['AUC ROC', 'AUC PR']:\n",
    "                #display(Markdown('## ' + metric))\n",
    "            if metric == 'Precision':\n",
    "                scratch = np.array([item['scratch']['Precision'][0] for sublist in data['results'][str(dataset)] for item in sublist])\n",
    "                parameter = np.array([item['transfer']['Parameter Learning results']['Precision'][0] for sublist in data['results'][str(dataset)] for item in sublist])\n",
    "                transfer = np.array([item['transfer']['Precision'][0] for sublist in data['results'][str(dataset)] for item in sublist])\n",
    "            elif metric == 'Learning and Revision time':\n",
    "                scratch = np.array([item['scratch']['Learning time'] for sublist in data['results'][str(dataset)] for item in sublist])\n",
    "                parameter = np.array([item['transfer']['Parameter Learning results']['Learning time'] for sublist in data['results'][str(dataset)] for item in sublist])\n",
    "                transfer = np.array([item['transfer']['Learning time'] for sublist in data['results'][str(dataset)] for item in sublist])\n",
    "            elif metric == 'Inference time':\n",
    "                scratch = np.array([item['scratch']['Inference time'] for sublist in data['results'][str(dataset)] for item in sublist])\n",
    "                parameter = np.array([item['transfer']['Parameter Learning results']['Learning time'] for sublist in data['results'][str(dataset)] for item in sublist])\n",
    "                transfer = np.array([item['transfer']['Inference time'] for sublist in data['results'][str(dataset)] for item in sublist])\n",
    "            else:\n",
    "                scratch = np.array([item['scratch'][metric] for sublist in data['results'][str(dataset)] for item in sublist])\n",
    "                parameter = np.array([item['transfer']['Parameter Learning results'][metric] for sublist in data['results'][str(dataset)] for item in sublist])\n",
    "                transfer = np.array([item['transfer'][metric] for sublist in data['results'][str(dataset)] for item in sublist])\n",
    "            table.append([dataset, '%.3f +/- %.3f' % (parameter.mean(), 2 * parameter.std()),\n",
    "            '%.3f +/- %.3f' % (transfer.mean(), 2 * transfer.std()),\n",
    "            '%.3f +/- %.3f' % (scratch.mean(), 2 * scratch.std())])\n",
    "    display(pd.DataFrame(table, columns=['Experiment', 'Transfer Learning', 'Transfer Learning with Revision Theory', 'Learning from scratch']))"
   ]
  },
  {
   "cell_type": "code",
   "execution_count": 5,
   "metadata": {
    "collapsed": false
   },
   "outputs": [
    {
     "data": {
      "text/markdown": [
       "# Results for imdb->uwcse"
      ],
      "text/plain": [
       "<IPython.core.display.Markdown object>"
      ]
     },
     "metadata": {},
     "output_type": "display_data"
    },
    {
     "data": {
      "text/markdown": [
       "## AUC ROC"
      ],
      "text/plain": [
       "<IPython.core.display.Markdown object>"
      ]
     },
     "metadata": {},
     "output_type": "display_data"
    },
    {
     "name": "stdout",
     "output_type": "stream",
     "text": [
      "Scratch: [0.884533 0.94456  0.860577 0.933594 0.958285 0.886999 0.957047 0.860577\n",
      " 0.930313 0.958285 0.878945 0.957047 0.860577 0.928047 0.95026 ]\n",
      "Transfer: [0.949704 0.929472 0.894231 0.930938 0.945797 0.949704 0.929472 0.894231\n",
      " 0.930938 0.945797 0.949704 0.929472 0.894231 0.930938 0.945797]\n",
      "Transfer & Revision: [0.934172 0.955775 0.894231 0.933594 0.957966 0.934172 0.959475 0.894231\n",
      " 0.930313 0.958391 0.945513 0.959475 0.894231 0.930313 0.956372]\n"
     ]
    },
    {
     "data": {
      "text/markdown": [
       "## AUC PR"
      ],
      "text/plain": [
       "<IPython.core.display.Markdown object>"
      ]
     },
     "metadata": {},
     "output_type": "display_data"
    },
    {
     "name": "stdout",
     "output_type": "stream",
     "text": [
      "Scratch: [0.778351 0.916285 0.781955 0.899207 0.947272 0.783218 0.928404 0.781955\n",
      " 0.894491 0.947272 0.762797 0.928404 0.781955 0.883652 0.941442]\n",
      "Transfer: [0.939729 0.918777 0.825397 0.920612 0.937284 0.939729 0.918777 0.825397\n",
      " 0.920612 0.937284 0.939729 0.918777 0.825397 0.920612 0.937284]\n",
      "Transfer & Revision: [0.847725 0.935903 0.825397 0.899207 0.940709 0.847725 0.953759 0.825397\n",
      " 0.894491 0.941273 0.878467 0.953759 0.825397 0.894491 0.933397]\n"
     ]
    },
    {
     "data": {
      "text/markdown": [
       "## CLL"
      ],
      "text/plain": [
       "<IPython.core.display.Markdown object>"
      ]
     },
     "metadata": {},
     "output_type": "display_data"
    },
    {
     "name": "stdout",
     "output_type": "stream",
     "text": [
      "Scratch: [-0.396411 -0.284644 -0.382487 -0.275741 -0.265593 -0.400721 -0.28334\n",
      " -0.382487 -0.276313 -0.264685 -0.395452 -0.280522 -0.382487 -0.277761\n",
      " -0.273747]\n",
      "Transfer: [-0.273854 -0.290507 -0.313006 -0.287685 -0.272526 -0.273854 -0.290507\n",
      " -0.313006 -0.287685 -0.272526 -0.273854 -0.290507 -0.313006 -0.287685\n",
      " -0.272526]\n",
      "Transfer & Revision: [-0.315901 -0.274247 -0.313006 -0.275741 -0.261639 -0.311178 -0.274262\n",
      " -0.313006 -0.276667 -0.260525 -0.307893 -0.27363  -0.313006 -0.277677\n",
      " -0.260759]\n"
     ]
    },
    {
     "data": {
      "text/markdown": [
       "## Recall"
      ],
      "text/plain": [
       "<IPython.core.display.Markdown object>"
      ]
     },
     "metadata": {},
     "output_type": "display_data"
    },
    {
     "name": "stdout",
     "output_type": "stream",
     "text": [
      "Scratch: [0.884615 1.       1.       0.975    0.927835 0.884615 1.       1.\n",
      " 0.975    0.927835 0.884615 1.       1.       0.975    0.927835]\n",
      "Transfer: [1. 1. 1. 1. 1. 1. 1. 1. 1. 1. 1. 1. 1. 1. 1.]\n",
      "Transfer & Revision: [0.858974 1.       1.       0.975    0.927835 0.884615 1.       1.\n",
      " 0.975    0.896907 0.858974 1.       1.       0.975    0.896907]\n"
     ]
    },
    {
     "data": {
      "text/markdown": [
       "## F1"
      ],
      "text/plain": [
       "<IPython.core.display.Markdown object>"
      ]
     },
     "metadata": {},
     "output_type": "display_data"
    },
    {
     "name": "stdout",
     "output_type": "stream",
     "text": [
      "Scratch: [0.851852 0.902913 0.877637 0.912281 0.8867   0.851852 0.902913 0.877637\n",
      " 0.912281 0.8867   0.851852 0.902913 0.877637 0.901734 0.8867  ]\n",
      "Transfer: [0.928571 0.902913 0.904348 0.903955 0.919431 0.928571 0.902913 0.904348\n",
      " 0.903955 0.919431 0.928571 0.902913 0.904348 0.903955 0.919431]\n",
      "Transfer & Revision: [0.875817 0.902913 0.904348 0.912281 0.8867   0.884615 0.902913 0.904348\n",
      " 0.912281 0.883249 0.875817 0.902913 0.904348 0.912281 0.883249]\n"
     ]
    },
    {
     "data": {
      "text/markdown": [
       "## Precision"
      ],
      "text/plain": [
       "<IPython.core.display.Markdown object>"
      ]
     },
     "metadata": {},
     "output_type": "display_data"
    },
    {
     "name": "stdout",
     "output_type": "stream",
     "text": [
      "Scratch: [0.821429 0.823009 0.781955 0.857143 0.849057 0.821429 0.823009 0.781955\n",
      " 0.857143 0.849057 0.821429 0.823009 0.781955 0.83871  0.849057]\n",
      "Transfer: [0.866667 0.823009 0.825397 0.824742 0.850877 0.866667 0.823009 0.825397\n",
      " 0.824742 0.850877 0.866667 0.823009 0.825397 0.824742 0.850877]\n",
      "Transfer & Revision: [0.893333 0.823009 0.825397 0.857143 0.849057 0.884615 0.823009 0.825397\n",
      " 0.857143 0.87     0.893333 0.823009 0.825397 0.857143 0.87    ]\n"
     ]
    },
    {
     "data": {
      "text/markdown": [
       "## Learning and Revision time"
      ],
      "text/plain": [
       "<IPython.core.display.Markdown object>"
      ]
     },
     "metadata": {},
     "output_type": "display_data"
    },
    {
     "name": "stdout",
     "output_type": "stream",
     "text": [
      "Scratch: [ 9.625  4.602  1.464  8.307  6.286  9.471  4.441  1.593  8.772  5.738\n",
      "  8.232  4.457  1.47  15.224  7.654]\n",
      "Transfer: [5.653 2.688 1.375 4.574 3.084 4.731 1.944 1.363 3.647 2.298 5.161 2.485\n",
      " 1.649 4.445 5.572]\n",
      "Transfer & Revision: [13.736  6.384  3.472 12.149  8.194 10.917  5.173  3.244 10.476  7.274\n",
      " 13.607  6.189  4.035 10.045 10.914]\n"
     ]
    },
    {
     "data": {
      "text/markdown": [
       "## Inference time"
      ],
      "text/plain": [
       "<IPython.core.display.Markdown object>"
      ]
     },
     "metadata": {},
     "output_type": "display_data"
    },
    {
     "name": "stdout",
     "output_type": "stream",
     "text": [
      "Scratch: [0.768 0.832 0.606 0.796 1.012 0.732 0.728 0.62  0.781 0.916 0.786 0.769\n",
      " 0.594 0.803 0.842]\n",
      "Transfer: [5.653 2.688 1.375 4.574 3.084 4.731 1.944 1.363 3.647 2.298 5.161 2.485\n",
      " 1.649 4.445 5.572]\n",
      "Transfer & Revision: [0.773 0.722 0.761 0.939 0.767 0.813 0.755 0.749 0.753 0.826 0.814 0.727\n",
      " 0.834 0.767 0.808]\n"
     ]
    },
    {
     "data": {
      "text/markdown": [
       "# Results for uwcse->imdb"
      ],
      "text/plain": [
       "<IPython.core.display.Markdown object>"
      ]
     },
     "metadata": {},
     "output_type": "display_data"
    },
    {
     "data": {
      "text/markdown": [
       "## AUC ROC"
      ],
      "text/plain": [
       "<IPython.core.display.Markdown object>"
      ]
     },
     "metadata": {},
     "output_type": "display_data"
    },
    {
     "name": "stdout",
     "output_type": "stream",
     "text": [
      "Scratch: [0.95092  0.95779  1.       0.986647 0.992472 0.95092  0.95779  1.\n",
      " 0.986647 0.992472 0.95092  0.95779  1.       0.986647 0.992472]\n",
      "Transfer: [1.       1.       1.       1.       1.       1.       1.       1.\n",
      " 1.       1.       0.735684 0.746399 0.702963 0.749227 0.733994]\n",
      "Transfer & Revision: [0.95092  1.       1.       1.       1.       0.95092  1.       1.\n",
      " 1.       1.       0.943308 0.989226 1.       0.992947 0.948388]\n"
     ]
    },
    {
     "data": {
      "text/markdown": [
       "## AUC PR"
      ],
      "text/plain": [
       "<IPython.core.display.Markdown object>"
      ]
     },
     "metadata": {},
     "output_type": "display_data"
    },
    {
     "name": "stdout",
     "output_type": "stream",
     "text": [
      "Scratch: [0.910615 0.925491 1.       0.973988 0.990625 0.910615 0.925491 1.\n",
      " 0.973988 0.990625 0.910615 0.925491 1.       0.973988 0.990625]\n",
      "Transfer: [1.       1.       1.       1.       1.       1.       1.       1.\n",
      " 1.       1.       0.80099  0.811178 0.776462 0.814346 0.799672]\n",
      "Transfer & Revision: [0.910615 1.       1.       1.       1.       0.910615 1.       1.\n",
      " 1.       1.       0.892574 0.986907 1.       0.991385 0.89892 ]\n"
     ]
    },
    {
     "data": {
      "text/markdown": [
       "## CLL"
      ],
      "text/plain": [
       "<IPython.core.display.Markdown object>"
      ]
     },
     "metadata": {},
     "output_type": "display_data"
    },
    {
     "name": "stdout",
     "output_type": "stream",
     "text": [
      "Scratch: [-0.195966 -0.19503  -0.094637 -0.122206 -0.241338 -0.195966 -0.19503\n",
      " -0.094637 -0.122206 -0.241338 -0.195966 -0.19503  -0.094637 -0.122206\n",
      " -0.241338]\n",
      "Transfer: [-0.099086 -0.095245 -0.094637 -0.094637 -0.094789 -0.099086 -0.094897\n",
      " -0.094637 -0.094637 -0.094637 -0.534654 -0.516486 -0.557553 -0.518054\n",
      " -0.53894 ]\n",
      "Transfer & Revision: [-0.195966 -0.094637 -0.094637 -0.094637 -0.094637 -0.195966 -0.096198\n",
      " -0.096153 -0.097273 -0.09613  -0.19844  -0.136056 -0.094637 -0.134994\n",
      " -0.246154]\n"
     ]
    },
    {
     "data": {
      "text/markdown": [
       "## Recall"
      ],
      "text/plain": [
       "<IPython.core.display.Markdown object>"
      ]
     },
     "metadata": {},
     "output_type": "display_data"
    },
    {
     "name": "stdout",
     "output_type": "stream",
     "text": [
      "Scratch: [1. 1. 1. 1. 1. 1. 1. 1. 1. 1. 1. 1. 1. 1. 1.]\n",
      "Transfer: [1.       1.       1.       1.       1.       1.       1.       1.\n",
      " 1.       1.       0.43865  0.462963 0.397059 0.47181  0.436202]\n",
      "Transfer & Revision: [1. 1. 1. 1. 1. 1. 1. 1. 1. 1. 1. 1. 1. 1. 1.]\n"
     ]
    },
    {
     "data": {
      "text/markdown": [
       "## F1"
      ],
      "text/plain": [
       "<IPython.core.display.Markdown object>"
      ]
     },
     "metadata": {},
     "output_type": "display_data"
    },
    {
     "name": "stdout",
     "output_type": "stream",
     "text": [
      "Scratch: [0.953216 0.954345 1.       0.986823 0.927098 0.953216 0.954345 1.\n",
      " 0.986823 0.927098 0.953216 0.954345 1.       0.986823 0.927098]\n",
      "Transfer: [1.       1.       1.       1.       1.       1.       1.       1.\n",
      " 1.       1.       0.609808 0.632911 0.568421 0.641129 0.607438]\n",
      "Transfer & Revision: [0.953216 1.       1.       1.       1.       0.953216 1.       1.\n",
      " 1.       1.       0.953216 0.980333 1.       0.986823 0.927098]\n"
     ]
    },
    {
     "data": {
      "text/markdown": [
       "## Precision"
      ],
      "text/plain": [
       "<IPython.core.display.Markdown object>"
      ]
     },
     "metadata": {},
     "output_type": "display_data"
    },
    {
     "name": "stdout",
     "output_type": "stream",
     "text": [
      "Scratch: [0.910615 0.912676 1.       0.973988 0.864103 0.910615 0.912676 1.\n",
      " 0.973988 0.864103 0.910615 0.912676 1.       0.973988 0.864103]\n",
      "Transfer: [1. 1. 1. 1. 1. 1. 1. 1. 1. 1. 1. 1. 1. 1. 1.]\n",
      "Transfer & Revision: [0.910615 1.       1.       1.       1.       0.910615 1.       1.\n",
      " 1.       1.       0.910615 0.961424 1.       0.973988 0.864103]\n"
     ]
    },
    {
     "data": {
      "text/markdown": [
       "## Learning and Revision time"
      ],
      "text/plain": [
       "<IPython.core.display.Markdown object>"
      ]
     },
     "metadata": {},
     "output_type": "display_data"
    },
    {
     "name": "stdout",
     "output_type": "stream",
     "text": [
      "Scratch: [1.7   2.302 2.917 2.045 2.308 1.735 2.034 3.073 1.962 1.986 1.845 2.26\n",
      " 3.182 2.048 2.292]\n",
      "Transfer: [1.616 1.706 2.972 1.564 1.721 1.579 1.872 2.197 1.901 1.201 1.713 1.869\n",
      " 2.78  2.379 1.915]\n",
      "Transfer & Revision: [2.875 3.26  6.143 3.17  3.293 3.051 3.489 5.735 3.12  2.84  3.718 4.05\n",
      " 7.141 4.959 3.825]\n"
     ]
    },
    {
     "data": {
      "text/markdown": [
       "## Inference time"
      ],
      "text/plain": [
       "<IPython.core.display.Markdown object>"
      ]
     },
     "metadata": {},
     "output_type": "display_data"
    },
    {
     "name": "stdout",
     "output_type": "stream",
     "text": [
      "Scratch: [0.775 0.794 0.723 0.776 0.81  0.723 0.771 0.694 0.76  0.805 0.769 0.906\n",
      " 0.74  0.768 0.777]\n",
      "Transfer: [1.616 1.706 2.972 1.564 1.721 1.579 1.872 2.197 1.901 1.201 1.713 1.869\n",
      " 2.78  2.379 1.915]\n",
      "Transfer & Revision: [0.784 0.81  0.937 0.823 0.803 0.715 0.813 0.789 0.689 0.826 0.963 1.094\n",
      " 0.979 0.902 0.81 ]\n"
     ]
    },
    {
     "data": {
      "text/markdown": [
       "# Results for imdb->cora"
      ],
      "text/plain": [
       "<IPython.core.display.Markdown object>"
      ]
     },
     "metadata": {},
     "output_type": "display_data"
    },
    {
     "data": {
      "text/markdown": [
       "## AUC ROC"
      ],
      "text/plain": [
       "<IPython.core.display.Markdown object>"
      ]
     },
     "metadata": {},
     "output_type": "display_data"
    },
    {
     "name": "stdout",
     "output_type": "stream",
     "text": [
      "Scratch: [0.591354 0.569243 0.308061 0.614653 0.630357 0.591354 0.569243 0.310525\n",
      " 0.614653 0.630357]\n",
      "Transfer: [0.591354 0.573001 0.310525 0.614653 0.621875 0.591354 0.573001 0.310525\n",
      " 0.614653 0.630357]\n",
      "Transfer & Revision: [0.591354 0.573001 0.310525 0.624499 0.630748 0.591354 0.573001 0.310525\n",
      " 0.614653 0.630357]\n"
     ]
    },
    {
     "data": {
      "text/markdown": [
       "## AUC PR"
      ],
      "text/plain": [
       "<IPython.core.display.Markdown object>"
      ]
     },
     "metadata": {},
     "output_type": "display_data"
    },
    {
     "name": "stdout",
     "output_type": "stream",
     "text": [
      "Scratch: [0.942615 0.934792 0.859435 0.933172 0.937926 0.942615 0.934792 0.866163\n",
      " 0.933172 0.937926]\n",
      "Transfer: [0.942615 0.935755 0.866163 0.933172 0.934613 0.942615 0.935755 0.866163\n",
      " 0.933172 0.937926]\n",
      "Transfer & Revision: [0.942615 0.935755 0.866163 0.936044 0.937958 0.942615 0.935755 0.866163\n",
      " 0.933172 0.937926]\n"
     ]
    },
    {
     "data": {
      "text/markdown": [
       "## CLL"
      ],
      "text/plain": [
       "<IPython.core.display.Markdown object>"
      ]
     },
     "metadata": {},
     "output_type": "display_data"
    },
    {
     "name": "stdout",
     "output_type": "stream",
     "text": [
      "Scratch: [-0.316343 -0.25356  -0.345004 -0.248078 -0.263678 -0.305931 -0.253578\n",
      " -0.353384 -0.248158 -0.263632]\n",
      "Transfer: [-0.314766 -0.25356  -0.367114 -0.248058 -0.26297  -0.314562 -0.25356\n",
      " -0.367158 -0.24817  -0.263584]\n",
      "Transfer & Revision: [-0.309779 -0.25356  -0.3453   -0.248029 -0.26373  -0.308856 -0.25356\n",
      " -0.345319 -0.248057 -0.263584]\n"
     ]
    },
    {
     "data": {
      "text/markdown": [
       "## Recall"
      ],
      "text/plain": [
       "<IPython.core.display.Markdown object>"
      ]
     },
     "metadata": {},
     "output_type": "display_data"
    },
    {
     "name": "stdout",
     "output_type": "stream",
     "text": [
      "Scratch: [1. 1. 1. 1. 1. 1. 1. 1. 1. 1.]\n",
      "Transfer: [1. 1. 1. 1. 1. 1. 1. 1. 1. 1.]\n",
      "Transfer & Revision: [1. 1. 1. 1. 1. 1. 1. 1. 1. 1.]\n"
     ]
    },
    {
     "data": {
      "text/markdown": [
       "## F1"
      ],
      "text/plain": [
       "<IPython.core.display.Markdown object>"
      ]
     },
     "metadata": {},
     "output_type": "display_data"
    },
    {
     "name": "stdout",
     "output_type": "stream",
     "text": [
      "Scratch: [0.954114 0.971831 0.949713 0.970326 0.972644 0.954114 0.971831 0.949713\n",
      " 0.970326 0.972644]\n",
      "Transfer: [0.954114 0.971831 0.949713 0.970326 0.972644 0.954114 0.971831 0.949713\n",
      " 0.970326 0.972644]\n",
      "Transfer & Revision: [0.954114 0.971831 0.949713 0.970326 0.972644 0.954114 0.971831 0.949713\n",
      " 0.970326 0.972644]\n"
     ]
    },
    {
     "data": {
      "text/markdown": [
       "## Precision"
      ],
      "text/plain": [
       "<IPython.core.display.Markdown object>"
      ]
     },
     "metadata": {},
     "output_type": "display_data"
    },
    {
     "name": "stdout",
     "output_type": "stream",
     "text": [
      "Scratch: [0.912254 0.945205 0.904241 0.942363 0.946746 0.912254 0.945205 0.904241\n",
      " 0.942363 0.946746]\n",
      "Transfer: [0.912254 0.945205 0.904241 0.942363 0.946746 0.912254 0.945205 0.904241\n",
      " 0.942363 0.946746]\n",
      "Transfer & Revision: [0.912254 0.945205 0.904241 0.942363 0.946746 0.912254 0.945205 0.904241\n",
      " 0.942363 0.946746]\n"
     ]
    },
    {
     "data": {
      "text/markdown": [
       "## Learning and Revision time"
      ],
      "text/plain": [
       "<IPython.core.display.Markdown object>"
      ]
     },
     "metadata": {},
     "output_type": "display_data"
    },
    {
     "name": "stdout",
     "output_type": "stream",
     "text": [
      "Scratch: [ 3.602  6.041  6.26   6.456 15.108  3.886  6.167  4.17   6.023 13.978]\n",
      "Transfer: [ 3.222  5.214  4.322  5.85  14.539  3.212  4.486  4.197  5.715 13.529]\n",
      "Transfer & Revision: [ 5.828  8.448  7.439  9.976 22.316  6.564  8.022  8.291  9.465 19.658]\n"
     ]
    },
    {
     "data": {
      "text/markdown": [
       "## Inference time"
      ],
      "text/plain": [
       "<IPython.core.display.Markdown object>"
      ]
     },
     "metadata": {},
     "output_type": "display_data"
    },
    {
     "name": "stdout",
     "output_type": "stream",
     "text": [
      "Scratch: [1.393 1.849 1.456 1.736 4.222 1.444 1.799 1.466 1.821 4.302]\n",
      "Transfer: [ 3.222  5.214  4.322  5.85  14.539  3.212  4.486  4.197  5.715 13.529]\n",
      "Transfer & Revision: [1.367 1.896 1.577 1.774 4.5   1.373 1.954 1.516 1.911 3.849]\n"
     ]
    },
    {
     "data": {
      "text/markdown": [
       "# Results for cora->imdb"
      ],
      "text/plain": [
       "<IPython.core.display.Markdown object>"
      ]
     },
     "metadata": {},
     "output_type": "display_data"
    },
    {
     "data": {
      "text/markdown": [
       "## AUC ROC"
      ],
      "text/plain": [
       "<IPython.core.display.Markdown object>"
      ]
     },
     "metadata": {},
     "output_type": "display_data"
    },
    {
     "name": "stdout",
     "output_type": "stream",
     "text": [
      "Scratch: [0.95092  0.95779  1.       0.986647 0.992472 0.95092  0.95779  1.\n",
      " 0.986647 0.992472]\n",
      "Transfer: [0.877301 0.871914 0.882353 0.87092  0.872404 0.97363  0.97499  0.994714\n",
      " 0.975843 0.97778 ]\n",
      "Transfer & Revision: [1.       0.986111 1.       0.992947 0.986647 1.       0.995785 1.\n",
      " 0.996104 0.989156]\n"
     ]
    },
    {
     "data": {
      "text/markdown": [
       "## AUC PR"
      ],
      "text/plain": [
       "<IPython.core.display.Markdown object>"
      ]
     },
     "metadata": {},
     "output_type": "display_data"
    },
    {
     "name": "stdout",
     "output_type": "stream",
     "text": [
      "Scratch: [0.910615 0.925491 1.       0.973988 0.990625 0.910615 0.925491 1.\n",
      " 0.973988 0.990625]\n",
      "Transfer: [0.802956 0.796069 0.809524 0.794811 0.79669  0.975782 0.977185 0.9953\n",
      " 0.978049 0.980002]\n",
      "Transfer & Revision: [1.       0.972973 1.       0.991385 0.973988 1.       0.995493 1.\n",
      " 0.995846 0.979162]\n"
     ]
    },
    {
     "data": {
      "text/markdown": [
       "## CLL"
      ],
      "text/plain": [
       "<IPython.core.display.Markdown object>"
      ]
     },
     "metadata": {},
     "output_type": "display_data"
    },
    {
     "name": "stdout",
     "output_type": "stream",
     "text": [
      "Scratch: [-0.195966 -0.19503  -0.094637 -0.122206 -0.241338 -0.195966 -0.195023\n",
      " -0.094637 -0.122206 -0.241338]\n",
      "Transfer: [-0.343299 -0.353645 -0.334717 -0.343872 -0.343345 -0.265399 -0.270068\n",
      " -0.263784 -0.259433 -0.281845]\n",
      "Transfer & Revision: [-0.094637 -0.123312 -0.094637 -0.122206 -0.122206 -0.102331 -0.126624\n",
      " -0.094637 -0.12539  -0.122206]\n"
     ]
    },
    {
     "data": {
      "text/markdown": [
       "## Recall"
      ],
      "text/plain": [
       "<IPython.core.display.Markdown object>"
      ]
     },
     "metadata": {},
     "output_type": "display_data"
    },
    {
     "name": "stdout",
     "output_type": "stream",
     "text": [
      "Scratch: [1. 1. 1. 1. 1. 1. 1. 1. 1. 1.]\n",
      "Transfer: [1.       1.       1.       1.       1.       0.819018 0.817901 1.\n",
      " 0.824926 1.      ]\n",
      "Transfer & Revision: [1. 1. 1. 1. 1. 1. 1. 1. 1. 1.]\n"
     ]
    },
    {
     "data": {
      "text/markdown": [
       "## F1"
      ],
      "text/plain": [
       "<IPython.core.display.Markdown object>"
      ]
     },
     "metadata": {},
     "output_type": "display_data"
    },
    {
     "name": "stdout",
     "output_type": "stream",
     "text": [
      "Scratch: [0.953216 0.954345 1.       0.986823 0.927098 0.953216 0.954345 1.\n",
      " 0.986823 0.927098]\n",
      "Transfer: [0.89071  0.886457 0.894737 0.885677 0.886842 0.892977 0.890756 0.900662\n",
      " 0.89533  0.886842]\n",
      "Transfer & Revision: [1.       0.986301 1.       0.986823 0.986823 1.       0.986301 1.\n",
      " 0.986823 0.986823]\n"
     ]
    },
    {
     "data": {
      "text/markdown": [
       "## Precision"
      ],
      "text/plain": [
       "<IPython.core.display.Markdown object>"
      ]
     },
     "metadata": {},
     "output_type": "display_data"
    },
    {
     "name": "stdout",
     "output_type": "stream",
     "text": [
      "Scratch: [0.910615 0.912676 1.       0.973988 0.864103 0.910615 0.912676 1.\n",
      " 0.973988 0.864103]\n",
      "Transfer: [0.802956 0.796069 0.809524 0.794811 0.79669  0.981618 0.97786  0.819277\n",
      " 0.978873 0.79669 ]\n",
      "Transfer & Revision: [1.       0.972973 1.       0.973988 0.973988 1.       0.972973 1.\n",
      " 0.973988 0.973988]\n"
     ]
    },
    {
     "data": {
      "text/markdown": [
       "## Learning and Revision time"
      ],
      "text/plain": [
       "<IPython.core.display.Markdown object>"
      ]
     },
     "metadata": {},
     "output_type": "display_data"
    },
    {
     "name": "stdout",
     "output_type": "stream",
     "text": [
      "Scratch: [1.542 1.987 3.149 1.92  2.337 1.819 1.871 2.537 1.741 1.951]\n",
      "Transfer: [1.794 2.021 3.35  1.659 1.941 1.844 1.772 3.801 1.719 1.862]\n",
      "Transfer & Revision: [5.074 4.055 8.829 4.536 5.275 4.77  3.967 7.705 5.198 4.47 ]\n"
     ]
    },
    {
     "data": {
      "text/markdown": [
       "## Inference time"
      ],
      "text/plain": [
       "<IPython.core.display.Markdown object>"
      ]
     },
     "metadata": {},
     "output_type": "display_data"
    },
    {
     "name": "stdout",
     "output_type": "stream",
     "text": [
      "Scratch: [0.761 0.837 0.712 0.817 0.826 0.747 0.632 0.722 0.598 0.831]\n",
      "Transfer: [1.794 2.021 3.35  1.659 1.941 1.844 1.772 3.801 1.719 1.862]\n",
      "Transfer & Revision: [1.372 0.797 1.839 1.339 1.418 1.525 1.132 1.378 1.453 1.496]\n"
     ]
    },
    {
     "data": {
      "text/markdown": [
       "# Results for yeast->twitter"
      ],
      "text/plain": [
       "<IPython.core.display.Markdown object>"
      ]
     },
     "metadata": {},
     "output_type": "display_data"
    },
    {
     "data": {
      "text/markdown": [
       "## AUC ROC"
      ],
      "text/plain": [
       "<IPython.core.display.Markdown object>"
      ]
     },
     "metadata": {},
     "output_type": "display_data"
    },
    {
     "name": "stdout",
     "output_type": "stream",
     "text": [
      "Scratch: []\n",
      "Transfer: []\n",
      "Transfer & Revision: []\n"
     ]
    },
    {
     "data": {
      "text/markdown": [
       "## AUC PR"
      ],
      "text/plain": [
       "<IPython.core.display.Markdown object>"
      ]
     },
     "metadata": {},
     "output_type": "display_data"
    },
    {
     "name": "stdout",
     "output_type": "stream",
     "text": [
      "Scratch: []\n",
      "Transfer: []\n",
      "Transfer & Revision: []\n"
     ]
    },
    {
     "data": {
      "text/markdown": [
       "## CLL"
      ],
      "text/plain": [
       "<IPython.core.display.Markdown object>"
      ]
     },
     "metadata": {},
     "output_type": "display_data"
    },
    {
     "name": "stdout",
     "output_type": "stream",
     "text": [
      "Scratch: []\n",
      "Transfer: []\n",
      "Transfer & Revision: []\n"
     ]
    },
    {
     "data": {
      "text/markdown": [
       "## Recall"
      ],
      "text/plain": [
       "<IPython.core.display.Markdown object>"
      ]
     },
     "metadata": {},
     "output_type": "display_data"
    },
    {
     "name": "stdout",
     "output_type": "stream",
     "text": [
      "Scratch: []\n",
      "Transfer: []\n",
      "Transfer & Revision: []\n"
     ]
    },
    {
     "data": {
      "text/markdown": [
       "## F1"
      ],
      "text/plain": [
       "<IPython.core.display.Markdown object>"
      ]
     },
     "metadata": {},
     "output_type": "display_data"
    },
    {
     "name": "stdout",
     "output_type": "stream",
     "text": [
      "Scratch: []\n",
      "Transfer: []\n",
      "Transfer & Revision: []\n"
     ]
    },
    {
     "data": {
      "text/markdown": [
       "## Precision"
      ],
      "text/plain": [
       "<IPython.core.display.Markdown object>"
      ]
     },
     "metadata": {},
     "output_type": "display_data"
    },
    {
     "name": "stdout",
     "output_type": "stream",
     "text": [
      "Scratch: []\n",
      "Transfer: []\n",
      "Transfer & Revision: []\n"
     ]
    },
    {
     "data": {
      "text/markdown": [
       "## Learning and Revision time"
      ],
      "text/plain": [
       "<IPython.core.display.Markdown object>"
      ]
     },
     "metadata": {},
     "output_type": "display_data"
    },
    {
     "name": "stdout",
     "output_type": "stream",
     "text": [
      "Scratch: []\n",
      "Transfer: []\n",
      "Transfer & Revision: []\n"
     ]
    },
    {
     "data": {
      "text/markdown": [
       "## Inference time"
      ],
      "text/plain": [
       "<IPython.core.display.Markdown object>"
      ]
     },
     "metadata": {},
     "output_type": "display_data"
    },
    {
     "name": "stdout",
     "output_type": "stream",
     "text": [
      "Scratch: []\n",
      "Transfer: []\n",
      "Transfer & Revision: []\n"
     ]
    },
    {
     "data": {
      "text/markdown": [
       "# Results for twitter->yeast"
      ],
      "text/plain": [
       "<IPython.core.display.Markdown object>"
      ]
     },
     "metadata": {},
     "output_type": "display_data"
    },
    {
     "data": {
      "text/markdown": [
       "## AUC ROC"
      ],
      "text/plain": [
       "<IPython.core.display.Markdown object>"
      ]
     },
     "metadata": {},
     "output_type": "display_data"
    },
    {
     "name": "stdout",
     "output_type": "stream",
     "text": [
      "Scratch: []\n",
      "Transfer: []\n",
      "Transfer & Revision: []\n"
     ]
    },
    {
     "data": {
      "text/markdown": [
       "## AUC PR"
      ],
      "text/plain": [
       "<IPython.core.display.Markdown object>"
      ]
     },
     "metadata": {},
     "output_type": "display_data"
    },
    {
     "name": "stdout",
     "output_type": "stream",
     "text": [
      "Scratch: []\n",
      "Transfer: []\n",
      "Transfer & Revision: []\n"
     ]
    },
    {
     "data": {
      "text/markdown": [
       "## CLL"
      ],
      "text/plain": [
       "<IPython.core.display.Markdown object>"
      ]
     },
     "metadata": {},
     "output_type": "display_data"
    },
    {
     "name": "stdout",
     "output_type": "stream",
     "text": [
      "Scratch: []\n",
      "Transfer: []\n",
      "Transfer & Revision: []\n"
     ]
    },
    {
     "data": {
      "text/markdown": [
       "## Recall"
      ],
      "text/plain": [
       "<IPython.core.display.Markdown object>"
      ]
     },
     "metadata": {},
     "output_type": "display_data"
    },
    {
     "name": "stdout",
     "output_type": "stream",
     "text": [
      "Scratch: []\n",
      "Transfer: []\n",
      "Transfer & Revision: []\n"
     ]
    },
    {
     "data": {
      "text/markdown": [
       "## F1"
      ],
      "text/plain": [
       "<IPython.core.display.Markdown object>"
      ]
     },
     "metadata": {},
     "output_type": "display_data"
    },
    {
     "name": "stdout",
     "output_type": "stream",
     "text": [
      "Scratch: []\n",
      "Transfer: []\n",
      "Transfer & Revision: []\n"
     ]
    },
    {
     "data": {
      "text/markdown": [
       "## Precision"
      ],
      "text/plain": [
       "<IPython.core.display.Markdown object>"
      ]
     },
     "metadata": {},
     "output_type": "display_data"
    },
    {
     "name": "stdout",
     "output_type": "stream",
     "text": [
      "Scratch: []\n",
      "Transfer: []\n",
      "Transfer & Revision: []\n"
     ]
    },
    {
     "data": {
      "text/markdown": [
       "## Learning and Revision time"
      ],
      "text/plain": [
       "<IPython.core.display.Markdown object>"
      ]
     },
     "metadata": {},
     "output_type": "display_data"
    },
    {
     "name": "stdout",
     "output_type": "stream",
     "text": [
      "Scratch: []\n",
      "Transfer: []\n",
      "Transfer & Revision: []\n"
     ]
    },
    {
     "data": {
      "text/markdown": [
       "## Inference time"
      ],
      "text/plain": [
       "<IPython.core.display.Markdown object>"
      ]
     },
     "metadata": {},
     "output_type": "display_data"
    },
    {
     "name": "stdout",
     "output_type": "stream",
     "text": [
      "Scratch: []\n",
      "Transfer: []\n",
      "Transfer & Revision: []\n"
     ]
    }
   ],
   "source": [
    "for j in range(len(experiments)):\n",
    "    dataset = experiments[j]['source'] + '->' + experiments[j]['target']\n",
    "    display(Markdown('# Results for ' + dataset))\n",
    "    table = []\n",
    "    for metric in ['AUC ROC', 'AUC PR', 'CLL', 'Recall', 'F1', 'Precision', 'Learning and Revision time', 'Inference time']:\n",
    "    #for metric in ['AUC ROC', 'AUC PR']:\n",
    "        if dataset in data['results']: \n",
    "            #for metric in ['AUC ROC', 'AUC PR']:\n",
    "            display(Markdown('## ' + metric))\n",
    "            if metric == 'Precision':\n",
    "                scratch = np.array([item['scratch']['Precision'][0] for sublist in data['results'][str(dataset)] for item in sublist])\n",
    "                parameter = np.array([item['transfer']['Parameter Learning results']['Precision'][0] for sublist in data['results'][str(dataset)] for item in sublist])\n",
    "                transfer = np.array([item['transfer']['Precision'][0] for sublist in data['results'][str(dataset)] for item in sublist])\n",
    "            elif metric == 'Learning and Revision time':\n",
    "                scratch = np.array([item['scratch']['Learning time'] for sublist in data['results'][str(dataset)] for item in sublist])\n",
    "                parameter = np.array([item['transfer']['Parameter Learning results']['Learning time'] for sublist in data['results'][str(dataset)] for item in sublist])\n",
    "                transfer = np.array([item['transfer']['Learning time'] for sublist in data['results'][str(dataset)] for item in sublist])\n",
    "            elif metric == 'Inference time':\n",
    "                scratch = np.array([item['scratch']['Inference time'] for sublist in data['results'][str(dataset)] for item in sublist])\n",
    "                parameter = np.array([item['transfer']['Parameter Learning results']['Learning time'] for sublist in data['results'][str(dataset)] for item in sublist])\n",
    "                transfer = np.array([item['transfer']['Inference time'] for sublist in data['results'][str(dataset)] for item in sublist])\n",
    "            else:\n",
    "                scratch = np.array([item['scratch'][metric] for sublist in data['results'][str(dataset)] for item in sublist])\n",
    "                parameter = np.array([item['transfer']['Parameter Learning results'][metric] for sublist in data['results'][str(dataset)] for item in sublist])\n",
    "                transfer = np.array([item['transfer'][metric] for sublist in data['results'][str(dataset)] for item in sublist])\n",
    "            print('Scratch: %s' % scratch)\n",
    "            print('Transfer: %s' % parameter)\n",
    "            print('Transfer & Revision: %s' % transfer)"
   ]
  },
  {
   "cell_type": "code",
   "execution_count": null,
   "metadata": {
    "collapsed": true
   },
   "outputs": [],
   "source": []
  },
  {
   "cell_type": "code",
   "execution_count": null,
   "metadata": {
    "collapsed": true
   },
   "outputs": [],
   "source": []
  }
 ],
 "metadata": {
  "anaconda-cloud": {},
  "kernelspec": {
   "display_name": "Python [conda env:anaconda3]",
   "language": "python",
   "name": "conda-env-anaconda3-py"
  },
  "language_info": {
   "codemirror_mode": {
    "name": "ipython",
    "version": 3
   },
   "file_extension": ".py",
   "mimetype": "text/x-python",
   "name": "python",
   "nbconvert_exporter": "python",
   "pygments_lexer": "ipython3",
   "version": "3.5.2"
  }
 },
 "nbformat": 4,
 "nbformat_minor": 1
}
