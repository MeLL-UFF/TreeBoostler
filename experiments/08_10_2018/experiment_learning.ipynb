{
 "cells": [
  {
   "cell_type": "code",
   "execution_count": 1,
   "metadata": {
    "collapsed": true
   },
   "outputs": [],
   "source": [
    "from datasets.get_datasets import *\n",
    "from revision import *\n",
    "from boostsrl import boostsrl\n",
    "import random"
   ]
  },
  {
   "cell_type": "code",
   "execution_count": 14,
   "metadata": {
    "collapsed": true
   },
   "outputs": [],
   "source": [
    "target = 'advisedby'\n",
    "test_size = 0.2"
   ]
  },
  {
   "cell_type": "code",
   "execution_count": 6,
   "metadata": {
    "collapsed": true
   },
   "outputs": [],
   "source": [
    "[facts, pos, neg] = get_uwcse_dataset(target, acceptedPredicates=[\n",
    "'professor',\n",
    "'student',\n",
    "'advisedby',\n",
    "'tempadvisedby',\n",
    "'ta',\n",
    "'hasposition',\n",
    "'publication',\n",
    "'inphase',\n",
    "'courselevel',\n",
    "'yearsinprogram',\n",
    "'projectmember',\n",
    "])"
   ]
  },
  {
   "cell_type": "code",
   "execution_count": 7,
   "metadata": {
    "collapsed": true
   },
   "outputs": [],
   "source": [
    "bk = ['professor(+person).',\n",
    "'student(+person).',\n",
    "'advisedby(+person,+person).',\n",
    "'advisedby(+person,-person).',\n",
    "'advisedby(-person,+person).',\n",
    "'tempadvisedby(+person,+person).',\n",
    "'tempadvisedby(+person,-person).',\n",
    "'tempadvisedby(-person,+person).',\n",
    "'ta(+course,+person,+quarter).',\n",
    "'ta(-course,+person,+quarter).',\n",
    "'ta(+course,-person,+quarter).',\n",
    "'ta(+course,+person,-quarter).',\n",
    "'ta(-course,+person,-quarter).',\n",
    "'ta(+course,-person,-quarter).',\n",
    "'hasposition(+person,+faculty).',\n",
    "'hasposition(+person,-faculty).',\n",
    "'hasposition(-person,+faculty).',\n",
    "'publication(+title,+person).',\n",
    "'publication(+title,-person).',\n",
    "'publication(-title,+person).',\n",
    "'inphase(+person,+prequals).',\n",
    "'inphase(+person,-prequals).',\n",
    "'inphase(-person,+prequals).',\n",
    "'courselevel(+course,+level).',\n",
    "'courselevel(+course,-level).',\n",
    "'courselevel(-course,+level).',\n",
    "'yearsinprogram(+person,+year).',\n",
    "'yearsinprogram(-person,+year).',\n",
    "'yearsinprogram(+person,-year).',\n",
    "'projectmember(+project,+person).',\n",
    "'projectmember(+project,-person).',\n",
    "'projectmember(-project,+person).']\n",
    "#'sameproject(project, project).',\n",
    "#'samecourse(course, course).',\n",
    "#'sameperson(person, person).',]\n",
    "\n",
    "background = boostsrl.modes(bk, [target], useStdLogicVariables=False, treeDepth=8, nodeSize=3, numOfClauses=8)"
   ]
  },
  {
   "cell_type": "code",
   "execution_count": 15,
   "metadata": {
    "collapsed": false
   },
   "outputs": [
    {
     "name": "stdout",
     "output_type": "stream",
     "text": [
      "Train pos size: 91\n",
      "Train neg size: 91\n",
      "Test pos size: 22\n",
      "Test neg size: 22\n"
     ]
    }
   ],
   "source": [
    "# shuffle all examples\n",
    "random.shuffle(pos)\n",
    "random.shuffle(neg)\n",
    "neg = neg[:len(pos)]\n",
    "\n",
    "# separate train and test\n",
    "test_pos = pos[:int(test_size*len(pos))]\n",
    "test_neg = neg[:int(test_size*len(neg))]\n",
    "train_pos = pos[int(test_size*len(pos)):]\n",
    "train_neg = neg[int(test_size*len(neg)):]\n",
    "\n",
    "print('Train pos size: %s' % len(train_pos))\n",
    "print('Train neg size: %s' % len(train_neg))\n",
    "print('Test pos size: %s' % len(test_pos))\n",
    "print('Test neg size: %s' % len(test_neg))"
   ]
  },
  {
   "cell_type": "markdown",
   "metadata": {},
   "source": [
    "## Learning 10 boosted trees and performing inference with 10 boosted trees"
   ]
  },
  {
   "cell_type": "code",
   "execution_count": 18,
   "metadata": {
    "collapsed": false
   },
   "outputs": [
    {
     "name": "stdout",
     "output_type": "stream",
     "text": [
      "WILL-Produced Tree:\n",
      "% FOR advisedby(A, B):\n",
      "%   if ( professor(B), student(A) )\n",
      "%   then if ( publication(C, A), publication(C, B) )\n",
      "%   | then return 3.547568576368876;  // std dev = 2,167, 380,000 (wgt'ed) examples reached here.  /* #neg=20 #pos=360 */\n",
      "%   | else if ( publication(D, A), publication(E, B) )\n",
      "%   | | then if ( tempadvisedby(F, B), ta(G, F, H) )\n",
      "%   | | | then return -1.6414597806436932;  // std dev = 0,696, 30,000 (wgt'ed) examples reached here.  /* #neg=30 */\n",
      "%   | | | else if ( ta(I, A, J) )\n",
      "%   | | | | then return 4.33846043041414;  // std dev = 0,249, 40,000 (wgt'ed) examples reached here.  /* #pos=40 */\n",
      "%   | | | | else if ( tempadvisedby(K, B) )\n",
      "%   | | | | | then return -1.3018384146137594;  // std dev = 0,327, 20,000 (wgt'ed) examples reached here.  /* #neg=20 */\n",
      "%   | | | | | else return 1.1908147955791861;  // std dev = 42,077, 80,000 (wgt'ed) examples reached here.  /* #neg=50 #pos=30 */\n",
      "%   | | else if ( ta(L, A, M) )\n",
      "%   | | | then return 3.651362347439959;  // std dev = 2,032, 220,000 (wgt'ed) examples reached here.  /* #neg=10 #pos=210 */\n",
      "%   | | | else if ( publication(N, B), tempadvisedby(P, B), ta(Q, P, R) )\n",
      "%   | | | | then return 4.094124431778776;  // std dev = 0,399, 70,000 (wgt'ed) examples reached here.  /* #pos=70 */\n",
      "%   | | | | else return 2.8687572121188136;  // std dev = 3,632, 240,000 (wgt'ed) examples reached here.  /* #neg=40 #pos=200 */\n",
      "%   else return -0.9437262371086453;  // std dev = 0,000, 740,000 (wgt'ed) examples reached here.  /* #neg=740 */\n",
      "\n",
      "\n",
      "Results:\n",
      "{'Recall': 0.954545, 'Precision': [0.954545, 0.5], 'AUC PR': 0.97395, 'AUC ROC': 0.978306, 'CLL': -0.23146, 'F1': 0.954545}\n",
      "\n",
      "\n",
      "Total learning time: 14.532 seconds\n",
      "Total inference time: 0.779 seconds\n",
      "AUC ROC: 0.978306\n"
     ]
    }
   ],
   "source": [
    "delete_model_files()\n",
    "model = boostsrl.train(background, train_pos, train_neg, facts, trees=10)\n",
    "learning_time = model.traintime()\n",
    "will = model.get_will_produced_tree()\n",
    "structured = model.get_structured_tree().copy()\n",
    "# if it is using boosted trees\n",
    "# do inference with the combined one\n",
    "#if trees > 1:\n",
    "#    os.rename('boostsrl/train/models/bRDNs/Trees/'+ target +'Tree0.tree', 'boostsrl/train/models/bRDNs/Trees/'+ target +'Tree0_temp.tree')\n",
    "#    os.rename('boostsrl/train/models/bRDNs/Trees/CombinedTreesTreeFile'+ target +'.tree', 'boostsrl/train/models/bRDNs/Trees/'+ target +'Tree0.tree')\n",
    "results = boostsrl.test(model, test_pos, test_neg, facts, trees=10)\n",
    "inference_time = results.testtime()\n",
    "t_results = results.summarize_results()\n",
    "print('WILL-Produced Tree:')\n",
    "print_will_produced_tree(will)\n",
    "print('\\n')\n",
    "print('Results:')\n",
    "print(t_results)\n",
    "print('\\n')\n",
    "print('Total learning time: %s seconds' % learning_time)\n",
    "print('Total inference time: %s seconds' % inference_time)\n",
    "print('AUC ROC: %s' % t_results['AUC ROC'])"
   ]
  },
  {
   "cell_type": "markdown",
   "metadata": {},
   "source": [
    "## Performing inference with the Combined tree from the previous 10 boosted trees"
   ]
  },
  {
   "cell_type": "code",
   "execution_count": 19,
   "metadata": {
    "collapsed": false
   },
   "outputs": [
    {
     "name": "stdout",
     "output_type": "stream",
     "text": [
      "WILL-Produced Tree:\n",
      "% FOR advisedby(A, B):\n",
      "%   if ( professor(B), student(A) )\n",
      "%   then if ( publication(C, A), publication(C, B) )\n",
      "%   | then return 3.547568576368876;  // std dev = 2,167, 380,000 (wgt'ed) examples reached here.  /* #neg=20 #pos=360 */\n",
      "%   | else if ( publication(D, A), publication(E, B) )\n",
      "%   | | then if ( tempadvisedby(F, B), ta(G, F, H) )\n",
      "%   | | | then return -1.6414597806436932;  // std dev = 0,696, 30,000 (wgt'ed) examples reached here.  /* #neg=30 */\n",
      "%   | | | else if ( ta(I, A, J) )\n",
      "%   | | | | then return 4.33846043041414;  // std dev = 0,249, 40,000 (wgt'ed) examples reached here.  /* #pos=40 */\n",
      "%   | | | | else if ( tempadvisedby(K, B) )\n",
      "%   | | | | | then return -1.3018384146137594;  // std dev = 0,327, 20,000 (wgt'ed) examples reached here.  /* #neg=20 */\n",
      "%   | | | | | else return 1.1908147955791861;  // std dev = 42,077, 80,000 (wgt'ed) examples reached here.  /* #neg=50 #pos=30 */\n",
      "%   | | else if ( ta(L, A, M) )\n",
      "%   | | | then return 3.651362347439959;  // std dev = 2,032, 220,000 (wgt'ed) examples reached here.  /* #neg=10 #pos=210 */\n",
      "%   | | | else if ( publication(N, B), tempadvisedby(P, B), ta(Q, P, R) )\n",
      "%   | | | | then return 4.094124431778776;  // std dev = 0,399, 70,000 (wgt'ed) examples reached here.  /* #pos=70 */\n",
      "%   | | | | else return 2.8687572121188136;  // std dev = 3,632, 240,000 (wgt'ed) examples reached here.  /* #neg=40 #pos=200 */\n",
      "%   else return -0.9437262371086453;  // std dev = 0,000, 740,000 (wgt'ed) examples reached here.  /* #neg=740 */\n",
      "\n",
      "\n",
      "Results:\n",
      "{'Recall': 0.954545, 'Precision': [0.954545, 0.5], 'AUC PR': 0.909543, 'AUC ROC': 0.921488, 'CLL': -0.237773, 'F1': 0.954545}\n",
      "\n",
      "\n",
      "Total learning time: 14.532 seconds\n",
      "Total inference time: 0.469 seconds\n",
      "AUC ROC: 0.921488\n"
     ]
    }
   ],
   "source": [
    "# if it is using boosted trees\n",
    "# do inference with the combined one\n",
    "os.rename('boostsrl/train/models/bRDNs/Trees/'+ target +'Tree0.tree', 'boostsrl/train/models/bRDNs/Trees/'+ target +'Tree0_temp.tree')\n",
    "os.rename('boostsrl/train/models/bRDNs/Trees/CombinedTreesTreeFile'+ target +'.tree', 'boostsrl/train/models/bRDNs/Trees/'+ target +'Tree0.tree')\n",
    "results = boostsrl.test(model, test_pos, test_neg, facts, trees=1)\n",
    "inference_time = results.testtime()\n",
    "t_results = results.summarize_results()\n",
    "print('WILL-Produced Tree:')\n",
    "print_will_produced_tree(will)\n",
    "print('\\n')\n",
    "print('Results:')\n",
    "print(t_results)\n",
    "print('\\n')\n",
    "print('Total learning time: %s seconds' % learning_time)\n",
    "print('Total inference time: %s seconds' % inference_time)\n",
    "print('AUC ROC: %s' % t_results['AUC ROC'])"
   ]
  },
  {
   "cell_type": "markdown",
   "metadata": {},
   "source": [
    "## Performing parameter learning from previous Combined Tree"
   ]
  },
  {
   "cell_type": "code",
   "execution_count": 21,
   "metadata": {
    "collapsed": false
   },
   "outputs": [
    {
     "name": "stdout",
     "output_type": "stream",
     "text": [
      "WILL-Produced Tree:\n",
      "% FOR advisedby(A, B):\n",
      "%   if ( professor(B), student(A) )\n",
      "%   then if ( publication(C, A), publication(C, B) )\n",
      "%   | then return 0.805517356152143;  // std dev = 1,376, 38,000 (wgt'ed) examples reached here.  /* #neg=2 #pos=36 */\n",
      "%   | else if ( publication(D, A), publication(E, B) )\n",
      "%   | | then if ( tempadvisedby(F, B), ta(G, F, H) )\n",
      "%   | | | then return -0.14185106490048777;  // std dev = 0,000, 3,000 (wgt'ed) examples reached here.  /* #neg=3 */\n",
      "%   | | | else if ( ta(I, A, J) )\n",
      "%   | | | | then return 0.8581489350995122;  // std dev = 0,000, 4,000 (wgt'ed) examples reached here.  /* #pos=4 */\n",
      "%   | | | | else if ( tempadvisedby(K, B) )\n",
      "%   | | | | | then return -0.14185106490048777;  // std dev = 0,000, 2,000 (wgt'ed) examples reached here.  /* #neg=2 */\n",
      "%   | | | | | else return 0.23314893509951226;  // std dev = 1,369, 8,000 (wgt'ed) examples reached here.  /* #neg=5 #pos=3 */\n",
      "%   | | else if ( ta(L, A, M) )\n",
      "%   | | | then return 0.8126943896449667;  // std dev = 0,977, 22,000 (wgt'ed) examples reached here.  /* #neg=1 #pos=21 */\n",
      "%   | | | else if ( publication(N, B), tempadvisedby(P, B), ta(Q, P, R) )\n",
      "%   | | | | then return 0.8581489350995123;  // std dev = 0,000, 7,000 (wgt'ed) examples reached here.  /* #pos=7 */\n",
      "%   | | | | else return 0.6914822684328455;  // std dev = 1,826, 24,000 (wgt'ed) examples reached here.  /* #neg=4 #pos=20 */\n",
      "%   else return -0.14185106490048768;  // std dev = 6,50e-08, 74,000 (wgt'ed) examples reached here.  /* #neg=74 */\n",
      "\n",
      "\n",
      "Results:\n",
      "{'Recall': 0.0, 'Precision': [nan, 0.5], 'AUC PR': 0.855996, 'AUC ROC': 0.914256, 'CLL': -0.745233, 'F1': nan}\n",
      "\n",
      "\n",
      "Total learning time: 0.605 seconds\n",
      "Total inference time: 0.472 seconds\n",
      "AUC ROC: 0.914256\n"
     ]
    }
   ],
   "source": [
    "delete_model_files()\n",
    "model = boostsrl.train(background, train_pos, train_neg, facts, refine=get_refine_file(structured), trees=1)\n",
    "learning_time = model.traintime()\n",
    "will = model.get_will_produced_tree()\n",
    "structured = model.get_structured_tree().copy()\n",
    "# if it is using boosted trees\n",
    "# do inference with the combined one\n",
    "#if trees > 1:\n",
    "#    os.rename('boostsrl/train/models/bRDNs/Trees/'+ target +'Tree0.tree', 'boostsrl/train/models/bRDNs/Trees/'+ target +'Tree0_temp.tree')\n",
    "#    os.rename('boostsrl/train/models/bRDNs/Trees/CombinedTreesTreeFile'+ target +'.tree', 'boostsrl/train/models/bRDNs/Trees/'+ target +'Tree0.tree')\n",
    "results = boostsrl.test(model, test_pos, test_neg, facts, trees=1)\n",
    "inference_time = results.testtime()\n",
    "t_results = results.summarize_results()\n",
    "print('WILL-Produced Tree:')\n",
    "print_will_produced_tree(will)\n",
    "print('\\n')\n",
    "print('Results:')\n",
    "print(t_results)\n",
    "print('\\n')\n",
    "print('Total learning time: %s seconds' % learning_time)\n",
    "print('Total inference time: %s seconds' % inference_time)\n",
    "print('AUC ROC: %s' % t_results['AUC ROC'])"
   ]
  },
  {
   "cell_type": "markdown",
   "metadata": {},
   "source": [
    "## Experiment (10 runs of 10-fold cross-validation)"
   ]
  },
  {
   "cell_type": "code",
   "execution_count": 35,
   "metadata": {
    "collapsed": false
   },
   "outputs": [
    {
     "name": "stdout",
     "output_type": "stream",
     "text": [
      "Run: 10, Fold: 10, 10_boosted_trees: 0.954545, combined: 0.92562, pl: 0.92562, time: 00:42:50"
     ]
    }
   ],
   "source": [
    "from sklearn.model_selection import KFold\n",
    "import numpy as np\n",
    "import sys\n",
    "import time\n",
    "\n",
    "inference_10boosted = []\n",
    "inference_combined = []\n",
    "inference_pl = []\n",
    "\n",
    "start = time.time()\n",
    "[facts, positives, negatives] = get_uwcse_dataset(target, acceptedPredicates=[\n",
    "'professor',\n",
    "'student',\n",
    "'advisedby',\n",
    "'tempadvisedby',\n",
    "'ta',\n",
    "'hasposition',\n",
    "'publication',\n",
    "'inphase',\n",
    "'courselevel',\n",
    "'yearsinprogram',\n",
    "'projectmember',\n",
    "])\n",
    "\n",
    "pos = list(positives)\n",
    "neg = list(negatives)\n",
    "\n",
    "for run in range(1,11):\n",
    "    # shuffle all examples\n",
    "    random.shuffle(pos)\n",
    "    random.shuffle(neg)\n",
    "    neg = neg[:len(pos)]\n",
    "\n",
    "    pos = np.array(pos)\n",
    "    neg = np.array(neg)\n",
    "\n",
    "    fold = 0\n",
    "    kf = KFold(n_splits=10)\n",
    "    for train_index, test_index in kf.split(pos):\n",
    "        train_pos, test_pos = pos[train_index], pos[test_index]\n",
    "        train_neg, test_neg = neg[train_index], neg[test_index]\n",
    "        fold += 1\n",
    "\n",
    "        # learning 10 boosted trees\n",
    "        delete_model_files()\n",
    "        model = boostsrl.train(background, train_pos, train_neg, facts, trees=10)\n",
    "        structured = model.get_structured_tree().copy()\n",
    "        results = boostsrl.test(model, test_pos, test_neg, facts, trees=10)\n",
    "        t_results = results.summarize_results()\n",
    "        inference_10boosted.append(t_results['AUC ROC'])\n",
    "\n",
    "        # do inference with the combined tree\n",
    "        os.rename('boostsrl/train/models/bRDNs/Trees/'+ target +'Tree0.tree', 'boostsrl/train/models/bRDNs/Trees/'+ target +'Tree0_temp.tree')\n",
    "        os.rename('boostsrl/train/models/bRDNs/Trees/CombinedTreesTreeFile'+ target +'.tree', 'boostsrl/train/models/bRDNs/Trees/'+ target +'Tree0.tree')\n",
    "        results = boostsrl.test(model, test_pos, test_neg, facts, trees=1)\n",
    "        t_results = results.summarize_results()\n",
    "        inference_combined.append(t_results['AUC ROC'])\n",
    "\n",
    "        # parameter learning\n",
    "        delete_model_files()\n",
    "        model = boostsrl.train(background, train_pos, train_neg, facts, refine=get_refine_file(structured), trees=1)\n",
    "        results = boostsrl.test(model, test_pos, test_neg, facts, trees=1)\n",
    "        t_results = results.summarize_results()\n",
    "        inference_pl.append(t_results['AUC ROC'])\n",
    "\n",
    "        sys.stdout.write('\\rRun: %s, Fold: %s, 10_boosted_trees: %s, combined: %s, pl: %s, time: %s' % (run, fold, inference_10boosted[-1], inference_combined[-1], inference_pl[-1], time.strftime('%H:%M:%S', time.gmtime(time.time()-start))))\n",
    "        sys.stdout.flush()"
   ]
  },
  {
   "cell_type": "code",
   "execution_count": 42,
   "metadata": {
    "collapsed": false
   },
   "outputs": [
    {
     "data": {
      "text/html": [
       "<div>\n",
       "<table border=\"1\" class=\"dataframe\">\n",
       "  <thead>\n",
       "    <tr style=\"text-align: right;\">\n",
       "      <th></th>\n",
       "      <th></th>\n",
       "      <th>AUC ROC</th>\n",
       "    </tr>\n",
       "  </thead>\n",
       "  <tbody>\n",
       "    <tr>\n",
       "      <th>0</th>\n",
       "      <td>10 boosted trees</td>\n",
       "      <td>0.95455213 +/- 0.0456</td>\n",
       "    </tr>\n",
       "    <tr>\n",
       "      <th>1</th>\n",
       "      <td>Combined 10 boosted trees</td>\n",
       "      <td>0.9153463299999999 +/- 0.0747</td>\n",
       "    </tr>\n",
       "    <tr>\n",
       "      <th>2</th>\n",
       "      <td>Parameter learning</td>\n",
       "      <td>0.91537445 +/- 0.0781</td>\n",
       "    </tr>\n",
       "  </tbody>\n",
       "</table>\n",
       "</div>"
      ],
      "text/plain": [
       "                                                    AUC ROC\n",
       "0           10 boosted trees          0.95455213 +/- 0.0456\n",
       "1  Combined 10 boosted trees  0.9153463299999999 +/- 0.0747\n",
       "2         Parameter learning          0.91537445 +/- 0.0781"
      ]
     },
     "execution_count": 42,
     "metadata": {},
     "output_type": "execute_result"
    }
   ],
   "source": [
    "import pandas as pd\n",
    "\n",
    "inference_10boosted = np.array(inference_10boosted)\n",
    "inference_combined = np.array(inference_combined)\n",
    "inference_pl = np.array(inference_pl)\n",
    "\n",
    "data = [['10 boosted trees', '%s +/- %.4f' % (inference_10boosted.mean(), inference_10boosted.std())],\n",
    "       ['Combined 10 boosted trees', '%s +/- %.4f' % (inference_combined.mean(), inference_combined.std())],\n",
    "       ['Parameter learning', '%s +/- %.4f' % (inference_pl.mean(), inference_pl.std())]]\n",
    "pd.DataFrame(data, columns=['', 'AUC ROC'])"
   ]
  },
  {
   "cell_type": "code",
   "execution_count": 40,
   "metadata": {
    "collapsed": false
   },
   "outputs": [
    {
     "data": {
      "text/plain": [
       "array([0.993056, 0.986111, 0.944444, 0.921488, 0.859504, 0.991736,\n",
       "       0.938017, 0.958678, 1.      , 0.991736, 0.878472, 1.      ,\n",
       "       1.      , 1.      , 0.975207, 0.909091, 0.88843 , 0.909091,\n",
       "       0.975207, 0.942149, 0.993056, 0.986111, 0.993056, 1.      ,\n",
       "       0.942149, 1.      , 0.921488, 0.966942, 0.892562, 0.966942,\n",
       "       0.923611, 0.989583, 0.909722, 0.933884, 0.966942, 1.      ,\n",
       "       1.      , 0.917355, 0.793388, 1.      , 0.875   , 0.916667,\n",
       "       0.9375  , 0.983471, 0.900826, 0.991736, 1.      , 0.991736,\n",
       "       1.      , 0.942149, 0.951389, 0.857639, 0.951389, 1.      ,\n",
       "       1.      , 0.834711, 0.966942, 0.85124 , 1.      , 0.942149,\n",
       "       0.895833, 0.965278, 0.958333, 1.      , 0.954545, 0.987603,\n",
       "       1.      , 0.966942, 0.88843 , 1.      , 0.916667, 0.986111,\n",
       "       0.951389, 0.942149, 0.904959, 0.983471, 1.      , 0.938017,\n",
       "       0.96281 , 1.      , 0.96875 , 1.      , 0.916667, 0.991736,\n",
       "       0.991736, 0.884298, 0.991736, 1.      , 0.971074, 0.938017,\n",
       "       0.920139, 0.965278, 0.965278, 0.921488, 0.979339, 0.975207,\n",
       "       1.      , 0.863636, 1.      , 0.954545])"
      ]
     },
     "execution_count": 40,
     "metadata": {},
     "output_type": "execute_result"
    }
   ],
   "source": [
    "inference_10boosted"
   ]
  },
  {
   "cell_type": "code",
   "execution_count": 43,
   "metadata": {
    "collapsed": false
   },
   "outputs": [
    {
     "data": {
      "text/plain": [
       "array([0.979167, 0.979167, 0.944444, 0.942149, 0.863636, 0.88843 ,\n",
       "       0.876033, 0.971074, 0.909091, 0.913223, 0.850694, 1.      ,\n",
       "       1.      , 1.      , 0.991736, 0.859504, 0.743802, 0.913223,\n",
       "       0.904959, 0.971074, 0.954861, 0.895833, 0.927083, 0.991736,\n",
       "       0.789256, 0.991736, 0.933884, 0.842975, 0.669421, 0.921488,\n",
       "       0.861111, 0.899306, 0.798611, 0.958678, 0.975207, 1.      ,\n",
       "       0.991736, 0.942149, 0.876033, 1.      , 0.829861, 0.951389,\n",
       "       0.736111, 0.971074, 0.801653, 0.917355, 1.      , 1.      ,\n",
       "       0.909091, 0.950413, 0.909722, 0.954861, 0.881944, 1.      ,\n",
       "       1.      , 0.867769, 0.913223, 0.880165, 0.917355, 0.96281 ,\n",
       "       0.784722, 0.895833, 0.979167, 0.909091, 0.979339, 0.966942,\n",
       "       1.      , 0.760331, 0.933884, 1.      , 0.90625 , 0.975694,\n",
       "       0.833333, 0.917355, 0.772727, 0.946281, 0.909091, 0.933884,\n",
       "       0.880165, 0.921488, 0.9375  , 1.      , 0.927083, 0.900826,\n",
       "       0.979339, 0.863636, 0.834711, 0.909091, 0.884298, 0.863636,\n",
       "       0.708333, 0.996528, 0.975694, 0.979339, 0.85124 , 0.979339,\n",
       "       1.      , 0.735537, 1.      , 0.92562 ])"
      ]
     },
     "execution_count": 43,
     "metadata": {},
     "output_type": "execute_result"
    }
   ],
   "source": [
    "inference_combined"
   ]
  },
  {
   "cell_type": "code",
   "execution_count": 44,
   "metadata": {
    "collapsed": false
   },
   "outputs": [
    {
     "data": {
      "text/plain": [
       "array([0.979167, 0.979167, 0.944444, 0.942149, 0.863636, 0.904959,\n",
       "       0.876033, 0.971074, 0.909091, 0.913223, 0.847222, 1.      ,\n",
       "       1.      , 1.      , 0.991736, 0.859504, 0.743802, 0.913223,\n",
       "       0.904959, 0.971074, 0.954861, 0.895833, 0.927083, 0.991736,\n",
       "       0.789256, 0.991736, 0.933884, 0.826446, 0.669421, 0.921488,\n",
       "       0.861111, 0.899306, 0.798611, 0.958678, 0.975207, 1.      ,\n",
       "       1.      , 0.942149, 0.710744, 1.      , 0.829861, 0.958333,\n",
       "       0.736111, 0.971074, 0.797521, 0.913223, 1.      , 1.      ,\n",
       "       0.909091, 0.950413, 0.909722, 0.954861, 0.881944, 1.      ,\n",
       "       1.      , 0.867769, 0.979339, 0.880165, 0.913223, 0.96281 ,\n",
       "       0.788194, 0.895833, 0.979167, 0.909091, 0.971074, 0.966942,\n",
       "       1.      , 0.760331, 0.933884, 1.      , 0.90625 , 0.975694,\n",
       "       0.833333, 0.917355, 0.772727, 0.946281, 0.909091, 0.933884,\n",
       "       0.880165, 0.96281 , 0.9375  , 1.      , 0.927083, 0.904959,\n",
       "       0.979339, 0.863636, 0.830579, 0.909091, 0.950413, 0.863636,\n",
       "       0.708333, 0.996528, 0.975694, 0.979339, 0.85124 , 0.979339,\n",
       "       1.      , 0.735537, 1.      , 0.92562 ])"
      ]
     },
     "execution_count": 44,
     "metadata": {},
     "output_type": "execute_result"
    }
   ],
   "source": [
    "inference_pl"
   ]
  },
  {
   "cell_type": "code",
   "execution_count": null,
   "metadata": {
    "collapsed": true
   },
   "outputs": [],
   "source": []
  }
 ],
 "metadata": {
  "anaconda-cloud": {},
  "kernelspec": {
   "display_name": "Python [conda root]",
   "language": "python",
   "name": "conda-root-py"
  },
  "language_info": {
   "codemirror_mode": {
    "name": "ipython",
    "version": 3
   },
   "file_extension": ".py",
   "mimetype": "text/x-python",
   "name": "python",
   "nbconvert_exporter": "python",
   "pygments_lexer": "ipython3",
   "version": "3.5.2"
  }
 },
 "nbformat": 4,
 "nbformat_minor": 1
}
