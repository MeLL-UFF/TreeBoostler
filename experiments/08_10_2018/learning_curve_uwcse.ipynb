{
 "cells": [
  {
   "cell_type": "code",
   "execution_count": 1,
   "metadata": {
    "collapsed": true
   },
   "outputs": [],
   "source": [
    "from datasets.get_datasets import *\n",
    "from revision import *\n",
    "from boostsrl import boostsrl\n",
    "import random\n",
    "from sklearn.model_selection import KFold\n",
    "import numpy as np"
   ]
  },
  {
   "cell_type": "code",
   "execution_count": 2,
   "metadata": {
    "collapsed": true
   },
   "outputs": [],
   "source": [
    "target = 'advisedby'\n",
    "validation_size = 0.1\n",
    "max_revision_iterations = 10"
   ]
  },
  {
   "cell_type": "code",
   "execution_count": 3,
   "metadata": {
    "collapsed": true
   },
   "outputs": [],
   "source": [
    "[facts, pos, neg] = get_uwcse_dataset(target, acceptedPredicates=[\n",
    "'professor',\n",
    "'student',\n",
    "'advisedby',\n",
    "'tempadvisedby',\n",
    "'ta',\n",
    "'hasposition',\n",
    "'publication',\n",
    "'inphase',\n",
    "'courselevel',\n",
    "'yearsinprogram',\n",
    "'projectmember',\n",
    "])"
   ]
  },
  {
   "cell_type": "code",
   "execution_count": 4,
   "metadata": {
    "collapsed": true
   },
   "outputs": [],
   "source": [
    "bk = ['professor(+person).',\n",
    "'student(+person).',\n",
    "'advisedby(+person,+person).',\n",
    "'advisedby(+person,-person).',\n",
    "'advisedby(-person,+person).',\n",
    "'tempadvisedby(+person,+person).',\n",
    "'tempadvisedby(+person,-person).',\n",
    "'tempadvisedby(-person,+person).',\n",
    "'ta(+course,+person,+quarter).',\n",
    "'ta(-course,+person,+quarter).',\n",
    "'ta(+course,-person,+quarter).',\n",
    "'ta(+course,+person,-quarter).',\n",
    "'ta(-course,+person,-quarter).',\n",
    "'ta(+course,-person,-quarter).',\n",
    "'hasposition(+person,+faculty).',\n",
    "'hasposition(+person,-faculty).',\n",
    "'hasposition(-person,+faculty).',\n",
    "'publication(+title,+person).',\n",
    "'publication(+title,-person).',\n",
    "'publication(-title,+person).',\n",
    "'inphase(+person,+prequals).',\n",
    "'inphase(+person,-prequals).',\n",
    "'inphase(-person,+prequals).',\n",
    "'courselevel(+course,+level).',\n",
    "'courselevel(+course,-level).',\n",
    "'courselevel(-course,+level).',\n",
    "'yearsinprogram(+person,+year).',\n",
    "'yearsinprogram(-person,+year).',\n",
    "'yearsinprogram(+person,-year).',\n",
    "'projectmember(+project,+person).',\n",
    "'projectmember(+project,-person).',\n",
    "'projectmember(-project,+person).']\n",
    "#'sameproject(project, project).',\n",
    "#'samecourse(course, course).',\n",
    "#'sameperson(person, person).',]\n",
    "\n",
    "background = boostsrl.modes(bk, [target], useStdLogicVariables=False, treeDepth=8, nodeSize=3, numOfClauses=8)"
   ]
  },
  {
   "cell_type": "code",
   "execution_count": 80,
   "metadata": {
    "collapsed": false
   },
   "outputs": [
    {
     "name": "stdout",
     "output_type": "stream",
     "text": [
      "Fold: 10, small_train_size: 1.0, revision_threshold: 1.0, time: 00:32:45"
     ]
    }
   ],
   "source": [
    "import sys\n",
    "import time\n",
    "\n",
    "# shuffle all examples\n",
    "random.shuffle(pos)\n",
    "random.shuffle(neg)\n",
    "\n",
    "neg = neg[:len(pos)] # balanced\n",
    "\n",
    "import numpy as np\n",
    "pos = np.array(pos)\n",
    "neg = np.array(neg)\n",
    "\n",
    "small_dataset_aucroc = {}\n",
    "complete_dataset_aucroc = []\n",
    "revision_dataset_aucroc = {}\n",
    "\n",
    "revisions = 6\n",
    "smalls = 4\n",
    "\n",
    "for small_train_size in np.linspace(0.25, 1.0, num=smalls):\n",
    "    small_dataset_aucroc[str(small_train_size)] = []\n",
    "    revision_dataset_aucroc[str(small_train_size)] = {}\n",
    "    for revision_threshold in np.linspace(0.5, 1.0, num=revisions):\n",
    "        revision_dataset_aucroc[str(small_train_size)][str(revision_threshold)] = []\n",
    "\n",
    "start = time.time()\n",
    "# separate train and test\n",
    "kf = KFold(n_splits=10)\n",
    "fold = 0\n",
    "for train_index, test_index in kf.split(pos):\n",
    "    train_pos, test_pos = pos[train_index], pos[test_index]\n",
    "    train_neg, test_neg = neg[train_index], neg[test_index]\n",
    "    fold += 1\n",
    "    \n",
    "    # shuffle all train examples\n",
    "    random.shuffle(train_pos)\n",
    "    random.shuffle(train_neg)\n",
    "        \n",
    "    # train set used in revision and validation set\n",
    "    r_train_pos = train_pos[int(validation_size*len(train_pos)):]\n",
    "    r_train_neg = train_neg[int(validation_size*len(train_neg)):]\n",
    "    validation_pos = train_pos[:int(validation_size*len(train_pos))]\n",
    "    validation_neg = train_neg[:int(validation_size*len(train_neg))]\n",
    "    \n",
    "    '''print('New fold')\n",
    "    print('train_pos: '+str(len(train_pos)))\n",
    "    print('test_pos: '+str(len(test_pos)))\n",
    "    print('r_train_pos: '+str(len(r_train_pos)))\n",
    "    print('validation_pos: '+str(len(validation_pos)))\n",
    "    print('\\n')'''\n",
    "\n",
    "    # learning from complete dataset\n",
    "    #[model, learning_time, inference_time, t_results, structured] = learn_test_model(background, boostsrl, target, r_train_pos, r_train_neg, facts, test_pos, test_neg, trees=1, verbose=False)\n",
    "    #complete_dataset_aucroc.append(t_results['AUC ROC'])\n",
    "\n",
    "    for small_train_size in np.linspace(0.25, 1.0, num=smalls): #num=4):\n",
    "        # learn from scratch in a small dataset\n",
    "        s_train_pos = r_train_pos[:int(small_train_size*len(r_train_pos))]\n",
    "        s_train_neg = r_train_neg[:int(small_train_size*len(r_train_neg))]\n",
    "        \n",
    "        '''print('New small dataset')\n",
    "        print('s_train_pos: '+str(len(s_train_pos)))\n",
    "        print(s_train_pos)\n",
    "        print('\\n')'''\n",
    "\n",
    "        # learning from small dataset\n",
    "        [model, learning_time, inference_time, t_results, small_structured] = learn_test_model(background, boostsrl, target, s_train_pos, s_train_neg, facts, test_pos, test_neg, trees=1, verbose=False)\n",
    "        small_dataset_aucroc[str(small_train_size)].append(t_results['AUC ROC'])\n",
    "\n",
    "        for revision_threshold in np.linspace(0.5, 1.0, num=revisions):\n",
    "            # theory revision\n",
    "            [model, total_revision_time, inference_time, t_results, structured] = theory_revision(background, boostsrl, target, r_train_pos, r_train_neg, facts, validation_pos, validation_neg, test_pos, test_neg, revision_threshold, small_structured.copy(), max_revision_iterations=10, verbose=False)\n",
    "            revision_dataset_aucroc[str(small_train_size)][str(revision_threshold)].append(t_results['AUC ROC'])\n",
    "            #print('aaa')\n",
    "            sys.stdout.write('\\rFold: %s, small_train_size: %s, revision_threshold: %s, time: %s' % (fold, small_train_size, revision_threshold, time.strftime('%H:%M:%S', time.gmtime(time.time()-start))))\n",
    "            sys.stdout.flush()"
   ]
  },
  {
   "cell_type": "code",
   "execution_count": 81,
   "metadata": {
    "collapsed": true
   },
   "outputs": [],
   "source": [
    "#import json\n",
    "#file = open('curve.json', 'w')\n",
    "#file.write(json.dumps([small_dataset_aucroc, complete_dataset_aucroc, revision_dataset_aucroc]))\n",
    "#file.close()"
   ]
  },
  {
   "cell_type": "markdown",
   "metadata": {},
   "source": [
    "## Learning 1 tree\n",
    "## Revision thresholds = [0.5, 0.6, 0.7, 0.8, 0.9, 1.0]\n",
    "## Target: advisedby"
   ]
  },
  {
   "cell_type": "code",
   "execution_count": 83,
   "metadata": {
    "collapsed": false
   },
   "outputs": [
    {
     "data": {
      "image/png": "[encoded data removed]",
      "text/plain": [
       "<matplotlib.figure.Figure at 0x7fdaae872240>"
      ]
     },
     "metadata": {},
     "output_type": "display_data"
    }
   ],
   "source": [
    "import matplotlib.pyplot as plt\n",
    "colors = {'0.25': 'blue', '0.5': 'red', '0.75': 'green', '1.0': 'purple'}\n",
    "for small_train_size in np.linspace(0.25, 1.0, num=smalls):\n",
    "    x = []\n",
    "    y = []\n",
    "    base = np.array(small_dataset_aucroc[str(small_train_size)])\n",
    "    base = base.mean()\n",
    "    base = revisions * [base]\n",
    "    for revision_threshold in np.linspace(0.5, 1.0, num=revisions):\n",
    "        x.append(revision_threshold)\n",
    "        v = revision_dataset_aucroc[str(small_train_size)][str(revision_threshold)]\n",
    "        v = np.array(v)\n",
    "        y.append(v.mean())\n",
    "    plt.plot(x, y, label=str(small_train_size), color=colors[str(small_train_size)])\n",
    "    plt.plot(x, base, linestyle=':', color=colors[str(small_train_size)])\n",
    "plt.xlim(0.3,1.0)\n",
    "plt.legend(loc='upper left')\n",
    "plt.show()"
   ]
  },
  {
   "cell_type": "code",
   "execution_count": 84,
   "metadata": {
    "collapsed": false
   },
   "outputs": [
    {
     "name": "stdout",
     "output_type": "stream",
     "text": [
      "Fold: 10, small_train_size: 1.0, revision_threshold: 1.0, time: 00:51:27"
     ]
    }
   ],
   "source": [
    "import sys\n",
    "import time\n",
    "\n",
    "# shuffle all examples\n",
    "random.shuffle(pos)\n",
    "random.shuffle(neg)\n",
    "\n",
    "neg = neg[:len(pos)] # balanced\n",
    "\n",
    "import numpy as np\n",
    "pos = np.array(pos)\n",
    "neg = np.array(neg)\n",
    "\n",
    "small_dataset_aucroc = {}\n",
    "complete_dataset_aucroc = []\n",
    "revision_dataset_aucroc = {}\n",
    "\n",
    "revisions = 11\n",
    "smalls = 4\n",
    "\n",
    "for small_train_size in np.linspace(0.25, 1.0, num=smalls):\n",
    "    small_dataset_aucroc[str(small_train_size)] = []\n",
    "    revision_dataset_aucroc[str(small_train_size)] = {}\n",
    "    for revision_threshold in np.linspace(0.5, 1.0, num=revisions):\n",
    "        revision_dataset_aucroc[str(small_train_size)][str(revision_threshold)] = []\n",
    "\n",
    "start = time.time()\n",
    "# separate train and test\n",
    "kf = KFold(n_splits=10)\n",
    "fold = 0\n",
    "for train_index, test_index in kf.split(pos):\n",
    "    train_pos, test_pos = pos[train_index], pos[test_index]\n",
    "    train_neg, test_neg = neg[train_index], neg[test_index]\n",
    "    fold += 1\n",
    "    \n",
    "    # shuffle all train examples\n",
    "    random.shuffle(train_pos)\n",
    "    random.shuffle(train_neg)\n",
    "        \n",
    "    # train set used in revision and validation set\n",
    "    r_train_pos = train_pos[int(validation_size*len(train_pos)):]\n",
    "    r_train_neg = train_neg[int(validation_size*len(train_neg)):]\n",
    "    validation_pos = train_pos[:int(validation_size*len(train_pos))]\n",
    "    validation_neg = train_neg[:int(validation_size*len(train_neg))]\n",
    "    \n",
    "    '''print('New fold')\n",
    "    print('train_pos: '+str(len(train_pos)))\n",
    "    print('test_pos: '+str(len(test_pos)))\n",
    "    print('r_train_pos: '+str(len(r_train_pos)))\n",
    "    print('validation_pos: '+str(len(validation_pos)))\n",
    "    print('\\n')'''\n",
    "\n",
    "    # learning from complete dataset\n",
    "    #[model, learning_time, inference_time, t_results, structured] = learn_test_model(background, boostsrl, target, r_train_pos, r_train_neg, facts, test_pos, test_neg, trees=1, verbose=False)\n",
    "    #complete_dataset_aucroc.append(t_results['AUC ROC'])\n",
    "\n",
    "    for small_train_size in np.linspace(0.25, 1.0, num=smalls): #num=4):\n",
    "        # learn from scratch in a small dataset\n",
    "        s_train_pos = r_train_pos[:int(small_train_size*len(r_train_pos))]\n",
    "        s_train_neg = r_train_neg[:int(small_train_size*len(r_train_neg))]\n",
    "        \n",
    "        '''print('New small dataset')\n",
    "        print('s_train_pos: '+str(len(s_train_pos)))\n",
    "        print(s_train_pos)\n",
    "        print('\\n')'''\n",
    "\n",
    "        # learning from small dataset\n",
    "        [model, learning_time, inference_time, t_results, small_structured] = learn_test_model(background, boostsrl, target, s_train_pos, s_train_neg, facts, test_pos, test_neg, trees=1, verbose=False)\n",
    "        small_dataset_aucroc[str(small_train_size)].append(t_results['AUC ROC'])\n",
    "\n",
    "        for revision_threshold in np.linspace(0.5, 1.0, num=revisions):\n",
    "            # theory revision\n",
    "            [model, total_revision_time, inference_time, t_results, structured] = theory_revision(background, boostsrl, target, r_train_pos, r_train_neg, facts, validation_pos, validation_neg, test_pos, test_neg, revision_threshold, small_structured.copy(), max_revision_iterations=10, verbose=False)\n",
    "            revision_dataset_aucroc[str(small_train_size)][str(revision_threshold)].append(t_results['AUC ROC'])\n",
    "            #print('aaa')\n",
    "            sys.stdout.write('\\rFold: %s, small_train_size: %s, revision_threshold: %s, time: %s' % (fold, small_train_size, revision_threshold, time.strftime('%H:%M:%S', time.gmtime(time.time()-start))))\n",
    "            sys.stdout.flush()"
   ]
  },
  {
   "cell_type": "markdown",
   "metadata": {},
   "source": [
    "## Learning 1 tree\n",
    "## Revision thresholds = [0.5,0.55,0.6...,1.0]\n",
    "## Target: advisedby"
   ]
  },
  {
   "cell_type": "code",
   "execution_count": 85,
   "metadata": {
    "collapsed": false
   },
   "outputs": [
    {
     "data": {
      "image/png": "[encoded data removed]",
      "text/plain": [
       "<matplotlib.figure.Figure at 0x7fdaaaf7f7b8>"
      ]
     },
     "metadata": {},
     "output_type": "display_data"
    }
   ],
   "source": [
    "import matplotlib.pyplot as plt\n",
    "colors = {'0.25': 'blue', '0.5': 'red', '0.75': 'green', '1.0': 'purple'}\n",
    "for small_train_size in np.linspace(0.25, 1.0, num=smalls):\n",
    "    x = []\n",
    "    y = []\n",
    "    base = np.array(small_dataset_aucroc[str(small_train_size)])\n",
    "    base = base.mean()\n",
    "    base = revisions * [base]\n",
    "    for revision_threshold in np.linspace(0.5, 1.0, num=revisions):\n",
    "        x.append(revision_threshold)\n",
    "        v = revision_dataset_aucroc[str(small_train_size)][str(revision_threshold)]\n",
    "        v = np.array(v)\n",
    "        y.append(v.mean())\n",
    "    plt.plot(x, y, label=str(small_train_size), color=colors[str(small_train_size)])\n",
    "    plt.plot(x, base, linestyle=':', color=colors[str(small_train_size)])\n",
    "plt.xlim(0.3,1.0)\n",
    "plt.legend(loc='upper left')\n",
    "plt.show()"
   ]
  },
  {
   "cell_type": "code",
   "execution_count": 99,
   "metadata": {
    "collapsed": false
   },
   "outputs": [
    {
     "name": "stdout",
     "output_type": "stream",
     "text": [
      "Fold: 10, small_train_size: 1.0, revision_threshold: 1.0, time: 00:40:35"
     ]
    }
   ],
   "source": [
    "import sys\n",
    "import time\n",
    "\n",
    "# shuffle all examples\n",
    "random.shuffle(pos)\n",
    "random.shuffle(neg)\n",
    "\n",
    "neg = neg[:len(pos)] # balanced\n",
    "\n",
    "import numpy as np\n",
    "pos = np.array(pos)\n",
    "neg = np.array(neg)\n",
    "\n",
    "small_dataset_aucroc = {}\n",
    "small_dataset_aucpr = {}\n",
    "revision_dataset_aucroc = {}\n",
    "revision_dataset_aucpr = {}\n",
    "\n",
    "revisions = 6\n",
    "smalls = 4\n",
    "\n",
    "for small_train_size in np.linspace(0.25, 1.0, num=smalls):\n",
    "    small_dataset_aucroc[str(small_train_size)] = []\n",
    "    small_dataset_aucpr[str(small_train_size)] = []\n",
    "    revision_dataset_aucroc[str(small_train_size)] = {}\n",
    "    revision_dataset_aucpr[str(small_train_size)] = {}\n",
    "    for revision_threshold in np.linspace(0.5, 1.0, num=revisions):\n",
    "        revision_dataset_aucroc[str(small_train_size)][str(revision_threshold)] = []\n",
    "        revision_dataset_aucpr[str(small_train_size)][str(revision_threshold)] = []\n",
    "\n",
    "start = time.time()\n",
    "# separate train and test\n",
    "kf = KFold(n_splits=10)\n",
    "fold = 0\n",
    "for train_index, test_index in kf.split(pos):\n",
    "    train_pos, test_pos = pos[train_index], pos[test_index]\n",
    "    train_neg, test_neg = neg[train_index], neg[test_index]\n",
    "    fold += 1\n",
    "    \n",
    "    # shuffle all train examples\n",
    "    random.shuffle(train_pos)\n",
    "    random.shuffle(train_neg)\n",
    "        \n",
    "    # train set used in revision and validation set\n",
    "    r_train_pos = train_pos[int(validation_size*len(train_pos)):]\n",
    "    r_train_neg = train_neg[int(validation_size*len(train_neg)):]\n",
    "    validation_pos = train_pos[:int(validation_size*len(train_pos))]\n",
    "    validation_neg = train_neg[:int(validation_size*len(train_neg))]\n",
    "    \n",
    "    '''print('New fold')\n",
    "    print('train_pos: '+str(len(train_pos)))\n",
    "    print('test_pos: '+str(len(test_pos)))\n",
    "    print('r_train_pos: '+str(len(r_train_pos)))\n",
    "    print('validation_pos: '+str(len(validation_pos)))\n",
    "    print('\\n')'''\n",
    "\n",
    "    # learning from complete dataset\n",
    "    #[model, learning_time, inference_time, t_results, structured] = learn_test_model(background, boostsrl, target, r_train_pos, r_train_neg, facts, test_pos, test_neg, trees=1, verbose=False)\n",
    "    #complete_dataset_aucroc.append(t_results['AUC ROC'])\n",
    "\n",
    "    for small_train_size in np.linspace(0.25, 1.0, num=smalls): #num=4):\n",
    "        # learn from scratch in a small dataset\n",
    "        s_train_pos = r_train_pos[:int(small_train_size*len(r_train_pos))]\n",
    "        s_train_neg = r_train_neg[:int(small_train_size*len(r_train_neg))]\n",
    "        \n",
    "        '''print('New small dataset')\n",
    "        print('s_train_pos: '+str(len(s_train_pos)))\n",
    "        print(s_train_pos)\n",
    "        print('\\n')'''\n",
    "\n",
    "        # learning from small dataset\n",
    "        [model, learning_time, inference_time, t_results, small_structured] = learn_test_model(background, boostsrl, target, s_train_pos, s_train_neg, facts, test_pos, test_neg, trees=10, verbose=False)\n",
    "        small_dataset_aucroc[str(small_train_size)].append(t_results['AUC ROC'])\n",
    "        small_dataset_aucpr[str(small_train_size)].append(t_results['AUC PR'])\n",
    "\n",
    "        for revision_threshold in np.linspace(0.5, 1.0, num=revisions):\n",
    "            # theory revision\n",
    "            [model, total_revision_time, inference_time, t_results, structured] = theory_revision(background, boostsrl, target, r_train_pos, r_train_neg, facts, validation_pos, validation_neg, test_pos, test_neg, revision_threshold, small_structured.copy(), max_revision_iterations=10, verbose=False)\n",
    "            revision_dataset_aucroc[str(small_train_size)][str(revision_threshold)].append(t_results['AUC ROC'])\n",
    "            revision_dataset_aucpr[str(small_train_size)][str(revision_threshold)].append(t_results['AUC PR'])\n",
    "            #print('aaa')\n",
    "            sys.stdout.write('\\rFold: %s, small_train_size: %s, revision_threshold: %s, time: %s' % (fold, small_train_size, revision_threshold, time.strftime('%H:%M:%S', time.gmtime(time.time()-start))))\n",
    "            sys.stdout.flush()"
   ]
  },
  {
   "cell_type": "markdown",
   "metadata": {},
   "source": [
    "## Learning 10 boosted trees\n",
    "## Revision threshold = 0.5,0.6,...,1.0\n",
    "## target: advisedby"
   ]
  },
  {
   "cell_type": "code",
   "execution_count": 100,
   "metadata": {
    "collapsed": false
   },
   "outputs": [
    {
     "data": {
      "image/png": "[encoded data removed]",
      "text/plain": [
       "<matplotlib.figure.Figure at 0x7fdaaaf878d0>"
      ]
     },
     "metadata": {},
     "output_type": "display_data"
    },
    {
     "data": {
      "image/png": "[encoded data removed]",
      "text/plain": [
       "<matplotlib.figure.Figure at 0x7fdaab019d68>"
      ]
     },
     "metadata": {},
     "output_type": "display_data"
    }
   ],
   "source": [
    "import matplotlib.pyplot as plt\n",
    "colors = {'0.25': 'blue', '0.5': 'red', '0.75': 'green', '1.0': 'purple'}\n",
    "for small_train_size in np.linspace(0.25, 1.0, num=smalls):\n",
    "    x = []\n",
    "    y = []\n",
    "    base = np.array(small_dataset_aucroc[str(small_train_size)])\n",
    "    base = base.mean()\n",
    "    base = revisions * [base]\n",
    "    for revision_threshold in np.linspace(0.5, 1.0, num=revisions):\n",
    "        x.append(revision_threshold)\n",
    "        v = revision_dataset_aucroc[str(small_train_size)][str(revision_threshold)]\n",
    "        v = np.array(v)\n",
    "        y.append(v.mean())\n",
    "    plt.plot(x, y, label=str(small_train_size), color=colors[str(small_train_size)])\n",
    "    plt.plot(x, base, linestyle=':', color=colors[str(small_train_size)])\n",
    "plt.xlim(0.3,1.0)\n",
    "plt.xlabel('Revision threshold')\n",
    "plt.ylabel('AUC ROC')\n",
    "plt.legend(loc='upper left')\n",
    "plt.show()\n",
    "\n",
    "for small_train_size in np.linspace(0.25, 1.0, num=smalls):\n",
    "    x = []\n",
    "    y = []\n",
    "    base = np.array(small_dataset_aucpr[str(small_train_size)])\n",
    "    base = base.mean()\n",
    "    base = revisions * [base]\n",
    "    for revision_threshold in np.linspace(0.5, 1.0, num=revisions):\n",
    "        x.append(revision_threshold)\n",
    "        v = revision_dataset_aucpr[str(small_train_size)][str(revision_threshold)]\n",
    "        v = np.array(v)\n",
    "        y.append(v.mean())\n",
    "    plt.plot(x, y, label=str(small_train_size), color=colors[str(small_train_size)])\n",
    "    plt.plot(x, base, linestyle=':', color=colors[str(small_train_size)])\n",
    "plt.xlim(0.3,1.0)\n",
    "plt.xlabel('Revision threshold')\n",
    "plt.ylabel('AUC PR')\n",
    "plt.legend(loc='upper left')\n",
    "plt.show()"
   ]
  },
  {
   "cell_type": "code",
   "execution_count": null,
   "metadata": {
    "collapsed": true
   },
   "outputs": [],
   "source": []
  }
 ],
 "metadata": {
  "anaconda-cloud": {},
  "kernelspec": {
   "display_name": "Python [conda root]",
   "language": "python",
   "name": "conda-root-py"
  },
  "language_info": {
   "codemirror_mode": {
    "name": "ipython",
    "version": 3
   },
   "file_extension": ".py",
   "mimetype": "text/x-python",
   "name": "python",
   "nbconvert_exporter": "python",
   "pygments_lexer": "ipython3",
   "version": "3.5.2"
  }
 },
 "nbformat": 4,
 "nbformat_minor": 1
}
