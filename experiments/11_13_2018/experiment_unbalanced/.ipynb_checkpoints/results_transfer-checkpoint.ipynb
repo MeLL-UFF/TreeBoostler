{
 "cells": [
  {
   "cell_type": "code",
   "execution_count": 1,
   "metadata": {
    "collapsed": true
   },
   "outputs": [],
   "source": [
    "import matplotlib.pyplot as plt\n",
    "from IPython.display import display, Markdown, Latex\n",
    "import numpy as np\n",
    "import json\n",
    "import pandas as pd\n",
    "\n",
    "with open('transfer_experiment.json', 'r') as fp:\n",
    "    data = json.load(fp)"
   ]
  },
  {
   "cell_type": "code",
   "execution_count": 2,
   "metadata": {
    "collapsed": false
   },
   "outputs": [
    {
     "data": {
      "text/markdown": [
       "# Results for AUC ROC"
      ],
      "text/plain": [
       "<IPython.core.display.Markdown object>"
      ]
     },
     "metadata": {},
     "output_type": "display_data"
    },
    {
     "data": {
      "text/html": [
       "<div>\n",
       "<table border=\"1\" class=\"dataframe\">\n",
       "  <thead>\n",
       "    <tr style=\"text-align: right;\">\n",
       "      <th></th>\n",
       "      <th>Experiment</th>\n",
       "      <th>Transfer Learning</th>\n",
       "      <th>Transfer Learning with Revision Theory</th>\n",
       "      <th>Learning from scratch</th>\n",
       "    </tr>\n",
       "  </thead>\n",
       "  <tbody>\n",
       "    <tr>\n",
       "      <th>0</th>\n",
       "      <td>imdb-&gt;uwcse(advisedby)</td>\n",
       "      <td>0.936 +/- 0.003</td>\n",
       "      <td>0.950 +/- 0.013</td>\n",
       "      <td>0.941 +/- 0.040</td>\n",
       "    </tr>\n",
       "    <tr>\n",
       "      <th>1</th>\n",
       "      <td>uwcse-&gt;imdb(workedunder)</td>\n",
       "      <td>0.984 +/- 0.102</td>\n",
       "      <td>1.000 +/- 0.000</td>\n",
       "      <td>1.000 +/- 0.003</td>\n",
       "    </tr>\n",
       "    <tr>\n",
       "      <th>2</th>\n",
       "      <td>imdb-&gt;cora(samevenue)</td>\n",
       "      <td>0.527 +/- 0.082</td>\n",
       "      <td>0.532 +/- 0.079</td>\n",
       "      <td>0.533 +/- 0.073</td>\n",
       "    </tr>\n",
       "    <tr>\n",
       "      <th>3</th>\n",
       "      <td>cora-&gt;imdb(workedunder)</td>\n",
       "      <td>0.913 +/- 0.056</td>\n",
       "      <td>0.999 +/- 0.005</td>\n",
       "      <td>1.000 +/- 0.002</td>\n",
       "    </tr>\n",
       "  </tbody>\n",
       "</table>\n",
       "</div>"
      ],
      "text/plain": [
       "                 Experiment Transfer Learning  \\\n",
       "0    imdb->uwcse(advisedby)   0.936 +/- 0.003   \n",
       "1  uwcse->imdb(workedunder)   0.984 +/- 0.102   \n",
       "2     imdb->cora(samevenue)   0.527 +/- 0.082   \n",
       "3   cora->imdb(workedunder)   0.913 +/- 0.056   \n",
       "\n",
       "  Transfer Learning with Revision Theory Learning from scratch  \n",
       "0                        0.950 +/- 0.013       0.941 +/- 0.040  \n",
       "1                        1.000 +/- 0.000       1.000 +/- 0.003  \n",
       "2                        0.532 +/- 0.079       0.533 +/- 0.073  \n",
       "3                        0.999 +/- 0.005       1.000 +/- 0.002  "
      ]
     },
     "metadata": {},
     "output_type": "display_data"
    },
    {
     "data": {
      "text/markdown": [
       "# Results for AUC PR"
      ],
      "text/plain": [
       "<IPython.core.display.Markdown object>"
      ]
     },
     "metadata": {},
     "output_type": "display_data"
    },
    {
     "data": {
      "text/html": [
       "<div>\n",
       "<table border=\"1\" class=\"dataframe\">\n",
       "  <thead>\n",
       "    <tr style=\"text-align: right;\">\n",
       "      <th></th>\n",
       "      <th>Experiment</th>\n",
       "      <th>Transfer Learning</th>\n",
       "      <th>Transfer Learning with Revision Theory</th>\n",
       "      <th>Learning from scratch</th>\n",
       "    </tr>\n",
       "  </thead>\n",
       "  <tbody>\n",
       "    <tr>\n",
       "      <th>0</th>\n",
       "      <td>imdb-&gt;uwcse(advisedby)</td>\n",
       "      <td>0.336 +/- 0.053</td>\n",
       "      <td>0.370 +/- 0.124</td>\n",
       "      <td>0.310 +/- 0.233</td>\n",
       "    </tr>\n",
       "    <tr>\n",
       "      <th>1</th>\n",
       "      <td>uwcse-&gt;imdb(workedunder)</td>\n",
       "      <td>0.939 +/- 0.319</td>\n",
       "      <td>1.000 +/- 0.000</td>\n",
       "      <td>0.986 +/- 0.141</td>\n",
       "    </tr>\n",
       "    <tr>\n",
       "      <th>2</th>\n",
       "      <td>imdb-&gt;cora(samevenue)</td>\n",
       "      <td>0.390 +/- 0.129</td>\n",
       "      <td>0.401 +/- 0.127</td>\n",
       "      <td>0.400 +/- 0.127</td>\n",
       "    </tr>\n",
       "    <tr>\n",
       "      <th>3</th>\n",
       "      <td>cora-&gt;imdb(workedunder)</td>\n",
       "      <td>0.403 +/- 0.416</td>\n",
       "      <td>0.978 +/- 0.063</td>\n",
       "      <td>0.990 +/- 0.101</td>\n",
       "    </tr>\n",
       "  </tbody>\n",
       "</table>\n",
       "</div>"
      ],
      "text/plain": [
       "                 Experiment Transfer Learning  \\\n",
       "0    imdb->uwcse(advisedby)   0.336 +/- 0.053   \n",
       "1  uwcse->imdb(workedunder)   0.939 +/- 0.319   \n",
       "2     imdb->cora(samevenue)   0.390 +/- 0.129   \n",
       "3   cora->imdb(workedunder)   0.403 +/- 0.416   \n",
       "\n",
       "  Transfer Learning with Revision Theory Learning from scratch  \n",
       "0                        0.370 +/- 0.124       0.310 +/- 0.233  \n",
       "1                        1.000 +/- 0.000       0.986 +/- 0.141  \n",
       "2                        0.401 +/- 0.127       0.400 +/- 0.127  \n",
       "3                        0.978 +/- 0.063       0.990 +/- 0.101  "
      ]
     },
     "metadata": {},
     "output_type": "display_data"
    },
    {
     "data": {
      "text/markdown": [
       "# Results for CLL"
      ],
      "text/plain": [
       "<IPython.core.display.Markdown object>"
      ]
     },
     "metadata": {},
     "output_type": "display_data"
    },
    {
     "data": {
      "text/html": [
       "<div>\n",
       "<table border=\"1\" class=\"dataframe\">\n",
       "  <thead>\n",
       "    <tr style=\"text-align: right;\">\n",
       "      <th></th>\n",
       "      <th>Experiment</th>\n",
       "      <th>Transfer Learning</th>\n",
       "      <th>Transfer Learning with Revision Theory</th>\n",
       "      <th>Learning from scratch</th>\n",
       "    </tr>\n",
       "  </thead>\n",
       "  <tbody>\n",
       "    <tr>\n",
       "      <th>0</th>\n",
       "      <td>imdb-&gt;uwcse(advisedby)</td>\n",
       "      <td>-0.264 +/- 0.107</td>\n",
       "      <td>-0.255 +/- 0.097</td>\n",
       "      <td>-0.265 +/- 0.116</td>\n",
       "    </tr>\n",
       "    <tr>\n",
       "      <th>1</th>\n",
       "      <td>uwcse-&gt;imdb(workedunder)</td>\n",
       "      <td>-0.096 +/- 0.112</td>\n",
       "      <td>-0.068 +/- 0.007</td>\n",
       "      <td>-0.073 +/- 0.016</td>\n",
       "    </tr>\n",
       "    <tr>\n",
       "      <th>2</th>\n",
       "      <td>imdb-&gt;cora(samevenue)</td>\n",
       "      <td>-0.696 +/- 0.081</td>\n",
       "      <td>-0.697 +/- 0.082</td>\n",
       "      <td>-0.697 +/- 0.081</td>\n",
       "    </tr>\n",
       "    <tr>\n",
       "      <th>3</th>\n",
       "      <td>cora-&gt;imdb(workedunder)</td>\n",
       "      <td>-0.187 +/- 0.055</td>\n",
       "      <td>-0.079 +/- 0.015</td>\n",
       "      <td>-0.073 +/- 0.020</td>\n",
       "    </tr>\n",
       "  </tbody>\n",
       "</table>\n",
       "</div>"
      ],
      "text/plain": [
       "                 Experiment Transfer Learning  \\\n",
       "0    imdb->uwcse(advisedby)  -0.264 +/- 0.107   \n",
       "1  uwcse->imdb(workedunder)  -0.096 +/- 0.112   \n",
       "2     imdb->cora(samevenue)  -0.696 +/- 0.081   \n",
       "3   cora->imdb(workedunder)  -0.187 +/- 0.055   \n",
       "\n",
       "  Transfer Learning with Revision Theory Learning from scratch  \n",
       "0                       -0.255 +/- 0.097      -0.265 +/- 0.116  \n",
       "1                       -0.068 +/- 0.007      -0.073 +/- 0.016  \n",
       "2                       -0.697 +/- 0.082      -0.697 +/- 0.081  \n",
       "3                       -0.079 +/- 0.015      -0.073 +/- 0.020  "
      ]
     },
     "metadata": {},
     "output_type": "display_data"
    },
    {
     "data": {
      "text/markdown": [
       "# Results for Recall"
      ],
      "text/plain": [
       "<IPython.core.display.Markdown object>"
      ]
     },
     "metadata": {},
     "output_type": "display_data"
    },
    {
     "data": {
      "text/html": [
       "<div>\n",
       "<table border=\"1\" class=\"dataframe\">\n",
       "  <thead>\n",
       "    <tr style=\"text-align: right;\">\n",
       "      <th></th>\n",
       "      <th>Experiment</th>\n",
       "      <th>Transfer Learning</th>\n",
       "      <th>Transfer Learning with Revision Theory</th>\n",
       "      <th>Learning from scratch</th>\n",
       "    </tr>\n",
       "  </thead>\n",
       "  <tbody>\n",
       "    <tr>\n",
       "      <th>0</th>\n",
       "      <td>imdb-&gt;uwcse(advisedby)</td>\n",
       "      <td>1.000 +/- 0.000</td>\n",
       "      <td>0.909 +/- 0.136</td>\n",
       "      <td>0.907 +/- 0.139</td>\n",
       "    </tr>\n",
       "    <tr>\n",
       "      <th>1</th>\n",
       "      <td>uwcse-&gt;imdb(workedunder)</td>\n",
       "      <td>0.905 +/- 0.435</td>\n",
       "      <td>1.000 +/- 0.000</td>\n",
       "      <td>1.000 +/- 0.000</td>\n",
       "    </tr>\n",
       "    <tr>\n",
       "      <th>2</th>\n",
       "      <td>imdb-&gt;cora(samevenue)</td>\n",
       "      <td>0.390 +/- 0.957</td>\n",
       "      <td>0.389 +/- 0.929</td>\n",
       "      <td>0.386 +/- 0.916</td>\n",
       "    </tr>\n",
       "    <tr>\n",
       "      <th>3</th>\n",
       "      <td>cora-&gt;imdb(workedunder)</td>\n",
       "      <td>0.853 +/- 0.101</td>\n",
       "      <td>0.892 +/- 0.176</td>\n",
       "      <td>1.000 +/- 0.000</td>\n",
       "    </tr>\n",
       "  </tbody>\n",
       "</table>\n",
       "</div>"
      ],
      "text/plain": [
       "                 Experiment Transfer Learning  \\\n",
       "0    imdb->uwcse(advisedby)   1.000 +/- 0.000   \n",
       "1  uwcse->imdb(workedunder)   0.905 +/- 0.435   \n",
       "2     imdb->cora(samevenue)   0.390 +/- 0.957   \n",
       "3   cora->imdb(workedunder)   0.853 +/- 0.101   \n",
       "\n",
       "  Transfer Learning with Revision Theory Learning from scratch  \n",
       "0                        0.909 +/- 0.136       0.907 +/- 0.139  \n",
       "1                        1.000 +/- 0.000       1.000 +/- 0.000  \n",
       "2                        0.389 +/- 0.929       0.386 +/- 0.916  \n",
       "3                        0.892 +/- 0.176       1.000 +/- 0.000  "
      ]
     },
     "metadata": {},
     "output_type": "display_data"
    },
    {
     "data": {
      "text/markdown": [
       "# Results for F1"
      ],
      "text/plain": [
       "<IPython.core.display.Markdown object>"
      ]
     },
     "metadata": {},
     "output_type": "display_data"
    },
    {
     "data": {
      "text/html": [
       "<div>\n",
       "<table border=\"1\" class=\"dataframe\">\n",
       "  <thead>\n",
       "    <tr style=\"text-align: right;\">\n",
       "      <th></th>\n",
       "      <th>Experiment</th>\n",
       "      <th>Transfer Learning</th>\n",
       "      <th>Transfer Learning with Revision Theory</th>\n",
       "      <th>Learning from scratch</th>\n",
       "    </tr>\n",
       "  </thead>\n",
       "  <tbody>\n",
       "    <tr>\n",
       "      <th>0</th>\n",
       "      <td>imdb-&gt;uwcse(advisedby)</td>\n",
       "      <td>0.232 +/- 0.051</td>\n",
       "      <td>0.279 +/- 0.111</td>\n",
       "      <td>0.275 +/- 0.114</td>\n",
       "    </tr>\n",
       "    <tr>\n",
       "      <th>1</th>\n",
       "      <td>uwcse-&gt;imdb(workedunder)</td>\n",
       "      <td>0.910 +/- 0.364</td>\n",
       "      <td>0.994 +/- 0.058</td>\n",
       "      <td>0.910 +/- 0.147</td>\n",
       "    </tr>\n",
       "    <tr>\n",
       "      <th>2</th>\n",
       "      <td>imdb-&gt;cora(samevenue)</td>\n",
       "      <td>nan +/- nan</td>\n",
       "      <td>nan +/- nan</td>\n",
       "      <td>nan +/- nan</td>\n",
       "    </tr>\n",
       "    <tr>\n",
       "      <th>3</th>\n",
       "      <td>cora-&gt;imdb(workedunder)</td>\n",
       "      <td>0.495 +/- 0.077</td>\n",
       "      <td>0.920 +/- 0.093</td>\n",
       "      <td>0.946 +/- 0.144</td>\n",
       "    </tr>\n",
       "  </tbody>\n",
       "</table>\n",
       "</div>"
      ],
      "text/plain": [
       "                 Experiment Transfer Learning  \\\n",
       "0    imdb->uwcse(advisedby)   0.232 +/- 0.051   \n",
       "1  uwcse->imdb(workedunder)   0.910 +/- 0.364   \n",
       "2     imdb->cora(samevenue)       nan +/- nan   \n",
       "3   cora->imdb(workedunder)   0.495 +/- 0.077   \n",
       "\n",
       "  Transfer Learning with Revision Theory Learning from scratch  \n",
       "0                        0.279 +/- 0.111       0.275 +/- 0.114  \n",
       "1                        0.994 +/- 0.058       0.910 +/- 0.147  \n",
       "2                            nan +/- nan           nan +/- nan  \n",
       "3                        0.920 +/- 0.093       0.946 +/- 0.144  "
      ]
     },
     "metadata": {},
     "output_type": "display_data"
    },
    {
     "data": {
      "text/markdown": [
       "# Results for Precision"
      ],
      "text/plain": [
       "<IPython.core.display.Markdown object>"
      ]
     },
     "metadata": {},
     "output_type": "display_data"
    },
    {
     "data": {
      "text/html": [
       "<div>\n",
       "<table border=\"1\" class=\"dataframe\">\n",
       "  <thead>\n",
       "    <tr style=\"text-align: right;\">\n",
       "      <th></th>\n",
       "      <th>Experiment</th>\n",
       "      <th>Transfer Learning</th>\n",
       "      <th>Transfer Learning with Revision Theory</th>\n",
       "      <th>Learning from scratch</th>\n",
       "    </tr>\n",
       "  </thead>\n",
       "  <tbody>\n",
       "    <tr>\n",
       "      <th>0</th>\n",
       "      <td>imdb-&gt;uwcse(advisedby)</td>\n",
       "      <td>0.131 +/- 0.033</td>\n",
       "      <td>0.168 +/- 0.083</td>\n",
       "      <td>0.164 +/- 0.085</td>\n",
       "    </tr>\n",
       "    <tr>\n",
       "      <th>1</th>\n",
       "      <td>uwcse-&gt;imdb(workedunder)</td>\n",
       "      <td>0.971 +/- 0.282</td>\n",
       "      <td>0.990 +/- 0.100</td>\n",
       "      <td>0.843 +/- 0.256</td>\n",
       "    </tr>\n",
       "    <tr>\n",
       "      <th>2</th>\n",
       "      <td>imdb-&gt;cora(samevenue)</td>\n",
       "      <td>nan +/- nan</td>\n",
       "      <td>nan +/- nan</td>\n",
       "      <td>nan +/- nan</td>\n",
       "    </tr>\n",
       "    <tr>\n",
       "      <th>3</th>\n",
       "      <td>cora-&gt;imdb(workedunder)</td>\n",
       "      <td>0.350 +/- 0.070</td>\n",
       "      <td>0.961 +/- 0.146</td>\n",
       "      <td>0.906 +/- 0.251</td>\n",
       "    </tr>\n",
       "  </tbody>\n",
       "</table>\n",
       "</div>"
      ],
      "text/plain": [
       "                 Experiment Transfer Learning  \\\n",
       "0    imdb->uwcse(advisedby)   0.131 +/- 0.033   \n",
       "1  uwcse->imdb(workedunder)   0.971 +/- 0.282   \n",
       "2     imdb->cora(samevenue)       nan +/- nan   \n",
       "3   cora->imdb(workedunder)   0.350 +/- 0.070   \n",
       "\n",
       "  Transfer Learning with Revision Theory Learning from scratch  \n",
       "0                        0.168 +/- 0.083       0.164 +/- 0.085  \n",
       "1                        0.990 +/- 0.100       0.843 +/- 0.256  \n",
       "2                            nan +/- nan           nan +/- nan  \n",
       "3                        0.961 +/- 0.146       0.906 +/- 0.251  "
      ]
     },
     "metadata": {},
     "output_type": "display_data"
    },
    {
     "data": {
      "text/markdown": [
       "# Results for Learning and Revision time"
      ],
      "text/plain": [
       "<IPython.core.display.Markdown object>"
      ]
     },
     "metadata": {},
     "output_type": "display_data"
    },
    {
     "data": {
      "text/html": [
       "<div>\n",
       "<table border=\"1\" class=\"dataframe\">\n",
       "  <thead>\n",
       "    <tr style=\"text-align: right;\">\n",
       "      <th></th>\n",
       "      <th>Experiment</th>\n",
       "      <th>Transfer Learning</th>\n",
       "      <th>Transfer Learning with Revision Theory</th>\n",
       "      <th>Learning from scratch</th>\n",
       "    </tr>\n",
       "  </thead>\n",
       "  <tbody>\n",
       "    <tr>\n",
       "      <th>0</th>\n",
       "      <td>imdb-&gt;uwcse(advisedby)</td>\n",
       "      <td>3.183 +/- 4.907</td>\n",
       "      <td>7.430 +/- 7.441</td>\n",
       "      <td>6.073 +/- 4.400</td>\n",
       "    </tr>\n",
       "    <tr>\n",
       "      <th>1</th>\n",
       "      <td>uwcse-&gt;imdb(workedunder)</td>\n",
       "      <td>2.255 +/- 1.355</td>\n",
       "      <td>4.895 +/- 3.063</td>\n",
       "      <td>2.617 +/- 1.046</td>\n",
       "    </tr>\n",
       "    <tr>\n",
       "      <th>2</th>\n",
       "      <td>imdb-&gt;cora(samevenue)</td>\n",
       "      <td>13.332 +/- 9.810</td>\n",
       "      <td>33.922 +/- 18.523</td>\n",
       "      <td>26.630 +/- 14.977</td>\n",
       "    </tr>\n",
       "    <tr>\n",
       "      <th>3</th>\n",
       "      <td>cora-&gt;imdb(workedunder)</td>\n",
       "      <td>2.082 +/- 1.455</td>\n",
       "      <td>5.414 +/- 3.769</td>\n",
       "      <td>2.674 +/- 1.029</td>\n",
       "    </tr>\n",
       "  </tbody>\n",
       "</table>\n",
       "</div>"
      ],
      "text/plain": [
       "                 Experiment Transfer Learning  \\\n",
       "0    imdb->uwcse(advisedby)   3.183 +/- 4.907   \n",
       "1  uwcse->imdb(workedunder)   2.255 +/- 1.355   \n",
       "2     imdb->cora(samevenue)  13.332 +/- 9.810   \n",
       "3   cora->imdb(workedunder)   2.082 +/- 1.455   \n",
       "\n",
       "  Transfer Learning with Revision Theory Learning from scratch  \n",
       "0                        7.430 +/- 7.441       6.073 +/- 4.400  \n",
       "1                        4.895 +/- 3.063       2.617 +/- 1.046  \n",
       "2                      33.922 +/- 18.523     26.630 +/- 14.977  \n",
       "3                        5.414 +/- 3.769       2.674 +/- 1.029  "
      ]
     },
     "metadata": {},
     "output_type": "display_data"
    },
    {
     "data": {
      "text/markdown": [
       "# Results for Inference time"
      ],
      "text/plain": [
       "<IPython.core.display.Markdown object>"
      ]
     },
     "metadata": {},
     "output_type": "display_data"
    },
    {
     "data": {
      "text/html": [
       "<div>\n",
       "<table border=\"1\" class=\"dataframe\">\n",
       "  <thead>\n",
       "    <tr style=\"text-align: right;\">\n",
       "      <th></th>\n",
       "      <th>Experiment</th>\n",
       "      <th>Transfer Learning</th>\n",
       "      <th>Transfer Learning with Revision Theory</th>\n",
       "      <th>Learning from scratch</th>\n",
       "    </tr>\n",
       "  </thead>\n",
       "  <tbody>\n",
       "    <tr>\n",
       "      <th>0</th>\n",
       "      <td>imdb-&gt;uwcse(advisedby)</td>\n",
       "      <td>3.183 +/- 4.907</td>\n",
       "      <td>1.651 +/- 0.377</td>\n",
       "      <td>1.766 +/- 0.500</td>\n",
       "    </tr>\n",
       "    <tr>\n",
       "      <th>1</th>\n",
       "      <td>uwcse-&gt;imdb(workedunder)</td>\n",
       "      <td>2.255 +/- 1.355</td>\n",
       "      <td>2.529 +/- 0.538</td>\n",
       "      <td>2.186 +/- 0.361</td>\n",
       "    </tr>\n",
       "    <tr>\n",
       "      <th>2</th>\n",
       "      <td>imdb-&gt;cora(samevenue)</td>\n",
       "      <td>13.332 +/- 9.810</td>\n",
       "      <td>3.851 +/- 3.244</td>\n",
       "      <td>3.790 +/- 3.273</td>\n",
       "    </tr>\n",
       "    <tr>\n",
       "      <th>3</th>\n",
       "      <td>cora-&gt;imdb(workedunder)</td>\n",
       "      <td>2.082 +/- 1.455</td>\n",
       "      <td>2.656 +/- 0.407</td>\n",
       "      <td>2.210 +/- 0.414</td>\n",
       "    </tr>\n",
       "  </tbody>\n",
       "</table>\n",
       "</div>"
      ],
      "text/plain": [
       "                 Experiment Transfer Learning  \\\n",
       "0    imdb->uwcse(advisedby)   3.183 +/- 4.907   \n",
       "1  uwcse->imdb(workedunder)   2.255 +/- 1.355   \n",
       "2     imdb->cora(samevenue)  13.332 +/- 9.810   \n",
       "3   cora->imdb(workedunder)   2.082 +/- 1.455   \n",
       "\n",
       "  Transfer Learning with Revision Theory Learning from scratch  \n",
       "0                        1.651 +/- 0.377       1.766 +/- 0.500  \n",
       "1                        2.529 +/- 0.538       2.186 +/- 0.361  \n",
       "2                        3.851 +/- 3.244       3.790 +/- 3.273  \n",
       "3                        2.656 +/- 0.407       2.210 +/- 0.414  "
      ]
     },
     "metadata": {},
     "output_type": "display_data"
    }
   ],
   "source": [
    "experiments = [\n",
    "            {'source':'imdb', 'target':'uwcse', 'predicate':'workedunder', 'to_predicate':'advisedby'},\n",
    "            {'source':'uwcse', 'target':'imdb', 'predicate':'advisedby', 'to_predicate':'workedunder'},\n",
    "            {'source':'imdb', 'target':'cora', 'predicate':'workedunder', 'to_predicate':'samevenue'},\n",
    "            {'source':'cora', 'target':'imdb', 'predicate':'samevenue', 'to_predicate':'workedunder'},\n",
    "            #{'source':'yeast', 'target':'twitter', 'predicate':'interaction', 'to_predicate':'follows'},\n",
    "            #{'source':'twitter', 'target':'yeast', 'predicate':'follows', 'to_predicate':'interaction'},\n",
    "            #{'source':'nell_sports', 'target':'nell_finances', 'predicate':'teamplayssport', 'to_predicate':'companyeconomicsector'},\n",
    "            #{'source':'nell_finances', 'target':'nell_sports', 'predicate':'companyeconomicsector', 'to_predicate':'teamplayssport'},\n",
    "            #{'source':'yeast', 'target':'webkb', 'predicate':'proteinclass'},\n",
    "            #{'source':'webkb', 'target':'yeast', 'predicate':'departmentof'},\n",
    "            #{'source':'twitter', 'target':'webkb', 'predicate':'accounttype'},\n",
    "            #{'source':'webkb', 'target':'twitter', 'predicate':'pageclass'},\n",
    "            #{'source':'imdb', 'target':'yago2s', 'predicate':'workedunder', 'to_predicate':'ismarriedto'},\n",
    "            #{'source':'imdb', 'target':'yago2s', 'predicate':'workedunder', 'to_predicate':'imports'},\n",
    "            #{'source':'imdb', 'target':'yago2s', 'predicate':'workedunder', 'to_predicate':'exports'},\n",
    "            #{'source':'imdb', 'target':'yago2s', 'predicate':'workedunder', 'to_predicate':'influences'},\n",
    "            #{'source':'imdb', 'target':'yago2s', 'predicate':'workedunder', 'to_predicate':'wrotemusicfor'},\n",
    "            ]\n",
    "\n",
    "for metric in ['AUC ROC', 'AUC PR', 'CLL', 'Recall', 'F1', 'Precision', 'Learning and Revision time', 'Inference time']:\n",
    "    display(Markdown('# Results for ' + metric))\n",
    "    table = []\n",
    "    for j in range(len(experiments)):\n",
    "        dataset = experiments[j]['source'] + '->' + experiments[j]['target'] + '(' + experiments[j]['to_predicate'] + ')'\n",
    "        if dataset in data['results']: \n",
    "            #for metric in ['AUC ROC', 'AUC PR']:\n",
    "                #display(Markdown('## ' + metric))\n",
    "            if metric == 'Precision':\n",
    "                scratch = np.array([item['scratch']['Precision'][0] for sublist in data['results'][str(dataset)] for item in sublist])\n",
    "                parameter = np.array([item['transfer']['Parameter Learning results']['Precision'][0] for sublist in data['results'][str(dataset)] for item in sublist])\n",
    "                transfer = np.array([item['transfer']['Precision'][0] for sublist in data['results'][str(dataset)] for item in sublist])\n",
    "            elif metric == 'Learning and Revision time':\n",
    "                scratch = np.array([item['scratch']['Learning time'] for sublist in data['results'][str(dataset)] for item in sublist])\n",
    "                parameter = np.array([item['transfer']['Parameter Learning results']['Learning time'] for sublist in data['results'][str(dataset)] for item in sublist])\n",
    "                transfer = np.array([item['transfer']['Learning time'] for sublist in data['results'][str(dataset)] for item in sublist])\n",
    "            elif metric == 'Inference time':\n",
    "                scratch = np.array([item['scratch']['Inference time'] for sublist in data['results'][str(dataset)] for item in sublist])\n",
    "                parameter = np.array([item['transfer']['Parameter Learning results']['Learning time'] for sublist in data['results'][str(dataset)] for item in sublist])\n",
    "                transfer = np.array([item['transfer']['Inference time'] for sublist in data['results'][str(dataset)] for item in sublist])\n",
    "            else:\n",
    "                scratch = np.array([item['scratch'][metric] for sublist in data['results'][str(dataset)] for item in sublist])\n",
    "                parameter = np.array([item['transfer']['Parameter Learning results'][metric] for sublist in data['results'][str(dataset)] for item in sublist])\n",
    "                transfer = np.array([item['transfer'][metric] for sublist in data['results'][str(dataset)] for item in sublist])\n",
    "            table.append([dataset, '%.3f +/- %.3f' % (parameter.mean(), 2 * parameter.std()),\n",
    "            '%.3f +/- %.3f' % (transfer.mean(), 2 * transfer.std()),\n",
    "            '%.3f +/- %.3f' % (scratch.mean(), 2 * scratch.std())])\n",
    "    display(pd.DataFrame(table, columns=['Experiment', 'Transfer Learning', 'Transfer Learning with Revision Theory', 'Learning from scratch']))"
   ]
  },
  {
   "cell_type": "code",
   "execution_count": 3,
   "metadata": {
    "collapsed": false
   },
   "outputs": [
    {
     "data": {
      "text/markdown": [
       "# Results for imdb->uwcse(advisedby)"
      ],
      "text/plain": [
       "<IPython.core.display.Markdown object>"
      ]
     },
     "metadata": {},
     "output_type": "display_data"
    },
    {
     "data": {
      "text/markdown": [
       "## AUC ROC"
      ],
      "text/plain": [
       "<IPython.core.display.Markdown object>"
      ]
     },
     "metadata": {},
     "output_type": "display_data"
    },
    {
     "name": "stdout",
     "output_type": "stream",
     "text": [
      "Scratch: [0.955038 0.92526  0.90558  0.951346 0.951223 0.958629 0.944289 0.902349\n",
      " 0.958011 0.945672 0.956396 0.942025 0.903207 0.944563 0.952004 0.942183\n",
      " 0.948958 0.902498 0.953531 0.951812 0.953555 0.948362 0.903207 0.961407\n",
      " 0.955003]\n",
      "Transfer: [0.935982 0.932863 0.937167 0.936897 0.937621 0.935982 0.932863 0.937167\n",
      " 0.936897 0.937621 0.935982 0.932863 0.937167 0.936897 0.937621 0.935982\n",
      " 0.932863 0.937167 0.936897 0.937621 0.935982 0.932863 0.937167 0.936897\n",
      " 0.937621]\n",
      "Transfer & Revision: [0.957698 0.953606 0.946963 0.960179 0.935341 0.95287  0.943357 0.93896\n",
      " 0.951592 0.948607 0.955955 0.948137 0.93896  0.9531   0.950984 0.95364\n",
      " 0.943245 0.93896  0.956781 0.953568 0.951789 0.951882 0.953348 0.95152\n",
      " 0.954628]\n"
     ]
    },
    {
     "data": {
      "text/markdown": [
       "## AUC PR"
      ],
      "text/plain": [
       "<IPython.core.display.Markdown object>"
      ]
     },
     "metadata": {},
     "output_type": "display_data"
    },
    {
     "name": "stdout",
     "output_type": "stream",
     "text": [
      "Scratch: [0.38455  0.211393 0.121772 0.44513  0.330597 0.4135   0.27136  0.118775\n",
      " 0.444738 0.315576 0.389997 0.2057   0.119946 0.435014 0.340135 0.321869\n",
      " 0.308667 0.117569 0.388538 0.361732 0.3987   0.329387 0.119946 0.512325\n",
      " 0.337245]\n",
      "Transfer: [0.358428 0.29479  0.332468 0.369816 0.323785 0.358428 0.29479  0.332468\n",
      " 0.369816 0.323785 0.358428 0.29479  0.332468 0.369816 0.323785 0.358428\n",
      " 0.29479  0.332468 0.369816 0.323785 0.358428 0.29479  0.332468 0.369816\n",
      " 0.323785]\n",
      "Transfer & Revision: [0.430994 0.334916 0.353693 0.49321  0.32343  0.335504 0.291668 0.336334\n",
      " 0.465123 0.348919 0.428156 0.342033 0.336334 0.379208 0.345506 0.423213\n",
      " 0.243627 0.336334 0.515483 0.359343 0.338062 0.312531 0.365395 0.438104\n",
      " 0.368996]\n"
     ]
    },
    {
     "data": {
      "text/markdown": [
       "## CLL"
      ],
      "text/plain": [
       "<IPython.core.display.Markdown object>"
      ]
     },
     "metadata": {},
     "output_type": "display_data"
    },
    {
     "name": "stdout",
     "output_type": "stream",
     "text": [
      "Scratch: [-0.230136 -0.322874 -0.377251 -0.235185 -0.225024 -0.214795 -0.267858\n",
      " -0.3322   -0.203087 -0.276008 -0.235089 -0.253345 -0.401556 -0.233643\n",
      " -0.287678 -0.231049 -0.196093 -0.377097 -0.23364  -0.252761 -0.20551\n",
      " -0.244736 -0.335214 -0.2085   -0.254177]\n",
      "Transfer: [-0.2119   -0.271659 -0.343998 -0.219229 -0.244837 -0.255277 -0.266069\n",
      " -0.357705 -0.217175 -0.267276 -0.212786 -0.242252 -0.375982 -0.226477\n",
      " -0.216691 -0.230315 -0.255051 -0.355766 -0.227221 -0.258359 -0.225878\n",
      " -0.267777 -0.384512 -0.219362 -0.249865]\n",
      "Transfer & Revision: [-0.213383 -0.237282 -0.287341 -0.219353 -0.265556 -0.215588 -0.282333\n",
      " -0.346852 -0.237223 -0.24283  -0.214923 -0.236268 -0.393178 -0.210329\n",
      " -0.222407 -0.218076 -0.256937 -0.346843 -0.2095   -0.27099  -0.23698\n",
      " -0.234738 -0.317635 -0.240999 -0.215506]\n"
     ]
    },
    {
     "data": {
      "text/markdown": [
       "## Recall"
      ],
      "text/plain": [
       "<IPython.core.display.Markdown object>"
      ]
     },
     "metadata": {},
     "output_type": "display_data"
    },
    {
     "name": "stdout",
     "output_type": "stream",
     "text": [
      "Scratch: [0.897436 0.870968 1.       0.9      0.845361 0.897436 0.860215 1.\n",
      " 0.8375   1.       0.910256 0.903226 1.       0.825    0.969072 0.948718\n",
      " 0.795699 1.       0.925    0.938144 0.833333 0.849462 1.       0.7625\n",
      " 0.917526]\n",
      "Transfer: [1. 1. 1. 1. 1. 1. 1. 1. 1. 1. 1. 1. 1. 1. 1. 1. 1. 1. 1. 1. 1. 1. 1. 1.\n",
      " 1.]\n",
      "Transfer & Revision: [0.846154 0.892473 1.       0.925    1.       0.833333 0.913978 1.\n",
      " 0.925    0.865979 0.858974 0.903226 1.       0.7875   0.824742 0.884615\n",
      " 0.903226 1.       0.8      1.       0.897436 0.903226 1.       0.9375\n",
      " 0.824742]\n"
     ]
    },
    {
     "data": {
      "text/markdown": [
       "## F1"
      ],
      "text/plain": [
       "<IPython.core.display.Markdown object>"
      ]
     },
     "metadata": {},
     "output_type": "display_data"
    },
    {
     "name": "stdout",
     "output_type": "stream",
     "text": [
      "Scratch: [0.329412 0.210117 0.213992 0.289738 0.294434 0.361757 0.231214 0.213992\n",
      " 0.344473 0.216276 0.341346 0.265403 0.213992 0.277895 0.213394 0.321739\n",
      " 0.312896 0.207378 0.298387 0.233633 0.367232 0.247649 0.213992 0.386076\n",
      " 0.264487]\n",
      "Transfer: [0.272727 0.205072 0.213992 0.25     0.216276 0.272727 0.205072 0.213992\n",
      " 0.25     0.216276 0.272727 0.205072 0.213992 0.25     0.216276 0.272727\n",
      " 0.205072 0.213992 0.25     0.216276 0.272727 0.205072 0.213992 0.25\n",
      " 0.216276]\n",
      "Transfer & Revision: [0.356757 0.29174  0.213992 0.303901 0.216276 0.364146 0.221932 0.213992\n",
      " 0.259649 0.237288 0.374302 0.267943 0.213992 0.358974 0.310078 0.330144\n",
      " 0.250373 0.213992 0.347826 0.216276 0.316742 0.266244 0.213992 0.310559\n",
      " 0.310078]\n"
     ]
    },
    {
     "data": {
      "text/markdown": [
       "## Precision"
      ],
      "text/plain": [
       "<IPython.core.display.Markdown object>"
      ]
     },
     "metadata": {},
     "output_type": "display_data"
    },
    {
     "name": "stdout",
     "output_type": "stream",
     "text": [
      "Scratch: [0.201729 0.119469 0.119816 0.172662 0.178261 0.226537 0.133556 0.119816\n",
      " 0.216828 0.12125  0.210059 0.155556 0.119816 0.167089 0.119898 0.193717\n",
      " 0.194737 0.115684 0.177885 0.133431 0.235507 0.144954 0.119816 0.258475\n",
      " 0.154514]\n",
      "Transfer: [0.157895 0.114251 0.119816 0.142857 0.12125  0.157895 0.114251 0.119816\n",
      " 0.142857 0.12125  0.157895 0.114251 0.119816 0.142857 0.12125  0.157895\n",
      " 0.114251 0.119816 0.142857 0.12125  0.157895 0.114251 0.119816 0.142857\n",
      " 0.12125 ]\n",
      "Transfer & Revision: [0.226027 0.17437  0.119816 0.181818 0.12125  0.232975 0.1263   0.119816\n",
      " 0.15102  0.13748  0.239286 0.157303 0.119816 0.232472 0.190931 0.202941\n",
      " 0.145329 0.119816 0.222222 0.12125  0.192308 0.156134 0.119816 0.186104\n",
      " 0.190931]\n"
     ]
    },
    {
     "data": {
      "text/markdown": [
       "## Learning and Revision time"
      ],
      "text/plain": [
       "<IPython.core.display.Markdown object>"
      ]
     },
     "metadata": {},
     "output_type": "display_data"
    },
    {
     "name": "stdout",
     "output_type": "stream",
     "text": [
      "Scratch: [7.392 5.646 2.733 9.322 5.079 8.094 5.412 2.577 7.815 5.505 8.224 4.981\n",
      " 2.423 7.511 5.708 8.116 5.958 2.778 8.417 5.267 9.174 7.181 2.559 9.093\n",
      " 4.866]\n",
      "Transfer: [ 9.536  1.954  1.915  3.613  1.683  5.112  2.037  1.493  2.926  1.917\n",
      "  8.001  2.276  1.919  2.834  2.19  10.819  2.399  1.757  2.116  2.102\n",
      "  2.384  2.184  1.954  2.388  2.07 ]\n",
      "Transfer & Revision: [16.58   5.018  3.965  8.85   4.936 10.997  6.139  3.276  7.64   4.538\n",
      " 14.271  7.26   3.988  8.442  5.556 17.345  5.639  3.541  8.192  6.028\n",
      "  8.97   6.014  4.895  7.919  5.75 ]\n"
     ]
    },
    {
     "data": {
      "text/markdown": [
       "## Inference time"
      ],
      "text/plain": [
       "<IPython.core.display.Markdown object>"
      ]
     },
     "metadata": {},
     "output_type": "display_data"
    },
    {
     "name": "stdout",
     "output_type": "stream",
     "text": [
      "Scratch: [1.526 2.186 1.664 1.687 1.798 1.392 1.757 1.51  1.632 1.829 1.639 1.713\n",
      " 1.633 1.682 1.543 1.894 2.204 1.562 2.111 1.776 1.917 2.424 1.387 1.765\n",
      " 1.917]\n",
      "Transfer: [ 9.536  1.954  1.915  3.613  1.683  5.112  2.037  1.493  2.926  1.917\n",
      "  8.001  2.276  1.919  2.834  2.19  10.819  2.399  1.757  2.116  2.102\n",
      "  2.384  2.184  1.954  2.388  2.07 ]\n",
      "Transfer & Revision: [1.526 2.08  1.853 1.412 1.666 1.463 1.961 1.671 1.463 1.796 1.464 1.865\n",
      " 1.709 1.456 1.64  1.553 1.521 1.538 1.462 1.477 1.539 1.709 2.032 1.641\n",
      " 1.777]\n"
     ]
    },
    {
     "data": {
      "text/markdown": [
       "# Results for uwcse->imdb(workedunder)"
      ],
      "text/plain": [
       "<IPython.core.display.Markdown object>"
      ]
     },
     "metadata": {},
     "output_type": "display_data"
    },
    {
     "data": {
      "text/markdown": [
       "## AUC ROC"
      ],
      "text/plain": [
       "<IPython.core.display.Markdown object>"
      ]
     },
     "metadata": {},
     "output_type": "display_data"
    },
    {
     "name": "stdout",
     "output_type": "stream",
     "text": [
      "Scratch: [1.       1.       1.       1.       1.       1.       1.       1.\n",
      " 1.       1.       0.992299 1.       1.       1.       1.       1.\n",
      " 1.       1.       1.       1.       1.       1.       1.       1.\n",
      " 1.      ]\n",
      "Transfer: [1.       1.       0.812346 1.       1.       1.       1.       0.812346\n",
      " 1.       0.997289 1.       1.       1.       0.981538 1.       1.\n",
      " 1.       1.       1.       1.       1.       1.       1.       1.\n",
      " 1.      ]\n",
      "Transfer & Revision: [1. 1. 1. 1. 1. 1. 1. 1. 1. 1. 1. 1. 1. 1. 1. 1. 1. 1. 1. 1. 1. 1. 1. 1.\n",
      " 1.]\n"
     ]
    },
    {
     "data": {
      "text/markdown": [
       "## AUC PR"
      ],
      "text/plain": [
       "<IPython.core.display.Markdown object>"
      ]
     },
     "metadata": {},
     "output_type": "display_data"
    },
    {
     "name": "stdout",
     "output_type": "stream",
     "text": [
      "Scratch: [1.      1.      1.      1.      1.      1.      1.      1.      1.\n",
      " 1.      0.64118 1.      1.      1.      1.      1.      1.      1.\n",
      " 1.      1.      1.      1.      1.      1.      1.     ]\n",
      "Transfer: [1.       1.       0.439661 1.       1.       1.       1.       0.439661\n",
      " 1.       0.901152 1.       1.       1.       0.697309 1.       1.\n",
      " 1.       1.       1.       1.       1.       1.       1.       1.\n",
      " 1.      ]\n",
      "Transfer & Revision: [1. 1. 1. 1. 1. 1. 1. 1. 1. 1. 1. 1. 1. 1. 1. 1. 1. 1. 1. 1. 1. 1. 1. 1.\n",
      " 1.]\n"
     ]
    },
    {
     "data": {
      "text/markdown": [
       "## CLL"
      ],
      "text/plain": [
       "<IPython.core.display.Markdown object>"
      ]
     },
     "metadata": {},
     "output_type": "display_data"
    },
    {
     "name": "stdout",
     "output_type": "stream",
     "text": [
      "Scratch: [-0.076256 -0.075236 -0.063555 -0.07259  -0.075205 -0.080411 -0.069386\n",
      " -0.063555 -0.073379 -0.069609 -0.099515 -0.080467 -0.063555 -0.072552\n",
      " -0.086815 -0.081651 -0.078324 -0.063555 -0.064761 -0.071309 -0.074744\n",
      " -0.072236 -0.063555 -0.068004 -0.075438]\n",
      "Transfer: [-0.068255 -0.067878 -0.233238 -0.067533 -0.070502 -0.07133  -0.070632\n",
      " -0.238281 -0.070333 -0.144889 -0.067247 -0.067167 -0.068668 -0.231133\n",
      " -0.073593 -0.069477 -0.068048 -0.165372 -0.06932  -0.0695   -0.070696\n",
      " -0.070564 -0.06875  -0.069639 -0.073019]\n",
      "Transfer & Revision: [-0.068297 -0.068663 -0.064019 -0.067773 -0.068953 -0.068727 -0.068757\n",
      " -0.064602 -0.067905 -0.077451 -0.06551  -0.065297 -0.063555 -0.075888\n",
      " -0.067244 -0.066281 -0.065827 -0.063717 -0.065424 -0.067149 -0.069647\n",
      " -0.07009  -0.065215 -0.069476 -0.07162 ]\n"
     ]
    },
    {
     "data": {
      "text/markdown": [
       "## Recall"
      ],
      "text/plain": [
       "<IPython.core.display.Markdown object>"
      ]
     },
     "metadata": {},
     "output_type": "display_data"
    },
    {
     "name": "stdout",
     "output_type": "stream",
     "text": [
      "Scratch: [1. 1. 1. 1. 1. 1. 1. 1. 1. 1. 1. 1. 1. 1. 1. 1. 1. 1. 1. 1. 1. 1. 1. 1.\n",
      " 1.]\n",
      "Transfer: [1.       1.       0.397059 1.       1.       1.       1.       0.397059\n",
      " 1.       0.436202 1.       1.       1.       1.       1.       1.\n",
      " 1.       0.397059 1.       1.       1.       1.       1.       1.\n",
      " 1.      ]\n",
      "Transfer & Revision: [1. 1. 1. 1. 1. 1. 1. 1. 1. 1. 1. 1. 1. 1. 1. 1. 1. 1. 1. 1. 1. 1. 1. 1.\n",
      " 1.]\n"
     ]
    },
    {
     "data": {
      "text/markdown": [
       "## F1"
      ],
      "text/plain": [
       "<IPython.core.display.Markdown object>"
      ]
     },
     "metadata": {},
     "output_type": "display_data"
    },
    {
     "name": "stdout",
     "output_type": "stream",
     "text": [
      "Scratch: [0.847854 0.848168 1.       1.       0.852086 0.847854 1.       1.\n",
      " 0.853165 1.       0.847854 0.848168 1.       0.853165 0.852086 0.847854\n",
      " 0.848168 1.       1.       0.852086 0.847854 0.848168 1.       1.\n",
      " 0.852086]\n",
      "Transfer: [1.       1.       0.568421 1.       1.       1.       1.       0.568421\n",
      " 1.       0.607438 1.       1.       1.       0.438517 1.       1.\n",
      " 1.       0.568421 1.       1.       1.       1.       1.       1.\n",
      " 1.      ]\n",
      "Transfer & Revision: [1.       1.       1.       1.       1.       1.       1.       1.\n",
      " 1.       1.       1.       1.       1.       0.853165 1.       1.\n",
      " 1.       1.       1.       1.       1.       1.       1.       1.\n",
      " 1.      ]\n"
     ]
    },
    {
     "data": {
      "text/markdown": [
       "## Precision"
      ],
      "text/plain": [
       "<IPython.core.display.Markdown object>"
      ]
     },
     "metadata": {},
     "output_type": "display_data"
    },
    {
     "name": "stdout",
     "output_type": "stream",
     "text": [
      "Scratch: [0.735892 0.736364 1.       1.       0.742291 0.735892 1.       1.\n",
      " 0.743929 1.       0.735892 0.736364 1.       0.743929 0.742291 0.735892\n",
      " 0.736364 1.       1.       0.742291 0.735892 0.736364 1.       1.\n",
      " 0.742291]\n",
      "Transfer: [1.       1.       1.       1.       1.       1.       1.       1.\n",
      " 1.       1.       1.       1.       1.       0.280833 1.       1.\n",
      " 1.       1.       1.       1.       1.       1.       1.       1.\n",
      " 1.      ]\n",
      "Transfer & Revision: [1.       1.       1.       1.       1.       1.       1.       1.\n",
      " 1.       1.       1.       1.       1.       0.743929 1.       1.\n",
      " 1.       1.       1.       1.       1.       1.       1.       1.\n",
      " 1.      ]\n"
     ]
    },
    {
     "data": {
      "text/markdown": [
       "## Learning and Revision time"
      ],
      "text/plain": [
       "<IPython.core.display.Markdown object>"
      ]
     },
     "metadata": {},
     "output_type": "display_data"
    },
    {
     "name": "stdout",
     "output_type": "stream",
     "text": [
      "Scratch: [2.865 2.369 3.535 2.133 2.318 2.112 2.471 3.557 2.319 2.047 2.566 2.68\n",
      " 3.668 2.262 2.046 2.326 2.432 3.522 2.481 2.521 2.473 2.469 3.666 2.502\n",
      " 2.074]\n",
      "Transfer: [2.03  1.543 3.546 1.715 1.716 1.94  2.095 3.295 1.712 1.72  2.063 2.229\n",
      " 3.628 1.981 1.9   2.191 2.083 3.258 2.069 1.768 2.136 2.274 3.966 1.813\n",
      " 1.707]\n",
      "Transfer & Revision: [4.316 4.159 8.078 3.637 3.573 3.803 4.683 7.763 3.758 4.952 4.134 4.239\n",
      " 7.78  4.585 3.687 4.203 3.998 7.58  3.767 4.735 4.041 4.834 8.075 4.438\n",
      " 3.547]\n"
     ]
    },
    {
     "data": {
      "text/markdown": [
       "## Inference time"
      ],
      "text/plain": [
       "<IPython.core.display.Markdown object>"
      ]
     },
     "metadata": {},
     "output_type": "display_data"
    },
    {
     "name": "stdout",
     "output_type": "stream",
     "text": [
      "Scratch: [2.11  2.241 2.048 2.251 2.29  1.983 2.045 2.284 2.282 2.079 2.358 2.292\n",
      " 2.543 2.073 2.269 2.081 1.847 2.566 2.226 1.765 2.27  2.031 2.21  2.283\n",
      " 2.227]\n",
      "Transfer: [2.03  1.543 3.546 1.715 1.716 1.94  2.095 3.295 1.712 1.72  2.063 2.229\n",
      " 3.628 1.981 1.9   2.191 2.083 3.258 2.069 1.768 2.136 2.274 3.966 1.813\n",
      " 1.707]\n",
      "Transfer & Revision: [2.557 2.502 2.599 1.996 1.988 2.614 1.96  2.545 2.359 2.834 2.4   2.669\n",
      " 2.536 2.797 2.302 2.527 2.47  2.573 2.61  2.632 2.895 2.944 2.761 2.919\n",
      " 2.247]\n"
     ]
    },
    {
     "data": {
      "text/markdown": [
       "# Results for imdb->cora(samevenue)"
      ],
      "text/plain": [
       "<IPython.core.display.Markdown object>"
      ]
     },
     "metadata": {},
     "output_type": "display_data"
    },
    {
     "data": {
      "text/markdown": [
       "## AUC ROC"
      ],
      "text/plain": [
       "<IPython.core.display.Markdown object>"
      ]
     },
     "metadata": {},
     "output_type": "display_data"
    },
    {
     "name": "stdout",
     "output_type": "stream",
     "text": [
      "Scratch: [0.543974 0.461174 0.550713 0.564462 0.544692 0.544838 0.463631 0.550698\n",
      " 0.564462 0.552455 0.544838 0.456382 0.545618 0.564264 0.544533 0.543974\n",
      " 0.462956 0.55072  0.560961 0.54474  0.543974 0.462152 0.550706 0.560389\n",
      " 0.54474 ]\n",
      "Transfer: [0.544977 0.445862 0.547853 0.554206 0.543975 0.544977 0.445862 0.547853\n",
      " 0.554206 0.543975 0.544977 0.445862 0.547853 0.554206 0.543975 0.544977\n",
      " 0.445862 0.547853 0.554206 0.543975 0.544977 0.445862 0.547853 0.554206\n",
      " 0.543975]\n",
      "Transfer & Revision: [0.543974 0.456443 0.550675 0.560389 0.555315 0.543974 0.449754 0.550034\n",
      " 0.564204 0.547422 0.544838 0.457327 0.545539 0.564462 0.544845 0.54482\n",
      " 0.449754 0.545579 0.560389 0.560599 0.544838 0.456441 0.55072  0.560721\n",
      " 0.552293]\n"
     ]
    },
    {
     "data": {
      "text/markdown": [
       "## AUC PR"
      ],
      "text/plain": [
       "<IPython.core.display.Markdown object>"
      ]
     },
     "metadata": {},
     "output_type": "display_data"
    },
    {
     "name": "stdout",
     "output_type": "stream",
     "text": [
      "Scratch: [0.401971 0.297434 0.501089 0.420874 0.379034 0.402465 0.305078 0.50108\n",
      " 0.420874 0.392474 0.402465 0.300811 0.489802 0.415081 0.378061 0.401971\n",
      " 0.302426 0.501091 0.411916 0.378417 0.401971 0.301303 0.501087 0.411766\n",
      " 0.378417]\n",
      "Transfer: [0.4025   0.288412 0.49112  0.39269  0.374863 0.4025   0.288412 0.49112\n",
      " 0.39269  0.374863 0.4025   0.288412 0.49112  0.39269  0.374863 0.4025\n",
      " 0.288412 0.49112  0.39269  0.374863 0.4025   0.288412 0.49112  0.39269\n",
      " 0.374863]\n",
      "Transfer & Revision: [0.401971 0.300569 0.501043 0.411766 0.394935 0.401971 0.292844 0.500301\n",
      " 0.415214 0.38577  0.402465 0.303354 0.489742 0.420874 0.379076 0.402484\n",
      " 0.292844 0.48979  0.411766 0.405922 0.402465 0.300502 0.501091 0.411852\n",
      " 0.392231]\n"
     ]
    },
    {
     "data": {
      "text/markdown": [
       "## CLL"
      ],
      "text/plain": [
       "<IPython.core.display.Markdown object>"
      ]
     },
     "metadata": {},
     "output_type": "display_data"
    },
    {
     "name": "stdout",
     "output_type": "stream",
     "text": [
      "Scratch: [-0.657965 -0.745794 -0.728639 -0.640867 -0.709161 -0.657928 -0.745345\n",
      " -0.7295   -0.640867 -0.70623  -0.657924 -0.74695  -0.729651 -0.640744\n",
      " -0.709941 -0.657944 -0.745011 -0.72805  -0.642202 -0.709344 -0.65796\n",
      " -0.74597  -0.728589 -0.641905 -0.710279]\n",
      "Transfer: [-0.657894 -0.749493 -0.729449 -0.643296 -0.702177 -0.657894 -0.749493\n",
      " -0.727304 -0.643296 -0.702177 -0.657894 -0.749493 -0.728101 -0.643296\n",
      " -0.702177 -0.657894 -0.749493 -0.731197 -0.643296 -0.702177 -0.657894\n",
      " -0.749493 -0.729208 -0.643296 -0.702177]\n",
      "Transfer & Revision: [-0.657932 -0.746855 -0.729118 -0.642012 -0.710721 -0.657936 -0.748181\n",
      " -0.729321 -0.641818 -0.711313 -0.657936 -0.746759 -0.726819 -0.640866\n",
      " -0.709641 -0.657968 -0.748513 -0.731224 -0.642013 -0.708243 -0.657918\n",
      " -0.746639 -0.72928  -0.642319 -0.708886]\n"
     ]
    },
    {
     "data": {
      "text/markdown": [
       "## Recall"
      ],
      "text/plain": [
       "<IPython.core.display.Markdown object>"
      ]
     },
     "metadata": {},
     "output_type": "display_data"
    },
    {
     "name": "stdout",
     "output_type": "stream",
     "text": [
      "Scratch: [0.       0.97195  0.       0.036564 0.934333 0.       0.966162 0.\n",
      " 0.036564 0.924605 0.       0.979519 0.       0.047137 0.914876 0.\n",
      " 0.966162 0.       0.03304  0.914876 0.       0.97195  0.       0.03304\n",
      " 0.914876]\n",
      "Transfer: [0.       1.       0.       0.       0.952169 0.       1.       0.\n",
      " 0.       0.952169 0.       1.       0.       0.       0.952169 0.\n",
      " 1.       0.       0.       0.952169 0.       1.       0.       0.\n",
      " 0.952169]\n",
      "Transfer & Revision: [0.       0.973731 0.       0.015859 0.94244  0.       0.98976  0.\n",
      " 0.047137 0.932712 0.       0.973731 0.       0.036564 0.934333 0.\n",
      " 0.98976  0.       0.015859 0.934333 0.       0.973731 0.       0.03304\n",
      " 0.924605]\n"
     ]
    },
    {
     "data": {
      "text/markdown": [
       "## F1"
      ],
      "text/plain": [
       "<IPython.core.display.Markdown object>"
      ]
     },
     "metadata": {},
     "output_type": "display_data"
    },
    {
     "name": "stdout",
     "output_type": "stream",
     "text": [
      "Scratch: [     nan 0.501436      nan 0.07019  0.540192      nan 0.499482      nan\n",
      " 0.07019  0.536138      nan 0.500683      nan 0.086886 0.532123      nan\n",
      " 0.49954       nan 0.061728 0.53206       nan 0.501436      nan 0.061728\n",
      " 0.53206 ]\n",
      "Transfer: [     nan 0.50078       nan      nan 0.538514      nan 0.50078       nan\n",
      "      nan 0.538514      nan 0.50078       nan      nan 0.538514      nan\n",
      " 0.50078       nan      nan 0.538514      nan 0.50078       nan      nan\n",
      " 0.538514]\n",
      "Transfer & Revision: [     nan 0.498803      nan 0.031196 0.539944      nan 0.500732      nan\n",
      " 0.086886 0.535864      nan 0.498803      nan 0.07019  0.540255      nan\n",
      " 0.500732      nan 0.031196 0.540255      nan 0.498803      nan 0.061728\n",
      " 0.536201]\n"
     ]
    },
    {
     "data": {
      "text/markdown": [
       "## Precision"
      ],
      "text/plain": [
       "<IPython.core.display.Markdown object>"
      ]
     },
     "metadata": {},
     "output_type": "display_data"
    },
    {
     "name": "stdout",
     "output_type": "stream",
     "text": [
      "Scratch: [     nan 0.337873      nan 0.873684 0.379924      nan 0.3368        nan\n",
      " 0.873684 0.377524      nan 0.336289      nan 0.554404 0.375166      nan\n",
      " 0.336852      nan 0.46875  0.375104      nan 0.337873      nan 0.46875\n",
      " 0.375104]\n",
      "Transfer: [     nan 0.334027      nan      nan 0.37542       nan 0.334027      nan\n",
      "      nan 0.37542       nan 0.334027      nan      nan 0.37542       nan\n",
      " 0.334027      nan      nan 0.37542       nan 0.334027      nan      nan\n",
      " 0.37542 ]\n",
      "Transfer & Revision: [     nan 0.335275      nan 0.947368 0.378356      nan 0.335142      nan\n",
      " 0.554404 0.375919      nan 0.335275      nan 0.873684 0.379987      nan\n",
      " 0.335142      nan 0.947368 0.379987      nan 0.335275      nan 0.46875\n",
      " 0.377586]\n"
     ]
    },
    {
     "data": {
      "text/markdown": [
       "## Learning and Revision time"
      ],
      "text/plain": [
       "<IPython.core.display.Markdown object>"
      ]
     },
     "metadata": {},
     "output_type": "display_data"
    },
    {
     "name": "stdout",
     "output_type": "stream",
     "text": [
      "Scratch: [17.466 19.633 32.895 26.696 36.735 12.246 29.07  22.505 26.531 32.696\n",
      " 13.064 36.211 20.819 30.483 35.024 17.452 26.181 33.976 27.9   28.054\n",
      " 13.881 37.131 33.586 27.337 28.181]\n",
      "Transfer: [ 6.804 19.717 15.401 11.798 16.718  7.313 20.035  9.881 12.347 16.629\n",
      " 10.855  8.895  9.622 12.018 20.218  7.349 25.165  9.875 12.39  13.529\n",
      "  7.016 20.153  9.486 12.738 17.34 ]\n",
      "Transfer & Revision: [17.734 40.47  40.785 30.901 44.601 21.64  46.768 35.182 33.734 43.925\n",
      " 20.916 32.369 26.401 34.076 48.048 21.461 39.614 28.92  30.235 41.469\n",
      " 16.871 40.661 29.114 34.784 47.362]\n"
     ]
    },
    {
     "data": {
      "text/markdown": [
       "## Inference time"
      ],
      "text/plain": [
       "<IPython.core.display.Markdown object>"
      ]
     },
     "metadata": {},
     "output_type": "display_data"
    },
    {
     "name": "stdout",
     "output_type": "stream",
     "text": [
      "Scratch: [2.781 3.116 2.957 2.927 8.007 2.318 5.079 2.452 2.958 5.237 2.151 4.416\n",
      " 2.104 3.203 6.252 2.336 4.353 3.288 3.111 6.39  2.407 3.606 2.888 3.106\n",
      " 7.309]\n",
      "Transfer: [ 6.804 19.717 15.401 11.798 16.718  7.313 20.035  9.881 12.347 16.629\n",
      " 10.855  8.895  9.622 12.018 20.218  7.349 25.165  9.875 12.39  13.529\n",
      "  7.016 20.153  9.486 12.738 17.34 ]\n",
      "Transfer & Revision: [2.625 5.184 2.826 2.538 6.298 2.587 3.462 2.795 3.191 6.508 2.299 6.061\n",
      " 2.597 3.155 6.385 2.713 2.911 2.717 2.586 6.614 2.386 4.754 2.485 3.58\n",
      " 7.013]\n"
     ]
    },
    {
     "data": {
      "text/markdown": [
       "# Results for cora->imdb(workedunder)"
      ],
      "text/plain": [
       "<IPython.core.display.Markdown object>"
      ]
     },
     "metadata": {},
     "output_type": "display_data"
    },
    {
     "data": {
      "text/markdown": [
       "## AUC ROC"
      ],
      "text/plain": [
       "<IPython.core.display.Markdown object>"
      ]
     },
     "metadata": {},
     "output_type": "display_data"
    },
    {
     "name": "stdout",
     "output_type": "stream",
     "text": [
      "Scratch: [1.       1.       1.       1.       1.       1.       1.       1.\n",
      " 1.       1.       1.       1.       1.       1.       1.       1.\n",
      " 1.       1.       1.       0.995191 1.       1.       1.       1.\n",
      " 1.      ]\n",
      "Transfer: [0.888593 0.88352  0.961324 0.890408 0.911381 0.888593 0.895764 0.961324\n",
      " 0.888479 0.914919 0.888593 0.891992 0.961324 0.894286 0.911476 0.893595\n",
      " 0.894384 0.960875 0.898569 0.911476 0.905419 0.909919 0.976487 0.904274\n",
      " 0.93336 ]\n",
      "Transfer & Revision: [0.99889  0.998889 1.       0.999357 1.       0.998736 0.990064 1.\n",
      " 0.999291 0.999456 0.998813 1.       1.       0.999645 1.       1.\n",
      " 1.       1.       0.998487 1.       0.999249 0.992017 1.       0.999291\n",
      " 0.999958]\n"
     ]
    },
    {
     "data": {
      "text/markdown": [
       "## AUC PR"
      ],
      "text/plain": [
       "<IPython.core.display.Markdown object>"
      ]
     },
     "metadata": {},
     "output_type": "display_data"
    },
    {
     "name": "stdout",
     "output_type": "stream",
     "text": [
      "Scratch: [1.       1.       1.       1.       1.       1.       1.       1.\n",
      " 1.       1.       1.       1.       1.       1.       1.       1.\n",
      " 1.       1.       1.       0.742291 1.       1.       1.       1.\n",
      " 1.      ]\n",
      "Transfer: [0.316701 0.237728 0.348021 0.236112 0.312834 0.316701 0.307074 0.348021\n",
      " 0.235573 0.314047 0.316701 0.30595  0.348021 0.328486 0.312862 0.317815\n",
      " 0.30663  0.347806 0.329471 0.312862 0.830303 0.830557 0.95416  0.389125\n",
      " 0.86591 ]\n",
      "Transfer & Revision: [0.966568 0.966587 1.       0.977788 1.       0.963378 0.878487 1.\n",
      " 0.975458 0.981685 0.964914 1.       1.       0.987448 1.       1.\n",
      " 1.       1.       0.955282 1.       0.976306 0.887629 1.       0.975458\n",
      " 0.998614]\n"
     ]
    },
    {
     "data": {
      "text/markdown": [
       "## CLL"
      ],
      "text/plain": [
       "<IPython.core.display.Markdown object>"
      ]
     },
     "metadata": {},
     "output_type": "display_data"
    },
    {
     "name": "stdout",
     "output_type": "stream",
     "text": [
      "Scratch: [-0.079607 -0.070607 -0.063555 -0.066759 -0.092779 -0.072628 -0.065756\n",
      " -0.063555 -0.06479  -0.074334 -0.09931  -0.079421 -0.063555 -0.065675\n",
      " -0.072653 -0.081025 -0.072278 -0.063555 -0.066179 -0.085258 -0.087898\n",
      " -0.066201 -0.063555 -0.069293 -0.083915]\n",
      "Transfer: [-0.16558  -0.184866 -0.224599 -0.179041 -0.212649 -0.168266 -0.170311\n",
      " -0.222797 -0.182329 -0.212834 -0.170983 -0.169118 -0.221052 -0.16025\n",
      " -0.221741 -0.175233 -0.174113 -0.234372 -0.163521 -0.226992 -0.134061\n",
      " -0.153422 -0.211697 -0.161774 -0.183593]\n",
      "Transfer & Revision: [-0.080544 -0.074838 -0.067083 -0.075182 -0.084608 -0.082187 -0.097641\n",
      " -0.073983 -0.074707 -0.093307 -0.084895 -0.081328 -0.074495 -0.071757\n",
      " -0.081269 -0.07469  -0.079752 -0.064075 -0.075213 -0.082397 -0.081285\n",
      " -0.083874 -0.070258 -0.071731 -0.083641]\n"
     ]
    },
    {
     "data": {
      "text/markdown": [
       "## Recall"
      ],
      "text/plain": [
       "<IPython.core.display.Markdown object>"
      ]
     },
     "metadata": {},
     "output_type": "display_data"
    },
    {
     "name": "stdout",
     "output_type": "stream",
     "text": [
      "Scratch: [1. 1. 1. 1. 1. 1. 1. 1. 1. 1. 1. 1. 1. 1. 1. 1. 1. 1. 1. 1. 1. 1. 1. 1.\n",
      " 1.]\n",
      "Transfer: [0.819018 0.817901 0.95098  0.824926 0.854599 0.819018 0.817901 0.95098\n",
      " 0.824926 0.854599 0.819018 0.817901 0.95098  0.824926 0.854599 0.819018\n",
      " 0.817901 0.95098  0.824926 0.854599 0.819018 0.817901 0.95098  0.824926\n",
      " 0.854599]\n",
      "Transfer & Revision: [0.819018 0.817901 1.       0.824926 1.       0.819018 0.817901 1.\n",
      " 0.824926 1.       0.819018 0.817901 1.       0.824926 1.       0.819018\n",
      " 0.817901 1.       0.824926 1.       0.819018 0.817901 1.       0.824926\n",
      " 1.      ]\n"
     ]
    },
    {
     "data": {
      "text/markdown": [
       "## F1"
      ],
      "text/plain": [
       "<IPython.core.display.Markdown object>"
      ]
     },
     "metadata": {},
     "output_type": "display_data"
    },
    {
     "name": "stdout",
     "output_type": "stream",
     "text": [
      "Scratch: [0.847854 1.       1.       1.       0.852086 1.       1.       1.\n",
      " 1.       0.852086 0.847854 0.848168 1.       1.       1.       0.847854\n",
      " 1.       1.       1.       0.852086 0.847854 1.       1.       1.\n",
      " 0.852086]\n",
      "Transfer: [0.512476 0.41181  0.525034 0.408824 0.50087  0.512476 0.498589 0.525034\n",
      " 0.408824 0.50087  0.512476 0.498589 0.525034 0.52552  0.50087  0.512476\n",
      " 0.498589 0.525034 0.52552  0.50087  0.512476 0.498589 0.525034 0.408824\n",
      " 0.50087 ]\n",
      "Transfer & Revision: [0.900506 0.89983  1.       0.904065 0.932227 0.900506 0.89983  1.\n",
      " 0.904065 0.932227 0.809091 0.89983  1.       0.904065 0.852086 0.900506\n",
      " 0.89983  1.       0.904065 0.932227 0.900506 0.89983  1.       0.904065\n",
      " 0.932227]\n"
     ]
    },
    {
     "data": {
      "text/markdown": [
       "## Precision"
      ],
      "text/plain": [
       "<IPython.core.display.Markdown object>"
      ]
     },
     "metadata": {},
     "output_type": "display_data"
    },
    {
     "name": "stdout",
     "output_type": "stream",
     "text": [
      "Scratch: [0.735892 1.       1.       1.       0.742291 1.       1.       1.\n",
      " 1.       0.742291 0.735892 0.736364 1.       1.       1.       0.735892\n",
      " 1.       1.       1.       0.742291 0.735892 1.       1.       1.\n",
      " 0.742291]\n",
      "Transfer: [0.372905 0.275182 0.362617 0.27175  0.354244 0.372905 0.358593 0.362617\n",
      " 0.27175  0.354244 0.372905 0.358593 0.362617 0.385576 0.354244 0.372905\n",
      " 0.358593 0.362617 0.385576 0.354244 0.372905 0.358593 0.362617 0.27175\n",
      " 0.354244]\n",
      "Transfer & Revision: [1.       1.       1.       1.       0.873057 1.       1.       1.\n",
      " 1.       0.873057 0.799401 1.       1.       1.       0.742291 1.\n",
      " 1.       1.       1.       0.873057 1.       1.       1.       1.\n",
      " 0.873057]\n"
     ]
    },
    {
     "data": {
      "text/markdown": [
       "## Learning and Revision time"
      ],
      "text/plain": [
       "<IPython.core.display.Markdown object>"
      ]
     },
     "metadata": {},
     "output_type": "display_data"
    },
    {
     "name": "stdout",
     "output_type": "stream",
     "text": [
      "Scratch: [2.866 2.466 3.516 2.211 2.585 2.426 2.555 3.744 2.374 2.548 2.878 2.389\n",
      " 3.854 2.454 2.215 2.452 2.425 3.461 2.181 2.141 2.309 2.499 3.609 2.382\n",
      " 2.317]\n",
      "Transfer: [1.678 1.897 3.301 1.822 1.43  1.876 2.166 3.845 1.708 1.521 1.838 1.776\n",
      " 3.296 1.727 1.555 1.848 1.7   3.33  1.352 1.78  1.885 1.716 3.661 1.792\n",
      " 1.559]\n",
      "Transfer & Revision: [4.575 4.745 9.377 4.522 4.405 4.599 5.302 9.561 4.279 4.032 4.462 4.941\n",
      " 8.491 3.721 4.796 4.279 4.432 8.488 3.841 4.454 5.468 4.691 9.487 4.337\n",
      " 4.067]\n"
     ]
    },
    {
     "data": {
      "text/markdown": [
       "## Inference time"
      ],
      "text/plain": [
       "<IPython.core.display.Markdown object>"
      ]
     },
     "metadata": {},
     "output_type": "display_data"
    },
    {
     "name": "stdout",
     "output_type": "stream",
     "text": [
      "Scratch: [2.491 1.775 1.811 2.355 2.422 2.32  1.953 2.152 2.347 2.036 2.247 2.001\n",
      " 2.184 2.352 2.354 2.457 2.511 2.294 2.232 2.456 2.016 1.962 2.15  2.313\n",
      " 2.048]\n",
      "Transfer: [1.678 1.897 3.301 1.822 1.43  1.876 2.166 3.845 1.708 1.521 1.838 1.776\n",
      " 3.296 1.727 1.555 1.848 1.7   3.33  1.352 1.78  1.885 1.716 3.661 1.792\n",
      " 1.559]\n",
      "Transfer & Revision: [2.392 2.774 3.056 2.5   2.892 2.348 2.802 2.564 2.38  3.035 2.843 2.556\n",
      " 2.858 2.579 2.772 2.551 2.434 2.602 2.332 2.574 2.742 2.683 2.909 2.693\n",
      " 2.536]\n"
     ]
    }
   ],
   "source": [
    "for j in range(len(experiments)):\n",
    "    dataset = experiments[j]['source'] + '->' + experiments[j]['target'] + '(' + experiments[j]['to_predicate'] + ')'\n",
    "    display(Markdown('# Results for ' + dataset))\n",
    "    table = []\n",
    "    for metric in ['AUC ROC', 'AUC PR', 'CLL', 'Recall', 'F1', 'Precision', 'Learning and Revision time', 'Inference time']:\n",
    "    #for metric in ['AUC ROC', 'AUC PR']:\n",
    "        if dataset in data['results']: \n",
    "            #for metric in ['AUC ROC', 'AUC PR']:\n",
    "            display(Markdown('## ' + metric))\n",
    "            if metric == 'Precision':\n",
    "                scratch = np.array([item['scratch']['Precision'][0] for sublist in data['results'][str(dataset)] for item in sublist])\n",
    "                parameter = np.array([item['transfer']['Parameter Learning results']['Precision'][0] for sublist in data['results'][str(dataset)] for item in sublist])\n",
    "                transfer = np.array([item['transfer']['Precision'][0] for sublist in data['results'][str(dataset)] for item in sublist])\n",
    "            elif metric == 'Learning and Revision time':\n",
    "                scratch = np.array([item['scratch']['Learning time'] for sublist in data['results'][str(dataset)] for item in sublist])\n",
    "                parameter = np.array([item['transfer']['Parameter Learning results']['Learning time'] for sublist in data['results'][str(dataset)] for item in sublist])\n",
    "                transfer = np.array([item['transfer']['Learning time'] for sublist in data['results'][str(dataset)] for item in sublist])\n",
    "            elif metric == 'Inference time':\n",
    "                scratch = np.array([item['scratch']['Inference time'] for sublist in data['results'][str(dataset)] for item in sublist])\n",
    "                parameter = np.array([item['transfer']['Parameter Learning results']['Learning time'] for sublist in data['results'][str(dataset)] for item in sublist])\n",
    "                transfer = np.array([item['transfer']['Inference time'] for sublist in data['results'][str(dataset)] for item in sublist])\n",
    "            else:\n",
    "                scratch = np.array([item['scratch'][metric] for sublist in data['results'][str(dataset)] for item in sublist])\n",
    "                parameter = np.array([item['transfer']['Parameter Learning results'][metric] for sublist in data['results'][str(dataset)] for item in sublist])\n",
    "                transfer = np.array([item['transfer'][metric] for sublist in data['results'][str(dataset)] for item in sublist])\n",
    "            print('Scratch: %s' % scratch)\n",
    "            print('Transfer: %s' % parameter)\n",
    "            print('Transfer & Revision: %s' % transfer)"
   ]
  },
  {
   "cell_type": "code",
   "execution_count": null,
   "metadata": {
    "collapsed": true
   },
   "outputs": [],
   "source": []
  },
  {
   "cell_type": "code",
   "execution_count": null,
   "metadata": {
    "collapsed": true
   },
   "outputs": [],
   "source": []
  }
 ],
 "metadata": {
  "anaconda-cloud": {},
  "kernelspec": {
   "display_name": "Python [conda env:anaconda3]",
   "language": "python",
   "name": "conda-env-anaconda3-py"
  },
  "language_info": {
   "codemirror_mode": {
    "name": "ipython",
    "version": 3
   },
   "file_extension": ".py",
   "mimetype": "text/x-python",
   "name": "python",
   "nbconvert_exporter": "python",
   "pygments_lexer": "ipython3",
   "version": "3.5.2"
  }
 },
 "nbformat": 4,
 "nbformat_minor": 1
}
