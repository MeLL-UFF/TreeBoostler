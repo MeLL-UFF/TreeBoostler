{
 "cells": [
  {
   "cell_type": "code",
   "execution_count": 1,
   "metadata": {
    "collapsed": true
   },
   "outputs": [],
   "source": [
    "import matplotlib.pyplot as plt\n",
    "from IPython.display import display, Markdown, Latex\n",
    "import numpy as np\n",
    "import json\n",
    "import pandas as pd\n",
    "\n",
    "with open('transfer_experiment.json', 'r') as fp:\n",
    "    data = json.load(fp)"
   ]
  },
  {
   "cell_type": "code",
   "execution_count": 3,
   "metadata": {
    "collapsed": false
   },
   "outputs": [
    {
     "data": {
      "text/markdown": [
       "# Results for AUC ROC"
      ],
      "text/plain": [
       "<IPython.core.display.Markdown object>"
      ]
     },
     "metadata": {},
     "output_type": "display_data"
    },
    {
     "data": {
      "text/html": [
       "<div>\n",
       "<table border=\"1\" class=\"dataframe\">\n",
       "  <thead>\n",
       "    <tr style=\"text-align: right;\">\n",
       "      <th></th>\n",
       "      <th>Experiment</th>\n",
       "      <th>Transfer Learning</th>\n",
       "      <th>Transfer Learning with Revision Theory</th>\n",
       "      <th>Learning from scratch</th>\n",
       "    </tr>\n",
       "  </thead>\n",
       "  <tbody>\n",
       "    <tr>\n",
       "      <th>0</th>\n",
       "      <td>imdb-&gt;uwcse(advisedby)</td>\n",
       "      <td>0.932 +/- 0.033</td>\n",
       "      <td>0.937 +/- 0.039</td>\n",
       "      <td>0.926 +/- 0.038</td>\n",
       "    </tr>\n",
       "    <tr>\n",
       "      <th>1</th>\n",
       "      <td>uwcse-&gt;imdb(workedunder)</td>\n",
       "      <td>1.000 +/- 0.000</td>\n",
       "      <td>1.000 +/- 0.000</td>\n",
       "      <td>0.968 +/- 0.065</td>\n",
       "    </tr>\n",
       "    <tr>\n",
       "      <th>2</th>\n",
       "      <td>imdb-&gt;cora(samevenue)</td>\n",
       "      <td>0.526 +/- 0.092</td>\n",
       "      <td>0.532 +/- 0.097</td>\n",
       "      <td>0.531 +/- 0.091</td>\n",
       "    </tr>\n",
       "    <tr>\n",
       "      <th>3</th>\n",
       "      <td>cora-&gt;imdb(workedunder)</td>\n",
       "      <td>0.928 +/- 0.092</td>\n",
       "      <td>0.993 +/- 0.027</td>\n",
       "      <td>0.968 +/- 0.065</td>\n",
       "    </tr>\n",
       "    <tr>\n",
       "      <th>4</th>\n",
       "      <td>yeast-&gt;twitter(follows)</td>\n",
       "      <td>0.716 +/- 0.042</td>\n",
       "      <td>0.721 +/- 0.031</td>\n",
       "      <td>0.719 +/- 0.039</td>\n",
       "    </tr>\n",
       "    <tr>\n",
       "      <th>5</th>\n",
       "      <td>twitter-&gt;yeast(interaction)</td>\n",
       "      <td>0.610 +/- 0.062</td>\n",
       "      <td>0.629 +/- 0.057</td>\n",
       "      <td>0.660 +/- 0.043</td>\n",
       "    </tr>\n",
       "    <tr>\n",
       "      <th>6</th>\n",
       "      <td>nell_sports-&gt;nell_finances(companyeconomicsector)</td>\n",
       "      <td>0.500 +/- 0.000</td>\n",
       "      <td>1.000 +/- 0.000</td>\n",
       "      <td>1.000 +/- 0.000</td>\n",
       "    </tr>\n",
       "    <tr>\n",
       "      <th>7</th>\n",
       "      <td>nell_finances-&gt;nell_sports(teamplayssport)</td>\n",
       "      <td>0.930 +/- 0.013</td>\n",
       "      <td>0.922 +/- 0.022</td>\n",
       "      <td>0.931 +/- 0.013</td>\n",
       "    </tr>\n",
       "    <tr>\n",
       "      <th>8</th>\n",
       "      <td>imdb-&gt;yago2s(ismarriedto)</td>\n",
       "      <td>0.546 +/- 0.062</td>\n",
       "      <td>0.718 +/- 0.016</td>\n",
       "      <td>0.727 +/- 0.008</td>\n",
       "    </tr>\n",
       "    <tr>\n",
       "      <th>9</th>\n",
       "      <td>imdb-&gt;yago2s(hasacademicadvisor)</td>\n",
       "      <td>0.524 +/- 0.025</td>\n",
       "      <td>0.721 +/- 0.002</td>\n",
       "      <td>0.730 +/- 0.015</td>\n",
       "    </tr>\n",
       "    <tr>\n",
       "      <th>10</th>\n",
       "      <td>imdb-&gt;yago2s(haschild)</td>\n",
       "      <td>0.501 +/- 0.001</td>\n",
       "      <td>0.648 +/- 0.015</td>\n",
       "      <td>0.662 +/- 0.013</td>\n",
       "    </tr>\n",
       "  </tbody>\n",
       "</table>\n",
       "</div>"
      ],
      "text/plain": [
       "                                           Experiment Transfer Learning  \\\n",
       "0                              imdb->uwcse(advisedby)   0.932 +/- 0.033   \n",
       "1                            uwcse->imdb(workedunder)   1.000 +/- 0.000   \n",
       "2                               imdb->cora(samevenue)   0.526 +/- 0.092   \n",
       "3                             cora->imdb(workedunder)   0.928 +/- 0.092   \n",
       "4                             yeast->twitter(follows)   0.716 +/- 0.042   \n",
       "5                         twitter->yeast(interaction)   0.610 +/- 0.062   \n",
       "6   nell_sports->nell_finances(companyeconomicsector)   0.500 +/- 0.000   \n",
       "7          nell_finances->nell_sports(teamplayssport)   0.930 +/- 0.013   \n",
       "8                           imdb->yago2s(ismarriedto)   0.546 +/- 0.062   \n",
       "9                    imdb->yago2s(hasacademicadvisor)   0.524 +/- 0.025   \n",
       "10                             imdb->yago2s(haschild)   0.501 +/- 0.001   \n",
       "\n",
       "   Transfer Learning with Revision Theory Learning from scratch  \n",
       "0                         0.937 +/- 0.039       0.926 +/- 0.038  \n",
       "1                         1.000 +/- 0.000       0.968 +/- 0.065  \n",
       "2                         0.532 +/- 0.097       0.531 +/- 0.091  \n",
       "3                         0.993 +/- 0.027       0.968 +/- 0.065  \n",
       "4                         0.721 +/- 0.031       0.719 +/- 0.039  \n",
       "5                         0.629 +/- 0.057       0.660 +/- 0.043  \n",
       "6                         1.000 +/- 0.000       1.000 +/- 0.000  \n",
       "7                         0.922 +/- 0.022       0.931 +/- 0.013  \n",
       "8                         0.718 +/- 0.016       0.727 +/- 0.008  \n",
       "9                         0.721 +/- 0.002       0.730 +/- 0.015  \n",
       "10                        0.648 +/- 0.015       0.662 +/- 0.013  "
      ]
     },
     "metadata": {},
     "output_type": "display_data"
    },
    {
     "data": {
      "text/markdown": [
       "# Results for AUC PR"
      ],
      "text/plain": [
       "<IPython.core.display.Markdown object>"
      ]
     },
     "metadata": {},
     "output_type": "display_data"
    },
    {
     "data": {
      "text/html": [
       "<div>\n",
       "<table border=\"1\" class=\"dataframe\">\n",
       "  <thead>\n",
       "    <tr style=\"text-align: right;\">\n",
       "      <th></th>\n",
       "      <th>Experiment</th>\n",
       "      <th>Transfer Learning</th>\n",
       "      <th>Transfer Learning with Revision Theory</th>\n",
       "      <th>Learning from scratch</th>\n",
       "    </tr>\n",
       "  </thead>\n",
       "  <tbody>\n",
       "    <tr>\n",
       "      <th>0</th>\n",
       "      <td>imdb-&gt;uwcse(advisedby)</td>\n",
       "      <td>0.905 +/- 0.070</td>\n",
       "      <td>0.901 +/- 0.077</td>\n",
       "      <td>0.876 +/- 0.071</td>\n",
       "    </tr>\n",
       "    <tr>\n",
       "      <th>1</th>\n",
       "      <td>uwcse-&gt;imdb(workedunder)</td>\n",
       "      <td>1.000 +/- 0.000</td>\n",
       "      <td>1.000 +/- 0.000</td>\n",
       "      <td>0.943 +/- 0.113</td>\n",
       "    </tr>\n",
       "    <tr>\n",
       "      <th>2</th>\n",
       "      <td>imdb-&gt;cora(samevenue)</td>\n",
       "      <td>0.532 +/- 0.091</td>\n",
       "      <td>0.543 +/- 0.097</td>\n",
       "      <td>0.541 +/- 0.091</td>\n",
       "    </tr>\n",
       "    <tr>\n",
       "      <th>3</th>\n",
       "      <td>cora-&gt;imdb(workedunder)</td>\n",
       "      <td>0.896 +/- 0.153</td>\n",
       "      <td>0.987 +/- 0.050</td>\n",
       "      <td>0.943 +/- 0.113</td>\n",
       "    </tr>\n",
       "    <tr>\n",
       "      <th>4</th>\n",
       "      <td>yeast-&gt;twitter(follows)</td>\n",
       "      <td>0.696 +/- 0.040</td>\n",
       "      <td>0.701 +/- 0.030</td>\n",
       "      <td>0.692 +/- 0.039</td>\n",
       "    </tr>\n",
       "    <tr>\n",
       "      <th>5</th>\n",
       "      <td>twitter-&gt;yeast(interaction)</td>\n",
       "      <td>0.616 +/- 0.042</td>\n",
       "      <td>0.637 +/- 0.052</td>\n",
       "      <td>0.687 +/- 0.036</td>\n",
       "    </tr>\n",
       "    <tr>\n",
       "      <th>6</th>\n",
       "      <td>nell_sports-&gt;nell_finances(companyeconomicsector)</td>\n",
       "      <td>0.500 +/- 0.000</td>\n",
       "      <td>1.000 +/- 0.000</td>\n",
       "      <td>1.000 +/- 0.000</td>\n",
       "    </tr>\n",
       "    <tr>\n",
       "      <th>7</th>\n",
       "      <td>nell_finances-&gt;nell_sports(teamplayssport)</td>\n",
       "      <td>0.926 +/- 0.027</td>\n",
       "      <td>0.920 +/- 0.027</td>\n",
       "      <td>0.928 +/- 0.024</td>\n",
       "    </tr>\n",
       "    <tr>\n",
       "      <th>8</th>\n",
       "      <td>imdb-&gt;yago2s(ismarriedto)</td>\n",
       "      <td>0.586 +/- 0.113</td>\n",
       "      <td>0.743 +/- 0.013</td>\n",
       "      <td>0.751 +/- 0.006</td>\n",
       "    </tr>\n",
       "    <tr>\n",
       "      <th>9</th>\n",
       "      <td>imdb-&gt;yago2s(hasacademicadvisor)</td>\n",
       "      <td>0.552 +/- 0.048</td>\n",
       "      <td>0.757 +/- 0.006</td>\n",
       "      <td>0.760 +/- 0.011</td>\n",
       "    </tr>\n",
       "    <tr>\n",
       "      <th>10</th>\n",
       "      <td>imdb-&gt;yago2s(haschild)</td>\n",
       "      <td>0.504 +/- 0.002</td>\n",
       "      <td>0.673 +/- 0.019</td>\n",
       "      <td>0.688 +/- 0.017</td>\n",
       "    </tr>\n",
       "  </tbody>\n",
       "</table>\n",
       "</div>"
      ],
      "text/plain": [
       "                                           Experiment Transfer Learning  \\\n",
       "0                              imdb->uwcse(advisedby)   0.905 +/- 0.070   \n",
       "1                            uwcse->imdb(workedunder)   1.000 +/- 0.000   \n",
       "2                               imdb->cora(samevenue)   0.532 +/- 0.091   \n",
       "3                             cora->imdb(workedunder)   0.896 +/- 0.153   \n",
       "4                             yeast->twitter(follows)   0.696 +/- 0.040   \n",
       "5                         twitter->yeast(interaction)   0.616 +/- 0.042   \n",
       "6   nell_sports->nell_finances(companyeconomicsector)   0.500 +/- 0.000   \n",
       "7          nell_finances->nell_sports(teamplayssport)   0.926 +/- 0.027   \n",
       "8                           imdb->yago2s(ismarriedto)   0.586 +/- 0.113   \n",
       "9                    imdb->yago2s(hasacademicadvisor)   0.552 +/- 0.048   \n",
       "10                             imdb->yago2s(haschild)   0.504 +/- 0.002   \n",
       "\n",
       "   Transfer Learning with Revision Theory Learning from scratch  \n",
       "0                         0.901 +/- 0.077       0.876 +/- 0.071  \n",
       "1                         1.000 +/- 0.000       0.943 +/- 0.113  \n",
       "2                         0.543 +/- 0.097       0.541 +/- 0.091  \n",
       "3                         0.987 +/- 0.050       0.943 +/- 0.113  \n",
       "4                         0.701 +/- 0.030       0.692 +/- 0.039  \n",
       "5                         0.637 +/- 0.052       0.687 +/- 0.036  \n",
       "6                         1.000 +/- 0.000       1.000 +/- 0.000  \n",
       "7                         0.920 +/- 0.027       0.928 +/- 0.024  \n",
       "8                         0.743 +/- 0.013       0.751 +/- 0.006  \n",
       "9                         0.757 +/- 0.006       0.760 +/- 0.011  \n",
       "10                        0.673 +/- 0.019       0.688 +/- 0.017  "
      ]
     },
     "metadata": {},
     "output_type": "display_data"
    },
    {
     "data": {
      "text/markdown": [
       "# Results for CLL"
      ],
      "text/plain": [
       "<IPython.core.display.Markdown object>"
      ]
     },
     "metadata": {},
     "output_type": "display_data"
    },
    {
     "data": {
      "text/html": [
       "<div>\n",
       "<table border=\"1\" class=\"dataframe\">\n",
       "  <thead>\n",
       "    <tr style=\"text-align: right;\">\n",
       "      <th></th>\n",
       "      <th>Experiment</th>\n",
       "      <th>Transfer Learning</th>\n",
       "      <th>Transfer Learning with Revision Theory</th>\n",
       "      <th>Learning from scratch</th>\n",
       "    </tr>\n",
       "  </thead>\n",
       "  <tbody>\n",
       "    <tr>\n",
       "      <th>0</th>\n",
       "      <td>imdb-&gt;uwcse(advisedby)</td>\n",
       "      <td>-0.281 +/- 0.021</td>\n",
       "      <td>-0.277 +/- 0.021</td>\n",
       "      <td>-0.283 +/- 0.025</td>\n",
       "    </tr>\n",
       "    <tr>\n",
       "      <th>1</th>\n",
       "      <td>uwcse-&gt;imdb(workedunder)</td>\n",
       "      <td>-0.099 +/- 0.008</td>\n",
       "      <td>-0.095 +/- 0.002</td>\n",
       "      <td>-0.161 +/- 0.132</td>\n",
       "    </tr>\n",
       "    <tr>\n",
       "      <th>2</th>\n",
       "      <td>imdb-&gt;cora(samevenue)</td>\n",
       "      <td>-0.690 +/- 0.021</td>\n",
       "      <td>-0.690 +/- 0.025</td>\n",
       "      <td>-0.691 +/- 0.023</td>\n",
       "    </tr>\n",
       "    <tr>\n",
       "      <th>3</th>\n",
       "      <td>cora-&gt;imdb(workedunder)</td>\n",
       "      <td>-0.317 +/- 0.089</td>\n",
       "      <td>-0.128 +/- 0.096</td>\n",
       "      <td>-0.161 +/- 0.132</td>\n",
       "    </tr>\n",
       "    <tr>\n",
       "      <th>4</th>\n",
       "      <td>yeast-&gt;twitter(follows)</td>\n",
       "      <td>-0.622 +/- 0.026</td>\n",
       "      <td>-0.617 +/- 0.028</td>\n",
       "      <td>-0.617 +/- 0.038</td>\n",
       "    </tr>\n",
       "    <tr>\n",
       "      <th>5</th>\n",
       "      <td>twitter-&gt;yeast(interaction)</td>\n",
       "      <td>-0.670 +/- 0.023</td>\n",
       "      <td>-0.666 +/- 0.025</td>\n",
       "      <td>-0.652 +/- 0.022</td>\n",
       "    </tr>\n",
       "    <tr>\n",
       "      <th>6</th>\n",
       "      <td>nell_sports-&gt;nell_finances(companyeconomicsector)</td>\n",
       "      <td>-0.695 +/- 0.000</td>\n",
       "      <td>-0.265 +/- 0.212</td>\n",
       "      <td>-0.095 +/- 0.000</td>\n",
       "    </tr>\n",
       "    <tr>\n",
       "      <th>7</th>\n",
       "      <td>nell_finances-&gt;nell_sports(teamplayssport)</td>\n",
       "      <td>-0.358 +/- 0.022</td>\n",
       "      <td>-0.370 +/- 0.030</td>\n",
       "      <td>-0.355 +/- 0.021</td>\n",
       "    </tr>\n",
       "    <tr>\n",
       "      <th>8</th>\n",
       "      <td>imdb-&gt;yago2s(ismarriedto)</td>\n",
       "      <td>-0.667 +/- 0.038</td>\n",
       "      <td>-0.604 +/- 0.008</td>\n",
       "      <td>-0.601 +/- 0.003</td>\n",
       "    </tr>\n",
       "    <tr>\n",
       "      <th>9</th>\n",
       "      <td>imdb-&gt;yago2s(hasacademicadvisor)</td>\n",
       "      <td>-0.683 +/- 0.012</td>\n",
       "      <td>-0.609 +/- 0.003</td>\n",
       "      <td>-0.606 +/- 0.005</td>\n",
       "    </tr>\n",
       "    <tr>\n",
       "      <th>10</th>\n",
       "      <td>imdb-&gt;yago2s(haschild)</td>\n",
       "      <td>-0.694 +/- 0.000</td>\n",
       "      <td>-0.661 +/- 0.004</td>\n",
       "      <td>-0.653 +/- 0.005</td>\n",
       "    </tr>\n",
       "  </tbody>\n",
       "</table>\n",
       "</div>"
      ],
      "text/plain": [
       "                                           Experiment Transfer Learning  \\\n",
       "0                              imdb->uwcse(advisedby)  -0.281 +/- 0.021   \n",
       "1                            uwcse->imdb(workedunder)  -0.099 +/- 0.008   \n",
       "2                               imdb->cora(samevenue)  -0.690 +/- 0.021   \n",
       "3                             cora->imdb(workedunder)  -0.317 +/- 0.089   \n",
       "4                             yeast->twitter(follows)  -0.622 +/- 0.026   \n",
       "5                         twitter->yeast(interaction)  -0.670 +/- 0.023   \n",
       "6   nell_sports->nell_finances(companyeconomicsector)  -0.695 +/- 0.000   \n",
       "7          nell_finances->nell_sports(teamplayssport)  -0.358 +/- 0.022   \n",
       "8                           imdb->yago2s(ismarriedto)  -0.667 +/- 0.038   \n",
       "9                    imdb->yago2s(hasacademicadvisor)  -0.683 +/- 0.012   \n",
       "10                             imdb->yago2s(haschild)  -0.694 +/- 0.000   \n",
       "\n",
       "   Transfer Learning with Revision Theory Learning from scratch  \n",
       "0                        -0.277 +/- 0.021      -0.283 +/- 0.025  \n",
       "1                        -0.095 +/- 0.002      -0.161 +/- 0.132  \n",
       "2                        -0.690 +/- 0.025      -0.691 +/- 0.023  \n",
       "3                        -0.128 +/- 0.096      -0.161 +/- 0.132  \n",
       "4                        -0.617 +/- 0.028      -0.617 +/- 0.038  \n",
       "5                        -0.666 +/- 0.025      -0.652 +/- 0.022  \n",
       "6                        -0.265 +/- 0.212      -0.095 +/- 0.000  \n",
       "7                        -0.370 +/- 0.030      -0.355 +/- 0.021  \n",
       "8                        -0.604 +/- 0.008      -0.601 +/- 0.003  \n",
       "9                        -0.609 +/- 0.003      -0.606 +/- 0.005  \n",
       "10                       -0.661 +/- 0.004      -0.653 +/- 0.005  "
      ]
     },
     "metadata": {},
     "output_type": "display_data"
    },
    {
     "data": {
      "text/markdown": [
       "# Results for Recall"
      ],
      "text/plain": [
       "<IPython.core.display.Markdown object>"
      ]
     },
     "metadata": {},
     "output_type": "display_data"
    },
    {
     "data": {
      "text/html": [
       "<div>\n",
       "<table border=\"1\" class=\"dataframe\">\n",
       "  <thead>\n",
       "    <tr style=\"text-align: right;\">\n",
       "      <th></th>\n",
       "      <th>Experiment</th>\n",
       "      <th>Transfer Learning</th>\n",
       "      <th>Transfer Learning with Revision Theory</th>\n",
       "      <th>Learning from scratch</th>\n",
       "    </tr>\n",
       "  </thead>\n",
       "  <tbody>\n",
       "    <tr>\n",
       "      <th>0</th>\n",
       "      <td>imdb-&gt;uwcse(advisedby)</td>\n",
       "      <td>1.000 +/- 0.000</td>\n",
       "      <td>0.969 +/- 0.053</td>\n",
       "      <td>0.973 +/- 0.053</td>\n",
       "    </tr>\n",
       "    <tr>\n",
       "      <th>1</th>\n",
       "      <td>uwcse-&gt;imdb(workedunder)</td>\n",
       "      <td>1.000 +/- 0.000</td>\n",
       "      <td>1.000 +/- 0.000</td>\n",
       "      <td>1.000 +/- 0.000</td>\n",
       "    </tr>\n",
       "    <tr>\n",
       "      <th>2</th>\n",
       "      <td>imdb-&gt;cora(samevenue)</td>\n",
       "      <td>0.768 +/- 0.769</td>\n",
       "      <td>0.758 +/- 0.708</td>\n",
       "      <td>0.708 +/- 0.783</td>\n",
       "    </tr>\n",
       "    <tr>\n",
       "      <th>3</th>\n",
       "      <td>cora-&gt;imdb(workedunder)</td>\n",
       "      <td>0.953 +/- 0.153</td>\n",
       "      <td>0.986 +/- 0.097</td>\n",
       "      <td>1.000 +/- 0.000</td>\n",
       "    </tr>\n",
       "    <tr>\n",
       "      <th>4</th>\n",
       "      <td>yeast-&gt;twitter(follows)</td>\n",
       "      <td>0.558 +/- 0.183</td>\n",
       "      <td>0.513 +/- 0.033</td>\n",
       "      <td>0.514 +/- 0.031</td>\n",
       "    </tr>\n",
       "    <tr>\n",
       "      <th>5</th>\n",
       "      <td>twitter-&gt;yeast(interaction)</td>\n",
       "      <td>0.421 +/- 0.354</td>\n",
       "      <td>0.437 +/- 0.304</td>\n",
       "      <td>0.454 +/- 0.252</td>\n",
       "    </tr>\n",
       "    <tr>\n",
       "      <th>6</th>\n",
       "      <td>nell_sports-&gt;nell_finances(companyeconomicsector)</td>\n",
       "      <td>0.000 +/- 0.000</td>\n",
       "      <td>1.000 +/- 0.001</td>\n",
       "      <td>1.000 +/- 0.000</td>\n",
       "    </tr>\n",
       "    <tr>\n",
       "      <th>7</th>\n",
       "      <td>nell_finances-&gt;nell_sports(teamplayssport)</td>\n",
       "      <td>0.890 +/- 0.045</td>\n",
       "      <td>0.908 +/- 0.028</td>\n",
       "      <td>0.896 +/- 0.057</td>\n",
       "    </tr>\n",
       "    <tr>\n",
       "      <th>8</th>\n",
       "      <td>imdb-&gt;yago2s(ismarriedto)</td>\n",
       "      <td>0.091 +/- 0.124</td>\n",
       "      <td>0.299 +/- 0.023</td>\n",
       "      <td>0.317 +/- 0.010</td>\n",
       "    </tr>\n",
       "    <tr>\n",
       "      <th>9</th>\n",
       "      <td>imdb-&gt;yago2s(hasacademicadvisor)</td>\n",
       "      <td>0.050 +/- 0.055</td>\n",
       "      <td>0.379 +/- 0.022</td>\n",
       "      <td>0.397 +/- 0.044</td>\n",
       "    </tr>\n",
       "    <tr>\n",
       "      <th>10</th>\n",
       "      <td>imdb-&gt;yago2s(haschild)</td>\n",
       "      <td>0.002 +/- 0.001</td>\n",
       "      <td>0.312 +/- 0.027</td>\n",
       "      <td>0.329 +/- 0.025</td>\n",
       "    </tr>\n",
       "  </tbody>\n",
       "</table>\n",
       "</div>"
      ],
      "text/plain": [
       "                                           Experiment Transfer Learning  \\\n",
       "0                              imdb->uwcse(advisedby)   1.000 +/- 0.000   \n",
       "1                            uwcse->imdb(workedunder)   1.000 +/- 0.000   \n",
       "2                               imdb->cora(samevenue)   0.768 +/- 0.769   \n",
       "3                             cora->imdb(workedunder)   0.953 +/- 0.153   \n",
       "4                             yeast->twitter(follows)   0.558 +/- 0.183   \n",
       "5                         twitter->yeast(interaction)   0.421 +/- 0.354   \n",
       "6   nell_sports->nell_finances(companyeconomicsector)   0.000 +/- 0.000   \n",
       "7          nell_finances->nell_sports(teamplayssport)   0.890 +/- 0.045   \n",
       "8                           imdb->yago2s(ismarriedto)   0.091 +/- 0.124   \n",
       "9                    imdb->yago2s(hasacademicadvisor)   0.050 +/- 0.055   \n",
       "10                             imdb->yago2s(haschild)   0.002 +/- 0.001   \n",
       "\n",
       "   Transfer Learning with Revision Theory Learning from scratch  \n",
       "0                         0.969 +/- 0.053       0.973 +/- 0.053  \n",
       "1                         1.000 +/- 0.000       1.000 +/- 0.000  \n",
       "2                         0.758 +/- 0.708       0.708 +/- 0.783  \n",
       "3                         0.986 +/- 0.097       1.000 +/- 0.000  \n",
       "4                         0.513 +/- 0.033       0.514 +/- 0.031  \n",
       "5                         0.437 +/- 0.304       0.454 +/- 0.252  \n",
       "6                         1.000 +/- 0.001       1.000 +/- 0.000  \n",
       "7                         0.908 +/- 0.028       0.896 +/- 0.057  \n",
       "8                         0.299 +/- 0.023       0.317 +/- 0.010  \n",
       "9                         0.379 +/- 0.022       0.397 +/- 0.044  \n",
       "10                        0.312 +/- 0.027       0.329 +/- 0.025  "
      ]
     },
     "metadata": {},
     "output_type": "display_data"
    },
    {
     "data": {
      "text/markdown": [
       "# Results for F1"
      ],
      "text/plain": [
       "<IPython.core.display.Markdown object>"
      ]
     },
     "metadata": {},
     "output_type": "display_data"
    },
    {
     "data": {
      "text/html": [
       "<div>\n",
       "<table border=\"1\" class=\"dataframe\">\n",
       "  <thead>\n",
       "    <tr style=\"text-align: right;\">\n",
       "      <th></th>\n",
       "      <th>Experiment</th>\n",
       "      <th>Transfer Learning</th>\n",
       "      <th>Transfer Learning with Revision Theory</th>\n",
       "      <th>Learning from scratch</th>\n",
       "    </tr>\n",
       "  </thead>\n",
       "  <tbody>\n",
       "    <tr>\n",
       "      <th>0</th>\n",
       "      <td>imdb-&gt;uwcse(advisedby)</td>\n",
       "      <td>0.919 +/- 0.020</td>\n",
       "      <td>0.910 +/- 0.016</td>\n",
       "      <td>0.911 +/- 0.019</td>\n",
       "    </tr>\n",
       "    <tr>\n",
       "      <th>1</th>\n",
       "      <td>uwcse-&gt;imdb(workedunder)</td>\n",
       "      <td>1.000 +/- 0.000</td>\n",
       "      <td>1.000 +/- 0.000</td>\n",
       "      <td>0.970 +/- 0.059</td>\n",
       "    </tr>\n",
       "    <tr>\n",
       "      <th>2</th>\n",
       "      <td>imdb-&gt;cora(samevenue)</td>\n",
       "      <td>nan +/- nan</td>\n",
       "      <td>0.567 +/- 0.472</td>\n",
       "      <td>nan +/- nan</td>\n",
       "    </tr>\n",
       "    <tr>\n",
       "      <th>3</th>\n",
       "      <td>cora-&gt;imdb(workedunder)</td>\n",
       "      <td>0.893 +/- 0.018</td>\n",
       "      <td>0.981 +/- 0.056</td>\n",
       "      <td>0.970 +/- 0.059</td>\n",
       "    </tr>\n",
       "    <tr>\n",
       "      <th>4</th>\n",
       "      <td>yeast-&gt;twitter(follows)</td>\n",
       "      <td>0.630 +/- 0.061</td>\n",
       "      <td>0.618 +/- 0.027</td>\n",
       "      <td>0.618 +/- 0.027</td>\n",
       "    </tr>\n",
       "    <tr>\n",
       "      <th>5</th>\n",
       "      <td>twitter-&gt;yeast(interaction)</td>\n",
       "      <td>0.476 +/- 0.293</td>\n",
       "      <td>0.503 +/- 0.218</td>\n",
       "      <td>0.532 +/- 0.162</td>\n",
       "    </tr>\n",
       "    <tr>\n",
       "      <th>6</th>\n",
       "      <td>nell_sports-&gt;nell_finances(companyeconomicsector)</td>\n",
       "      <td>nan +/- nan</td>\n",
       "      <td>1.000 +/- 0.000</td>\n",
       "      <td>1.000 +/- 0.000</td>\n",
       "    </tr>\n",
       "    <tr>\n",
       "      <th>7</th>\n",
       "      <td>nell_finances-&gt;nell_sports(teamplayssport)</td>\n",
       "      <td>0.855 +/- 0.017</td>\n",
       "      <td>0.852 +/- 0.020</td>\n",
       "      <td>0.860 +/- 0.023</td>\n",
       "    </tr>\n",
       "    <tr>\n",
       "      <th>8</th>\n",
       "      <td>imdb-&gt;yago2s(ismarriedto)</td>\n",
       "      <td>0.161 +/- 0.218</td>\n",
       "      <td>0.444 +/- 0.026</td>\n",
       "      <td>0.463 +/- 0.008</td>\n",
       "    </tr>\n",
       "    <tr>\n",
       "      <th>9</th>\n",
       "      <td>imdb-&gt;yago2s(hasacademicadvisor)</td>\n",
       "      <td>0.094 +/- 0.100</td>\n",
       "      <td>0.526 +/- 0.017</td>\n",
       "      <td>0.539 +/- 0.032</td>\n",
       "    </tr>\n",
       "    <tr>\n",
       "      <th>10</th>\n",
       "      <td>imdb-&gt;yago2s(haschild)</td>\n",
       "      <td>0.004 +/- 0.002</td>\n",
       "      <td>0.431 +/- 0.026</td>\n",
       "      <td>0.450 +/- 0.027</td>\n",
       "    </tr>\n",
       "  </tbody>\n",
       "</table>\n",
       "</div>"
      ],
      "text/plain": [
       "                                           Experiment Transfer Learning  \\\n",
       "0                              imdb->uwcse(advisedby)   0.919 +/- 0.020   \n",
       "1                            uwcse->imdb(workedunder)   1.000 +/- 0.000   \n",
       "2                               imdb->cora(samevenue)       nan +/- nan   \n",
       "3                             cora->imdb(workedunder)   0.893 +/- 0.018   \n",
       "4                             yeast->twitter(follows)   0.630 +/- 0.061   \n",
       "5                         twitter->yeast(interaction)   0.476 +/- 0.293   \n",
       "6   nell_sports->nell_finances(companyeconomicsector)       nan +/- nan   \n",
       "7          nell_finances->nell_sports(teamplayssport)   0.855 +/- 0.017   \n",
       "8                           imdb->yago2s(ismarriedto)   0.161 +/- 0.218   \n",
       "9                    imdb->yago2s(hasacademicadvisor)   0.094 +/- 0.100   \n",
       "10                             imdb->yago2s(haschild)   0.004 +/- 0.002   \n",
       "\n",
       "   Transfer Learning with Revision Theory Learning from scratch  \n",
       "0                         0.910 +/- 0.016       0.911 +/- 0.019  \n",
       "1                         1.000 +/- 0.000       0.970 +/- 0.059  \n",
       "2                         0.567 +/- 0.472           nan +/- nan  \n",
       "3                         0.981 +/- 0.056       0.970 +/- 0.059  \n",
       "4                         0.618 +/- 0.027       0.618 +/- 0.027  \n",
       "5                         0.503 +/- 0.218       0.532 +/- 0.162  \n",
       "6                         1.000 +/- 0.000       1.000 +/- 0.000  \n",
       "7                         0.852 +/- 0.020       0.860 +/- 0.023  \n",
       "8                         0.444 +/- 0.026       0.463 +/- 0.008  \n",
       "9                         0.526 +/- 0.017       0.539 +/- 0.032  \n",
       "10                        0.431 +/- 0.026       0.450 +/- 0.027  "
      ]
     },
     "metadata": {},
     "output_type": "display_data"
    },
    {
     "data": {
      "text/markdown": [
       "# Results for Precision"
      ],
      "text/plain": [
       "<IPython.core.display.Markdown object>"
      ]
     },
     "metadata": {},
     "output_type": "display_data"
    },
    {
     "data": {
      "text/html": [
       "<div>\n",
       "<table border=\"1\" class=\"dataframe\">\n",
       "  <thead>\n",
       "    <tr style=\"text-align: right;\">\n",
       "      <th></th>\n",
       "      <th>Experiment</th>\n",
       "      <th>Transfer Learning</th>\n",
       "      <th>Transfer Learning with Revision Theory</th>\n",
       "      <th>Learning from scratch</th>\n",
       "    </tr>\n",
       "  </thead>\n",
       "  <tbody>\n",
       "    <tr>\n",
       "      <th>0</th>\n",
       "      <td>imdb-&gt;uwcse(advisedby)</td>\n",
       "      <td>0.850 +/- 0.033</td>\n",
       "      <td>0.859 +/- 0.049</td>\n",
       "      <td>0.858 +/- 0.047</td>\n",
       "    </tr>\n",
       "    <tr>\n",
       "      <th>1</th>\n",
       "      <td>uwcse-&gt;imdb(workedunder)</td>\n",
       "      <td>1.000 +/- 0.000</td>\n",
       "      <td>1.000 +/- 0.000</td>\n",
       "      <td>0.943 +/- 0.111</td>\n",
       "    </tr>\n",
       "    <tr>\n",
       "      <th>2</th>\n",
       "      <td>imdb-&gt;cora(samevenue)</td>\n",
       "      <td>nan +/- nan</td>\n",
       "      <td>0.562 +/- 0.092</td>\n",
       "      <td>nan +/- nan</td>\n",
       "    </tr>\n",
       "    <tr>\n",
       "      <th>3</th>\n",
       "      <td>cora-&gt;imdb(workedunder)</td>\n",
       "      <td>0.849 +/- 0.130</td>\n",
       "      <td>0.979 +/- 0.056</td>\n",
       "      <td>0.943 +/- 0.111</td>\n",
       "    </tr>\n",
       "    <tr>\n",
       "      <th>4</th>\n",
       "      <td>yeast-&gt;twitter(follows)</td>\n",
       "      <td>0.744 +/- 0.112</td>\n",
       "      <td>0.778 +/- 0.024</td>\n",
       "      <td>0.776 +/- 0.023</td>\n",
       "    </tr>\n",
       "    <tr>\n",
       "      <th>5</th>\n",
       "      <td>twitter-&gt;yeast(interaction)</td>\n",
       "      <td>0.667 +/- 0.260</td>\n",
       "      <td>0.656 +/- 0.157</td>\n",
       "      <td>0.687 +/- 0.092</td>\n",
       "    </tr>\n",
       "    <tr>\n",
       "      <th>6</th>\n",
       "      <td>nell_sports-&gt;nell_finances(companyeconomicsector)</td>\n",
       "      <td>nan +/- nan</td>\n",
       "      <td>1.000 +/- 0.000</td>\n",
       "      <td>1.000 +/- 0.000</td>\n",
       "    </tr>\n",
       "    <tr>\n",
       "      <th>7</th>\n",
       "      <td>nell_finances-&gt;nell_sports(teamplayssport)</td>\n",
       "      <td>0.824 +/- 0.046</td>\n",
       "      <td>0.803 +/- 0.037</td>\n",
       "      <td>0.828 +/- 0.059</td>\n",
       "    </tr>\n",
       "    <tr>\n",
       "      <th>8</th>\n",
       "      <td>imdb-&gt;yago2s(ismarriedto)</td>\n",
       "      <td>1.000 +/- 0.000</td>\n",
       "      <td>0.864 +/- 0.011</td>\n",
       "      <td>0.857 +/- 0.024</td>\n",
       "    </tr>\n",
       "    <tr>\n",
       "      <th>9</th>\n",
       "      <td>imdb-&gt;yago2s(hasacademicadvisor)</td>\n",
       "      <td>0.960 +/- 0.058</td>\n",
       "      <td>0.861 +/- 0.022</td>\n",
       "      <td>0.842 +/- 0.042</td>\n",
       "    </tr>\n",
       "    <tr>\n",
       "      <th>10</th>\n",
       "      <td>imdb-&gt;yago2s(haschild)</td>\n",
       "      <td>0.980 +/- 0.055</td>\n",
       "      <td>0.697 +/- 0.030</td>\n",
       "      <td>0.712 +/- 0.024</td>\n",
       "    </tr>\n",
       "  </tbody>\n",
       "</table>\n",
       "</div>"
      ],
      "text/plain": [
       "                                           Experiment Transfer Learning  \\\n",
       "0                              imdb->uwcse(advisedby)   0.850 +/- 0.033   \n",
       "1                            uwcse->imdb(workedunder)   1.000 +/- 0.000   \n",
       "2                               imdb->cora(samevenue)       nan +/- nan   \n",
       "3                             cora->imdb(workedunder)   0.849 +/- 0.130   \n",
       "4                             yeast->twitter(follows)   0.744 +/- 0.112   \n",
       "5                         twitter->yeast(interaction)   0.667 +/- 0.260   \n",
       "6   nell_sports->nell_finances(companyeconomicsector)       nan +/- nan   \n",
       "7          nell_finances->nell_sports(teamplayssport)   0.824 +/- 0.046   \n",
       "8                           imdb->yago2s(ismarriedto)   1.000 +/- 0.000   \n",
       "9                    imdb->yago2s(hasacademicadvisor)   0.960 +/- 0.058   \n",
       "10                             imdb->yago2s(haschild)   0.980 +/- 0.055   \n",
       "\n",
       "   Transfer Learning with Revision Theory Learning from scratch  \n",
       "0                         0.859 +/- 0.049       0.858 +/- 0.047  \n",
       "1                         1.000 +/- 0.000       0.943 +/- 0.111  \n",
       "2                         0.562 +/- 0.092           nan +/- nan  \n",
       "3                         0.979 +/- 0.056       0.943 +/- 0.111  \n",
       "4                         0.778 +/- 0.024       0.776 +/- 0.023  \n",
       "5                         0.656 +/- 0.157       0.687 +/- 0.092  \n",
       "6                         1.000 +/- 0.000       1.000 +/- 0.000  \n",
       "7                         0.803 +/- 0.037       0.828 +/- 0.059  \n",
       "8                         0.864 +/- 0.011       0.857 +/- 0.024  \n",
       "9                         0.861 +/- 0.022       0.842 +/- 0.042  \n",
       "10                        0.697 +/- 0.030       0.712 +/- 0.024  "
      ]
     },
     "metadata": {},
     "output_type": "display_data"
    },
    {
     "data": {
      "text/markdown": [
       "# Results for Learning and Revision time"
      ],
      "text/plain": [
       "<IPython.core.display.Markdown object>"
      ]
     },
     "metadata": {},
     "output_type": "display_data"
    },
    {
     "data": {
      "text/html": [
       "<div>\n",
       "<table border=\"1\" class=\"dataframe\">\n",
       "  <thead>\n",
       "    <tr style=\"text-align: right;\">\n",
       "      <th></th>\n",
       "      <th>Experiment</th>\n",
       "      <th>Transfer Learning</th>\n",
       "      <th>Transfer Learning with Revision Theory</th>\n",
       "      <th>Learning from scratch</th>\n",
       "    </tr>\n",
       "  </thead>\n",
       "  <tbody>\n",
       "    <tr>\n",
       "      <th>0</th>\n",
       "      <td>imdb-&gt;uwcse(advisedby)</td>\n",
       "      <td>2.324 +/- 1.874</td>\n",
       "      <td>5.890 +/- 4.218</td>\n",
       "      <td>4.276 +/- 3.738</td>\n",
       "    </tr>\n",
       "    <tr>\n",
       "      <th>1</th>\n",
       "      <td>uwcse-&gt;imdb(workedunder)</td>\n",
       "      <td>1.998 +/- 1.373</td>\n",
       "      <td>3.722 +/- 2.262</td>\n",
       "      <td>2.163 +/- 1.038</td>\n",
       "    </tr>\n",
       "    <tr>\n",
       "      <th>2</th>\n",
       "      <td>imdb-&gt;cora(samevenue)</td>\n",
       "      <td>11.656 +/- 8.636</td>\n",
       "      <td>31.745 +/- 23.054</td>\n",
       "      <td>21.806 +/- 15.071</td>\n",
       "    </tr>\n",
       "    <tr>\n",
       "      <th>3</th>\n",
       "      <td>cora-&gt;imdb(workedunder)</td>\n",
       "      <td>2.191 +/- 1.451</td>\n",
       "      <td>5.398 +/- 3.471</td>\n",
       "      <td>2.136 +/- 0.958</td>\n",
       "    </tr>\n",
       "    <tr>\n",
       "      <th>4</th>\n",
       "      <td>yeast-&gt;twitter(follows)</td>\n",
       "      <td>18.092 +/- 6.856</td>\n",
       "      <td>67.072 +/- 94.766</td>\n",
       "      <td>34.169 +/- 6.251</td>\n",
       "    </tr>\n",
       "    <tr>\n",
       "      <th>5</th>\n",
       "      <td>twitter-&gt;yeast(interaction)</td>\n",
       "      <td>26.300 +/- 20.823</td>\n",
       "      <td>56.168 +/- 45.988</td>\n",
       "      <td>50.132 +/- 37.406</td>\n",
       "    </tr>\n",
       "    <tr>\n",
       "      <th>6</th>\n",
       "      <td>nell_sports-&gt;nell_finances(companyeconomicsector)</td>\n",
       "      <td>37.017 +/- 54.672</td>\n",
       "      <td>81.480 +/- 94.068</td>\n",
       "      <td>13.050 +/- 15.058</td>\n",
       "    </tr>\n",
       "    <tr>\n",
       "      <th>7</th>\n",
       "      <td>nell_finances-&gt;nell_sports(teamplayssport)</td>\n",
       "      <td>383.035 +/- 316.193</td>\n",
       "      <td>712.967 +/- 452.503</td>\n",
       "      <td>476.235 +/- 436.445</td>\n",
       "    </tr>\n",
       "    <tr>\n",
       "      <th>8</th>\n",
       "      <td>imdb-&gt;yago2s(ismarriedto)</td>\n",
       "      <td>320.663 +/- 62.618</td>\n",
       "      <td>876.779 +/- 95.920</td>\n",
       "      <td>634.832 +/- 179.268</td>\n",
       "    </tr>\n",
       "    <tr>\n",
       "      <th>9</th>\n",
       "      <td>imdb-&gt;yago2s(hasacademicadvisor)</td>\n",
       "      <td>174.488 +/- 45.730</td>\n",
       "      <td>572.533 +/- 180.530</td>\n",
       "      <td>469.601 +/- 138.078</td>\n",
       "    </tr>\n",
       "    <tr>\n",
       "      <th>10</th>\n",
       "      <td>imdb-&gt;yago2s(haschild)</td>\n",
       "      <td>249.237 +/- 37.846</td>\n",
       "      <td>767.920 +/- 149.688</td>\n",
       "      <td>632.348 +/- 387.596</td>\n",
       "    </tr>\n",
       "  </tbody>\n",
       "</table>\n",
       "</div>"
      ],
      "text/plain": [
       "                                           Experiment    Transfer Learning  \\\n",
       "0                              imdb->uwcse(advisedby)      2.324 +/- 1.874   \n",
       "1                            uwcse->imdb(workedunder)      1.998 +/- 1.373   \n",
       "2                               imdb->cora(samevenue)     11.656 +/- 8.636   \n",
       "3                             cora->imdb(workedunder)      2.191 +/- 1.451   \n",
       "4                             yeast->twitter(follows)     18.092 +/- 6.856   \n",
       "5                         twitter->yeast(interaction)    26.300 +/- 20.823   \n",
       "6   nell_sports->nell_finances(companyeconomicsector)    37.017 +/- 54.672   \n",
       "7          nell_finances->nell_sports(teamplayssport)  383.035 +/- 316.193   \n",
       "8                           imdb->yago2s(ismarriedto)   320.663 +/- 62.618   \n",
       "9                    imdb->yago2s(hasacademicadvisor)   174.488 +/- 45.730   \n",
       "10                             imdb->yago2s(haschild)   249.237 +/- 37.846   \n",
       "\n",
       "   Transfer Learning with Revision Theory Learning from scratch  \n",
       "0                         5.890 +/- 4.218       4.276 +/- 3.738  \n",
       "1                         3.722 +/- 2.262       2.163 +/- 1.038  \n",
       "2                       31.745 +/- 23.054     21.806 +/- 15.071  \n",
       "3                         5.398 +/- 3.471       2.136 +/- 0.958  \n",
       "4                       67.072 +/- 94.766      34.169 +/- 6.251  \n",
       "5                       56.168 +/- 45.988     50.132 +/- 37.406  \n",
       "6                       81.480 +/- 94.068     13.050 +/- 15.058  \n",
       "7                     712.967 +/- 452.503   476.235 +/- 436.445  \n",
       "8                      876.779 +/- 95.920   634.832 +/- 179.268  \n",
       "9                     572.533 +/- 180.530   469.601 +/- 138.078  \n",
       "10                    767.920 +/- 149.688   632.348 +/- 387.596  "
      ]
     },
     "metadata": {},
     "output_type": "display_data"
    },
    {
     "data": {
      "text/markdown": [
       "# Results for Inference time"
      ],
      "text/plain": [
       "<IPython.core.display.Markdown object>"
      ]
     },
     "metadata": {},
     "output_type": "display_data"
    },
    {
     "data": {
      "text/html": [
       "<div>\n",
       "<table border=\"1\" class=\"dataframe\">\n",
       "  <thead>\n",
       "    <tr style=\"text-align: right;\">\n",
       "      <th></th>\n",
       "      <th>Experiment</th>\n",
       "      <th>Transfer Learning</th>\n",
       "      <th>Transfer Learning with Revision Theory</th>\n",
       "      <th>Learning from scratch</th>\n",
       "    </tr>\n",
       "  </thead>\n",
       "  <tbody>\n",
       "    <tr>\n",
       "      <th>0</th>\n",
       "      <td>imdb-&gt;uwcse(advisedby)</td>\n",
       "      <td>2.324 +/- 1.874</td>\n",
       "      <td>0.752 +/- 0.096</td>\n",
       "      <td>0.734 +/- 0.153</td>\n",
       "    </tr>\n",
       "    <tr>\n",
       "      <th>1</th>\n",
       "      <td>uwcse-&gt;imdb(workedunder)</td>\n",
       "      <td>1.998 +/- 1.373</td>\n",
       "      <td>0.812 +/- 0.075</td>\n",
       "      <td>0.751 +/- 0.108</td>\n",
       "    </tr>\n",
       "    <tr>\n",
       "      <th>2</th>\n",
       "      <td>imdb-&gt;cora(samevenue)</td>\n",
       "      <td>11.656 +/- 8.636</td>\n",
       "      <td>3.218 +/- 2.055</td>\n",
       "      <td>3.194 +/- 2.313</td>\n",
       "    </tr>\n",
       "    <tr>\n",
       "      <th>3</th>\n",
       "      <td>cora-&gt;imdb(workedunder)</td>\n",
       "      <td>2.191 +/- 1.451</td>\n",
       "      <td>1.272 +/- 0.537</td>\n",
       "      <td>0.756 +/- 0.134</td>\n",
       "    </tr>\n",
       "    <tr>\n",
       "      <th>4</th>\n",
       "      <td>yeast-&gt;twitter(follows)</td>\n",
       "      <td>18.092 +/- 6.856</td>\n",
       "      <td>7.237 +/- 17.713</td>\n",
       "      <td>1.359 +/- 0.165</td>\n",
       "    </tr>\n",
       "    <tr>\n",
       "      <th>5</th>\n",
       "      <td>twitter-&gt;yeast(interaction)</td>\n",
       "      <td>26.300 +/- 20.823</td>\n",
       "      <td>2.681 +/- 0.676</td>\n",
       "      <td>2.652 +/- 0.623</td>\n",
       "    </tr>\n",
       "    <tr>\n",
       "      <th>6</th>\n",
       "      <td>nell_sports-&gt;nell_finances(companyeconomicsector)</td>\n",
       "      <td>37.017 +/- 54.672</td>\n",
       "      <td>2.119 +/- 0.716</td>\n",
       "      <td>0.907 +/- 0.247</td>\n",
       "    </tr>\n",
       "    <tr>\n",
       "      <th>7</th>\n",
       "      <td>nell_finances-&gt;nell_sports(teamplayssport)</td>\n",
       "      <td>383.035 +/- 316.193</td>\n",
       "      <td>9.194 +/- 9.672</td>\n",
       "      <td>5.098 +/- 2.673</td>\n",
       "    </tr>\n",
       "    <tr>\n",
       "      <th>8</th>\n",
       "      <td>imdb-&gt;yago2s(ismarriedto)</td>\n",
       "      <td>320.663 +/- 62.618</td>\n",
       "      <td>129.157 +/- 291.072</td>\n",
       "      <td>72.021 +/- 21.212</td>\n",
       "    </tr>\n",
       "    <tr>\n",
       "      <th>9</th>\n",
       "      <td>imdb-&gt;yago2s(hasacademicadvisor)</td>\n",
       "      <td>174.488 +/- 45.730</td>\n",
       "      <td>59.710 +/- 4.065</td>\n",
       "      <td>57.104 +/- 1.900</td>\n",
       "    </tr>\n",
       "    <tr>\n",
       "      <th>10</th>\n",
       "      <td>imdb-&gt;yago2s(haschild)</td>\n",
       "      <td>249.237 +/- 37.846</td>\n",
       "      <td>69.883 +/- 2.917</td>\n",
       "      <td>64.435 +/- 9.157</td>\n",
       "    </tr>\n",
       "  </tbody>\n",
       "</table>\n",
       "</div>"
      ],
      "text/plain": [
       "                                           Experiment    Transfer Learning  \\\n",
       "0                              imdb->uwcse(advisedby)      2.324 +/- 1.874   \n",
       "1                            uwcse->imdb(workedunder)      1.998 +/- 1.373   \n",
       "2                               imdb->cora(samevenue)     11.656 +/- 8.636   \n",
       "3                             cora->imdb(workedunder)      2.191 +/- 1.451   \n",
       "4                             yeast->twitter(follows)     18.092 +/- 6.856   \n",
       "5                         twitter->yeast(interaction)    26.300 +/- 20.823   \n",
       "6   nell_sports->nell_finances(companyeconomicsector)    37.017 +/- 54.672   \n",
       "7          nell_finances->nell_sports(teamplayssport)  383.035 +/- 316.193   \n",
       "8                           imdb->yago2s(ismarriedto)   320.663 +/- 62.618   \n",
       "9                    imdb->yago2s(hasacademicadvisor)   174.488 +/- 45.730   \n",
       "10                             imdb->yago2s(haschild)   249.237 +/- 37.846   \n",
       "\n",
       "   Transfer Learning with Revision Theory Learning from scratch  \n",
       "0                         0.752 +/- 0.096       0.734 +/- 0.153  \n",
       "1                         0.812 +/- 0.075       0.751 +/- 0.108  \n",
       "2                         3.218 +/- 2.055       3.194 +/- 2.313  \n",
       "3                         1.272 +/- 0.537       0.756 +/- 0.134  \n",
       "4                        7.237 +/- 17.713       1.359 +/- 0.165  \n",
       "5                         2.681 +/- 0.676       2.652 +/- 0.623  \n",
       "6                         2.119 +/- 0.716       0.907 +/- 0.247  \n",
       "7                         9.194 +/- 9.672       5.098 +/- 2.673  \n",
       "8                     129.157 +/- 291.072     72.021 +/- 21.212  \n",
       "9                        59.710 +/- 4.065      57.104 +/- 1.900  \n",
       "10                       69.883 +/- 2.917      64.435 +/- 9.157  "
      ]
     },
     "metadata": {},
     "output_type": "display_data"
    }
   ],
   "source": [
    "experiments = [\n",
    "            {'source':'imdb', 'target':'uwcse', 'predicate':'workedunder', 'to_predicate':'advisedby'},\n",
    "            {'source':'uwcse', 'target':'imdb', 'predicate':'advisedby', 'to_predicate':'workedunder'},\n",
    "            {'source':'imdb', 'target':'cora', 'predicate':'workedunder', 'to_predicate':'samevenue'},\n",
    "            {'source':'cora', 'target':'imdb', 'predicate':'samevenue', 'to_predicate':'workedunder'},\n",
    "            {'source':'yeast', 'target':'twitter', 'predicate':'interaction', 'to_predicate':'follows'},\n",
    "            {'source':'twitter', 'target':'yeast', 'predicate':'follows', 'to_predicate':'interaction'},\n",
    "            {'source':'nell_sports', 'target':'nell_finances', 'predicate':'teamplayssport', 'to_predicate':'companyeconomicsector'},\n",
    "            {'source':'nell_finances', 'target':'nell_sports', 'predicate':'companyeconomicsector', 'to_predicate':'teamplayssport'},\n",
    "            #{'source':'yeast', 'target':'webkb', 'predicate':'proteinclass'},\n",
    "            #{'source':'webkb', 'target':'yeast', 'predicate':'departmentof'},\n",
    "            #{'source':'twitter', 'target':'webkb', 'predicate':'accounttype'},\n",
    "            #{'source':'webkb', 'target':'twitter', 'predicate':'pageclass'},\n",
    "            {'source':'imdb', 'target':'yago2s', 'predicate':'workedunder', 'to_predicate':'ismarriedto'},\n",
    "            {'source':'imdb', 'target':'yago2s', 'predicate':'workedunder', 'to_predicate':'hasacademicadvisor'},\n",
    "            {'source':'imdb', 'target':'yago2s', 'predicate':'workedunder', 'to_predicate':'haschild'},\n",
    "            #{'source':'imdb', 'target':'yago2s', 'predicate':'workedunder', 'to_predicate':'influences'},\n",
    "            #{'source':'imdb', 'target':'yago2s', 'predicate':'workedunder', 'to_predicate':'wrotemusicfor'},\n",
    "            ]\n",
    "\n",
    "for metric in ['AUC ROC', 'AUC PR', 'CLL', 'Recall', 'F1', 'Precision', 'Learning and Revision time', 'Inference time']:\n",
    "    display(Markdown('# Results for ' + metric))\n",
    "    table = []\n",
    "    for j in range(len(experiments)):\n",
    "        dataset = experiments[j]['source'] + '->' + experiments[j]['target'] + '(' + experiments[j]['to_predicate'] + ')'\n",
    "        if dataset in data['results']: \n",
    "            #for metric in ['AUC ROC', 'AUC PR']:\n",
    "                #display(Markdown('## ' + metric))\n",
    "            if metric == 'Precision':\n",
    "                scratch = np.array([item['scratch']['Precision'][0] for sublist in data['results'][str(dataset)] for item in sublist])\n",
    "                parameter = np.array([item['transfer']['Parameter Learning results']['Precision'][0] for sublist in data['results'][str(dataset)] for item in sublist])\n",
    "                transfer = np.array([item['transfer']['Precision'][0] for sublist in data['results'][str(dataset)] for item in sublist])\n",
    "            elif metric == 'Learning and Revision time':\n",
    "                scratch = np.array([item['scratch']['Learning time'] for sublist in data['results'][str(dataset)] for item in sublist])\n",
    "                parameter = np.array([item['transfer']['Parameter Learning results']['Learning time'] for sublist in data['results'][str(dataset)] for item in sublist])\n",
    "                transfer = np.array([item['transfer']['Learning time'] for sublist in data['results'][str(dataset)] for item in sublist])\n",
    "            elif metric == 'Inference time':\n",
    "                scratch = np.array([item['scratch']['Inference time'] for sublist in data['results'][str(dataset)] for item in sublist])\n",
    "                parameter = np.array([item['transfer']['Parameter Learning results']['Learning time'] for sublist in data['results'][str(dataset)] for item in sublist])\n",
    "                transfer = np.array([item['transfer']['Inference time'] for sublist in data['results'][str(dataset)] for item in sublist])\n",
    "            else:\n",
    "                scratch = np.array([item['scratch'][metric] for sublist in data['results'][str(dataset)] for item in sublist])\n",
    "                parameter = np.array([item['transfer']['Parameter Learning results'][metric] for sublist in data['results'][str(dataset)] for item in sublist])\n",
    "                transfer = np.array([item['transfer'][metric] for sublist in data['results'][str(dataset)] for item in sublist])\n",
    "            table.append([dataset, '%.3f +/- %.3f' % (parameter.mean(), 2 * parameter.std()),\n",
    "            '%.3f +/- %.3f' % (transfer.mean(), 2 * transfer.std()),\n",
    "            '%.3f +/- %.3f' % (scratch.mean(), 2 * scratch.std())])\n",
    "    display(pd.DataFrame(table, columns=['Experiment', 'Transfer Learning', 'Transfer Learning with Revision Theory', 'Learning from scratch']))"
   ]
  },
  {
   "cell_type": "code",
   "execution_count": 4,
   "metadata": {
    "collapsed": false
   },
   "outputs": [
    {
     "data": {
      "text/markdown": [
       "# Results for imdb->uwcse(advisedby)"
      ],
      "text/plain": [
       "<IPython.core.display.Markdown object>"
      ]
     },
     "metadata": {},
     "output_type": "display_data"
    },
    {
     "data": {
      "text/markdown": [
       "## AUC ROC"
      ],
      "text/plain": [
       "<IPython.core.display.Markdown object>"
      ]
     },
     "metadata": {},
     "output_type": "display_data"
    },
    {
     "name": "stdout",
     "output_type": "stream",
     "text": [
      "Scratch: [0.960388 0.927622 0.903846 0.922266 0.920767 0.960552 0.943057 0.903846\n",
      " 0.921875 0.919811 0.960717 0.927622 0.903846 0.917734 0.919811 0.957676\n",
      " 0.927622 0.903846 0.915078 0.920767 0.960059 0.919817 0.903846 0.915078\n",
      " 0.919333]\n",
      "Transfer: [0.945513 0.938201 0.903846 0.924688 0.950207 0.945513 0.938201 0.903846\n",
      " 0.924688 0.950207 0.945513 0.938201 0.903846 0.924688 0.950207 0.945513\n",
      " 0.938201 0.903846 0.924688 0.950207 0.945513 0.938201 0.903846 0.924688\n",
      " 0.950207]\n",
      "Transfer & Revision: [0.958991 0.927622 0.903846 0.942109 0.950951 0.959813 0.927622 0.903846\n",
      " 0.942109 0.950101 0.959977 0.927622 0.903846 0.942109 0.950951 0.960388\n",
      " 0.927622 0.903846 0.942109 0.950951 0.959484 0.927622 0.903846 0.942109\n",
      " 0.949463]\n"
     ]
    },
    {
     "data": {
      "text/markdown": [
       "## AUC PR"
      ],
      "text/plain": [
       "<IPython.core.display.Markdown object>"
      ]
     },
     "metadata": {},
     "output_type": "display_data"
    },
    {
     "name": "stdout",
     "output_type": "stream",
     "text": [
      "Scratch: [0.94359  0.874895 0.83871  0.882501 0.8608   0.943747 0.898798 0.83871\n",
      " 0.877366 0.85767  0.943891 0.874895 0.83871  0.860898 0.85767  0.938329\n",
      " 0.874895 0.83871  0.858534 0.8608   0.93668  0.853765 0.83871  0.858534\n",
      " 0.856935]\n",
      "Transfer: [0.935275 0.916973 0.83871  0.902211 0.932194 0.935275 0.916973 0.83871\n",
      " 0.902211 0.932194 0.935275 0.916973 0.83871  0.902211 0.932194 0.935275\n",
      " 0.916973 0.83871  0.902211 0.932194 0.935275 0.916973 0.83871  0.902211\n",
      " 0.932194]\n",
      "Transfer & Revision: [0.935456 0.874895 0.83871  0.920887 0.932783 0.942399 0.874895 0.83871\n",
      " 0.920887 0.931895 0.936593 0.874895 0.83871  0.920887 0.932783 0.94359\n",
      " 0.874895 0.83871  0.920887 0.932783 0.942097 0.874895 0.83871  0.920887\n",
      " 0.930514]\n"
     ]
    },
    {
     "data": {
      "text/markdown": [
       "## CLL"
      ],
      "text/plain": [
       "<IPython.core.display.Markdown object>"
      ]
     },
     "metadata": {},
     "output_type": "display_data"
    },
    {
     "name": "stdout",
     "output_type": "stream",
     "text": [
      "Scratch: [-0.265495 -0.27356  -0.293154 -0.294713 -0.287464 -0.26594  -0.271142\n",
      " -0.293154 -0.296699 -0.287933 -0.264212 -0.27356  -0.293154 -0.291303\n",
      " -0.287597 -0.263481 -0.27356  -0.293154 -0.296989 -0.287464 -0.259869\n",
      " -0.271638 -0.293154 -0.297234 -0.287901]\n",
      "Transfer: [-0.268915 -0.276061 -0.293154 -0.293182 -0.272351 -0.268915 -0.276061\n",
      " -0.293154 -0.293182 -0.272351 -0.268915 -0.276061 -0.293154 -0.293182\n",
      " -0.272351 -0.268915 -0.276061 -0.293154 -0.293182 -0.272351 -0.268915\n",
      " -0.276061 -0.293154 -0.293182 -0.272351]\n",
      "Transfer & Revision: [-0.25993  -0.27356  -0.293154 -0.282699 -0.270687 -0.264333 -0.27356\n",
      " -0.293154 -0.282699 -0.27114  -0.260667 -0.27356  -0.293154 -0.282699\n",
      " -0.270687 -0.265278 -0.27356  -0.293154 -0.282699 -0.270687 -0.264185\n",
      " -0.27356  -0.293154 -0.282699 -0.272103]\n"
     ]
    },
    {
     "data": {
      "text/markdown": [
       "## Recall"
      ],
      "text/plain": [
       "<IPython.core.display.Markdown object>"
      ]
     },
     "metadata": {},
     "output_type": "display_data"
    },
    {
     "name": "stdout",
     "output_type": "stream",
     "text": [
      "Scratch: [0.948718 0.935484 1.       1.       0.979381 0.948718 0.935484 1.\n",
      " 1.       0.979381 0.948718 0.935484 1.       1.       0.979381 0.948718\n",
      " 0.935484 1.       1.       0.979381 0.948718 0.935484 1.       1.\n",
      " 0.979381]\n",
      "Transfer: [1. 1. 1. 1. 1. 1. 1. 1. 1. 1. 1. 1. 1. 1. 1. 1. 1. 1. 1. 1. 1. 1. 1. 1.\n",
      " 1.]\n",
      "Transfer & Revision: [0.948718 0.935484 1.       1.       0.958763 0.948718 0.935484 1.\n",
      " 1.       0.958763 0.948718 0.935484 1.       1.       0.958763 0.948718\n",
      " 0.935484 1.       1.       0.958763 0.948718 0.935484 1.       1.\n",
      " 0.958763]\n"
     ]
    },
    {
     "data": {
      "text/markdown": [
       "## F1"
      ],
      "text/plain": [
       "<IPython.core.display.Markdown object>"
      ]
     },
     "metadata": {},
     "output_type": "display_data"
    },
    {
     "name": "stdout",
     "output_type": "stream",
     "text": [
      "Scratch: [0.919255 0.896907 0.912281 0.903955 0.92233  0.919255 0.896907 0.912281\n",
      " 0.903955 0.92233  0.919255 0.896907 0.912281 0.903955 0.92233  0.919255\n",
      " 0.896907 0.912281 0.903955 0.92233  0.919255 0.896907 0.912281 0.903955\n",
      " 0.92233 ]\n",
      "Transfer: [0.923077 0.920792 0.912281 0.903955 0.932692 0.923077 0.920792 0.912281\n",
      " 0.903955 0.932692 0.923077 0.920792 0.912281 0.903955 0.932692 0.923077\n",
      " 0.920792 0.912281 0.903955 0.932692 0.923077 0.920792 0.912281 0.903955\n",
      " 0.932692]\n",
      "Transfer & Revision: [0.919255 0.896907 0.912281 0.903955 0.916256 0.919255 0.896907 0.912281\n",
      " 0.903955 0.916256 0.919255 0.896907 0.912281 0.903955 0.916256 0.919255\n",
      " 0.896907 0.912281 0.903955 0.916256 0.919255 0.896907 0.912281 0.903955\n",
      " 0.916256]\n"
     ]
    },
    {
     "data": {
      "text/markdown": [
       "## Precision"
      ],
      "text/plain": [
       "<IPython.core.display.Markdown object>"
      ]
     },
     "metadata": {},
     "output_type": "display_data"
    },
    {
     "name": "stdout",
     "output_type": "stream",
     "text": [
      "Scratch: [0.891566 0.861386 0.83871  0.824742 0.87156  0.891566 0.861386 0.83871\n",
      " 0.824742 0.87156  0.891566 0.861386 0.83871  0.824742 0.87156  0.891566\n",
      " 0.861386 0.83871  0.824742 0.87156  0.891566 0.861386 0.83871  0.824742\n",
      " 0.87156 ]\n",
      "Transfer: [0.857143 0.853211 0.83871  0.824742 0.873874 0.857143 0.853211 0.83871\n",
      " 0.824742 0.873874 0.857143 0.853211 0.83871  0.824742 0.873874 0.857143\n",
      " 0.853211 0.83871  0.824742 0.873874 0.857143 0.853211 0.83871  0.824742\n",
      " 0.873874]\n",
      "Transfer & Revision: [0.891566 0.861386 0.83871  0.824742 0.877358 0.891566 0.861386 0.83871\n",
      " 0.824742 0.877358 0.891566 0.861386 0.83871  0.824742 0.877358 0.891566\n",
      " 0.861386 0.83871  0.824742 0.877358 0.891566 0.861386 0.83871  0.824742\n",
      " 0.877358]\n"
     ]
    },
    {
     "data": {
      "text/markdown": [
       "## Learning and Revision time"
      ],
      "text/plain": [
       "<IPython.core.display.Markdown object>"
      ]
     },
     "metadata": {},
     "output_type": "display_data"
    },
    {
     "name": "stdout",
     "output_type": "stream",
     "text": [
      "Scratch: [5.765 3.897 1.3   5.705 3.964 7.497 3.744 1.313 5.854 4.331 6.422 3.607\n",
      " 1.49  5.733 3.927 7.249 3.729 1.233 5.814 3.993 6.187 3.09  1.394 5.869\n",
      " 3.802]\n",
      "Transfer: [2.184 2.383 1.324 3.169 2.144 2.537 2.918 1.26  2.607 2.497 2.306 2.274\n",
      " 1.205 6.008 2.351 2.463 2.731 1.015 2.753 1.684 2.206 2.361 1.316 2.482\n",
      " 1.914]\n",
      "Transfer & Revision: [ 7.985  5.072  2.684  7.555  5.083  8.763  5.717  2.864  6.637  6.07\n",
      "  9.057  4.785  2.901 10.117  5.54   8.528  5.719  2.813  6.662  4.561\n",
      "  8.284  5.104  2.801  6.839  5.109]\n"
     ]
    },
    {
     "data": {
      "text/markdown": [
       "## Inference time"
      ],
      "text/plain": [
       "<IPython.core.display.Markdown object>"
      ]
     },
     "metadata": {},
     "output_type": "display_data"
    },
    {
     "name": "stdout",
     "output_type": "stream",
     "text": [
      "Scratch: [0.807 0.777 0.637 0.796 0.74  0.752 0.753 0.638 0.762 0.723 0.806 0.773\n",
      " 0.626 0.742 0.732 0.827 0.755 0.48  0.754 0.753 0.805 0.756 0.619 0.799\n",
      " 0.73 ]\n",
      "Transfer: [2.184 2.383 1.324 3.169 2.144 2.537 2.918 1.26  2.607 2.497 2.306 2.274\n",
      " 1.205 6.008 2.351 2.463 2.731 1.015 2.753 1.684 2.206 2.361 1.316 2.482\n",
      " 1.914]\n",
      "Transfer & Revision: [0.798 0.742 0.585 0.768 0.774 0.815 0.748 0.771 0.767 0.764 0.767 0.765\n",
      " 0.756 0.764 0.76  0.796 0.791 0.784 0.75  0.727 0.713 0.751 0.63  0.756\n",
      " 0.758]\n"
     ]
    },
    {
     "data": {
      "text/markdown": [
       "# Results for uwcse->imdb(workedunder)"
      ],
      "text/plain": [
       "<IPython.core.display.Markdown object>"
      ]
     },
     "metadata": {},
     "output_type": "display_data"
    },
    {
     "data": {
      "text/markdown": [
       "## AUC ROC"
      ],
      "text/plain": [
       "<IPython.core.display.Markdown object>"
      ]
     },
     "metadata": {},
     "output_type": "display_data"
    },
    {
     "name": "stdout",
     "output_type": "stream",
     "text": [
      "Scratch: [0.920833 0.990741 1.       0.991098 0.935462 0.920833 0.990741 1.\n",
      " 0.991098 0.935462 0.920833 0.990741 1.       0.991098 0.935462 0.920833\n",
      " 0.990741 1.       0.991098 0.935462 0.920833 0.990741 1.       0.991098\n",
      " 0.935462]\n",
      "Transfer: [1. 1. 1. 1. 1. 1. 1. 1. 1. 1. 1. 1. 1. 1. 1. 1. 1. 1. 1. 1. 1. 1. 1. 1.\n",
      " 1.]\n",
      "Transfer & Revision: [1. 1. 1. 1. 1. 1. 1. 1. 1. 1. 1. 1. 1. 1. 1. 1. 1. 1. 1. 1. 1. 1. 1. 1.\n",
      " 1.]\n"
     ]
    },
    {
     "data": {
      "text/markdown": [
       "## AUC PR"
      ],
      "text/plain": [
       "<IPython.core.display.Markdown object>"
      ]
     },
     "metadata": {},
     "output_type": "display_data"
    },
    {
     "name": "stdout",
     "output_type": "stream",
     "text": [
      "Scratch: [0.860033 0.981818 1.       0.982507 0.889597 0.860033 0.981818 1.\n",
      " 0.982507 0.889597 0.860033 0.981818 1.       0.982507 0.889597 0.860033\n",
      " 0.981818 1.       0.982507 0.889597 0.860033 0.981818 1.       0.982507\n",
      " 0.889597]\n",
      "Transfer: [1. 1. 1. 1. 1. 1. 1. 1. 1. 1. 1. 1. 1. 1. 1. 1. 1. 1. 1. 1. 1. 1. 1. 1.\n",
      " 1.]\n",
      "Transfer & Revision: [1. 1. 1. 1. 1. 1. 1. 1. 1. 1. 1. 1. 1. 1. 1. 1. 1. 1. 1. 1. 1. 1. 1. 1.\n",
      " 1.]\n"
     ]
    },
    {
     "data": {
      "text/markdown": [
       "## CLL"
      ],
      "text/plain": [
       "<IPython.core.display.Markdown object>"
      ]
     },
     "metadata": {},
     "output_type": "display_data"
    },
    {
     "name": "stdout",
     "output_type": "stream",
     "text": [
      "Scratch: [-0.244754 -0.113754 -0.094637 -0.113016 -0.23826  -0.244754 -0.113754\n",
      " -0.094637 -0.113016 -0.23826  -0.244754 -0.113754 -0.094637 -0.113016\n",
      " -0.23826  -0.244754 -0.113754 -0.094637 -0.113016 -0.23826  -0.244754\n",
      " -0.113754 -0.094637 -0.113016 -0.23826 ]\n",
      "Transfer: [-0.098502 -0.098757 -0.096372 -0.096387 -0.095964 -0.094896 -0.094987\n",
      " -0.094637 -0.094821 -0.095144 -0.102139 -0.103399 -0.100952 -0.101491\n",
      " -0.09832  -0.098399 -0.098655 -0.096372 -0.096289 -0.095745 -0.107955\n",
      " -0.10829  -0.098705 -0.107631 -0.098039]\n",
      "Transfer & Revision: [-0.095673 -0.094637 -0.094637 -0.094637 -0.095784 -0.094637 -0.094637\n",
      " -0.094637 -0.094637 -0.094637 -0.098209 -0.094637 -0.094637 -0.094637\n",
      " -0.098427 -0.095673 -0.094637 -0.094637 -0.094637 -0.095784 -0.097393\n",
      " -0.094637 -0.094637 -0.094637 -0.097791]\n"
     ]
    },
    {
     "data": {
      "text/markdown": [
       "## Recall"
      ],
      "text/plain": [
       "<IPython.core.display.Markdown object>"
      ]
     },
     "metadata": {},
     "output_type": "display_data"
    },
    {
     "name": "stdout",
     "output_type": "stream",
     "text": [
      "Scratch: [1. 1. 1. 1. 1. 1. 1. 1. 1. 1. 1. 1. 1. 1. 1. 1. 1. 1. 1. 1. 1. 1. 1. 1.\n",
      " 1.]\n",
      "Transfer: [1. 1. 1. 1. 1. 1. 1. 1. 1. 1. 1. 1. 1. 1. 1. 1. 1. 1. 1. 1. 1. 1. 1. 1.\n",
      " 1.]\n",
      "Transfer & Revision: [1. 1. 1. 1. 1. 1. 1. 1. 1. 1. 1. 1. 1. 1. 1. 1. 1. 1. 1. 1. 1. 1. 1. 1.\n",
      " 1.]\n"
     ]
    },
    {
     "data": {
      "text/markdown": [
       "## F1"
      ],
      "text/plain": [
       "<IPython.core.display.Markdown object>"
      ]
     },
     "metadata": {},
     "output_type": "display_data"
    },
    {
     "name": "stdout",
     "output_type": "stream",
     "text": [
      "Scratch: [0.932761 0.990826 1.       0.991176 0.934813 0.932761 0.990826 1.\n",
      " 0.991176 0.934813 0.932761 0.990826 1.       0.991176 0.934813 0.932761\n",
      " 0.990826 1.       0.991176 0.934813 0.932761 0.990826 1.       0.991176\n",
      " 0.934813]\n",
      "Transfer: [1. 1. 1. 1. 1. 1. 1. 1. 1. 1. 1. 1. 1. 1. 1. 1. 1. 1. 1. 1. 1. 1. 1. 1.\n",
      " 1.]\n",
      "Transfer & Revision: [1. 1. 1. 1. 1. 1. 1. 1. 1. 1. 1. 1. 1. 1. 1. 1. 1. 1. 1. 1. 1. 1. 1. 1.\n",
      " 1.]\n"
     ]
    },
    {
     "data": {
      "text/markdown": [
       "## Precision"
      ],
      "text/plain": [
       "<IPython.core.display.Markdown object>"
      ]
     },
     "metadata": {},
     "output_type": "display_data"
    },
    {
     "name": "stdout",
     "output_type": "stream",
     "text": [
      "Scratch: [0.873995 0.981818 1.       0.982507 0.877604 0.873995 0.981818 1.\n",
      " 0.982507 0.877604 0.873995 0.981818 1.       0.982507 0.877604 0.873995\n",
      " 0.981818 1.       0.982507 0.877604 0.873995 0.981818 1.       0.982507\n",
      " 0.877604]\n",
      "Transfer: [1. 1. 1. 1. 1. 1. 1. 1. 1. 1. 1. 1. 1. 1. 1. 1. 1. 1. 1. 1. 1. 1. 1. 1.\n",
      " 1.]\n",
      "Transfer & Revision: [1. 1. 1. 1. 1. 1. 1. 1. 1. 1. 1. 1. 1. 1. 1. 1. 1. 1. 1. 1. 1. 1. 1. 1.\n",
      " 1.]\n"
     ]
    },
    {
     "data": {
      "text/markdown": [
       "## Learning and Revision time"
      ],
      "text/plain": [
       "<IPython.core.display.Markdown object>"
      ]
     },
     "metadata": {},
     "output_type": "display_data"
    },
    {
     "name": "stdout",
     "output_type": "stream",
     "text": [
      "Scratch: [2.279 2.252 3.051 1.858 2.006 2.08  2.02  3.18  1.959 1.939 2.185 1.821\n",
      " 2.888 1.86  1.745 2.258 1.495 3.34  1.722 1.882 2.088 2.123 3.016 1.361\n",
      " 1.66 ]\n",
      "Transfer: [1.801 2.154 3.187 1.797 1.583 1.865 2.125 3.181 1.644 1.651 1.589 1.604\n",
      " 3.939 1.326 1.249 1.8   2.122 2.744 1.643 1.191 1.893 1.604 3.155 1.678\n",
      " 1.432]\n",
      "Transfer & Revision: [3.42  3.925 6.557 3.142 3.167 3.48  3.627 5.664 3.03  3.082 3.227 3.11\n",
      " 6.381 2.951 2.692 3.255 3.506 5.105 2.944 2.721 3.156 3.409 5.63  2.986\n",
      " 2.882]\n"
     ]
    },
    {
     "data": {
      "text/markdown": [
       "## Inference time"
      ],
      "text/plain": [
       "<IPython.core.display.Markdown object>"
      ]
     },
     "metadata": {},
     "output_type": "display_data"
    },
    {
     "name": "stdout",
     "output_type": "stream",
     "text": [
      "Scratch: [0.752 0.761 0.755 0.765 0.769 0.743 0.766 0.749 0.813 0.782 0.74  0.867\n",
      " 0.75  0.792 0.764 0.785 0.649 0.753 0.81  0.769 0.741 0.762 0.708 0.632\n",
      " 0.61 ]\n",
      "Transfer: [1.801 2.154 3.187 1.797 1.583 1.865 2.125 3.181 1.644 1.651 1.589 1.604\n",
      " 3.939 1.326 1.249 1.8   2.122 2.744 1.643 1.191 1.893 1.604 3.155 1.678\n",
      " 1.432]\n",
      "Transfer & Revision: [0.806 0.847 0.803 0.806 0.809 0.834 0.851 0.814 0.797 0.85  0.803 0.803\n",
      " 0.741 0.798 0.87  0.772 0.82  0.697 0.855 0.841 0.846 0.829 0.77  0.835\n",
      " 0.798]\n"
     ]
    },
    {
     "data": {
      "text/markdown": [
       "# Results for imdb->cora(samevenue)"
      ],
      "text/plain": [
       "<IPython.core.display.Markdown object>"
      ]
     },
     "metadata": {},
     "output_type": "display_data"
    },
    {
     "data": {
      "text/markdown": [
       "## AUC ROC"
      ],
      "text/plain": [
       "<IPython.core.display.Markdown object>"
      ]
     },
     "metadata": {},
     "output_type": "display_data"
    },
    {
     "name": "stdout",
     "output_type": "stream",
     "text": [
      "Scratch: [0.545777 0.438265 0.555264 0.570445 0.544315 0.545777 0.437384 0.555264\n",
      " 0.561798 0.543928 0.545816 0.448838 0.555292 0.575845 0.536445 0.547766\n",
      " 0.447679 0.555261 0.576898 0.536413]\n",
      "Transfer: [0.545842 0.435093 0.548689 0.561798 0.537245 0.545842 0.435093 0.548689\n",
      " 0.561798 0.537245 0.545842 0.435093 0.548689 0.561798 0.537245 0.545842\n",
      " 0.435093 0.548689 0.561798 0.537245]\n",
      "Transfer & Revision: [0.545777 0.436411 0.550224 0.581171 0.549414 0.545777 0.43832  0.548159\n",
      " 0.569676 0.544414 0.547583 0.43732  0.550227 0.575425 0.552273 0.547583\n",
      " 0.438383 0.550224 0.575478 0.552285]\n"
     ]
    },
    {
     "data": {
      "text/markdown": [
       "## AUC PR"
      ],
      "text/plain": [
       "<IPython.core.display.Markdown object>"
      ]
     },
     "metadata": {},
     "output_type": "display_data"
    },
    {
     "name": "stdout",
     "output_type": "stream",
     "text": [
      "Scratch: [0.552209 0.45053  0.567544 0.576908 0.560671 0.552209 0.448061 0.567544\n",
      " 0.566326 0.559721 0.552219 0.455374 0.567553 0.579293 0.547276 0.55338\n",
      " 0.453078 0.567544 0.586817 0.547267]\n",
      "Transfer: [0.552218 0.441949 0.556347 0.566326 0.543881 0.552218 0.441949 0.556347\n",
      " 0.566326 0.543881 0.552218 0.441949 0.556347 0.566326 0.543881 0.552218\n",
      " 0.441949 0.556347 0.566326 0.543881]\n",
      "Transfer & Revision: [0.552209 0.44576  0.557303 0.588838 0.568156 0.552209 0.45068  0.556031\n",
      " 0.576697 0.5607   0.553326 0.448175 0.557304 0.588729 0.572375 0.553326\n",
      " 0.451598 0.557303 0.592589 0.572378]\n"
     ]
    },
    {
     "data": {
      "text/markdown": [
       "## CLL"
      ],
      "text/plain": [
       "<IPython.core.display.Markdown object>"
      ]
     },
     "metadata": {},
     "output_type": "display_data"
    },
    {
     "name": "stdout",
     "output_type": "stream",
     "text": [
      "Scratch: [-0.684933 -0.716328 -0.683618 -0.682925 -0.688885 -0.684934 -0.712099\n",
      " -0.683258 -0.685519 -0.686924 -0.685055 -0.713442 -0.683602 -0.681558\n",
      " -0.690694 -0.685198 -0.713552 -0.685924 -0.680926 -0.689841]\n",
      "Transfer: [-0.685106 -0.710668 -0.684209 -0.685519 -0.684587 -0.685106 -0.710668\n",
      " -0.684209 -0.685519 -0.684587 -0.685106 -0.710668 -0.684209 -0.685519\n",
      " -0.684587 -0.685106 -0.710668 -0.684209 -0.685519 -0.684587]\n",
      "Transfer & Revision: [-0.68498  -0.712515 -0.684234 -0.680691 -0.685251 -0.685046 -0.714205\n",
      " -0.684361 -0.683374 -0.686345 -0.685069 -0.713428 -0.684309 -0.679784\n",
      " -0.685736 -0.685038 -0.717304 -0.684343 -0.681161 -0.684946]\n"
     ]
    },
    {
     "data": {
      "text/markdown": [
       "## Recall"
      ],
      "text/plain": [
       "<IPython.core.display.Markdown object>"
      ]
     },
     "metadata": {},
     "output_type": "display_data"
    },
    {
     "name": "stdout",
     "output_type": "stream",
     "text": [
      "Scratch: [0.94413  0.973731 0.904762 0.03304  0.924605 0.94413  0.979519 0.904762\n",
      " 0.       0.94244  0.914307 0.973731 0.904762 0.057709 0.914876 0.89128\n",
      " 0.973731 0.006979 0.059471 0.914876]\n",
      "Transfer: [0.94413  1.       0.944992 0.       0.952169 0.94413  1.       0.944992\n",
      " 0.       0.952169 0.94413  1.       0.944992 0.       0.952169 0.94413\n",
      " 1.       0.944992 0.       0.952169]\n",
      "Transfer & Revision: [0.914307 0.979519 0.897783 0.057709 0.950547 0.914307 0.973731 0.917898\n",
      " 0.03304  0.94244  0.914307 0.973731 0.897783 0.057709 0.94244  0.914307\n",
      " 0.973731 0.897783 0.057709 0.950547]\n"
     ]
    },
    {
     "data": {
      "text/markdown": [
       "## F1"
      ],
      "text/plain": [
       "<IPython.core.display.Markdown object>"
      ]
     },
     "metadata": {},
     "output_type": "display_data"
    },
    {
     "name": "stdout",
     "output_type": "stream",
     "text": [
      "Scratch: [0.697434 0.665551 0.691668 0.06284  0.686118 0.697434 0.668084 0.691668\n",
      "      nan 0.69145  0.689145 0.665551 0.691668 0.105603 0.681461 0.683456\n",
      " 0.665551 0.013849 0.108565 0.681564]\n",
      "Transfer: [0.697434 0.671651 0.700974      nan 0.692716 0.697434 0.671651 0.700974\n",
      "      nan 0.692716 0.697434 0.671651 0.700974      nan 0.692716 0.697434\n",
      " 0.671651 0.700974      nan 0.692716]\n",
      "Transfer & Revision: [0.689145 0.668084 0.688385 0.106116 0.693684 0.689145 0.665551 0.693118\n",
      " 0.06284  0.69217  0.689145 0.665551 0.688385 0.106116 0.692067 0.689145\n",
      " 0.665551 0.688385 0.105603 0.693684]\n"
     ]
    },
    {
     "data": {
      "text/markdown": [
       "## Precision"
      ],
      "text/plain": [
       "<IPython.core.display.Markdown object>"
      ]
     },
     "metadata": {},
     "output_type": "display_data"
    },
    {
     "name": "stdout",
     "output_type": "stream",
     "text": [
      "Scratch: [0.552952 0.505548 0.559817 0.641026 0.545433 0.552952 0.506912 0.559817\n",
      "      nan 0.546031 0.552968 0.505548 0.559817 0.620853 0.54294  0.554225\n",
      " 0.505548 0.894737 0.62212  0.54307 ]\n",
      "Transfer: [0.552952 0.505628 0.557115      nan 0.54438  0.552952 0.505628 0.557115\n",
      "      nan 0.54438  0.552952 0.505628 0.557115      nan 0.54438  0.552952\n",
      " 0.505628 0.557115      nan 0.54438 ]\n",
      "Transfer & Revision: [0.552968 0.506912 0.558193 0.658291 0.546111 0.552968 0.505548 0.556773\n",
      " 0.641026 0.54693  0.552968 0.505548 0.558193 0.658291 0.546802 0.552968\n",
      " 0.505548 0.558193 0.620853 0.546111]\n"
     ]
    },
    {
     "data": {
      "text/markdown": [
       "## Learning and Revision time"
      ],
      "text/plain": [
       "<IPython.core.display.Markdown object>"
      ]
     },
     "metadata": {},
     "output_type": "display_data"
    },
    {
     "name": "stdout",
     "output_type": "stream",
     "text": [
      "Scratch: [ 9.786 33.213 20.193 23.271 27.089  9.019 20.094 20.165 18.236 26.197\n",
      "  9.738 28.652 19.578 23.473 33.03  10.396 26.494 17.773 28.638 31.079]\n",
      "Transfer: [ 5.609  9.092 13.952 10.258 13.658  5.471 19.874 13.685 10.048 12.844\n",
      "  8.254  9.452 16.792  9.779 19.102  5.571 18.802 12.591  9.916  8.365]\n",
      "Transfer & Revision: [16.331 37.884 30.032 34.018 34.894 13.218 40.567 26.003 25.262 37.615\n",
      " 16.074 47.972 29.856 42.368 45.938 13.568 56.501 26.452 26.254 34.088]\n"
     ]
    },
    {
     "data": {
      "text/markdown": [
       "## Inference time"
      ],
      "text/plain": [
       "<IPython.core.display.Markdown object>"
      ]
     },
     "metadata": {},
     "output_type": "display_data"
    },
    {
     "name": "stdout",
     "output_type": "stream",
     "text": [
      "Scratch: [2.237 4.77  2.981 2.521 5.738 2.164 2.989 2.87  1.501 4.126 2.003 3.915\n",
      " 2.338 2.877 5.34  1.807 3.342 2.506 3.394 4.457]\n",
      "Transfer: [ 5.609  9.092 13.952 10.258 13.658  5.471 19.874 13.685 10.048 12.844\n",
      "  8.254  9.452 16.792  9.779 19.102  5.571 18.802 12.591  9.916  8.365]\n",
      "Transfer & Revision: [2.189 3.396 2.55  3.692 3.927 2.112 4.133 2.091 2.508 4.052 2.532 4.01\n",
      " 2.413 3.628 5.159 2.353 5.443 1.974 2.27  3.925]\n"
     ]
    },
    {
     "data": {
      "text/markdown": [
       "# Results for cora->imdb(workedunder)"
      ],
      "text/plain": [
       "<IPython.core.display.Markdown object>"
      ]
     },
     "metadata": {},
     "output_type": "display_data"
    },
    {
     "data": {
      "text/markdown": [
       "## AUC ROC"
      ],
      "text/plain": [
       "<IPython.core.display.Markdown object>"
      ]
     },
     "metadata": {},
     "output_type": "display_data"
    },
    {
     "name": "stdout",
     "output_type": "stream",
     "text": [
      "Scratch: [0.920833 0.990741 1.       0.991098 0.935462 0.920833 0.990741 1.\n",
      " 0.991098 0.935462 0.920833 0.990741 1.       0.991098 0.935462 0.920833\n",
      " 0.990741 1.       0.991098 0.935462 0.920833 0.990741 1.       0.991098\n",
      " 0.935462]\n",
      "Transfer: [0.897239 0.885679 0.887255 0.89911  0.896922 0.979737 0.979767 0.994473\n",
      " 0.975583 0.985115 0.897239 0.898148 0.887255 0.89911  0.896922 0.981402\n",
      " 0.981453 0.994473 0.975583 0.985115 0.878834 0.882716 0.875    0.897701\n",
      " 0.879822]\n",
      "Transfer & Revision: [0.995399 0.999157 1.       0.995298 0.94804  0.999167 0.999157 1.\n",
      " 0.995457 0.995549 0.997417 0.99537  1.       0.995298 0.94804  0.999167\n",
      " 0.999157 1.       0.99609  0.995549 0.990798 0.990741 1.       0.997662\n",
      " 0.991098]\n"
     ]
    },
    {
     "data": {
      "text/markdown": [
       "## AUC PR"
      ],
      "text/plain": [
       "<IPython.core.display.Markdown object>"
      ]
     },
     "metadata": {},
     "output_type": "display_data"
    },
    {
     "name": "stdout",
     "output_type": "stream",
     "text": [
      "Scratch: [0.860033 0.981818 1.       0.982507 0.889597 0.860033 0.981818 1.\n",
      " 0.982507 0.889597 0.860033 0.981818 1.       0.982507 0.889597 0.860033\n",
      " 0.981818 1.       0.982507 0.889597 0.860033 0.981818 1.       0.982507\n",
      " 0.889597]\n",
      "Transfer: [0.829517 0.87883  0.816    0.832099 0.882525 0.981095 0.981095 0.995114\n",
      " 0.977558 0.986236 0.829517 0.830769 0.816    0.832099 0.882525 0.982595\n",
      " 0.982617 0.995114 0.977558 0.986236 0.804938 0.81     0.8      0.909643\n",
      " 0.80622 ]\n",
      "Transfer & Revision: [0.990881 0.999106 1.       0.994219 0.904925 0.999118 0.999106 1.\n",
      " 0.994053 0.991176 0.996746 0.990826 1.       0.994219 0.904925 0.999118\n",
      " 0.999106 1.       0.994719 0.991176 0.981928 0.981818 1.       0.997495\n",
      " 0.982507]\n"
     ]
    },
    {
     "data": {
      "text/markdown": [
       "## CLL"
      ],
      "text/plain": [
       "<IPython.core.display.Markdown object>"
      ]
     },
     "metadata": {},
     "output_type": "display_data"
    },
    {
     "name": "stdout",
     "output_type": "stream",
     "text": [
      "Scratch: [-0.244754 -0.113754 -0.094637 -0.113016 -0.23826  -0.244754 -0.113754\n",
      " -0.094637 -0.113016 -0.23826  -0.244754 -0.113754 -0.094637 -0.113016\n",
      " -0.23826  -0.244754 -0.113754 -0.094637 -0.113016 -0.23826  -0.244754\n",
      " -0.113754 -0.094637 -0.113016 -0.23827 ]\n",
      "Transfer: [-0.324693 -0.41212  -0.332231 -0.330526 -0.389352 -0.249814 -0.261958\n",
      " -0.264182 -0.257007 -0.259099 -0.324655 -0.33417  -0.332235 -0.332428\n",
      " -0.357665 -0.270772 -0.283018 -0.291999 -0.2775   -0.285384 -0.335172\n",
      " -0.353945 -0.340098 -0.391048 -0.336025]\n",
      "Transfer & Revision: [-0.111607 -0.176554 -0.094637 -0.113016 -0.213464 -0.116372 -0.116507\n",
      " -0.094637 -0.120424 -0.108255 -0.112288 -0.112397 -0.094637 -0.113016\n",
      " -0.218743 -0.112173 -0.112281 -0.094637 -0.114707 -0.10991  -0.113637\n",
      " -0.113754 -0.094637 -0.304492 -0.113016]\n"
     ]
    },
    {
     "data": {
      "text/markdown": [
       "## Recall"
      ],
      "text/plain": [
       "<IPython.core.display.Markdown object>"
      ]
     },
     "metadata": {},
     "output_type": "display_data"
    },
    {
     "name": "stdout",
     "output_type": "stream",
     "text": [
      "Scratch: [1. 1. 1. 1. 1. 1. 1. 1. 1. 1. 1. 1. 1. 1. 1. 1. 1. 1. 1. 1. 1. 1. 1. 1.\n",
      " 1.]\n",
      "Transfer: [1.       0.817901 1.       1.       0.854599 0.819018 0.817901 1.\n",
      " 0.824926 1.       1.       1.       1.       1.       0.854599 1.\n",
      " 1.       1.       1.       1.       1.       1.       1.       0.824926\n",
      " 1.      ]\n",
      "Transfer & Revision: [1.       0.817901 1.       1.       1.       1.       1.       1.\n",
      " 1.       1.       1.       1.       1.       1.       1.       1.\n",
      " 1.       1.       1.       1.       1.       1.       1.       0.824926\n",
      " 1.      ]\n"
     ]
    },
    {
     "data": {
      "text/markdown": [
       "## F1"
      ],
      "text/plain": [
       "<IPython.core.display.Markdown object>"
      ]
     },
     "metadata": {},
     "output_type": "display_data"
    },
    {
     "name": "stdout",
     "output_type": "stream",
     "text": [
      "Scratch: [0.932761 0.990826 1.       0.991176 0.934813 0.932761 0.990826 1.\n",
      " 0.991176 0.934813 0.932761 0.990826 1.       0.991176 0.934813 0.932761\n",
      " 0.990826 1.       0.991176 0.934813 0.932761 0.990826 1.       0.991176\n",
      " 0.934813]\n",
      "Transfer: [0.891929 0.86743  0.888889 0.892715 0.884793 0.900506 0.89983  0.898678\n",
      " 0.88535  0.907133 0.891929 0.895028 0.888889 0.892715 0.884793 0.903047\n",
      " 0.903766 0.898678 0.892715 0.903485 0.891929 0.895028 0.888889 0.872841\n",
      " 0.892715]\n",
      "Transfer & Revision: [0.990881 0.89983  1.       0.991176 0.943978 0.990881 0.990826 1.\n",
      " 0.991176 0.991176 0.990881 0.990826 1.       0.991176 0.937413 0.990881\n",
      " 0.990826 1.       0.991176 0.991176 0.990881 0.990826 1.       0.899676\n",
      " 0.991176]\n"
     ]
    },
    {
     "data": {
      "text/markdown": [
       "## Precision"
      ],
      "text/plain": [
       "<IPython.core.display.Markdown object>"
      ]
     },
     "metadata": {},
     "output_type": "display_data"
    },
    {
     "name": "stdout",
     "output_type": "stream",
     "text": [
      "Scratch: [0.873995 0.981818 1.       0.982507 0.877604 0.873995 0.981818 1.\n",
      " 0.982507 0.877604 0.873995 0.981818 1.       0.982507 0.877604 0.873995\n",
      " 0.981818 1.       0.982507 0.877604 0.873995 0.981818 1.       0.982507\n",
      " 0.877604]\n",
      "Transfer: [0.804938 0.923345 0.8      0.80622  0.917197 1.       1.       0.816\n",
      " 0.955326 0.830049 0.804938 0.81     0.8      0.80622  0.917197 0.823232\n",
      " 0.824427 0.816    0.80622  0.823961 0.804938 0.81     0.8      0.926667\n",
      " 0.80622 ]\n",
      "Transfer & Revision: [0.981928 1.       1.       0.982507 0.893899 0.981928 0.981818 1.\n",
      " 0.982507 0.982507 0.981928 0.981818 1.       0.982507 0.882199 0.981928\n",
      " 0.981818 1.       0.982507 0.982507 0.981928 0.981818 1.       0.989324\n",
      " 0.982507]\n"
     ]
    },
    {
     "data": {
      "text/markdown": [
       "## Learning and Revision time"
      ],
      "text/plain": [
       "<IPython.core.display.Markdown object>"
      ]
     },
     "metadata": {},
     "output_type": "display_data"
    },
    {
     "name": "stdout",
     "output_type": "stream",
     "text": [
      "Scratch: [2.026 2.002 3.357 2.031 1.853 1.938 2.117 2.876 1.845 1.967 1.996 1.892\n",
      " 2.933 1.676 2.026 1.768 1.835 3.008 1.714 2.006 2.174 1.819 2.976 1.428\n",
      " 2.149]\n",
      "Transfer: [1.813 1.562 3.631 1.947 1.799 2.728 2.218 3.896 1.595 2.013 1.554 1.779\n",
      " 3.556 1.747 2.085 1.796 1.902 3.706 2.04  1.858 1.776 1.536 2.8   1.692\n",
      " 1.735]\n",
      "Transfer & Revision: [5.243 3.509 8.421 4.523 4.083 6.774 4.973 8.94  4.313 5.574 4.937 4.305\n",
      " 8.327 4.026 3.935 4.788 4.268 8.741 4.065 4.587 5.765 3.863 8.515 4.05\n",
      " 4.418]\n"
     ]
    },
    {
     "data": {
      "text/markdown": [
       "## Inference time"
      ],
      "text/plain": [
       "<IPython.core.display.Markdown object>"
      ]
     },
     "metadata": {},
     "output_type": "display_data"
    },
    {
     "name": "stdout",
     "output_type": "stream",
     "text": [
      "Scratch: [0.827 0.767 0.761 0.752 0.767 0.775 0.79  0.754 0.79  0.805 0.608 0.94\n",
      " 0.73  0.783 0.743 0.612 0.8   0.731 0.774 0.768 0.68  0.776 0.761 0.638\n",
      " 0.76 ]\n",
      "Transfer: [1.813 1.562 3.631 1.947 1.799 2.728 2.218 3.896 1.595 2.013 1.554 1.779\n",
      " 3.556 1.747 2.085 1.796 1.902 3.706 2.04  1.858 1.776 1.536 2.8   1.692\n",
      " 1.735]\n",
      "Transfer & Revision: [1.385 0.835 1.443 1.323 0.807 1.531 1.167 1.398 1.302 1.736 1.503 1.064\n",
      " 1.103 1.413 0.746 1.413 1.046 1.234 1.539 1.291 1.768 0.892 1.281 1.096\n",
      " 1.496]\n"
     ]
    },
    {
     "data": {
      "text/markdown": [
       "# Results for yeast->twitter(follows)"
      ],
      "text/plain": [
       "<IPython.core.display.Markdown object>"
      ]
     },
     "metadata": {},
     "output_type": "display_data"
    },
    {
     "data": {
      "text/markdown": [
       "## AUC ROC"
      ],
      "text/plain": [
       "<IPython.core.display.Markdown object>"
      ]
     },
     "metadata": {},
     "output_type": "display_data"
    },
    {
     "name": "stdout",
     "output_type": "stream",
     "text": [
      "Scratch: [0.747398 0.693827 0.736582 0.70171  0.736582 0.70171  0.736582 0.70171\n",
      " 0.736582 0.70171 ]\n",
      "Transfer: [0.747254 0.694623 0.684928 0.713061 0.735523 0.688772 0.736582 0.707361\n",
      " 0.735523 0.712904]\n",
      "Transfer & Revision: [0.747254 0.694623 0.736815 0.713232 0.723571 0.704388 0.736582 0.71282\n",
      " 0.723818 0.713124]\n"
     ]
    },
    {
     "data": {
      "text/markdown": [
       "## AUC PR"
      ],
      "text/plain": [
       "<IPython.core.display.Markdown object>"
      ]
     },
     "metadata": {},
     "output_type": "display_data"
    },
    {
     "name": "stdout",
     "output_type": "stream",
     "text": [
      "Scratch: [0.721941 0.661246 0.708314 0.676872 0.708314 0.676872 0.708314 0.676872\n",
      " 0.708314 0.676872]\n",
      "Transfer: [0.721903 0.663393 0.657709 0.707564 0.707902 0.694321 0.708314 0.686556\n",
      " 0.707902 0.7075  ]\n",
      "Transfer & Revision: [0.721903 0.663393 0.707109 0.707634 0.700111 0.685093 0.708314 0.707458\n",
      " 0.700178 0.707597]\n"
     ]
    },
    {
     "data": {
      "text/markdown": [
       "## CLL"
      ],
      "text/plain": [
       "<IPython.core.display.Markdown object>"
      ]
     },
     "metadata": {},
     "output_type": "display_data"
    },
    {
     "name": "stdout",
     "output_type": "stream",
     "text": [
      "Scratch: [-0.594941 -0.643712 -0.598912 -0.633853 -0.598912 -0.633853 -0.598912\n",
      " -0.633853 -0.598912 -0.633853]\n",
      "Transfer: [-0.60557  -0.644752 -0.637412 -0.622306 -0.616516 -0.632598 -0.606708\n",
      " -0.626303 -0.6076   -0.623263]\n",
      "Transfer & Revision: [-0.600036 -0.641345 -0.603354 -0.623526 -0.607008 -0.633241 -0.603127\n",
      " -0.626521 -0.60643  -0.626399]\n"
     ]
    },
    {
     "data": {
      "text/markdown": [
       "## Recall"
      ],
      "text/plain": [
       "<IPython.core.display.Markdown object>"
      ]
     },
     "metadata": {},
     "output_type": "display_data"
    },
    {
     "name": "stdout",
     "output_type": "stream",
     "text": [
      "Scratch: [0.529661 0.498718 0.529661 0.498718 0.529661 0.498718 0.529661 0.498718\n",
      " 0.529661 0.498718]\n",
      "Transfer: [0.529661 0.498718 0.59887  0.496154 0.810734 0.591026 0.529661 0.496154\n",
      " 0.529661 0.496154]\n",
      "Transfer & Revision: [0.529661 0.498718 0.529661 0.496154 0.529661 0.498718 0.529661 0.496154\n",
      " 0.529661 0.496154]\n"
     ]
    },
    {
     "data": {
      "text/markdown": [
       "## F1"
      ],
      "text/plain": [
       "<IPython.core.display.Markdown object>"
      ]
     },
     "metadata": {},
     "output_type": "display_data"
    },
    {
     "name": "stdout",
     "output_type": "stream",
     "text": [
      "Scratch: [0.637213 0.598462 0.630252 0.606864 0.630252 0.606864 0.630252 0.606864\n",
      " 0.630252 0.606864]\n",
      "Transfer: [0.637213 0.598462 0.648814 0.607059 0.70908  0.622132 0.630252 0.607059\n",
      " 0.630252 0.607059]\n",
      "Transfer & Revision: [0.637213 0.598462 0.630252 0.607059 0.630252 0.606864 0.630252 0.607059\n",
      " 0.630252 0.607059]\n"
     ]
    },
    {
     "data": {
      "text/markdown": [
       "## Precision"
      ],
      "text/plain": [
       "<IPython.core.display.Markdown object>"
      ]
     },
     "metadata": {},
     "output_type": "display_data"
    },
    {
     "name": "stdout",
     "output_type": "stream",
     "text": [
      "Scratch: [0.799574 0.748077 0.778008 0.7749   0.778008 0.7749   0.778008 0.7749\n",
      " 0.778008 0.7749  ]\n",
      "Transfer: [0.799574 0.748077 0.707846 0.781818 0.630077 0.656695 0.778008 0.781818\n",
      " 0.778008 0.781818]\n",
      "Transfer & Revision: [0.799574 0.748077 0.778008 0.781818 0.778008 0.7749   0.778008 0.781818\n",
      " 0.778008 0.781818]\n"
     ]
    },
    {
     "data": {
      "text/markdown": [
       "## Learning and Revision time"
      ],
      "text/plain": [
       "<IPython.core.display.Markdown object>"
      ]
     },
     "metadata": {},
     "output_type": "display_data"
    },
    {
     "name": "stdout",
     "output_type": "stream",
     "text": [
      "Scratch: [32.787 39.936 32.699 36.843 30.085 37.301 30.232 35.849 31.309 34.644]\n",
      "Transfer: [15.274 19.714 12.118 22.433 14.204 17.777 17.484 23.542 17.648 20.724]\n",
      "Transfer & Revision: [ 37.367  47.648  30.421  53.591  54.399  40.227 150.451 170.302  39.077\n",
      "  47.24 ]\n"
     ]
    },
    {
     "data": {
      "text/markdown": [
       "## Inference time"
      ],
      "text/plain": [
       "<IPython.core.display.Markdown object>"
      ]
     },
     "metadata": {},
     "output_type": "display_data"
    },
    {
     "name": "stdout",
     "output_type": "stream",
     "text": [
      "Scratch: [1.311 1.333 1.462 1.416 1.519 1.367 1.308 1.286 1.226 1.357]\n",
      "Transfer: [15.274 19.714 12.118 22.433 14.204 17.777 17.484 23.542 17.648 20.724]\n",
      "Transfer & Revision: [ 1.482  1.569  1.14   1.923 17.579  1.346 23.24  21.047  1.475  1.573]\n"
     ]
    },
    {
     "data": {
      "text/markdown": [
       "# Results for twitter->yeast(interaction)"
      ],
      "text/plain": [
       "<IPython.core.display.Markdown object>"
      ]
     },
     "metadata": {},
     "output_type": "display_data"
    },
    {
     "data": {
      "text/markdown": [
       "## AUC ROC"
      ],
      "text/plain": [
       "<IPython.core.display.Markdown object>"
      ]
     },
     "metadata": {},
     "output_type": "display_data"
    },
    {
     "name": "stdout",
     "output_type": "stream",
     "text": [
      "Scratch: [0.678033 0.679527 0.667281 0.622291 0.68189  0.662852 0.664643 0.626852\n",
      " 0.684948 0.667172 0.662795 0.626492 0.684932 0.667964 0.663331 0.619627\n",
      " 0.677471 0.661535 0.664621 0.629224]\n",
      "Transfer: [0.572473 0.658175 0.556508 0.563702 0.656321 0.588077 0.652144 0.640704\n",
      " 0.656269 0.592972 0.606922 0.592415 0.618446 0.588077 0.600124 0.589082\n",
      " 0.618446 0.597334 0.607378 0.640704]\n",
      "Transfer & Revision: [0.677354 0.657128 0.673082 0.610265 0.65815  0.591657 0.655022 0.653284\n",
      " 0.658155 0.592458 0.613402 0.628187 0.621337 0.592456 0.597979 0.601659\n",
      " 0.621337 0.605454 0.609974 0.654283]\n"
     ]
    },
    {
     "data": {
      "text/markdown": [
       "## AUC PR"
      ],
      "text/plain": [
       "<IPython.core.display.Markdown object>"
      ]
     },
     "metadata": {},
     "output_type": "display_data"
    },
    {
     "name": "stdout",
     "output_type": "stream",
     "text": [
      "Scratch: [0.675624 0.703512 0.690199 0.653016 0.695716 0.692191 0.692142 0.663897\n",
      " 0.717836 0.698621 0.690422 0.662485 0.716133 0.700826 0.690598 0.656921\n",
      " 0.693395 0.692009 0.693825 0.666587]\n",
      "Transfer: [0.622274 0.67877  0.592322 0.594397 0.632876 0.600423 0.63345  0.629882\n",
      " 0.632829 0.603429 0.614897 0.58916  0.625302 0.600423 0.609629 0.584806\n",
      " 0.625302 0.610515 0.615372 0.629882]\n",
      "Transfer & Revision: [0.687019 0.672036 0.696071 0.645539 0.637344 0.603086 0.63491  0.634979\n",
      " 0.63745  0.603472 0.624035 0.670646 0.630355 0.604287 0.607943 0.642793\n",
      " 0.630355 0.62075  0.619789 0.635357]\n"
     ]
    },
    {
     "data": {
      "text/markdown": [
       "## CLL"
      ],
      "text/plain": [
       "<IPython.core.display.Markdown object>"
      ]
     },
     "metadata": {},
     "output_type": "display_data"
    },
    {
     "name": "stdout",
     "output_type": "stream",
     "text": [
      "Scratch: [-0.641966 -0.644812 -0.655595 -0.673183 -0.640123 -0.650798 -0.652592\n",
      " -0.666581 -0.636168 -0.649165 -0.653146 -0.666919 -0.635362 -0.647192\n",
      " -0.652712 -0.670085 -0.642736 -0.649847 -0.650263 -0.669137]\n",
      "Transfer: [-0.656218 -0.648744 -0.681875 -0.679583 -0.652419 -0.681212 -0.662492\n",
      " -0.658589 -0.652512 -0.68039  -0.67929  -0.678936 -0.667676 -0.681212\n",
      " -0.679933 -0.67924  -0.667676 -0.678895 -0.680696 -0.658589]\n",
      "Transfer & Revision: [-0.641305 -0.649263 -0.648235 -0.673403 -0.651839 -0.68028  -0.661078\n",
      " -0.658628 -0.651409 -0.680177 -0.676874 -0.668506 -0.666715 -0.679886\n",
      " -0.678896 -0.672249 -0.666796 -0.677302 -0.679591 -0.658455]\n"
     ]
    },
    {
     "data": {
      "text/markdown": [
       "## Recall"
      ],
      "text/plain": [
       "<IPython.core.display.Markdown object>"
      ]
     },
     "metadata": {},
     "output_type": "display_data"
    },
    {
     "name": "stdout",
     "output_type": "stream",
     "text": [
      "Scratch: [0.629934 0.504237 0.379092 0.322726 0.634623 0.496973 0.387804 0.275789\n",
      " 0.636186 0.492131 0.413411 0.292495 0.624853 0.497579 0.356917 0.35004\n",
      " 0.634232 0.500605 0.385956 0.262265]\n",
      "Transfer: [0.146542 0.606235 0.080253 0.07982  0.672919 0.291768 0.457497 0.479714\n",
      " 0.672919 0.291768 0.487064 0.536197 0.345057 0.291768 0.644139 0.536197\n",
      " 0.345057 0.484564 0.487064 0.479714]\n",
      "Transfer & Revision: [0.613912 0.585654 0.463569 0.239459 0.674091 0.296308 0.457497 0.479714\n",
      " 0.674091 0.296308 0.410771 0.279236 0.335287 0.307203 0.644139 0.135773\n",
      " 0.335287 0.549939 0.487064 0.479714]\n"
     ]
    },
    {
     "data": {
      "text/markdown": [
       "## F1"
      ],
      "text/plain": [
       "<IPython.core.display.Markdown object>"
      ]
     },
     "metadata": {},
     "output_type": "display_data"
    },
    {
     "name": "stdout",
     "output_type": "stream",
     "text": [
      "Scratch: [0.632157 0.578472 0.498611 0.426793 0.634623 0.573224 0.506552 0.403962\n",
      " 0.63408  0.569527 0.521218 0.418755 0.634272 0.573422 0.481139 0.455801\n",
      " 0.633489 0.575304 0.503877 0.392616]\n",
      "Transfer: [0.254669 0.621857 0.148148 0.147368 0.643137 0.388396 0.547984 0.566374\n",
      " 0.643137 0.388396 0.537822 0.559646 0.445285 0.388396 0.604634 0.559646\n",
      " 0.445285 0.52578  0.537822 0.566374]\n",
      "Transfer & Revision: [0.626021 0.614969 0.55977  0.357199 0.643657 0.392306 0.547984 0.566374\n",
      " 0.643657 0.392306 0.497204 0.414322 0.443525 0.402698 0.604634 0.235727\n",
      " 0.443525 0.56376  0.537822 0.566374]\n"
     ]
    },
    {
     "data": {
      "text/markdown": [
       "## Precision"
      ],
      "text/plain": [
       "<IPython.core.display.Markdown object>"
      ]
     },
     "metadata": {},
     "output_type": "display_data"
    },
    {
     "name": "stdout",
     "output_type": "stream",
     "text": [
      "Scratch: [0.634396 0.678339 0.728195 0.629917 0.634623 0.677113 0.730119 0.754717\n",
      " 0.631988 0.67581  0.705088 0.736807 0.643979 0.676543 0.737991 0.653142\n",
      " 0.632749 0.676206 0.725558 0.780584]\n",
      "Transfer: [0.971503 0.638305 0.962025 0.958599 0.61588  0.580723 0.68309  0.69125\n",
      " 0.61588  0.580723 0.60039  0.585239 0.627576 0.580723 0.569694 0.585239\n",
      " 0.627576 0.574659 0.60039  0.69125 ]\n",
      "Transfer & Revision: [0.638618 0.647374 0.706356 0.702724 0.615851 0.58032  0.68309  0.69125\n",
      " 0.615851 0.58032  0.629705 0.802591 0.654962 0.584341 0.569694 0.893543\n",
      " 0.654962 0.578294 0.60039  0.69125 ]\n"
     ]
    },
    {
     "data": {
      "text/markdown": [
       "## Learning and Revision time"
      ],
      "text/plain": [
       "<IPython.core.display.Markdown object>"
      ]
     },
     "metadata": {},
     "output_type": "display_data"
    },
    {
     "name": "stdout",
     "output_type": "stream",
     "text": [
      "Scratch: [77.316 56.996 34.603 36.769 70.557 58.802 35.01  32.225 71.615 60.116\n",
      " 32.392 30.136 77.831 61.564 30.577 32.461 83.511 57.595 31.574 30.999]\n",
      "Transfer: [38.234 31.965 28.657 15.896 44.982 33.908 16.701 15.181 39.774 27.029\n",
      " 16.106 15.392 41.508 31.12  17.644 15.102 35.696 31.566 17.522 12.011]\n",
      "Transfer & Revision: [111.986  64.813  56.711  41.919  89.384  65.621  34.511  31.969  86.534\n",
      "  62.324  29.599  40.801  78.143  63.245  34.814  39.631  74.729  57.509\n",
      "  31.423  27.698]\n"
     ]
    },
    {
     "data": {
      "text/markdown": [
       "## Inference time"
      ],
      "text/plain": [
       "<IPython.core.display.Markdown object>"
      ]
     },
     "metadata": {},
     "output_type": "display_data"
    },
    {
     "name": "stdout",
     "output_type": "stream",
     "text": [
      "Scratch: [2.755 2.555 3.231 2.804 2.167 3.003 2.512 2.581 2.01  2.396 2.886 2.85\n",
      " 2.462 3.112 2.714 2.713 2.084 2.813 2.709 2.682]\n",
      "Transfer: [38.234 31.965 28.657 15.896 44.982 33.908 16.701 15.181 39.774 27.029\n",
      " 16.106 15.392 41.508 31.12  17.644 15.102 35.696 31.566 17.522 12.011]\n",
      "Transfer & Revision: [2.647 2.531 2.853 3.131 1.878 2.426 2.833 3.173 2.639 3.234 2.869 2.948\n",
      " 2.363 2.315 2.61  3.046 2.189 2.628 2.757 2.559]\n"
     ]
    },
    {
     "data": {
      "text/markdown": [
       "# Results for nell_sports->nell_finances(companyeconomicsector)"
      ],
      "text/plain": [
       "<IPython.core.display.Markdown object>"
      ]
     },
     "metadata": {},
     "output_type": "display_data"
    },
    {
     "data": {
      "text/markdown": [
       "## AUC ROC"
      ],
      "text/plain": [
       "<IPython.core.display.Markdown object>"
      ]
     },
     "metadata": {},
     "output_type": "display_data"
    },
    {
     "name": "stdout",
     "output_type": "stream",
     "text": [
      "Scratch: [1. 1. 1. 1. 1. 1. 1. 1. 1. 1. 1. 1. 1. 1. 1. 1. 1. 1.]\n",
      "Transfer: [0.5 0.5 0.5 0.5 0.5 0.5 0.5 0.5 0.5 0.5 0.5 0.5 0.5 0.5 0.5 0.5 0.5 0.5]\n",
      "Transfer & Revision: [1. 1. 1. 1. 1. 1. 1. 1. 1. 1. 1. 1. 1. 1. 1. 1. 1. 1.]\n"
     ]
    },
    {
     "data": {
      "text/markdown": [
       "## AUC PR"
      ],
      "text/plain": [
       "<IPython.core.display.Markdown object>"
      ]
     },
     "metadata": {},
     "output_type": "display_data"
    },
    {
     "name": "stdout",
     "output_type": "stream",
     "text": [
      "Scratch: [1. 1. 1. 1. 1. 1. 1. 1. 1. 1. 1. 1. 1. 1. 1. 1. 1. 1.]\n",
      "Transfer: [0.5 0.5 0.5 0.5 0.5 0.5 0.5 0.5 0.5 0.5 0.5 0.5 0.5 0.5 0.5 0.5 0.5 0.5]\n",
      "Transfer & Revision: [1. 1. 1. 1. 1. 1. 1. 1. 1. 1. 1. 1. 1. 1. 1. 1. 1. 1.]\n"
     ]
    },
    {
     "data": {
      "text/markdown": [
       "## CLL"
      ],
      "text/plain": [
       "<IPython.core.display.Markdown object>"
      ]
     },
     "metadata": {},
     "output_type": "display_data"
    },
    {
     "name": "stdout",
     "output_type": "stream",
     "text": [
      "Scratch: [-0.094637 -0.094637 -0.094637 -0.094637 -0.094637 -0.094637 -0.094637\n",
      " -0.094637 -0.094637 -0.094637 -0.094637 -0.094637 -0.094637 -0.094637\n",
      " -0.094637 -0.094637 -0.094637 -0.094637]\n",
      "Transfer: [-0.695106 -0.695145 -0.695026 -0.695089 -0.695102 -0.695093 -0.695026\n",
      " -0.695079 -0.695079 -0.695121 -0.695026 -0.695026 -0.695034 -0.695026\n",
      " -0.695083 -0.695059 -0.695089 -0.695048]\n",
      "Transfer & Revision: [-0.437268 -0.428396 -0.431685 -0.1483   -0.260813 -0.149237 -0.211152\n",
      " -0.195553 -0.190704 -0.170739 -0.180507 -0.171433 -0.308297 -0.284292\n",
      " -0.200169 -0.407703 -0.408326 -0.190193]\n"
     ]
    },
    {
     "data": {
      "text/markdown": [
       "## Recall"
      ],
      "text/plain": [
       "<IPython.core.display.Markdown object>"
      ]
     },
     "metadata": {},
     "output_type": "display_data"
    },
    {
     "name": "stdout",
     "output_type": "stream",
     "text": [
      "Scratch: [1. 1. 1. 1. 1. 1. 1. 1. 1. 1. 1. 1. 1. 1. 1. 1. 1. 1.]\n",
      "Transfer: [0. 0. 0. 0. 0. 0. 0. 0. 0. 0. 0. 0. 0. 0. 0. 0. 0. 0.]\n",
      "Transfer & Revision: [1.       1.       1.       1.       1.       1.       1.       1.\n",
      " 1.       1.       1.       1.       1.       1.       1.       1.\n",
      " 0.998069 1.      ]\n"
     ]
    },
    {
     "data": {
      "text/markdown": [
       "## F1"
      ],
      "text/plain": [
       "<IPython.core.display.Markdown object>"
      ]
     },
     "metadata": {},
     "output_type": "display_data"
    },
    {
     "name": "stdout",
     "output_type": "stream",
     "text": [
      "Scratch: [1. 1. 1. 1. 1. 1. 1. 1. 1. 1. 1. 1. 1. 1. 1. 1. 1. 1.]\n",
      "Transfer: [nan nan nan nan nan nan nan nan nan nan nan nan nan nan nan nan nan nan]\n",
      "Transfer & Revision: [1.       1.       1.       1.       1.       1.       1.       1.\n",
      " 1.       1.       1.       1.       1.       1.       1.       1.\n",
      " 0.999034 1.      ]\n"
     ]
    },
    {
     "data": {
      "text/markdown": [
       "## Precision"
      ],
      "text/plain": [
       "<IPython.core.display.Markdown object>"
      ]
     },
     "metadata": {},
     "output_type": "display_data"
    },
    {
     "name": "stdout",
     "output_type": "stream",
     "text": [
      "Scratch: [1. 1. 1. 1. 1. 1. 1. 1. 1. 1. 1. 1. 1. 1. 1. 1. 1. 1.]\n",
      "Transfer: [nan nan nan nan nan nan nan nan nan nan nan nan nan nan nan nan nan nan]\n",
      "Transfer & Revision: [1. 1. 1. 1. 1. 1. 1. 1. 1. 1. 1. 1. 1. 1. 1. 1. 1. 1.]\n"
     ]
    },
    {
     "data": {
      "text/markdown": [
       "## Learning and Revision time"
      ],
      "text/plain": [
       "<IPython.core.display.Markdown object>"
      ]
     },
     "metadata": {},
     "output_type": "display_data"
    },
    {
     "name": "stdout",
     "output_type": "stream",
     "text": [
      "Scratch: [ 6.793 21.557  9.477 10.278 22.996  9.5   10.356 23.475  7.608  6.187\n",
      " 25.119  6.341  8.257 14.517  8.779  7.304 29.681  6.682]\n",
      "Transfer: [ 9.658 16.66  60.189 44.011 61.278  7.101 11.831 67.129 90.713  7.908\n",
      " 27.404  6.11  68.749 23.748 80.947  9.043 38.281 35.555]\n",
      "Transfer & Revision: [ 20.89   52.513  71.936  57.934  81.288  29.054 172.792 172.374 111.704\n",
      "  40.266 139.839  27.451 107.257  42.36  137.854  71.594  77.982  51.546]\n"
     ]
    },
    {
     "data": {
      "text/markdown": [
       "## Inference time"
      ],
      "text/plain": [
       "<IPython.core.display.Markdown object>"
      ]
     },
     "metadata": {},
     "output_type": "display_data"
    },
    {
     "name": "stdout",
     "output_type": "stream",
     "text": [
      "Scratch: [0.899 0.766 0.707 1.05  1.036 1.002 0.734 0.923 1.034 0.774 0.949 0.841\n",
      " 0.887 0.886 1.113 0.977 1.03  0.718]\n",
      "Transfer: [ 9.658 16.66  60.189 44.011 61.278  7.101 11.831 67.129 90.713  7.908\n",
      " 27.404  6.11  68.749 23.748 80.947  9.043 38.281 35.555]\n",
      "Transfer & Revision: [2.051 1.518 1.646 2.033 2.027 1.78  2.68  2.92  2.507 1.908 2.429 2.128\n",
      " 1.999 2.022 1.927 2.529 2.239 1.805]\n"
     ]
    },
    {
     "data": {
      "text/markdown": [
       "# Results for nell_finances->nell_sports(teamplayssport)"
      ],
      "text/plain": [
       "<IPython.core.display.Markdown object>"
      ]
     },
     "metadata": {},
     "output_type": "display_data"
    },
    {
     "data": {
      "text/markdown": [
       "## AUC ROC"
      ],
      "text/plain": [
       "<IPython.core.display.Markdown object>"
      ]
     },
     "metadata": {},
     "output_type": "display_data"
    },
    {
     "name": "stdout",
     "output_type": "stream",
     "text": [
      "Scratch: [0.939473 0.933217 0.937949 0.933834 0.93283  0.924423 0.932973 0.927155\n",
      " 0.927837 0.938433 0.922105 0.925278 0.941596 0.920892 0.933631]\n",
      "Transfer: [0.945269 0.934064 0.930472 0.936474 0.924429 0.929066 0.933447 0.927851\n",
      " 0.922678 0.940714 0.921825 0.923173 0.932701 0.925649 0.927943]\n",
      "Transfer & Revision: [0.936065 0.910067 0.934133 0.928124 0.917262 0.926713 0.935003 0.926222\n",
      " 0.916742 0.928396 0.899219 0.925611 0.930491 0.90582  0.911746]\n"
     ]
    },
    {
     "data": {
      "text/markdown": [
       "## AUC PR"
      ],
      "text/plain": [
       "<IPython.core.display.Markdown object>"
      ]
     },
     "metadata": {},
     "output_type": "display_data"
    },
    {
     "name": "stdout",
     "output_type": "stream",
     "text": [
      "Scratch: [0.938486 0.945802 0.930242 0.932267 0.930048 0.913019 0.934621 0.926349\n",
      " 0.920525 0.941424 0.91567  0.90582  0.941684 0.911226 0.927079]\n",
      "Transfer: [0.940901 0.948339 0.92268  0.937989 0.920846 0.91542  0.93562  0.925598\n",
      " 0.897114 0.940138 0.918081 0.907723 0.933132 0.924188 0.915988]\n",
      "Transfer & Revision: [0.94009  0.913959 0.930345 0.929838 0.913496 0.920163 0.934335 0.92582\n",
      " 0.913809 0.929519 0.889255 0.923923 0.933349 0.901807 0.90704 ]\n"
     ]
    },
    {
     "data": {
      "text/markdown": [
       "## CLL"
      ],
      "text/plain": [
       "<IPython.core.display.Markdown object>"
      ]
     },
     "metadata": {},
     "output_type": "display_data"
    },
    {
     "name": "stdout",
     "output_type": "stream",
     "text": [
      "Scratch: [-0.336486 -0.346097 -0.342414 -0.350062 -0.359071 -0.362802 -0.349187\n",
      " -0.367882 -0.366831 -0.345949 -0.36944  -0.364219 -0.342508 -0.359261\n",
      " -0.357598]\n",
      "Transfer: [-0.333286 -0.350489 -0.355121 -0.352145 -0.369068 -0.360739 -0.347009\n",
      " -0.370646 -0.369809 -0.346393 -0.370089 -0.361949 -0.351216 -0.370049\n",
      " -0.363172]\n",
      "Transfer & Revision: [-0.354219 -0.392394 -0.351419 -0.352881 -0.375415 -0.369429 -0.347589\n",
      " -0.365332 -0.385169 -0.36118  -0.39123  -0.384226 -0.35971  -0.387133\n",
      " -0.376511]\n"
     ]
    },
    {
     "data": {
      "text/markdown": [
       "## Recall"
      ],
      "text/plain": [
       "<IPython.core.display.Markdown object>"
      ]
     },
     "metadata": {},
     "output_type": "display_data"
    },
    {
     "name": "stdout",
     "output_type": "stream",
     "text": [
      "Scratch: [0.935606 0.878788 0.909774 0.897727 0.920455 0.898496 0.852273 0.909091\n",
      " 0.890977 0.844697 0.92803  0.909774 0.840909 0.920455 0.898496]\n",
      "Transfer: [0.916667 0.886364 0.917293 0.852273 0.912879 0.894737 0.856061 0.909091\n",
      " 0.890977 0.878788 0.886364 0.906015 0.844697 0.905303 0.898496]\n",
      "Transfer & Revision: [0.931818 0.905303 0.909774 0.924242 0.897727 0.917293 0.871212 0.901515\n",
      " 0.909774 0.901515 0.912879 0.909774 0.893939 0.924242 0.902256]\n"
     ]
    },
    {
     "data": {
      "text/markdown": [
       "## F1"
      ],
      "text/plain": [
       "<IPython.core.display.Markdown object>"
      ]
     },
     "metadata": {},
     "output_type": "display_data"
    },
    {
     "name": "stdout",
     "output_type": "stream",
     "text": [
      "Scratch: [0.882143 0.87218  0.850615 0.871324 0.870968 0.844523 0.85389  0.851064\n",
      " 0.837456 0.856046 0.858144 0.852113 0.862136 0.86941  0.862816]\n",
      "Transfer: [0.876812 0.871508 0.850174 0.85389  0.85918  0.857658 0.854442 0.852575\n",
      " 0.846429 0.856089 0.847826 0.845614 0.851145 0.858169 0.847518]\n",
      "Transfer & Revision: [0.875445 0.847518 0.853616 0.869875 0.84492  0.850174 0.863039 0.85\n",
      " 0.841739 0.846975 0.8471   0.841739 0.853526 0.854641 0.84063 ]\n"
     ]
    },
    {
     "data": {
      "text/markdown": [
       "## Precision"
      ],
      "text/plain": [
       "<IPython.core.display.Markdown object>"
      ]
     },
     "metadata": {},
     "output_type": "display_data"
    },
    {
     "name": "stdout",
     "output_type": "stream",
     "text": [
      "Scratch: [0.834459 0.865672 0.79868  0.846429 0.826531 0.796667 0.855513 0.8\n",
      " 0.79     0.867704 0.798046 0.801325 0.884462 0.823729 0.829861]\n",
      "Transfer: [0.840278 0.857143 0.792208 0.855513 0.811448 0.823529 0.85283  0.802676\n",
      " 0.806122 0.834532 0.8125   0.792763 0.857692 0.8157   0.802013]\n",
      "Transfer & Revision: [0.825503 0.796667 0.803987 0.821549 0.79798  0.792208 0.855019 0.804054\n",
      " 0.783172 0.798658 0.790164 0.783172 0.816609 0.794788 0.786885]\n"
     ]
    },
    {
     "data": {
      "text/markdown": [
       "## Learning and Revision time"
      ],
      "text/plain": [
       "<IPython.core.display.Markdown object>"
      ]
     },
     "metadata": {},
     "output_type": "display_data"
    },
    {
     "name": "stdout",
     "output_type": "stream",
     "text": [
      "Scratch: [ 852.21   272.334  549.417  522.762  392.758  252.879  617.48   481.642\n",
      "  263.829 1022.204  415.231  216.263  528.295  450.764  305.461]\n",
      "Transfer: [834.924 244.914 493.841 493.512 326.067 210.733 471.919 388.684 203.998\n",
      " 426.324 355.401 219.863 431.784 408.643 234.919]\n",
      "Transfer & Revision: [1279.911  663.623  902.818  796.224  865.335  446.558  923.715  596.197\n",
      "  502.482  748.129  568.742  421.657  827.55   728.747  422.81 ]\n"
     ]
    },
    {
     "data": {
      "text/markdown": [
       "## Inference time"
      ],
      "text/plain": [
       "<IPython.core.display.Markdown object>"
      ]
     },
     "metadata": {},
     "output_type": "display_data"
    },
    {
     "name": "stdout",
     "output_type": "stream",
     "text": [
      "Scratch: [5.527 4.668 8.641 5.484 5.365 3.556 5.299 5.835 3.707 6.309 5.304 3.124\n",
      " 5.109 5.27  3.275]\n",
      "Transfer: [834.924 244.914 493.841 493.512 326.067 210.733 471.919 388.684 203.998\n",
      " 426.324 355.401 219.863 431.784 408.643 234.919]\n",
      "Transfer & Revision: [17.857  8.353 17.233  5.557 10.21  13.218  6.242  5.488 18.285  6.526\n",
      "  7.021  3.348  6.628  5.107  6.832]\n"
     ]
    },
    {
     "data": {
      "text/markdown": [
       "# Results for imdb->yago2s(ismarriedto)"
      ],
      "text/plain": [
       "<IPython.core.display.Markdown object>"
      ]
     },
     "metadata": {},
     "output_type": "display_data"
    },
    {
     "data": {
      "text/markdown": [
       "## AUC ROC"
      ],
      "text/plain": [
       "<IPython.core.display.Markdown object>"
      ]
     },
     "metadata": {},
     "output_type": "display_data"
    },
    {
     "name": "stdout",
     "output_type": "stream",
     "text": [
      "Scratch: [0.72363  0.731005 0.732414 0.725615 0.728342 0.721859]\n",
      "Transfer: [0.566957 0.567367 0.501577 0.501799 0.567367 0.56799 ]\n",
      "Transfer & Revision: [0.720135 0.72162  0.707257 0.708198 0.728645 0.72243 ]\n"
     ]
    },
    {
     "data": {
      "text/markdown": [
       "## AUC PR"
      ],
      "text/plain": [
       "<IPython.core.display.Markdown object>"
      ]
     },
     "metadata": {},
     "output_type": "display_data"
    },
    {
     "name": "stdout",
     "output_type": "stream",
     "text": [
      "Scratch: [0.747337 0.754285 0.755589 0.750786 0.752374 0.747431]\n",
      "Transfer: [0.625931 0.626507 0.505879 0.506585 0.626507 0.62738 ]\n",
      "Transfer & Revision: [0.744289 0.743997 0.734591 0.736369 0.751411 0.750114]\n"
     ]
    },
    {
     "data": {
      "text/markdown": [
       "## CLL"
      ],
      "text/plain": [
       "<IPython.core.display.Markdown object>"
      ]
     },
     "metadata": {},
     "output_type": "display_data"
    },
    {
     "name": "stdout",
     "output_type": "stream",
     "text": [
      "Scratch: [-0.603011 -0.601201 -0.598733 -0.601307 -0.600708 -0.603156]\n",
      "Transfer: [-0.654582 -0.654239 -0.694137 -0.693972 -0.654239 -0.653721]\n",
      "Transfer & Revision: [-0.602689 -0.602763 -0.610738 -0.609565 -0.601464 -0.599697]\n"
     ]
    },
    {
     "data": {
      "text/markdown": [
       "## Recall"
      ],
      "text/plain": [
       "<IPython.core.display.Markdown object>"
      ]
     },
     "metadata": {},
     "output_type": "display_data"
    },
    {
     "name": "stdout",
     "output_type": "stream",
     "text": [
      "Scratch: [0.323362 0.312887 0.308998 0.320901 0.319071 0.315623]\n",
      "Transfer: [0.133914 0.134734 0.003155 0.003597 0.134734 0.135979]\n",
      "Transfer & Revision: [0.298498 0.296857 0.279909 0.296415 0.302348 0.319914]\n"
     ]
    },
    {
     "data": {
      "text/markdown": [
       "## F1"
      ],
      "text/plain": [
       "<IPython.core.display.Markdown object>"
      ]
     },
     "metadata": {},
     "output_type": "display_data"
    },
    {
     "name": "stdout",
     "output_type": "stream",
     "text": [
      "Scratch: [0.467326 0.459351 0.455747 0.46415  0.466313 0.462527]\n",
      "Transfer: [0.236198 0.237473 0.00629  0.007168 0.237473 0.239405]\n",
      "Transfer & Revision: [0.44247  0.442729 0.422557 0.442341 0.447924 0.466593]\n"
     ]
    },
    {
     "data": {
      "text/markdown": [
       "## Precision"
      ],
      "text/plain": [
       "<IPython.core.display.Markdown object>"
      ]
     },
     "metadata": {},
     "output_type": "display_data"
    },
    {
     "name": "stdout",
     "output_type": "stream",
     "text": [
      "Scratch: [0.842348 0.863613 0.867955 0.838417 0.865902 0.865248]\n",
      "Transfer: [1. 1. 1. 1. 1. 1.]\n",
      "Transfer & Revision: [0.854716 0.870466 0.861694 0.871267 0.863866 0.861659]\n"
     ]
    },
    {
     "data": {
      "text/markdown": [
       "## Learning and Revision time"
      ],
      "text/plain": [
       "<IPython.core.display.Markdown object>"
      ]
     },
     "metadata": {},
     "output_type": "display_data"
    },
    {
     "name": "stdout",
     "output_type": "stream",
     "text": [
      "Scratch: [523.146 590.706 743.632 613.078 766.964 571.466]\n",
      "Transfer: [319.503 314.908 319.909 380.5   273.303 315.857]\n",
      "Transfer & Revision: [879.189 881.387 961.81  881.296 858.996 797.995]\n"
     ]
    },
    {
     "data": {
      "text/markdown": [
       "## Inference time"
      ],
      "text/plain": [
       "<IPython.core.display.Markdown object>"
      ]
     },
     "metadata": {},
     "output_type": "display_data"
    },
    {
     "name": "stdout",
     "output_type": "stream",
     "text": [
      "Scratch: [91.115 70.314 63.352 80.524 60.995 65.825]\n",
      "Transfer: [319.503 314.908 319.909 380.5   273.303 315.857]\n",
      "Transfer & Revision: [ 62.118  67.995  65.154 454.501  67.125  58.05 ]\n"
     ]
    },
    {
     "data": {
      "text/markdown": [
       "# Results for imdb->yago2s(hasacademicadvisor)"
      ],
      "text/plain": [
       "<IPython.core.display.Markdown object>"
      ]
     },
     "metadata": {},
     "output_type": "display_data"
    },
    {
     "data": {
      "text/markdown": [
       "## AUC ROC"
      ],
      "text/plain": [
       "<IPython.core.display.Markdown object>"
      ]
     },
     "metadata": {},
     "output_type": "display_data"
    },
    {
     "name": "stdout",
     "output_type": "stream",
     "text": [
      "Scratch: [0.740486 0.727366 0.722431]\n",
      "Transfer: [0.506218 0.535751 0.529275]\n",
      "Transfer & Revision: [0.722554 0.720927 0.720177]\n"
     ]
    },
    {
     "data": {
      "text/markdown": [
       "## AUC PR"
      ],
      "text/plain": [
       "<IPython.core.display.Markdown object>"
      ]
     },
     "metadata": {},
     "output_type": "display_data"
    },
    {
     "name": "stdout",
     "output_type": "stream",
     "text": [
      "Scratch: [0.767986 0.754552 0.757637]\n",
      "Transfer: [0.518923 0.57443  0.562778]\n",
      "Transfer & Revision: [0.758648 0.753233 0.759899]\n"
     ]
    },
    {
     "data": {
      "text/markdown": [
       "## CLL"
      ],
      "text/plain": [
       "<IPython.core.display.Markdown object>"
      ]
     },
     "metadata": {},
     "output_type": "display_data"
    },
    {
     "name": "stdout",
     "output_type": "stream",
     "text": [
      "Scratch: [-0.602766 -0.606762 -0.608209]\n",
      "Transfer: [-0.691372 -0.676793 -0.681421]\n",
      "Transfer & Revision: [-0.611633 -0.608686 -0.607846]\n"
     ]
    },
    {
     "data": {
      "text/markdown": [
       "## Recall"
      ],
      "text/plain": [
       "<IPython.core.display.Markdown object>"
      ]
     },
     "metadata": {},
     "output_type": "display_data"
    },
    {
     "name": "stdout",
     "output_type": "stream",
     "text": [
      "Scratch: [0.395855 0.370984 0.424352]\n",
      "Transfer: [0.012435 0.075648 0.063212]\n",
      "Transfer & Revision: [0.371503 0.371503 0.394819]\n"
     ]
    },
    {
     "data": {
      "text/markdown": [
       "## F1"
      ],
      "text/plain": [
       "<IPython.core.display.Markdown object>"
      ]
     },
     "metadata": {},
     "output_type": "display_data"
    },
    {
     "name": "stdout",
     "output_type": "stream",
     "text": [
      "Scratch: [0.540502 0.518653 0.557712]\n",
      "Transfer: [0.024565 0.140115 0.118389]\n",
      "Transfer & Revision: [0.521265 0.519565 0.538516]\n"
     ]
    },
    {
     "data": {
      "text/markdown": [
       "## Precision"
      ],
      "text/plain": [
       "<IPython.core.display.Markdown object>"
      ]
     },
     "metadata": {},
     "output_type": "display_data"
    },
    {
     "name": "stdout",
     "output_type": "stream",
     "text": [
      "Scratch: [0.851728 0.861613 0.813307]\n",
      "Transfer: [1.       0.948052 0.931298]\n",
      "Transfer & Revision: [0.873325 0.863855 0.846667]\n"
     ]
    },
    {
     "data": {
      "text/markdown": [
       "## Learning and Revision time"
      ],
      "text/plain": [
       "<IPython.core.display.Markdown object>"
      ]
     },
     "metadata": {},
     "output_type": "display_data"
    },
    {
     "name": "stdout",
     "output_type": "stream",
     "text": [
      "Scratch: [543.356 377.319 488.129]\n",
      "Transfer: [165.385 205.911 152.169]\n",
      "Transfer & Revision: [543.789 694.617 479.192]\n"
     ]
    },
    {
     "data": {
      "text/markdown": [
       "## Inference time"
      ],
      "text/plain": [
       "<IPython.core.display.Markdown object>"
      ]
     },
     "metadata": {},
     "output_type": "display_data"
    },
    {
     "name": "stdout",
     "output_type": "stream",
     "text": [
      "Scratch: [57.491 55.796 58.024]\n",
      "Transfer: [165.385 205.911 152.169]\n",
      "Transfer & Revision: [57.335 62.3   59.496]\n"
     ]
    },
    {
     "data": {
      "text/markdown": [
       "# Results for imdb->yago2s(haschild)"
      ],
      "text/plain": [
       "<IPython.core.display.Markdown object>"
      ]
     },
     "metadata": {},
     "output_type": "display_data"
    },
    {
     "data": {
      "text/markdown": [
       "## AUC ROC"
      ],
      "text/plain": [
       "<IPython.core.display.Markdown object>"
      ]
     },
     "metadata": {},
     "output_type": "display_data"
    },
    {
     "name": "stdout",
     "output_type": "stream",
     "text": [
      "Scratch: [0.662911 0.66985  0.654504]\n",
      "Transfer: [0.50075 0.5012  0.50135]\n",
      "Transfer & Revision: [0.6376   0.654873 0.65076 ]\n"
     ]
    },
    {
     "data": {
      "text/markdown": [
       "## AUC PR"
      ],
      "text/plain": [
       "<IPython.core.display.Markdown object>"
      ]
     },
     "metadata": {},
     "output_type": "display_data"
    },
    {
     "name": "stdout",
     "output_type": "stream",
     "text": [
      "Scratch: [0.689357 0.696687 0.676516]\n",
      "Transfer: [0.502983 0.504636 0.505136]\n",
      "Transfer & Revision: [0.660038 0.68264  0.675981]\n"
     ]
    },
    {
     "data": {
      "text/markdown": [
       "## CLL"
      ],
      "text/plain": [
       "<IPython.core.display.Markdown object>"
      ]
     },
     "metadata": {},
     "output_type": "display_data"
    },
    {
     "name": "stdout",
     "output_type": "stream",
     "text": [
      "Scratch: [-0.652782 -0.650413 -0.656722]\n",
      "Transfer: [-0.694681 -0.694372 -0.694259]\n",
      "Transfer & Revision: [-0.663752 -0.659349 -0.659086]\n"
     ]
    },
    {
     "data": {
      "text/markdown": [
       "## Recall"
      ],
      "text/plain": [
       "<IPython.core.display.Markdown object>"
      ]
     },
     "metadata": {},
     "output_type": "display_data"
    },
    {
     "name": "stdout",
     "output_type": "stream",
     "text": [
      "Scratch: [0.3394 0.3355 0.3115]\n",
      "Transfer: [0.0016 0.0024 0.0027]\n",
      "Transfer & Revision: [0.3109 0.3285 0.2958]\n"
     ]
    },
    {
     "data": {
      "text/markdown": [
       "## F1"
      ],
      "text/plain": [
       "<IPython.core.display.Markdown object>"
      ]
     },
     "metadata": {},
     "output_type": "display_data"
    },
    {
     "name": "stdout",
     "output_type": "stream",
     "text": [
      "Scratch: [0.459363 0.459243 0.430754]\n",
      "Transfer: [0.003195 0.004789 0.005385]\n",
      "Transfer & Revision: [0.42592  0.448097 0.417531]\n"
     ]
    },
    {
     "data": {
      "text/markdown": [
       "## Precision"
      ],
      "text/plain": [
       "<IPython.core.display.Markdown object>"
      ]
     },
     "metadata": {},
     "output_type": "display_data"
    },
    {
     "name": "stdout",
     "output_type": "stream",
     "text": [
      "Scratch: [0.710488 0.727608 0.697961]\n",
      "Transfer: [0.941176 1.       1.      ]\n",
      "Transfer & Revision: [0.676017 0.704633 0.709523]\n"
     ]
    },
    {
     "data": {
      "text/markdown": [
       "## Learning and Revision time"
      ],
      "text/plain": [
       "<IPython.core.display.Markdown object>"
      ]
     },
     "metadata": {},
     "output_type": "display_data"
    },
    {
     "name": "stdout",
     "output_type": "stream",
     "text": [
      "Scratch: [435.622 895.97  565.452]\n",
      "Transfer: [223.605 268.713 255.394]\n",
      "Transfer & Revision: [756.04  864.946 682.775]\n"
     ]
    },
    {
     "data": {
      "text/markdown": [
       "## Inference time"
      ],
      "text/plain": [
       "<IPython.core.display.Markdown object>"
      ]
     },
     "metadata": {},
     "output_type": "display_data"
    },
    {
     "name": "stdout",
     "output_type": "stream",
     "text": [
      "Scratch: [61.359 70.907 61.038]\n",
      "Transfer: [223.605 268.713 255.394]\n",
      "Transfer & Revision: [70.825 67.823 71.002]\n"
     ]
    }
   ],
   "source": [
    "for j in range(len(experiments)):\n",
    "    dataset = experiments[j]['source'] + '->' + experiments[j]['target'] + '(' + experiments[j]['to_predicate'] + ')'\n",
    "    display(Markdown('# Results for ' + dataset))\n",
    "    table = []\n",
    "    for metric in ['AUC ROC', 'AUC PR', 'CLL', 'Recall', 'F1', 'Precision', 'Learning and Revision time', 'Inference time']:\n",
    "    #for metric in ['AUC ROC', 'AUC PR']:\n",
    "        if dataset in data['results']: \n",
    "            #for metric in ['AUC ROC', 'AUC PR']:\n",
    "            display(Markdown('## ' + metric))\n",
    "            if metric == 'Precision':\n",
    "                scratch = np.array([item['scratch']['Precision'][0] for sublist in data['results'][str(dataset)] for item in sublist])\n",
    "                parameter = np.array([item['transfer']['Parameter Learning results']['Precision'][0] for sublist in data['results'][str(dataset)] for item in sublist])\n",
    "                transfer = np.array([item['transfer']['Precision'][0] for sublist in data['results'][str(dataset)] for item in sublist])\n",
    "            elif metric == 'Learning and Revision time':\n",
    "                scratch = np.array([item['scratch']['Learning time'] for sublist in data['results'][str(dataset)] for item in sublist])\n",
    "                parameter = np.array([item['transfer']['Parameter Learning results']['Learning time'] for sublist in data['results'][str(dataset)] for item in sublist])\n",
    "                transfer = np.array([item['transfer']['Learning time'] for sublist in data['results'][str(dataset)] for item in sublist])\n",
    "            elif metric == 'Inference time':\n",
    "                scratch = np.array([item['scratch']['Inference time'] for sublist in data['results'][str(dataset)] for item in sublist])\n",
    "                parameter = np.array([item['transfer']['Parameter Learning results']['Learning time'] for sublist in data['results'][str(dataset)] for item in sublist])\n",
    "                transfer = np.array([item['transfer']['Inference time'] for sublist in data['results'][str(dataset)] for item in sublist])\n",
    "            else:\n",
    "                scratch = np.array([item['scratch'][metric] for sublist in data['results'][str(dataset)] for item in sublist])\n",
    "                parameter = np.array([item['transfer']['Parameter Learning results'][metric] for sublist in data['results'][str(dataset)] for item in sublist])\n",
    "                transfer = np.array([item['transfer'][metric] for sublist in data['results'][str(dataset)] for item in sublist])\n",
    "            print('Scratch: %s' % scratch)\n",
    "            print('Transfer: %s' % parameter)\n",
    "            print('Transfer & Revision: %s' % transfer)"
   ]
  },
  {
   "cell_type": "code",
   "execution_count": null,
   "metadata": {
    "collapsed": true
   },
   "outputs": [],
   "source": []
  },
  {
   "cell_type": "code",
   "execution_count": null,
   "metadata": {
    "collapsed": true
   },
   "outputs": [],
   "source": []
  }
 ],
 "metadata": {
  "anaconda-cloud": {},
  "kernelspec": {
   "display_name": "Python [conda env:anaconda3]",
   "language": "python",
   "name": "conda-env-anaconda3-py"
  },
  "language_info": {
   "codemirror_mode": {
    "name": "ipython",
    "version": 3
   },
   "file_extension": ".py",
   "mimetype": "text/x-python",
   "name": "python",
   "nbconvert_exporter": "python",
   "pygments_lexer": "ipython3",
   "version": "3.5.2"
  }
 },
 "nbformat": 4,
 "nbformat_minor": 1
}
