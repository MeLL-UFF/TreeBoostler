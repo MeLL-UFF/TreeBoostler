{
 "cells": [
  {
   "cell_type": "code",
   "execution_count": 1,
   "metadata": {
    "collapsed": true
   },
   "outputs": [],
   "source": [
    "import matplotlib.pyplot as plt\n",
    "from IPython.display import display, Markdown, Latex\n",
    "import numpy as np\n",
    "import json\n",
    "import pandas as pd\n",
    "\n",
    "with open('transfer_experiment.json', 'r') as fp:\n",
    "    data = json.load(fp)"
   ]
  },
  {
   "cell_type": "code",
   "execution_count": 2,
   "metadata": {
    "collapsed": false
   },
   "outputs": [
    {
     "data": {
      "text/markdown": [
       "# Results for AUC ROC"
      ],
      "text/plain": [
       "<IPython.core.display.Markdown object>"
      ]
     },
     "metadata": {},
     "output_type": "display_data"
    },
    {
     "data": {
      "text/html": [
       "<div>\n",
       "<table border=\"1\" class=\"dataframe\">\n",
       "  <thead>\n",
       "    <tr style=\"text-align: right;\">\n",
       "      <th></th>\n",
       "      <th>Experiment</th>\n",
       "      <th>Transfer Learning</th>\n",
       "      <th>Transfer Learning with Revision Theory</th>\n",
       "      <th>Learning from scratch</th>\n",
       "    </tr>\n",
       "  </thead>\n",
       "  <tbody>\n",
       "    <tr>\n",
       "      <th>0</th>\n",
       "      <td>imdb-&gt;uwcse(advisedby)</td>\n",
       "      <td>0.890 +/- 0.041</td>\n",
       "      <td>0.886 +/- 0.074</td>\n",
       "      <td>0.882 +/- 0.078</td>\n",
       "    </tr>\n",
       "    <tr>\n",
       "      <th>1</th>\n",
       "      <td>uwcse-&gt;imdb(workedunder)</td>\n",
       "      <td>1.000 +/- 0.000</td>\n",
       "      <td>0.942 +/- 0.052</td>\n",
       "      <td>0.924 +/- 0.047</td>\n",
       "    </tr>\n",
       "    <tr>\n",
       "      <th>2</th>\n",
       "      <td>imdb-&gt;cora(samevenue)</td>\n",
       "      <td>0.500 +/- 0.000</td>\n",
       "      <td>0.500 +/- 0.000</td>\n",
       "      <td>0.500 +/- 0.000</td>\n",
       "    </tr>\n",
       "    <tr>\n",
       "      <th>3</th>\n",
       "      <td>yeast-&gt;twitter(follows)</td>\n",
       "      <td>0.661 +/- 0.023</td>\n",
       "      <td>0.681 +/- 0.070</td>\n",
       "      <td>0.648 +/- 0.001</td>\n",
       "    </tr>\n",
       "    <tr>\n",
       "      <th>4</th>\n",
       "      <td>twitter-&gt;yeast(interaction)</td>\n",
       "      <td>0.588 +/- 0.061</td>\n",
       "      <td>0.612 +/- 0.061</td>\n",
       "      <td>0.605 +/- 0.009</td>\n",
       "    </tr>\n",
       "    <tr>\n",
       "      <th>5</th>\n",
       "      <td>nell_sports-&gt;nell_finances(companyeconomicsector)</td>\n",
       "      <td>0.500 +/- 0.000</td>\n",
       "      <td>1.000 +/- 0.000</td>\n",
       "      <td>1.000 +/- 0.000</td>\n",
       "    </tr>\n",
       "    <tr>\n",
       "      <th>6</th>\n",
       "      <td>nell_finances-&gt;nell_sports(teamplayssport)</td>\n",
       "      <td>0.892 +/- 0.047</td>\n",
       "      <td>0.890 +/- 0.045</td>\n",
       "      <td>0.892 +/- 0.049</td>\n",
       "    </tr>\n",
       "  </tbody>\n",
       "</table>\n",
       "</div>"
      ],
      "text/plain": [
       "                                          Experiment Transfer Learning  \\\n",
       "0                             imdb->uwcse(advisedby)   0.890 +/- 0.041   \n",
       "1                           uwcse->imdb(workedunder)   1.000 +/- 0.000   \n",
       "2                              imdb->cora(samevenue)   0.500 +/- 0.000   \n",
       "3                            yeast->twitter(follows)   0.661 +/- 0.023   \n",
       "4                        twitter->yeast(interaction)   0.588 +/- 0.061   \n",
       "5  nell_sports->nell_finances(companyeconomicsector)   0.500 +/- 0.000   \n",
       "6         nell_finances->nell_sports(teamplayssport)   0.892 +/- 0.047   \n",
       "\n",
       "  Transfer Learning with Revision Theory Learning from scratch  \n",
       "0                        0.886 +/- 0.074       0.882 +/- 0.078  \n",
       "1                        0.942 +/- 0.052       0.924 +/- 0.047  \n",
       "2                        0.500 +/- 0.000       0.500 +/- 0.000  \n",
       "3                        0.681 +/- 0.070       0.648 +/- 0.001  \n",
       "4                        0.612 +/- 0.061       0.605 +/- 0.009  \n",
       "5                        1.000 +/- 0.000       1.000 +/- 0.000  \n",
       "6                        0.890 +/- 0.045       0.892 +/- 0.049  "
      ]
     },
     "metadata": {},
     "output_type": "display_data"
    },
    {
     "data": {
      "text/markdown": [
       "# Results for AUC PR"
      ],
      "text/plain": [
       "<IPython.core.display.Markdown object>"
      ]
     },
     "metadata": {},
     "output_type": "display_data"
    },
    {
     "data": {
      "text/html": [
       "<div>\n",
       "<table border=\"1\" class=\"dataframe\">\n",
       "  <thead>\n",
       "    <tr style=\"text-align: right;\">\n",
       "      <th></th>\n",
       "      <th>Experiment</th>\n",
       "      <th>Transfer Learning</th>\n",
       "      <th>Transfer Learning with Revision Theory</th>\n",
       "      <th>Learning from scratch</th>\n",
       "    </tr>\n",
       "  </thead>\n",
       "  <tbody>\n",
       "    <tr>\n",
       "      <th>0</th>\n",
       "      <td>imdb-&gt;uwcse(advisedby)</td>\n",
       "      <td>0.820 +/- 0.056</td>\n",
       "      <td>0.833 +/- 0.107</td>\n",
       "      <td>0.829 +/- 0.116</td>\n",
       "    </tr>\n",
       "    <tr>\n",
       "      <th>1</th>\n",
       "      <td>uwcse-&gt;imdb(workedunder)</td>\n",
       "      <td>1.000 +/- 0.000</td>\n",
       "      <td>0.893 +/- 0.119</td>\n",
       "      <td>0.866 +/- 0.078</td>\n",
       "    </tr>\n",
       "    <tr>\n",
       "      <th>2</th>\n",
       "      <td>imdb-&gt;cora(samevenue)</td>\n",
       "      <td>0.524 +/- 0.019</td>\n",
       "      <td>0.524 +/- 0.019</td>\n",
       "      <td>0.524 +/- 0.019</td>\n",
       "    </tr>\n",
       "    <tr>\n",
       "      <th>3</th>\n",
       "      <td>yeast-&gt;twitter(follows)</td>\n",
       "      <td>0.630 +/- 0.060</td>\n",
       "      <td>0.640 +/- 0.080</td>\n",
       "      <td>0.603 +/- 0.010</td>\n",
       "    </tr>\n",
       "    <tr>\n",
       "      <th>4</th>\n",
       "      <td>twitter-&gt;yeast(interaction)</td>\n",
       "      <td>0.577 +/- 0.044</td>\n",
       "      <td>0.626 +/- 0.050</td>\n",
       "      <td>0.632 +/- 0.011</td>\n",
       "    </tr>\n",
       "    <tr>\n",
       "      <th>5</th>\n",
       "      <td>nell_sports-&gt;nell_finances(companyeconomicsector)</td>\n",
       "      <td>0.500 +/- 0.000</td>\n",
       "      <td>1.000 +/- 0.000</td>\n",
       "      <td>1.000 +/- 0.000</td>\n",
       "    </tr>\n",
       "    <tr>\n",
       "      <th>6</th>\n",
       "      <td>nell_finances-&gt;nell_sports(teamplayssport)</td>\n",
       "      <td>0.871 +/- 0.062</td>\n",
       "      <td>0.865 +/- 0.078</td>\n",
       "      <td>0.873 +/- 0.067</td>\n",
       "    </tr>\n",
       "  </tbody>\n",
       "</table>\n",
       "</div>"
      ],
      "text/plain": [
       "                                          Experiment Transfer Learning  \\\n",
       "0                             imdb->uwcse(advisedby)   0.820 +/- 0.056   \n",
       "1                           uwcse->imdb(workedunder)   1.000 +/- 0.000   \n",
       "2                              imdb->cora(samevenue)   0.524 +/- 0.019   \n",
       "3                            yeast->twitter(follows)   0.630 +/- 0.060   \n",
       "4                        twitter->yeast(interaction)   0.577 +/- 0.044   \n",
       "5  nell_sports->nell_finances(companyeconomicsector)   0.500 +/- 0.000   \n",
       "6         nell_finances->nell_sports(teamplayssport)   0.871 +/- 0.062   \n",
       "\n",
       "  Transfer Learning with Revision Theory Learning from scratch  \n",
       "0                        0.833 +/- 0.107       0.829 +/- 0.116  \n",
       "1                        0.893 +/- 0.119       0.866 +/- 0.078  \n",
       "2                        0.524 +/- 0.019       0.524 +/- 0.019  \n",
       "3                        0.640 +/- 0.080       0.603 +/- 0.010  \n",
       "4                        0.626 +/- 0.050       0.632 +/- 0.011  \n",
       "5                        1.000 +/- 0.000       1.000 +/- 0.000  \n",
       "6                        0.865 +/- 0.078       0.873 +/- 0.067  "
      ]
     },
     "metadata": {},
     "output_type": "display_data"
    },
    {
     "data": {
      "text/markdown": [
       "# Results for CLL"
      ],
      "text/plain": [
       "<IPython.core.display.Markdown object>"
      ]
     },
     "metadata": {},
     "output_type": "display_data"
    },
    {
     "data": {
      "text/html": [
       "<div>\n",
       "<table border=\"1\" class=\"dataframe\">\n",
       "  <thead>\n",
       "    <tr style=\"text-align: right;\">\n",
       "      <th></th>\n",
       "      <th>Experiment</th>\n",
       "      <th>Transfer Learning</th>\n",
       "      <th>Transfer Learning with Revision Theory</th>\n",
       "      <th>Learning from scratch</th>\n",
       "    </tr>\n",
       "  </thead>\n",
       "  <tbody>\n",
       "    <tr>\n",
       "      <th>0</th>\n",
       "      <td>imdb-&gt;uwcse(advisedby)</td>\n",
       "      <td>-0.331 +/- 0.033</td>\n",
       "      <td>-0.354 +/- 0.066</td>\n",
       "      <td>-0.367 +/- 0.056</td>\n",
       "    </tr>\n",
       "    <tr>\n",
       "      <th>1</th>\n",
       "      <td>uwcse-&gt;imdb(workedunder)</td>\n",
       "      <td>-0.117 +/- 0.019</td>\n",
       "      <td>-0.236 +/- 0.062</td>\n",
       "      <td>-0.244 +/- 0.058</td>\n",
       "    </tr>\n",
       "    <tr>\n",
       "      <th>2</th>\n",
       "      <td>imdb-&gt;cora(samevenue)</td>\n",
       "      <td>-1.096 +/- 0.035</td>\n",
       "      <td>-1.096 +/- 0.035</td>\n",
       "      <td>-1.096 +/- 0.035</td>\n",
       "    </tr>\n",
       "    <tr>\n",
       "      <th>3</th>\n",
       "      <td>yeast-&gt;twitter(follows)</td>\n",
       "      <td>-0.653 +/- 0.009</td>\n",
       "      <td>-0.638 +/- 0.035</td>\n",
       "      <td>-0.652 +/- 0.014</td>\n",
       "    </tr>\n",
       "    <tr>\n",
       "      <th>4</th>\n",
       "      <td>twitter-&gt;yeast(interaction)</td>\n",
       "      <td>-0.682 +/- 0.021</td>\n",
       "      <td>-0.676 +/- 0.023</td>\n",
       "      <td>-0.676 +/- 0.008</td>\n",
       "    </tr>\n",
       "    <tr>\n",
       "      <th>5</th>\n",
       "      <td>nell_sports-&gt;nell_finances(companyeconomicsector)</td>\n",
       "      <td>-0.695 +/- 0.000</td>\n",
       "      <td>-0.274 +/- 0.058</td>\n",
       "      <td>-0.095 +/- 0.000</td>\n",
       "    </tr>\n",
       "    <tr>\n",
       "      <th>6</th>\n",
       "      <td>nell_finances-&gt;nell_sports(teamplayssport)</td>\n",
       "      <td>-0.395 +/- 0.043</td>\n",
       "      <td>-0.401 +/- 0.037</td>\n",
       "      <td>-0.396 +/- 0.044</td>\n",
       "    </tr>\n",
       "  </tbody>\n",
       "</table>\n",
       "</div>"
      ],
      "text/plain": [
       "                                          Experiment Transfer Learning  \\\n",
       "0                             imdb->uwcse(advisedby)  -0.331 +/- 0.033   \n",
       "1                           uwcse->imdb(workedunder)  -0.117 +/- 0.019   \n",
       "2                              imdb->cora(samevenue)  -1.096 +/- 0.035   \n",
       "3                            yeast->twitter(follows)  -0.653 +/- 0.009   \n",
       "4                        twitter->yeast(interaction)  -0.682 +/- 0.021   \n",
       "5  nell_sports->nell_finances(companyeconomicsector)  -0.695 +/- 0.000   \n",
       "6         nell_finances->nell_sports(teamplayssport)  -0.395 +/- 0.043   \n",
       "\n",
       "  Transfer Learning with Revision Theory Learning from scratch  \n",
       "0                       -0.354 +/- 0.066      -0.367 +/- 0.056  \n",
       "1                       -0.236 +/- 0.062      -0.244 +/- 0.058  \n",
       "2                       -1.096 +/- 0.035      -1.096 +/- 0.035  \n",
       "3                       -0.638 +/- 0.035      -0.652 +/- 0.014  \n",
       "4                       -0.676 +/- 0.023      -0.676 +/- 0.008  \n",
       "5                       -0.274 +/- 0.058      -0.095 +/- 0.000  \n",
       "6                       -0.401 +/- 0.037      -0.396 +/- 0.044  "
      ]
     },
     "metadata": {},
     "output_type": "display_data"
    },
    {
     "data": {
      "text/markdown": [
       "# Results for Recall"
      ],
      "text/plain": [
       "<IPython.core.display.Markdown object>"
      ]
     },
     "metadata": {},
     "output_type": "display_data"
    },
    {
     "data": {
      "text/html": [
       "<div>\n",
       "<table border=\"1\" class=\"dataframe\">\n",
       "  <thead>\n",
       "    <tr style=\"text-align: right;\">\n",
       "      <th></th>\n",
       "      <th>Experiment</th>\n",
       "      <th>Transfer Learning</th>\n",
       "      <th>Transfer Learning with Revision Theory</th>\n",
       "      <th>Learning from scratch</th>\n",
       "    </tr>\n",
       "  </thead>\n",
       "  <tbody>\n",
       "    <tr>\n",
       "      <th>0</th>\n",
       "      <td>imdb-&gt;uwcse(advisedby)</td>\n",
       "      <td>1.000 +/- 0.000</td>\n",
       "      <td>1.000 +/- 0.000</td>\n",
       "      <td>0.915 +/- 0.338</td>\n",
       "    </tr>\n",
       "    <tr>\n",
       "      <th>1</th>\n",
       "      <td>uwcse-&gt;imdb(workedunder)</td>\n",
       "      <td>1.000 +/- 0.000</td>\n",
       "      <td>1.000 +/- 0.000</td>\n",
       "      <td>1.000 +/- 0.000</td>\n",
       "    </tr>\n",
       "    <tr>\n",
       "      <th>2</th>\n",
       "      <td>imdb-&gt;cora(samevenue)</td>\n",
       "      <td>0.000 +/- 0.000</td>\n",
       "      <td>0.000 +/- 0.000</td>\n",
       "      <td>0.000 +/- 0.000</td>\n",
       "    </tr>\n",
       "    <tr>\n",
       "      <th>3</th>\n",
       "      <td>yeast-&gt;twitter(follows)</td>\n",
       "      <td>0.648 +/- 0.095</td>\n",
       "      <td>0.663 +/- 0.303</td>\n",
       "      <td>0.811 +/- 0.081</td>\n",
       "    </tr>\n",
       "    <tr>\n",
       "      <th>4</th>\n",
       "      <td>twitter-&gt;yeast(interaction)</td>\n",
       "      <td>0.480 +/- 0.472</td>\n",
       "      <td>0.435 +/- 0.177</td>\n",
       "      <td>0.362 +/- 0.103</td>\n",
       "    </tr>\n",
       "    <tr>\n",
       "      <th>5</th>\n",
       "      <td>nell_sports-&gt;nell_finances(companyeconomicsector)</td>\n",
       "      <td>0.000 +/- 0.000</td>\n",
       "      <td>0.999 +/- 0.003</td>\n",
       "      <td>1.000 +/- 0.000</td>\n",
       "    </tr>\n",
       "    <tr>\n",
       "      <th>6</th>\n",
       "      <td>nell_finances-&gt;nell_sports(teamplayssport)</td>\n",
       "      <td>0.933 +/- 0.031</td>\n",
       "      <td>0.938 +/- 0.035</td>\n",
       "      <td>0.940 +/- 0.027</td>\n",
       "    </tr>\n",
       "  </tbody>\n",
       "</table>\n",
       "</div>"
      ],
      "text/plain": [
       "                                          Experiment Transfer Learning  \\\n",
       "0                             imdb->uwcse(advisedby)   1.000 +/- 0.000   \n",
       "1                           uwcse->imdb(workedunder)   1.000 +/- 0.000   \n",
       "2                              imdb->cora(samevenue)   0.000 +/- 0.000   \n",
       "3                            yeast->twitter(follows)   0.648 +/- 0.095   \n",
       "4                        twitter->yeast(interaction)   0.480 +/- 0.472   \n",
       "5  nell_sports->nell_finances(companyeconomicsector)   0.000 +/- 0.000   \n",
       "6         nell_finances->nell_sports(teamplayssport)   0.933 +/- 0.031   \n",
       "\n",
       "  Transfer Learning with Revision Theory Learning from scratch  \n",
       "0                        1.000 +/- 0.000       0.915 +/- 0.338  \n",
       "1                        1.000 +/- 0.000       1.000 +/- 0.000  \n",
       "2                        0.000 +/- 0.000       0.000 +/- 0.000  \n",
       "3                        0.663 +/- 0.303       0.811 +/- 0.081  \n",
       "4                        0.435 +/- 0.177       0.362 +/- 0.103  \n",
       "5                        0.999 +/- 0.003       1.000 +/- 0.000  \n",
       "6                        0.938 +/- 0.035       0.940 +/- 0.027  "
      ]
     },
     "metadata": {},
     "output_type": "display_data"
    },
    {
     "data": {
      "text/markdown": [
       "# Results for F1"
      ],
      "text/plain": [
       "<IPython.core.display.Markdown object>"
      ]
     },
     "metadata": {},
     "output_type": "display_data"
    },
    {
     "data": {
      "text/html": [
       "<div>\n",
       "<table border=\"1\" class=\"dataframe\">\n",
       "  <thead>\n",
       "    <tr style=\"text-align: right;\">\n",
       "      <th></th>\n",
       "      <th>Experiment</th>\n",
       "      <th>Transfer Learning</th>\n",
       "      <th>Transfer Learning with Revision Theory</th>\n",
       "      <th>Learning from scratch</th>\n",
       "    </tr>\n",
       "  </thead>\n",
       "  <tbody>\n",
       "    <tr>\n",
       "      <th>0</th>\n",
       "      <td>imdb-&gt;uwcse(advisedby)</td>\n",
       "      <td>0.901 +/- 0.033</td>\n",
       "      <td>0.893 +/- 0.047</td>\n",
       "      <td>0.844 +/- 0.143</td>\n",
       "    </tr>\n",
       "    <tr>\n",
       "      <th>1</th>\n",
       "      <td>uwcse-&gt;imdb(workedunder)</td>\n",
       "      <td>1.000 +/- 0.000</td>\n",
       "      <td>0.941 +/- 0.037</td>\n",
       "      <td>0.936 +/- 0.035</td>\n",
       "    </tr>\n",
       "    <tr>\n",
       "      <th>2</th>\n",
       "      <td>imdb-&gt;cora(samevenue)</td>\n",
       "      <td>nan +/- nan</td>\n",
       "      <td>nan +/- nan</td>\n",
       "      <td>nan +/- nan</td>\n",
       "    </tr>\n",
       "    <tr>\n",
       "      <th>3</th>\n",
       "      <td>yeast-&gt;twitter(follows)</td>\n",
       "      <td>0.639 +/- 0.035</td>\n",
       "      <td>0.651 +/- 0.086</td>\n",
       "      <td>0.692 +/- 0.021</td>\n",
       "    </tr>\n",
       "    <tr>\n",
       "      <th>4</th>\n",
       "      <td>twitter-&gt;yeast(interaction)</td>\n",
       "      <td>0.488 +/- 0.411</td>\n",
       "      <td>0.505 +/- 0.137</td>\n",
       "      <td>0.457 +/- 0.085</td>\n",
       "    </tr>\n",
       "    <tr>\n",
       "      <th>5</th>\n",
       "      <td>nell_sports-&gt;nell_finances(companyeconomicsector)</td>\n",
       "      <td>nan +/- nan</td>\n",
       "      <td>1.000 +/- 0.001</td>\n",
       "      <td>1.000 +/- 0.000</td>\n",
       "    </tr>\n",
       "    <tr>\n",
       "      <th>6</th>\n",
       "      <td>nell_finances-&gt;nell_sports(teamplayssport)</td>\n",
       "      <td>0.854 +/- 0.029</td>\n",
       "      <td>0.853 +/- 0.026</td>\n",
       "      <td>0.855 +/- 0.030</td>\n",
       "    </tr>\n",
       "  </tbody>\n",
       "</table>\n",
       "</div>"
      ],
      "text/plain": [
       "                                          Experiment Transfer Learning  \\\n",
       "0                             imdb->uwcse(advisedby)   0.901 +/- 0.033   \n",
       "1                           uwcse->imdb(workedunder)   1.000 +/- 0.000   \n",
       "2                              imdb->cora(samevenue)       nan +/- nan   \n",
       "3                            yeast->twitter(follows)   0.639 +/- 0.035   \n",
       "4                        twitter->yeast(interaction)   0.488 +/- 0.411   \n",
       "5  nell_sports->nell_finances(companyeconomicsector)       nan +/- nan   \n",
       "6         nell_finances->nell_sports(teamplayssport)   0.854 +/- 0.029   \n",
       "\n",
       "  Transfer Learning with Revision Theory Learning from scratch  \n",
       "0                        0.893 +/- 0.047       0.844 +/- 0.143  \n",
       "1                        0.941 +/- 0.037       0.936 +/- 0.035  \n",
       "2                            nan +/- nan           nan +/- nan  \n",
       "3                        0.651 +/- 0.086       0.692 +/- 0.021  \n",
       "4                        0.505 +/- 0.137       0.457 +/- 0.085  \n",
       "5                        1.000 +/- 0.001       1.000 +/- 0.000  \n",
       "6                        0.853 +/- 0.026       0.855 +/- 0.030  "
      ]
     },
     "metadata": {},
     "output_type": "display_data"
    },
    {
     "data": {
      "text/markdown": [
       "# Results for Precision"
      ],
      "text/plain": [
       "<IPython.core.display.Markdown object>"
      ]
     },
     "metadata": {},
     "output_type": "display_data"
    },
    {
     "data": {
      "text/html": [
       "<div>\n",
       "<table border=\"1\" class=\"dataframe\">\n",
       "  <thead>\n",
       "    <tr style=\"text-align: right;\">\n",
       "      <th></th>\n",
       "      <th>Experiment</th>\n",
       "      <th>Transfer Learning</th>\n",
       "      <th>Transfer Learning with Revision Theory</th>\n",
       "      <th>Learning from scratch</th>\n",
       "    </tr>\n",
       "  </thead>\n",
       "  <tbody>\n",
       "    <tr>\n",
       "      <th>0</th>\n",
       "      <td>imdb-&gt;uwcse(advisedby)</td>\n",
       "      <td>0.820 +/- 0.056</td>\n",
       "      <td>0.808 +/- 0.077</td>\n",
       "      <td>0.808 +/- 0.100</td>\n",
       "    </tr>\n",
       "    <tr>\n",
       "      <th>1</th>\n",
       "      <td>uwcse-&gt;imdb(workedunder)</td>\n",
       "      <td>1.000 +/- 0.000</td>\n",
       "      <td>0.889 +/- 0.066</td>\n",
       "      <td>0.881 +/- 0.064</td>\n",
       "    </tr>\n",
       "    <tr>\n",
       "      <th>2</th>\n",
       "      <td>imdb-&gt;cora(samevenue)</td>\n",
       "      <td>nan +/- nan</td>\n",
       "      <td>nan +/- nan</td>\n",
       "      <td>nan +/- nan</td>\n",
       "    </tr>\n",
       "    <tr>\n",
       "      <th>3</th>\n",
       "      <td>yeast-&gt;twitter(follows)</td>\n",
       "      <td>0.634 +/- 0.056</td>\n",
       "      <td>0.677 +/- 0.146</td>\n",
       "      <td>0.604 +/- 0.013</td>\n",
       "    </tr>\n",
       "    <tr>\n",
       "      <th>4</th>\n",
       "      <td>twitter-&gt;yeast(interaction)</td>\n",
       "      <td>0.692 +/- 0.335</td>\n",
       "      <td>0.618 +/- 0.069</td>\n",
       "      <td>0.629 +/- 0.023</td>\n",
       "    </tr>\n",
       "    <tr>\n",
       "      <th>5</th>\n",
       "      <td>nell_sports-&gt;nell_finances(companyeconomicsector)</td>\n",
       "      <td>nan +/- nan</td>\n",
       "      <td>1.000 +/- 0.000</td>\n",
       "      <td>1.000 +/- 0.000</td>\n",
       "    </tr>\n",
       "    <tr>\n",
       "      <th>6</th>\n",
       "      <td>nell_finances-&gt;nell_sports(teamplayssport)</td>\n",
       "      <td>0.789 +/- 0.035</td>\n",
       "      <td>0.783 +/- 0.032</td>\n",
       "      <td>0.784 +/- 0.040</td>\n",
       "    </tr>\n",
       "  </tbody>\n",
       "</table>\n",
       "</div>"
      ],
      "text/plain": [
       "                                          Experiment Transfer Learning  \\\n",
       "0                             imdb->uwcse(advisedby)   0.820 +/- 0.056   \n",
       "1                           uwcse->imdb(workedunder)   1.000 +/- 0.000   \n",
       "2                              imdb->cora(samevenue)       nan +/- nan   \n",
       "3                            yeast->twitter(follows)   0.634 +/- 0.056   \n",
       "4                        twitter->yeast(interaction)   0.692 +/- 0.335   \n",
       "5  nell_sports->nell_finances(companyeconomicsector)       nan +/- nan   \n",
       "6         nell_finances->nell_sports(teamplayssport)   0.789 +/- 0.035   \n",
       "\n",
       "  Transfer Learning with Revision Theory Learning from scratch  \n",
       "0                        0.808 +/- 0.077       0.808 +/- 0.100  \n",
       "1                        0.889 +/- 0.066       0.881 +/- 0.064  \n",
       "2                            nan +/- nan           nan +/- nan  \n",
       "3                        0.677 +/- 0.146       0.604 +/- 0.013  \n",
       "4                        0.618 +/- 0.069       0.629 +/- 0.023  \n",
       "5                        1.000 +/- 0.000       1.000 +/- 0.000  \n",
       "6                        0.783 +/- 0.032       0.784 +/- 0.040  "
      ]
     },
     "metadata": {},
     "output_type": "display_data"
    },
    {
     "data": {
      "text/markdown": [
       "# Results for Learning and Revision time"
      ],
      "text/plain": [
       "<IPython.core.display.Markdown object>"
      ]
     },
     "metadata": {},
     "output_type": "display_data"
    },
    {
     "data": {
      "text/html": [
       "<div>\n",
       "<table border=\"1\" class=\"dataframe\">\n",
       "  <thead>\n",
       "    <tr style=\"text-align: right;\">\n",
       "      <th></th>\n",
       "      <th>Experiment</th>\n",
       "      <th>Transfer Learning</th>\n",
       "      <th>Transfer Learning with Revision Theory</th>\n",
       "      <th>Learning from scratch</th>\n",
       "    </tr>\n",
       "  </thead>\n",
       "  <tbody>\n",
       "    <tr>\n",
       "      <th>0</th>\n",
       "      <td>imdb-&gt;uwcse(advisedby)</td>\n",
       "      <td>1.160 +/- 0.386</td>\n",
       "      <td>2.517 +/- 0.854</td>\n",
       "      <td>1.692 +/- 0.922</td>\n",
       "    </tr>\n",
       "    <tr>\n",
       "      <th>1</th>\n",
       "      <td>uwcse-&gt;imdb(workedunder)</td>\n",
       "      <td>1.321 +/- 0.715</td>\n",
       "      <td>2.765 +/- 1.563</td>\n",
       "      <td>1.291 +/- 0.785</td>\n",
       "    </tr>\n",
       "    <tr>\n",
       "      <th>2</th>\n",
       "      <td>imdb-&gt;cora(samevenue)</td>\n",
       "      <td>1.713 +/- 0.487</td>\n",
       "      <td>3.460 +/- 0.804</td>\n",
       "      <td>1.747 +/- 0.308</td>\n",
       "    </tr>\n",
       "    <tr>\n",
       "      <th>3</th>\n",
       "      <td>yeast-&gt;twitter(follows)</td>\n",
       "      <td>3.961 +/- 0.591</td>\n",
       "      <td>9.732 +/- 0.859</td>\n",
       "      <td>6.011 +/- 0.484</td>\n",
       "    </tr>\n",
       "    <tr>\n",
       "      <th>4</th>\n",
       "      <td>twitter-&gt;yeast(interaction)</td>\n",
       "      <td>6.011 +/- 4.414</td>\n",
       "      <td>14.649 +/- 9.800</td>\n",
       "      <td>8.888 +/- 4.642</td>\n",
       "    </tr>\n",
       "    <tr>\n",
       "      <th>5</th>\n",
       "      <td>nell_sports-&gt;nell_finances(companyeconomicsector)</td>\n",
       "      <td>4.329 +/- 0.704</td>\n",
       "      <td>10.830 +/- 2.121</td>\n",
       "      <td>2.655 +/- 0.611</td>\n",
       "    </tr>\n",
       "    <tr>\n",
       "      <th>6</th>\n",
       "      <td>nell_finances-&gt;nell_sports(teamplayssport)</td>\n",
       "      <td>33.579 +/- 4.946</td>\n",
       "      <td>60.035 +/- 10.235</td>\n",
       "      <td>34.260 +/- 3.541</td>\n",
       "    </tr>\n",
       "  </tbody>\n",
       "</table>\n",
       "</div>"
      ],
      "text/plain": [
       "                                          Experiment Transfer Learning  \\\n",
       "0                             imdb->uwcse(advisedby)   1.160 +/- 0.386   \n",
       "1                           uwcse->imdb(workedunder)   1.321 +/- 0.715   \n",
       "2                              imdb->cora(samevenue)   1.713 +/- 0.487   \n",
       "3                            yeast->twitter(follows)   3.961 +/- 0.591   \n",
       "4                        twitter->yeast(interaction)   6.011 +/- 4.414   \n",
       "5  nell_sports->nell_finances(companyeconomicsector)   4.329 +/- 0.704   \n",
       "6         nell_finances->nell_sports(teamplayssport)  33.579 +/- 4.946   \n",
       "\n",
       "  Transfer Learning with Revision Theory Learning from scratch  \n",
       "0                        2.517 +/- 0.854       1.692 +/- 0.922  \n",
       "1                        2.765 +/- 1.563       1.291 +/- 0.785  \n",
       "2                        3.460 +/- 0.804       1.747 +/- 0.308  \n",
       "3                        9.732 +/- 0.859       6.011 +/- 0.484  \n",
       "4                       14.649 +/- 9.800       8.888 +/- 4.642  \n",
       "5                       10.830 +/- 2.121       2.655 +/- 0.611  \n",
       "6                      60.035 +/- 10.235      34.260 +/- 3.541  "
      ]
     },
     "metadata": {},
     "output_type": "display_data"
    },
    {
     "data": {
      "text/markdown": [
       "# Results for Inference time"
      ],
      "text/plain": [
       "<IPython.core.display.Markdown object>"
      ]
     },
     "metadata": {},
     "output_type": "display_data"
    },
    {
     "data": {
      "text/html": [
       "<div>\n",
       "<table border=\"1\" class=\"dataframe\">\n",
       "  <thead>\n",
       "    <tr style=\"text-align: right;\">\n",
       "      <th></th>\n",
       "      <th>Experiment</th>\n",
       "      <th>Transfer Learning</th>\n",
       "      <th>Transfer Learning with Revision Theory</th>\n",
       "      <th>Learning from scratch</th>\n",
       "    </tr>\n",
       "  </thead>\n",
       "  <tbody>\n",
       "    <tr>\n",
       "      <th>0</th>\n",
       "      <td>imdb-&gt;uwcse(advisedby)</td>\n",
       "      <td>1.160 +/- 0.386</td>\n",
       "      <td>0.666 +/- 0.162</td>\n",
       "      <td>0.771 +/- 0.419</td>\n",
       "    </tr>\n",
       "    <tr>\n",
       "      <th>1</th>\n",
       "      <td>uwcse-&gt;imdb(workedunder)</td>\n",
       "      <td>1.321 +/- 0.715</td>\n",
       "      <td>0.836 +/- 0.118</td>\n",
       "      <td>0.750 +/- 0.127</td>\n",
       "    </tr>\n",
       "    <tr>\n",
       "      <th>2</th>\n",
       "      <td>imdb-&gt;cora(samevenue)</td>\n",
       "      <td>1.713 +/- 0.487</td>\n",
       "      <td>1.477 +/- 0.114</td>\n",
       "      <td>1.466 +/- 0.184</td>\n",
       "    </tr>\n",
       "    <tr>\n",
       "      <th>3</th>\n",
       "      <td>yeast-&gt;twitter(follows)</td>\n",
       "      <td>3.961 +/- 0.591</td>\n",
       "      <td>1.305 +/- 0.158</td>\n",
       "      <td>1.184 +/- 0.263</td>\n",
       "    </tr>\n",
       "    <tr>\n",
       "      <th>4</th>\n",
       "      <td>twitter-&gt;yeast(interaction)</td>\n",
       "      <td>6.011 +/- 4.414</td>\n",
       "      <td>2.441 +/- 0.334</td>\n",
       "      <td>2.517 +/- 0.451</td>\n",
       "    </tr>\n",
       "    <tr>\n",
       "      <th>5</th>\n",
       "      <td>nell_sports-&gt;nell_finances(companyeconomicsector)</td>\n",
       "      <td>4.329 +/- 0.704</td>\n",
       "      <td>2.011 +/- 0.569</td>\n",
       "      <td>1.036 +/- 0.161</td>\n",
       "    </tr>\n",
       "    <tr>\n",
       "      <th>6</th>\n",
       "      <td>nell_finances-&gt;nell_sports(teamplayssport)</td>\n",
       "      <td>33.579 +/- 4.946</td>\n",
       "      <td>3.200 +/- 0.364</td>\n",
       "      <td>2.986 +/- 0.451</td>\n",
       "    </tr>\n",
       "  </tbody>\n",
       "</table>\n",
       "</div>"
      ],
      "text/plain": [
       "                                          Experiment Transfer Learning  \\\n",
       "0                             imdb->uwcse(advisedby)   1.160 +/- 0.386   \n",
       "1                           uwcse->imdb(workedunder)   1.321 +/- 0.715   \n",
       "2                              imdb->cora(samevenue)   1.713 +/- 0.487   \n",
       "3                            yeast->twitter(follows)   3.961 +/- 0.591   \n",
       "4                        twitter->yeast(interaction)   6.011 +/- 4.414   \n",
       "5  nell_sports->nell_finances(companyeconomicsector)   4.329 +/- 0.704   \n",
       "6         nell_finances->nell_sports(teamplayssport)  33.579 +/- 4.946   \n",
       "\n",
       "  Transfer Learning with Revision Theory Learning from scratch  \n",
       "0                        0.666 +/- 0.162       0.771 +/- 0.419  \n",
       "1                        0.836 +/- 0.118       0.750 +/- 0.127  \n",
       "2                        1.477 +/- 0.114       1.466 +/- 0.184  \n",
       "3                        1.305 +/- 0.158       1.184 +/- 0.263  \n",
       "4                        2.441 +/- 0.334       2.517 +/- 0.451  \n",
       "5                        2.011 +/- 0.569       1.036 +/- 0.161  \n",
       "6                        3.200 +/- 0.364       2.986 +/- 0.451  "
      ]
     },
     "metadata": {},
     "output_type": "display_data"
    }
   ],
   "source": [
    "experiments = [\n",
    "            {'source':'imdb', 'target':'uwcse', 'predicate':'workedunder', 'to_predicate':'advisedby'},\n",
    "            {'source':'uwcse', 'target':'imdb', 'predicate':'advisedby', 'to_predicate':'workedunder'},\n",
    "            {'source':'imdb', 'target':'cora', 'predicate':'workedunder', 'to_predicate':'samevenue'},\n",
    "            {'source':'cora', 'target':'imdb', 'predicate':'samevenue', 'to_predicate':'workedunder'},\n",
    "            {'source':'yeast', 'target':'twitter', 'predicate':'interaction', 'to_predicate':'follows'},\n",
    "            {'source':'twitter', 'target':'yeast', 'predicate':'follows', 'to_predicate':'interaction'},\n",
    "            {'source':'nell_sports', 'target':'nell_finances', 'predicate':'teamplayssport', 'to_predicate':'companyeconomicsector'},\n",
    "            {'source':'nell_finances', 'target':'nell_sports', 'predicate':'companyeconomicsector', 'to_predicate':'teamplayssport'},\n",
    "            #{'source':'yeast', 'target':'webkb', 'predicate':'proteinclass'},\n",
    "            #{'source':'webkb', 'target':'yeast', 'predicate':'departmentof'},\n",
    "            #{'source':'twitter', 'target':'webkb', 'predicate':'accounttype'},\n",
    "            #{'source':'webkb', 'target':'twitter', 'predicate':'pageclass'},\n",
    "            {'source':'imdb', 'target':'yago2s', 'predicate':'workedunder', 'to_predicate':'ismarriedto'},\n",
    "            {'source':'imdb', 'target':'yago2s', 'predicate':'workedunder', 'to_predicate':'hasacademicadvisor'},\n",
    "            {'source':'imdb', 'target':'yago2s', 'predicate':'workedunder', 'to_predicate':'haschild'},\n",
    "            #{'source':'imdb', 'target':'yago2s', 'predicate':'workedunder', 'to_predicate':'influences'},\n",
    "            #{'source':'imdb', 'target':'yago2s', 'predicate':'workedunder', 'to_predicate':'wrotemusicfor'},\n",
    "            ]\n",
    "\n",
    "for metric in ['AUC ROC', 'AUC PR', 'CLL', 'Recall', 'F1', 'Precision', 'Learning and Revision time', 'Inference time']:\n",
    "    display(Markdown('# Results for ' + metric))\n",
    "    table = []\n",
    "    for j in range(len(experiments)):\n",
    "        dataset = experiments[j]['source'] + '->' + experiments[j]['target'] + '(' + experiments[j]['to_predicate'] + ')'\n",
    "        if dataset in data['results']: \n",
    "            #for metric in ['AUC ROC', 'AUC PR']:\n",
    "                #display(Markdown('## ' + metric))\n",
    "            if metric == 'Precision':\n",
    "                scratch = np.array([item['scratch']['Precision'][0] for sublist in data['results'][str(dataset)] for item in sublist])\n",
    "                parameter = np.array([item['transfer']['Parameter Learning results']['Precision'][0] for sublist in data['results'][str(dataset)] for item in sublist])\n",
    "                transfer = np.array([item['transfer']['Precision'][0] for sublist in data['results'][str(dataset)] for item in sublist])\n",
    "            elif metric == 'Learning and Revision time':\n",
    "                scratch = np.array([item['scratch']['Learning time'] for sublist in data['results'][str(dataset)] for item in sublist])\n",
    "                parameter = np.array([item['transfer']['Parameter Learning results']['Learning time'] for sublist in data['results'][str(dataset)] for item in sublist])\n",
    "                transfer = np.array([item['transfer']['Learning time'] for sublist in data['results'][str(dataset)] for item in sublist])\n",
    "            elif metric == 'Inference time':\n",
    "                scratch = np.array([item['scratch']['Inference time'] for sublist in data['results'][str(dataset)] for item in sublist])\n",
    "                parameter = np.array([item['transfer']['Parameter Learning results']['Learning time'] for sublist in data['results'][str(dataset)] for item in sublist])\n",
    "                transfer = np.array([item['transfer']['Inference time'] for sublist in data['results'][str(dataset)] for item in sublist])\n",
    "            else:\n",
    "                scratch = np.array([item['scratch'][metric] for sublist in data['results'][str(dataset)] for item in sublist])\n",
    "                parameter = np.array([item['transfer']['Parameter Learning results'][metric] for sublist in data['results'][str(dataset)] for item in sublist])\n",
    "                transfer = np.array([item['transfer'][metric] for sublist in data['results'][str(dataset)] for item in sublist])\n",
    "            table.append([dataset, '%.3f +/- %.3f' % (parameter.mean(), 2 * parameter.std()),\n",
    "            '%.3f +/- %.3f' % (transfer.mean(), 2 * transfer.std()),\n",
    "            '%.3f +/- %.3f' % (scratch.mean(), 2 * scratch.std())])\n",
    "    display(pd.DataFrame(table, columns=['Experiment', 'Transfer Learning', 'Transfer Learning with Revision Theory', 'Learning from scratch']))"
   ]
  },
  {
   "cell_type": "code",
   "execution_count": 3,
   "metadata": {
    "collapsed": false
   },
   "outputs": [
    {
     "data": {
      "text/markdown": [
       "# Results for imdb->uwcse(advisedby)"
      ],
      "text/plain": [
       "<IPython.core.display.Markdown object>"
      ]
     },
     "metadata": {},
     "output_type": "display_data"
    },
    {
     "data": {
      "text/markdown": [
       "## AUC ROC"
      ],
      "text/plain": [
       "<IPython.core.display.Markdown object>"
      ]
     },
     "metadata": {},
     "output_type": "display_data"
    },
    {
     "name": "stdout",
     "output_type": "stream",
     "text": [
      "Scratch: [0.945348 0.844086 0.861779 0.848828 0.907695 0.945348 0.844086 0.861779\n",
      " 0.850547 0.90727  0.945348 0.844086 0.861779 0.850547 0.907695]\n",
      "Transfer: [0.923077 0.870968 0.884615 0.86875  0.902062 0.923077 0.870968 0.884615\n",
      " 0.86875  0.902062 0.923077 0.870968 0.884615 0.86875  0.902062]\n",
      "Transfer & Revision: [0.941404 0.844086 0.861779 0.850547 0.910564 0.941404 0.890334 0.861779\n",
      " 0.850547 0.92183  0.941404 0.844086 0.861779 0.850547 0.910564]\n"
     ]
    },
    {
     "data": {
      "text/markdown": [
       "## AUC PR"
      ],
      "text/plain": [
       "<IPython.core.display.Markdown object>"
      ]
     },
     "metadata": {},
     "output_type": "display_data"
    },
    {
     "name": "stdout",
     "output_type": "stream",
     "text": [
      "Scratch: [0.920572 0.76797  0.787725 0.787077 0.871088 0.920572 0.76797  0.787725\n",
      " 0.800341 0.870681 0.920572 0.76797  0.787725 0.800341 0.871088]\n",
      "Transfer: [0.866667 0.794872 0.8125   0.792079 0.836207 0.866667 0.794872 0.8125\n",
      " 0.792079 0.836207 0.866667 0.794872 0.8125   0.792079 0.836207]\n",
      "Transfer & Revision: [0.916863 0.76797  0.787725 0.800341 0.861693 0.916863 0.836178 0.787725\n",
      " 0.800341 0.878981 0.916863 0.76797  0.787725 0.800341 0.861693]\n"
     ]
    },
    {
     "data": {
      "text/markdown": [
       "## CLL"
      ],
      "text/plain": [
       "<IPython.core.display.Markdown object>"
      ]
     },
     "metadata": {},
     "output_type": "display_data"
    },
    {
     "name": "stdout",
     "output_type": "stream",
     "text": [
      "Scratch: [-0.347835 -0.412532 -0.371746 -0.37503  -0.32895  -0.347835 -0.412532\n",
      " -0.371746 -0.371309 -0.32963  -0.347835 -0.412532 -0.371746 -0.371309\n",
      " -0.328919]\n",
      "Transfer: [-0.305603 -0.352862 -0.323626 -0.346502 -0.329109 -0.305603 -0.349938\n",
      " -0.323626 -0.346502 -0.329109 -0.305603 -0.352862 -0.323626 -0.346502\n",
      " -0.329109]\n",
      "Transfer & Revision: [-0.318232 -0.412532 -0.371746 -0.371123 -0.319717 -0.318232 -0.346201\n",
      " -0.371746 -0.370657 -0.319063 -0.318208 -0.412532 -0.371746 -0.371309\n",
      " -0.319717]\n"
     ]
    },
    {
     "data": {
      "text/markdown": [
       "## Recall"
      ],
      "text/plain": [
       "<IPython.core.display.Markdown object>"
      ]
     },
     "metadata": {},
     "output_type": "display_data"
    },
    {
     "name": "stdout",
     "output_type": "stream",
     "text": [
      "Scratch: [0.576923 1.       1.       1.       1.       0.576923 1.       1.\n",
      " 1.       1.       0.576923 1.       1.       1.       1.      ]\n",
      "Transfer: [1. 1. 1. 1. 1. 1. 1. 1. 1. 1. 1. 1. 1. 1. 1.]\n",
      "Transfer & Revision: [1. 1. 1. 1. 1. 1. 1. 1. 1. 1. 1. 1. 1. 1. 1.]\n"
     ]
    },
    {
     "data": {
      "text/markdown": [
       "## F1"
      ],
      "text/plain": [
       "<IPython.core.display.Markdown object>"
      ]
     },
     "metadata": {},
     "output_type": "display_data"
    },
    {
     "name": "stdout",
     "output_type": "stream",
     "text": [
      "Scratch: [0.703125 0.861111 0.87395  0.883978 0.898148 0.703125 0.861111 0.87395\n",
      " 0.883978 0.898148 0.703125 0.861111 0.87395  0.883978 0.898148]\n",
      "Transfer: [0.928571 0.885714 0.896552 0.883978 0.910798 0.928571 0.885714 0.896552\n",
      " 0.883978 0.910798 0.928571 0.885714 0.896552 0.883978 0.910798]\n",
      "Transfer & Revision: [0.928571 0.861111 0.87395  0.883978 0.910798 0.928571 0.885714 0.87395\n",
      " 0.883978 0.910798 0.928571 0.861111 0.87395  0.883978 0.910798]\n"
     ]
    },
    {
     "data": {
      "text/markdown": [
       "## Precision"
      ],
      "text/plain": [
       "<IPython.core.display.Markdown object>"
      ]
     },
     "metadata": {},
     "output_type": "display_data"
    },
    {
     "name": "stdout",
     "output_type": "stream",
     "text": [
      "Scratch: [0.9      0.756098 0.776119 0.792079 0.815126 0.9      0.756098 0.776119\n",
      " 0.792079 0.815126 0.9      0.756098 0.776119 0.792079 0.815126]\n",
      "Transfer: [0.866667 0.794872 0.8125   0.792079 0.836207 0.866667 0.794872 0.8125\n",
      " 0.792079 0.836207 0.866667 0.794872 0.8125   0.792079 0.836207]\n",
      "Transfer & Revision: [0.866667 0.756098 0.776119 0.792079 0.836207 0.866667 0.794872 0.776119\n",
      " 0.792079 0.836207 0.866667 0.756098 0.776119 0.792079 0.836207]\n"
     ]
    },
    {
     "data": {
      "text/markdown": [
       "## Learning and Revision time"
      ],
      "text/plain": [
       "<IPython.core.display.Markdown object>"
      ]
     },
     "metadata": {},
     "output_type": "display_data"
    },
    {
     "name": "stdout",
     "output_type": "stream",
     "text": [
      "Scratch: [2.363 1.658 1.033 1.832 1.925 2.176 2.048 0.775 1.787 1.635 2.266 1.224\n",
      " 1.071 1.961 1.626]\n",
      "Transfer: [1.135 1.229 0.966 1.237 1.238 1.401 0.9   0.805 1.169 1.22  1.29  0.875\n",
      " 1.534 1.139 1.264]\n",
      "Transfer & Revision: [2.858 2.703 1.87  2.86  2.771 3.178 2.113 1.629 2.904 2.381 2.656 2.047\n",
      " 2.261 2.758 2.768]\n"
     ]
    },
    {
     "data": {
      "text/markdown": [
       "## Inference time"
      ],
      "text/plain": [
       "<IPython.core.display.Markdown object>"
      ]
     },
     "metadata": {},
     "output_type": "display_data"
    },
    {
     "name": "stdout",
     "output_type": "stream",
     "text": [
      "Scratch: [0.777 0.829 0.715 0.774 0.783 0.761 0.514 0.553 0.748 1.489 0.743 0.666\n",
      " 0.678 0.781 0.75 ]\n",
      "Transfer: [1.135 1.229 0.966 1.237 1.238 1.401 0.9   0.805 1.169 1.22  1.29  0.875\n",
      " 1.534 1.139 1.264]\n",
      "Transfer & Revision: [0.697 0.602 0.72  0.709 0.706 0.706 0.695 0.484 0.721 0.572 0.7   0.652\n",
      " 0.519 0.731 0.777]\n"
     ]
    },
    {
     "data": {
      "text/markdown": [
       "# Results for uwcse->imdb(workedunder)"
      ],
      "text/plain": [
       "<IPython.core.display.Markdown object>"
      ]
     },
     "metadata": {},
     "output_type": "display_data"
    },
    {
     "data": {
      "text/markdown": [
       "## AUC ROC"
      ],
      "text/plain": [
       "<IPython.core.display.Markdown object>"
      ]
     },
     "metadata": {},
     "output_type": "display_data"
    },
    {
     "name": "stdout",
     "output_type": "stream",
     "text": [
      "Scratch: [0.911335 0.911094 0.970588 0.915338 0.912287 0.911335 0.911094 0.970588\n",
      " 0.915338 0.912287 0.911335 0.911094 0.970588 0.915338 0.912287]\n",
      "Transfer: [1. 1. 1. 1. 1. 1. 1. 1. 1. 1. 1. 1. 1. 1. 1.]\n",
      "Transfer & Revision: [0.935884 0.936547 0.975658 0.962921 0.89992  0.935884 0.936547 0.975658\n",
      " 0.962921 0.89992  0.935884 0.936547 0.975658 0.962921 0.89992 ]\n"
     ]
    },
    {
     "data": {
      "text/markdown": [
       "## AUC PR"
      ],
      "text/plain": [
       "<IPython.core.display.Markdown object>"
      ]
     },
     "metadata": {},
     "output_type": "display_data"
    },
    {
     "name": "stdout",
     "output_type": "stream",
     "text": [
      "Scratch: [0.845406 0.84413  0.944444 0.85067  0.846729 0.845406 0.84413  0.944444\n",
      " 0.85067  0.846729 0.845406 0.84413  0.944444 0.85067  0.846729]\n",
      "Transfer: [1. 1. 1. 1. 1. 1. 1. 1. 1. 1. 1. 1. 1. 1. 1.]\n",
      "Transfer & Revision: [0.892804 0.893449 0.956206 0.938229 0.784541 0.892804 0.893449 0.956206\n",
      " 0.938229 0.784541 0.892804 0.893449 0.956206 0.938229 0.784541]\n"
     ]
    },
    {
     "data": {
      "text/markdown": [
       "## CLL"
      ],
      "text/plain": [
       "<IPython.core.display.Markdown object>"
      ]
     },
     "metadata": {},
     "output_type": "display_data"
    },
    {
     "name": "stdout",
     "output_type": "stream",
     "text": [
      "Scratch: [-0.260283 -0.259838 -0.186046 -0.253741 -0.260794 -0.260283 -0.259838\n",
      " -0.186046 -0.253737 -0.260794 -0.260283 -0.259643 -0.186046 -0.253733\n",
      " -0.260794]\n",
      "Transfer: [-0.120445 -0.120646 -0.100516 -0.117628 -0.109532 -0.125739 -0.126085\n",
      " -0.10373  -0.119467 -0.111192 -0.131618 -0.131901 -0.103018 -0.119763\n",
      " -0.111384]\n",
      "Transfer & Revision: [-0.257691 -0.259388 -0.182907 -0.216939 -0.261668 -0.257691 -0.259388\n",
      " -0.182982 -0.217252 -0.261668 -0.257691 -0.259388 -0.182991 -0.217368\n",
      " -0.261668]\n"
     ]
    },
    {
     "data": {
      "text/markdown": [
       "## Recall"
      ],
      "text/plain": [
       "<IPython.core.display.Markdown object>"
      ]
     },
     "metadata": {},
     "output_type": "display_data"
    },
    {
     "name": "stdout",
     "output_type": "stream",
     "text": [
      "Scratch: [1. 1. 1. 1. 1. 1. 1. 1. 1. 1. 1. 1. 1. 1. 1.]\n",
      "Transfer: [1. 1. 1. 1. 1. 1. 1. 1. 1. 1. 1. 1. 1. 1. 1.]\n",
      "Transfer & Revision: [1. 1. 1. 1. 1. 1. 1. 1. 1. 1. 1. 1. 1. 1. 1.]\n"
     ]
    },
    {
     "data": {
      "text/markdown": [
       "## F1"
      ],
      "text/plain": [
       "<IPython.core.display.Markdown object>"
      ]
     },
     "metadata": {},
     "output_type": "display_data"
    },
    {
     "name": "stdout",
     "output_type": "stream",
     "text": [
      "Scratch: [0.926136 0.927039 0.971429 0.929655 0.927098 0.926136 0.927039 0.971429\n",
      " 0.929655 0.927098 0.926136 0.927039 0.971429 0.929655 0.927098]\n",
      "Transfer: [1. 1. 1. 1. 1. 1. 1. 1. 1. 1. 1. 1. 1. 1. 1.]\n",
      "Transfer & Revision: [0.926136 0.927039 0.971429 0.953324 0.927098 0.926136 0.927039 0.971429\n",
      " 0.953324 0.927098 0.926136 0.927039 0.971429 0.953324 0.927098]\n"
     ]
    },
    {
     "data": {
      "text/markdown": [
       "## Precision"
      ],
      "text/plain": [
       "<IPython.core.display.Markdown object>"
      ]
     },
     "metadata": {},
     "output_type": "display_data"
    },
    {
     "name": "stdout",
     "output_type": "stream",
     "text": [
      "Scratch: [0.862434 0.864    0.944444 0.868557 0.864103 0.862434 0.864    0.944444\n",
      " 0.868557 0.864103 0.862434 0.864    0.944444 0.868557 0.864103]\n",
      "Transfer: [1. 1. 1. 1. 1. 1. 1. 1. 1. 1. 1. 1. 1. 1. 1.]\n",
      "Transfer & Revision: [0.862434 0.864    0.944444 0.910811 0.864103 0.862434 0.864    0.944444\n",
      " 0.910811 0.864103 0.862434 0.864    0.944444 0.910811 0.864103]\n"
     ]
    },
    {
     "data": {
      "text/markdown": [
       "## Learning and Revision time"
      ],
      "text/plain": [
       "<IPython.core.display.Markdown object>"
      ]
     },
     "metadata": {},
     "output_type": "display_data"
    },
    {
     "name": "stdout",
     "output_type": "stream",
     "text": [
      "Scratch: [1.232 1.23  1.861 1.151 1.036 1.195 1.199 2.262 1.159 1.021 1.174 0.907\n",
      " 1.979 0.896 1.06 ]\n",
      "Transfer: [1.207 1.065 1.783 1.126 1.082 1.185 1.169 2.091 1.084 1.107 1.166 1.246\n",
      " 2.166 1.196 1.138]\n",
      "Transfer & Revision: [2.833 2.317 3.878 2.297 2.289 2.467 2.497 4.559 2.228 2.105 2.375 2.552\n",
      " 4.381 2.29  2.4  ]\n"
     ]
    },
    {
     "data": {
      "text/markdown": [
       "## Inference time"
      ],
      "text/plain": [
       "<IPython.core.display.Markdown object>"
      ]
     },
     "metadata": {},
     "output_type": "display_data"
    },
    {
     "name": "stdout",
     "output_type": "stream",
     "text": [
      "Scratch: [0.793 0.782 0.687 0.778 0.788 0.749 0.783 0.761 0.799 0.772 0.792 0.586\n",
      " 0.777 0.622 0.788]\n",
      "Transfer: [1.207 1.065 1.783 1.126 1.082 1.185 1.169 2.091 1.084 1.107 1.166 1.246\n",
      " 2.166 1.196 1.138]\n",
      "Transfer & Revision: [0.838 0.864 0.78  0.891 0.826 0.856 0.859 0.872 0.901 0.697 0.833 0.881\n",
      " 0.85  0.713 0.882]\n"
     ]
    },
    {
     "data": {
      "text/markdown": [
       "# Results for imdb->cora(samevenue)"
      ],
      "text/plain": [
       "<IPython.core.display.Markdown object>"
      ]
     },
     "metadata": {},
     "output_type": "display_data"
    },
    {
     "data": {
      "text/markdown": [
       "## AUC ROC"
      ],
      "text/plain": [
       "<IPython.core.display.Markdown object>"
      ]
     },
     "metadata": {},
     "output_type": "display_data"
    },
    {
     "name": "stdout",
     "output_type": "stream",
     "text": [
      "Scratch: [0.5 0.5 0.5 0.5 0.5 0.5 0.5 0.5 0.5 0.5 0.5 0.5 0.5 0.5 0.5]\n",
      "Transfer: [0.5 0.5 0.5 0.5 0.5 0.5 0.5 0.5 0.5 0.5 0.5 0.5 0.5 0.5 0.5]\n",
      "Transfer & Revision: [0.5 0.5 0.5 0.5 0.5 0.5 0.5 0.5 0.5 0.5 0.5 0.5 0.5 0.5 0.5]\n"
     ]
    },
    {
     "data": {
      "text/markdown": [
       "## AUC PR"
      ],
      "text/plain": [
       "<IPython.core.display.Markdown object>"
      ]
     },
     "metadata": {},
     "output_type": "display_data"
    },
    {
     "name": "stdout",
     "output_type": "stream",
     "text": [
      "Scratch: [0.527584 0.505628 0.530141 0.532489 0.524113 0.527584 0.505628 0.530141\n",
      " 0.532489 0.524113 0.527584 0.505628 0.530141 0.532489 0.524113]\n",
      "Transfer: [0.527584 0.505628 0.530141 0.532489 0.524113 0.527584 0.505628 0.530141\n",
      " 0.532489 0.524113 0.527584 0.505628 0.530141 0.532489 0.524113]\n",
      "Transfer & Revision: [0.527584 0.505628 0.530141 0.532489 0.524113 0.527584 0.505628 0.530141\n",
      " 0.532489 0.524113 0.527584 0.505628 0.530141 0.532489 0.524113]\n"
     ]
    },
    {
     "data": {
      "text/markdown": [
       "## CLL"
      ],
      "text/plain": [
       "<IPython.core.display.Markdown object>"
      ]
     },
     "metadata": {},
     "output_type": "display_data"
    },
    {
     "name": "stdout",
     "output_type": "stream",
     "text": [
      "Scratch: [-1.102629 -1.063108 -1.107232 -1.111458 -1.096381 -1.102629 -1.063108\n",
      " -1.107232 -1.111458 -1.096381 -1.102629 -1.063108 -1.107232 -1.111458\n",
      " -1.096381]\n",
      "Transfer: [-1.102629 -1.063108 -1.107232 -1.111458 -1.096381 -1.102629 -1.063108\n",
      " -1.107232 -1.111458 -1.096381 -1.102629 -1.063108 -1.107232 -1.111458\n",
      " -1.096381]\n",
      "Transfer & Revision: [-1.102629 -1.063108 -1.107232 -1.111458 -1.096381 -1.102629 -1.063108\n",
      " -1.107232 -1.111458 -1.096381 -1.102629 -1.063108 -1.107232 -1.111458\n",
      " -1.096381]\n"
     ]
    },
    {
     "data": {
      "text/markdown": [
       "## Recall"
      ],
      "text/plain": [
       "<IPython.core.display.Markdown object>"
      ]
     },
     "metadata": {},
     "output_type": "display_data"
    },
    {
     "name": "stdout",
     "output_type": "stream",
     "text": [
      "Scratch: [0. 0. 0. 0. 0. 0. 0. 0. 0. 0. 0. 0. 0. 0. 0.]\n",
      "Transfer: [0. 0. 0. 0. 0. 0. 0. 0. 0. 0. 0. 0. 0. 0. 0.]\n",
      "Transfer & Revision: [0. 0. 0. 0. 0. 0. 0. 0. 0. 0. 0. 0. 0. 0. 0.]\n"
     ]
    },
    {
     "data": {
      "text/markdown": [
       "## F1"
      ],
      "text/plain": [
       "<IPython.core.display.Markdown object>"
      ]
     },
     "metadata": {},
     "output_type": "display_data"
    },
    {
     "name": "stdout",
     "output_type": "stream",
     "text": [
      "Scratch: [nan nan nan nan nan nan nan nan nan nan nan nan nan nan nan]\n",
      "Transfer: [nan nan nan nan nan nan nan nan nan nan nan nan nan nan nan]\n",
      "Transfer & Revision: [nan nan nan nan nan nan nan nan nan nan nan nan nan nan nan]\n"
     ]
    },
    {
     "data": {
      "text/markdown": [
       "## Precision"
      ],
      "text/plain": [
       "<IPython.core.display.Markdown object>"
      ]
     },
     "metadata": {},
     "output_type": "display_data"
    },
    {
     "name": "stdout",
     "output_type": "stream",
     "text": [
      "Scratch: [nan nan nan nan nan nan nan nan nan nan nan nan nan nan nan]\n",
      "Transfer: [nan nan nan nan nan nan nan nan nan nan nan nan nan nan nan]\n",
      "Transfer & Revision: [nan nan nan nan nan nan nan nan nan nan nan nan nan nan nan]\n"
     ]
    },
    {
     "data": {
      "text/markdown": [
       "## Learning and Revision time"
      ],
      "text/plain": [
       "<IPython.core.display.Markdown object>"
      ]
     },
     "metadata": {},
     "output_type": "display_data"
    },
    {
     "name": "stdout",
     "output_type": "stream",
     "text": [
      "Scratch: [1.675 1.894 1.725 1.856 1.706 1.402 1.822 1.83  1.978 1.676 1.48  1.809\n",
      " 1.718 1.956 1.676]\n",
      "Transfer: [1.459 1.759 1.919 1.977 1.749 1.402 1.868 1.754 2.075 1.385 1.222 2.016\n",
      " 1.766 1.737 1.611]\n",
      "Transfer & Revision: [2.948 3.612 3.681 4.103 3.41  2.801 3.864 3.493 3.871 2.986 2.803 3.872\n",
      " 3.591 3.613 3.256]\n"
     ]
    },
    {
     "data": {
      "text/markdown": [
       "## Inference time"
      ],
      "text/plain": [
       "<IPython.core.display.Markdown object>"
      ]
     },
     "metadata": {},
     "output_type": "display_data"
    },
    {
     "name": "stdout",
     "output_type": "stream",
     "text": [
      "Scratch: [1.653 1.39  1.483 1.622 1.315 1.55  1.45  1.432 1.405 1.385 1.536 1.406\n",
      " 1.372 1.518 1.476]\n",
      "Transfer: [1.459 1.759 1.919 1.977 1.749 1.402 1.868 1.754 2.075 1.385 1.222 2.016\n",
      " 1.766 1.737 1.611]\n",
      "Transfer & Revision: [1.455 1.577 1.482 1.397 1.474 1.604 1.482 1.372 1.423 1.496 1.465 1.47\n",
      " 1.466 1.478 1.513]\n"
     ]
    },
    {
     "data": {
      "text/markdown": [
       "# Results for cora->imdb(workedunder)"
      ],
      "text/plain": [
       "<IPython.core.display.Markdown object>"
      ]
     },
     "metadata": {},
     "output_type": "display_data"
    },
    {
     "data": {
      "text/markdown": [
       "# Results for yeast->twitter(follows)"
      ],
      "text/plain": [
       "<IPython.core.display.Markdown object>"
      ]
     },
     "metadata": {},
     "output_type": "display_data"
    },
    {
     "data": {
      "text/markdown": [
       "## AUC ROC"
      ],
      "text/plain": [
       "<IPython.core.display.Markdown object>"
      ]
     },
     "metadata": {},
     "output_type": "display_data"
    },
    {
     "name": "stdout",
     "output_type": "stream",
     "text": [
      "Scratch: [0.64734  0.648783 0.64734  0.648783]\n",
      "Transfer: [0.647889 0.655149 0.664548 0.678155]\n",
      "Transfer & Revision: [0.647889 0.648783 0.732075 0.695494]\n"
     ]
    },
    {
     "data": {
      "text/markdown": [
       "## AUC PR"
      ],
      "text/plain": [
       "<IPython.core.display.Markdown object>"
      ]
     },
     "metadata": {},
     "output_type": "display_data"
    },
    {
     "name": "stdout",
     "output_type": "stream",
     "text": [
      "Scratch: [0.597653 0.60738  0.597653 0.60738 ]\n",
      "Transfer: [0.597807 0.609581 0.637963 0.675116]\n",
      "Transfer & Revision: [0.597807 0.60738  0.69499  0.66165 ]\n"
     ]
    },
    {
     "data": {
      "text/markdown": [
       "## CLL"
      ],
      "text/plain": [
       "<IPython.core.display.Markdown object>"
      ]
     },
     "metadata": {},
     "output_type": "display_data"
    },
    {
     "name": "stdout",
     "output_type": "stream",
     "text": [
      "Scratch: [-0.645306 -0.659381 -0.645306 -0.659381]\n",
      "Transfer: [-0.650449 -0.656612 -0.647796 -0.658221]\n",
      "Transfer & Revision: [-0.64556  -0.658073 -0.610699 -0.638476]\n"
     ]
    },
    {
     "data": {
      "text/markdown": [
       "## Recall"
      ],
      "text/plain": [
       "<IPython.core.display.Markdown object>"
      ]
     },
     "metadata": {},
     "output_type": "display_data"
    },
    {
     "name": "stdout",
     "output_type": "stream",
     "text": [
      "Scratch: [0.851695 0.770513 0.851695 0.770513]\n",
      "Transfer: [0.730226 0.625641 0.617232 0.617949]\n",
      "Transfer & Revision: [0.851695 0.770513 0.529661 0.498718]\n"
     ]
    },
    {
     "data": {
      "text/markdown": [
       "## F1"
      ],
      "text/plain": [
       "<IPython.core.display.Markdown object>"
      ]
     },
     "metadata": {},
     "output_type": "display_data"
    },
    {
     "name": "stdout",
     "output_type": "stream",
     "text": [
      "Scratch: [0.702797 0.681406 0.702797 0.681406]\n",
      "Transfer: [0.663671 0.626846 0.647887 0.618742]\n",
      "Transfer & Revision: [0.702797 0.681406 0.62396  0.595712]\n"
     ]
    },
    {
     "data": {
      "text/markdown": [
       "## Precision"
      ],
      "text/plain": [
       "<IPython.core.display.Markdown object>"
      ]
     },
     "metadata": {},
     "output_type": "display_data"
    },
    {
     "name": "stdout",
     "output_type": "stream",
     "text": [
      "Scratch: [0.598214 0.610772 0.598214 0.610772]\n",
      "Transfer: [0.608235 0.628057 0.681747 0.619537]\n",
      "Transfer & Revision: [0.598214 0.610772 0.759109 0.739544]\n"
     ]
    },
    {
     "data": {
      "text/markdown": [
       "## Learning and Revision time"
      ],
      "text/plain": [
       "<IPython.core.display.Markdown object>"
      ]
     },
     "metadata": {},
     "output_type": "display_data"
    },
    {
     "name": "stdout",
     "output_type": "stream",
     "text": [
      "Scratch: [6.248 5.707 6.25  5.841]\n",
      "Transfer: [4.45  3.94  3.741 3.713]\n",
      "Transfer & Revision: [10.473  9.45   9.549  9.458]\n"
     ]
    },
    {
     "data": {
      "text/markdown": [
       "## Inference time"
      ],
      "text/plain": [
       "<IPython.core.display.Markdown object>"
      ]
     },
     "metadata": {},
     "output_type": "display_data"
    },
    {
     "name": "stdout",
     "output_type": "stream",
     "text": [
      "Scratch: [1.119 1.304 1.001 1.314]\n",
      "Transfer: [4.45  3.94  3.741 3.713]\n",
      "Transfer & Revision: [1.26  1.274 1.246 1.441]\n"
     ]
    },
    {
     "data": {
      "text/markdown": [
       "# Results for twitter->yeast(interaction)"
      ],
      "text/plain": [
       "<IPython.core.display.Markdown object>"
      ]
     },
     "metadata": {},
     "output_type": "display_data"
    },
    {
     "data": {
      "text/markdown": [
       "## AUC ROC"
      ],
      "text/plain": [
       "<IPython.core.display.Markdown object>"
      ]
     },
     "metadata": {},
     "output_type": "display_data"
    },
    {
     "name": "stdout",
     "output_type": "stream",
     "text": [
      "Scratch: [0.612758 0.602345 0.608818 0.601311 0.607959 0.596654 0.606081 0.60457 ]\n",
      "Transfer: [0.589658 0.635265 0.573832 0.551403 0.589658 0.635265 0.573832 0.551403]\n",
      "Transfer & Revision: [0.60023  0.664546 0.594959 0.586736 0.604253 0.662451 0.596843 0.58502 ]\n"
     ]
    },
    {
     "data": {
      "text/markdown": [
       "## AUC PR"
      ],
      "text/plain": [
       "<IPython.core.display.Markdown object>"
      ]
     },
     "metadata": {},
     "output_type": "display_data"
    },
    {
     "name": "stdout",
     "output_type": "stream",
     "text": [
      "Scratch: [0.645435 0.631256 0.630997 0.626072 0.629065 0.628184 0.632626 0.62904 ]\n",
      "Transfer: [0.563585 0.608123 0.55081  0.586294 0.563585 0.608123 0.55081  0.586294]\n",
      "Transfer & Revision: [0.605487 0.67059  0.610585 0.616484 0.609546 0.667631 0.611927 0.614181]\n"
     ]
    },
    {
     "data": {
      "text/markdown": [
       "## CLL"
      ],
      "text/plain": [
       "<IPython.core.display.Markdown object>"
      ]
     },
     "metadata": {},
     "output_type": "display_data"
    },
    {
     "name": "stdout",
     "output_type": "stream",
     "text": [
      "Scratch: [-0.668064 -0.674963 -0.680626 -0.677256 -0.672589 -0.675637 -0.68238\n",
      " -0.675323]\n",
      "Transfer: [-0.680039 -0.664904 -0.692434 -0.688842 -0.680039 -0.664904 -0.692434\n",
      " -0.688842]\n",
      "Transfer & Revision: [-0.67829  -0.656383 -0.687094 -0.68149  -0.676471 -0.657135 -0.687984\n",
      " -0.682045]\n"
     ]
    },
    {
     "data": {
      "text/markdown": [
       "## Recall"
      ],
      "text/plain": [
       "<IPython.core.display.Markdown object>"
      ]
     },
     "metadata": {},
     "output_type": "display_data"
    },
    {
     "name": "stdout",
     "output_type": "stream",
     "text": [
      "Scratch: [0.432591 0.304782 0.401795 0.305754 0.430246 0.332627 0.37566  0.311588]\n",
      "Transfer: [0.630715 0.612591 0.605333 0.071334 0.630715 0.612591 0.605333 0.071334]\n",
      "Transfer & Revision: [0.480657 0.529358 0.457497 0.30602  0.486127 0.531477 0.401795 0.289048]\n"
     ]
    },
    {
     "data": {
      "text/markdown": [
       "## F1"
      ],
      "text/plain": [
       "<IPython.core.display.Markdown object>"
      ]
     },
     "metadata": {},
     "output_type": "display_data"
    },
    {
     "name": "stdout",
     "output_type": "stream",
     "text": [
      "Scratch: [0.51984  0.412282 0.486651 0.40981  0.513287 0.433702 0.466481 0.417333]\n",
      "Transfer: [0.604608 0.626917 0.585921 0.132971 0.604608 0.626917 0.585921 0.132971]\n",
      "Transfer & Revision: [0.52508  0.591778 0.517005 0.411482 0.528799 0.592043 0.48005  0.396508]\n"
     ]
    },
    {
     "data": {
      "text/markdown": [
       "## Precision"
      ],
      "text/plain": [
       "<IPython.core.display.Markdown object>"
      ]
     },
     "metadata": {},
     "output_type": "display_data"
    },
    {
     "name": "stdout",
     "output_type": "stream",
     "text": [
      "Scratch: [0.651176 0.636939 0.616944 0.621228 0.636049 0.623016 0.615218 0.63172 ]\n",
      "Transfer: [0.580576 0.641928 0.567715 0.978182 0.580576 0.641928 0.567715 0.978182]\n",
      "Transfer & Revision: [0.578551 0.670886 0.594307 0.627856 0.579683 0.668189 0.596161 0.631152]\n"
     ]
    },
    {
     "data": {
      "text/markdown": [
       "## Learning and Revision time"
      ],
      "text/plain": [
       "<IPython.core.display.Markdown object>"
      ]
     },
     "metadata": {},
     "output_type": "display_data"
    },
    {
     "name": "stdout",
     "output_type": "stream",
     "text": [
      "Scratch: [12.495  9.208  7.9    6.19  12.397  9.129  6.062  7.72 ]\n",
      "Transfer: [10.299  6.121  3.762  4.516  8.474  6.513  3.755  4.646]\n",
      "Transfer & Revision: [21.223 16.676  9.603 11.375 21.885 17.126  9.4    9.901]\n"
     ]
    },
    {
     "data": {
      "text/markdown": [
       "## Inference time"
      ],
      "text/plain": [
       "<IPython.core.display.Markdown object>"
      ]
     },
     "metadata": {},
     "output_type": "display_data"
    },
    {
     "name": "stdout",
     "output_type": "stream",
     "text": [
      "Scratch: [2.203 2.585 2.542 2.872 2.123 2.596 2.596 2.616]\n",
      "Transfer: [10.299  6.121  3.762  4.516  8.474  6.513  3.755  4.646]\n",
      "Transfer & Revision: [2.351 2.502 2.656 2.227 2.45  2.719 2.244 2.38 ]\n"
     ]
    },
    {
     "data": {
      "text/markdown": [
       "# Results for nell_sports->nell_finances(companyeconomicsector)"
      ],
      "text/plain": [
       "<IPython.core.display.Markdown object>"
      ]
     },
     "metadata": {},
     "output_type": "display_data"
    },
    {
     "data": {
      "text/markdown": [
       "## AUC ROC"
      ],
      "text/plain": [
       "<IPython.core.display.Markdown object>"
      ]
     },
     "metadata": {},
     "output_type": "display_data"
    },
    {
     "name": "stdout",
     "output_type": "stream",
     "text": [
      "Scratch: [1. 1. 1. 1. 1. 1.]\n",
      "Transfer: [0.5 0.5 0.5 0.5 0.5 0.5]\n",
      "Transfer & Revision: [1. 1. 1. 1. 1. 1.]\n"
     ]
    },
    {
     "data": {
      "text/markdown": [
       "## AUC PR"
      ],
      "text/plain": [
       "<IPython.core.display.Markdown object>"
      ]
     },
     "metadata": {},
     "output_type": "display_data"
    },
    {
     "name": "stdout",
     "output_type": "stream",
     "text": [
      "Scratch: [1. 1. 1. 1. 1. 1.]\n",
      "Transfer: [0.5 0.5 0.5 0.5 0.5 0.5]\n",
      "Transfer & Revision: [1. 1. 1. 1. 1. 1.]\n"
     ]
    },
    {
     "data": {
      "text/markdown": [
       "## CLL"
      ],
      "text/plain": [
       "<IPython.core.display.Markdown object>"
      ]
     },
     "metadata": {},
     "output_type": "display_data"
    },
    {
     "name": "stdout",
     "output_type": "stream",
     "text": [
      "Scratch: [-0.094637 -0.094637 -0.094637 -0.094637 -0.094637 -0.094637]\n",
      "Transfer: [-0.695026 -0.695026 -0.695026 -0.695514 -0.695514 -0.695026]\n",
      "Transfer & Revision: [-0.256366 -0.317584 -0.310612 -0.253324 -0.24914  -0.254186]\n"
     ]
    },
    {
     "data": {
      "text/markdown": [
       "## Recall"
      ],
      "text/plain": [
       "<IPython.core.display.Markdown object>"
      ]
     },
     "metadata": {},
     "output_type": "display_data"
    },
    {
     "name": "stdout",
     "output_type": "stream",
     "text": [
      "Scratch: [1. 1. 1. 1. 1. 1.]\n",
      "Transfer: [0. 0. 0. 0. 0. 0.]\n",
      "Transfer & Revision: [1.       1.       1.       0.996139 1.       1.      ]\n"
     ]
    },
    {
     "data": {
      "text/markdown": [
       "## F1"
      ],
      "text/plain": [
       "<IPython.core.display.Markdown object>"
      ]
     },
     "metadata": {},
     "output_type": "display_data"
    },
    {
     "name": "stdout",
     "output_type": "stream",
     "text": [
      "Scratch: [1. 1. 1. 1. 1. 1.]\n",
      "Transfer: [nan nan nan nan nan nan]\n",
      "Transfer & Revision: [1.       1.       1.       0.998066 1.       1.      ]\n"
     ]
    },
    {
     "data": {
      "text/markdown": [
       "## Precision"
      ],
      "text/plain": [
       "<IPython.core.display.Markdown object>"
      ]
     },
     "metadata": {},
     "output_type": "display_data"
    },
    {
     "name": "stdout",
     "output_type": "stream",
     "text": [
      "Scratch: [1. 1. 1. 1. 1. 1.]\n",
      "Transfer: [nan nan nan nan nan nan]\n",
      "Transfer & Revision: [1. 1. 1. 1. 1. 1.]\n"
     ]
    },
    {
     "data": {
      "text/markdown": [
       "## Learning and Revision time"
      ],
      "text/plain": [
       "<IPython.core.display.Markdown object>"
      ]
     },
     "metadata": {},
     "output_type": "display_data"
    },
    {
     "name": "stdout",
     "output_type": "stream",
     "text": [
      "Scratch: [3.211 2.793 2.229 2.434 2.65  2.611]\n",
      "Transfer: [4.615 4.916 4.341 4.174 3.851 4.077]\n",
      "Transfer & Revision: [10.513 11.828 12.516  9.263 10.559 10.303]\n"
     ]
    },
    {
     "data": {
      "text/markdown": [
       "## Inference time"
      ],
      "text/plain": [
       "<IPython.core.display.Markdown object>"
      ]
     },
     "metadata": {},
     "output_type": "display_data"
    },
    {
     "name": "stdout",
     "output_type": "stream",
     "text": [
      "Scratch: [0.99  1.021 1.034 1.194 1.048 0.928]\n",
      "Transfer: [4.615 4.916 4.341 4.174 3.851 4.077]\n",
      "Transfer & Revision: [2.051 2.106 2.39  1.806 1.509 2.205]\n"
     ]
    },
    {
     "data": {
      "text/markdown": [
       "# Results for nell_finances->nell_sports(teamplayssport)"
      ],
      "text/plain": [
       "<IPython.core.display.Markdown object>"
      ]
     },
     "metadata": {},
     "output_type": "display_data"
    },
    {
     "data": {
      "text/markdown": [
       "## AUC ROC"
      ],
      "text/plain": [
       "<IPython.core.display.Markdown object>"
      ]
     },
     "metadata": {},
     "output_type": "display_data"
    },
    {
     "name": "stdout",
     "output_type": "stream",
     "text": [
      "Scratch: [0.912628 0.898933 0.859171 0.919063 0.903158 0.8585  ]\n",
      "Transfer: [0.913324 0.900647 0.860584 0.91719  0.900755 0.858719]\n",
      "Transfer & Revision: [0.913632 0.907606 0.867142 0.8963   0.903689 0.852592]\n"
     ]
    },
    {
     "data": {
      "text/markdown": [
       "## AUC PR"
      ],
      "text/plain": [
       "<IPython.core.display.Markdown object>"
      ]
     },
     "metadata": {},
     "output_type": "display_data"
    },
    {
     "name": "stdout",
     "output_type": "stream",
     "text": [
      "Scratch: [0.895739 0.891456 0.826147 0.905158 0.892597 0.825303]\n",
      "Transfer: [0.898524 0.886667 0.829049 0.90098  0.885902 0.827317]\n",
      "Transfer & Revision: [0.899314 0.895689 0.836189 0.878249 0.888603 0.790958]\n"
     ]
    },
    {
     "data": {
      "text/markdown": [
       "## CLL"
      ],
      "text/plain": [
       "<IPython.core.display.Markdown object>"
      ]
     },
     "metadata": {},
     "output_type": "display_data"
    },
    {
     "name": "stdout",
     "output_type": "stream",
     "text": [
      "Scratch: [-0.382489 -0.38422  -0.428836 -0.37856  -0.37792  -0.426252]\n",
      "Transfer: [-0.38091  -0.381188 -0.422994 -0.376881 -0.37988  -0.426948]\n",
      "Transfer & Revision: [-0.385383 -0.380148 -0.419602 -0.39778  -0.389667 -0.431133]\n"
     ]
    },
    {
     "data": {
      "text/markdown": [
       "## Recall"
      ],
      "text/plain": [
       "<IPython.core.display.Markdown object>"
      ]
     },
     "metadata": {},
     "output_type": "display_data"
    },
    {
     "name": "stdout",
     "output_type": "stream",
     "text": [
      "Scratch: [0.950758 0.935606 0.928571 0.965909 0.931818 0.928571]\n",
      "Transfer: [0.94697  0.931818 0.906015 0.954545 0.92803  0.928571]\n",
      "Transfer & Revision: [0.950758 0.935606 0.909774 0.965909 0.935606 0.928571]\n"
     ]
    },
    {
     "data": {
      "text/markdown": [
       "## F1"
      ],
      "text/plain": [
       "<IPython.core.display.Markdown object>"
      ]
     },
     "metadata": {},
     "output_type": "display_data"
    },
    {
     "name": "stdout",
     "output_type": "stream",
     "text": [
      "Scratch: [0.85812  0.865149 0.834459 0.873288 0.863158 0.834459]\n",
      "Transfer: [0.859107 0.863158 0.835355 0.871972 0.862676 0.834459]\n",
      "Transfer & Revision: [0.85812  0.865149 0.835924 0.862944 0.863636 0.834459]\n"
     ]
    },
    {
     "data": {
      "text/markdown": [
       "## Precision"
      ],
      "text/plain": [
       "<IPython.core.display.Markdown object>"
      ]
     },
     "metadata": {},
     "output_type": "display_data"
    },
    {
     "name": "stdout",
     "output_type": "stream",
     "text": [
      "Scratch: [0.781931 0.80456  0.757669 0.796875 0.803922 0.757669]\n",
      "Transfer: [0.786164 0.803922 0.77492  0.802548 0.805921 0.757669]\n",
      "Transfer & Revision: [0.781931 0.80456  0.773163 0.779817 0.801948 0.757669]\n"
     ]
    },
    {
     "data": {
      "text/markdown": [
       "## Learning and Revision time"
      ],
      "text/plain": [
       "<IPython.core.display.Markdown object>"
      ]
     },
     "metadata": {},
     "output_type": "display_data"
    },
    {
     "name": "stdout",
     "output_type": "stream",
     "text": [
      "Scratch: [33.513 36.444 34.938 31.183 33.496 35.984]\n",
      "Transfer: [31.58  37.302 34.042 30.183 35.968 32.402]\n",
      "Transfer & Revision: [55.249 67.404 58.604 55.288 66.776 56.89 ]\n"
     ]
    },
    {
     "data": {
      "text/markdown": [
       "## Inference time"
      ],
      "text/plain": [
       "<IPython.core.display.Markdown object>"
      ]
     },
     "metadata": {},
     "output_type": "display_data"
    },
    {
     "name": "stdout",
     "output_type": "stream",
     "text": [
      "Scratch: [3.026 3.224 3.004 3.12  3.03  2.51 ]\n",
      "Transfer: [31.58  37.302 34.042 30.183 35.968 32.402]\n",
      "Transfer & Revision: [2.998 3.102 3.125 3.123 3.558 3.294]\n"
     ]
    },
    {
     "data": {
      "text/markdown": [
       "# Results for imdb->yago2s(ismarriedto)"
      ],
      "text/plain": [
       "<IPython.core.display.Markdown object>"
      ]
     },
     "metadata": {},
     "output_type": "display_data"
    },
    {
     "data": {
      "text/markdown": [
       "# Results for imdb->yago2s(hasacademicadvisor)"
      ],
      "text/plain": [
       "<IPython.core.display.Markdown object>"
      ]
     },
     "metadata": {},
     "output_type": "display_data"
    },
    {
     "data": {
      "text/markdown": [
       "# Results for imdb->yago2s(haschild)"
      ],
      "text/plain": [
       "<IPython.core.display.Markdown object>"
      ]
     },
     "metadata": {},
     "output_type": "display_data"
    }
   ],
   "source": [
    "for j in range(len(experiments)):\n",
    "    dataset = experiments[j]['source'] + '->' + experiments[j]['target'] + '(' + experiments[j]['to_predicate'] + ')'\n",
    "    display(Markdown('# Results for ' + dataset))\n",
    "    table = []\n",
    "    for metric in ['AUC ROC', 'AUC PR', 'CLL', 'Recall', 'F1', 'Precision', 'Learning and Revision time', 'Inference time']:\n",
    "    #for metric in ['AUC ROC', 'AUC PR']:\n",
    "        if dataset in data['results']: \n",
    "            #for metric in ['AUC ROC', 'AUC PR']:\n",
    "            display(Markdown('## ' + metric))\n",
    "            if metric == 'Precision':\n",
    "                scratch = np.array([item['scratch']['Precision'][0] for sublist in data['results'][str(dataset)] for item in sublist])\n",
    "                parameter = np.array([item['transfer']['Parameter Learning results']['Precision'][0] for sublist in data['results'][str(dataset)] for item in sublist])\n",
    "                transfer = np.array([item['transfer']['Precision'][0] for sublist in data['results'][str(dataset)] for item in sublist])\n",
    "            elif metric == 'Learning and Revision time':\n",
    "                scratch = np.array([item['scratch']['Learning time'] for sublist in data['results'][str(dataset)] for item in sublist])\n",
    "                parameter = np.array([item['transfer']['Parameter Learning results']['Learning time'] for sublist in data['results'][str(dataset)] for item in sublist])\n",
    "                transfer = np.array([item['transfer']['Learning time'] for sublist in data['results'][str(dataset)] for item in sublist])\n",
    "            elif metric == 'Inference time':\n",
    "                scratch = np.array([item['scratch']['Inference time'] for sublist in data['results'][str(dataset)] for item in sublist])\n",
    "                parameter = np.array([item['transfer']['Parameter Learning results']['Learning time'] for sublist in data['results'][str(dataset)] for item in sublist])\n",
    "                transfer = np.array([item['transfer']['Inference time'] for sublist in data['results'][str(dataset)] for item in sublist])\n",
    "            else:\n",
    "                scratch = np.array([item['scratch'][metric] for sublist in data['results'][str(dataset)] for item in sublist])\n",
    "                parameter = np.array([item['transfer']['Parameter Learning results'][metric] for sublist in data['results'][str(dataset)] for item in sublist])\n",
    "                transfer = np.array([item['transfer'][metric] for sublist in data['results'][str(dataset)] for item in sublist])\n",
    "            print('Scratch: %s' % scratch)\n",
    "            print('Transfer: %s' % parameter)\n",
    "            print('Transfer & Revision: %s' % transfer)"
   ]
  },
  {
   "cell_type": "code",
   "execution_count": null,
   "metadata": {
    "collapsed": true
   },
   "outputs": [],
   "source": []
  },
  {
   "cell_type": "code",
   "execution_count": null,
   "metadata": {
    "collapsed": true
   },
   "outputs": [],
   "source": []
  }
 ],
 "metadata": {
  "anaconda-cloud": {},
  "kernelspec": {
   "display_name": "Python [conda env:anaconda3]",
   "language": "python",
   "name": "conda-env-anaconda3-py"
  },
  "language_info": {
   "codemirror_mode": {
    "name": "ipython",
    "version": 3
   },
   "file_extension": ".py",
   "mimetype": "text/x-python",
   "name": "python",
   "nbconvert_exporter": "python",
   "pygments_lexer": "ipython3",
   "version": "3.5.2"
  }
 },
 "nbformat": 4,
 "nbformat_minor": 1
}
