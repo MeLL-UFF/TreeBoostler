{
 "cells": [
  {
   "cell_type": "code",
   "execution_count": 74,
   "metadata": {
    "collapsed": true
   },
   "outputs": [],
   "source": [
    "import matplotlib.pyplot as plt\n",
    "from IPython.display import display, Markdown, Latex\n",
    "import numpy as np\n",
    "import json\n",
    "import pandas as pd\n",
    "\n",
    "with open('total_transfer_experiment.json', 'r') as fp:\n",
    "    data = json.load(fp)"
   ]
  },
  {
   "cell_type": "code",
   "execution_count": 81,
   "metadata": {
    "collapsed": false
   },
   "outputs": [
    {
     "data": {
      "text/markdown": [
       "# Results for imdb(workedunder) -> uwcse"
      ],
      "text/plain": [
       "<IPython.core.display.Markdown object>"
      ]
     },
     "metadata": {},
     "output_type": "display_data"
    },
    {
     "data": {
      "text/html": [
       "<div>\n",
       "<table border=\"1\" class=\"dataframe\">\n",
       "  <thead>\n",
       "    <tr style=\"text-align: right;\">\n",
       "      <th></th>\n",
       "      <th>Metric</th>\n",
       "      <th>Transfer Learning</th>\n",
       "      <th>Transfer Learning with Revision Theory</th>\n",
       "      <th>Learning from scratch</th>\n",
       "    </tr>\n",
       "  </thead>\n",
       "  <tbody>\n",
       "    <tr>\n",
       "      <th>0</th>\n",
       "      <td>AUC ROC</td>\n",
       "      <td>0.922 +/- 0.211</td>\n",
       "      <td>0.963 +/- 0.051</td>\n",
       "      <td>0.964 +/- 0.048</td>\n",
       "    </tr>\n",
       "    <tr>\n",
       "      <th>1</th>\n",
       "      <td>AUC PR</td>\n",
       "      <td>0.918 +/- 0.167</td>\n",
       "      <td>0.941 +/- 0.083</td>\n",
       "      <td>0.947 +/- 0.064</td>\n",
       "    </tr>\n",
       "    <tr>\n",
       "      <th>2</th>\n",
       "      <td>CLL</td>\n",
       "      <td>-0.276 +/- 0.306</td>\n",
       "      <td>-0.208 +/- 0.121</td>\n",
       "      <td>-0.211 +/- 0.121</td>\n",
       "    </tr>\n",
       "    <tr>\n",
       "      <th>3</th>\n",
       "      <td>Recall</td>\n",
       "      <td>0.871 +/- 0.438</td>\n",
       "      <td>0.982 +/- 0.065</td>\n",
       "      <td>0.976 +/- 0.070</td>\n",
       "    </tr>\n",
       "    <tr>\n",
       "      <th>4</th>\n",
       "      <td>F1</td>\n",
       "      <td>0.880 +/- 0.299</td>\n",
       "      <td>0.953 +/- 0.068</td>\n",
       "      <td>0.949 +/- 0.072</td>\n",
       "    </tr>\n",
       "    <tr>\n",
       "      <th>5</th>\n",
       "      <td>Precision</td>\n",
       "      <td>0.929 +/- 0.116</td>\n",
       "      <td>0.927 +/- 0.116</td>\n",
       "      <td>0.925 +/- 0.122</td>\n",
       "    </tr>\n",
       "    <tr>\n",
       "      <th>6</th>\n",
       "      <td>Learning and Revision time</td>\n",
       "      <td>53.802 +/- 84.083</td>\n",
       "      <td>53.802 +/- 84.083</td>\n",
       "      <td>26.897 +/- 25.149</td>\n",
       "    </tr>\n",
       "    <tr>\n",
       "      <th>7</th>\n",
       "      <td>Inference time</td>\n",
       "      <td>0.635 +/- 0.107</td>\n",
       "      <td>0.652 +/- 0.107</td>\n",
       "      <td>0.654 +/- 0.121</td>\n",
       "    </tr>\n",
       "  </tbody>\n",
       "</table>\n",
       "</div>"
      ],
      "text/plain": [
       "                       Metric  Transfer Learning  \\\n",
       "0                     AUC ROC    0.922 +/- 0.211   \n",
       "1                      AUC PR    0.918 +/- 0.167   \n",
       "2                         CLL   -0.276 +/- 0.306   \n",
       "3                      Recall    0.871 +/- 0.438   \n",
       "4                          F1    0.880 +/- 0.299   \n",
       "5                   Precision    0.929 +/- 0.116   \n",
       "6  Learning and Revision time  53.802 +/- 84.083   \n",
       "7              Inference time    0.635 +/- 0.107   \n",
       "\n",
       "  Transfer Learning with Revision Theory Learning from scratch  \n",
       "0                        0.963 +/- 0.051       0.964 +/- 0.048  \n",
       "1                        0.941 +/- 0.083       0.947 +/- 0.064  \n",
       "2                       -0.208 +/- 0.121      -0.211 +/- 0.121  \n",
       "3                        0.982 +/- 0.065       0.976 +/- 0.070  \n",
       "4                        0.953 +/- 0.068       0.949 +/- 0.072  \n",
       "5                        0.927 +/- 0.116       0.925 +/- 0.122  \n",
       "6                      53.802 +/- 84.083     26.897 +/- 25.149  \n",
       "7                        0.652 +/- 0.107       0.654 +/- 0.121  "
      ]
     },
     "metadata": {},
     "output_type": "display_data"
    },
    {
     "data": {
      "text/markdown": [
       "# Results for imdb(movie) -> uwcse"
      ],
      "text/plain": [
       "<IPython.core.display.Markdown object>"
      ]
     },
     "metadata": {},
     "output_type": "display_data"
    },
    {
     "data": {
      "text/html": [
       "<div>\n",
       "<table border=\"1\" class=\"dataframe\">\n",
       "  <thead>\n",
       "    <tr style=\"text-align: right;\">\n",
       "      <th></th>\n",
       "      <th>Metric</th>\n",
       "      <th>Transfer Learning</th>\n",
       "      <th>Transfer Learning with Revision Theory</th>\n",
       "      <th>Learning from scratch</th>\n",
       "    </tr>\n",
       "  </thead>\n",
       "  <tbody>\n",
       "    <tr>\n",
       "      <th>0</th>\n",
       "      <td>AUC ROC</td>\n",
       "      <td>0.596 +/- 0.155</td>\n",
       "      <td>0.593 +/- 0.165</td>\n",
       "      <td>0.596 +/- 0.155</td>\n",
       "    </tr>\n",
       "    <tr>\n",
       "      <th>1</th>\n",
       "      <td>AUC PR</td>\n",
       "      <td>0.579 +/- 0.138</td>\n",
       "      <td>0.577 +/- 0.140</td>\n",
       "      <td>0.569 +/- 0.122</td>\n",
       "    </tr>\n",
       "    <tr>\n",
       "      <th>2</th>\n",
       "      <td>CLL</td>\n",
       "      <td>-0.714 +/- 0.132</td>\n",
       "      <td>-0.713 +/- 0.132</td>\n",
       "      <td>-0.718 +/- 0.134</td>\n",
       "    </tr>\n",
       "    <tr>\n",
       "      <th>3</th>\n",
       "      <td>Recall</td>\n",
       "      <td>0.430 +/- 0.564</td>\n",
       "      <td>0.430 +/- 0.564</td>\n",
       "      <td>0.405 +/- 0.522</td>\n",
       "    </tr>\n",
       "    <tr>\n",
       "      <th>4</th>\n",
       "      <td>F1</td>\n",
       "      <td>nan +/- nan</td>\n",
       "      <td>nan +/- nan</td>\n",
       "      <td>nan +/- nan</td>\n",
       "    </tr>\n",
       "    <tr>\n",
       "      <th>5</th>\n",
       "      <td>Precision</td>\n",
       "      <td>nan +/- nan</td>\n",
       "      <td>nan +/- nan</td>\n",
       "      <td>nan +/- nan</td>\n",
       "    </tr>\n",
       "    <tr>\n",
       "      <th>6</th>\n",
       "      <td>Learning and Revision time</td>\n",
       "      <td>189.335 +/- 279.794</td>\n",
       "      <td>189.335 +/- 279.794</td>\n",
       "      <td>110.998 +/- 183.379</td>\n",
       "    </tr>\n",
       "    <tr>\n",
       "      <th>7</th>\n",
       "      <td>Inference time</td>\n",
       "      <td>0.718 +/- 0.179</td>\n",
       "      <td>0.720 +/- 0.178</td>\n",
       "      <td>0.747 +/- 0.214</td>\n",
       "    </tr>\n",
       "  </tbody>\n",
       "</table>\n",
       "</div>"
      ],
      "text/plain": [
       "                       Metric    Transfer Learning  \\\n",
       "0                     AUC ROC      0.596 +/- 0.155   \n",
       "1                      AUC PR      0.579 +/- 0.138   \n",
       "2                         CLL     -0.714 +/- 0.132   \n",
       "3                      Recall      0.430 +/- 0.564   \n",
       "4                          F1          nan +/- nan   \n",
       "5                   Precision          nan +/- nan   \n",
       "6  Learning and Revision time  189.335 +/- 279.794   \n",
       "7              Inference time      0.718 +/- 0.179   \n",
       "\n",
       "  Transfer Learning with Revision Theory Learning from scratch  \n",
       "0                        0.593 +/- 0.165       0.596 +/- 0.155  \n",
       "1                        0.577 +/- 0.140       0.569 +/- 0.122  \n",
       "2                       -0.713 +/- 0.132      -0.718 +/- 0.134  \n",
       "3                        0.430 +/- 0.564       0.405 +/- 0.522  \n",
       "4                            nan +/- nan           nan +/- nan  \n",
       "5                            nan +/- nan           nan +/- nan  \n",
       "6                    189.335 +/- 279.794   110.998 +/- 183.379  \n",
       "7                        0.720 +/- 0.178       0.747 +/- 0.214  "
      ]
     },
     "metadata": {},
     "output_type": "display_data"
    },
    {
     "data": {
      "text/markdown": [
       "# Results for uwcse(advisedby) -> imdb"
      ],
      "text/plain": [
       "<IPython.core.display.Markdown object>"
      ]
     },
     "metadata": {},
     "output_type": "display_data"
    },
    {
     "data": {
      "text/html": [
       "<div>\n",
       "<table border=\"1\" class=\"dataframe\">\n",
       "  <thead>\n",
       "    <tr style=\"text-align: right;\">\n",
       "      <th></th>\n",
       "      <th>Metric</th>\n",
       "      <th>Transfer Learning</th>\n",
       "      <th>Transfer Learning with Revision Theory</th>\n",
       "      <th>Learning from scratch</th>\n",
       "    </tr>\n",
       "  </thead>\n",
       "  <tbody>\n",
       "    <tr>\n",
       "      <th>0</th>\n",
       "      <td>AUC ROC</td>\n",
       "      <td>0.953 +/- 0.194</td>\n",
       "      <td>0.990 +/- 0.101</td>\n",
       "      <td>1.000 +/- 0.000</td>\n",
       "    </tr>\n",
       "    <tr>\n",
       "      <th>1</th>\n",
       "      <td>AUC PR</td>\n",
       "      <td>0.965 +/- 0.142</td>\n",
       "      <td>0.993 +/- 0.073</td>\n",
       "      <td>1.000 +/- 0.000</td>\n",
       "    </tr>\n",
       "    <tr>\n",
       "      <th>2</th>\n",
       "      <td>CLL</td>\n",
       "      <td>-0.181 +/- 0.332</td>\n",
       "      <td>-0.150 +/- 0.223</td>\n",
       "      <td>-0.097 +/- 0.008</td>\n",
       "    </tr>\n",
       "    <tr>\n",
       "      <th>3</th>\n",
       "      <td>Recall</td>\n",
       "      <td>0.896 +/- 0.414</td>\n",
       "      <td>0.959 +/- 0.281</td>\n",
       "      <td>1.000 +/- 0.000</td>\n",
       "    </tr>\n",
       "    <tr>\n",
       "      <th>4</th>\n",
       "      <td>F1</td>\n",
       "      <td>0.928 +/- 0.277</td>\n",
       "      <td>0.970 +/- 0.188</td>\n",
       "      <td>0.998 +/- 0.009</td>\n",
       "    </tr>\n",
       "    <tr>\n",
       "      <th>5</th>\n",
       "      <td>Precision</td>\n",
       "      <td>0.996 +/- 0.017</td>\n",
       "      <td>0.996 +/- 0.017</td>\n",
       "      <td>0.996 +/- 0.017</td>\n",
       "    </tr>\n",
       "    <tr>\n",
       "      <th>6</th>\n",
       "      <td>Learning and Revision time</td>\n",
       "      <td>18.695 +/- 9.513</td>\n",
       "      <td>18.695 +/- 9.513</td>\n",
       "      <td>9.849 +/- 3.568</td>\n",
       "    </tr>\n",
       "    <tr>\n",
       "      <th>7</th>\n",
       "      <td>Inference time</td>\n",
       "      <td>0.632 +/- 0.104</td>\n",
       "      <td>0.624 +/- 0.097</td>\n",
       "      <td>0.634 +/- 0.101</td>\n",
       "    </tr>\n",
       "  </tbody>\n",
       "</table>\n",
       "</div>"
      ],
      "text/plain": [
       "                       Metric Transfer Learning  \\\n",
       "0                     AUC ROC   0.953 +/- 0.194   \n",
       "1                      AUC PR   0.965 +/- 0.142   \n",
       "2                         CLL  -0.181 +/- 0.332   \n",
       "3                      Recall   0.896 +/- 0.414   \n",
       "4                          F1   0.928 +/- 0.277   \n",
       "5                   Precision   0.996 +/- 0.017   \n",
       "6  Learning and Revision time  18.695 +/- 9.513   \n",
       "7              Inference time   0.632 +/- 0.104   \n",
       "\n",
       "  Transfer Learning with Revision Theory Learning from scratch  \n",
       "0                        0.990 +/- 0.101       1.000 +/- 0.000  \n",
       "1                        0.993 +/- 0.073       1.000 +/- 0.000  \n",
       "2                       -0.150 +/- 0.223      -0.097 +/- 0.008  \n",
       "3                        0.959 +/- 0.281       1.000 +/- 0.000  \n",
       "4                        0.970 +/- 0.188       0.998 +/- 0.009  \n",
       "5                        0.996 +/- 0.017       0.996 +/- 0.017  \n",
       "6                       18.695 +/- 9.513       9.849 +/- 3.568  \n",
       "7                        0.624 +/- 0.097       0.634 +/- 0.101  "
      ]
     },
     "metadata": {},
     "output_type": "display_data"
    },
    {
     "data": {
      "text/markdown": [
       "# Results for uwcse(publication) -> imdb"
      ],
      "text/plain": [
       "<IPython.core.display.Markdown object>"
      ]
     },
     "metadata": {},
     "output_type": "display_data"
    },
    {
     "data": {
      "text/html": [
       "<div>\n",
       "<table border=\"1\" class=\"dataframe\">\n",
       "  <thead>\n",
       "    <tr style=\"text-align: right;\">\n",
       "      <th></th>\n",
       "      <th>Metric</th>\n",
       "      <th>Transfer Learning</th>\n",
       "      <th>Transfer Learning with Revision Theory</th>\n",
       "      <th>Learning from scratch</th>\n",
       "    </tr>\n",
       "  </thead>\n",
       "  <tbody>\n",
       "    <tr>\n",
       "      <th>0</th>\n",
       "      <td>AUC ROC</td>\n",
       "      <td>0.511 +/- 0.062</td>\n",
       "      <td>0.507 +/- 0.062</td>\n",
       "      <td>0.502 +/- 0.084</td>\n",
       "    </tr>\n",
       "    <tr>\n",
       "      <th>1</th>\n",
       "      <td>AUC PR</td>\n",
       "      <td>0.511 +/- 0.048</td>\n",
       "      <td>0.507 +/- 0.047</td>\n",
       "      <td>0.505 +/- 0.061</td>\n",
       "    </tr>\n",
       "    <tr>\n",
       "      <th>2</th>\n",
       "      <td>CLL</td>\n",
       "      <td>-0.695 +/- 0.005</td>\n",
       "      <td>-0.695 +/- 0.005</td>\n",
       "      <td>-0.695 +/- 0.006</td>\n",
       "    </tr>\n",
       "    <tr>\n",
       "      <th>3</th>\n",
       "      <td>Recall</td>\n",
       "      <td>0.000 +/- 0.000</td>\n",
       "      <td>0.000 +/- 0.000</td>\n",
       "      <td>0.000 +/- 0.000</td>\n",
       "    </tr>\n",
       "    <tr>\n",
       "      <th>4</th>\n",
       "      <td>F1</td>\n",
       "      <td>nan +/- nan</td>\n",
       "      <td>nan +/- nan</td>\n",
       "      <td>nan +/- nan</td>\n",
       "    </tr>\n",
       "    <tr>\n",
       "      <th>5</th>\n",
       "      <td>Precision</td>\n",
       "      <td>nan +/- nan</td>\n",
       "      <td>nan +/- nan</td>\n",
       "      <td>nan +/- nan</td>\n",
       "    </tr>\n",
       "    <tr>\n",
       "      <th>6</th>\n",
       "      <td>Learning and Revision time</td>\n",
       "      <td>22.177 +/- 17.015</td>\n",
       "      <td>22.177 +/- 17.015</td>\n",
       "      <td>13.230 +/- 4.595</td>\n",
       "    </tr>\n",
       "    <tr>\n",
       "      <th>7</th>\n",
       "      <td>Inference time</td>\n",
       "      <td>0.598 +/- 0.080</td>\n",
       "      <td>0.591 +/- 0.092</td>\n",
       "      <td>0.587 +/- 0.052</td>\n",
       "    </tr>\n",
       "  </tbody>\n",
       "</table>\n",
       "</div>"
      ],
      "text/plain": [
       "                       Metric  Transfer Learning  \\\n",
       "0                     AUC ROC    0.511 +/- 0.062   \n",
       "1                      AUC PR    0.511 +/- 0.048   \n",
       "2                         CLL   -0.695 +/- 0.005   \n",
       "3                      Recall    0.000 +/- 0.000   \n",
       "4                          F1        nan +/- nan   \n",
       "5                   Precision        nan +/- nan   \n",
       "6  Learning and Revision time  22.177 +/- 17.015   \n",
       "7              Inference time    0.598 +/- 0.080   \n",
       "\n",
       "  Transfer Learning with Revision Theory Learning from scratch  \n",
       "0                        0.507 +/- 0.062       0.502 +/- 0.084  \n",
       "1                        0.507 +/- 0.047       0.505 +/- 0.061  \n",
       "2                       -0.695 +/- 0.005      -0.695 +/- 0.006  \n",
       "3                        0.000 +/- 0.000       0.000 +/- 0.000  \n",
       "4                            nan +/- nan           nan +/- nan  \n",
       "5                            nan +/- nan           nan +/- nan  \n",
       "6                      22.177 +/- 17.015      13.230 +/- 4.595  \n",
       "7                        0.591 +/- 0.092       0.587 +/- 0.052  "
      ]
     },
     "metadata": {},
     "output_type": "display_data"
    },
    {
     "data": {
      "text/markdown": [
       "# Results for imdb(workedunder) -> cora"
      ],
      "text/plain": [
       "<IPython.core.display.Markdown object>"
      ]
     },
     "metadata": {},
     "output_type": "display_data"
    },
    {
     "data": {
      "text/html": [
       "<div>\n",
       "<table border=\"1\" class=\"dataframe\">\n",
       "  <thead>\n",
       "    <tr style=\"text-align: right;\">\n",
       "      <th></th>\n",
       "      <th>Metric</th>\n",
       "      <th>Transfer Learning</th>\n",
       "      <th>Transfer Learning with Revision Theory</th>\n",
       "      <th>Learning from scratch</th>\n",
       "    </tr>\n",
       "  </thead>\n",
       "  <tbody>\n",
       "    <tr>\n",
       "      <th>0</th>\n",
       "      <td>AUC ROC</td>\n",
       "      <td>0.823 +/- 0.272</td>\n",
       "      <td>0.882 +/- 0.106</td>\n",
       "      <td>0.881 +/- 0.105</td>\n",
       "    </tr>\n",
       "    <tr>\n",
       "      <th>1</th>\n",
       "      <td>AUC PR</td>\n",
       "      <td>0.789 +/- 0.262</td>\n",
       "      <td>0.844 +/- 0.095</td>\n",
       "      <td>0.843 +/- 0.087</td>\n",
       "    </tr>\n",
       "    <tr>\n",
       "      <th>2</th>\n",
       "      <td>CLL</td>\n",
       "      <td>-0.419 +/- 0.281</td>\n",
       "      <td>-0.372 +/- 0.136</td>\n",
       "      <td>-0.373 +/- 0.136</td>\n",
       "    </tr>\n",
       "    <tr>\n",
       "      <th>3</th>\n",
       "      <td>Recall</td>\n",
       "      <td>0.786 +/- 0.786</td>\n",
       "      <td>0.956 +/- 0.075</td>\n",
       "      <td>0.968 +/- 0.063</td>\n",
       "    </tr>\n",
       "    <tr>\n",
       "      <th>4</th>\n",
       "      <td>F1</td>\n",
       "      <td>nan +/- nan</td>\n",
       "      <td>0.883 +/- 0.060</td>\n",
       "      <td>0.887 +/- 0.067</td>\n",
       "    </tr>\n",
       "    <tr>\n",
       "      <th>5</th>\n",
       "      <td>Precision</td>\n",
       "      <td>nan +/- nan</td>\n",
       "      <td>0.824 +/- 0.103</td>\n",
       "      <td>0.821 +/- 0.099</td>\n",
       "    </tr>\n",
       "    <tr>\n",
       "      <th>6</th>\n",
       "      <td>Learning and Revision time</td>\n",
       "      <td>4624.016 +/- 3439.385</td>\n",
       "      <td>4624.016 +/- 3439.385</td>\n",
       "      <td>1858.362 +/- 386.118</td>\n",
       "    </tr>\n",
       "    <tr>\n",
       "      <th>7</th>\n",
       "      <td>Inference time</td>\n",
       "      <td>2.135 +/- 1.537</td>\n",
       "      <td>3.552 +/- 4.149</td>\n",
       "      <td>2.208 +/- 1.054</td>\n",
       "    </tr>\n",
       "  </tbody>\n",
       "</table>\n",
       "</div>"
      ],
      "text/plain": [
       "                       Metric      Transfer Learning  \\\n",
       "0                     AUC ROC        0.823 +/- 0.272   \n",
       "1                      AUC PR        0.789 +/- 0.262   \n",
       "2                         CLL       -0.419 +/- 0.281   \n",
       "3                      Recall        0.786 +/- 0.786   \n",
       "4                          F1            nan +/- nan   \n",
       "5                   Precision            nan +/- nan   \n",
       "6  Learning and Revision time  4624.016 +/- 3439.385   \n",
       "7              Inference time        2.135 +/- 1.537   \n",
       "\n",
       "  Transfer Learning with Revision Theory Learning from scratch  \n",
       "0                        0.882 +/- 0.106       0.881 +/- 0.105  \n",
       "1                        0.844 +/- 0.095       0.843 +/- 0.087  \n",
       "2                       -0.372 +/- 0.136      -0.373 +/- 0.136  \n",
       "3                        0.956 +/- 0.075       0.968 +/- 0.063  \n",
       "4                        0.883 +/- 0.060       0.887 +/- 0.067  \n",
       "5                        0.824 +/- 0.103       0.821 +/- 0.099  \n",
       "6                  4624.016 +/- 3439.385  1858.362 +/- 386.118  \n",
       "7                        3.552 +/- 4.149       2.208 +/- 1.054  "
      ]
     },
     "metadata": {},
     "output_type": "display_data"
    },
    {
     "data": {
      "text/markdown": [
       "# Results for imdb(movie) -> cora"
      ],
      "text/plain": [
       "<IPython.core.display.Markdown object>"
      ]
     },
     "metadata": {},
     "output_type": "display_data"
    },
    {
     "data": {
      "text/html": [
       "<div>\n",
       "<table border=\"1\" class=\"dataframe\">\n",
       "  <thead>\n",
       "    <tr style=\"text-align: right;\">\n",
       "      <th></th>\n",
       "      <th>Metric</th>\n",
       "      <th>Transfer Learning</th>\n",
       "      <th>Transfer Learning with Revision Theory</th>\n",
       "      <th>Learning from scratch</th>\n",
       "    </tr>\n",
       "  </thead>\n",
       "  <tbody>\n",
       "    <tr>\n",
       "      <th>0</th>\n",
       "      <td>AUC ROC</td>\n",
       "      <td>1.000 +/- 0.000</td>\n",
       "      <td>1.000 +/- 0.000</td>\n",
       "      <td>1.000 +/- 0.000</td>\n",
       "    </tr>\n",
       "    <tr>\n",
       "      <th>1</th>\n",
       "      <td>AUC PR</td>\n",
       "      <td>1.000 +/- 0.000</td>\n",
       "      <td>1.000 +/- 0.000</td>\n",
       "      <td>1.000 +/- 0.000</td>\n",
       "    </tr>\n",
       "    <tr>\n",
       "      <th>2</th>\n",
       "      <td>CLL</td>\n",
       "      <td>-0.153 +/- 0.051</td>\n",
       "      <td>-0.153 +/- 0.051</td>\n",
       "      <td>-0.162 +/- 0.078</td>\n",
       "    </tr>\n",
       "    <tr>\n",
       "      <th>3</th>\n",
       "      <td>Recall</td>\n",
       "      <td>1.000 +/- 0.000</td>\n",
       "      <td>1.000 +/- 0.000</td>\n",
       "      <td>1.000 +/- 0.000</td>\n",
       "    </tr>\n",
       "    <tr>\n",
       "      <th>4</th>\n",
       "      <td>F1</td>\n",
       "      <td>1.000 +/- 0.000</td>\n",
       "      <td>1.000 +/- 0.000</td>\n",
       "      <td>1.000 +/- 0.000</td>\n",
       "    </tr>\n",
       "    <tr>\n",
       "      <th>5</th>\n",
       "      <td>Precision</td>\n",
       "      <td>1.000 +/- 0.000</td>\n",
       "      <td>1.000 +/- 0.000</td>\n",
       "      <td>1.000 +/- 0.000</td>\n",
       "    </tr>\n",
       "    <tr>\n",
       "      <th>6</th>\n",
       "      <td>Learning and Revision time</td>\n",
       "      <td>23.193 +/- 4.871</td>\n",
       "      <td>23.193 +/- 4.871</td>\n",
       "      <td>13.088 +/- 4.447</td>\n",
       "    </tr>\n",
       "    <tr>\n",
       "      <th>7</th>\n",
       "      <td>Inference time</td>\n",
       "      <td>0.554 +/- 0.031</td>\n",
       "      <td>0.564 +/- 0.041</td>\n",
       "      <td>0.551 +/- 0.031</td>\n",
       "    </tr>\n",
       "  </tbody>\n",
       "</table>\n",
       "</div>"
      ],
      "text/plain": [
       "                       Metric Transfer Learning  \\\n",
       "0                     AUC ROC   1.000 +/- 0.000   \n",
       "1                      AUC PR   1.000 +/- 0.000   \n",
       "2                         CLL  -0.153 +/- 0.051   \n",
       "3                      Recall   1.000 +/- 0.000   \n",
       "4                          F1   1.000 +/- 0.000   \n",
       "5                   Precision   1.000 +/- 0.000   \n",
       "6  Learning and Revision time  23.193 +/- 4.871   \n",
       "7              Inference time   0.554 +/- 0.031   \n",
       "\n",
       "  Transfer Learning with Revision Theory Learning from scratch  \n",
       "0                        1.000 +/- 0.000       1.000 +/- 0.000  \n",
       "1                        1.000 +/- 0.000       1.000 +/- 0.000  \n",
       "2                       -0.153 +/- 0.051      -0.162 +/- 0.078  \n",
       "3                        1.000 +/- 0.000       1.000 +/- 0.000  \n",
       "4                        1.000 +/- 0.000       1.000 +/- 0.000  \n",
       "5                        1.000 +/- 0.000       1.000 +/- 0.000  \n",
       "6                       23.193 +/- 4.871      13.088 +/- 4.447  \n",
       "7                        0.564 +/- 0.041       0.551 +/- 0.031  "
      ]
     },
     "metadata": {},
     "output_type": "display_data"
    }
   ],
   "source": [
    "experiments = ['imdb(workedunder) -> uwcse',\n",
    "              'imdb(movie) -> uwcse',\n",
    "              'uwcse(advisedby) -> imdb',\n",
    "              'uwcse(publication) -> imdb',\n",
    "              'imdb(workedunder) -> cora',\n",
    "              'imdb(movie) -> cora',\n",
    "              'uwcse(advisedby) -> cora',\n",
    "              'uwcse(publication) -> cora',]\n",
    "\n",
    "for dataset in range(6):\n",
    "    display(Markdown('# Results for ' + experiments[dataset]))\n",
    "    table = []\n",
    "    for metric in ['AUC ROC', 'AUC PR', 'CLL', 'Recall', 'F1', 'Precision', 'Learning and Revision time', 'Inference time']:\n",
    "    #for metric in ['AUC ROC', 'AUC PR']:\n",
    "        #display(Markdown('## ' + metric))\n",
    "        x = []\n",
    "        if metric == 'Precision':\n",
    "            scratch = np.array([item['Precision'][0] for sublist in data['results'][str(dataset)]['scratch'].values() for item in sublist])\n",
    "            parameter = np.array([item['Parameter Learning Results']['Precision'][0] for sublist in data['results'][str(dataset)]['transfer'].values() for item in sublist])\n",
    "            transfer = np.array([item['Precision'][0] for sublist in data['results'][str(dataset)]['transfer'].values() for item in sublist])\n",
    "        elif metric == 'Learning and Revision time':\n",
    "            scratch = np.array([item['Learning time'] for sublist in data['results'][str(dataset)]['scratch'].values() for item in sublist])\n",
    "            parameter = np.array([item['Learning time'] for sublist in data['results'][str(dataset)]['transfer'].values() for item in sublist])\n",
    "            transfer = np.array([item['Learning time'] for sublist in data['results'][str(dataset)]['transfer'].values() for item in sublist])\n",
    "        elif metric == 'Inference time':\n",
    "            scratch = np.array([item['Inference time'] for sublist in data['results'][str(dataset)]['scratch'].values() for item in sublist])\n",
    "            parameter = np.array([item['Parameter Learning Inference Time'] for sublist in data['results'][str(dataset)]['transfer'].values() for item in sublist])\n",
    "            transfer = np.array([item['Inference time'] for sublist in data['results'][str(dataset)]['transfer'].values() for item in sublist])\n",
    "        else:\n",
    "            scratch = np.array([item[metric] for sublist in data['results'][str(dataset)]['scratch'].values() for item in sublist])\n",
    "            parameter = np.array([item['Parameter Learning Results'][metric] for sublist in data['results'][str(dataset)]['transfer'].values() for item in sublist])\n",
    "            transfer = np.array([item[metric] for sublist in data['results'][str(dataset)]['transfer'].values() for item in sublist])\n",
    "        table.append([metric, '%.3f +/- %.3f' % (parameter.mean(), 2 * parameter.std()),\n",
    "        '%.3f +/- %.3f' % (transfer.mean(), 2 * transfer.std()),\n",
    "        '%.3f +/- %.3f' % (scratch.mean(), 2 * scratch.std())])\n",
    "    display(pd.DataFrame(table, columns=['Metric', 'Transfer Learning', 'Transfer Learning with Revision Theory', 'Learning from scratch']))"
   ]
  },
  {
   "cell_type": "code",
   "execution_count": 83,
   "metadata": {
    "collapsed": false
   },
   "outputs": [
    {
     "data": {
      "text/markdown": [
       "# Results for imdb(workedunder) -> uwcse"
      ],
      "text/plain": [
       "<IPython.core.display.Markdown object>"
      ]
     },
     "metadata": {},
     "output_type": "display_data"
    },
    {
     "data": {
      "text/markdown": [
       "## AUC ROC"
      ],
      "text/plain": [
       "<IPython.core.display.Markdown object>"
      ]
     },
     "metadata": {},
     "output_type": "display_data"
    },
    {
     "name": "stdout",
     "output_type": "stream",
     "text": [
      "Scratch: [0.97888  0.971534 0.971534 0.990358 0.968779 0.925781 0.929688 0.921875\n",
      " 0.929688 0.935547 0.95875  0.95875  0.95875  0.95875  0.95875  0.954694\n",
      " 0.961224 0.947755 0.95551  0.95551  1.       1.       1.       1.\n",
      " 1.      ]\n",
      "Transfer: [0.96786  0.990817 0.979339 0.979798 0.971534 0.917969 0.929688 0.941406\n",
      " 0.925781 0.929688 0.95875  0.95875  0.97125  0.95875  0.95875  0.685714\n",
      " 0.685714 0.685714 0.95551  0.685714 1.       1.       1.       1.\n",
      " 1.      ]\n",
      "Transfer & Revision: [0.96786  0.990817 0.979339 0.979798 0.971534 0.917969 0.929688 0.941406\n",
      " 0.925781 0.929688 0.95875  0.95875  0.97125  0.95875  0.95875  0.933061\n",
      " 0.949796 0.957143 0.936735 0.947347 1.       1.       1.       1.\n",
      " 1.      ]\n"
     ]
    },
    {
     "data": {
      "text/markdown": [
       "## AUC PR"
      ],
      "text/plain": [
       "<IPython.core.display.Markdown object>"
      ]
     },
     "metadata": {},
     "output_type": "display_data"
    },
    {
     "name": "stdout",
     "output_type": "stream",
     "text": [
      "Scratch: [0.972753 0.951623 0.951623 0.990289 0.937109 0.915087 0.918753 0.906634\n",
      " 0.918753 0.926734 0.923089 0.923089 0.923089 0.923089 0.923089 0.937043\n",
      " 0.948947 0.924167 0.934894 0.930072 1.       1.       1.       1.\n",
      " 1.      ]\n",
      "Transfer: [0.927247 0.990803 0.97316  0.973684 0.951623 0.896831 0.918753 0.934997\n",
      " 0.910299 0.918753 0.923089 0.923089 0.960371 0.923089 0.923089 0.741664\n",
      " 0.741664 0.741664 0.923361 0.741664 1.       1.       1.       1.\n",
      " 1.      ]\n",
      "Transfer & Revision: [0.927247 0.990803 0.97316  0.973684 0.951623 0.896831 0.918753 0.934997\n",
      " 0.910299 0.918753 0.923089 0.923089 0.960371 0.923089 0.923089 0.870392\n",
      " 0.917392 0.939832 0.865302 0.879469 1.       1.       1.       1.\n",
      " 1.      ]\n"
     ]
    },
    {
     "data": {
      "text/markdown": [
       "## CLL"
      ],
      "text/plain": [
       "<IPython.core.display.Markdown object>"
      ]
     },
     "metadata": {},
     "output_type": "display_data"
    },
    {
     "name": "stdout",
     "output_type": "stream",
     "text": [
      "Scratch: [-0.21125  -0.214844 -0.214944 -0.214679 -0.219975 -0.306602 -0.312716\n",
      " -0.317059 -0.311048 -0.305804 -0.187094 -0.180238 -0.183314 -0.180687\n",
      " -0.19062  -0.220754 -0.214745 -0.225624 -0.214528 -0.212211 -0.118343\n",
      " -0.131158 -0.131984 -0.119836 -0.123689]\n",
      "Transfer: [-0.21323  -0.213178 -0.208367 -0.211453 -0.216952 -0.309664 -0.313798\n",
      " -0.299718 -0.313262 -0.306906 -0.188386 -0.178883 -0.177807 -0.186264\n",
      " -0.184292 -0.578345 -0.578345 -0.578345 -0.457023 -0.578345 -0.119873\n",
      " -0.122315 -0.118926 -0.122478 -0.125655]\n",
      "Transfer & Revision: [-0.21323  -0.213178 -0.208367 -0.211453 -0.216952 -0.309664 -0.313798\n",
      " -0.299718 -0.313262 -0.306906 -0.188386 -0.178883 -0.177807 -0.186264\n",
      " -0.184292 -0.214994 -0.216213 -0.215863 -0.217827 -0.215923 -0.119873\n",
      " -0.122315 -0.118926 -0.122478 -0.125655]\n"
     ]
    },
    {
     "data": {
      "text/markdown": [
       "## Recall"
      ],
      "text/plain": [
       "<IPython.core.display.Markdown object>"
      ]
     },
     "metadata": {},
     "output_type": "display_data"
    },
    {
     "name": "stdout",
     "output_type": "stream",
     "text": [
      "Scratch: [0.909091 0.909091 0.909091 0.939394 0.909091 1.       1.       1.\n",
      " 1.       1.       1.       1.       1.       1.       0.95     0.942857\n",
      " 1.       0.971429 0.971429 1.       1.       1.       1.       1.\n",
      " 1.      ]\n",
      "Transfer: [0.909091 0.909091 0.939394 0.909091 0.939394 1.       1.       1.\n",
      " 1.       1.       1.       1.       1.       0.95     1.       0.4\n",
      " 0.4      0.4      0.628571 0.4      1.       1.       1.       1.\n",
      " 1.      ]\n",
      "Transfer & Revision: [0.909091 0.909091 0.939394 0.909091 0.939394 1.       1.       1.\n",
      " 1.       1.       1.       1.       1.       0.95     1.       1.\n",
      " 1.       1.       1.       1.       1.       1.       1.       1.\n",
      " 1.      ]\n"
     ]
    },
    {
     "data": {
      "text/markdown": [
       "## F1"
      ],
      "text/plain": [
       "<IPython.core.display.Markdown object>"
      ]
     },
     "metadata": {},
     "output_type": "display_data"
    },
    {
     "name": "stdout",
     "output_type": "stream",
     "text": [
      "Scratch: [0.923077 0.923077 0.923077 0.939394 0.923077 0.914286 0.888889 0.888889\n",
      " 0.888889 0.914286 0.97561  0.97561  0.97561  0.97561  0.95     0.929577\n",
      " 0.958904 0.944444 0.944444 0.958904 1.       1.       1.       1.\n",
      " 1.      ]\n",
      "Transfer: [0.923077 0.923077 0.939394 0.923077 0.939394 0.914286 0.888889 0.914286\n",
      " 0.888889 0.914286 0.97561  0.97561  0.97561  0.95     0.97561  0.56\n",
      " 0.56     0.56     0.745763 0.56     1.       1.       1.       1.\n",
      " 1.      ]\n",
      "Transfer & Revision: [0.923077 0.923077 0.939394 0.923077 0.939394 0.914286 0.888889 0.914286\n",
      " 0.888889 0.914286 0.97561  0.97561  0.97561  0.95     0.97561  0.958904\n",
      " 0.958904 0.958904 0.958904 0.958904 1.       1.       1.       1.\n",
      " 1.      ]\n"
     ]
    },
    {
     "data": {
      "text/markdown": [
       "## Precision"
      ],
      "text/plain": [
       "<IPython.core.display.Markdown object>"
      ]
     },
     "metadata": {},
     "output_type": "display_data"
    },
    {
     "name": "stdout",
     "output_type": "stream",
     "text": [
      "Scratch: [0.9375   0.9375   0.9375   0.939394 0.9375   0.842105 0.8      0.8\n",
      " 0.8      0.842105 0.952381 0.952381 0.952381 0.952381 0.95     0.916667\n",
      " 0.921053 0.918919 0.918919 0.921053 1.       1.       1.       1.\n",
      " 1.      ]\n",
      "Transfer: [0.9375   0.9375   0.939394 0.9375   0.939394 0.842105 0.8      0.842105\n",
      " 0.8      0.842105 0.952381 0.952381 0.952381 0.95     0.952381 0.933333\n",
      " 0.933333 0.933333 0.916667 0.933333 1.       1.       1.       1.\n",
      " 1.      ]\n",
      "Transfer & Revision: [0.9375   0.9375   0.939394 0.9375   0.939394 0.842105 0.8      0.842105\n",
      " 0.8      0.842105 0.952381 0.952381 0.952381 0.95     0.952381 0.921053\n",
      " 0.921053 0.921053 0.921053 0.921053 1.       1.       1.       1.\n",
      " 1.      ]\n"
     ]
    },
    {
     "data": {
      "text/markdown": [
       "## Learning and Revision time"
      ],
      "text/plain": [
       "<IPython.core.display.Markdown object>"
      ]
     },
     "metadata": {},
     "output_type": "display_data"
    },
    {
     "name": "stdout",
     "output_type": "stream",
     "text": [
      "Scratch: [31.625 29.249 32.497 27.93  34.481 15.111 16.679 14.536 16.259 20.031\n",
      " 35.416 27.063 22.945 22.286 29.016 21.365 46.99  75.846 28.411 20.63\n",
      " 17.962 24.012 28.408 16.785 16.887]\n",
      "Transfer: [ 36.555  40.271  47.597  42.847  33.934  25.573  24.86   24.936  30.928\n",
      "  27.086  31.691  34.829  48.387  40.65   36.724 192.181  70.193  93.795\n",
      " 129.445 151.469  32.713  24.775  41.755  46.588  35.267]\n",
      "Transfer & Revision: [ 36.555  40.271  47.597  42.847  33.934  25.573  24.86   24.936  30.928\n",
      "  27.086  31.691  34.829  48.387  40.65   36.724 192.181  70.193  93.795\n",
      " 129.445 151.469  32.713  24.775  41.755  46.588  35.267]\n"
     ]
    },
    {
     "data": {
      "text/markdown": [
       "## Inference time"
      ],
      "text/plain": [
       "<IPython.core.display.Markdown object>"
      ]
     },
     "metadata": {},
     "output_type": "display_data"
    },
    {
     "name": "stdout",
     "output_type": "stream",
     "text": [
      "Scratch: [0.712 0.73  0.745 0.702 0.715 0.641 0.621 0.598 0.625 0.615 0.667 0.643\n",
      " 0.646 0.63  0.642 0.719 0.717 0.772 0.689 0.68  0.556 0.559 0.566 0.596\n",
      " 0.571]\n",
      "Transfer: [0.754 0.743 0.698 0.731 0.721 0.625 0.6   0.651 0.623 0.616 0.612 0.656\n",
      " 0.646 0.625 0.649 0.608 0.616 0.599 0.603 0.595 0.578 0.604 0.566 0.583\n",
      " 0.566]\n",
      "Transfer & Revision: [0.737 0.723 0.704 0.726 0.709 0.608 0.614 0.619 0.618 0.62  0.629 0.635\n",
      " 0.655 0.642 0.645 0.696 0.71  0.684 0.714 0.691 0.567 0.641 0.581 0.555\n",
      " 0.573]\n"
     ]
    },
    {
     "data": {
      "text/markdown": [
       "# Results for imdb(movie) -> uwcse"
      ],
      "text/plain": [
       "<IPython.core.display.Markdown object>"
      ]
     },
     "metadata": {},
     "output_type": "display_data"
    },
    {
     "data": {
      "text/markdown": [
       "## AUC ROC"
      ],
      "text/plain": [
       "<IPython.core.display.Markdown object>"
      ]
     },
     "metadata": {},
     "output_type": "display_data"
    },
    {
     "name": "stdout",
     "output_type": "stream",
     "text": [
      "Scratch: [0.544903 0.571137 0.573883 0.551542 0.566039 0.686783 0.686384 0.683992\n",
      " 0.671556 0.69874  0.55592  0.554419 0.554419 0.531901 0.520266 0.687359\n",
      " 0.687359 0.687359 0.687359 0.687359 0.5      0.5      0.5      0.5\n",
      " 0.5     ]\n",
      "Transfer: [0.573481 0.628629 0.560819 0.576185 0.574235 0.673948 0.683992 0.673948\n",
      " 0.684232 0.696189 0.551135 0.554419 0.456465 0.554419 0.554419 0.681507\n",
      " 0.681507 0.681507 0.681507 0.681507 0.5      0.5      0.5      0.5\n",
      " 0.5     ]\n",
      "Transfer & Revision: [0.573481 0.628448 0.560819 0.576185 0.574235 0.673948 0.683992 0.673948\n",
      " 0.684232 0.696189 0.526553 0.548039 0.409176 0.554419 0.547288 0.681507\n",
      " 0.681507 0.681507 0.681507 0.681507 0.5      0.5      0.5      0.5\n",
      " 0.5     ]\n"
     ]
    },
    {
     "data": {
      "text/markdown": [
       "## AUC PR"
      ],
      "text/plain": [
       "<IPython.core.display.Markdown object>"
      ]
     },
     "metadata": {},
     "output_type": "display_data"
    },
    {
     "name": "stdout",
     "output_type": "stream",
     "text": [
      "Scratch: [0.544207 0.553676 0.552499 0.544193 0.548584 0.637009 0.661531 0.659486\n",
      " 0.628046 0.665953 0.593616 0.593219 0.593219 0.583629 0.486068 0.599874\n",
      " 0.599874 0.599874 0.599874 0.599874 0.47669  0.47669  0.47669  0.47669\n",
      " 0.47669 ]\n",
      "Transfer: [0.554626 0.591417 0.54685  0.556875 0.556185 0.629654 0.659486 0.629654\n",
      " 0.635754 0.664698 0.591217 0.593219 0.447251 0.593219 0.593219 0.647725\n",
      " 0.647725 0.647725 0.647725 0.647725 0.47669  0.47669  0.47669  0.47669\n",
      " 0.47669 ]\n",
      "Transfer & Revision: [0.554626 0.591291 0.54685  0.556875 0.556185 0.629654 0.659486 0.629654\n",
      " 0.635754 0.664698 0.574674 0.583713 0.431141 0.593219 0.583452 0.647725\n",
      " 0.647725 0.647725 0.647725 0.647725 0.47669  0.47669  0.47669  0.47669\n",
      " 0.47669 ]\n"
     ]
    },
    {
     "data": {
      "text/markdown": [
       "## CLL"
      ],
      "text/plain": [
       "<IPython.core.display.Markdown object>"
      ]
     },
     "metadata": {},
     "output_type": "display_data"
    },
    {
     "name": "stdout",
     "output_type": "stream",
     "text": [
      "Scratch: [-0.774267 -0.765274 -0.760761 -0.77903  -0.765967 -0.641498 -0.641074\n",
      " -0.644812 -0.65137  -0.643361 -0.792207 -0.782506 -0.76035  -0.800831\n",
      " -0.824232 -0.630165 -0.634027 -0.633237 -0.633118 -0.630611 -0.752549\n",
      " -0.755231 -0.757072 -0.743146 -0.749661]\n",
      "Transfer: [-0.745236 -0.741874 -0.79157  -0.750371 -0.722568 -0.650502 -0.638684\n",
      " -0.650007 -0.642452 -0.642976 -0.792753 -0.775633 -0.837901 -0.819047\n",
      " -0.735427 -0.632959 -0.632959 -0.632959 -0.632959 -0.632959 -0.748219\n",
      " -0.745581 -0.745932 -0.747934 -0.756315]\n",
      "Transfer & Revision: [-0.745236 -0.74092  -0.79157  -0.750371 -0.722568 -0.650502 -0.638684\n",
      " -0.650007 -0.642452 -0.642976 -0.785909 -0.773767 -0.841245 -0.819047\n",
      " -0.727374 -0.632959 -0.632959 -0.632959 -0.632959 -0.632959 -0.748219\n",
      " -0.745581 -0.745932 -0.747934 -0.762146]\n"
     ]
    },
    {
     "data": {
      "text/markdown": [
       "## Recall"
      ],
      "text/plain": [
       "<IPython.core.display.Markdown object>"
      ]
     },
     "metadata": {},
     "output_type": "display_data"
    },
    {
     "name": "stdout",
     "output_type": "stream",
     "text": [
      "Scratch: [0.497976 0.421053 0.421053 0.421053 0.421053 0.669643 0.669643 0.803571\n",
      " 0.732143 0.732143 0.       0.178082 0.       0.       0.       0.633562\n",
      " 0.633562 0.633562 0.633562 0.633562 0.2      0.2      0.2      0.2\n",
      " 0.2     ]\n",
      "Transfer: [0.421053 0.497976 0.421053 0.497976 0.497976 0.866071 0.669643 0.732143\n",
      " 0.803571 0.803571 0.       0.       0.       0.       0.178082 0.671233\n",
      " 0.671233 0.671233 0.671233 0.671233 0.2      0.2      0.2      0.2\n",
      " 0.2     ]\n",
      "Transfer & Revision: [0.421053 0.497976 0.421053 0.497976 0.497976 0.866071 0.669643 0.732143\n",
      " 0.803571 0.803571 0.       0.       0.       0.       0.178082 0.671233\n",
      " 0.671233 0.671233 0.671233 0.671233 0.2      0.2      0.2      0.2\n",
      " 0.2     ]\n"
     ]
    },
    {
     "data": {
      "text/markdown": [
       "## F1"
      ],
      "text/plain": [
       "<IPython.core.display.Markdown object>"
      ]
     },
     "metadata": {},
     "output_type": "display_data"
    },
    {
     "name": "stdout",
     "output_type": "stream",
     "text": [
      "Scratch: [0.562929 0.501205 0.501205 0.501205 0.501205 0.669643 0.669643 0.679245\n",
      " 0.680498 0.680498      nan 0.295455      nan      nan      nan 0.663082\n",
      " 0.663082 0.663082 0.663082 0.663082 0.266667 0.266667 0.266667 0.266667\n",
      " 0.266667]\n",
      "Transfer: [0.501205 0.562929 0.501205 0.562929 0.562929 0.687943 0.669643 0.680498\n",
      " 0.679245 0.679245      nan      nan      nan      nan 0.295455 0.678201\n",
      " 0.678201 0.678201 0.678201 0.678201 0.266667 0.266667 0.266667 0.266667\n",
      " 0.266667]\n",
      "Transfer & Revision: [0.501205 0.562929 0.501205 0.562929 0.562929 0.687943 0.669643 0.680498\n",
      " 0.679245 0.679245      nan      nan      nan      nan 0.295455 0.678201\n",
      " 0.678201 0.678201 0.678201 0.678201 0.266667 0.266667 0.266667 0.266667\n",
      " 0.266667]\n"
     ]
    },
    {
     "data": {
      "text/markdown": [
       "## Precision"
      ],
      "text/plain": [
       "<IPython.core.display.Markdown object>"
      ]
     },
     "metadata": {},
     "output_type": "display_data"
    },
    {
     "name": "stdout",
     "output_type": "stream",
     "text": [
      "Scratch: [0.647368 0.619048 0.619048 0.619048 0.619048 0.669643 0.669643 0.588235\n",
      " 0.635659 0.635659      nan 0.866667      nan      nan      nan 0.695489\n",
      " 0.695489 0.695489 0.695489 0.695489 0.4      0.4      0.4      0.4\n",
      " 0.4     ]\n",
      "Transfer: [0.619048 0.647368 0.619048 0.647368 0.647368 0.570588 0.669643 0.635659\n",
      " 0.588235 0.588235      nan      nan      nan      nan 0.866667 0.685315\n",
      " 0.685315 0.685315 0.685315 0.685315 0.4      0.4      0.4      0.4\n",
      " 0.4     ]\n",
      "Transfer & Revision: [0.619048 0.647368 0.619048 0.647368 0.647368 0.570588 0.669643 0.635659\n",
      " 0.588235 0.588235      nan      nan      nan      nan 0.866667 0.685315\n",
      " 0.685315 0.685315 0.685315 0.685315 0.4      0.4      0.4      0.4\n",
      " 0.4     ]\n"
     ]
    },
    {
     "data": {
      "text/markdown": [
       "## Learning and Revision time"
      ],
      "text/plain": [
       "<IPython.core.display.Markdown object>"
      ]
     },
     "metadata": {},
     "output_type": "display_data"
    },
    {
     "name": "stdout",
     "output_type": "stream",
     "text": [
      "Scratch: [ 48.8   139.011  73.224  67.158  52.132  98.249  89.482 113.193 141.566\n",
      "  91.432 515.081 175.726  64.885 215.741  88.956  57.681  59.104  57.33\n",
      "  55.339  55.273  96.534 123.632 110.842  89.593  94.989]\n",
      "Transfer: [119.558 131.76   63.481 114.041  83.312 253.551 173.197 214.688 128.572\n",
      " 156.529 288.506 467.152 536.281 549.854 271.474  56.327  69.207  63.035\n",
      "  58.628  50.097 145.103 141.087 139.978 224.84  233.118]\n",
      "Transfer & Revision: [119.558 131.76   63.481 114.041  83.312 253.551 173.197 214.688 128.572\n",
      " 156.529 288.506 467.152 536.281 549.854 271.474  56.327  69.207  63.035\n",
      "  58.628  50.097 145.103 141.087 139.978 224.84  233.118]\n"
     ]
    },
    {
     "data": {
      "text/markdown": [
       "## Inference time"
      ],
      "text/plain": [
       "<IPython.core.display.Markdown object>"
      ]
     },
     "metadata": {},
     "output_type": "display_data"
    },
    {
     "name": "stdout",
     "output_type": "stream",
     "text": [
      "Scratch: [0.868 0.882 0.825 0.839 0.817 0.745 0.706 0.727 0.734 0.727 0.729 0.708\n",
      " 0.715 0.72  0.73  0.883 0.865 0.867 0.861 0.86  0.557 0.549 0.579 0.578\n",
      " 0.592]\n",
      "Transfer: [0.866 0.844 0.816 0.843 0.877 0.738 0.714 0.744 0.699 0.718 0.705 0.704\n",
      " 0.736 0.72  0.706 0.712 0.716 0.735 0.762 0.722 0.558 0.539 0.606 0.601\n",
      " 0.567]\n",
      "Transfer & Revision: [0.836 0.834 0.826 0.879 0.858 0.712 0.707 0.716 0.756 0.708 0.688 0.774\n",
      " 0.747 0.708 0.699 0.708 0.774 0.721 0.748 0.731 0.599 0.58  0.568 0.563\n",
      " 0.57 ]\n"
     ]
    },
    {
     "data": {
      "text/markdown": [
       "# Results for uwcse(advisedby) -> imdb"
      ],
      "text/plain": [
       "<IPython.core.display.Markdown object>"
      ]
     },
     "metadata": {},
     "output_type": "display_data"
    },
    {
     "data": {
      "text/markdown": [
       "## AUC ROC"
      ],
      "text/plain": [
       "<IPython.core.display.Markdown object>"
      ]
     },
     "metadata": {},
     "output_type": "display_data"
    },
    {
     "name": "stdout",
     "output_type": "stream",
     "text": [
      "Scratch: [1. 1. 1. 1. 1. 1. 1. 1. 1. 1. 1. 1. 1. 1. 1. 1. 1. 1. 1. 1. 1. 1. 1. 1.\n",
      " 1.]\n",
      "Transfer: [1.       1.       1.       1.       1.       1.       1.       1.\n",
      " 1.       1.       1.       1.       1.       1.       1.       0.852041\n",
      " 0.741071 0.741071 0.741071 0.741071 1.       1.       1.       1.\n",
      " 1.      ]\n",
      "Transfer & Revision: [1.       1.       1.       1.       1.       1.       1.       1.\n",
      " 1.       1.       1.       1.       1.       1.       1.       1.\n",
      " 1.       1.       0.741071 1.       1.       1.       1.       1.\n",
      " 1.      ]\n"
     ]
    },
    {
     "data": {
      "text/markdown": [
       "## AUC PR"
      ],
      "text/plain": [
       "<IPython.core.display.Markdown object>"
      ]
     },
     "metadata": {},
     "output_type": "display_data"
    },
    {
     "name": "stdout",
     "output_type": "stream",
     "text": [
      "Scratch: [1. 1. 1. 1. 1. 1. 1. 1. 1. 1. 1. 1. 1. 1. 1. 1. 1. 1. 1. 1. 1. 1. 1. 1.\n",
      " 1.]\n",
      "Transfer: [1.       1.       1.       1.       1.       1.       1.       1.\n",
      " 1.       1.       1.       1.       1.       1.       1.       0.870461\n",
      " 0.813103 0.813103 0.813103 0.813103 1.       1.       1.       1.\n",
      " 1.      ]\n",
      "Transfer & Revision: [1.       1.       1.       1.       1.       1.       1.       1.\n",
      " 1.       1.       1.       1.       1.       1.       1.       1.\n",
      " 1.       1.       0.813103 1.       1.       1.       1.       1.\n",
      " 1.      ]\n"
     ]
    },
    {
     "data": {
      "text/markdown": [
       "## CLL"
      ],
      "text/plain": [
       "<IPython.core.display.Markdown object>"
      ]
     },
     "metadata": {},
     "output_type": "display_data"
    },
    {
     "name": "stdout",
     "output_type": "stream",
     "text": [
      "Scratch: [-0.105012 -0.106195 -0.104989 -0.1049   -0.10505  -0.094637 -0.094637\n",
      " -0.094637 -0.094775 -0.094637 -0.094637 -0.094789 -0.094637 -0.094637\n",
      " -0.094637 -0.09553  -0.09553  -0.09553  -0.09553  -0.09553  -0.097278\n",
      " -0.097294 -0.097466 -0.097466 -0.097466]\n",
      "Transfer: [-0.10616  -0.10505  -0.104903 -0.10505  -0.105011 -0.094803 -0.094637\n",
      " -0.094637 -0.094637 -0.094637 -0.094804 -0.094815 -0.094637 -0.094637\n",
      " -0.094637 -0.490091 -0.518505 -0.519595 -0.518489 -0.518067 -0.097293\n",
      " -0.097466 -0.097466 -0.097496 -0.09725 ]\n",
      "Transfer & Revision: [-0.10616  -0.10505  -0.104903 -0.10505  -0.105011 -0.094803 -0.094637\n",
      " -0.094637 -0.094637 -0.094637 -0.094804 -0.094815 -0.094637 -0.094637\n",
      " -0.094637 -0.351352 -0.36876  -0.277293 -0.518489 -0.276426 -0.097293\n",
      " -0.097466 -0.097466 -0.097496 -0.09725 ]\n"
     ]
    },
    {
     "data": {
      "text/markdown": [
       "## Recall"
      ],
      "text/plain": [
       "<IPython.core.display.Markdown object>"
      ]
     },
     "metadata": {},
     "output_type": "display_data"
    },
    {
     "name": "stdout",
     "output_type": "stream",
     "text": [
      "Scratch: [1. 1. 1. 1. 1. 1. 1. 1. 1. 1. 1. 1. 1. 1. 1. 1. 1. 1. 1. 1. 1. 1. 1. 1.\n",
      " 1.]\n",
      "Transfer: [1.       1.       1.       1.       1.       1.       1.       1.\n",
      " 1.       1.       1.       1.       1.       1.       1.       0.482143\n",
      " 0.482143 0.482143 0.482143 0.482143 1.       1.       1.       1.\n",
      " 1.      ]\n",
      "Transfer & Revision: [1.       1.       1.       1.       1.       1.       1.       1.\n",
      " 1.       1.       1.       1.       1.       1.       1.       1.\n",
      " 0.482143 1.       0.482143 1.       1.       1.       1.       1.\n",
      " 1.      ]\n"
     ]
    },
    {
     "data": {
      "text/markdown": [
       "## F1"
      ],
      "text/plain": [
       "<IPython.core.display.Markdown object>"
      ]
     },
     "metadata": {},
     "output_type": "display_data"
    },
    {
     "name": "stdout",
     "output_type": "stream",
     "text": [
      "Scratch: [0.989011 0.989011 0.989011 0.989011 0.989011 1.       1.       1.\n",
      " 1.       1.       1.       1.       1.       1.       1.       1.\n",
      " 1.       1.       1.       1.       1.       1.       1.       1.\n",
      " 1.      ]\n",
      "Transfer: [0.989011 0.989011 0.989011 0.989011 0.989011 1.       1.       1.\n",
      " 1.       1.       1.       1.       1.       1.       1.       0.650602\n",
      " 0.650602 0.650602 0.650602 0.650602 1.       1.       1.       1.\n",
      " 1.      ]\n",
      "Transfer & Revision: [0.989011 0.989011 0.989011 0.989011 0.989011 1.       1.       1.\n",
      " 1.       1.       1.       1.       1.       1.       1.       1.\n",
      " 0.650602 1.       0.650602 1.       1.       1.       1.       1.\n",
      " 1.      ]\n"
     ]
    },
    {
     "data": {
      "text/markdown": [
       "## Precision"
      ],
      "text/plain": [
       "<IPython.core.display.Markdown object>"
      ]
     },
     "metadata": {},
     "output_type": "display_data"
    },
    {
     "name": "stdout",
     "output_type": "stream",
     "text": [
      "Scratch: [0.978261 0.978261 0.978261 0.978261 0.978261 1.       1.       1.\n",
      " 1.       1.       1.       1.       1.       1.       1.       1.\n",
      " 1.       1.       1.       1.       1.       1.       1.       1.\n",
      " 1.      ]\n",
      "Transfer: [0.978261 0.978261 0.978261 0.978261 0.978261 1.       1.       1.\n",
      " 1.       1.       1.       1.       1.       1.       1.       1.\n",
      " 1.       1.       1.       1.       1.       1.       1.       1.\n",
      " 1.      ]\n",
      "Transfer & Revision: [0.978261 0.978261 0.978261 0.978261 0.978261 1.       1.       1.\n",
      " 1.       1.       1.       1.       1.       1.       1.       1.\n",
      " 1.       1.       1.       1.       1.       1.       1.       1.\n",
      " 1.      ]\n"
     ]
    },
    {
     "data": {
      "text/markdown": [
       "## Learning and Revision time"
      ],
      "text/plain": [
       "<IPython.core.display.Markdown object>"
      ]
     },
     "metadata": {},
     "output_type": "display_data"
    },
    {
     "name": "stdout",
     "output_type": "stream",
     "text": [
      "Scratch: [10.629 10.252 11.237 10.898 10.679 10.818  8.725 12.016 12.435 12.254\n",
      "  9.993  8.42  10.231  9.622 10.668 10.94  11.015 11.343 11.173  8.502\n",
      "  6.853  7.038  6.451  7.121  6.922]\n",
      "Transfer: [18.114 20.687 15.762 19.032 20.83  21.657 17.924 19.454 19.054 16.168\n",
      " 17.902 17.161 16.903 16.141 17.603 28.889 28.12  28.642 15.782 26.189\n",
      " 13.598 13.803 11.571 12.927 13.464]\n",
      "Transfer & Revision: [18.114 20.687 15.762 19.032 20.83  21.657 17.924 19.454 19.054 16.168\n",
      " 17.902 17.161 16.903 16.141 17.603 28.889 28.12  28.642 15.782 26.189\n",
      " 13.598 13.803 11.571 12.927 13.464]\n"
     ]
    },
    {
     "data": {
      "text/markdown": [
       "## Inference time"
      ],
      "text/plain": [
       "<IPython.core.display.Markdown object>"
      ]
     },
     "metadata": {},
     "output_type": "display_data"
    },
    {
     "name": "stdout",
     "output_type": "stream",
     "text": [
      "Scratch: [0.583 0.588 0.613 0.616 0.625 0.622 0.619 0.607 0.587 0.584 0.62  0.599\n",
      " 0.63  0.629 0.647 0.597 0.578 0.603 0.611 0.643 0.758 0.728 0.718 0.717\n",
      " 0.718]\n",
      "Transfer: [0.585 0.565 0.588 0.602 0.616 0.638 0.641 0.608 0.644 0.631 0.623 0.605\n",
      " 0.603 0.596 0.598 0.608 0.595 0.599 0.599 0.607 0.737 0.702 0.748 0.743\n",
      " 0.716]\n",
      "Transfer & Revision: [0.606 0.62  0.579 0.585 0.595 0.573 0.582 0.605 0.61  0.637 0.594 0.627\n",
      " 0.602 0.603 0.606 0.587 0.631 0.595 0.612 0.587 0.737 0.693 0.701 0.713\n",
      " 0.731]\n"
     ]
    },
    {
     "data": {
      "text/markdown": [
       "# Results for uwcse(publication) -> imdb"
      ],
      "text/plain": [
       "<IPython.core.display.Markdown object>"
      ]
     },
     "metadata": {},
     "output_type": "display_data"
    },
    {
     "data": {
      "text/markdown": [
       "## AUC ROC"
      ],
      "text/plain": [
       "<IPython.core.display.Markdown object>"
      ]
     },
     "metadata": {},
     "output_type": "display_data"
    },
    {
     "name": "stdout",
     "output_type": "stream",
     "text": [
      "Scratch: [0.501458 0.501458 0.501458 0.501458 0.501458 0.561641 0.561641 0.561641\n",
      " 0.561641 0.561641 0.522633 0.522633 0.522633 0.522633 0.522633 0.432861\n",
      " 0.432861 0.432861 0.432861 0.432861 0.493757 0.493757 0.493757 0.493757\n",
      " 0.493757]\n",
      "Transfer: [0.501458 0.501458 0.501458 0.501458 0.501458 0.561641 0.561641 0.561641\n",
      " 0.561641 0.561641 0.522633 0.522633 0.522633 0.522633 0.522633 0.484375\n",
      " 0.432861 0.484375 0.484375 0.484375 0.493757 0.493757 0.493757 0.493757\n",
      " 0.493757]\n",
      "Transfer & Revision: [0.501458 0.501458 0.501458 0.501458 0.501458 0.561641 0.561641 0.561641\n",
      " 0.561641 0.561641 0.5      0.522633 0.5      0.5      0.5      0.484375\n",
      " 0.432861 0.484375 0.484375 0.484375 0.493757 0.493757 0.493757 0.493757\n",
      " 0.493757]\n"
     ]
    },
    {
     "data": {
      "text/markdown": [
       "## AUC PR"
      ],
      "text/plain": [
       "<IPython.core.display.Markdown object>"
      ]
     },
     "metadata": {},
     "output_type": "display_data"
    },
    {
     "name": "stdout",
     "output_type": "stream",
     "text": [
      "Scratch: [0.506847 0.506847 0.506847 0.506847 0.506847 0.549468 0.549468 0.549468\n",
      " 0.549468 0.549468 0.52097  0.52097  0.52097  0.52097  0.52097  0.458187\n",
      " 0.458187 0.458187 0.458187 0.458187 0.491205 0.491205 0.491205 0.491205\n",
      " 0.491205]\n",
      "Transfer: [0.506847 0.506847 0.506847 0.506847 0.506847 0.549468 0.549468 0.549468\n",
      " 0.549468 0.549468 0.52097  0.52097  0.52097  0.52097  0.52097  0.492063\n",
      " 0.458187 0.492063 0.492063 0.492063 0.491205 0.491205 0.491205 0.491205\n",
      " 0.491205]\n",
      "Transfer & Revision: [0.506847 0.506847 0.506847 0.506847 0.506847 0.549468 0.549468 0.549468\n",
      " 0.549468 0.549468 0.5      0.52097  0.5      0.5      0.5      0.492063\n",
      " 0.458187 0.492063 0.492063 0.492063 0.491205 0.491205 0.491205 0.491205\n",
      " 0.491205]\n"
     ]
    },
    {
     "data": {
      "text/markdown": [
       "## CLL"
      ],
      "text/plain": [
       "<IPython.core.display.Markdown object>"
      ]
     },
     "metadata": {},
     "output_type": "display_data"
    },
    {
     "name": "stdout",
     "output_type": "stream",
     "text": [
      "Scratch: [-0.695448 -0.695448 -0.695448 -0.695448 -0.695448 -0.690026 -0.690026\n",
      " -0.690026 -0.690026 -0.690026 -0.694718 -0.694718 -0.694718 -0.694718\n",
      " -0.694718 -0.699086 -0.699086 -0.699086 -0.699086 -0.699086 -0.697613\n",
      " -0.697613 -0.697613 -0.697613 -0.697613]\n",
      "Transfer: [-0.695448 -0.695448 -0.695448 -0.695448 -0.695448 -0.690026 -0.690026\n",
      " -0.690026 -0.690026 -0.690026 -0.694718 -0.69472  -0.694718 -0.694718\n",
      " -0.694718 -0.69533  -0.696233 -0.695519 -0.695173 -0.695449 -0.697613\n",
      " -0.697613 -0.697613 -0.697613 -0.697613]\n",
      "Transfer & Revision: [-0.695448 -0.695448 -0.695448 -0.695448 -0.695448 -0.690026 -0.690026\n",
      " -0.690026 -0.690026 -0.690026 -0.694856 -0.69472  -0.694856 -0.694856\n",
      " -0.694856 -0.69533  -0.696233 -0.695519 -0.695173 -0.695449 -0.697613\n",
      " -0.697613 -0.697613 -0.697613 -0.697613]\n"
     ]
    },
    {
     "data": {
      "text/markdown": [
       "## Recall"
      ],
      "text/plain": [
       "<IPython.core.display.Markdown object>"
      ]
     },
     "metadata": {},
     "output_type": "display_data"
    },
    {
     "name": "stdout",
     "output_type": "stream",
     "text": [
      "Scratch: [0. 0. 0. 0. 0. 0. 0. 0. 0. 0. 0. 0. 0. 0. 0. 0. 0. 0. 0. 0. 0. 0. 0. 0.\n",
      " 0.]\n",
      "Transfer: [0. 0. 0. 0. 0. 0. 0. 0. 0. 0. 0. 0. 0. 0. 0. 0. 0. 0. 0. 0. 0. 0. 0. 0.\n",
      " 0.]\n",
      "Transfer & Revision: [0. 0. 0. 0. 0. 0. 0. 0. 0. 0. 0. 0. 0. 0. 0. 0. 0. 0. 0. 0. 0. 0. 0. 0.\n",
      " 0.]\n"
     ]
    },
    {
     "data": {
      "text/markdown": [
       "## F1"
      ],
      "text/plain": [
       "<IPython.core.display.Markdown object>"
      ]
     },
     "metadata": {},
     "output_type": "display_data"
    },
    {
     "name": "stdout",
     "output_type": "stream",
     "text": [
      "Scratch: [nan nan nan nan nan nan nan nan nan nan nan nan nan nan nan nan nan nan\n",
      " nan nan nan nan nan nan nan]\n",
      "Transfer: [nan nan nan nan nan nan nan nan nan nan nan nan nan nan nan nan nan nan\n",
      " nan nan nan nan nan nan nan]\n",
      "Transfer & Revision: [nan nan nan nan nan nan nan nan nan nan nan nan nan nan nan nan nan nan\n",
      " nan nan nan nan nan nan nan]\n"
     ]
    },
    {
     "data": {
      "text/markdown": [
       "## Precision"
      ],
      "text/plain": [
       "<IPython.core.display.Markdown object>"
      ]
     },
     "metadata": {},
     "output_type": "display_data"
    },
    {
     "name": "stdout",
     "output_type": "stream",
     "text": [
      "Scratch: [nan nan nan nan nan nan nan nan nan nan nan nan nan nan nan nan nan nan\n",
      " nan nan nan nan nan nan nan]\n",
      "Transfer: [nan nan nan nan nan nan nan nan nan nan nan nan nan nan nan nan nan nan\n",
      " nan nan nan nan nan nan nan]\n",
      "Transfer & Revision: [nan nan nan nan nan nan nan nan nan nan nan nan nan nan nan nan nan nan\n",
      " nan nan nan nan nan nan nan]\n"
     ]
    },
    {
     "data": {
      "text/markdown": [
       "## Learning and Revision time"
      ],
      "text/plain": [
       "<IPython.core.display.Markdown object>"
      ]
     },
     "metadata": {},
     "output_type": "display_data"
    },
    {
     "name": "stdout",
     "output_type": "stream",
     "text": [
      "Scratch: [16.172 15.519 15.48  15.927 14.79  11.459 11.472 10.172 10.271 11.778\n",
      " 14.817 15.029 14.665 14.896 15.099 14.751 14.114 14.397 14.621 14.963\n",
      "  9.082 11.138 10.416  9.076 10.654]\n",
      "Transfer: [23.122 24.401 22.915 23.979 23.406 19.245 17.976 19.458 18.989 20.347\n",
      " 39.864 25.399 40.498 39.504 40.477 14.01  15.207 14.992 15.552 14.375\n",
      " 16.693 14.741 17.137 16.11  16.025]\n",
      "Transfer & Revision: [23.122 24.401 22.915 23.979 23.406 19.245 17.976 19.458 18.989 20.347\n",
      " 39.864 25.399 40.498 39.504 40.477 14.01  15.207 14.992 15.552 14.375\n",
      " 16.693 14.741 17.137 16.11  16.025]\n"
     ]
    },
    {
     "data": {
      "text/markdown": [
       "## Inference time"
      ],
      "text/plain": [
       "<IPython.core.display.Markdown object>"
      ]
     },
     "metadata": {},
     "output_type": "display_data"
    },
    {
     "name": "stdout",
     "output_type": "stream",
     "text": [
      "Scratch: [0.568 0.584 0.562 0.564 0.588 0.594 0.545 0.553 0.547 0.565 0.586 0.596\n",
      " 0.575 0.624 0.575 0.596 0.612 0.575 0.586 0.616 0.581 0.604 0.653 0.631\n",
      " 0.586]\n",
      "Transfer: [0.57  0.569 0.551 0.633 0.608 0.563 0.559 0.583 0.547 0.573 0.585 0.582\n",
      " 0.607 0.581 0.622 0.629 0.748 0.639 0.638 0.599 0.584 0.604 0.578 0.588\n",
      " 0.604]\n",
      "Transfer & Revision: [0.628 0.556 0.578 0.601 0.61  0.573 0.561 0.54  0.583 0.551 0.55  0.567\n",
      " 0.565 0.559 0.551 0.602 0.772 0.635 0.595 0.63  0.622 0.57  0.584 0.579\n",
      " 0.606]\n"
     ]
    },
    {
     "data": {
      "text/markdown": [
       "# Results for imdb(workedunder) -> cora"
      ],
      "text/plain": [
       "<IPython.core.display.Markdown object>"
      ]
     },
     "metadata": {},
     "output_type": "display_data"
    },
    {
     "data": {
      "text/markdown": [
       "## AUC ROC"
      ],
      "text/plain": [
       "<IPython.core.display.Markdown object>"
      ]
     },
     "metadata": {},
     "output_type": "display_data"
    },
    {
     "name": "stdout",
     "output_type": "stream",
     "text": [
      "Scratch: [0.915112 0.915112 0.915112 0.914059 0.915112 0.936022 0.936022 0.936022\n",
      " 0.936022 0.936022 0.786953 0.787332 0.787487 0.786843 0.786932 0.843839\n",
      " 0.869931 0.870296 0.870211 0.870008 0.909874 0.8953   0.909625 0.8953\n",
      " 0.894954]\n",
      "Transfer: [0.915112 0.915195 0.915112 0.915087 0.915112 0.937884 0.936022 0.936022\n",
      " 0.937447 0.937884 0.786219 0.787487 0.786953 0.787487 0.787277 0.572011\n",
      " 0.572011 0.572011 0.572011 0.572011 0.8953   0.909625 0.8953   0.909279\n",
      " 0.909625]\n",
      "Transfer & Revision: [0.915236 0.916139 0.91627  0.915087 0.916259 0.937996 0.936022 0.936022\n",
      " 0.937447 0.937982 0.790148 0.787487 0.786953 0.787487 0.787277 0.870688\n",
      " 0.870809 0.853682 0.853704 0.859493 0.904346 0.909625 0.904346 0.909279\n",
      " 0.909625]\n"
     ]
    },
    {
     "data": {
      "text/markdown": [
       "## AUC PR"
      ],
      "text/plain": [
       "<IPython.core.display.Markdown object>"
      ]
     },
     "metadata": {},
     "output_type": "display_data"
    },
    {
     "name": "stdout",
     "output_type": "stream",
     "text": [
      "Scratch: [0.867778 0.867778 0.867778 0.866248 0.867778 0.902804 0.902804 0.902804\n",
      " 0.902804 0.902804 0.778065 0.781552 0.778274 0.77802  0.778056 0.783018\n",
      " 0.824531 0.828156 0.82809  0.824591 0.862102 0.836403 0.859051 0.836403\n",
      " 0.836268]\n",
      "Transfer: [0.867778 0.869323 0.868517 0.869242 0.867778 0.904872 0.902804 0.902804\n",
      " 0.908674 0.904872 0.780626 0.778274 0.778065 0.778274 0.78153  0.540173\n",
      " 0.540173 0.540173 0.540173 0.540173 0.836403 0.859051 0.836403 0.858915\n",
      " 0.859051]\n",
      "Transfer & Revision: [0.870741 0.875715 0.876521 0.869242 0.876116 0.912182 0.902804 0.902804\n",
      " 0.908674 0.911668 0.787703 0.778274 0.778065 0.778274 0.78153  0.828445\n",
      " 0.825189 0.780536 0.78114  0.791921 0.852425 0.859051 0.852425 0.858915\n",
      " 0.859051]\n"
     ]
    },
    {
     "data": {
      "text/markdown": [
       "## CLL"
      ],
      "text/plain": [
       "<IPython.core.display.Markdown object>"
      ]
     },
     "metadata": {},
     "output_type": "display_data"
    },
    {
     "name": "stdout",
     "output_type": "stream",
     "text": [
      "Scratch: [-0.327444 -0.327393 -0.327403 -0.324438 -0.327325 -0.288971 -0.288908\n",
      " -0.28904  -0.288854 -0.288968 -0.464635 -0.464902 -0.464613 -0.464793\n",
      " -0.465528 -0.445809 -0.441672 -0.435858 -0.438607 -0.441868 -0.338638\n",
      " -0.342798 -0.340286 -0.342763 -0.342813]\n",
      "Transfer: [-0.325609 -0.327483 -0.32745  -0.325428 -0.325584 -0.289402 -0.288907\n",
      " -0.288854 -0.290085 -0.289299 -0.464621 -0.464622 -0.46466  -0.464615\n",
      " -0.464663 -0.674069 -0.674069 -0.674069 -0.674069 -0.674069 -0.342824\n",
      " -0.340283 -0.342803 -0.340274 -0.340234]\n",
      "Transfer & Revision: [-0.321265 -0.321056 -0.321341 -0.325428 -0.321166 -0.297267 -0.288907\n",
      " -0.288854 -0.290085 -0.298322 -0.470188 -0.464622 -0.46466  -0.464615\n",
      " -0.464663 -0.439432 -0.441446 -0.437492 -0.437157 -0.436917 -0.337453\n",
      " -0.340283 -0.338199 -0.340274 -0.340234]\n"
     ]
    },
    {
     "data": {
      "text/markdown": [
       "## Recall"
      ],
      "text/plain": [
       "<IPython.core.display.Markdown object>"
      ]
     },
     "metadata": {},
     "output_type": "display_data"
    },
    {
     "name": "stdout",
     "output_type": "stream",
     "text": [
      "Scratch: [0.975904 0.975904 0.975904 0.975904 0.975904 0.985455 0.985455 0.985455\n",
      " 0.985455 0.985455 1.       1.       1.       1.       1.       0.907609\n",
      " 0.907609 0.907609 0.907609 0.907609 0.969019 0.969019 0.969019 0.969019\n",
      " 0.969019]\n",
      "Transfer: [0.975904 0.975904 0.975904 0.975904 0.975904 0.985455 0.985455 0.985455\n",
      " 0.985455 0.985455 1.       1.       1.       1.       1.       0.\n",
      " 0.       0.       0.       0.       0.969019 0.969019 0.969019 0.969019\n",
      " 0.969019]\n",
      "Transfer & Revision: [0.93842  0.93842  0.975904 0.975904 0.93842  0.890909 0.985455 0.985455\n",
      " 0.985455 0.890909 1.       1.       1.       1.       1.       0.907609\n",
      " 0.907609 0.907609 0.907609 0.907609 0.969019 0.969019 0.969019 0.969019\n",
      " 0.969019]\n"
     ]
    },
    {
     "data": {
      "text/markdown": [
       "## F1"
      ],
      "text/plain": [
       "<IPython.core.display.Markdown object>"
      ]
     },
     "metadata": {},
     "output_type": "display_data"
    },
    {
     "name": "stdout",
     "output_type": "stream",
     "text": [
      "Scratch: [0.90559  0.90559  0.90559  0.90559  0.90559  0.934483 0.934483 0.934483\n",
      " 0.934483 0.934483 0.853821 0.853821 0.853821 0.853821 0.853821 0.844501\n",
      " 0.844501 0.844501 0.844501 0.844501 0.897927 0.897927 0.897927 0.897927\n",
      " 0.897927]\n",
      "Transfer: [0.90559  0.90559  0.90559  0.90559  0.90559  0.934483 0.934483 0.934483\n",
      " 0.934483 0.934483 0.853821 0.853821 0.853821 0.853821 0.853821      nan\n",
      "      nan      nan      nan      nan 0.897927 0.897927 0.897927 0.897927\n",
      " 0.897927]\n",
      "Transfer & Revision: [0.898718 0.898718 0.90559  0.90559  0.898718 0.894161 0.934483 0.934483\n",
      " 0.934483 0.894161 0.853821 0.853821 0.853821 0.853821 0.853821 0.844501\n",
      " 0.844501 0.844501 0.844501 0.844501 0.897927 0.897927 0.897927 0.897927\n",
      " 0.897927]\n"
     ]
    },
    {
     "data": {
      "text/markdown": [
       "## Precision"
      ],
      "text/plain": [
       "<IPython.core.display.Markdown object>"
      ]
     },
     "metadata": {},
     "output_type": "display_data"
    },
    {
     "name": "stdout",
     "output_type": "stream",
     "text": [
      "Scratch: [0.844728 0.844728 0.844728 0.844728 0.844728 0.888525 0.888525 0.888525\n",
      " 0.888525 0.888525 0.744928 0.744928 0.744928 0.744928 0.744928 0.789598\n",
      " 0.789598 0.789598 0.789598 0.789598 0.836553 0.836553 0.836553 0.836553\n",
      " 0.836553]\n",
      "Transfer: [0.844728 0.844728 0.844728 0.844728 0.844728 0.888525 0.888525 0.888525\n",
      " 0.888525 0.888525 0.744928 0.744928 0.744928 0.744928 0.744928      nan\n",
      "      nan      nan      nan      nan 0.836553 0.836553 0.836553 0.836553\n",
      " 0.836553]\n",
      "Transfer & Revision: [0.862239 0.862239 0.844728 0.844728 0.862239 0.897436 0.888525 0.888525\n",
      " 0.888525 0.897436 0.744928 0.744928 0.744928 0.744928 0.744928 0.789598\n",
      " 0.789598 0.789598 0.789598 0.789598 0.836553 0.836553 0.836553 0.836553\n",
      " 0.836553]\n"
     ]
    },
    {
     "data": {
      "text/markdown": [
       "## Learning and Revision time"
      ],
      "text/plain": [
       "<IPython.core.display.Markdown object>"
      ]
     },
     "metadata": {},
     "output_type": "display_data"
    },
    {
     "name": "stdout",
     "output_type": "stream",
     "text": [
      "Scratch: [1705.608 1988.931 1658.769 1662.139 1754.832 1953.553 1952.08  1952.102\n",
      " 1851.489 1934.185 1974.489 1972.087 1872.173 1816.165 1833.622 1935.845\n",
      " 2112.568 2030.399 2052.007 2371.252 1594.647 1789.669 1598.558 1506.139\n",
      " 1585.739]\n",
      "Transfer: [5071.448 6391.439 6907.885 2607.461 4968.359 6107.885 3029.438 2899.459\n",
      " 3131.644 5946.262 5787.124 2879.25  2644.947 2766.46  2978.895 6008.087\n",
      " 5513.273 7422.243 6627.218 7589.637 4953.682 2686.739 5262.542 2932.293\n",
      " 2486.723]\n",
      "Transfer & Revision: [5071.448 6391.439 6907.885 2607.461 4968.359 6107.885 3029.438 2899.459\n",
      " 3131.644 5946.262 5787.124 2879.25  2644.947 2766.46  2978.895 6008.087\n",
      " 5513.273 7422.243 6627.218 7589.637 4953.682 2686.739 5262.542 2932.293\n",
      " 2486.723]\n"
     ]
    },
    {
     "data": {
      "text/markdown": [
       "## Inference time"
      ],
      "text/plain": [
       "<IPython.core.display.Markdown object>"
      ]
     },
     "metadata": {},
     "output_type": "display_data"
    },
    {
     "name": "stdout",
     "output_type": "stream",
     "text": [
      "Scratch: [3.014 3.2   2.96  3.445 2.97  2.042 2.023 2.038 2.053 2.091 2.009 2.297\n",
      " 1.899 1.981 1.981 1.448 1.483 1.691 1.692 1.563 2.367 2.597 2.181 2.12\n",
      " 2.059]\n",
      "Transfer: [3.289 3.313 2.972 3.89  3.143 2.054 2.016 2.044 2.284 2.059 1.964 1.864\n",
      " 2.022 1.927 2.33  1.014 0.999 0.938 0.99  0.961 2.185 2.707 2.133 2.155\n",
      " 2.117]\n",
      "Transfer & Revision: [5.57  9.609 7.97  3.823 6.531 3.695 2.034 2.046 2.355 3.172 4.014 1.891\n",
      " 2.049 1.947 2.097 1.356 1.232 3.496 2.832 3.846 4.52  2.524 5.899 2.15\n",
      " 2.137]\n"
     ]
    },
    {
     "data": {
      "text/markdown": [
       "# Results for imdb(movie) -> cora"
      ],
      "text/plain": [
       "<IPython.core.display.Markdown object>"
      ]
     },
     "metadata": {},
     "output_type": "display_data"
    },
    {
     "data": {
      "text/markdown": [
       "## AUC ROC"
      ],
      "text/plain": [
       "<IPython.core.display.Markdown object>"
      ]
     },
     "metadata": {},
     "output_type": "display_data"
    },
    {
     "name": "stdout",
     "output_type": "stream",
     "text": [
      "Scratch: [1. 1. 1. 1. 1. 1. 1. 1. 1. 1. 1. 1. 1. 1. 1. 1. 1. 1. 1. 1. 1. 1. 1. 1.\n",
      " 1.]\n",
      "Transfer: [1. 1. 1. 1. 1. 1. 1. 1. 1. 1. 1. 1. 1. 1. 1. 1. 1. 1. 1. 1. 1. 1. 1. 1.\n",
      " 1.]\n",
      "Transfer & Revision: [1. 1. 1. 1. 1. 1. 1. 1. 1. 1. 1. 1. 1. 1. 1. 1. 1. 1. 1. 1. 1. 1. 1. 1.\n",
      " 1.]\n"
     ]
    },
    {
     "data": {
      "text/markdown": [
       "## AUC PR"
      ],
      "text/plain": [
       "<IPython.core.display.Markdown object>"
      ]
     },
     "metadata": {},
     "output_type": "display_data"
    },
    {
     "name": "stdout",
     "output_type": "stream",
     "text": [
      "Scratch: [1. 1. 1. 1. 1. 1. 1. 1. 1. 1. 1. 1. 1. 1. 1. 1. 1. 1. 1. 1. 1. 1. 1. 1.\n",
      " 1.]\n",
      "Transfer: [1. 1. 1. 1. 1. 1. 1. 1. 1. 1. 1. 1. 1. 1. 1. 1. 1. 1. 1. 1. 1. 1. 1. 1.\n",
      " 1.]\n",
      "Transfer & Revision: [1. 1. 1. 1. 1. 1. 1. 1. 1. 1. 1. 1. 1. 1. 1. 1. 1. 1. 1. 1. 1. 1. 1. 1.\n",
      " 1.]\n"
     ]
    },
    {
     "data": {
      "text/markdown": [
       "## CLL"
      ],
      "text/plain": [
       "<IPython.core.display.Markdown object>"
      ]
     },
     "metadata": {},
     "output_type": "display_data"
    },
    {
     "name": "stdout",
     "output_type": "stream",
     "text": [
      "Scratch: [-0.194916 -0.143878 -0.126929 -0.143878 -0.126929 -0.143878 -0.143878\n",
      " -0.165752 -0.126929 -0.126929 -0.143878 -0.165752 -0.143878 -0.143878\n",
      " -0.143878 -0.194916 -0.235416 -0.143878 -0.126929 -0.194916 -0.143878\n",
      " -0.194916 -0.194916 -0.143878 -0.294602]\n",
      "Transfer: [-0.165752 -0.143878 -0.165752 -0.194916 -0.126929 -0.126929 -0.126929\n",
      " -0.194916 -0.143878 -0.126929 -0.126929 -0.143878 -0.143878 -0.194916\n",
      " -0.194916 -0.165752 -0.143878 -0.165752 -0.126929 -0.165752 -0.126929\n",
      " -0.126929 -0.165752 -0.126929 -0.194916]\n",
      "Transfer & Revision: [-0.165752 -0.143878 -0.165752 -0.194916 -0.126929 -0.126929 -0.126929\n",
      " -0.194916 -0.143878 -0.126929 -0.126929 -0.143878 -0.143878 -0.194916\n",
      " -0.194916 -0.165752 -0.143878 -0.165752 -0.126929 -0.165752 -0.126929\n",
      " -0.126929 -0.165752 -0.126929 -0.194916]\n"
     ]
    },
    {
     "data": {
      "text/markdown": [
       "## Recall"
      ],
      "text/plain": [
       "<IPython.core.display.Markdown object>"
      ]
     },
     "metadata": {},
     "output_type": "display_data"
    },
    {
     "name": "stdout",
     "output_type": "stream",
     "text": [
      "Scratch: [1. 1. 1. 1. 1. 1. 1. 1. 1. 1. 1. 1. 1. 1. 1. 1. 1. 1. 1. 1. 1. 1. 1. 1.\n",
      " 1.]\n",
      "Transfer: [1. 1. 1. 1. 1. 1. 1. 1. 1. 1. 1. 1. 1. 1. 1. 1. 1. 1. 1. 1. 1. 1. 1. 1.\n",
      " 1.]\n",
      "Transfer & Revision: [1. 1. 1. 1. 1. 1. 1. 1. 1. 1. 1. 1. 1. 1. 1. 1. 1. 1. 1. 1. 1. 1. 1. 1.\n",
      " 1.]\n"
     ]
    },
    {
     "data": {
      "text/markdown": [
       "## F1"
      ],
      "text/plain": [
       "<IPython.core.display.Markdown object>"
      ]
     },
     "metadata": {},
     "output_type": "display_data"
    },
    {
     "name": "stdout",
     "output_type": "stream",
     "text": [
      "Scratch: [1. 1. 1. 1. 1. 1. 1. 1. 1. 1. 1. 1. 1. 1. 1. 1. 1. 1. 1. 1. 1. 1. 1. 1.\n",
      " 1.]\n",
      "Transfer: [1. 1. 1. 1. 1. 1. 1. 1. 1. 1. 1. 1. 1. 1. 1. 1. 1. 1. 1. 1. 1. 1. 1. 1.\n",
      " 1.]\n",
      "Transfer & Revision: [1. 1. 1. 1. 1. 1. 1. 1. 1. 1. 1. 1. 1. 1. 1. 1. 1. 1. 1. 1. 1. 1. 1. 1.\n",
      " 1.]\n"
     ]
    },
    {
     "data": {
      "text/markdown": [
       "## Precision"
      ],
      "text/plain": [
       "<IPython.core.display.Markdown object>"
      ]
     },
     "metadata": {},
     "output_type": "display_data"
    },
    {
     "name": "stdout",
     "output_type": "stream",
     "text": [
      "Scratch: [1. 1. 1. 1. 1. 1. 1. 1. 1. 1. 1. 1. 1. 1. 1. 1. 1. 1. 1. 1. 1. 1. 1. 1.\n",
      " 1.]\n",
      "Transfer: [1. 1. 1. 1. 1. 1. 1. 1. 1. 1. 1. 1. 1. 1. 1. 1. 1. 1. 1. 1. 1. 1. 1. 1.\n",
      " 1.]\n",
      "Transfer & Revision: [1. 1. 1. 1. 1. 1. 1. 1. 1. 1. 1. 1. 1. 1. 1. 1. 1. 1. 1. 1. 1. 1. 1. 1.\n",
      " 1.]\n"
     ]
    },
    {
     "data": {
      "text/markdown": [
       "## Learning and Revision time"
      ],
      "text/plain": [
       "<IPython.core.display.Markdown object>"
      ]
     },
     "metadata": {},
     "output_type": "display_data"
    },
    {
     "name": "stdout",
     "output_type": "stream",
     "text": [
      "Scratch: [ 8.945 12.458 12.242 16.252 11.779  9.515 10.037 12.388 10.88  13.15\n",
      " 12.588 11.849 15.833 11.82  14.842 12.917 11.68  13.38  13.111 12.937\n",
      " 17.663 12.914 15.827 17.413 14.771]\n",
      "Transfer: [21.897 24.79  24.899 23.05  23.049 20.644 16.452 23.563 17.657 21.251\n",
      " 24.842 23.723 24.422 21.095 23.765 22.123 26.027 21.404 25.892 24.873\n",
      " 22.782 26.067 24.253 26.435 24.869]\n",
      "Transfer & Revision: [21.897 24.79  24.899 23.05  23.049 20.644 16.452 23.563 17.657 21.251\n",
      " 24.842 23.723 24.422 21.095 23.765 22.123 26.027 21.404 25.892 24.873\n",
      " 22.782 26.067 24.253 26.435 24.869]\n"
     ]
    },
    {
     "data": {
      "text/markdown": [
       "## Inference time"
      ],
      "text/plain": [
       "<IPython.core.display.Markdown object>"
      ]
     },
     "metadata": {},
     "output_type": "display_data"
    },
    {
     "name": "stdout",
     "output_type": "stream",
     "text": [
      "Scratch: [0.527 0.549 0.536 0.554 0.569 0.549 0.548 0.547 0.549 0.542 0.565 0.551\n",
      " 0.554 0.544 0.574 0.527 0.528 0.531 0.57  0.529 0.562 0.555 0.572 0.565\n",
      " 0.578]\n",
      "Transfer: [0.564 0.549 0.539 0.539 0.517 0.548 0.541 0.556 0.556 0.574 0.553 0.524\n",
      " 0.554 0.578 0.571 0.568 0.553 0.561 0.576 0.541 0.575 0.563 0.554 0.564\n",
      " 0.544]\n",
      "Transfer & Revision: [0.547 0.549 0.555 0.58  0.56  0.597 0.553 0.548 0.556 0.546 0.594 0.58\n",
      " 0.555 0.547 0.571 0.532 0.544 0.552 0.545 0.559 0.603 0.584 0.61  0.55\n",
      " 0.571]\n"
     ]
    }
   ],
   "source": [
    "for dataset in range(6):\n",
    "    display(Markdown('# Results for ' + experiments[dataset]))\n",
    "    table = []\n",
    "    for metric in ['AUC ROC', 'AUC PR', 'CLL', 'Recall', 'F1', 'Precision', 'Learning and Revision time', 'Inference time']:\n",
    "    #for metric in ['AUC ROC', 'AUC PR']:\n",
    "        display(Markdown('## ' + metric))\n",
    "        x = []\n",
    "        if metric == 'Precision':\n",
    "            scratch = np.array([item['Precision'][0] for sublist in data['results'][str(dataset)]['scratch'].values() for item in sublist])\n",
    "            parameter = np.array([item['Parameter Learning Results']['Precision'][0] for sublist in data['results'][str(dataset)]['transfer'].values() for item in sublist])\n",
    "            transfer = np.array([item['Precision'][0] for sublist in data['results'][str(dataset)]['transfer'].values() for item in sublist])\n",
    "        elif metric == 'Learning and Revision time':\n",
    "            scratch = np.array([item['Learning time'] for sublist in data['results'][str(dataset)]['scratch'].values() for item in sublist])\n",
    "            parameter = np.array([item['Learning time'] for sublist in data['results'][str(dataset)]['transfer'].values() for item in sublist])\n",
    "            transfer = np.array([item['Learning time'] for sublist in data['results'][str(dataset)]['transfer'].values() for item in sublist])\n",
    "        elif metric == 'Inference time':\n",
    "            scratch = np.array([item['Inference time'] for sublist in data['results'][str(dataset)]['scratch'].values() for item in sublist])\n",
    "            parameter = np.array([item['Parameter Learning Inference Time'] for sublist in data['results'][str(dataset)]['transfer'].values() for item in sublist])\n",
    "            transfer = np.array([item['Inference time'] for sublist in data['results'][str(dataset)]['transfer'].values() for item in sublist])\n",
    "        else:\n",
    "            scratch = np.array([item[metric] for sublist in data['results'][str(dataset)]['scratch'].values() for item in sublist])\n",
    "            parameter = np.array([item['Parameter Learning Results'][metric] for sublist in data['results'][str(dataset)]['transfer'].values() for item in sublist])\n",
    "            transfer = np.array([item[metric] for sublist in data['results'][str(dataset)]['transfer'].values() for item in sublist])\n",
    "        print('Scratch: %s' % scratch)\n",
    "        print('Transfer: %s' % parameter)\n",
    "        print('Transfer & Revision: %s' % transfer)"
   ]
  },
  {
   "cell_type": "code",
   "execution_count": null,
   "metadata": {
    "collapsed": true
   },
   "outputs": [],
   "source": []
  }
 ],
 "metadata": {
  "anaconda-cloud": {},
  "kernelspec": {
   "display_name": "Python [conda env:anaconda3]",
   "language": "python",
   "name": "conda-env-anaconda3-py"
  },
  "language_info": {
   "codemirror_mode": {
    "name": "ipython",
    "version": 3
   },
   "file_extension": ".py",
   "mimetype": "text/x-python",
   "name": "python",
   "nbconvert_exporter": "python",
   "pygments_lexer": "ipython3",
   "version": "3.5.2"
  }
 },
 "nbformat": 4,
 "nbformat_minor": 1
}
