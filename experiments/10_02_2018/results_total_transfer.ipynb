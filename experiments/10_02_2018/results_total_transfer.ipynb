{
 "cells": [
  {
   "cell_type": "code",
   "execution_count": 1,
   "metadata": {
    "collapsed": true
   },
   "outputs": [],
   "source": [
    "import matplotlib.pyplot as plt\n",
    "from IPython.display import display, Markdown, Latex\n",
    "import numpy as np\n",
    "import json\n",
    "import pandas as pd\n",
    "\n",
    "with open('total_transfer_experiment.json', 'r') as fp:\n",
    "    data = json.load(fp)"
   ]
  },
  {
   "cell_type": "code",
   "execution_count": 7,
   "metadata": {
    "collapsed": false
   },
   "outputs": [
    {
     "data": {
      "text/markdown": [
       "# Results for AUC ROC"
      ],
      "text/plain": [
       "<IPython.core.display.Markdown object>"
      ]
     },
     "metadata": {},
     "output_type": "display_data"
    },
    {
     "data": {
      "text/html": [
       "<div>\n",
       "<table border=\"1\" class=\"dataframe\">\n",
       "  <thead>\n",
       "    <tr style=\"text-align: right;\">\n",
       "      <th></th>\n",
       "      <th>Experiment</th>\n",
       "      <th>Transfer Learning</th>\n",
       "      <th>Transfer Learning with Revision Theory</th>\n",
       "      <th>Learning from scratch</th>\n",
       "    </tr>\n",
       "  </thead>\n",
       "  <tbody>\n",
       "    <tr>\n",
       "      <th>0</th>\n",
       "      <td>imdb(workedunder) -&gt; uwcse</td>\n",
       "      <td>0.895 +/- 0.053</td>\n",
       "      <td>0.909 +/- 0.084</td>\n",
       "      <td>0.932 +/- 0.079</td>\n",
       "    </tr>\n",
       "    <tr>\n",
       "      <th>1</th>\n",
       "      <td>imdb(movie) -&gt; uwcse</td>\n",
       "      <td>0.625 +/- 0.139</td>\n",
       "      <td>0.625 +/- 0.139</td>\n",
       "      <td>0.609 +/- 0.134</td>\n",
       "    </tr>\n",
       "    <tr>\n",
       "      <th>2</th>\n",
       "      <td>uwcse(advisedby) -&gt; imdb</td>\n",
       "      <td>1.000 +/- 0.000</td>\n",
       "      <td>1.000 +/- 0.000</td>\n",
       "      <td>0.998 +/- 0.007</td>\n",
       "    </tr>\n",
       "    <tr>\n",
       "      <th>3</th>\n",
       "      <td>uwcse(publication) -&gt; imdb</td>\n",
       "      <td>0.492 +/- 0.025</td>\n",
       "      <td>0.501 +/- 0.042</td>\n",
       "      <td>0.529 +/- 0.031</td>\n",
       "    </tr>\n",
       "    <tr>\n",
       "      <th>4</th>\n",
       "      <td>imdb(movie) -&gt; cora</td>\n",
       "      <td>1.000 +/- 0.000</td>\n",
       "      <td>1.000 +/- 0.000</td>\n",
       "      <td>1.000 +/- 0.000</td>\n",
       "    </tr>\n",
       "    <tr>\n",
       "      <th>5</th>\n",
       "      <td>cora(samevenue) -&gt; uwcse</td>\n",
       "      <td>0.666 +/- 0.237</td>\n",
       "      <td>0.998 +/- 0.007</td>\n",
       "      <td>0.998 +/- 0.007</td>\n",
       "    </tr>\n",
       "    <tr>\n",
       "      <th>6</th>\n",
       "      <td>imdb(workedunder) -&gt; nell</td>\n",
       "      <td>0.608 +/- 0.109</td>\n",
       "      <td>0.608 +/- 0.109</td>\n",
       "      <td>0.929 +/- 0.082</td>\n",
       "    </tr>\n",
       "  </tbody>\n",
       "</table>\n",
       "</div>"
      ],
      "text/plain": [
       "                   Experiment Transfer Learning  \\\n",
       "0  imdb(workedunder) -> uwcse   0.895 +/- 0.053   \n",
       "1        imdb(movie) -> uwcse   0.625 +/- 0.139   \n",
       "2    uwcse(advisedby) -> imdb   1.000 +/- 0.000   \n",
       "3  uwcse(publication) -> imdb   0.492 +/- 0.025   \n",
       "4         imdb(movie) -> cora   1.000 +/- 0.000   \n",
       "5    cora(samevenue) -> uwcse   0.666 +/- 0.237   \n",
       "6   imdb(workedunder) -> nell   0.608 +/- 0.109   \n",
       "\n",
       "  Transfer Learning with Revision Theory Learning from scratch  \n",
       "0                        0.909 +/- 0.084       0.932 +/- 0.079  \n",
       "1                        0.625 +/- 0.139       0.609 +/- 0.134  \n",
       "2                        1.000 +/- 0.000       0.998 +/- 0.007  \n",
       "3                        0.501 +/- 0.042       0.529 +/- 0.031  \n",
       "4                        1.000 +/- 0.000       1.000 +/- 0.000  \n",
       "5                        0.998 +/- 0.007       0.998 +/- 0.007  \n",
       "6                        0.608 +/- 0.109       0.929 +/- 0.082  "
      ]
     },
     "metadata": {},
     "output_type": "display_data"
    },
    {
     "data": {
      "text/markdown": [
       "# Results for AUC PR"
      ],
      "text/plain": [
       "<IPython.core.display.Markdown object>"
      ]
     },
     "metadata": {},
     "output_type": "display_data"
    },
    {
     "data": {
      "text/html": [
       "<div>\n",
       "<table border=\"1\" class=\"dataframe\">\n",
       "  <thead>\n",
       "    <tr style=\"text-align: right;\">\n",
       "      <th></th>\n",
       "      <th>Experiment</th>\n",
       "      <th>Transfer Learning</th>\n",
       "      <th>Transfer Learning with Revision Theory</th>\n",
       "      <th>Learning from scratch</th>\n",
       "    </tr>\n",
       "  </thead>\n",
       "  <tbody>\n",
       "    <tr>\n",
       "      <th>0</th>\n",
       "      <td>imdb(workedunder) -&gt; uwcse</td>\n",
       "      <td>0.865 +/- 0.105</td>\n",
       "      <td>0.872 +/- 0.139</td>\n",
       "      <td>0.919 +/- 0.100</td>\n",
       "    </tr>\n",
       "    <tr>\n",
       "      <th>1</th>\n",
       "      <td>imdb(movie) -&gt; uwcse</td>\n",
       "      <td>0.599 +/- 0.117</td>\n",
       "      <td>0.599 +/- 0.117</td>\n",
       "      <td>0.581 +/- 0.073</td>\n",
       "    </tr>\n",
       "    <tr>\n",
       "      <th>2</th>\n",
       "      <td>uwcse(advisedby) -&gt; imdb</td>\n",
       "      <td>1.000 +/- 0.000</td>\n",
       "      <td>1.000 +/- 0.000</td>\n",
       "      <td>0.997 +/- 0.013</td>\n",
       "    </tr>\n",
       "    <tr>\n",
       "      <th>3</th>\n",
       "      <td>uwcse(publication) -&gt; imdb</td>\n",
       "      <td>0.494 +/- 0.019</td>\n",
       "      <td>0.500 +/- 0.025</td>\n",
       "      <td>0.525 +/- 0.024</td>\n",
       "    </tr>\n",
       "    <tr>\n",
       "      <th>4</th>\n",
       "      <td>imdb(movie) -&gt; cora</td>\n",
       "      <td>1.000 +/- 0.000</td>\n",
       "      <td>1.000 +/- 0.000</td>\n",
       "      <td>1.000 +/- 0.000</td>\n",
       "    </tr>\n",
       "    <tr>\n",
       "      <th>5</th>\n",
       "      <td>cora(samevenue) -&gt; uwcse</td>\n",
       "      <td>0.612 +/- 0.177</td>\n",
       "      <td>0.997 +/- 0.013</td>\n",
       "      <td>0.997 +/- 0.013</td>\n",
       "    </tr>\n",
       "    <tr>\n",
       "      <th>6</th>\n",
       "      <td>imdb(workedunder) -&gt; nell</td>\n",
       "      <td>0.629 +/- 0.135</td>\n",
       "      <td>0.629 +/- 0.135</td>\n",
       "      <td>0.905 +/- 0.122</td>\n",
       "    </tr>\n",
       "  </tbody>\n",
       "</table>\n",
       "</div>"
      ],
      "text/plain": [
       "                   Experiment Transfer Learning  \\\n",
       "0  imdb(workedunder) -> uwcse   0.865 +/- 0.105   \n",
       "1        imdb(movie) -> uwcse   0.599 +/- 0.117   \n",
       "2    uwcse(advisedby) -> imdb   1.000 +/- 0.000   \n",
       "3  uwcse(publication) -> imdb   0.494 +/- 0.019   \n",
       "4         imdb(movie) -> cora   1.000 +/- 0.000   \n",
       "5    cora(samevenue) -> uwcse   0.612 +/- 0.177   \n",
       "6   imdb(workedunder) -> nell   0.629 +/- 0.135   \n",
       "\n",
       "  Transfer Learning with Revision Theory Learning from scratch  \n",
       "0                        0.872 +/- 0.139       0.919 +/- 0.100  \n",
       "1                        0.599 +/- 0.117       0.581 +/- 0.073  \n",
       "2                        1.000 +/- 0.000       0.997 +/- 0.013  \n",
       "3                        0.500 +/- 0.025       0.525 +/- 0.024  \n",
       "4                        1.000 +/- 0.000       1.000 +/- 0.000  \n",
       "5                        0.997 +/- 0.013       0.997 +/- 0.013  \n",
       "6                        0.629 +/- 0.135       0.905 +/- 0.122  "
      ]
     },
     "metadata": {},
     "output_type": "display_data"
    },
    {
     "data": {
      "text/markdown": [
       "# Results for CLL"
      ],
      "text/plain": [
       "<IPython.core.display.Markdown object>"
      ]
     },
     "metadata": {},
     "output_type": "display_data"
    },
    {
     "data": {
      "text/html": [
       "<div>\n",
       "<table border=\"1\" class=\"dataframe\">\n",
       "  <thead>\n",
       "    <tr style=\"text-align: right;\">\n",
       "      <th></th>\n",
       "      <th>Experiment</th>\n",
       "      <th>Transfer Learning</th>\n",
       "      <th>Transfer Learning with Revision Theory</th>\n",
       "      <th>Learning from scratch</th>\n",
       "    </tr>\n",
       "  </thead>\n",
       "  <tbody>\n",
       "    <tr>\n",
       "      <th>0</th>\n",
       "      <td>imdb(workedunder) -&gt; uwcse</td>\n",
       "      <td>-0.511 +/- 0.090</td>\n",
       "      <td>-0.394 +/- 0.261</td>\n",
       "      <td>-0.297 +/- 0.124</td>\n",
       "    </tr>\n",
       "    <tr>\n",
       "      <th>1</th>\n",
       "      <td>imdb(movie) -&gt; uwcse</td>\n",
       "      <td>-0.670 +/- 0.097</td>\n",
       "      <td>-0.670 +/- 0.097</td>\n",
       "      <td>-0.722 +/- 0.135</td>\n",
       "    </tr>\n",
       "    <tr>\n",
       "      <th>2</th>\n",
       "      <td>uwcse(advisedby) -&gt; imdb</td>\n",
       "      <td>-0.111 +/- 0.039</td>\n",
       "      <td>-0.111 +/- 0.039</td>\n",
       "      <td>-0.100 +/- 0.012</td>\n",
       "    </tr>\n",
       "    <tr>\n",
       "      <th>3</th>\n",
       "      <td>uwcse(publication) -&gt; imdb</td>\n",
       "      <td>-0.699 +/- 0.016</td>\n",
       "      <td>-0.699 +/- 0.016</td>\n",
       "      <td>-0.694 +/- 0.002</td>\n",
       "    </tr>\n",
       "    <tr>\n",
       "      <th>4</th>\n",
       "      <td>imdb(movie) -&gt; cora</td>\n",
       "      <td>-0.152 +/- 0.084</td>\n",
       "      <td>-0.152 +/- 0.084</td>\n",
       "      <td>-0.177 +/- 0.127</td>\n",
       "    </tr>\n",
       "    <tr>\n",
       "      <th>5</th>\n",
       "      <td>cora(samevenue) -&gt; uwcse</td>\n",
       "      <td>-0.579 +/- 0.181</td>\n",
       "      <td>-0.100 +/- 0.012</td>\n",
       "      <td>-0.100 +/- 0.012</td>\n",
       "    </tr>\n",
       "    <tr>\n",
       "      <th>6</th>\n",
       "      <td>imdb(workedunder) -&gt; nell</td>\n",
       "      <td>-0.663 +/- 0.072</td>\n",
       "      <td>-0.663 +/- 0.072</td>\n",
       "      <td>-0.301 +/- 0.124</td>\n",
       "    </tr>\n",
       "  </tbody>\n",
       "</table>\n",
       "</div>"
      ],
      "text/plain": [
       "                   Experiment Transfer Learning  \\\n",
       "0  imdb(workedunder) -> uwcse  -0.511 +/- 0.090   \n",
       "1        imdb(movie) -> uwcse  -0.670 +/- 0.097   \n",
       "2    uwcse(advisedby) -> imdb  -0.111 +/- 0.039   \n",
       "3  uwcse(publication) -> imdb  -0.699 +/- 0.016   \n",
       "4         imdb(movie) -> cora  -0.152 +/- 0.084   \n",
       "5    cora(samevenue) -> uwcse  -0.579 +/- 0.181   \n",
       "6   imdb(workedunder) -> nell  -0.663 +/- 0.072   \n",
       "\n",
       "  Transfer Learning with Revision Theory Learning from scratch  \n",
       "0                       -0.394 +/- 0.261      -0.297 +/- 0.124  \n",
       "1                       -0.670 +/- 0.097      -0.722 +/- 0.135  \n",
       "2                       -0.111 +/- 0.039      -0.100 +/- 0.012  \n",
       "3                       -0.699 +/- 0.016      -0.694 +/- 0.002  \n",
       "4                       -0.152 +/- 0.084      -0.177 +/- 0.127  \n",
       "5                       -0.100 +/- 0.012      -0.100 +/- 0.012  \n",
       "6                       -0.663 +/- 0.072      -0.301 +/- 0.124  "
      ]
     },
     "metadata": {},
     "output_type": "display_data"
    },
    {
     "data": {
      "text/markdown": [
       "# Results for Recall"
      ],
      "text/plain": [
       "<IPython.core.display.Markdown object>"
      ]
     },
     "metadata": {},
     "output_type": "display_data"
    },
    {
     "data": {
      "text/html": [
       "<div>\n",
       "<table border=\"1\" class=\"dataframe\">\n",
       "  <thead>\n",
       "    <tr style=\"text-align: right;\">\n",
       "      <th></th>\n",
       "      <th>Experiment</th>\n",
       "      <th>Transfer Learning</th>\n",
       "      <th>Transfer Learning with Revision Theory</th>\n",
       "      <th>Learning from scratch</th>\n",
       "    </tr>\n",
       "  </thead>\n",
       "  <tbody>\n",
       "    <tr>\n",
       "      <th>0</th>\n",
       "      <td>imdb(workedunder) -&gt; uwcse</td>\n",
       "      <td>0.321 +/- 0.249</td>\n",
       "      <td>0.689 +/- 0.736</td>\n",
       "      <td>0.960 +/- 0.084</td>\n",
       "    </tr>\n",
       "    <tr>\n",
       "      <th>1</th>\n",
       "      <td>imdb(movie) -&gt; uwcse</td>\n",
       "      <td>0.637 +/- 0.173</td>\n",
       "      <td>0.637 +/- 0.173</td>\n",
       "      <td>0.366 +/- 0.488</td>\n",
       "    </tr>\n",
       "    <tr>\n",
       "      <th>2</th>\n",
       "      <td>uwcse(advisedby) -&gt; imdb</td>\n",
       "      <td>1.000 +/- 0.000</td>\n",
       "      <td>1.000 +/- 0.000</td>\n",
       "      <td>1.000 +/- 0.000</td>\n",
       "    </tr>\n",
       "    <tr>\n",
       "      <th>3</th>\n",
       "      <td>uwcse(publication) -&gt; imdb</td>\n",
       "      <td>0.035 +/- 0.142</td>\n",
       "      <td>0.035 +/- 0.142</td>\n",
       "      <td>0.058 +/- 0.232</td>\n",
       "    </tr>\n",
       "    <tr>\n",
       "      <th>4</th>\n",
       "      <td>imdb(movie) -&gt; cora</td>\n",
       "      <td>1.000 +/- 0.000</td>\n",
       "      <td>1.000 +/- 0.000</td>\n",
       "      <td>1.000 +/- 0.000</td>\n",
       "    </tr>\n",
       "    <tr>\n",
       "      <th>5</th>\n",
       "      <td>cora(samevenue) -&gt; uwcse</td>\n",
       "      <td>1.000 +/- 0.000</td>\n",
       "      <td>1.000 +/- 0.000</td>\n",
       "      <td>1.000 +/- 0.000</td>\n",
       "    </tr>\n",
       "    <tr>\n",
       "      <th>6</th>\n",
       "      <td>imdb(workedunder) -&gt; nell</td>\n",
       "      <td>0.321 +/- 0.249</td>\n",
       "      <td>0.321 +/- 0.249</td>\n",
       "      <td>0.963 +/- 0.100</td>\n",
       "    </tr>\n",
       "  </tbody>\n",
       "</table>\n",
       "</div>"
      ],
      "text/plain": [
       "                   Experiment Transfer Learning  \\\n",
       "0  imdb(workedunder) -> uwcse   0.321 +/- 0.249   \n",
       "1        imdb(movie) -> uwcse   0.637 +/- 0.173   \n",
       "2    uwcse(advisedby) -> imdb   1.000 +/- 0.000   \n",
       "3  uwcse(publication) -> imdb   0.035 +/- 0.142   \n",
       "4         imdb(movie) -> cora   1.000 +/- 0.000   \n",
       "5    cora(samevenue) -> uwcse   1.000 +/- 0.000   \n",
       "6   imdb(workedunder) -> nell   0.321 +/- 0.249   \n",
       "\n",
       "  Transfer Learning with Revision Theory Learning from scratch  \n",
       "0                        0.689 +/- 0.736       0.960 +/- 0.084  \n",
       "1                        0.637 +/- 0.173       0.366 +/- 0.488  \n",
       "2                        1.000 +/- 0.000       1.000 +/- 0.000  \n",
       "3                        0.035 +/- 0.142       0.058 +/- 0.232  \n",
       "4                        1.000 +/- 0.000       1.000 +/- 0.000  \n",
       "5                        1.000 +/- 0.000       1.000 +/- 0.000  \n",
       "6                        0.321 +/- 0.249       0.963 +/- 0.100  "
      ]
     },
     "metadata": {},
     "output_type": "display_data"
    },
    {
     "data": {
      "text/markdown": [
       "# Results for F1"
      ],
      "text/plain": [
       "<IPython.core.display.Markdown object>"
      ]
     },
     "metadata": {},
     "output_type": "display_data"
    },
    {
     "data": {
      "text/html": [
       "<div>\n",
       "<table border=\"1\" class=\"dataframe\">\n",
       "  <thead>\n",
       "    <tr style=\"text-align: right;\">\n",
       "      <th></th>\n",
       "      <th>Experiment</th>\n",
       "      <th>Transfer Learning</th>\n",
       "      <th>Transfer Learning with Revision Theory</th>\n",
       "      <th>Learning from scratch</th>\n",
       "    </tr>\n",
       "  </thead>\n",
       "  <tbody>\n",
       "    <tr>\n",
       "      <th>0</th>\n",
       "      <td>imdb(workedunder) -&gt; uwcse</td>\n",
       "      <td>0.461 +/- 0.314</td>\n",
       "      <td>0.691 +/- 0.587</td>\n",
       "      <td>0.897 +/- 0.062</td>\n",
       "    </tr>\n",
       "    <tr>\n",
       "      <th>1</th>\n",
       "      <td>imdb(movie) -&gt; uwcse</td>\n",
       "      <td>0.628 +/- 0.141</td>\n",
       "      <td>0.628 +/- 0.141</td>\n",
       "      <td>nan +/- nan</td>\n",
       "    </tr>\n",
       "    <tr>\n",
       "      <th>2</th>\n",
       "      <td>uwcse(advisedby) -&gt; imdb</td>\n",
       "      <td>1.000 +/- 0.000</td>\n",
       "      <td>1.000 +/- 0.000</td>\n",
       "      <td>0.998 +/- 0.007</td>\n",
       "    </tr>\n",
       "    <tr>\n",
       "      <th>3</th>\n",
       "      <td>uwcse(publication) -&gt; imdb</td>\n",
       "      <td>nan +/- nan</td>\n",
       "      <td>nan +/- nan</td>\n",
       "      <td>nan +/- nan</td>\n",
       "    </tr>\n",
       "    <tr>\n",
       "      <th>4</th>\n",
       "      <td>imdb(movie) -&gt; cora</td>\n",
       "      <td>1.000 +/- 0.000</td>\n",
       "      <td>1.000 +/- 0.000</td>\n",
       "      <td>1.000 +/- 0.000</td>\n",
       "    </tr>\n",
       "    <tr>\n",
       "      <th>5</th>\n",
       "      <td>cora(samevenue) -&gt; uwcse</td>\n",
       "      <td>0.756 +/- 0.135</td>\n",
       "      <td>0.998 +/- 0.007</td>\n",
       "      <td>0.998 +/- 0.007</td>\n",
       "    </tr>\n",
       "    <tr>\n",
       "      <th>6</th>\n",
       "      <td>imdb(workedunder) -&gt; nell</td>\n",
       "      <td>0.437 +/- 0.277</td>\n",
       "      <td>0.437 +/- 0.277</td>\n",
       "      <td>0.901 +/- 0.096</td>\n",
       "    </tr>\n",
       "  </tbody>\n",
       "</table>\n",
       "</div>"
      ],
      "text/plain": [
       "                   Experiment Transfer Learning  \\\n",
       "0  imdb(workedunder) -> uwcse   0.461 +/- 0.314   \n",
       "1        imdb(movie) -> uwcse   0.628 +/- 0.141   \n",
       "2    uwcse(advisedby) -> imdb   1.000 +/- 0.000   \n",
       "3  uwcse(publication) -> imdb       nan +/- nan   \n",
       "4         imdb(movie) -> cora   1.000 +/- 0.000   \n",
       "5    cora(samevenue) -> uwcse   0.756 +/- 0.135   \n",
       "6   imdb(workedunder) -> nell   0.437 +/- 0.277   \n",
       "\n",
       "  Transfer Learning with Revision Theory Learning from scratch  \n",
       "0                        0.691 +/- 0.587       0.897 +/- 0.062  \n",
       "1                        0.628 +/- 0.141           nan +/- nan  \n",
       "2                        1.000 +/- 0.000       0.998 +/- 0.007  \n",
       "3                            nan +/- nan           nan +/- nan  \n",
       "4                        1.000 +/- 0.000       1.000 +/- 0.000  \n",
       "5                        0.998 +/- 0.007       0.998 +/- 0.007  \n",
       "6                        0.437 +/- 0.277       0.901 +/- 0.096  "
      ]
     },
     "metadata": {},
     "output_type": "display_data"
    },
    {
     "data": {
      "text/markdown": [
       "# Results for Precision"
      ],
      "text/plain": [
       "<IPython.core.display.Markdown object>"
      ]
     },
     "metadata": {},
     "output_type": "display_data"
    },
    {
     "data": {
      "text/html": [
       "<div>\n",
       "<table border=\"1\" class=\"dataframe\">\n",
       "  <thead>\n",
       "    <tr style=\"text-align: right;\">\n",
       "      <th></th>\n",
       "      <th>Experiment</th>\n",
       "      <th>Transfer Learning</th>\n",
       "      <th>Transfer Learning with Revision Theory</th>\n",
       "      <th>Learning from scratch</th>\n",
       "    </tr>\n",
       "  </thead>\n",
       "  <tbody>\n",
       "    <tr>\n",
       "      <th>0</th>\n",
       "      <td>imdb(workedunder) -&gt; uwcse</td>\n",
       "      <td>0.860 +/- 0.373</td>\n",
       "      <td>0.784 +/- 0.294</td>\n",
       "      <td>0.845 +/- 0.105</td>\n",
       "    </tr>\n",
       "    <tr>\n",
       "      <th>1</th>\n",
       "      <td>imdb(movie) -&gt; uwcse</td>\n",
       "      <td>0.624 +/- 0.149</td>\n",
       "      <td>0.624 +/- 0.149</td>\n",
       "      <td>nan +/- nan</td>\n",
       "    </tr>\n",
       "    <tr>\n",
       "      <th>2</th>\n",
       "      <td>uwcse(advisedby) -&gt; imdb</td>\n",
       "      <td>1.000 +/- 0.000</td>\n",
       "      <td>1.000 +/- 0.000</td>\n",
       "      <td>0.997 +/- 0.013</td>\n",
       "    </tr>\n",
       "    <tr>\n",
       "      <th>3</th>\n",
       "      <td>uwcse(publication) -&gt; imdb</td>\n",
       "      <td>nan +/- nan</td>\n",
       "      <td>nan +/- nan</td>\n",
       "      <td>nan +/- nan</td>\n",
       "    </tr>\n",
       "    <tr>\n",
       "      <th>4</th>\n",
       "      <td>imdb(movie) -&gt; cora</td>\n",
       "      <td>1.000 +/- 0.000</td>\n",
       "      <td>1.000 +/- 0.000</td>\n",
       "      <td>1.000 +/- 0.000</td>\n",
       "    </tr>\n",
       "    <tr>\n",
       "      <th>5</th>\n",
       "      <td>cora(samevenue) -&gt; uwcse</td>\n",
       "      <td>0.612 +/- 0.177</td>\n",
       "      <td>0.997 +/- 0.013</td>\n",
       "      <td>0.997 +/- 0.013</td>\n",
       "    </tr>\n",
       "    <tr>\n",
       "      <th>6</th>\n",
       "      <td>imdb(workedunder) -&gt; nell</td>\n",
       "      <td>0.750 +/- 0.317</td>\n",
       "      <td>0.750 +/- 0.317</td>\n",
       "      <td>0.847 +/- 0.100</td>\n",
       "    </tr>\n",
       "  </tbody>\n",
       "</table>\n",
       "</div>"
      ],
      "text/plain": [
       "                   Experiment Transfer Learning  \\\n",
       "0  imdb(workedunder) -> uwcse   0.860 +/- 0.373   \n",
       "1        imdb(movie) -> uwcse   0.624 +/- 0.149   \n",
       "2    uwcse(advisedby) -> imdb   1.000 +/- 0.000   \n",
       "3  uwcse(publication) -> imdb       nan +/- nan   \n",
       "4         imdb(movie) -> cora   1.000 +/- 0.000   \n",
       "5    cora(samevenue) -> uwcse   0.612 +/- 0.177   \n",
       "6   imdb(workedunder) -> nell   0.750 +/- 0.317   \n",
       "\n",
       "  Transfer Learning with Revision Theory Learning from scratch  \n",
       "0                        0.784 +/- 0.294       0.845 +/- 0.105  \n",
       "1                        0.624 +/- 0.149           nan +/- nan  \n",
       "2                        1.000 +/- 0.000       0.997 +/- 0.013  \n",
       "3                            nan +/- nan           nan +/- nan  \n",
       "4                        1.000 +/- 0.000       1.000 +/- 0.000  \n",
       "5                        0.997 +/- 0.013       0.997 +/- 0.013  \n",
       "6                        0.750 +/- 0.317       0.847 +/- 0.100  "
      ]
     },
     "metadata": {},
     "output_type": "display_data"
    },
    {
     "data": {
      "text/markdown": [
       "# Results for Learning and Revision time"
      ],
      "text/plain": [
       "<IPython.core.display.Markdown object>"
      ]
     },
     "metadata": {},
     "output_type": "display_data"
    },
    {
     "data": {
      "text/html": [
       "<div>\n",
       "<table border=\"1\" class=\"dataframe\">\n",
       "  <thead>\n",
       "    <tr style=\"text-align: right;\">\n",
       "      <th></th>\n",
       "      <th>Experiment</th>\n",
       "      <th>Transfer Learning</th>\n",
       "      <th>Transfer Learning with Revision Theory</th>\n",
       "      <th>Learning from scratch</th>\n",
       "    </tr>\n",
       "  </thead>\n",
       "  <tbody>\n",
       "    <tr>\n",
       "      <th>0</th>\n",
       "      <td>imdb(workedunder) -&gt; uwcse</td>\n",
       "      <td>4.630 +/- 0.997</td>\n",
       "      <td>38.884 +/- 48.404</td>\n",
       "      <td>13.889 +/- 2.919</td>\n",
       "    </tr>\n",
       "    <tr>\n",
       "      <th>1</th>\n",
       "      <td>imdb(movie) -&gt; uwcse</td>\n",
       "      <td>49.662 +/- 75.002</td>\n",
       "      <td>91.386 +/- 146.512</td>\n",
       "      <td>269.347 +/- 451.839</td>\n",
       "    </tr>\n",
       "    <tr>\n",
       "      <th>2</th>\n",
       "      <td>uwcse(advisedby) -&gt; imdb</td>\n",
       "      <td>6.953 +/- 2.495</td>\n",
       "      <td>15.534 +/- 3.468</td>\n",
       "      <td>7.557 +/- 4.672</td>\n",
       "    </tr>\n",
       "    <tr>\n",
       "      <th>3</th>\n",
       "      <td>uwcse(publication) -&gt; imdb</td>\n",
       "      <td>5.566 +/- 0.739</td>\n",
       "      <td>14.924 +/- 12.140</td>\n",
       "      <td>10.258 +/- 3.774</td>\n",
       "    </tr>\n",
       "    <tr>\n",
       "      <th>4</th>\n",
       "      <td>imdb(movie) -&gt; cora</td>\n",
       "      <td>11.836 +/- 3.739</td>\n",
       "      <td>20.914 +/- 5.144</td>\n",
       "      <td>11.301 +/- 2.594</td>\n",
       "    </tr>\n",
       "    <tr>\n",
       "      <th>5</th>\n",
       "      <td>cora(samevenue) -&gt; uwcse</td>\n",
       "      <td>4.303 +/- 0.926</td>\n",
       "      <td>18.335 +/- 8.548</td>\n",
       "      <td>7.343 +/- 4.742</td>\n",
       "    </tr>\n",
       "    <tr>\n",
       "      <th>6</th>\n",
       "      <td>imdb(workedunder) -&gt; nell</td>\n",
       "      <td>6.975 +/- 4.585</td>\n",
       "      <td>26.042 +/- 42.805</td>\n",
       "      <td>23.832 +/- 40.540</td>\n",
       "    </tr>\n",
       "  </tbody>\n",
       "</table>\n",
       "</div>"
      ],
      "text/plain": [
       "                   Experiment  Transfer Learning  \\\n",
       "0  imdb(workedunder) -> uwcse    4.630 +/- 0.997   \n",
       "1        imdb(movie) -> uwcse  49.662 +/- 75.002   \n",
       "2    uwcse(advisedby) -> imdb    6.953 +/- 2.495   \n",
       "3  uwcse(publication) -> imdb    5.566 +/- 0.739   \n",
       "4         imdb(movie) -> cora   11.836 +/- 3.739   \n",
       "5    cora(samevenue) -> uwcse    4.303 +/- 0.926   \n",
       "6   imdb(workedunder) -> nell    6.975 +/- 4.585   \n",
       "\n",
       "  Transfer Learning with Revision Theory Learning from scratch  \n",
       "0                      38.884 +/- 48.404      13.889 +/- 2.919  \n",
       "1                     91.386 +/- 146.512   269.347 +/- 451.839  \n",
       "2                       15.534 +/- 3.468       7.557 +/- 4.672  \n",
       "3                      14.924 +/- 12.140      10.258 +/- 3.774  \n",
       "4                       20.914 +/- 5.144      11.301 +/- 2.594  \n",
       "5                       18.335 +/- 8.548       7.343 +/- 4.742  \n",
       "6                      26.042 +/- 42.805     23.832 +/- 40.540  "
      ]
     },
     "metadata": {},
     "output_type": "display_data"
    },
    {
     "data": {
      "text/markdown": [
       "# Results for Inference time"
      ],
      "text/plain": [
       "<IPython.core.display.Markdown object>"
      ]
     },
     "metadata": {},
     "output_type": "display_data"
    },
    {
     "data": {
      "text/html": [
       "<div>\n",
       "<table border=\"1\" class=\"dataframe\">\n",
       "  <thead>\n",
       "    <tr style=\"text-align: right;\">\n",
       "      <th></th>\n",
       "      <th>Experiment</th>\n",
       "      <th>Transfer Learning</th>\n",
       "      <th>Transfer Learning with Revision Theory</th>\n",
       "      <th>Learning from scratch</th>\n",
       "    </tr>\n",
       "  </thead>\n",
       "  <tbody>\n",
       "    <tr>\n",
       "      <th>0</th>\n",
       "      <td>imdb(workedunder) -&gt; uwcse</td>\n",
       "      <td>4.630 +/- 0.997</td>\n",
       "      <td>0.551 +/- 0.188</td>\n",
       "      <td>0.642 +/- 0.143</td>\n",
       "    </tr>\n",
       "    <tr>\n",
       "      <th>1</th>\n",
       "      <td>imdb(movie) -&gt; uwcse</td>\n",
       "      <td>49.662 +/- 75.002</td>\n",
       "      <td>0.574 +/- 0.221</td>\n",
       "      <td>0.746 +/- 0.328</td>\n",
       "    </tr>\n",
       "    <tr>\n",
       "      <th>2</th>\n",
       "      <td>uwcse(advisedby) -&gt; imdb</td>\n",
       "      <td>6.953 +/- 2.495</td>\n",
       "      <td>0.723 +/- 0.397</td>\n",
       "      <td>0.571 +/- 0.065</td>\n",
       "    </tr>\n",
       "    <tr>\n",
       "      <th>3</th>\n",
       "      <td>uwcse(publication) -&gt; imdb</td>\n",
       "      <td>5.566 +/- 0.739</td>\n",
       "      <td>0.573 +/- 0.036</td>\n",
       "      <td>0.497 +/- 0.014</td>\n",
       "    </tr>\n",
       "    <tr>\n",
       "      <th>4</th>\n",
       "      <td>imdb(movie) -&gt; cora</td>\n",
       "      <td>11.836 +/- 3.739</td>\n",
       "      <td>0.536 +/- 0.033</td>\n",
       "      <td>0.517 +/- 0.033</td>\n",
       "    </tr>\n",
       "    <tr>\n",
       "      <th>5</th>\n",
       "      <td>cora(samevenue) -&gt; uwcse</td>\n",
       "      <td>4.303 +/- 0.926</td>\n",
       "      <td>0.572 +/- 0.121</td>\n",
       "      <td>0.565 +/- 0.109</td>\n",
       "    </tr>\n",
       "    <tr>\n",
       "      <th>6</th>\n",
       "      <td>imdb(workedunder) -&gt; nell</td>\n",
       "      <td>6.975 +/- 4.585</td>\n",
       "      <td>0.528 +/- 0.124</td>\n",
       "      <td>0.622 +/- 0.151</td>\n",
       "    </tr>\n",
       "  </tbody>\n",
       "</table>\n",
       "</div>"
      ],
      "text/plain": [
       "                   Experiment  Transfer Learning  \\\n",
       "0  imdb(workedunder) -> uwcse    4.630 +/- 0.997   \n",
       "1        imdb(movie) -> uwcse  49.662 +/- 75.002   \n",
       "2    uwcse(advisedby) -> imdb    6.953 +/- 2.495   \n",
       "3  uwcse(publication) -> imdb    5.566 +/- 0.739   \n",
       "4         imdb(movie) -> cora   11.836 +/- 3.739   \n",
       "5    cora(samevenue) -> uwcse    4.303 +/- 0.926   \n",
       "6   imdb(workedunder) -> nell    6.975 +/- 4.585   \n",
       "\n",
       "  Transfer Learning with Revision Theory Learning from scratch  \n",
       "0                        0.551 +/- 0.188       0.642 +/- 0.143  \n",
       "1                        0.574 +/- 0.221       0.746 +/- 0.328  \n",
       "2                        0.723 +/- 0.397       0.571 +/- 0.065  \n",
       "3                        0.573 +/- 0.036       0.497 +/- 0.014  \n",
       "4                        0.536 +/- 0.033       0.517 +/- 0.033  \n",
       "5                        0.572 +/- 0.121       0.565 +/- 0.109  \n",
       "6                        0.528 +/- 0.124       0.622 +/- 0.151  "
      ]
     },
     "metadata": {},
     "output_type": "display_data"
    }
   ],
   "source": [
    "experiments = ['imdb(workedunder) -> uwcse',\n",
    "              'imdb(movie) -> uwcse',\n",
    "              'uwcse(advisedby) -> imdb',\n",
    "              'uwcse(publication) -> imdb',\n",
    "              'imdb(workedunder) -> cora',\n",
    "              'imdb(movie) -> cora',\n",
    "              'uwcse(advisedby) -> cora',\n",
    "              'uwcse(publication) -> cora'\n",
    "              'cora(samevenue) -> imdb',\n",
    "              'cora(samevenue) -> uwcse',\n",
    "              'imdb(workedunder) -> nell',\n",
    "              'uwcse(advisedby) -> nell'\n",
    "              ]\n",
    "\n",
    "for metric in ['AUC ROC', 'AUC PR', 'CLL', 'Recall', 'F1', 'Precision', 'Learning and Revision time', 'Inference time']:\n",
    "    display(Markdown('# Results for ' + metric))\n",
    "    table = []\n",
    "    for dataset in range(len(experiments)):\n",
    "        if dataset not in [4,6,7,10]:\n",
    "        #for metric in ['AUC ROC', 'AUC PR']:\n",
    "            #display(Markdown('## ' + metric))\n",
    "            x = []\n",
    "            if metric == 'Precision':\n",
    "                scratch = np.array([item['Precision'][0] for sublist in data['results'][str(dataset)]['scratch'].values() for item in sublist])\n",
    "                parameter = np.array([item['Parameter Learning results']['Precision'][0] for sublist in data['results'][str(dataset)]['transfer'].values() for item in sublist])\n",
    "                transfer = np.array([item['Precision'][0] for sublist in data['results'][str(dataset)]['transfer'].values() for item in sublist])\n",
    "            elif metric == 'Learning and Revision time':\n",
    "                scratch = np.array([item['Learning time'] for sublist in data['results'][str(dataset)]['scratch'].values() for item in sublist])\n",
    "                parameter = np.array([item['Parameter Learning results']['Learning time'] for sublist in data['results'][str(dataset)]['transfer'].values() for item in sublist])\n",
    "                transfer = np.array([item['Learning time'] for sublist in data['results'][str(dataset)]['transfer'].values() for item in sublist])\n",
    "            elif metric == 'Inference time':\n",
    "                scratch = np.array([item['Inference time'] for sublist in data['results'][str(dataset)]['scratch'].values() for item in sublist])\n",
    "                parameter = np.array([item['Parameter Learning results']['Learning time'] for sublist in data['results'][str(dataset)]['transfer'].values() for item in sublist])\n",
    "                transfer = np.array([item['Inference time'] for sublist in data['results'][str(dataset)]['transfer'].values() for item in sublist])\n",
    "            else:\n",
    "                scratch = np.array([item[metric] for sublist in data['results'][str(dataset)]['scratch'].values() for item in sublist])\n",
    "                parameter = np.array([item['Parameter Learning results'][metric] for sublist in data['results'][str(dataset)]['transfer'].values() for item in sublist])\n",
    "                transfer = np.array([item[metric] for sublist in data['results'][str(dataset)]['transfer'].values() for item in sublist])\n",
    "            table.append([experiments[dataset], '%.3f +/- %.3f' % (parameter.mean(), 2 * parameter.std()),\n",
    "            '%.3f +/- %.3f' % (transfer.mean(), 2 * transfer.std()),\n",
    "            '%.3f +/- %.3f' % (scratch.mean(), 2 * scratch.std())])\n",
    "    display(pd.DataFrame(table, columns=['Experiment', 'Transfer Learning', 'Transfer Learning with Revision Theory', 'Learning from scratch']))"
   ]
  },
  {
   "cell_type": "code",
   "execution_count": 8,
   "metadata": {
    "collapsed": false
   },
   "outputs": [
    {
     "data": {
      "text/markdown": [
       "# Results for imdb(workedunder) -> uwcse"
      ],
      "text/plain": [
       "<IPython.core.display.Markdown object>"
      ]
     },
     "metadata": {},
     "output_type": "display_data"
    },
    {
     "data": {
      "text/markdown": [
       "## AUC ROC"
      ],
      "text/plain": [
       "<IPython.core.display.Markdown object>"
      ]
     },
     "metadata": {},
     "output_type": "display_data"
    },
    {
     "name": "stdout",
     "output_type": "stream",
     "text": [
      "Scratch: [0.913469 0.975309 0.906336 0.9825   0.882813]\n",
      "Transfer: [0.908571 0.851852 0.89899  0.93125  0.882813]\n",
      "Transfer & Revision: [0.904898 0.851852 0.89899  0.9825   0.904297]\n"
     ]
    },
    {
     "data": {
      "text/markdown": [
       "## AUC PR"
      ],
      "text/plain": [
       "<IPython.core.display.Markdown object>"
      ]
     },
     "metadata": {},
     "output_type": "display_data"
    },
    {
     "name": "stdout",
     "output_type": "stream",
     "text": [
      "Scratch: [0.896168 0.974691 0.886339 0.982702 0.857333]\n",
      "Transfer: [0.877722 0.768378 0.886553 0.927081 0.865995]\n",
      "Transfer & Revision: [0.840699 0.768378 0.886553 0.982702 0.880078]\n"
     ]
    },
    {
     "data": {
      "text/markdown": [
       "## CLL"
      ],
      "text/plain": [
       "<IPython.core.display.Markdown object>"
      ]
     },
     "metadata": {},
     "output_type": "display_data"
    },
    {
     "name": "stdout",
     "output_type": "stream",
     "text": [
      "Scratch: [-0.310151 -0.237439 -0.3506   -0.21438  -0.37305 ]\n",
      "Transfer: [-0.494726 -0.584801 -0.493864 -0.450676 -0.53118 ]\n",
      "Transfer & Revision: [-0.299258 -0.584801 -0.493864 -0.222873 -0.367504]\n"
     ]
    },
    {
     "data": {
      "text/markdown": [
       "## Recall"
      ],
      "text/plain": [
       "<IPython.core.display.Markdown object>"
      ]
     },
     "metadata": {},
     "output_type": "display_data"
    },
    {
     "name": "stdout",
     "output_type": "stream",
     "text": [
      "Scratch: [0.971429 0.888889 0.939394 1.       1.      ]\n",
      "Transfer: [0.4      0.111111 0.393939 0.45     0.25    ]\n",
      "Transfer & Revision: [1.       0.111111 0.393939 1.       0.9375  ]\n"
     ]
    },
    {
     "data": {
      "text/markdown": [
       "## F1"
      ],
      "text/plain": [
       "<IPython.core.display.Markdown object>"
      ]
     },
     "metadata": {},
     "output_type": "display_data"
    },
    {
     "name": "stdout",
     "output_type": "stream",
     "text": [
      "Scratch: [0.906667 0.888889 0.873239 0.952381 0.864865]\n",
      "Transfer: [0.56     0.181818 0.541667 0.62069  0.4     ]\n",
      "Transfer & Revision: [0.921053 0.181818 0.541667 0.952381 0.857143]\n"
     ]
    },
    {
     "data": {
      "text/markdown": [
       "## Precision"
      ],
      "text/plain": [
       "<IPython.core.display.Markdown object>"
      ]
     },
     "metadata": {},
     "output_type": "display_data"
    },
    {
     "name": "stdout",
     "output_type": "stream",
     "text": [
      "Scratch: [0.85     0.888889 0.815789 0.909091 0.761905]\n",
      "Transfer: [0.933333 0.5      0.866667 1.       1.      ]\n",
      "Transfer & Revision: [0.853659 0.5      0.866667 0.909091 0.789474]\n"
     ]
    },
    {
     "data": {
      "text/markdown": [
       "## Learning and Revision time"
      ],
      "text/plain": [
       "<IPython.core.display.Markdown object>"
      ]
     },
     "metadata": {},
     "output_type": "display_data"
    },
    {
     "name": "stdout",
     "output_type": "stream",
     "text": [
      "Scratch: [14.174 15.623 15.168 12.736 11.744]\n",
      "Transfer: [4.847 4.958 3.866 4.251 5.23 ]\n",
      "Transfer & Revision: [86.136 22.527 20.185 31.306 34.264]\n"
     ]
    },
    {
     "data": {
      "text/markdown": [
       "## Inference time"
      ],
      "text/plain": [
       "<IPython.core.display.Markdown object>"
      ]
     },
     "metadata": {},
     "output_type": "display_data"
    },
    {
     "name": "stdout",
     "output_type": "stream",
     "text": [
      "Scratch: [0.712 0.535 0.731 0.619 0.612]\n",
      "Transfer: [4.847 4.958 3.866 4.251 5.23 ]\n",
      "Transfer & Revision: [0.699 0.409 0.512 0.564 0.572]\n"
     ]
    },
    {
     "data": {
      "text/markdown": [
       "# Results for imdb(movie) -> uwcse"
      ],
      "text/plain": [
       "<IPython.core.display.Markdown object>"
      ]
     },
     "metadata": {},
     "output_type": "display_data"
    },
    {
     "data": {
      "text/markdown": [
       "## AUC ROC"
      ],
      "text/plain": [
       "<IPython.core.display.Markdown object>"
      ]
     },
     "metadata": {},
     "output_type": "display_data"
    },
    {
     "name": "stdout",
     "output_type": "stream",
     "text": [
      "Scratch: [0.722532 0.6      0.52911  0.633702 0.558634]\n",
      "Transfer: [0.710616 0.5      0.657895 0.630137 0.625   ]\n",
      "Transfer & Revision: [0.710616 0.5      0.657895 0.630137 0.625   ]\n"
     ]
    },
    {
     "data": {
      "text/markdown": [
       "## AUC PR"
      ],
      "text/plain": [
       "<IPython.core.display.Markdown object>"
      ]
     },
     "metadata": {},
     "output_type": "display_data"
    },
    {
     "name": "stdout",
     "output_type": "stream",
     "text": [
      "Scratch: [0.635859 0.575762 0.530358 0.605773 0.558272]\n",
      "Transfer: [0.681523 0.5      0.618854 0.606939 0.586883]\n",
      "Transfer & Revision: [0.681523 0.5      0.618854 0.606939 0.586883]\n"
     ]
    },
    {
     "data": {
      "text/markdown": [
       "## CLL"
      ],
      "text/plain": [
       "<IPython.core.display.Markdown object>"
      ]
     },
     "metadata": {},
     "output_type": "display_data"
    },
    {
     "name": "stdout",
     "output_type": "stream",
     "text": [
      "Scratch: [-0.606276 -0.77696  -0.799722 -0.72351  -0.703916]\n",
      "Transfer: [-0.613958 -0.758712 -0.643406 -0.670351 -0.663088]\n",
      "Transfer & Revision: [-0.613958 -0.758712 -0.643406 -0.670351 -0.663088]\n"
     ]
    },
    {
     "data": {
      "text/markdown": [
       "## Recall"
      ],
      "text/plain": [
       "<IPython.core.display.Markdown object>"
      ]
     },
     "metadata": {},
     "output_type": "display_data"
    },
    {
     "name": "stdout",
     "output_type": "stream",
     "text": [
      "Scratch: [0.633562 0.       0.421053 0.178082 0.598214]\n",
      "Transfer: [0.671233 0.5      0.704453 0.575342 0.732143]\n",
      "Transfer & Revision: [0.671233 0.5      0.704453 0.575342 0.732143]\n"
     ]
    },
    {
     "data": {
      "text/markdown": [
       "## F1"
      ],
      "text/plain": [
       "<IPython.core.display.Markdown object>"
      ]
     },
     "metadata": {},
     "output_type": "display_data"
    },
    {
     "name": "stdout",
     "output_type": "stream",
     "text": [
      "Scratch: [0.685185      nan 0.5      0.285714 0.590308]\n",
      "Transfer: [0.698752 0.5      0.673114 0.608696 0.66129 ]\n",
      "Transfer & Revision: [0.698752 0.5      0.673114 0.608696 0.66129 ]\n"
     ]
    },
    {
     "data": {
      "text/markdown": [
       "## Precision"
      ],
      "text/plain": [
       "<IPython.core.display.Markdown object>"
      ]
     },
     "metadata": {},
     "output_type": "display_data"
    },
    {
     "name": "stdout",
     "output_type": "stream",
     "text": [
      "Scratch: [0.745968      nan 0.615385 0.722222 0.582609]\n",
      "Transfer: [0.728625 0.5      0.644444 0.646154 0.602941]\n",
      "Transfer & Revision: [0.728625 0.5      0.644444 0.646154 0.602941]\n"
     ]
    },
    {
     "data": {
      "text/markdown": [
       "## Learning and Revision time"
      ],
      "text/plain": [
       "<IPython.core.display.Markdown object>"
      ]
     },
     "metadata": {},
     "output_type": "display_data"
    },
    {
     "name": "stdout",
     "output_type": "stream",
     "text": [
      "Scratch: [697.173 192.849  47.486 138.627 270.598]\n",
      "Transfer: [ 23.593  70.096  18.008  22.277 114.335]\n",
      "Transfer & Revision: [ 52.801  89.734  34.183  47.044 233.169]\n"
     ]
    },
    {
     "data": {
      "text/markdown": [
       "## Inference time"
      ],
      "text/plain": [
       "<IPython.core.display.Markdown object>"
      ]
     },
     "metadata": {},
     "output_type": "display_data"
    },
    {
     "name": "stdout",
     "output_type": "stream",
     "text": [
      "Scratch: [0.931 0.469 0.886 0.686 0.758]\n",
      "Transfer: [ 23.593  70.096  18.008  22.277 114.335]\n",
      "Transfer & Revision: [0.69  0.408 0.698 0.506 0.568]\n"
     ]
    },
    {
     "data": {
      "text/markdown": [
       "# Results for uwcse(advisedby) -> imdb"
      ],
      "text/plain": [
       "<IPython.core.display.Markdown object>"
      ]
     },
     "metadata": {},
     "output_type": "display_data"
    },
    {
     "data": {
      "text/markdown": [
       "## AUC ROC"
      ],
      "text/plain": [
       "<IPython.core.display.Markdown object>"
      ]
     },
     "metadata": {},
     "output_type": "display_data"
    },
    {
     "name": "stdout",
     "output_type": "stream",
     "text": [
      "Scratch: [1.       0.991573 1.       1.       1.      ]\n",
      "Transfer: [1. 1. 1. 1. 1.]\n",
      "Transfer & Revision: [1. 1. 1. 1. 1.]\n"
     ]
    },
    {
     "data": {
      "text/markdown": [
       "## AUC PR"
      ],
      "text/plain": [
       "<IPython.core.display.Markdown object>"
      ]
     },
     "metadata": {},
     "output_type": "display_data"
    },
    {
     "name": "stdout",
     "output_type": "stream",
     "text": [
      "Scratch: [1.       0.983425 1.       1.       1.      ]\n",
      "Transfer: [1. 1. 1. 1. 1.]\n",
      "Transfer & Revision: [1. 1. 1. 1. 1.]\n"
     ]
    },
    {
     "data": {
      "text/markdown": [
       "## CLL"
      ],
      "text/plain": [
       "<IPython.core.display.Markdown object>"
      ]
     },
     "metadata": {},
     "output_type": "display_data"
    },
    {
     "name": "stdout",
     "output_type": "stream",
     "text": [
      "Scratch: [-0.096433 -0.112035 -0.097325 -0.097025 -0.096266]\n",
      "Transfer: [-0.096667 -0.14229  -0.095869 -0.096253 -0.126398]\n",
      "Transfer & Revision: [-0.096667 -0.14229  -0.095869 -0.096253 -0.126398]\n"
     ]
    },
    {
     "data": {
      "text/markdown": [
       "## Recall"
      ],
      "text/plain": [
       "<IPython.core.display.Markdown object>"
      ]
     },
     "metadata": {},
     "output_type": "display_data"
    },
    {
     "name": "stdout",
     "output_type": "stream",
     "text": [
      "Scratch: [1. 1. 1. 1. 1.]\n",
      "Transfer: [1. 1. 1. 1. 1.]\n",
      "Transfer & Revision: [1. 1. 1. 1. 1.]\n"
     ]
    },
    {
     "data": {
      "text/markdown": [
       "## F1"
      ],
      "text/plain": [
       "<IPython.core.display.Markdown object>"
      ]
     },
     "metadata": {},
     "output_type": "display_data"
    },
    {
     "name": "stdout",
     "output_type": "stream",
     "text": [
      "Scratch: [1.       0.991643 1.       1.       1.      ]\n",
      "Transfer: [1. 1. 1. 1. 1.]\n",
      "Transfer & Revision: [1. 1. 1. 1. 1.]\n"
     ]
    },
    {
     "data": {
      "text/markdown": [
       "## Precision"
      ],
      "text/plain": [
       "<IPython.core.display.Markdown object>"
      ]
     },
     "metadata": {},
     "output_type": "display_data"
    },
    {
     "name": "stdout",
     "output_type": "stream",
     "text": [
      "Scratch: [1.       0.983425 1.       1.       1.      ]\n",
      "Transfer: [1. 1. 1. 1. 1.]\n",
      "Transfer & Revision: [1. 1. 1. 1. 1.]\n"
     ]
    },
    {
     "data": {
      "text/markdown": [
       "## Learning and Revision time"
      ],
      "text/plain": [
       "<IPython.core.display.Markdown object>"
      ]
     },
     "metadata": {},
     "output_type": "display_data"
    },
    {
     "name": "stdout",
     "output_type": "stream",
     "text": [
      "Scratch: [9.053 2.904 8.537 8.466 8.827]\n",
      "Transfer: [7.783 4.838 8.183 7.724 6.237]\n",
      "Transfer & Revision: [15.317 12.886 15.447 18.354 15.664]\n"
     ]
    },
    {
     "data": {
      "text/markdown": [
       "## Inference time"
      ],
      "text/plain": [
       "<IPython.core.display.Markdown object>"
      ]
     },
     "metadata": {},
     "output_type": "display_data"
    },
    {
     "name": "stdout",
     "output_type": "stream",
     "text": [
      "Scratch: [0.546 0.622 0.53  0.591 0.564]\n",
      "Transfer: [7.783 4.838 8.183 7.724 6.237]\n",
      "Transfer & Revision: [0.583 1.066 0.583 0.83  0.554]\n"
     ]
    },
    {
     "data": {
      "text/markdown": [
       "# Results for uwcse(publication) -> imdb"
      ],
      "text/plain": [
       "<IPython.core.display.Markdown object>"
      ]
     },
     "metadata": {},
     "output_type": "display_data"
    },
    {
     "data": {
      "text/markdown": [
       "## AUC ROC"
      ],
      "text/plain": [
       "<IPython.core.display.Markdown object>"
      ]
     },
     "metadata": {},
     "output_type": "display_data"
    },
    {
     "name": "stdout",
     "output_type": "stream",
     "text": [
      "Scratch: [0.55127  0.516129 0.534361 0.537721 0.507497]\n",
      "Transfer: [0.5      0.468783 0.489796 0.5      0.50354 ]\n",
      "Transfer & Revision: [0.5      0.468783 0.534361 0.5      0.50354 ]\n"
     ]
    },
    {
     "data": {
      "text/markdown": [
       "## AUC PR"
      ],
      "text/plain": [
       "<IPython.core.display.Markdown object>"
      ]
     },
     "metadata": {},
     "output_type": "display_data"
    },
    {
     "name": "stdout",
     "output_type": "stream",
     "text": [
      "Scratch: [0.541572 0.514714 0.518429 0.536594 0.511212]\n",
      "Transfer: [0.5      0.478707 0.487037 0.5      0.504141]\n",
      "Transfer & Revision: [0.5      0.478707 0.518429 0.5      0.504141]\n"
     ]
    },
    {
     "data": {
      "text/markdown": [
       "## CLL"
      ],
      "text/plain": [
       "<IPython.core.display.Markdown object>"
      ]
     },
     "metadata": {},
     "output_type": "display_data"
    },
    {
     "name": "stdout",
     "output_type": "stream",
     "text": [
      "Scratch: [-0.6932   -0.693899 -0.694223 -0.69418  -0.695924]\n",
      "Transfer: [-0.694501 -0.71462  -0.695923 -0.694772 -0.695923]\n",
      "Transfer & Revision: [-0.694501 -0.71462  -0.695404 -0.694772 -0.695923]\n"
     ]
    },
    {
     "data": {
      "text/markdown": [
       "## Recall"
      ],
      "text/plain": [
       "<IPython.core.display.Markdown object>"
      ]
     },
     "metadata": {},
     "output_type": "display_data"
    },
    {
     "name": "stdout",
     "output_type": "stream",
     "text": [
      "Scratch: [0.       0.290323 0.       0.       0.      ]\n",
      "Transfer: [0.       0.177419 0.       0.       0.      ]\n",
      "Transfer & Revision: [0.       0.177419 0.       0.       0.      ]\n"
     ]
    },
    {
     "data": {
      "text/markdown": [
       "## F1"
      ],
      "text/plain": [
       "<IPython.core.display.Markdown object>"
      ]
     },
     "metadata": {},
     "output_type": "display_data"
    },
    {
     "name": "stdout",
     "output_type": "stream",
     "text": [
      "Scratch: [  nan 0.375   nan   nan   nan]\n",
      "Transfer: [     nan 0.255814      nan      nan      nan]\n",
      "Transfer & Revision: [     nan 0.255814      nan      nan      nan]\n"
     ]
    },
    {
     "data": {
      "text/markdown": [
       "## Precision"
      ],
      "text/plain": [
       "<IPython.core.display.Markdown object>"
      ]
     },
     "metadata": {},
     "output_type": "display_data"
    },
    {
     "name": "stdout",
     "output_type": "stream",
     "text": [
      "Scratch: [     nan 0.529412      nan      nan      nan]\n",
      "Transfer: [     nan 0.458333      nan      nan      nan]\n",
      "Transfer & Revision: [     nan 0.458333      nan      nan      nan]\n"
     ]
    },
    {
     "data": {
      "text/markdown": [
       "## Learning and Revision time"
      ],
      "text/plain": [
       "<IPython.core.display.Markdown object>"
      ]
     },
     "metadata": {},
     "output_type": "display_data"
    },
    {
     "name": "stdout",
     "output_type": "stream",
     "text": [
      "Scratch: [11.274  7.587  9.124 10.159 13.146]\n",
      "Transfer: [5.596 5.176 5.727 5.174 6.158]\n",
      "Transfer & Revision: [11.593 10.683 26.81  11.257 14.276]\n"
     ]
    },
    {
     "data": {
      "text/markdown": [
       "## Inference time"
      ],
      "text/plain": [
       "<IPython.core.display.Markdown object>"
      ]
     },
     "metadata": {},
     "output_type": "display_data"
    },
    {
     "name": "stdout",
     "output_type": "stream",
     "text": [
      "Scratch: [0.507 0.498 0.492 0.5   0.487]\n",
      "Transfer: [5.596 5.176 5.727 5.174 6.158]\n",
      "Transfer & Revision: [0.585 0.595 0.542 0.569 0.573]\n"
     ]
    },
    {
     "data": {
      "text/markdown": [
       "# Results for imdb(workedunder) -> cora"
      ],
      "text/plain": [
       "<IPython.core.display.Markdown object>"
      ]
     },
     "metadata": {},
     "output_type": "display_data"
    },
    {
     "data": {
      "text/markdown": [
       "# Results for imdb(movie) -> cora"
      ],
      "text/plain": [
       "<IPython.core.display.Markdown object>"
      ]
     },
     "metadata": {},
     "output_type": "display_data"
    },
    {
     "data": {
      "text/markdown": [
       "## AUC ROC"
      ],
      "text/plain": [
       "<IPython.core.display.Markdown object>"
      ]
     },
     "metadata": {},
     "output_type": "display_data"
    },
    {
     "name": "stdout",
     "output_type": "stream",
     "text": [
      "Scratch: [1. 1. 1. 1. 1.]\n",
      "Transfer: [1. 1. 1. 1. 1.]\n",
      "Transfer & Revision: [1. 1. 1. 1. 1.]\n"
     ]
    },
    {
     "data": {
      "text/markdown": [
       "## AUC PR"
      ],
      "text/plain": [
       "<IPython.core.display.Markdown object>"
      ]
     },
     "metadata": {},
     "output_type": "display_data"
    },
    {
     "name": "stdout",
     "output_type": "stream",
     "text": [
      "Scratch: [1. 1. 1. 1. 1.]\n",
      "Transfer: [1. 1. 1. 1. 1.]\n",
      "Transfer & Revision: [1. 1. 1. 1. 1.]\n"
     ]
    },
    {
     "data": {
      "text/markdown": [
       "## CLL"
      ],
      "text/plain": [
       "<IPython.core.display.Markdown object>"
      ]
     },
     "metadata": {},
     "output_type": "display_data"
    },
    {
     "name": "stdout",
     "output_type": "stream",
     "text": [
      "Scratch: [-0.126929 -0.294602 -0.126929 -0.194916 -0.143878]\n",
      "Transfer: [-0.143878 -0.235416 -0.126929 -0.126929 -0.126929]\n",
      "Transfer & Revision: [-0.143878 -0.235416 -0.126929 -0.126929 -0.126929]\n"
     ]
    },
    {
     "data": {
      "text/markdown": [
       "## Recall"
      ],
      "text/plain": [
       "<IPython.core.display.Markdown object>"
      ]
     },
     "metadata": {},
     "output_type": "display_data"
    },
    {
     "name": "stdout",
     "output_type": "stream",
     "text": [
      "Scratch: [1. 1. 1. 1. 1.]\n",
      "Transfer: [1. 1. 1. 1. 1.]\n",
      "Transfer & Revision: [1. 1. 1. 1. 1.]\n"
     ]
    },
    {
     "data": {
      "text/markdown": [
       "## F1"
      ],
      "text/plain": [
       "<IPython.core.display.Markdown object>"
      ]
     },
     "metadata": {},
     "output_type": "display_data"
    },
    {
     "name": "stdout",
     "output_type": "stream",
     "text": [
      "Scratch: [1. 1. 1. 1. 1.]\n",
      "Transfer: [1. 1. 1. 1. 1.]\n",
      "Transfer & Revision: [1. 1. 1. 1. 1.]\n"
     ]
    },
    {
     "data": {
      "text/markdown": [
       "## Precision"
      ],
      "text/plain": [
       "<IPython.core.display.Markdown object>"
      ]
     },
     "metadata": {},
     "output_type": "display_data"
    },
    {
     "name": "stdout",
     "output_type": "stream",
     "text": [
      "Scratch: [1. 1. 1. 1. 1.]\n",
      "Transfer: [1. 1. 1. 1. 1.]\n",
      "Transfer & Revision: [1. 1. 1. 1. 1.]\n"
     ]
    },
    {
     "data": {
      "text/markdown": [
       "## Learning and Revision time"
      ],
      "text/plain": [
       "<IPython.core.display.Markdown object>"
      ]
     },
     "metadata": {},
     "output_type": "display_data"
    },
    {
     "name": "stdout",
     "output_type": "stream",
     "text": [
      "Scratch: [12.766 12.486 11.188 10.936  9.129]\n",
      "Transfer: [13.761 11.034 14.047 11.325  9.011]\n",
      "Transfer & Revision: [24.155 22.143 21.034 20.911 16.326]\n"
     ]
    },
    {
     "data": {
      "text/markdown": [
       "## Inference time"
      ],
      "text/plain": [
       "<IPython.core.display.Markdown object>"
      ]
     },
     "metadata": {},
     "output_type": "display_data"
    },
    {
     "name": "stdout",
     "output_type": "stream",
     "text": [
      "Scratch: [0.512 0.496 0.512 0.521 0.546]\n",
      "Transfer: [13.761 11.034 14.047 11.325  9.011]\n",
      "Transfer & Revision: [0.504 0.544 0.536 0.548 0.547]\n"
     ]
    },
    {
     "data": {
      "text/markdown": [
       "# Results for uwcse(advisedby) -> cora"
      ],
      "text/plain": [
       "<IPython.core.display.Markdown object>"
      ]
     },
     "metadata": {},
     "output_type": "display_data"
    },
    {
     "data": {
      "text/markdown": [
       "# Results for uwcse(publication) -> coracora(samevenue) -> imdb"
      ],
      "text/plain": [
       "<IPython.core.display.Markdown object>"
      ]
     },
     "metadata": {},
     "output_type": "display_data"
    },
    {
     "data": {
      "text/markdown": [
       "# Results for cora(samevenue) -> uwcse"
      ],
      "text/plain": [
       "<IPython.core.display.Markdown object>"
      ]
     },
     "metadata": {},
     "output_type": "display_data"
    },
    {
     "data": {
      "text/markdown": [
       "## AUC ROC"
      ],
      "text/plain": [
       "<IPython.core.display.Markdown object>"
      ]
     },
     "metadata": {},
     "output_type": "display_data"
    },
    {
     "name": "stdout",
     "output_type": "stream",
     "text": [
      "Scratch: [1.       0.991573 1.       1.       1.      ]\n",
      "Transfer: [0.758929 0.828652 0.666667 0.5      0.577778]\n",
      "Transfer & Revision: [1.       0.991573 1.       1.       1.      ]\n"
     ]
    },
    {
     "data": {
      "text/markdown": [
       "## AUC PR"
      ],
      "text/plain": [
       "<IPython.core.display.Markdown object>"
      ]
     },
     "metadata": {},
     "output_type": "display_data"
    },
    {
     "name": "stdout",
     "output_type": "stream",
     "text": [
      "Scratch: [1.       0.983425 1.       1.       1.      ]\n",
      "Transfer: [0.674699 0.74477  0.6      0.5      0.542169]\n",
      "Transfer & Revision: [1.       0.983425 1.       1.       1.      ]\n"
     ]
    },
    {
     "data": {
      "text/markdown": [
       "## CLL"
      ],
      "text/plain": [
       "<IPython.core.display.Markdown object>"
      ]
     },
     "metadata": {},
     "output_type": "display_data"
    },
    {
     "name": "stdout",
     "output_type": "stream",
     "text": [
      "Scratch: [-0.096429 -0.112035 -0.097325 -0.096944 -0.096005]\n",
      "Transfer: [-0.506748 -0.461026 -0.571498 -0.71093  -0.64367 ]\n",
      "Transfer & Revision: [-0.096433 -0.112035 -0.097325 -0.097083 -0.096266]\n"
     ]
    },
    {
     "data": {
      "text/markdown": [
       "## Recall"
      ],
      "text/plain": [
       "<IPython.core.display.Markdown object>"
      ]
     },
     "metadata": {},
     "output_type": "display_data"
    },
    {
     "name": "stdout",
     "output_type": "stream",
     "text": [
      "Scratch: [1. 1. 1. 1. 1.]\n",
      "Transfer: [1. 1. 1. 1. 1.]\n",
      "Transfer & Revision: [1. 1. 1. 1. 1.]\n"
     ]
    },
    {
     "data": {
      "text/markdown": [
       "## F1"
      ],
      "text/plain": [
       "<IPython.core.display.Markdown object>"
      ]
     },
     "metadata": {},
     "output_type": "display_data"
    },
    {
     "name": "stdout",
     "output_type": "stream",
     "text": [
      "Scratch: [1.       0.991643 1.       1.       1.      ]\n",
      "Transfer: [0.805755 0.853717 0.75     0.666667 0.703125]\n",
      "Transfer & Revision: [1.       0.991643 1.       1.       1.      ]\n"
     ]
    },
    {
     "data": {
      "text/markdown": [
       "## Precision"
      ],
      "text/plain": [
       "<IPython.core.display.Markdown object>"
      ]
     },
     "metadata": {},
     "output_type": "display_data"
    },
    {
     "name": "stdout",
     "output_type": "stream",
     "text": [
      "Scratch: [1.       0.983425 1.       1.       1.      ]\n",
      "Transfer: [0.674699 0.74477  0.6      0.5      0.542169]\n",
      "Transfer & Revision: [1.       0.983425 1.       1.       1.      ]\n"
     ]
    },
    {
     "data": {
      "text/markdown": [
       "## Learning and Revision time"
      ],
      "text/plain": [
       "<IPython.core.display.Markdown object>"
      ]
     },
     "metadata": {},
     "output_type": "display_data"
    },
    {
     "name": "stdout",
     "output_type": "stream",
     "text": [
      "Scratch: [8.318 2.632 8.708 8.148 8.908]\n",
      "Transfer: [4.053 3.677 5.084 4.391 4.312]\n",
      "Transfer & Revision: [19.993  9.945 21.127 19.153 21.455]\n"
     ]
    },
    {
     "data": {
      "text/markdown": [
       "## Inference time"
      ],
      "text/plain": [
       "<IPython.core.display.Markdown object>"
      ]
     },
     "metadata": {},
     "output_type": "display_data"
    },
    {
     "name": "stdout",
     "output_type": "stream",
     "text": [
      "Scratch: [0.534 0.666 0.52  0.576 0.527]\n",
      "Transfer: [4.053 3.677 5.084 4.391 4.312]\n",
      "Transfer & Revision: [0.582 0.684 0.519 0.553 0.521]\n"
     ]
    },
    {
     "data": {
      "text/markdown": [
       "# Results for imdb(workedunder) -> nell"
      ],
      "text/plain": [
       "<IPython.core.display.Markdown object>"
      ]
     },
     "metadata": {},
     "output_type": "display_data"
    },
    {
     "data": {
      "text/markdown": [
       "## AUC ROC"
      ],
      "text/plain": [
       "<IPython.core.display.Markdown object>"
      ]
     },
     "metadata": {},
     "output_type": "display_data"
    },
    {
     "name": "stdout",
     "output_type": "stream",
     "text": [
      "Scratch: [0.907347 0.975309 0.890266 0.9825   0.890625]\n",
      "Transfer: [0.628571 0.5      0.636364 0.65     0.625   ]\n",
      "Transfer & Revision: [0.628571 0.5      0.636364 0.65     0.625   ]\n"
     ]
    },
    {
     "data": {
      "text/markdown": [
       "## AUC PR"
      ],
      "text/plain": [
       "<IPython.core.display.Markdown object>"
      ]
     },
     "metadata": {},
     "output_type": "display_data"
    },
    {
     "name": "stdout",
     "output_type": "stream",
     "text": [
      "Scratch: [0.869955 0.974691 0.835642 0.982702 0.862358]\n",
      "Transfer: [0.636646 0.5      0.650431 0.655212 0.700399]\n",
      "Transfer & Revision: [0.636646 0.5      0.650431 0.655212 0.700399]\n"
     ]
    },
    {
     "data": {
      "text/markdown": [
       "## CLL"
      ],
      "text/plain": [
       "<IPython.core.display.Markdown object>"
      ]
     },
     "metadata": {},
     "output_type": "display_data"
    },
    {
     "name": "stdout",
     "output_type": "stream",
     "text": [
      "Scratch: [-0.319623 -0.243008 -0.346632 -0.21659  -0.381242]\n",
      "Transfer: [-0.650398 -0.734288 -0.644177 -0.647062 -0.636777]\n",
      "Transfer & Revision: [-0.650398 -0.734288 -0.644177 -0.647062 -0.636777]\n"
     ]
    },
    {
     "data": {
      "text/markdown": [
       "## Recall"
      ],
      "text/plain": [
       "<IPython.core.display.Markdown object>"
      ]
     },
     "metadata": {},
     "output_type": "display_data"
    },
    {
     "name": "stdout",
     "output_type": "stream",
     "text": [
      "Scratch: [1.       1.       0.939394 1.       0.875   ]\n",
      "Transfer: [0.4      0.111111 0.393939 0.45     0.25    ]\n",
      "Transfer & Revision: [0.4      0.111111 0.393939 0.45     0.25    ]\n"
     ]
    },
    {
     "data": {
      "text/markdown": [
       "## F1"
      ],
      "text/plain": [
       "<IPython.core.display.Markdown object>"
      ]
     },
     "metadata": {},
     "output_type": "display_data"
    },
    {
     "name": "stdout",
     "output_type": "stream",
     "text": [
      "Scratch: [0.909091 0.947368 0.873239 0.952381 0.823529]\n",
      "Transfer: [0.518519 0.181818 0.52     0.5625   0.4     ]\n",
      "Transfer & Revision: [0.518519 0.181818 0.52     0.5625   0.4     ]\n"
     ]
    },
    {
     "data": {
      "text/markdown": [
       "## Precision"
      ],
      "text/plain": [
       "<IPython.core.display.Markdown object>"
      ]
     },
     "metadata": {},
     "output_type": "display_data"
    },
    {
     "name": "stdout",
     "output_type": "stream",
     "text": [
      "Scratch: [0.833333 0.9      0.815789 0.909091 0.777778]\n",
      "Transfer: [0.736842 0.5      0.764706 0.75     1.      ]\n",
      "Transfer & Revision: [0.736842 0.5      0.764706 0.75     1.      ]\n"
     ]
    },
    {
     "data": {
      "text/markdown": [
       "## Learning and Revision time"
      ],
      "text/plain": [
       "<IPython.core.display.Markdown object>"
      ]
     },
     "metadata": {},
     "output_type": "display_data"
    },
    {
     "name": "stdout",
     "output_type": "stream",
     "text": [
      "Scratch: [16.03  64.027 17.347 10.615 11.14 ]\n",
      "Transfer: [11.148  7.097  4.29   5.756  6.586]\n",
      "Transfer & Revision: [16.843 16.683 68.712 15.816 12.155]\n"
     ]
    },
    {
     "data": {
      "text/markdown": [
       "## Inference time"
      ],
      "text/plain": [
       "<IPython.core.display.Markdown object>"
      ]
     },
     "metadata": {},
     "output_type": "display_data"
    },
    {
     "name": "stdout",
     "output_type": "stream",
     "text": [
      "Scratch: [0.698 0.531 0.724 0.575 0.58 ]\n",
      "Transfer: [11.148  7.097  4.29   5.756  6.586]\n",
      "Transfer & Revision: [0.598 0.431 0.593 0.512 0.505]\n"
     ]
    },
    {
     "data": {
      "text/markdown": [
       "# Results for uwcse(advisedby) -> nell"
      ],
      "text/plain": [
       "<IPython.core.display.Markdown object>"
      ]
     },
     "metadata": {},
     "output_type": "display_data"
    }
   ],
   "source": [
    "for dataset in range(len(experiments)):\n",
    "    display(Markdown('# Results for ' + experiments[dataset]))\n",
    "    table = []\n",
    "    for metric in ['AUC ROC', 'AUC PR', 'CLL', 'Recall', 'F1', 'Precision', 'Learning and Revision time', 'Inference time']:\n",
    "    #for metric in ['AUC ROC', 'AUC PR']:\n",
    "        if dataset not in [4,6,7,10]:\n",
    "            display(Markdown('## ' + metric))\n",
    "            x = []\n",
    "            if metric == 'Precision':\n",
    "                scratch = np.array([item['Precision'][0] for sublist in data['results'][str(dataset)]['scratch'].values() for item in sublist])\n",
    "                parameter = np.array([item['Parameter Learning results']['Precision'][0] for sublist in data['results'][str(dataset)]['transfer'].values() for item in sublist])\n",
    "                transfer = np.array([item['Precision'][0] for sublist in data['results'][str(dataset)]['transfer'].values() for item in sublist])\n",
    "            elif metric == 'Learning and Revision time':\n",
    "                scratch = np.array([item['Learning time'] for sublist in data['results'][str(dataset)]['scratch'].values() for item in sublist])\n",
    "                parameter = np.array([item['Parameter Learning results']['Learning time'] for sublist in data['results'][str(dataset)]['transfer'].values() for item in sublist])\n",
    "                transfer = np.array([item['Learning time'] for sublist in data['results'][str(dataset)]['transfer'].values() for item in sublist])\n",
    "            elif metric == 'Inference time':\n",
    "                scratch = np.array([item['Inference time'] for sublist in data['results'][str(dataset)]['scratch'].values() for item in sublist])\n",
    "                parameter = np.array([item['Parameter Learning results']['Learning time'] for sublist in data['results'][str(dataset)]['transfer'].values() for item in sublist])\n",
    "                transfer = np.array([item['Inference time'] for sublist in data['results'][str(dataset)]['transfer'].values() for item in sublist])\n",
    "            else:\n",
    "                scratch = np.array([item[metric] for sublist in data['results'][str(dataset)]['scratch'].values() for item in sublist])\n",
    "                parameter = np.array([item['Parameter Learning results'][metric] for sublist in data['results'][str(dataset)]['transfer'].values() for item in sublist])\n",
    "                transfer = np.array([item[metric] for sublist in data['results'][str(dataset)]['transfer'].values() for item in sublist])\n",
    "            print('Scratch: %s' % scratch)\n",
    "            print('Transfer: %s' % parameter)\n",
    "            print('Transfer & Revision: %s' % transfer)"
   ]
  },
  {
   "cell_type": "code",
   "execution_count": null,
   "metadata": {
    "collapsed": true
   },
   "outputs": [],
   "source": []
  }
 ],
 "metadata": {
  "anaconda-cloud": {},
  "kernelspec": {
   "display_name": "Python [conda env:anaconda3]",
   "language": "python",
   "name": "conda-env-anaconda3-py"
  },
  "language_info": {
   "codemirror_mode": {
    "name": "ipython",
    "version": 3
   },
   "file_extension": ".py",
   "mimetype": "text/x-python",
   "name": "python",
   "nbconvert_exporter": "python",
   "pygments_lexer": "ipython3",
   "version": "3.5.2"
  }
 },
 "nbformat": 4,
 "nbformat_minor": 1
}
