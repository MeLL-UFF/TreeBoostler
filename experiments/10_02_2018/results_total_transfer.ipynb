{
 "cells": [
  {
   "cell_type": "code",
   "execution_count": 1,
   "metadata": {
    "collapsed": true
   },
   "outputs": [],
   "source": [
    "import matplotlib.pyplot as plt\n",
    "from IPython.display import display, Markdown, Latex\n",
    "import numpy as np\n",
    "import json\n",
    "import pandas as pd\n",
    "\n",
    "with open('total_transfer_experiment.json', 'r') as fp:\n",
    "    data = json.load(fp)"
   ]
  },
  {
   "cell_type": "code",
   "execution_count": 8,
   "metadata": {
    "collapsed": false
   },
   "outputs": [
    {
     "data": {
      "text/markdown": [
       "# Results for AUC ROC"
      ],
      "text/plain": [
       "<IPython.core.display.Markdown object>"
      ]
     },
     "metadata": {},
     "output_type": "display_data"
    },
    {
     "data": {
      "text/html": [
       "<div>\n",
       "<table border=\"1\" class=\"dataframe\">\n",
       "  <thead>\n",
       "    <tr style=\"text-align: right;\">\n",
       "      <th></th>\n",
       "      <th>Experiment</th>\n",
       "      <th>Transfer Learning</th>\n",
       "      <th>Transfer Learning with Revision Theory</th>\n",
       "      <th>Learning from scratch</th>\n",
       "    </tr>\n",
       "  </thead>\n",
       "  <tbody>\n",
       "    <tr>\n",
       "      <th>0</th>\n",
       "      <td>imdb(workedunder) -&gt; uwcse</td>\n",
       "      <td>0.895 +/- 0.053</td>\n",
       "      <td>0.909 +/- 0.084</td>\n",
       "      <td>0.932 +/- 0.079</td>\n",
       "    </tr>\n",
       "    <tr>\n",
       "      <th>1</th>\n",
       "      <td>imdb(movie) -&gt; uwcse</td>\n",
       "      <td>0.625 +/- 0.139</td>\n",
       "      <td>0.625 +/- 0.139</td>\n",
       "      <td>0.609 +/- 0.134</td>\n",
       "    </tr>\n",
       "    <tr>\n",
       "      <th>2</th>\n",
       "      <td>uwcse(advisedby) -&gt; imdb</td>\n",
       "      <td>1.000 +/- 0.000</td>\n",
       "      <td>1.000 +/- 0.000</td>\n",
       "      <td>0.998 +/- 0.007</td>\n",
       "    </tr>\n",
       "    <tr>\n",
       "      <th>3</th>\n",
       "      <td>uwcse(publication) -&gt; imdb</td>\n",
       "      <td>0.492 +/- 0.025</td>\n",
       "      <td>0.501 +/- 0.042</td>\n",
       "      <td>0.529 +/- 0.031</td>\n",
       "    </tr>\n",
       "  </tbody>\n",
       "</table>\n",
       "</div>"
      ],
      "text/plain": [
       "                   Experiment Transfer Learning  \\\n",
       "0  imdb(workedunder) -> uwcse   0.895 +/- 0.053   \n",
       "1        imdb(movie) -> uwcse   0.625 +/- 0.139   \n",
       "2    uwcse(advisedby) -> imdb   1.000 +/- 0.000   \n",
       "3  uwcse(publication) -> imdb   0.492 +/- 0.025   \n",
       "\n",
       "  Transfer Learning with Revision Theory Learning from scratch  \n",
       "0                        0.909 +/- 0.084       0.932 +/- 0.079  \n",
       "1                        0.625 +/- 0.139       0.609 +/- 0.134  \n",
       "2                        1.000 +/- 0.000       0.998 +/- 0.007  \n",
       "3                        0.501 +/- 0.042       0.529 +/- 0.031  "
      ]
     },
     "metadata": {},
     "output_type": "display_data"
    },
    {
     "data": {
      "text/markdown": [
       "# Results for AUC PR"
      ],
      "text/plain": [
       "<IPython.core.display.Markdown object>"
      ]
     },
     "metadata": {},
     "output_type": "display_data"
    },
    {
     "data": {
      "text/html": [
       "<div>\n",
       "<table border=\"1\" class=\"dataframe\">\n",
       "  <thead>\n",
       "    <tr style=\"text-align: right;\">\n",
       "      <th></th>\n",
       "      <th>Experiment</th>\n",
       "      <th>Transfer Learning</th>\n",
       "      <th>Transfer Learning with Revision Theory</th>\n",
       "      <th>Learning from scratch</th>\n",
       "    </tr>\n",
       "  </thead>\n",
       "  <tbody>\n",
       "    <tr>\n",
       "      <th>0</th>\n",
       "      <td>imdb(workedunder) -&gt; uwcse</td>\n",
       "      <td>0.865 +/- 0.105</td>\n",
       "      <td>0.872 +/- 0.139</td>\n",
       "      <td>0.919 +/- 0.100</td>\n",
       "    </tr>\n",
       "    <tr>\n",
       "      <th>1</th>\n",
       "      <td>imdb(movie) -&gt; uwcse</td>\n",
       "      <td>0.599 +/- 0.117</td>\n",
       "      <td>0.599 +/- 0.117</td>\n",
       "      <td>0.581 +/- 0.073</td>\n",
       "    </tr>\n",
       "    <tr>\n",
       "      <th>2</th>\n",
       "      <td>uwcse(advisedby) -&gt; imdb</td>\n",
       "      <td>1.000 +/- 0.000</td>\n",
       "      <td>1.000 +/- 0.000</td>\n",
       "      <td>0.997 +/- 0.013</td>\n",
       "    </tr>\n",
       "    <tr>\n",
       "      <th>3</th>\n",
       "      <td>uwcse(publication) -&gt; imdb</td>\n",
       "      <td>0.494 +/- 0.019</td>\n",
       "      <td>0.500 +/- 0.025</td>\n",
       "      <td>0.525 +/- 0.024</td>\n",
       "    </tr>\n",
       "  </tbody>\n",
       "</table>\n",
       "</div>"
      ],
      "text/plain": [
       "                   Experiment Transfer Learning  \\\n",
       "0  imdb(workedunder) -> uwcse   0.865 +/- 0.105   \n",
       "1        imdb(movie) -> uwcse   0.599 +/- 0.117   \n",
       "2    uwcse(advisedby) -> imdb   1.000 +/- 0.000   \n",
       "3  uwcse(publication) -> imdb   0.494 +/- 0.019   \n",
       "\n",
       "  Transfer Learning with Revision Theory Learning from scratch  \n",
       "0                        0.872 +/- 0.139       0.919 +/- 0.100  \n",
       "1                        0.599 +/- 0.117       0.581 +/- 0.073  \n",
       "2                        1.000 +/- 0.000       0.997 +/- 0.013  \n",
       "3                        0.500 +/- 0.025       0.525 +/- 0.024  "
      ]
     },
     "metadata": {},
     "output_type": "display_data"
    },
    {
     "data": {
      "text/markdown": [
       "# Results for CLL"
      ],
      "text/plain": [
       "<IPython.core.display.Markdown object>"
      ]
     },
     "metadata": {},
     "output_type": "display_data"
    },
    {
     "data": {
      "text/html": [
       "<div>\n",
       "<table border=\"1\" class=\"dataframe\">\n",
       "  <thead>\n",
       "    <tr style=\"text-align: right;\">\n",
       "      <th></th>\n",
       "      <th>Experiment</th>\n",
       "      <th>Transfer Learning</th>\n",
       "      <th>Transfer Learning with Revision Theory</th>\n",
       "      <th>Learning from scratch</th>\n",
       "    </tr>\n",
       "  </thead>\n",
       "  <tbody>\n",
       "    <tr>\n",
       "      <th>0</th>\n",
       "      <td>imdb(workedunder) -&gt; uwcse</td>\n",
       "      <td>-0.511 +/- 0.090</td>\n",
       "      <td>-0.394 +/- 0.261</td>\n",
       "      <td>-0.297 +/- 0.124</td>\n",
       "    </tr>\n",
       "    <tr>\n",
       "      <th>1</th>\n",
       "      <td>imdb(movie) -&gt; uwcse</td>\n",
       "      <td>-0.670 +/- 0.097</td>\n",
       "      <td>-0.670 +/- 0.097</td>\n",
       "      <td>-0.722 +/- 0.135</td>\n",
       "    </tr>\n",
       "    <tr>\n",
       "      <th>2</th>\n",
       "      <td>uwcse(advisedby) -&gt; imdb</td>\n",
       "      <td>-0.111 +/- 0.039</td>\n",
       "      <td>-0.111 +/- 0.039</td>\n",
       "      <td>-0.100 +/- 0.012</td>\n",
       "    </tr>\n",
       "    <tr>\n",
       "      <th>3</th>\n",
       "      <td>uwcse(publication) -&gt; imdb</td>\n",
       "      <td>-0.699 +/- 0.016</td>\n",
       "      <td>-0.699 +/- 0.016</td>\n",
       "      <td>-0.694 +/- 0.002</td>\n",
       "    </tr>\n",
       "  </tbody>\n",
       "</table>\n",
       "</div>"
      ],
      "text/plain": [
       "                   Experiment Transfer Learning  \\\n",
       "0  imdb(workedunder) -> uwcse  -0.511 +/- 0.090   \n",
       "1        imdb(movie) -> uwcse  -0.670 +/- 0.097   \n",
       "2    uwcse(advisedby) -> imdb  -0.111 +/- 0.039   \n",
       "3  uwcse(publication) -> imdb  -0.699 +/- 0.016   \n",
       "\n",
       "  Transfer Learning with Revision Theory Learning from scratch  \n",
       "0                       -0.394 +/- 0.261      -0.297 +/- 0.124  \n",
       "1                       -0.670 +/- 0.097      -0.722 +/- 0.135  \n",
       "2                       -0.111 +/- 0.039      -0.100 +/- 0.012  \n",
       "3                       -0.699 +/- 0.016      -0.694 +/- 0.002  "
      ]
     },
     "metadata": {},
     "output_type": "display_data"
    },
    {
     "data": {
      "text/markdown": [
       "# Results for Recall"
      ],
      "text/plain": [
       "<IPython.core.display.Markdown object>"
      ]
     },
     "metadata": {},
     "output_type": "display_data"
    },
    {
     "data": {
      "text/html": [
       "<div>\n",
       "<table border=\"1\" class=\"dataframe\">\n",
       "  <thead>\n",
       "    <tr style=\"text-align: right;\">\n",
       "      <th></th>\n",
       "      <th>Experiment</th>\n",
       "      <th>Transfer Learning</th>\n",
       "      <th>Transfer Learning with Revision Theory</th>\n",
       "      <th>Learning from scratch</th>\n",
       "    </tr>\n",
       "  </thead>\n",
       "  <tbody>\n",
       "    <tr>\n",
       "      <th>0</th>\n",
       "      <td>imdb(workedunder) -&gt; uwcse</td>\n",
       "      <td>0.321 +/- 0.249</td>\n",
       "      <td>0.689 +/- 0.736</td>\n",
       "      <td>0.960 +/- 0.084</td>\n",
       "    </tr>\n",
       "    <tr>\n",
       "      <th>1</th>\n",
       "      <td>imdb(movie) -&gt; uwcse</td>\n",
       "      <td>0.637 +/- 0.173</td>\n",
       "      <td>0.637 +/- 0.173</td>\n",
       "      <td>0.366 +/- 0.488</td>\n",
       "    </tr>\n",
       "    <tr>\n",
       "      <th>2</th>\n",
       "      <td>uwcse(advisedby) -&gt; imdb</td>\n",
       "      <td>1.000 +/- 0.000</td>\n",
       "      <td>1.000 +/- 0.000</td>\n",
       "      <td>1.000 +/- 0.000</td>\n",
       "    </tr>\n",
       "    <tr>\n",
       "      <th>3</th>\n",
       "      <td>uwcse(publication) -&gt; imdb</td>\n",
       "      <td>0.035 +/- 0.142</td>\n",
       "      <td>0.035 +/- 0.142</td>\n",
       "      <td>0.058 +/- 0.232</td>\n",
       "    </tr>\n",
       "  </tbody>\n",
       "</table>\n",
       "</div>"
      ],
      "text/plain": [
       "                   Experiment Transfer Learning  \\\n",
       "0  imdb(workedunder) -> uwcse   0.321 +/- 0.249   \n",
       "1        imdb(movie) -> uwcse   0.637 +/- 0.173   \n",
       "2    uwcse(advisedby) -> imdb   1.000 +/- 0.000   \n",
       "3  uwcse(publication) -> imdb   0.035 +/- 0.142   \n",
       "\n",
       "  Transfer Learning with Revision Theory Learning from scratch  \n",
       "0                        0.689 +/- 0.736       0.960 +/- 0.084  \n",
       "1                        0.637 +/- 0.173       0.366 +/- 0.488  \n",
       "2                        1.000 +/- 0.000       1.000 +/- 0.000  \n",
       "3                        0.035 +/- 0.142       0.058 +/- 0.232  "
      ]
     },
     "metadata": {},
     "output_type": "display_data"
    },
    {
     "data": {
      "text/markdown": [
       "# Results for F1"
      ],
      "text/plain": [
       "<IPython.core.display.Markdown object>"
      ]
     },
     "metadata": {},
     "output_type": "display_data"
    },
    {
     "data": {
      "text/html": [
       "<div>\n",
       "<table border=\"1\" class=\"dataframe\">\n",
       "  <thead>\n",
       "    <tr style=\"text-align: right;\">\n",
       "      <th></th>\n",
       "      <th>Experiment</th>\n",
       "      <th>Transfer Learning</th>\n",
       "      <th>Transfer Learning with Revision Theory</th>\n",
       "      <th>Learning from scratch</th>\n",
       "    </tr>\n",
       "  </thead>\n",
       "  <tbody>\n",
       "    <tr>\n",
       "      <th>0</th>\n",
       "      <td>imdb(workedunder) -&gt; uwcse</td>\n",
       "      <td>0.461 +/- 0.314</td>\n",
       "      <td>0.691 +/- 0.587</td>\n",
       "      <td>0.897 +/- 0.062</td>\n",
       "    </tr>\n",
       "    <tr>\n",
       "      <th>1</th>\n",
       "      <td>imdb(movie) -&gt; uwcse</td>\n",
       "      <td>0.628 +/- 0.141</td>\n",
       "      <td>0.628 +/- 0.141</td>\n",
       "      <td>nan +/- nan</td>\n",
       "    </tr>\n",
       "    <tr>\n",
       "      <th>2</th>\n",
       "      <td>uwcse(advisedby) -&gt; imdb</td>\n",
       "      <td>1.000 +/- 0.000</td>\n",
       "      <td>1.000 +/- 0.000</td>\n",
       "      <td>0.998 +/- 0.007</td>\n",
       "    </tr>\n",
       "    <tr>\n",
       "      <th>3</th>\n",
       "      <td>uwcse(publication) -&gt; imdb</td>\n",
       "      <td>nan +/- nan</td>\n",
       "      <td>nan +/- nan</td>\n",
       "      <td>nan +/- nan</td>\n",
       "    </tr>\n",
       "  </tbody>\n",
       "</table>\n",
       "</div>"
      ],
      "text/plain": [
       "                   Experiment Transfer Learning  \\\n",
       "0  imdb(workedunder) -> uwcse   0.461 +/- 0.314   \n",
       "1        imdb(movie) -> uwcse   0.628 +/- 0.141   \n",
       "2    uwcse(advisedby) -> imdb   1.000 +/- 0.000   \n",
       "3  uwcse(publication) -> imdb       nan +/- nan   \n",
       "\n",
       "  Transfer Learning with Revision Theory Learning from scratch  \n",
       "0                        0.691 +/- 0.587       0.897 +/- 0.062  \n",
       "1                        0.628 +/- 0.141           nan +/- nan  \n",
       "2                        1.000 +/- 0.000       0.998 +/- 0.007  \n",
       "3                            nan +/- nan           nan +/- nan  "
      ]
     },
     "metadata": {},
     "output_type": "display_data"
    },
    {
     "data": {
      "text/markdown": [
       "# Results for Precision"
      ],
      "text/plain": [
       "<IPython.core.display.Markdown object>"
      ]
     },
     "metadata": {},
     "output_type": "display_data"
    },
    {
     "data": {
      "text/html": [
       "<div>\n",
       "<table border=\"1\" class=\"dataframe\">\n",
       "  <thead>\n",
       "    <tr style=\"text-align: right;\">\n",
       "      <th></th>\n",
       "      <th>Experiment</th>\n",
       "      <th>Transfer Learning</th>\n",
       "      <th>Transfer Learning with Revision Theory</th>\n",
       "      <th>Learning from scratch</th>\n",
       "    </tr>\n",
       "  </thead>\n",
       "  <tbody>\n",
       "    <tr>\n",
       "      <th>0</th>\n",
       "      <td>imdb(workedunder) -&gt; uwcse</td>\n",
       "      <td>0.860 +/- 0.373</td>\n",
       "      <td>0.784 +/- 0.294</td>\n",
       "      <td>0.845 +/- 0.105</td>\n",
       "    </tr>\n",
       "    <tr>\n",
       "      <th>1</th>\n",
       "      <td>imdb(movie) -&gt; uwcse</td>\n",
       "      <td>0.624 +/- 0.149</td>\n",
       "      <td>0.624 +/- 0.149</td>\n",
       "      <td>nan +/- nan</td>\n",
       "    </tr>\n",
       "    <tr>\n",
       "      <th>2</th>\n",
       "      <td>uwcse(advisedby) -&gt; imdb</td>\n",
       "      <td>1.000 +/- 0.000</td>\n",
       "      <td>1.000 +/- 0.000</td>\n",
       "      <td>0.997 +/- 0.013</td>\n",
       "    </tr>\n",
       "    <tr>\n",
       "      <th>3</th>\n",
       "      <td>uwcse(publication) -&gt; imdb</td>\n",
       "      <td>nan +/- nan</td>\n",
       "      <td>nan +/- nan</td>\n",
       "      <td>nan +/- nan</td>\n",
       "    </tr>\n",
       "  </tbody>\n",
       "</table>\n",
       "</div>"
      ],
      "text/plain": [
       "                   Experiment Transfer Learning  \\\n",
       "0  imdb(workedunder) -> uwcse   0.860 +/- 0.373   \n",
       "1        imdb(movie) -> uwcse   0.624 +/- 0.149   \n",
       "2    uwcse(advisedby) -> imdb   1.000 +/- 0.000   \n",
       "3  uwcse(publication) -> imdb       nan +/- nan   \n",
       "\n",
       "  Transfer Learning with Revision Theory Learning from scratch  \n",
       "0                        0.784 +/- 0.294       0.845 +/- 0.105  \n",
       "1                        0.624 +/- 0.149           nan +/- nan  \n",
       "2                        1.000 +/- 0.000       0.997 +/- 0.013  \n",
       "3                            nan +/- nan           nan +/- nan  "
      ]
     },
     "metadata": {},
     "output_type": "display_data"
    },
    {
     "data": {
      "text/markdown": [
       "# Results for Learning and Revision time"
      ],
      "text/plain": [
       "<IPython.core.display.Markdown object>"
      ]
     },
     "metadata": {},
     "output_type": "display_data"
    },
    {
     "data": {
      "text/html": [
       "<div>\n",
       "<table border=\"1\" class=\"dataframe\">\n",
       "  <thead>\n",
       "    <tr style=\"text-align: right;\">\n",
       "      <th></th>\n",
       "      <th>Experiment</th>\n",
       "      <th>Transfer Learning</th>\n",
       "      <th>Transfer Learning with Revision Theory</th>\n",
       "      <th>Learning from scratch</th>\n",
       "    </tr>\n",
       "  </thead>\n",
       "  <tbody>\n",
       "    <tr>\n",
       "      <th>0</th>\n",
       "      <td>imdb(workedunder) -&gt; uwcse</td>\n",
       "      <td>4.630 +/- 0.997</td>\n",
       "      <td>38.884 +/- 48.404</td>\n",
       "      <td>13.889 +/- 2.919</td>\n",
       "    </tr>\n",
       "    <tr>\n",
       "      <th>1</th>\n",
       "      <td>imdb(movie) -&gt; uwcse</td>\n",
       "      <td>49.662 +/- 75.002</td>\n",
       "      <td>91.386 +/- 146.512</td>\n",
       "      <td>269.347 +/- 451.839</td>\n",
       "    </tr>\n",
       "    <tr>\n",
       "      <th>2</th>\n",
       "      <td>uwcse(advisedby) -&gt; imdb</td>\n",
       "      <td>6.953 +/- 2.495</td>\n",
       "      <td>15.534 +/- 3.468</td>\n",
       "      <td>7.557 +/- 4.672</td>\n",
       "    </tr>\n",
       "    <tr>\n",
       "      <th>3</th>\n",
       "      <td>uwcse(publication) -&gt; imdb</td>\n",
       "      <td>5.566 +/- 0.739</td>\n",
       "      <td>14.924 +/- 12.140</td>\n",
       "      <td>10.258 +/- 3.774</td>\n",
       "    </tr>\n",
       "  </tbody>\n",
       "</table>\n",
       "</div>"
      ],
      "text/plain": [
       "                   Experiment  Transfer Learning  \\\n",
       "0  imdb(workedunder) -> uwcse    4.630 +/- 0.997   \n",
       "1        imdb(movie) -> uwcse  49.662 +/- 75.002   \n",
       "2    uwcse(advisedby) -> imdb    6.953 +/- 2.495   \n",
       "3  uwcse(publication) -> imdb    5.566 +/- 0.739   \n",
       "\n",
       "  Transfer Learning with Revision Theory Learning from scratch  \n",
       "0                      38.884 +/- 48.404      13.889 +/- 2.919  \n",
       "1                     91.386 +/- 146.512   269.347 +/- 451.839  \n",
       "2                       15.534 +/- 3.468       7.557 +/- 4.672  \n",
       "3                      14.924 +/- 12.140      10.258 +/- 3.774  "
      ]
     },
     "metadata": {},
     "output_type": "display_data"
    },
    {
     "data": {
      "text/markdown": [
       "# Results for Inference time"
      ],
      "text/plain": [
       "<IPython.core.display.Markdown object>"
      ]
     },
     "metadata": {},
     "output_type": "display_data"
    },
    {
     "data": {
      "text/html": [
       "<div>\n",
       "<table border=\"1\" class=\"dataframe\">\n",
       "  <thead>\n",
       "    <tr style=\"text-align: right;\">\n",
       "      <th></th>\n",
       "      <th>Experiment</th>\n",
       "      <th>Transfer Learning</th>\n",
       "      <th>Transfer Learning with Revision Theory</th>\n",
       "      <th>Learning from scratch</th>\n",
       "    </tr>\n",
       "  </thead>\n",
       "  <tbody>\n",
       "    <tr>\n",
       "      <th>0</th>\n",
       "      <td>imdb(workedunder) -&gt; uwcse</td>\n",
       "      <td>4.630 +/- 0.997</td>\n",
       "      <td>0.551 +/- 0.188</td>\n",
       "      <td>0.642 +/- 0.143</td>\n",
       "    </tr>\n",
       "    <tr>\n",
       "      <th>1</th>\n",
       "      <td>imdb(movie) -&gt; uwcse</td>\n",
       "      <td>49.662 +/- 75.002</td>\n",
       "      <td>0.574 +/- 0.221</td>\n",
       "      <td>0.746 +/- 0.328</td>\n",
       "    </tr>\n",
       "    <tr>\n",
       "      <th>2</th>\n",
       "      <td>uwcse(advisedby) -&gt; imdb</td>\n",
       "      <td>6.953 +/- 2.495</td>\n",
       "      <td>0.723 +/- 0.397</td>\n",
       "      <td>0.571 +/- 0.065</td>\n",
       "    </tr>\n",
       "    <tr>\n",
       "      <th>3</th>\n",
       "      <td>uwcse(publication) -&gt; imdb</td>\n",
       "      <td>5.566 +/- 0.739</td>\n",
       "      <td>0.573 +/- 0.036</td>\n",
       "      <td>0.497 +/- 0.014</td>\n",
       "    </tr>\n",
       "  </tbody>\n",
       "</table>\n",
       "</div>"
      ],
      "text/plain": [
       "                   Experiment  Transfer Learning  \\\n",
       "0  imdb(workedunder) -> uwcse    4.630 +/- 0.997   \n",
       "1        imdb(movie) -> uwcse  49.662 +/- 75.002   \n",
       "2    uwcse(advisedby) -> imdb    6.953 +/- 2.495   \n",
       "3  uwcse(publication) -> imdb    5.566 +/- 0.739   \n",
       "\n",
       "  Transfer Learning with Revision Theory Learning from scratch  \n",
       "0                        0.551 +/- 0.188       0.642 +/- 0.143  \n",
       "1                        0.574 +/- 0.221       0.746 +/- 0.328  \n",
       "2                        0.723 +/- 0.397       0.571 +/- 0.065  \n",
       "3                        0.573 +/- 0.036       0.497 +/- 0.014  "
      ]
     },
     "metadata": {},
     "output_type": "display_data"
    }
   ],
   "source": [
    "experiments = ['imdb(workedunder) -> uwcse',\n",
    "              'imdb(movie) -> uwcse',\n",
    "              'uwcse(advisedby) -> imdb',\n",
    "              'uwcse(publication) -> imdb',\n",
    "              #'imdb(workedunder) -> cora',\n",
    "              #'imdb(movie) -> cora',\n",
    "              #'uwcse(advisedby) -> cora',\n",
    "              #'uwcse(publication) -> cora'\n",
    "              ]\n",
    "\n",
    "for metric in ['AUC ROC', 'AUC PR', 'CLL', 'Recall', 'F1', 'Precision', 'Learning and Revision time', 'Inference time']:\n",
    "    display(Markdown('# Results for ' + metric))\n",
    "    table = []\n",
    "    for dataset in range(len(experiments)):\n",
    "    #for metric in ['AUC ROC', 'AUC PR']:\n",
    "        #display(Markdown('## ' + metric))\n",
    "        x = []\n",
    "        if metric == 'Precision':\n",
    "            scratch = np.array([item['Precision'][0] for sublist in data['results'][str(dataset)]['scratch'].values() for item in sublist])\n",
    "            parameter = np.array([item['Parameter Learning results']['Precision'][0] for sublist in data['results'][str(dataset)]['transfer'].values() for item in sublist])\n",
    "            transfer = np.array([item['Precision'][0] for sublist in data['results'][str(dataset)]['transfer'].values() for item in sublist])\n",
    "        elif metric == 'Learning and Revision time':\n",
    "            scratch = np.array([item['Learning time'] for sublist in data['results'][str(dataset)]['scratch'].values() for item in sublist])\n",
    "            parameter = np.array([item['Parameter Learning results']['Learning time'] for sublist in data['results'][str(dataset)]['transfer'].values() for item in sublist])\n",
    "            transfer = np.array([item['Learning time'] for sublist in data['results'][str(dataset)]['transfer'].values() for item in sublist])\n",
    "        elif metric == 'Inference time':\n",
    "            scratch = np.array([item['Inference time'] for sublist in data['results'][str(dataset)]['scratch'].values() for item in sublist])\n",
    "            parameter = np.array([item['Parameter Learning results']['Learning time'] for sublist in data['results'][str(dataset)]['transfer'].values() for item in sublist])\n",
    "            transfer = np.array([item['Inference time'] for sublist in data['results'][str(dataset)]['transfer'].values() for item in sublist])\n",
    "        else:\n",
    "            scratch = np.array([item[metric] for sublist in data['results'][str(dataset)]['scratch'].values() for item in sublist])\n",
    "            parameter = np.array([item['Parameter Learning results'][metric] for sublist in data['results'][str(dataset)]['transfer'].values() for item in sublist])\n",
    "            transfer = np.array([item[metric] for sublist in data['results'][str(dataset)]['transfer'].values() for item in sublist])\n",
    "        table.append([experiments[dataset], '%.3f +/- %.3f' % (parameter.mean(), 2 * parameter.std()),\n",
    "        '%.3f +/- %.3f' % (transfer.mean(), 2 * transfer.std()),\n",
    "        '%.3f +/- %.3f' % (scratch.mean(), 2 * scratch.std())])\n",
    "    display(pd.DataFrame(table, columns=['Experiment', 'Transfer Learning', 'Transfer Learning with Revision Theory', 'Learning from scratch']))"
   ]
  },
  {
   "cell_type": "code",
   "execution_count": 10,
   "metadata": {
    "collapsed": false
   },
   "outputs": [
    {
     "data": {
      "text/markdown": [
       "# Results for imdb(workedunder) -> uwcse"
      ],
      "text/plain": [
       "<IPython.core.display.Markdown object>"
      ]
     },
     "metadata": {},
     "output_type": "display_data"
    },
    {
     "data": {
      "text/markdown": [
       "## AUC ROC"
      ],
      "text/plain": [
       "<IPython.core.display.Markdown object>"
      ]
     },
     "metadata": {},
     "output_type": "display_data"
    },
    {
     "name": "stdout",
     "output_type": "stream",
     "text": [
      "Scratch: [0.975309 0.913469 0.9825   0.882813 0.906336]\n",
      "Transfer: [0.851852 0.908571 0.93125  0.882813 0.89899 ]\n",
      "Transfer & Revision: [0.851852 0.904898 0.9825   0.904297 0.89899 ]\n"
     ]
    },
    {
     "data": {
      "text/markdown": [
       "## AUC PR"
      ],
      "text/plain": [
       "<IPython.core.display.Markdown object>"
      ]
     },
     "metadata": {},
     "output_type": "display_data"
    },
    {
     "name": "stdout",
     "output_type": "stream",
     "text": [
      "Scratch: [0.974691 0.896168 0.982702 0.857333 0.886339]\n",
      "Transfer: [0.768378 0.877722 0.927081 0.865995 0.886553]\n",
      "Transfer & Revision: [0.768378 0.840699 0.982702 0.880078 0.886553]\n"
     ]
    },
    {
     "data": {
      "text/markdown": [
       "## CLL"
      ],
      "text/plain": [
       "<IPython.core.display.Markdown object>"
      ]
     },
     "metadata": {},
     "output_type": "display_data"
    },
    {
     "name": "stdout",
     "output_type": "stream",
     "text": [
      "Scratch: [-0.237439 -0.310151 -0.21438  -0.37305  -0.3506  ]\n",
      "Transfer: [-0.584801 -0.494726 -0.450676 -0.53118  -0.493864]\n",
      "Transfer & Revision: [-0.584801 -0.299258 -0.222873 -0.367504 -0.493864]\n"
     ]
    },
    {
     "data": {
      "text/markdown": [
       "## Recall"
      ],
      "text/plain": [
       "<IPython.core.display.Markdown object>"
      ]
     },
     "metadata": {},
     "output_type": "display_data"
    },
    {
     "name": "stdout",
     "output_type": "stream",
     "text": [
      "Scratch: [0.888889 0.971429 1.       1.       0.939394]\n",
      "Transfer: [0.111111 0.4      0.45     0.25     0.393939]\n",
      "Transfer & Revision: [0.111111 1.       1.       0.9375   0.393939]\n"
     ]
    },
    {
     "data": {
      "text/markdown": [
       "## F1"
      ],
      "text/plain": [
       "<IPython.core.display.Markdown object>"
      ]
     },
     "metadata": {},
     "output_type": "display_data"
    },
    {
     "name": "stdout",
     "output_type": "stream",
     "text": [
      "Scratch: [0.888889 0.906667 0.952381 0.864865 0.873239]\n",
      "Transfer: [0.181818 0.56     0.62069  0.4      0.541667]\n",
      "Transfer & Revision: [0.181818 0.921053 0.952381 0.857143 0.541667]\n"
     ]
    },
    {
     "data": {
      "text/markdown": [
       "## Precision"
      ],
      "text/plain": [
       "<IPython.core.display.Markdown object>"
      ]
     },
     "metadata": {},
     "output_type": "display_data"
    },
    {
     "name": "stdout",
     "output_type": "stream",
     "text": [
      "Scratch: [0.888889 0.85     0.909091 0.761905 0.815789]\n",
      "Transfer: [0.5      0.933333 1.       1.       0.866667]\n",
      "Transfer & Revision: [0.5      0.853659 0.909091 0.789474 0.866667]\n"
     ]
    },
    {
     "data": {
      "text/markdown": [
       "## Learning and Revision time"
      ],
      "text/plain": [
       "<IPython.core.display.Markdown object>"
      ]
     },
     "metadata": {},
     "output_type": "display_data"
    },
    {
     "name": "stdout",
     "output_type": "stream",
     "text": [
      "Scratch: [15.623 14.174 12.736 11.744 15.168]\n",
      "Transfer: [4.958 4.847 4.251 5.23  3.866]\n",
      "Transfer & Revision: [22.527 86.136 31.306 34.264 20.185]\n"
     ]
    },
    {
     "data": {
      "text/markdown": [
       "## Inference time"
      ],
      "text/plain": [
       "<IPython.core.display.Markdown object>"
      ]
     },
     "metadata": {},
     "output_type": "display_data"
    },
    {
     "name": "stdout",
     "output_type": "stream",
     "text": [
      "Scratch: [0.535 0.712 0.619 0.612 0.731]\n",
      "Transfer: [4.958 4.847 4.251 5.23  3.866]\n",
      "Transfer & Revision: [0.409 0.699 0.564 0.572 0.512]\n"
     ]
    },
    {
     "data": {
      "text/markdown": [
       "# Results for imdb(movie) -> uwcse"
      ],
      "text/plain": [
       "<IPython.core.display.Markdown object>"
      ]
     },
     "metadata": {},
     "output_type": "display_data"
    },
    {
     "data": {
      "text/markdown": [
       "## AUC ROC"
      ],
      "text/plain": [
       "<IPython.core.display.Markdown object>"
      ]
     },
     "metadata": {},
     "output_type": "display_data"
    },
    {
     "name": "stdout",
     "output_type": "stream",
     "text": [
      "Scratch: [0.6      0.722532 0.633702 0.558634 0.52911 ]\n",
      "Transfer: [0.5      0.710616 0.630137 0.625    0.657895]\n",
      "Transfer & Revision: [0.5      0.710616 0.630137 0.625    0.657895]\n"
     ]
    },
    {
     "data": {
      "text/markdown": [
       "## AUC PR"
      ],
      "text/plain": [
       "<IPython.core.display.Markdown object>"
      ]
     },
     "metadata": {},
     "output_type": "display_data"
    },
    {
     "name": "stdout",
     "output_type": "stream",
     "text": [
      "Scratch: [0.575762 0.635859 0.605773 0.558272 0.530358]\n",
      "Transfer: [0.5      0.681523 0.606939 0.586883 0.618854]\n",
      "Transfer & Revision: [0.5      0.681523 0.606939 0.586883 0.618854]\n"
     ]
    },
    {
     "data": {
      "text/markdown": [
       "## CLL"
      ],
      "text/plain": [
       "<IPython.core.display.Markdown object>"
      ]
     },
     "metadata": {},
     "output_type": "display_data"
    },
    {
     "name": "stdout",
     "output_type": "stream",
     "text": [
      "Scratch: [-0.77696  -0.606276 -0.72351  -0.703916 -0.799722]\n",
      "Transfer: [-0.758712 -0.613958 -0.670351 -0.663088 -0.643406]\n",
      "Transfer & Revision: [-0.758712 -0.613958 -0.670351 -0.663088 -0.643406]\n"
     ]
    },
    {
     "data": {
      "text/markdown": [
       "## Recall"
      ],
      "text/plain": [
       "<IPython.core.display.Markdown object>"
      ]
     },
     "metadata": {},
     "output_type": "display_data"
    },
    {
     "name": "stdout",
     "output_type": "stream",
     "text": [
      "Scratch: [0.       0.633562 0.178082 0.598214 0.421053]\n",
      "Transfer: [0.5      0.671233 0.575342 0.732143 0.704453]\n",
      "Transfer & Revision: [0.5      0.671233 0.575342 0.732143 0.704453]\n"
     ]
    },
    {
     "data": {
      "text/markdown": [
       "## F1"
      ],
      "text/plain": [
       "<IPython.core.display.Markdown object>"
      ]
     },
     "metadata": {},
     "output_type": "display_data"
    },
    {
     "name": "stdout",
     "output_type": "stream",
     "text": [
      "Scratch: [     nan 0.685185 0.285714 0.590308 0.5     ]\n",
      "Transfer: [0.5      0.698752 0.608696 0.66129  0.673114]\n",
      "Transfer & Revision: [0.5      0.698752 0.608696 0.66129  0.673114]\n"
     ]
    },
    {
     "data": {
      "text/markdown": [
       "## Precision"
      ],
      "text/plain": [
       "<IPython.core.display.Markdown object>"
      ]
     },
     "metadata": {},
     "output_type": "display_data"
    },
    {
     "name": "stdout",
     "output_type": "stream",
     "text": [
      "Scratch: [     nan 0.745968 0.722222 0.582609 0.615385]\n",
      "Transfer: [0.5      0.728625 0.646154 0.602941 0.644444]\n",
      "Transfer & Revision: [0.5      0.728625 0.646154 0.602941 0.644444]\n"
     ]
    },
    {
     "data": {
      "text/markdown": [
       "## Learning and Revision time"
      ],
      "text/plain": [
       "<IPython.core.display.Markdown object>"
      ]
     },
     "metadata": {},
     "output_type": "display_data"
    },
    {
     "name": "stdout",
     "output_type": "stream",
     "text": [
      "Scratch: [192.849 697.173 138.627 270.598  47.486]\n",
      "Transfer: [ 70.096  23.593  22.277 114.335  18.008]\n",
      "Transfer & Revision: [ 89.734  52.801  47.044 233.169  34.183]\n"
     ]
    },
    {
     "data": {
      "text/markdown": [
       "## Inference time"
      ],
      "text/plain": [
       "<IPython.core.display.Markdown object>"
      ]
     },
     "metadata": {},
     "output_type": "display_data"
    },
    {
     "name": "stdout",
     "output_type": "stream",
     "text": [
      "Scratch: [0.469 0.931 0.686 0.758 0.886]\n",
      "Transfer: [ 70.096  23.593  22.277 114.335  18.008]\n",
      "Transfer & Revision: [0.408 0.69  0.506 0.568 0.698]\n"
     ]
    },
    {
     "data": {
      "text/markdown": [
       "# Results for uwcse(advisedby) -> imdb"
      ],
      "text/plain": [
       "<IPython.core.display.Markdown object>"
      ]
     },
     "metadata": {},
     "output_type": "display_data"
    },
    {
     "data": {
      "text/markdown": [
       "## AUC ROC"
      ],
      "text/plain": [
       "<IPython.core.display.Markdown object>"
      ]
     },
     "metadata": {},
     "output_type": "display_data"
    },
    {
     "name": "stdout",
     "output_type": "stream",
     "text": [
      "Scratch: [0.991573 1.       1.       1.       1.      ]\n",
      "Transfer: [1. 1. 1. 1. 1.]\n",
      "Transfer & Revision: [1. 1. 1. 1. 1.]\n"
     ]
    },
    {
     "data": {
      "text/markdown": [
       "## AUC PR"
      ],
      "text/plain": [
       "<IPython.core.display.Markdown object>"
      ]
     },
     "metadata": {},
     "output_type": "display_data"
    },
    {
     "name": "stdout",
     "output_type": "stream",
     "text": [
      "Scratch: [0.983425 1.       1.       1.       1.      ]\n",
      "Transfer: [1. 1. 1. 1. 1.]\n",
      "Transfer & Revision: [1. 1. 1. 1. 1.]\n"
     ]
    },
    {
     "data": {
      "text/markdown": [
       "## CLL"
      ],
      "text/plain": [
       "<IPython.core.display.Markdown object>"
      ]
     },
     "metadata": {},
     "output_type": "display_data"
    },
    {
     "name": "stdout",
     "output_type": "stream",
     "text": [
      "Scratch: [-0.112035 -0.096433 -0.097025 -0.096266 -0.097325]\n",
      "Transfer: [-0.14229  -0.096667 -0.096253 -0.126398 -0.095869]\n",
      "Transfer & Revision: [-0.14229  -0.096667 -0.096253 -0.126398 -0.095869]\n"
     ]
    },
    {
     "data": {
      "text/markdown": [
       "## Recall"
      ],
      "text/plain": [
       "<IPython.core.display.Markdown object>"
      ]
     },
     "metadata": {},
     "output_type": "display_data"
    },
    {
     "name": "stdout",
     "output_type": "stream",
     "text": [
      "Scratch: [1. 1. 1. 1. 1.]\n",
      "Transfer: [1. 1. 1. 1. 1.]\n",
      "Transfer & Revision: [1. 1. 1. 1. 1.]\n"
     ]
    },
    {
     "data": {
      "text/markdown": [
       "## F1"
      ],
      "text/plain": [
       "<IPython.core.display.Markdown object>"
      ]
     },
     "metadata": {},
     "output_type": "display_data"
    },
    {
     "name": "stdout",
     "output_type": "stream",
     "text": [
      "Scratch: [0.991643 1.       1.       1.       1.      ]\n",
      "Transfer: [1. 1. 1. 1. 1.]\n",
      "Transfer & Revision: [1. 1. 1. 1. 1.]\n"
     ]
    },
    {
     "data": {
      "text/markdown": [
       "## Precision"
      ],
      "text/plain": [
       "<IPython.core.display.Markdown object>"
      ]
     },
     "metadata": {},
     "output_type": "display_data"
    },
    {
     "name": "stdout",
     "output_type": "stream",
     "text": [
      "Scratch: [0.983425 1.       1.       1.       1.      ]\n",
      "Transfer: [1. 1. 1. 1. 1.]\n",
      "Transfer & Revision: [1. 1. 1. 1. 1.]\n"
     ]
    },
    {
     "data": {
      "text/markdown": [
       "## Learning and Revision time"
      ],
      "text/plain": [
       "<IPython.core.display.Markdown object>"
      ]
     },
     "metadata": {},
     "output_type": "display_data"
    },
    {
     "name": "stdout",
     "output_type": "stream",
     "text": [
      "Scratch: [2.904 9.053 8.466 8.827 8.537]\n",
      "Transfer: [4.838 7.783 7.724 6.237 8.183]\n",
      "Transfer & Revision: [12.886 15.317 18.354 15.664 15.447]\n"
     ]
    },
    {
     "data": {
      "text/markdown": [
       "## Inference time"
      ],
      "text/plain": [
       "<IPython.core.display.Markdown object>"
      ]
     },
     "metadata": {},
     "output_type": "display_data"
    },
    {
     "name": "stdout",
     "output_type": "stream",
     "text": [
      "Scratch: [0.622 0.546 0.591 0.564 0.53 ]\n",
      "Transfer: [4.838 7.783 7.724 6.237 8.183]\n",
      "Transfer & Revision: [1.066 0.583 0.83  0.554 0.583]\n"
     ]
    },
    {
     "data": {
      "text/markdown": [
       "# Results for uwcse(publication) -> imdb"
      ],
      "text/plain": [
       "<IPython.core.display.Markdown object>"
      ]
     },
     "metadata": {},
     "output_type": "display_data"
    },
    {
     "data": {
      "text/markdown": [
       "## AUC ROC"
      ],
      "text/plain": [
       "<IPython.core.display.Markdown object>"
      ]
     },
     "metadata": {},
     "output_type": "display_data"
    },
    {
     "name": "stdout",
     "output_type": "stream",
     "text": [
      "Scratch: [0.516129 0.55127  0.537721 0.507497 0.534361]\n",
      "Transfer: [0.468783 0.5      0.5      0.50354  0.489796]\n",
      "Transfer & Revision: [0.468783 0.5      0.5      0.50354  0.534361]\n"
     ]
    },
    {
     "data": {
      "text/markdown": [
       "## AUC PR"
      ],
      "text/plain": [
       "<IPython.core.display.Markdown object>"
      ]
     },
     "metadata": {},
     "output_type": "display_data"
    },
    {
     "name": "stdout",
     "output_type": "stream",
     "text": [
      "Scratch: [0.514714 0.541572 0.536594 0.511212 0.518429]\n",
      "Transfer: [0.478707 0.5      0.5      0.504141 0.487037]\n",
      "Transfer & Revision: [0.478707 0.5      0.5      0.504141 0.518429]\n"
     ]
    },
    {
     "data": {
      "text/markdown": [
       "## CLL"
      ],
      "text/plain": [
       "<IPython.core.display.Markdown object>"
      ]
     },
     "metadata": {},
     "output_type": "display_data"
    },
    {
     "name": "stdout",
     "output_type": "stream",
     "text": [
      "Scratch: [-0.693899 -0.6932   -0.69418  -0.695924 -0.694223]\n",
      "Transfer: [-0.71462  -0.694501 -0.694772 -0.695923 -0.695923]\n",
      "Transfer & Revision: [-0.71462  -0.694501 -0.694772 -0.695923 -0.695404]\n"
     ]
    },
    {
     "data": {
      "text/markdown": [
       "## Recall"
      ],
      "text/plain": [
       "<IPython.core.display.Markdown object>"
      ]
     },
     "metadata": {},
     "output_type": "display_data"
    },
    {
     "name": "stdout",
     "output_type": "stream",
     "text": [
      "Scratch: [0.290323 0.       0.       0.       0.      ]\n",
      "Transfer: [0.177419 0.       0.       0.       0.      ]\n",
      "Transfer & Revision: [0.177419 0.       0.       0.       0.      ]\n"
     ]
    },
    {
     "data": {
      "text/markdown": [
       "## F1"
      ],
      "text/plain": [
       "<IPython.core.display.Markdown object>"
      ]
     },
     "metadata": {},
     "output_type": "display_data"
    },
    {
     "name": "stdout",
     "output_type": "stream",
     "text": [
      "Scratch: [0.375   nan   nan   nan   nan]\n",
      "Transfer: [0.255814      nan      nan      nan      nan]\n",
      "Transfer & Revision: [0.255814      nan      nan      nan      nan]\n"
     ]
    },
    {
     "data": {
      "text/markdown": [
       "## Precision"
      ],
      "text/plain": [
       "<IPython.core.display.Markdown object>"
      ]
     },
     "metadata": {},
     "output_type": "display_data"
    },
    {
     "name": "stdout",
     "output_type": "stream",
     "text": [
      "Scratch: [0.529412      nan      nan      nan      nan]\n",
      "Transfer: [0.458333      nan      nan      nan      nan]\n",
      "Transfer & Revision: [0.458333      nan      nan      nan      nan]\n"
     ]
    },
    {
     "data": {
      "text/markdown": [
       "## Learning and Revision time"
      ],
      "text/plain": [
       "<IPython.core.display.Markdown object>"
      ]
     },
     "metadata": {},
     "output_type": "display_data"
    },
    {
     "name": "stdout",
     "output_type": "stream",
     "text": [
      "Scratch: [ 7.587 11.274 10.159 13.146  9.124]\n",
      "Transfer: [5.176 5.596 5.174 6.158 5.727]\n",
      "Transfer & Revision: [10.683 11.593 11.257 14.276 26.81 ]\n"
     ]
    },
    {
     "data": {
      "text/markdown": [
       "## Inference time"
      ],
      "text/plain": [
       "<IPython.core.display.Markdown object>"
      ]
     },
     "metadata": {},
     "output_type": "display_data"
    },
    {
     "name": "stdout",
     "output_type": "stream",
     "text": [
      "Scratch: [0.498 0.507 0.5   0.487 0.492]\n",
      "Transfer: [5.176 5.596 5.174 6.158 5.727]\n",
      "Transfer & Revision: [0.595 0.585 0.569 0.573 0.542]\n"
     ]
    }
   ],
   "source": [
    "for dataset in range(len(experiments)):\n",
    "    display(Markdown('# Results for ' + experiments[dataset]))\n",
    "    table = []\n",
    "    for metric in ['AUC ROC', 'AUC PR', 'CLL', 'Recall', 'F1', 'Precision', 'Learning and Revision time', 'Inference time']:\n",
    "    #for metric in ['AUC ROC', 'AUC PR']:\n",
    "        display(Markdown('## ' + metric))\n",
    "        x = []\n",
    "        if metric == 'Precision':\n",
    "            scratch = np.array([item['Precision'][0] for sublist in data['results'][str(dataset)]['scratch'].values() for item in sublist])\n",
    "            parameter = np.array([item['Parameter Learning results']['Precision'][0] for sublist in data['results'][str(dataset)]['transfer'].values() for item in sublist])\n",
    "            transfer = np.array([item['Precision'][0] for sublist in data['results'][str(dataset)]['transfer'].values() for item in sublist])\n",
    "        elif metric == 'Learning and Revision time':\n",
    "            scratch = np.array([item['Learning time'] for sublist in data['results'][str(dataset)]['scratch'].values() for item in sublist])\n",
    "            parameter = np.array([item['Parameter Learning results']['Learning time'] for sublist in data['results'][str(dataset)]['transfer'].values() for item in sublist])\n",
    "            transfer = np.array([item['Learning time'] for sublist in data['results'][str(dataset)]['transfer'].values() for item in sublist])\n",
    "        elif metric == 'Inference time':\n",
    "            scratch = np.array([item['Inference time'] for sublist in data['results'][str(dataset)]['scratch'].values() for item in sublist])\n",
    "            parameter = np.array([item['Parameter Learning results']['Learning time'] for sublist in data['results'][str(dataset)]['transfer'].values() for item in sublist])\n",
    "            transfer = np.array([item['Inference time'] for sublist in data['results'][str(dataset)]['transfer'].values() for item in sublist])\n",
    "        else:\n",
    "            scratch = np.array([item[metric] for sublist in data['results'][str(dataset)]['scratch'].values() for item in sublist])\n",
    "            parameter = np.array([item['Parameter Learning results'][metric] for sublist in data['results'][str(dataset)]['transfer'].values() for item in sublist])\n",
    "            transfer = np.array([item[metric] for sublist in data['results'][str(dataset)]['transfer'].values() for item in sublist])\n",
    "        print('Scratch: %s' % scratch)\n",
    "        print('Transfer: %s' % parameter)\n",
    "        print('Transfer & Revision: %s' % transfer)"
   ]
  },
  {
   "cell_type": "code",
   "execution_count": null,
   "metadata": {
    "collapsed": true
   },
   "outputs": [],
   "source": []
  }
 ],
 "metadata": {
  "anaconda-cloud": {},
  "kernelspec": {
   "display_name": "Python [conda env:anaconda3]",
   "language": "python",
   "name": "conda-env-anaconda3-py"
  },
  "language_info": {
   "codemirror_mode": {
    "name": "ipython",
    "version": 3
   },
   "file_extension": ".py",
   "mimetype": "text/x-python",
   "name": "python",
   "nbconvert_exporter": "python",
   "pygments_lexer": "ipython3",
   "version": "3.5.2"
  }
 },
 "nbformat": 4,
 "nbformat_minor": 1
}
