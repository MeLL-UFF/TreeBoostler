{
 "cells": [
  {
   "cell_type": "code",
   "execution_count": 1,
   "metadata": {
    "collapsed": true
   },
   "outputs": [],
   "source": [
    "from datasets.get_datasets import *\n",
    "from boostedrevision import *\n",
    "from boostsrl import boostsrl\n",
    "import random\n",
    "from sklearn.model_selection import KFold\n",
    "import numpy as np"
   ]
  },
  {
   "cell_type": "code",
   "execution_count": 2,
   "metadata": {
    "collapsed": true
   },
   "outputs": [],
   "source": [
    "target = 'workedunder'\n",
    "validation_size = 0.1\n",
    "max_revision_iterations = 10"
   ]
  },
  {
   "cell_type": "code",
   "execution_count": 3,
   "metadata": {
    "collapsed": true
   },
   "outputs": [],
   "source": [
    "[facts, pos, neg] = get_imdb_dataset(target)"
   ]
  },
  {
   "cell_type": "code",
   "execution_count": 4,
   "metadata": {
    "collapsed": true
   },
   "outputs": [],
   "source": [
    "bk = ['workedunder(+person,+person).',\n",
    "      'workedunder(+person,-person).',\n",
    "      'workedunder(-person,+person).',\n",
    "      'female(+person).',\n",
    "      'actor(+person).',\n",
    "      'director(+person).',\n",
    "      'movie(+movie,+person).',\n",
    "      'movie(+movie,-person).',\n",
    "      'movie(-movie,+person).',\n",
    "      'genre(+person,+genre).']\n",
    "\n",
    "background = boostsrl.modes(bk, [target], useStdLogicVariables=False, treeDepth=8, nodeSize=3, numOfClauses=8)"
   ]
  },
  {
   "cell_type": "code",
   "execution_count": 5,
   "metadata": {
    "collapsed": false
   },
   "outputs": [
    {
     "name": "stdout",
     "output_type": "stream",
     "text": [
      "Fold: 10, small_train_size: 1.0, revision_threshold: 1.0, time: 00:49:27"
     ]
    }
   ],
   "source": [
    "import sys\n",
    "import time\n",
    "\n",
    "# shuffle all examples\n",
    "random.shuffle(pos)\n",
    "random.shuffle(neg)\n",
    "\n",
    "neg = neg[:len(pos)] # balanced\n",
    "\n",
    "import numpy as np\n",
    "pos = np.array(pos)\n",
    "neg = np.array(neg)\n",
    "\n",
    "small_dataset_aucroc = {}\n",
    "small_dataset_aucpr = {}\n",
    "revision_dataset_aucroc = {}\n",
    "revision_dataset_aucpr = {}\n",
    "\n",
    "revisions = 6\n",
    "smalls = 4\n",
    "\n",
    "for small_train_size in np.linspace(0.25, 1.0, num=smalls):\n",
    "    small_dataset_aucroc[str(small_train_size)] = []\n",
    "    small_dataset_aucpr[str(small_train_size)] = []\n",
    "    revision_dataset_aucroc[str(small_train_size)] = {}\n",
    "    revision_dataset_aucpr[str(small_train_size)] = {}\n",
    "    for revision_threshold in np.linspace(0.5, 1.0, num=revisions):\n",
    "        revision_dataset_aucroc[str(small_train_size)][str(revision_threshold)] = []\n",
    "        revision_dataset_aucpr[str(small_train_size)][str(revision_threshold)] = []\n",
    "\n",
    "start = time.time()\n",
    "# separate train and test\n",
    "kf = KFold(n_splits=10)\n",
    "fold = 0\n",
    "for train_index, test_index in kf.split(pos):\n",
    "    train_pos, test_pos = pos[train_index], pos[test_index]\n",
    "    train_neg, test_neg = neg[train_index], neg[test_index]\n",
    "    fold += 1\n",
    "    \n",
    "    # shuffle all train examples\n",
    "    random.shuffle(train_pos)\n",
    "    random.shuffle(train_neg)\n",
    "        \n",
    "    # train set used in revision and validation set\n",
    "    r_train_pos = train_pos[int(validation_size*len(train_pos)):]\n",
    "    r_train_neg = train_neg[int(validation_size*len(train_neg)):]\n",
    "    validation_pos = train_pos[:int(validation_size*len(train_pos))]\n",
    "    validation_neg = train_neg[:int(validation_size*len(train_neg))]\n",
    "    \n",
    "    '''print('New fold')\n",
    "    print('train_pos: '+str(len(train_pos)))\n",
    "    print('test_pos: '+str(len(test_pos)))\n",
    "    print('r_train_pos: '+str(len(r_train_pos)))\n",
    "    print('validation_pos: '+str(len(validation_pos)))\n",
    "    print('\\n')'''\n",
    "\n",
    "    # learning from complete dataset\n",
    "    #[model, learning_time, inference_time, t_results, structured] = learn_test_model(background, boostsrl, target, r_train_pos, r_train_neg, facts, test_pos, test_neg, trees=1, verbose=False)\n",
    "    #complete_dataset_aucroc.append(t_results['AUC ROC'])\n",
    "\n",
    "    for small_train_size in np.linspace(0.25, 1.0, num=smalls): #num=4):\n",
    "        # learn from scratch in a small dataset\n",
    "        s_train_pos = r_train_pos[:int(small_train_size*len(r_train_pos))]\n",
    "        s_train_neg = r_train_neg[:int(small_train_size*len(r_train_neg))]\n",
    "        \n",
    "        '''print('New small dataset')\n",
    "        print('s_train_pos: '+str(len(s_train_pos)))\n",
    "        print(s_train_pos)\n",
    "        print('\\n')'''\n",
    "\n",
    "        # learning from small dataset\n",
    "        [model, learning_time, inference_time, t_results, small_structured, will] = learn_test_model(background, boostsrl, target, s_train_pos, s_train_neg, facts, test_pos, test_neg, trees=10, verbose=False)\n",
    "        small_dataset_aucroc[str(small_train_size)].append(t_results['AUC ROC'])\n",
    "        small_dataset_aucpr[str(small_train_size)].append(t_results['AUC PR'])\n",
    "\n",
    "        for revision_threshold in np.linspace(0.5, 1.0, num=revisions):\n",
    "            # theory revision\n",
    "            try:\n",
    "                [model, total_revision_time, inference_time, t_results, structured] = theory_revision(background, boostsrl, target, r_train_pos, r_train_neg, facts, validation_pos, validation_neg, test_pos, test_neg, revision_threshold, small_structured.copy(), trees=10, max_revision_iterations=10, verbose=False)\n",
    "                revision_dataset_aucroc[str(small_train_size)][str(revision_threshold)].append(t_results['AUC ROC'])\n",
    "                revision_dataset_aucpr[str(small_train_size)][str(revision_threshold)].append(t_results['AUC PR'])\n",
    "                #print('aaa')\n",
    "                sys.stdout.write('\\rFold: %s, small_train_size: %s, revision_threshold: %s, time: %s' % (fold, small_train_size, revision_threshold, time.strftime('%H:%M:%S', time.gmtime(time.time()-start))))\n",
    "                sys.stdout.flush()\n",
    "            except:\n",
    "                pass"
   ]
  },
  {
   "cell_type": "markdown",
   "metadata": {},
   "source": [
    "## Learning 10 boosted trees\n",
    "## Revision threshold = 0.5,0.6,...,1.0\n",
    "## target: workedunder"
   ]
  },
  {
   "cell_type": "code",
   "execution_count": 6,
   "metadata": {
    "collapsed": false
   },
   "outputs": [
    {
     "data": {
      "image/png": "[encoded data removed]",
      "text/plain": [
       "<matplotlib.figure.Figure at 0x7f3a24d9fd68>"
      ]
     },
     "metadata": {},
     "output_type": "display_data"
    },
    {
     "data": {
      "image/png": "[encoded data removed]",
      "text/plain": [
       "<matplotlib.figure.Figure at 0x7f3a2366a8d0>"
      ]
     },
     "metadata": {},
     "output_type": "display_data"
    }
   ],
   "source": [
    "import matplotlib.pyplot as plt\n",
    "colors = {'0.25': 'blue', '0.5': 'red', '0.75': 'green', '1.0': 'purple'}\n",
    "for small_train_size in np.linspace(0.25, 1.0, num=smalls):\n",
    "    x = []\n",
    "    y = []\n",
    "    base = np.array(small_dataset_aucroc[str(small_train_size)])\n",
    "    base = base.mean()\n",
    "    base = revisions * [base]\n",
    "    for revision_threshold in np.linspace(0.5, 1.0, num=revisions):\n",
    "        x.append(revision_threshold)\n",
    "        v = revision_dataset_aucroc[str(small_train_size)][str(revision_threshold)]\n",
    "        v = np.array(v)\n",
    "        y.append(v.mean())\n",
    "    plt.plot(x, y, label=str(small_train_size), color=colors[str(small_train_size)])\n",
    "    plt.plot(x, base, linestyle=':', color=colors[str(small_train_size)])\n",
    "plt.xlim(0.3,1.0)\n",
    "plt.xlabel('Revision threshold')\n",
    "plt.ylabel('AUC ROC')\n",
    "plt.legend(loc='upper left')\n",
    "plt.show()\n",
    "\n",
    "for small_train_size in np.linspace(0.25, 1.0, num=smalls):\n",
    "    x = []\n",
    "    y = []\n",
    "    base = np.array(small_dataset_aucpr[str(small_train_size)])\n",
    "    base = base.mean()\n",
    "    base = revisions * [base]\n",
    "    for revision_threshold in np.linspace(0.5, 1.0, num=revisions):\n",
    "        x.append(revision_threshold)\n",
    "        v = revision_dataset_aucpr[str(small_train_size)][str(revision_threshold)]\n",
    "        v = np.array(v)\n",
    "        y.append(v.mean())\n",
    "    plt.plot(x, y, label=str(small_train_size), color=colors[str(small_train_size)])\n",
    "    plt.plot(x, base, linestyle=':', color=colors[str(small_train_size)])\n",
    "plt.xlim(0.3,1.0)\n",
    "plt.xlabel('Revision threshold')\n",
    "plt.ylabel('AUC PR')\n",
    "plt.legend(loc='upper left')\n",
    "plt.show()"
   ]
  },
  {
   "cell_type": "code",
   "execution_count": 7,
   "metadata": {
    "collapsed": false
   },
   "outputs": [
    {
     "data": {
      "text/plain": [
       "{'0.25': [0.987179, 0.994412, 1.0, 1.0, 0.98338, 1.0, 1.0, 1.0, 1.0, 1.0],\n",
       " '0.5': [1.0, 1.0, 1.0, 1.0, 1.0, 1.0, 1.0, 1.0, 1.0, 1.0],\n",
       " '0.75': [1.0, 1.0, 1.0, 1.0, 1.0, 1.0, 1.0, 1.0, 1.0, 1.0],\n",
       " '1.0': [1.0, 1.0, 1.0, 1.0, 1.0, 1.0, 1.0, 1.0, 1.0, 1.0]}"
      ]
     },
     "execution_count": 7,
     "metadata": {},
     "output_type": "execute_result"
    }
   ],
   "source": [
    "small_dataset_aucroc"
   ]
  },
  {
   "cell_type": "code",
   "execution_count": 8,
   "metadata": {
    "collapsed": false
   },
   "outputs": [
    {
     "data": {
      "text/plain": [
       "{'0.25': {'0.5': [0.987179,\n",
       "   0.994412,\n",
       "   1.0,\n",
       "   1.0,\n",
       "   0.98338,\n",
       "   1.0,\n",
       "   1.0,\n",
       "   1.0,\n",
       "   1.0,\n",
       "   1.0],\n",
       "  '0.6': [0.987179, 0.994412, 1.0, 1.0, 0.98338, 1.0, 1.0, 1.0, 1.0, 1.0],\n",
       "  '0.7': [0.987179, 0.994412, 1.0, 1.0, 0.98338, 1.0, 1.0, 1.0, 1.0, 1.0],\n",
       "  '0.8': [0.987179, 0.994412, 1.0, 1.0, 0.98338, 1.0, 1.0, 1.0, 1.0, 1.0],\n",
       "  '0.9': [0.987179, 0.994412, 1.0, 1.0, 0.98338, 1.0, 1.0, 1.0, 1.0, 1.0],\n",
       "  '1.0': [1.0, 1.0, 1.0, 1.0, 0.98338, 1.0, 1.0, 1.0, 1.0, 1.0]},\n",
       " '0.5': {'0.5': [1.0, 1.0, 1.0, 1.0, 1.0, 1.0, 1.0, 1.0, 1.0, 1.0],\n",
       "  '0.6': [1.0, 1.0, 1.0, 1.0, 1.0, 1.0, 1.0, 1.0, 1.0, 1.0],\n",
       "  '0.7': [1.0, 1.0, 1.0, 1.0, 1.0, 1.0, 1.0, 1.0, 1.0, 1.0],\n",
       "  '0.8': [1.0, 1.0, 1.0, 1.0, 1.0, 1.0, 1.0, 1.0, 1.0, 1.0],\n",
       "  '0.9': [1.0, 1.0, 1.0, 1.0, 1.0, 1.0, 1.0, 1.0, 1.0, 1.0],\n",
       "  '1.0': [1.0, 1.0, 1.0, 1.0, 1.0, 1.0, 1.0, 1.0, 1.0, 1.0]},\n",
       " '0.75': {'0.5': [1.0, 1.0, 1.0, 1.0, 1.0, 1.0, 1.0, 1.0, 1.0, 1.0],\n",
       "  '0.6': [1.0, 1.0, 1.0, 1.0, 1.0, 1.0, 1.0, 1.0, 1.0, 1.0],\n",
       "  '0.7': [1.0, 1.0, 1.0, 1.0, 1.0, 1.0, 1.0, 1.0, 1.0, 1.0],\n",
       "  '0.8': [1.0, 1.0, 1.0, 1.0, 1.0, 1.0, 1.0, 1.0, 1.0, 1.0],\n",
       "  '0.9': [1.0, 1.0, 1.0, 1.0, 1.0, 1.0, 1.0, 1.0, 1.0, 1.0],\n",
       "  '1.0': [1.0, 1.0, 1.0, 1.0, 1.0, 1.0, 1.0, 1.0, 1.0, 1.0]},\n",
       " '1.0': {'0.5': [1.0, 1.0, 1.0, 1.0, 1.0, 1.0, 1.0, 1.0, 1.0, 1.0],\n",
       "  '0.6': [1.0, 1.0, 1.0, 1.0, 1.0, 1.0, 1.0, 1.0, 1.0, 1.0],\n",
       "  '0.7': [1.0, 1.0, 1.0, 1.0, 1.0, 1.0, 1.0, 1.0, 1.0, 1.0],\n",
       "  '0.8': [1.0, 1.0, 1.0, 1.0, 1.0, 1.0, 1.0, 1.0, 1.0, 1.0],\n",
       "  '0.9': [1.0, 1.0, 1.0, 1.0, 1.0, 1.0, 1.0, 1.0, 1.0, 1.0],\n",
       "  '1.0': [1.0, 1.0, 1.0, 1.0, 1.0, 1.0, 1.0, 1.0, 1.0, 1.0]}}"
      ]
     },
     "execution_count": 8,
     "metadata": {},
     "output_type": "execute_result"
    }
   ],
   "source": [
    "revision_dataset_aucroc"
   ]
  },
  {
   "cell_type": "code",
   "execution_count": 9,
   "metadata": {
    "collapsed": true
   },
   "outputs": [],
   "source": [
    "target = 'advisedby'\n",
    "validation_size = 0.1\n",
    "max_revision_iterations = 10"
   ]
  },
  {
   "cell_type": "code",
   "execution_count": 10,
   "metadata": {
    "collapsed": true
   },
   "outputs": [],
   "source": [
    "[facts, pos, neg] = get_uwcse_dataset(target, acceptedPredicates=[\n",
    "'professor',\n",
    "'student',\n",
    "'advisedby',\n",
    "'tempadvisedby',\n",
    "'ta',\n",
    "'hasposition',\n",
    "'publication',\n",
    "'inphase',\n",
    "'courselevel',\n",
    "'yearsinprogram',\n",
    "'projectmember',\n",
    "])"
   ]
  },
  {
   "cell_type": "code",
   "execution_count": 11,
   "metadata": {
    "collapsed": true
   },
   "outputs": [],
   "source": [
    "bk = ['professor(+person).',\n",
    "'student(+person).',\n",
    "'advisedby(+person,+person).',\n",
    "'advisedby(+person,-person).',\n",
    "'advisedby(-person,+person).',\n",
    "'tempadvisedby(+person,+person).',\n",
    "'tempadvisedby(+person,-person).',\n",
    "'tempadvisedby(-person,+person).',\n",
    "'ta(+course,+person,+quarter).',\n",
    "'ta(-course,+person,+quarter).',\n",
    "'ta(+course,-person,+quarter).',\n",
    "'ta(+course,+person,-quarter).',\n",
    "'ta(-course,+person,-quarter).',\n",
    "'ta(+course,-person,-quarter).',\n",
    "'hasposition(+person,+faculty).',\n",
    "'hasposition(+person,-faculty).',\n",
    "'hasposition(-person,+faculty).',\n",
    "'publication(+title,+person).',\n",
    "'publication(+title,-person).',\n",
    "'publication(-title,+person).',\n",
    "'inphase(+person,+prequals).',\n",
    "'inphase(+person,-prequals).',\n",
    "'inphase(-person,+prequals).',\n",
    "'courselevel(+course,+level).',\n",
    "'courselevel(+course,-level).',\n",
    "'courselevel(-course,+level).',\n",
    "'yearsinprogram(+person,+year).',\n",
    "'yearsinprogram(-person,+year).',\n",
    "'yearsinprogram(+person,-year).',\n",
    "'projectmember(+project,+person).',\n",
    "'projectmember(+project,-person).',\n",
    "'projectmember(-project,+person).']\n",
    "#'sameproject(project, project).',\n",
    "#'samecourse(course, course).',\n",
    "#'sameperson(person, person).',]\n",
    "\n",
    "background = boostsrl.modes(bk, [target], useStdLogicVariables=False, treeDepth=8, nodeSize=3, numOfClauses=8)"
   ]
  },
  {
   "cell_type": "code",
   "execution_count": 12,
   "metadata": {
    "collapsed": false
   },
   "outputs": [
    {
     "name": "stdout",
     "output_type": "stream",
     "text": [
      "Fold: 10, small_train_size: 1.0, revision_threshold: 1.0, time: 02:09:10"
     ]
    }
   ],
   "source": [
    "import sys\n",
    "import time\n",
    "\n",
    "# shuffle all examples\n",
    "random.shuffle(pos)\n",
    "random.shuffle(neg)\n",
    "\n",
    "neg = neg[:len(pos)] # balanced\n",
    "\n",
    "import numpy as np\n",
    "pos = np.array(pos)\n",
    "neg = np.array(neg)\n",
    "\n",
    "small_dataset_aucroc = {}\n",
    "small_dataset_aucpr = {}\n",
    "revision_dataset_aucroc = {}\n",
    "revision_dataset_aucpr = {}\n",
    "\n",
    "revisions = 6\n",
    "smalls = 4\n",
    "\n",
    "for small_train_size in np.linspace(0.25, 1.0, num=smalls):\n",
    "    small_dataset_aucroc[str(small_train_size)] = []\n",
    "    small_dataset_aucpr[str(small_train_size)] = []\n",
    "    revision_dataset_aucroc[str(small_train_size)] = {}\n",
    "    revision_dataset_aucpr[str(small_train_size)] = {}\n",
    "    for revision_threshold in np.linspace(0.5, 1.0, num=revisions):\n",
    "        revision_dataset_aucroc[str(small_train_size)][str(revision_threshold)] = []\n",
    "        revision_dataset_aucpr[str(small_train_size)][str(revision_threshold)] = []\n",
    "\n",
    "start = time.time()\n",
    "# separate train and test\n",
    "kf = KFold(n_splits=10)\n",
    "fold = 0\n",
    "for train_index, test_index in kf.split(pos):\n",
    "    train_pos, test_pos = pos[train_index], pos[test_index]\n",
    "    train_neg, test_neg = neg[train_index], neg[test_index]\n",
    "    fold += 1\n",
    "    \n",
    "    # shuffle all train examples\n",
    "    random.shuffle(train_pos)\n",
    "    random.shuffle(train_neg)\n",
    "        \n",
    "    # train set used in revision and validation set\n",
    "    r_train_pos = train_pos[int(validation_size*len(train_pos)):]\n",
    "    r_train_neg = train_neg[int(validation_size*len(train_neg)):]\n",
    "    validation_pos = train_pos[:int(validation_size*len(train_pos))]\n",
    "    validation_neg = train_neg[:int(validation_size*len(train_neg))]\n",
    "    \n",
    "    '''print('New fold')\n",
    "    print('train_pos: '+str(len(train_pos)))\n",
    "    print('test_pos: '+str(len(test_pos)))\n",
    "    print('r_train_pos: '+str(len(r_train_pos)))\n",
    "    print('validation_pos: '+str(len(validation_pos)))\n",
    "    print('\\n')'''\n",
    "\n",
    "    # learning from complete dataset\n",
    "    #[model, learning_time, inference_time, t_results, structured] = learn_test_model(background, boostsrl, target, r_train_pos, r_train_neg, facts, test_pos, test_neg, trees=1, verbose=False)\n",
    "    #complete_dataset_aucroc.append(t_results['AUC ROC'])\n",
    "\n",
    "    for small_train_size in np.linspace(0.25, 1.0, num=smalls): #num=4):\n",
    "        # learn from scratch in a small dataset\n",
    "        s_train_pos = r_train_pos[:int(small_train_size*len(r_train_pos))]\n",
    "        s_train_neg = r_train_neg[:int(small_train_size*len(r_train_neg))]\n",
    "        \n",
    "        '''print('New small dataset')\n",
    "        print('s_train_pos: '+str(len(s_train_pos)))\n",
    "        print(s_train_pos)\n",
    "        print('\\n')'''\n",
    "\n",
    "        # learning from small dataset\n",
    "        [model, learning_time, inference_time, t_results, small_structured, will] = learn_test_model(background, boostsrl, target, s_train_pos, s_train_neg, facts, test_pos, test_neg, trees=10, verbose=False)\n",
    "        small_dataset_aucroc[str(small_train_size)].append(t_results['AUC ROC'])\n",
    "        small_dataset_aucpr[str(small_train_size)].append(t_results['AUC PR'])\n",
    "\n",
    "        for revision_threshold in np.linspace(0.5, 1.0, num=revisions):\n",
    "            # theory revision\n",
    "            try:\n",
    "                [model, total_revision_time, inference_time, t_results, structured] = theory_revision(background, boostsrl, target, r_train_pos, r_train_neg, facts, validation_pos, validation_neg, test_pos, test_neg, revision_threshold, small_structured.copy(), trees=10, max_revision_iterations=10, verbose=False)\n",
    "                revision_dataset_aucroc[str(small_train_size)][str(revision_threshold)].append(t_results['AUC ROC'])\n",
    "                revision_dataset_aucpr[str(small_train_size)][str(revision_threshold)].append(t_results['AUC PR'])\n",
    "                #print('aaa')\n",
    "                sys.stdout.write('\\rFold: %s, small_train_size: %s, revision_threshold: %s, time: %s' % (fold, small_train_size, revision_threshold, time.strftime('%H:%M:%S', time.gmtime(time.time()-start))))\n",
    "                sys.stdout.flush()\n",
    "            except:\n",
    "                pass"
   ]
  },
  {
   "cell_type": "markdown",
   "metadata": {},
   "source": [
    "## Learning 10 boosted trees\n",
    "## Revision threshold = 0.5,0.6,...,1.0\n",
    "## target: advisedby"
   ]
  },
  {
   "cell_type": "code",
   "execution_count": 13,
   "metadata": {
    "collapsed": false
   },
   "outputs": [
    {
     "data": {
      "image/png": "[encoded data removed]",
      "text/plain": [
       "<matplotlib.figure.Figure at 0x7f3a5c5fb5c0>"
      ]
     },
     "metadata": {},
     "output_type": "display_data"
    },
    {
     "data": {
      "image/png": "[encoded data removed]",
      "text/plain": [
       "<matplotlib.figure.Figure at 0x7f3a1f9c2b38>"
      ]
     },
     "metadata": {},
     "output_type": "display_data"
    }
   ],
   "source": [
    "import matplotlib.pyplot as plt\n",
    "colors = {'0.25': 'blue', '0.5': 'red', '0.75': 'green', '1.0': 'purple'}\n",
    "for small_train_size in np.linspace(0.25, 1.0, num=smalls):\n",
    "    x = []\n",
    "    y = []\n",
    "    base = np.array(small_dataset_aucroc[str(small_train_size)])\n",
    "    base = base.mean()\n",
    "    base = revisions * [base]\n",
    "    for revision_threshold in np.linspace(0.5, 1.0, num=revisions):\n",
    "        x.append(revision_threshold)\n",
    "        v = revision_dataset_aucroc[str(small_train_size)][str(revision_threshold)]\n",
    "        v = np.array(v)\n",
    "        y.append(v.mean())\n",
    "    plt.plot(x, y, label=str(small_train_size), color=colors[str(small_train_size)])\n",
    "    plt.plot(x, base, linestyle=':', color=colors[str(small_train_size)])\n",
    "plt.xlim(0.3,1.0)\n",
    "plt.xlabel('Revision threshold')\n",
    "plt.ylabel('AUC ROC')\n",
    "plt.legend(loc='upper left')\n",
    "plt.show()\n",
    "\n",
    "for small_train_size in np.linspace(0.25, 1.0, num=smalls):\n",
    "    x = []\n",
    "    y = []\n",
    "    base = np.array(small_dataset_aucpr[str(small_train_size)])\n",
    "    base = base.mean()\n",
    "    base = revisions * [base]\n",
    "    for revision_threshold in np.linspace(0.5, 1.0, num=revisions):\n",
    "        x.append(revision_threshold)\n",
    "        v = revision_dataset_aucpr[str(small_train_size)][str(revision_threshold)]\n",
    "        v = np.array(v)\n",
    "        y.append(v.mean())\n",
    "    plt.plot(x, y, label=str(small_train_size), color=colors[str(small_train_size)])\n",
    "    plt.plot(x, base, linestyle=':', color=colors[str(small_train_size)])\n",
    "plt.xlim(0.3,1.0)\n",
    "plt.xlabel('Revision threshold')\n",
    "plt.ylabel('AUC PR')\n",
    "plt.legend(loc='upper left')\n",
    "plt.show()"
   ]
  },
  {
   "cell_type": "code",
   "execution_count": 14,
   "metadata": {
    "collapsed": false
   },
   "outputs": [
    {
     "data": {
      "text/plain": [
       "{'0.25': [1.0,\n",
       "  0.770833,\n",
       "  0.770833,\n",
       "  0.822314,\n",
       "  0.863636,\n",
       "  0.867769,\n",
       "  0.917355,\n",
       "  0.834711,\n",
       "  0.946281,\n",
       "  0.677686],\n",
       " '0.5': [1.0,\n",
       "  0.805556,\n",
       "  0.746528,\n",
       "  0.913223,\n",
       "  1.0,\n",
       "  0.892562,\n",
       "  0.933884,\n",
       "  0.826446,\n",
       "  0.966942,\n",
       "  0.822314],\n",
       " '0.75': [1.0,\n",
       "  0.847222,\n",
       "  0.850694,\n",
       "  0.884298,\n",
       "  1.0,\n",
       "  0.85124,\n",
       "  0.933884,\n",
       "  0.822314,\n",
       "  1.0,\n",
       "  0.876033],\n",
       " '1.0': [1.0,\n",
       "  0.795139,\n",
       "  0.8125,\n",
       "  0.859504,\n",
       "  1.0,\n",
       "  0.867769,\n",
       "  0.913223,\n",
       "  0.842975,\n",
       "  0.991736,\n",
       "  0.917355]}"
      ]
     },
     "execution_count": 14,
     "metadata": {},
     "output_type": "execute_result"
    }
   ],
   "source": [
    "small_dataset_aucroc"
   ]
  },
  {
   "cell_type": "code",
   "execution_count": 15,
   "metadata": {
    "collapsed": false
   },
   "outputs": [
    {
     "data": {
      "text/plain": [
       "{'0.25': {'0.5': [1.0,\n",
       "   0.798611,\n",
       "   0.798611,\n",
       "   0.830579,\n",
       "   0.904959,\n",
       "   0.876033,\n",
       "   0.933884,\n",
       "   0.929752,\n",
       "   0.946281,\n",
       "   0.842975],\n",
       "  '0.6': [1.0,\n",
       "   0.798611,\n",
       "   0.798611,\n",
       "   0.830579,\n",
       "   0.904959,\n",
       "   0.876033,\n",
       "   0.933884,\n",
       "   0.929752,\n",
       "   0.946281,\n",
       "   0.842975],\n",
       "  '0.7': [1.0,\n",
       "   0.798611,\n",
       "   0.798611,\n",
       "   0.830579,\n",
       "   0.904959,\n",
       "   0.876033,\n",
       "   0.933884,\n",
       "   0.929752,\n",
       "   0.954545,\n",
       "   0.867769],\n",
       "  '0.8': [1.0,\n",
       "   0.798611,\n",
       "   0.798611,\n",
       "   0.830579,\n",
       "   0.904959,\n",
       "   0.876033,\n",
       "   0.933884,\n",
       "   0.929752,\n",
       "   0.954545,\n",
       "   0.909091],\n",
       "  '0.9': [1.0,\n",
       "   0.798611,\n",
       "   0.798611,\n",
       "   0.830579,\n",
       "   0.904959,\n",
       "   0.876033,\n",
       "   0.942149,\n",
       "   0.929752,\n",
       "   0.96281,\n",
       "   0.900826],\n",
       "  '1.0': [1.0,\n",
       "   0.798611,\n",
       "   0.805556,\n",
       "   0.830579,\n",
       "   0.904959,\n",
       "   0.876033,\n",
       "   0.942149,\n",
       "   0.929752,\n",
       "   0.991736,\n",
       "   0.933884]},\n",
       " '0.5': {'0.5': [1.0,\n",
       "   0.822917,\n",
       "   0.809028,\n",
       "   0.929752,\n",
       "   1.0,\n",
       "   0.933884,\n",
       "   0.913223,\n",
       "   0.871901,\n",
       "   0.991736,\n",
       "   0.834711],\n",
       "  '0.6': [1.0,\n",
       "   0.822917,\n",
       "   0.809028,\n",
       "   0.929752,\n",
       "   1.0,\n",
       "   0.933884,\n",
       "   0.913223,\n",
       "   0.871901,\n",
       "   0.991736,\n",
       "   0.822314],\n",
       "  '0.7': [1.0,\n",
       "   0.822917,\n",
       "   0.809028,\n",
       "   0.929752,\n",
       "   1.0,\n",
       "   0.933884,\n",
       "   0.917355,\n",
       "   0.871901,\n",
       "   0.991736,\n",
       "   0.834711],\n",
       "  '0.8': [1.0,\n",
       "   0.822917,\n",
       "   0.809028,\n",
       "   0.929752,\n",
       "   1.0,\n",
       "   0.933884,\n",
       "   0.917355,\n",
       "   0.871901,\n",
       "   0.991736,\n",
       "   0.834711],\n",
       "  '0.9': [1.0,\n",
       "   0.822917,\n",
       "   0.809028,\n",
       "   0.929752,\n",
       "   1.0,\n",
       "   0.933884,\n",
       "   0.92562,\n",
       "   0.896694,\n",
       "   0.991736,\n",
       "   0.830579],\n",
       "  '1.0': [1.0,\n",
       "   0.822917,\n",
       "   0.809028,\n",
       "   0.929752,\n",
       "   1.0,\n",
       "   0.933884,\n",
       "   0.92562,\n",
       "   0.876033,\n",
       "   0.991736,\n",
       "   0.834711]},\n",
       " '0.75': {'0.5': [1.0,\n",
       "   0.833333,\n",
       "   0.854167,\n",
       "   0.900826,\n",
       "   1.0,\n",
       "   0.85124,\n",
       "   0.92562,\n",
       "   0.847107,\n",
       "   1.0,\n",
       "   0.896694],\n",
       "  '0.6': [1.0,\n",
       "   0.833333,\n",
       "   0.854167,\n",
       "   0.900826,\n",
       "   1.0,\n",
       "   0.85124,\n",
       "   0.92562,\n",
       "   0.847107,\n",
       "   1.0,\n",
       "   0.896694],\n",
       "  '0.7': [1.0,\n",
       "   0.833333,\n",
       "   0.854167,\n",
       "   0.900826,\n",
       "   1.0,\n",
       "   0.85124,\n",
       "   0.92562,\n",
       "   0.847107,\n",
       "   1.0,\n",
       "   0.896694],\n",
       "  '0.8': [0.833333,\n",
       "   0.854167,\n",
       "   0.900826,\n",
       "   1.0,\n",
       "   0.85124,\n",
       "   0.92562,\n",
       "   0.847107,\n",
       "   1.0,\n",
       "   0.896694],\n",
       "  '0.9': [1.0,\n",
       "   0.833333,\n",
       "   0.854167,\n",
       "   0.900826,\n",
       "   1.0,\n",
       "   0.85124,\n",
       "   0.92562,\n",
       "   0.847107,\n",
       "   1.0,\n",
       "   0.896694],\n",
       "  '1.0': [1.0,\n",
       "   0.833333,\n",
       "   0.854167,\n",
       "   0.900826,\n",
       "   1.0,\n",
       "   0.85124,\n",
       "   0.92562,\n",
       "   0.847107,\n",
       "   1.0,\n",
       "   0.896694]},\n",
       " '1.0': {'0.5': [1.0,\n",
       "   0.795139,\n",
       "   0.8125,\n",
       "   0.859504,\n",
       "   1.0,\n",
       "   0.867769,\n",
       "   0.913223,\n",
       "   0.842975,\n",
       "   0.991736,\n",
       "   0.917355],\n",
       "  '0.6': [1.0,\n",
       "   0.795139,\n",
       "   0.8125,\n",
       "   0.859504,\n",
       "   1.0,\n",
       "   0.867769,\n",
       "   0.913223,\n",
       "   0.842975,\n",
       "   0.991736,\n",
       "   0.917355],\n",
       "  '0.7': [1.0,\n",
       "   0.795139,\n",
       "   0.8125,\n",
       "   0.859504,\n",
       "   1.0,\n",
       "   0.867769,\n",
       "   0.913223,\n",
       "   0.842975,\n",
       "   0.991736,\n",
       "   0.909091],\n",
       "  '0.8': [1.0,\n",
       "   0.795139,\n",
       "   0.8125,\n",
       "   0.859504,\n",
       "   1.0,\n",
       "   0.867769,\n",
       "   0.913223,\n",
       "   0.842975,\n",
       "   0.991736,\n",
       "   0.917355],\n",
       "  '0.9': [1.0,\n",
       "   0.795139,\n",
       "   0.8125,\n",
       "   0.859504,\n",
       "   1.0,\n",
       "   0.867769,\n",
       "   0.913223,\n",
       "   0.842975,\n",
       "   0.991736,\n",
       "   0.917355],\n",
       "  '1.0': [1.0,\n",
       "   0.795139,\n",
       "   0.8125,\n",
       "   0.859504,\n",
       "   1.0,\n",
       "   0.867769,\n",
       "   0.913223,\n",
       "   0.842975,\n",
       "   0.991736,\n",
       "   0.917355]}}"
      ]
     },
     "execution_count": 15,
     "metadata": {},
     "output_type": "execute_result"
    }
   ],
   "source": [
    "revision_dataset_aucroc"
   ]
  },
  {
   "cell_type": "code",
   "execution_count": 16,
   "metadata": {
    "collapsed": true
   },
   "outputs": [],
   "source": [
    "target = 'athleteplaysforteam'\n",
    "validation_size = 0.1\n",
    "max_revision_iterations = 10"
   ]
  },
  {
   "cell_type": "code",
   "execution_count": 17,
   "metadata": {
    "collapsed": true
   },
   "outputs": [],
   "source": [
    "[facts, pos, neg] = get_nell_dataset(target)"
   ]
  },
  {
   "cell_type": "code",
   "execution_count": 18,
   "metadata": {
    "collapsed": true
   },
   "outputs": [],
   "source": [
    "bk = ['athleteledsportsteam(+athlete,+sportsteam).',\n",
    "      'athleteledsportsteam(+athlete,-sportsteam).',\n",
    "      'athleteledsportsteam(-athlete,+sportsteam).',\n",
    "      'athleteplaysforteam(+athlete,+sportsteam).',\n",
    "      'athleteplaysforteam(+athlete,-sportsteam).',\n",
    "      'athleteplaysforteam(-athlete,+sportsteam).',\n",
    "      'athleteplaysinleague(+athlete,+sportsleague).',\n",
    "      'athleteplaysinleague(+athlete,-sportsleague).',\n",
    "      'athleteplaysinleague(-athlete,+sportsleague).',\n",
    "      'athleteplayssport(+athlete,+sport).',\n",
    "      'athleteplayssport(+athlete,-sport).',\n",
    "      'athleteplayssport(-athlete,+sport).',\n",
    "      'teamalsoknownas(+sportsteam,+sportsteam).',\n",
    "      'teamalsoknownas(+sportsteam,-sportsteam).',\n",
    "      'teamalsoknownas(-sportsteam,+sportsteam).',\n",
    "      'teamplaysagainstteam(+sportsteam,+sportsteam).',\n",
    "      'teamplaysagainstteam(+sportsteam,-sportsteam).',\n",
    "      'teamplaysagainstteam(-sportsteam,+sportsteam).',\n",
    "      'teamplaysinleague(+sportsteam,+sportsleague).',\n",
    "      'teamplaysinleague(+sportsteam,-sportsleague).',\n",
    "      'teamplaysinleague(-sportsteam,+sportsleague).',\n",
    "      'teamplayssport(+sportsteam,+sport).',\n",
    "      'teamplayssport(+sportsteam,-sport).',\n",
    "      'teamplayssport(-sportsteam,+sport).']\n",
    "\n",
    "background = boostsrl.modes(bk, [target], useStdLogicVariables=False, treeDepth=8, nodeSize=3, numOfClauses=8)"
   ]
  },
  {
   "cell_type": "code",
   "execution_count": 19,
   "metadata": {
    "collapsed": false
   },
   "outputs": [
    {
     "name": "stdout",
     "output_type": "stream",
     "text": [
      "Fold: 2, small_train_size: 1.0, revision_threshold: 0.5, time: 18:16:41"
     ]
    },
    {
     "ename": "Exception",
     "evalue": "('Encountered problems while running process: ', '(cd boostsrl; java -jar v1-0.jar -l -combine -train train/ -target athleteplaysforteam -trees 10 > train_output.txt 2>&1)')",
     "output_type": "error",
     "traceback": [
      "\u001b[0;31m---------------------------------------------------------------------------\u001b[0m",
      "\u001b[0;31mKeyboardInterrupt\u001b[0m                         Traceback (most recent call last)",
      "\u001b[0;32m/home/rodrigoazs/anaconda3/lib/python3.5/site-packages/boostsrl/boostsrl.py\u001b[0m in \u001b[0;36mcall_process\u001b[0;34m(call)\u001b[0m\n\u001b[1;32m     68\u001b[0m         \u001b[0mp\u001b[0m \u001b[0;34m=\u001b[0m \u001b[0msubprocess\u001b[0m\u001b[0;34m.\u001b[0m\u001b[0mPopen\u001b[0m\u001b[0;34m(\u001b[0m\u001b[0mcall\u001b[0m\u001b[0;34m,\u001b[0m \u001b[0mshell\u001b[0m\u001b[0;34m=\u001b[0m\u001b[0;32mTrue\u001b[0m\u001b[0;34m)\u001b[0m\u001b[0;34m\u001b[0m\u001b[0m\n\u001b[0;32m---> 69\u001b[0;31m         \u001b[0mos\u001b[0m\u001b[0;34m.\u001b[0m\u001b[0mwaitpid\u001b[0m\u001b[0;34m(\u001b[0m\u001b[0mp\u001b[0m\u001b[0;34m.\u001b[0m\u001b[0mpid\u001b[0m\u001b[0;34m,\u001b[0m \u001b[0;36m0\u001b[0m\u001b[0;34m)\u001b[0m\u001b[0;34m\u001b[0m\u001b[0m\n\u001b[0m\u001b[1;32m     70\u001b[0m     \u001b[0;32mexcept\u001b[0m\u001b[0;34m:\u001b[0m\u001b[0;34m\u001b[0m\u001b[0m\n",
      "\u001b[0;31mKeyboardInterrupt\u001b[0m: ",
      "\nDuring handling of the above exception, another exception occurred:\n",
      "\u001b[0;31mException\u001b[0m                                 Traceback (most recent call last)",
      "\u001b[0;32m<ipython-input-19-205bd565434c>\u001b[0m in \u001b[0;36m<module>\u001b[0;34m()\u001b[0m\n\u001b[1;32m     70\u001b[0m \u001b[0;34m\u001b[0m\u001b[0m\n\u001b[1;32m     71\u001b[0m         \u001b[0;31m# learning from small dataset\u001b[0m\u001b[0;34m\u001b[0m\u001b[0;34m\u001b[0m\u001b[0m\n\u001b[0;32m---> 72\u001b[0;31m         \u001b[0;34m[\u001b[0m\u001b[0mmodel\u001b[0m\u001b[0;34m,\u001b[0m \u001b[0mlearning_time\u001b[0m\u001b[0;34m,\u001b[0m \u001b[0minference_time\u001b[0m\u001b[0;34m,\u001b[0m \u001b[0mt_results\u001b[0m\u001b[0;34m,\u001b[0m \u001b[0msmall_structured\u001b[0m\u001b[0;34m,\u001b[0m \u001b[0mwill\u001b[0m\u001b[0;34m]\u001b[0m \u001b[0;34m=\u001b[0m \u001b[0mlearn_test_model\u001b[0m\u001b[0;34m(\u001b[0m\u001b[0mbackground\u001b[0m\u001b[0;34m,\u001b[0m \u001b[0mboostsrl\u001b[0m\u001b[0;34m,\u001b[0m \u001b[0mtarget\u001b[0m\u001b[0;34m,\u001b[0m \u001b[0ms_train_pos\u001b[0m\u001b[0;34m,\u001b[0m \u001b[0ms_train_neg\u001b[0m\u001b[0;34m,\u001b[0m \u001b[0mfacts\u001b[0m\u001b[0;34m,\u001b[0m \u001b[0mtest_pos\u001b[0m\u001b[0;34m,\u001b[0m \u001b[0mtest_neg\u001b[0m\u001b[0;34m,\u001b[0m \u001b[0mtrees\u001b[0m\u001b[0;34m=\u001b[0m\u001b[0;36m10\u001b[0m\u001b[0;34m,\u001b[0m \u001b[0mverbose\u001b[0m\u001b[0;34m=\u001b[0m\u001b[0;32mFalse\u001b[0m\u001b[0;34m)\u001b[0m\u001b[0;34m\u001b[0m\u001b[0m\n\u001b[0m\u001b[1;32m     73\u001b[0m         \u001b[0msmall_dataset_aucroc\u001b[0m\u001b[0;34m[\u001b[0m\u001b[0mstr\u001b[0m\u001b[0;34m(\u001b[0m\u001b[0msmall_train_size\u001b[0m\u001b[0;34m)\u001b[0m\u001b[0;34m]\u001b[0m\u001b[0;34m.\u001b[0m\u001b[0mappend\u001b[0m\u001b[0;34m(\u001b[0m\u001b[0mt_results\u001b[0m\u001b[0;34m[\u001b[0m\u001b[0;34m'AUC ROC'\u001b[0m\u001b[0;34m]\u001b[0m\u001b[0;34m)\u001b[0m\u001b[0;34m\u001b[0m\u001b[0m\n\u001b[1;32m     74\u001b[0m         \u001b[0msmall_dataset_aucpr\u001b[0m\u001b[0;34m[\u001b[0m\u001b[0mstr\u001b[0m\u001b[0;34m(\u001b[0m\u001b[0msmall_train_size\u001b[0m\u001b[0;34m)\u001b[0m\u001b[0;34m]\u001b[0m\u001b[0;34m.\u001b[0m\u001b[0mappend\u001b[0m\u001b[0;34m(\u001b[0m\u001b[0mt_results\u001b[0m\u001b[0;34m[\u001b[0m\u001b[0;34m'AUC PR'\u001b[0m\u001b[0;34m]\u001b[0m\u001b[0;34m)\u001b[0m\u001b[0;34m\u001b[0m\u001b[0m\n",
      "\u001b[0;32m/home/rodrigoazs/Projetos/TPRE/boostedrevision.py\u001b[0m in \u001b[0;36mlearn_test_model\u001b[0;34m(background, boostsrl, target, train_pos, train_neg, facts, test_pos, test_neg, refine, trees, verbose)\u001b[0m\n\u001b[1;32m    182\u001b[0m     \u001b[0;34m'''Train and test a boosted or single tree'''\u001b[0m\u001b[0;34m\u001b[0m\u001b[0m\n\u001b[1;32m    183\u001b[0m     \u001b[0mdelete_model_files\u001b[0m\u001b[0;34m(\u001b[0m\u001b[0;34m)\u001b[0m\u001b[0;34m\u001b[0m\u001b[0m\n\u001b[0;32m--> 184\u001b[0;31m     \u001b[0mmodel\u001b[0m \u001b[0;34m=\u001b[0m \u001b[0mboostsrl\u001b[0m\u001b[0;34m.\u001b[0m\u001b[0mtrain\u001b[0m\u001b[0;34m(\u001b[0m\u001b[0mbackground\u001b[0m\u001b[0;34m,\u001b[0m \u001b[0mtrain_pos\u001b[0m\u001b[0;34m,\u001b[0m \u001b[0mtrain_neg\u001b[0m\u001b[0;34m,\u001b[0m \u001b[0mfacts\u001b[0m\u001b[0;34m,\u001b[0m \u001b[0mrefine\u001b[0m\u001b[0;34m=\u001b[0m\u001b[0mrefine\u001b[0m\u001b[0;34m,\u001b[0m \u001b[0mtrees\u001b[0m\u001b[0;34m=\u001b[0m\u001b[0mtrees\u001b[0m\u001b[0;34m)\u001b[0m\u001b[0;34m\u001b[0m\u001b[0m\n\u001b[0m\u001b[1;32m    185\u001b[0m     \u001b[0mwill\u001b[0m \u001b[0;34m=\u001b[0m \u001b[0;34m[\u001b[0m\u001b[0;34m'WILL Produced-Tree #'\u001b[0m\u001b[0;34m+\u001b[0m\u001b[0mstr\u001b[0m\u001b[0;34m(\u001b[0m\u001b[0mi\u001b[0m\u001b[0;34m+\u001b[0m\u001b[0;36m1\u001b[0m\u001b[0;34m)\u001b[0m\u001b[0;34m+\u001b[0m\u001b[0;34m'\\n'\u001b[0m\u001b[0;34m+\u001b[0m\u001b[0;34m(\u001b[0m\u001b[0;34m'\\n'\u001b[0m\u001b[0;34m.\u001b[0m\u001b[0mjoin\u001b[0m\u001b[0;34m(\u001b[0m\u001b[0mmodel\u001b[0m\u001b[0;34m.\u001b[0m\u001b[0mget_will_produced_tree\u001b[0m\u001b[0;34m(\u001b[0m\u001b[0mtreenumber\u001b[0m\u001b[0;34m=\u001b[0m\u001b[0mi\u001b[0m\u001b[0;34m+\u001b[0m\u001b[0;36m1\u001b[0m\u001b[0;34m)\u001b[0m\u001b[0;34m)\u001b[0m\u001b[0;34m)\u001b[0m \u001b[0;32mfor\u001b[0m \u001b[0mi\u001b[0m \u001b[0;32min\u001b[0m \u001b[0mrange\u001b[0m\u001b[0;34m(\u001b[0m\u001b[0mtrees\u001b[0m\u001b[0;34m)\u001b[0m\u001b[0;34m]\u001b[0m\u001b[0;34m\u001b[0m\u001b[0m\n\u001b[1;32m    186\u001b[0m     \u001b[0;32mif\u001b[0m \u001b[0mverbose\u001b[0m\u001b[0;34m:\u001b[0m\u001b[0;34m\u001b[0m\u001b[0m\n",
      "\u001b[0;32m/home/rodrigoazs/anaconda3/lib/python3.5/site-packages/boostsrl/boostsrl.py\u001b[0m in \u001b[0;36m__init__\u001b[0;34m(self, background, train_pos, train_neg, train_facts, refine, save, advice, softm, alpha, beta, trees)\u001b[0m\n\u001b[1;32m    249\u001b[0m         \u001b[0mCALL\u001b[0m \u001b[0;34m=\u001b[0m \u001b[0;34m'(cd boostsrl; java -jar v1-0.jar -l '\u001b[0m \u001b[0;34m+\u001b[0m \u001b[0;34m(\u001b[0m\u001b[0;34m'-refine refine.txt '\u001b[0m \u001b[0;32mif\u001b[0m \u001b[0mrefine\u001b[0m \u001b[0;32melse\u001b[0m \u001b[0;34m''\u001b[0m\u001b[0;34m)\u001b[0m \u001b[0;34m+\u001b[0m \u001b[0mcombine\u001b[0m \u001b[0;34m+\u001b[0m \u001b[0;34m'-train train/ -target '\u001b[0m \u001b[0;34m+\u001b[0m \u001b[0;34m','\u001b[0m\u001b[0;34m.\u001b[0m\u001b[0mjoin\u001b[0m\u001b[0;34m(\u001b[0m\u001b[0mself\u001b[0m\u001b[0;34m.\u001b[0m\u001b[0mtarget\u001b[0m\u001b[0;34m)\u001b[0m \u001b[0;34m+\u001b[0m\u001b[0;31m \u001b[0m\u001b[0;31m\\\u001b[0m\u001b[0;34m\u001b[0m\u001b[0m\n\u001b[1;32m    250\u001b[0m                \u001b[0;34m' -trees '\u001b[0m \u001b[0;34m+\u001b[0m \u001b[0mstr\u001b[0m\u001b[0;34m(\u001b[0m\u001b[0mself\u001b[0m\u001b[0;34m.\u001b[0m\u001b[0mtrees\u001b[0m\u001b[0;34m)\u001b[0m \u001b[0;34m+\u001b[0m \u001b[0;34m' > train_output.txt 2>&1)'\u001b[0m\u001b[0;34m\u001b[0m\u001b[0m\n\u001b[0;32m--> 251\u001b[0;31m         \u001b[0mcall_process\u001b[0m\u001b[0;34m(\u001b[0m\u001b[0mCALL\u001b[0m\u001b[0;34m)\u001b[0m\u001b[0;34m\u001b[0m\u001b[0m\n\u001b[0m\u001b[1;32m    252\u001b[0m \u001b[0;34m\u001b[0m\u001b[0m\n\u001b[1;32m    253\u001b[0m     \u001b[0;32mdef\u001b[0m \u001b[0mtree\u001b[0m\u001b[0;34m(\u001b[0m\u001b[0mself\u001b[0m\u001b[0;34m,\u001b[0m \u001b[0mtreenumber\u001b[0m\u001b[0;34m,\u001b[0m \u001b[0mtarget\u001b[0m\u001b[0;34m,\u001b[0m \u001b[0mimage\u001b[0m\u001b[0;34m=\u001b[0m\u001b[0;32mFalse\u001b[0m\u001b[0;34m)\u001b[0m\u001b[0;34m:\u001b[0m\u001b[0;34m\u001b[0m\u001b[0m\n",
      "\u001b[0;32m/home/rodrigoazs/anaconda3/lib/python3.5/site-packages/boostsrl/boostsrl.py\u001b[0m in \u001b[0;36mcall_process\u001b[0;34m(call)\u001b[0m\n\u001b[1;32m     69\u001b[0m         \u001b[0mos\u001b[0m\u001b[0;34m.\u001b[0m\u001b[0mwaitpid\u001b[0m\u001b[0;34m(\u001b[0m\u001b[0mp\u001b[0m\u001b[0;34m.\u001b[0m\u001b[0mpid\u001b[0m\u001b[0;34m,\u001b[0m \u001b[0;36m0\u001b[0m\u001b[0;34m)\u001b[0m\u001b[0;34m\u001b[0m\u001b[0m\n\u001b[1;32m     70\u001b[0m     \u001b[0;32mexcept\u001b[0m\u001b[0;34m:\u001b[0m\u001b[0;34m\u001b[0m\u001b[0m\n\u001b[0;32m---> 71\u001b[0;31m         \u001b[0;32mraise\u001b[0m\u001b[0;34m(\u001b[0m\u001b[0mException\u001b[0m\u001b[0;34m(\u001b[0m\u001b[0;34m'Encountered problems while running process: '\u001b[0m\u001b[0;34m,\u001b[0m \u001b[0mcall\u001b[0m\u001b[0;34m)\u001b[0m\u001b[0;34m)\u001b[0m\u001b[0;34m\u001b[0m\u001b[0m\n\u001b[0m\u001b[1;32m     72\u001b[0m \u001b[0;34m\u001b[0m\u001b[0m\n\u001b[1;32m     73\u001b[0m \u001b[0;32mdef\u001b[0m \u001b[0minspect_mode_syntax\u001b[0m\u001b[0;34m(\u001b[0m\u001b[0mexample\u001b[0m\u001b[0;34m)\u001b[0m\u001b[0;34m:\u001b[0m\u001b[0;34m\u001b[0m\u001b[0m\n",
      "\u001b[0;31mException\u001b[0m: ('Encountered problems while running process: ', '(cd boostsrl; java -jar v1-0.jar -l -combine -train train/ -target athleteplaysforteam -trees 10 > train_output.txt 2>&1)')"
     ]
    }
   ],
   "source": [
    "import sys\n",
    "import time\n",
    "\n",
    "# shuffle all examples\n",
    "random.shuffle(pos)\n",
    "random.shuffle(neg)\n",
    "\n",
    "neg = neg[:len(pos)] # balanced\n",
    "\n",
    "import numpy as np\n",
    "pos = np.array(pos)\n",
    "neg = np.array(neg)\n",
    "\n",
    "small_dataset_aucroc = {}\n",
    "small_dataset_aucpr = {}\n",
    "revision_dataset_aucroc = {}\n",
    "revision_dataset_aucpr = {}\n",
    "\n",
    "revisions = 6\n",
    "smalls = 4\n",
    "\n",
    "for small_train_size in np.linspace(0.25, 1.0, num=smalls):\n",
    "    small_dataset_aucroc[str(small_train_size)] = []\n",
    "    small_dataset_aucpr[str(small_train_size)] = []\n",
    "    revision_dataset_aucroc[str(small_train_size)] = {}\n",
    "    revision_dataset_aucpr[str(small_train_size)] = {}\n",
    "    for revision_threshold in np.linspace(0.5, 1.0, num=revisions):\n",
    "        revision_dataset_aucroc[str(small_train_size)][str(revision_threshold)] = []\n",
    "        revision_dataset_aucpr[str(small_train_size)][str(revision_threshold)] = []\n",
    "\n",
    "start = time.time()\n",
    "# separate train and test\n",
    "kf = KFold(n_splits=10)\n",
    "fold = 0\n",
    "for train_index, test_index in kf.split(pos):\n",
    "    train_pos, test_pos = pos[train_index], pos[test_index]\n",
    "    train_neg, test_neg = neg[train_index], neg[test_index]\n",
    "    fold += 1\n",
    "    \n",
    "    # shuffle all train examples\n",
    "    random.shuffle(train_pos)\n",
    "    random.shuffle(train_neg)\n",
    "        \n",
    "    # train set used in revision and validation set\n",
    "    r_train_pos = train_pos[int(validation_size*len(train_pos)):]\n",
    "    r_train_neg = train_neg[int(validation_size*len(train_neg)):]\n",
    "    validation_pos = train_pos[:int(validation_size*len(train_pos))]\n",
    "    validation_neg = train_neg[:int(validation_size*len(train_neg))]\n",
    "    \n",
    "    '''print('New fold')\n",
    "    print('train_pos: '+str(len(train_pos)))\n",
    "    print('test_pos: '+str(len(test_pos)))\n",
    "    print('r_train_pos: '+str(len(r_train_pos)))\n",
    "    print('validation_pos: '+str(len(validation_pos)))\n",
    "    print('\\n')'''\n",
    "\n",
    "    # learning from complete dataset\n",
    "    #[model, learning_time, inference_time, t_results, structured] = learn_test_model(background, boostsrl, target, r_train_pos, r_train_neg, facts, test_pos, test_neg, trees=1, verbose=False)\n",
    "    #complete_dataset_aucroc.append(t_results['AUC ROC'])\n",
    "\n",
    "    for small_train_size in np.linspace(0.25, 1.0, num=smalls): #num=4):\n",
    "        # learn from scratch in a small dataset\n",
    "        s_train_pos = r_train_pos[:int(small_train_size*len(r_train_pos))]\n",
    "        s_train_neg = r_train_neg[:int(small_train_size*len(r_train_neg))]\n",
    "        \n",
    "        '''print('New small dataset')\n",
    "        print('s_train_pos: '+str(len(s_train_pos)))\n",
    "        print(s_train_pos)\n",
    "        print('\\n')'''\n",
    "\n",
    "        # learning from small dataset\n",
    "        [model, learning_time, inference_time, t_results, small_structured, will] = learn_test_model(background, boostsrl, target, s_train_pos, s_train_neg, facts, test_pos, test_neg, trees=10, verbose=False)\n",
    "        small_dataset_aucroc[str(small_train_size)].append(t_results['AUC ROC'])\n",
    "        small_dataset_aucpr[str(small_train_size)].append(t_results['AUC PR'])\n",
    "\n",
    "        for revision_threshold in np.linspace(0.5, 1.0, num=revisions):\n",
    "            # theory revision\n",
    "            try:\n",
    "                [model, total_revision_time, inference_time, t_results, structured] = theory_revision(background, boostsrl, target, r_train_pos, r_train_neg, facts, validation_pos, validation_neg, test_pos, test_neg, revision_threshold, small_structured.copy(), max_revision_iterations=10, trees=10, verbose=False)\n",
    "                revision_dataset_aucroc[str(small_train_size)][str(revision_threshold)].append(t_results['AUC ROC'])\n",
    "                revision_dataset_aucpr[str(small_train_size)][str(revision_threshold)].append(t_results['AUC PR'])\n",
    "                #print('aaa')\n",
    "                sys.stdout.write('\\rFold: %s, small_train_size: %s, revision_threshold: %s, time: %s' % (fold, small_train_size, revision_threshold, time.strftime('%H:%M:%S', time.gmtime(time.time()-start))))\n",
    "                sys.stdout.flush()\n",
    "            except:\n",
    "                pass"
   ]
  },
  {
   "cell_type": "markdown",
   "metadata": {},
   "source": [
    "## Learning 10 boosted trees\n",
    "## Revision threshold = 0.5,0.6,...,1.0\n",
    "## target: athleteplaysforteam"
   ]
  },
  {
   "cell_type": "code",
   "execution_count": 20,
   "metadata": {
    "collapsed": false
   },
   "outputs": [
    {
     "data": {
      "image/png": "[encoded data removed]",
      "text/plain": [
       "<matplotlib.figure.Figure at 0x7f3a5c5db390>"
      ]
     },
     "metadata": {},
     "output_type": "display_data"
    },
    {
     "data": {
      "image/png": "[encoded data removed]",
      "text/plain": [
       "<matplotlib.figure.Figure at 0x7f3a1f6389e8>"
      ]
     },
     "metadata": {},
     "output_type": "display_data"
    }
   ],
   "source": [
    "import matplotlib.pyplot as plt\n",
    "colors = {'0.25': 'blue', '0.5': 'red', '0.75': 'green', '1.0': 'purple'}\n",
    "for small_train_size in np.linspace(0.25, 1.0, num=smalls):\n",
    "    x = []\n",
    "    y = []\n",
    "    base = np.array(small_dataset_aucroc[str(small_train_size)])\n",
    "    base = base.mean()\n",
    "    base = revisions * [base]\n",
    "    for revision_threshold in np.linspace(0.5, 1.0, num=revisions):\n",
    "        x.append(revision_threshold)\n",
    "        v = revision_dataset_aucroc[str(small_train_size)][str(revision_threshold)]\n",
    "        v = np.array(v)\n",
    "        y.append(v.mean())\n",
    "    plt.plot(x, y, label=str(small_train_size), color=colors[str(small_train_size)])\n",
    "    plt.plot(x, base, linestyle=':', color=colors[str(small_train_size)])\n",
    "plt.xlim(0.3,1.0)\n",
    "plt.xlabel('Revision threshold')\n",
    "plt.ylabel('AUC ROC')\n",
    "plt.legend(loc='upper left')\n",
    "plt.show()\n",
    "\n",
    "for small_train_size in np.linspace(0.25, 1.0, num=smalls):\n",
    "    x = []\n",
    "    y = []\n",
    "    base = np.array(small_dataset_aucpr[str(small_train_size)])\n",
    "    base = base.mean()\n",
    "    base = revisions * [base]\n",
    "    for revision_threshold in np.linspace(0.5, 1.0, num=revisions):\n",
    "        x.append(revision_threshold)\n",
    "        v = revision_dataset_aucpr[str(small_train_size)][str(revision_threshold)]\n",
    "        v = np.array(v)\n",
    "        y.append(v.mean())\n",
    "    plt.plot(x, y, label=str(small_train_size), color=colors[str(small_train_size)])\n",
    "    plt.plot(x, base, linestyle=':', color=colors[str(small_train_size)])\n",
    "plt.xlim(0.3,1.0)\n",
    "plt.xlabel('Revision threshold')\n",
    "plt.ylabel('AUC PR')\n",
    "plt.legend(loc='upper left')\n",
    "plt.show()"
   ]
  },
  {
   "cell_type": "code",
   "execution_count": 21,
   "metadata": {
    "collapsed": false
   },
   "outputs": [
    {
     "data": {
      "text/plain": [
       "{'0.25': [0.855977, 0.830221],\n",
       " '0.5': [0.8617, 0.828791],\n",
       " '0.75': [0.854804, 0.834702],\n",
       " '1.0': [0.851403, 0.849339]}"
      ]
     },
     "execution_count": 21,
     "metadata": {},
     "output_type": "execute_result"
    }
   ],
   "source": [
    "small_dataset_aucroc"
   ]
  },
  {
   "cell_type": "code",
   "execution_count": 22,
   "metadata": {
    "collapsed": false
   },
   "outputs": [
    {
     "data": {
      "text/plain": [
       "{'0.25': {'0.5': [0.863506, 0.829705],\n",
       "  '0.6': [0.862709, 0.829705],\n",
       "  '0.7': [0.861771, 0.829705],\n",
       "  '0.8': [0.863506, 0.829705],\n",
       "  '0.9': [0.863506, 0.829705],\n",
       "  '1.0': [0.863506, 0.829705]},\n",
       " '0.5': {'0.5': [0.862169, 0.825296],\n",
       "  '0.6': [0.862169, 0.825296],\n",
       "  '0.7': [0.862169, 0.825296],\n",
       "  '0.8': [0.862169, 0.825296],\n",
       "  '0.9': [0.862169, 0.822504],\n",
       "  '1.0': [0.862169, 0.825999]},\n",
       " '0.75': {'0.5': [0.857619, 0.83245],\n",
       "  '0.6': [0.857619, 0.83245],\n",
       "  '0.7': [0.855977, 0.83245],\n",
       "  '0.8': [0.857619, 0.831136],\n",
       "  '0.9': [0.857619, 0.828744],\n",
       "  '1.0': [0.857619, 0.828814]},\n",
       " '1.0': {'0.5': [0.851403, 0.849339],\n",
       "  '0.6': [0.851403],\n",
       "  '0.7': [0.851403],\n",
       "  '0.8': [0.851403],\n",
       "  '0.9': [0.851403],\n",
       "  '1.0': [0.851403]}}"
      ]
     },
     "execution_count": 22,
     "metadata": {},
     "output_type": "execute_result"
    }
   ],
   "source": [
    "revision_dataset_aucroc"
   ]
  },
  {
   "cell_type": "code",
   "execution_count": null,
   "metadata": {
    "collapsed": true
   },
   "outputs": [],
   "source": []
  }
 ],
 "metadata": {
  "anaconda-cloud": {},
  "kernelspec": {
   "display_name": "Python [conda root]",
   "language": "python",
   "name": "conda-root-py"
  },
  "language_info": {
   "codemirror_mode": {
    "name": "ipython",
    "version": 3
   },
   "file_extension": ".py",
   "mimetype": "text/x-python",
   "name": "python",
   "nbconvert_exporter": "python",
   "pygments_lexer": "ipython3",
   "version": "3.5.2"
  }
 },
 "nbformat": 4,
 "nbformat_minor": 1
}
