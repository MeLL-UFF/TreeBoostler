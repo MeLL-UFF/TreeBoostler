{
 "cells": [
  {
   "cell_type": "code",
   "execution_count": 1,
   "metadata": {},
   "outputs": [],
   "source": [
    "from datasets.get_datasets import *\n",
    "from mapping import *\n",
    "from IPython.display import display, Markdown, Latex"
   ]
  },
  {
   "cell_type": "code",
   "execution_count": 2,
   "metadata": {},
   "outputs": [],
   "source": [
    "datasets = {}\n",
    "source_bk = {}\n",
    "target_bk = {}\n",
    "\n",
    "datasets['imdb'] = get_imdb_dataset('workedunder')\n",
    "target_bk['imdb'] = ['workedunder(person,person).',\n",
    "'genre(person,genre).',\n",
    "'female(person).',\n",
    "'actor(person).',\n",
    "'director(person).',\n",
    "'movie(movie,person).']\n",
    "source_bk['imdb'] = ['workedunder(person,person).',\n",
    "'genre(person,genre).',\n",
    "'female(person).',\n",
    "'actor(person).',\n",
    "'director(person).',\n",
    "'movie(movie,person).']"
   ]
  },
  {
   "cell_type": "code",
   "execution_count": 5,
   "metadata": {},
   "outputs": [],
   "source": [
    "datasets['uwcse'] = get_uwcse_dataset('advisedby')\n",
    "target_bk['uwcse'] = ['professor(person).',\n",
    "'student(person).',\n",
    "'advisedby(person,person).',\n",
    "'tempadvisedby(person,person).',\n",
    "'taughtby(course,person).',\n",
    "#'ta(course,person,quarter).',\n",
    "'hasposition(person,faculty).',\n",
    "'publication(title,person).',\n",
    "'inphase(person, pre_quals).',\n",
    "#'taughtby(course, person, quarter).',\n",
    "'courselevel(course,level).',\n",
    "'yearsinprogram(person,year).',\n",
    "'projectmember(project, person).']\n",
    "#'sameproject(project, project).',\n",
    "#'samecourse(course, course).',\n",
    "#'sameperson(person, person).']\n",
    "source_bk['uwcse'] = ['professor(person).',\n",
    "'student(person).',\n",
    "'advisedby(person,person).',\n",
    "'tempadvisedby(person,person).',\n",
    "'taughtby(course,person).',\n",
    "#'ta(course,person,quarter).',\n",
    "'hasposition(person,faculty).',\n",
    "'publication(title,person).']\n",
    "#'inphase(person, pre_quals).',\n",
    "#'taughtby(course, person, quarter).',\n",
    "#'courselevel(course,level).',\n",
    "#'yearsinprogram(person,year).',\n",
    "#'projectmember(project, person).']\n",
    "#'sameproject(project, project).',\n",
    "#'samecourse(course, course).',\n",
    "#'sameperson(person, person).']"
   ]
  },
  {
   "cell_type": "code",
   "execution_count": 6,
   "metadata": {},
   "outputs": [],
   "source": [
    "datasets['cora'] = get_cora_dataset('sameauthor')\n",
    "target_bk['cora'] = ['samebib(class,class).',\n",
    "'sameauthor(author,author).',\n",
    "'sametitle(title,title).',\n",
    "'samevenue(venue,venue).',\n",
    "'author(class,author).',\n",
    "'title(class,title).',\n",
    "'venue(class,venue).',\n",
    "'haswordauthor(author,word).',\n",
    "'harswordtitle(title,word).',\n",
    "'haswordvenue(venue,word).']\n",
    "source_bk['cora'] = ['samebib(class,class).',\n",
    "'sameauthor(author,author).',\n",
    "'sametitle(title,title).',\n",
    "#'samevenue(venue,venue).',\n",
    "'author(class,author).',\n",
    "'title(class,title).']\n",
    "#'venue(class,venue).',\n",
    "#'haswordauthor(author,word).',\n",
    "#'harswordtitle(title,word).',\n",
    "#'haswordvenue(venue,word).']"
   ]
  },
  {
   "cell_type": "code",
   "execution_count": 7,
   "metadata": {},
   "outputs": [
    {
     "data": {
      "text/plain": [
       "\"datasets['webkb'] = get_webkb_dataset('coursePage')\\nbk['webkb'] = ['coursePage(page).',\\n'facultyPage(page).',\\n'studentPage(page).',\\n'researchProjectPage(page).',\\n'has(word,page).',\\n'hasAlphanumericWord(id).',\\n'allWordsCapitalized(id).']\""
      ]
     },
     "execution_count": 7,
     "metadata": {},
     "output_type": "execute_result"
    }
   ],
   "source": [
    "'''datasets['webkb'] = get_webkb_dataset('coursePage')\n",
    "bk['webkb'] = ['coursePage(page).',\n",
    "'facultyPage(page).',\n",
    "'studentPage(page).',\n",
    "'researchProjectPage(page).',\n",
    "'has(word,page).',\n",
    "'hasAlphanumericWord(id).',\n",
    "'allWordsCapitalized(id).']'''"
   ]
  },
  {
   "cell_type": "code",
   "execution_count": 8,
   "metadata": {},
   "outputs": [],
   "source": [
    "datasets['nell'] = get_nell_dataset('athleteledsportsteam')\n",
    "target_bk['nell'] = ['athleteledsportsteam(athlete,sportsteam).',\n",
    "'athleteplaysforteam(athlete,sportsteam).',\n",
    "'athleteplaysinleague(athlete,sportsleague).',\n",
    "'athleteplayssport(athlete,sport).',\n",
    "'teamalsoknownas(sportsteam,sportsteam).',\n",
    "'teamplaysagainstteam(sportsteam,sportsteam).',\n",
    "'teamplaysinleague(sportsteam,sportsleague).',\n",
    "'teamplayssport(sportsteam,sport).']\n",
    "source_bk['nell'] = [#'athleteledsportsteam(athlete,sportsteam).',\n",
    "'athleteplaysforteam(athlete,sportsteam).',\n",
    "#'athleteplaysinleague(athlete,sportsleague).',\n",
    "'athleteplayssport(athlete,sport).',\n",
    "#'teamalsoknownas(sportsteam,sportsteam).',\n",
    "#'teamplaysagainstteam(sportsteam,sportsteam).',\n",
    "#'teamplaysinleague(sportsteam,sportsleague).',\n",
    "'teamplayssport(sportsteam,sport).']"
   ]
  },
  {
   "cell_type": "code",
   "execution_count": 9,
   "metadata": {
    "scrolled": false
   },
   "outputs": [
    {
     "data": {
      "text/markdown": [
       "# imdb -> uwcse"
      ],
      "text/plain": [
       "<IPython.core.display.Markdown object>"
      ]
     },
     "metadata": {},
     "output_type": "display_data"
    },
    {
     "name": "stdout",
     "output_type": "stream",
     "text": [
      "Mapping: \n",
      "workedunder(A,B) -> advisedby(A,B)\n",
      "genre(A,B) -> taughtby(B,A)\n",
      "actor(A) -> student(A)\n",
      "director(A) -> professor(A)\n",
      "movie(A,B) -> publication(A,B)\n",
      "\n",
      "\n",
      "Best: \n",
      "{'Knowledge compiling time': 0.08165597915649414, 'Generating paths time': 5.4970574378967285, 'Generating mappings time': 1.3909797668457031, 'Possible mappings': 16361, 'Finding best mapping': 5.2179155349731445, 'Total time': 12.18760871887207}\n"
     ]
    },
    {
     "data": {
      "text/markdown": [
       "# imdb -> cora"
      ],
      "text/plain": [
       "<IPython.core.display.Markdown object>"
      ]
     },
     "metadata": {},
     "output_type": "display_data"
    },
    {
     "name": "stdout",
     "output_type": "stream",
     "text": [
      "Mapping: \n",
      "workedunder(A,B) -> samebib(A,B)\n",
      "genre(A,B) -> author(A,B)\n",
      "movie(A,B) -> title(B,A)\n",
      "\n",
      "\n",
      "Best: \n",
      "{'Knowledge compiling time': 0.8741123676300049, 'Generating paths time': 7.6928980350494385, 'Generating mappings time': 0.18012714385986328, 'Possible mappings': 345, 'Finding best mapping': 0.08506131172180176, 'Total time': 8.832198858261108}\n"
     ]
    },
    {
     "data": {
      "text/markdown": [
       "# imdb -> nell"
      ],
      "text/plain": [
       "<IPython.core.display.Markdown object>"
      ]
     },
     "metadata": {},
     "output_type": "display_data"
    },
    {
     "name": "stdout",
     "output_type": "stream",
     "text": [
      "Mapping: \n",
      "workedunder(A,B) -> teamalsoknownas(B,A)\n",
      "genre(A,B) -> athleteplaysforteam(B,A)\n",
      "movie(A,B) -> teamplaysagainstteam(B,A)\n",
      "\n",
      "\n",
      "Best: \n",
      "{'Knowledge compiling time': 0.21015238761901855, 'Generating paths time': 12.347374200820923, 'Generating mappings time': 0.25117063522338867, 'Possible mappings': 445, 'Finding best mapping': 0.192626953125, 'Total time': 13.00132417678833}\n"
     ]
    },
    {
     "data": {
      "text/markdown": [
       "# uwcse -> imdb"
      ],
      "text/plain": [
       "<IPython.core.display.Markdown object>"
      ]
     },
     "metadata": {},
     "output_type": "display_data"
    },
    {
     "name": "stdout",
     "output_type": "stream",
     "text": [
      "Mapping: \n",
      "professor(A) -> director(A)\n",
      "student(A) -> female(A)\n",
      "advisedby(A,B) -> workedunder(A,B)\n",
      "tempadvisedby(A,B) -> workedunder(A,B)\n",
      "taughtby(A,B) -> movie(A,B)\n",
      "hasposition(A,B) -> genre(A,B)\n",
      "publication(A,B) -> movie(A,B)\n",
      "\n",
      "\n",
      "Best: \n",
      "{'Knowledge compiling time': 0.08505558967590332, 'Generating paths time': 5.506062030792236, 'Generating mappings time': 1.4578022956848145, 'Possible mappings': 18014, 'Finding best mapping': 11.268841743469238, 'Total time': 18.317761659622192}\n"
     ]
    },
    {
     "data": {
      "text/markdown": [
       "# uwcse -> cora"
      ],
      "text/plain": [
       "<IPython.core.display.Markdown object>"
      ]
     },
     "metadata": {},
     "output_type": "display_data"
    },
    {
     "name": "stdout",
     "output_type": "stream",
     "text": [
      "Mapping: \n",
      "advisedby(A,B) -> samebib(A,B)\n",
      "tempadvisedby(A,B) -> samebib(B,A)\n",
      "taughtby(A,B) -> author(B,A)\n",
      "hasposition(A,B) -> title(A,B)\n",
      "publication(A,B) -> venue(B,A)\n",
      "\n",
      "\n",
      "Best: \n",
      "{'Knowledge compiling time': 0.9687099456787109, 'Generating paths time': 8.954818964004517, 'Generating mappings time': 0.7105109691619873, 'Possible mappings': 5379, 'Finding best mapping': 2.7809908390045166, 'Total time': 13.415030717849731}\n"
     ]
    },
    {
     "data": {
      "text/markdown": [
       "# uwcse -> nell"
      ],
      "text/plain": [
       "<IPython.core.display.Markdown object>"
      ]
     },
     "metadata": {},
     "output_type": "display_data"
    },
    {
     "name": "stdout",
     "output_type": "stream",
     "text": [
      "Mapping: \n",
      "advisedby(A,B) -> teamalsoknownas(B,A)\n",
      "tempadvisedby(A,B) -> teamplaysagainstteam(B,A)\n",
      "taughtby(A,B) -> athleteplaysforteam(A,B)\n",
      "hasposition(A,B) -> teamplayssport(A,B)\n",
      "publication(A,B) -> teamplaysagainstteam(A,B)\n",
      "\n",
      "\n",
      "Best: \n",
      "{'Knowledge compiling time': 0.3707754611968994, 'Generating paths time': 13.452554702758789, 'Generating mappings time': 1.1938574314117432, 'Possible mappings': 18401, 'Finding best mapping': 11.268165111541748, 'Total time': 26.28535270690918}\n"
     ]
    },
    {
     "data": {
      "text/markdown": [
       "# cora -> imdb"
      ],
      "text/plain": [
       "<IPython.core.display.Markdown object>"
      ]
     },
     "metadata": {},
     "output_type": "display_data"
    },
    {
     "name": "stdout",
     "output_type": "stream",
     "text": [
      "Mapping: \n",
      "samebib(A,B) -> workedunder(A,B)\n",
      "author(A,B) -> genre(A,B)\n",
      "title(A,B) -> movie(B,A)\n",
      "\n",
      "\n",
      "Best: \n",
      "{'Knowledge compiling time': 0.7999029159545898, 'Generating paths time': 7.326969146728516, 'Generating mappings time': 0.10407686233520508, 'Possible mappings': 417, 'Finding best mapping': 0.14310002326965332, 'Total time': 8.374048948287964}\n"
     ]
    },
    {
     "data": {
      "text/markdown": [
       "# cora -> uwcse"
      ],
      "text/plain": [
       "<IPython.core.display.Markdown object>"
      ]
     },
     "metadata": {},
     "output_type": "display_data"
    },
    {
     "name": "stdout",
     "output_type": "stream",
     "text": [
      "Mapping: \n",
      "samebib(A,B) -> advisedby(A,B)\n",
      "author(A,B) -> taughtby(B,A)\n",
      "title(A,B) -> publication(B,A)\n",
      "\n",
      "\n",
      "Best: \n",
      "{'Knowledge compiling time': 0.80961012840271, 'Generating paths time': 7.654046535491943, 'Generating mappings time': 0.6634793281555176, 'Possible mappings': 5287, 'Finding best mapping': 2.37365460395813, 'Total time': 11.5007905960083}\n"
     ]
    },
    {
     "data": {
      "text/markdown": [
       "# cora -> nell"
      ],
      "text/plain": [
       "<IPython.core.display.Markdown object>"
      ]
     },
     "metadata": {},
     "output_type": "display_data"
    },
    {
     "name": "stdout",
     "output_type": "stream",
     "text": [
      "Mapping: \n",
      "samebib(A,B) -> teamalsoknownas(A,B)\n",
      "sameauthor(A,B) -> teamplaysagainstteam(A,B)\n",
      "sametitle(A,B) -> teamplaysagainstteam(A,B)\n",
      "author(A,B) -> teamplaysagainstteam(A,B)\n",
      "title(A,B) -> teamplaysagainstteam(B,A)\n",
      "\n",
      "\n",
      "Best: \n",
      "{'Knowledge compiling time': 0.9945347309112549, 'Generating paths time': 15.327166080474854, 'Generating mappings time': 0.531743049621582, 'Possible mappings': 4661, 'Finding best mapping': 2.5408592224121094, 'Total time': 19.3943030834198}\n"
     ]
    },
    {
     "data": {
      "text/markdown": [
       "# nell -> imdb"
      ],
      "text/plain": [
       "<IPython.core.display.Markdown object>"
      ]
     },
     "metadata": {},
     "output_type": "display_data"
    },
    {
     "name": "stdout",
     "output_type": "stream",
     "text": [
      "Mapping: \n",
      "athleteplaysforteam(A,B) -> workedunder(A,B)\n",
      "athleteplayssport(A,B) -> movie(B,A)\n",
      "teamplayssport(A,B) -> movie(B,A)\n",
      "\n",
      "\n",
      "Best: \n",
      "{'Knowledge compiling time': 0.2752213478088379, 'Generating paths time': 16.233112573623657, 'Generating mappings time': 0.11557650566101074, 'Possible mappings': 93, 'Finding best mapping': 0.012007713317871094, 'Total time': 16.635918140411377}\n"
     ]
    },
    {
     "data": {
      "text/markdown": [
       "# nell -> uwcse"
      ],
      "text/plain": [
       "<IPython.core.display.Markdown object>"
      ]
     },
     "metadata": {},
     "output_type": "display_data"
    },
    {
     "name": "stdout",
     "output_type": "stream",
     "text": [
      "Mapping: \n",
      "athleteplaysforteam(A,B) -> publication(B,A)\n",
      "athleteplayssport(A,B) -> advisedby(A,B)\n",
      "teamplayssport(A,B) -> publication(A,B)\n",
      "\n",
      "\n",
      "Best: \n",
      "{'Knowledge compiling time': 0.27668142318725586, 'Generating paths time': 13.771608591079712, 'Generating mappings time': 0.2041454315185547, 'Possible mappings': 521, 'Finding best mapping': 0.03902554512023926, 'Total time': 14.291460990905762}\n"
     ]
    },
    {
     "data": {
      "text/markdown": [
       "# nell -> cora"
      ],
      "text/plain": [
       "<IPython.core.display.Markdown object>"
      ]
     },
     "metadata": {},
     "output_type": "display_data"
    },
    {
     "name": "stdout",
     "output_type": "stream",
     "text": [
      "Mapping: \n",
      "athleteplaysforteam(A,B) -> haswordauthor(B,A)\n",
      "athleteplayssport(A,B) -> haswordauthor(B,A)\n",
      "teamplayssport(A,B) -> sameauthor(A,B)\n",
      "\n",
      "\n",
      "Best: \n",
      "{'Knowledge compiling time': 0.951683521270752, 'Generating paths time': 13.531713247299194, 'Generating mappings time': 0.13909626007080078, 'Possible mappings': 393, 'Finding best mapping': 0.03001999855041504, 'Total time': 14.652513027191162}\n"
     ]
    }
   ],
   "source": [
    "for source in datasets:\n",
    "    for target in datasets:\n",
    "        if source != target:\n",
    "            display(Markdown('# ' + source + ' -> ' + target))\n",
    "            best = mapping.get_best(source_bk[source], target_bk[target], datasets[source][0]+datasets[source][1], datasets[target][0]+datasets[target][1])\n",
    "            print('Mapping: \\n' + '\\n'.join(best[0]))\n",
    "            print('\\n')\n",
    "            print('Best: \\n' + str(best[1]))"
   ]
  },
  {
   "cell_type": "code",
   "execution_count": null,
   "metadata": {},
   "outputs": [],
   "source": []
  }
 ],
 "metadata": {
  "kernelspec": {
   "display_name": "Python 3",
   "language": "python",
   "name": "python3"
  }
 },
 "nbformat": 4,
 "nbformat_minor": 2
}
