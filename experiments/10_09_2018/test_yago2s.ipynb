{
 "cells": [
  {
   "cell_type": "code",
   "execution_count": 1,
   "metadata": {
    "collapsed": true
   },
   "outputs": [],
   "source": [
    "from datasets.get_datasets import *\n",
    "from boostedrevision import *\n",
    "from boostsrl import boostsrl\n",
    "import random"
   ]
  },
  {
   "cell_type": "markdown",
   "metadata": {},
   "source": [
    "## Dataset"
   ]
  },
  {
   "cell_type": "code",
   "execution_count": 15,
   "metadata": {
    "collapsed": true
   },
   "outputs": [],
   "source": [
    "target = 'hasacademicadvisor'\n",
    "\n",
    "bk = ['hascurrency(+place,+currency).',\n",
    "'hascurrency(+place,-currency).',\n",
    "'hascurrency(-place,+currency).',\n",
    "'hascapital(+place,+place).',\n",
    "'hascapital(+place,-place).',\n",
    "'hascapital(-place,+place).',\n",
    "'hasacademicadvisor(+person,+person).',\n",
    "'hasacademicadvisor(+person,-person).',\n",
    "'hasacademicadvisor(-person,+person).',\n",
    "'haswonprize(+person,+prize).',\n",
    "'haswonprize(+person,-prize).',\n",
    "'haswonprize(-person,+prize).',\n",
    "'participatedin(+place,+event).',\n",
    "'participatedin(+place,-event).',\n",
    "'participatedin(-place,+event).',\n",
    "'owns(+institution,+institution).',\n",
    "'owns(+institution,-institution).',\n",
    "'owns(-institution,+institution).',\n",
    "'isinterestedin(+person,+concept).',\n",
    "'isinterestedin(+person,-concept).',\n",
    "'isinterestedin(-person,+concept).',\n",
    "'livesin(+person,+place).',\n",
    "'livesin(+person,-place).',\n",
    "'livesin(-person,+place).',\n",
    "'happenedin(+event,+place).',\n",
    "'happenedin(+event,-place).',\n",
    "'happenedin(-event,+place).',\n",
    "'holdspoliticalposition(+person,+politicalposition).',\n",
    "'holdspoliticalposition(+person,-politicalposition).',\n",
    "'holdspoliticalposition(-person,+politicalposition).',\n",
    "'diedin(+person,+place).',\n",
    "'diedin(+person,-place).',\n",
    "'diedin(-person,+place).',\n",
    "'actedin(+person,+media).',\n",
    "'actedin(+person,-media).',\n",
    "'actedin(-person,+media).',\n",
    "'iscitizenof(+person,+place).',\n",
    "'iscitizenof(+person,-place).',\n",
    "'iscitizenof(-person,+place).',\n",
    "'worksat(+person,+institution).',\n",
    "'worksat(+person,-institution).',\n",
    "'worksat(-person,+institution).',\n",
    "'directed(+person,+media).',\n",
    "'directed(+person,-media).',\n",
    "'directed(-person,+media).',\n",
    "'dealswith(+place,+place).',\n",
    "'dealswith(+place,-place).',\n",
    "'dealswith(-place,+place).',\n",
    "'wasbornin(+person,+place).',\n",
    "'wasbornin(+person,-place).',\n",
    "'wasbornin(-person,+place).',\n",
    "'created(+person,+media).',\n",
    "'created(+person,-media).',\n",
    "'created(-person,+media).',\n",
    "'isleaderof(+person,+place).',\n",
    "'isleaderof(+person,-place).',\n",
    "'isleaderof(-person,+place).',\n",
    "'haschild(+person,+person).',\n",
    "'haschild(+person,-person).',\n",
    "'haschild(-person,+person).',\n",
    "'ismarriedto(+person,+person).',\n",
    "'ismarriedto(+person,-person).',\n",
    "'ismarriedto(-person,+person).',\n",
    "'imports(+person,+material).',\n",
    "'imports(+person,-material).',\n",
    "'imports(-person,+material).',\n",
    "'hasmusicalrole(+person,+musicalrole).',\n",
    "'hasmusicalrole(+person,-musicalrole).',\n",
    "'hasmusicalrole(-person,+musicalrole).',\n",
    "'influences(+person,+person).',\n",
    "'influences(+person,-person).',\n",
    "'influences(-person,+person).',\n",
    "'isaffiliatedto(+person,+team).',\n",
    "'isaffiliatedto(+person,-team).',\n",
    "'isaffiliatedto(-person,+team).',\n",
    "'isknownfor(+person,+theory).',\n",
    "'isknownfor(+person,-theory).',\n",
    "'isknownfor(-person,+theory).',\n",
    "'ispoliticianof(+person,+place).',\n",
    "'ispoliticianof(+person,-place).',\n",
    "'ispoliticianof(-person,+place).',\n",
    "'graduatedfrom(+person,+institution).',\n",
    "'graduatedfrom(+person,-institution).',\n",
    "'graduatedfrom(-person,+institution).',\n",
    "'exports(+place,+material).',\n",
    "'exports(+place,-material).',\n",
    "'exports(-place,+material).',\n",
    "'edited(+person,+media).',\n",
    "'edited(+person,-media).',\n",
    "'edited(-person,+media).',\n",
    "'wrotemusicfor(+person,+media).',\n",
    "'wrotemusicfor(+person,-media).',\n",
    "'wrotemusicfor(-person,+media).']\n",
    "\n",
    "[facts, pos, neg] = datasets.load('yago2s', bk, target=target)\n",
    "\n",
    "pos = datasets.split_into_folds(pos[0])\n",
    "neg = datasets.split_into_folds(neg[0])"
   ]
  },
  {
   "cell_type": "markdown",
   "metadata": {},
   "source": [
    "## Background  configuration"
   ]
  },
  {
   "cell_type": "code",
   "execution_count": 16,
   "metadata": {
    "collapsed": true
   },
   "outputs": [],
   "source": [
    "background = boostsrl.modes(bk, [target], useStdLogicVariables=False, treeDepth=8, nodeSize=3, numOfClauses=8)"
   ]
  },
  {
   "cell_type": "markdown",
   "metadata": {},
   "source": [
    "## Learning"
   ]
  },
  {
   "cell_type": "code",
   "execution_count": null,
   "metadata": {
    "collapsed": false
   },
   "outputs": [],
   "source": [
    "for i in range(len(pos)):\n",
    "    train_facts = facts[0]\n",
    "    test_facts = facts[0]\n",
    "    [train_pos, test_pos] = datasets.get_kfold_small(i, pos)\n",
    "    [train_neg, test_neg] = datasets.get_kfold_small(i, neg)\n",
    "    [model, learning_time, inference_time, t_results, structured, will] = learn_test_model(background, boostsrl, target, train_pos, train_neg, train_facts, test_pos, test_neg, test_facts, refine=None, trees=10, verbose=True)"
   ]
  },
  {
   "cell_type": "code",
   "execution_count": null,
   "metadata": {
    "collapsed": true
   },
   "outputs": [],
   "source": []
  }
 ],
 "metadata": {
  "anaconda-cloud": {},
  "kernelspec": {
   "display_name": "Python [conda root]",
   "language": "python",
   "name": "conda-root-py"
  },
  "language_info": {
   "codemirror_mode": {
    "name": "ipython",
    "version": 3
   },
   "file_extension": ".py",
   "mimetype": "text/x-python",
   "name": "python",
   "nbconvert_exporter": "python",
   "pygments_lexer": "ipython3",
   "version": "3.5.2"
  }
 },
 "nbformat": 4,
 "nbformat_minor": 1
}
