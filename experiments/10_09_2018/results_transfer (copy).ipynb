{
 "cells": [
  {
   "cell_type": "code",
   "execution_count": 1,
   "metadata": {
    "collapsed": true
   },
   "outputs": [],
   "source": [
    "import matplotlib.pyplot as plt\n",
    "from IPython.display import display, Markdown, Latex\n",
    "import numpy as np\n",
    "import json\n",
    "import pandas as pd\n",
    "\n",
    "with open('transfer_experiment.json', 'r') as fp:\n",
    "    data = json.load(fp)"
   ]
  },
  {
   "cell_type": "code",
   "execution_count": 15,
   "metadata": {
    "collapsed": false
   },
   "outputs": [
    {
     "data": {
      "text/markdown": [
       "# Results for AUC ROC"
      ],
      "text/plain": [
       "<IPython.core.display.Markdown object>"
      ]
     },
     "metadata": {},
     "output_type": "display_data"
    },
    {
     "name": "stderr",
     "output_type": "stream",
     "text": [
      "/home/rodrigoazs/anaconda3/lib/python3.5/site-packages/ipykernel/__main__.py:40: RuntimeWarning: Mean of empty slice.\n",
      "/home/rodrigoazs/anaconda3/lib/python3.5/site-packages/numpy/core/_methods.py:140: RuntimeWarning: Degrees of freedom <= 0 for slice\n",
      "  keepdims=keepdims)\n",
      "/home/rodrigoazs/anaconda3/lib/python3.5/site-packages/ipykernel/__main__.py:41: RuntimeWarning: Mean of empty slice.\n",
      "/home/rodrigoazs/anaconda3/lib/python3.5/site-packages/ipykernel/__main__.py:42: RuntimeWarning: Mean of empty slice.\n"
     ]
    },
    {
     "data": {
      "text/html": [
       "<div>\n",
       "<table border=\"1\" class=\"dataframe\">\n",
       "  <thead>\n",
       "    <tr style=\"text-align: right;\">\n",
       "      <th></th>\n",
       "      <th>Experiment</th>\n",
       "      <th>Transfer Learning</th>\n",
       "      <th>Transfer Learning with Revision Theory</th>\n",
       "      <th>Learning from scratch</th>\n",
       "    </tr>\n",
       "  </thead>\n",
       "  <tbody>\n",
       "    <tr>\n",
       "      <th>0</th>\n",
       "      <td>imdb-&gt;uwcse</td>\n",
       "      <td>0.677 +/- 0.019</td>\n",
       "      <td>0.818 +/- 0.228</td>\n",
       "      <td>0.927 +/- 0.057</td>\n",
       "    </tr>\n",
       "    <tr>\n",
       "      <th>1</th>\n",
       "      <td>uwcse-&gt;imdb</td>\n",
       "      <td>0.793 +/- 0.207</td>\n",
       "      <td>0.793 +/- 0.207</td>\n",
       "      <td>0.994 +/- 0.010</td>\n",
       "    </tr>\n",
       "    <tr>\n",
       "      <th>2</th>\n",
       "      <td>imdb-&gt;cora</td>\n",
       "      <td>0.675 +/- 0.063</td>\n",
       "      <td>0.925 +/- 0.125</td>\n",
       "      <td>0.895 +/- 0.119</td>\n",
       "    </tr>\n",
       "    <tr>\n",
       "      <th>3</th>\n",
       "      <td>cora-&gt;imdb</td>\n",
       "      <td>0.890 +/- 0.016</td>\n",
       "      <td>0.929 +/- 0.099</td>\n",
       "      <td>0.994 +/- 0.010</td>\n",
       "    </tr>\n",
       "    <tr>\n",
       "      <th>4</th>\n",
       "      <td>yeast-&gt;twitter</td>\n",
       "      <td>nan +/- nan</td>\n",
       "      <td>nan +/- nan</td>\n",
       "      <td>nan +/- nan</td>\n",
       "    </tr>\n",
       "  </tbody>\n",
       "</table>\n",
       "</div>"
      ],
      "text/plain": [
       "       Experiment Transfer Learning Transfer Learning with Revision Theory  \\\n",
       "0     imdb->uwcse   0.677 +/- 0.019                        0.818 +/- 0.228   \n",
       "1     uwcse->imdb   0.793 +/- 0.207                        0.793 +/- 0.207   \n",
       "2      imdb->cora   0.675 +/- 0.063                        0.925 +/- 0.125   \n",
       "3      cora->imdb   0.890 +/- 0.016                        0.929 +/- 0.099   \n",
       "4  yeast->twitter       nan +/- nan                            nan +/- nan   \n",
       "\n",
       "  Learning from scratch  \n",
       "0       0.927 +/- 0.057  \n",
       "1       0.994 +/- 0.010  \n",
       "2       0.895 +/- 0.119  \n",
       "3       0.994 +/- 0.010  \n",
       "4           nan +/- nan  "
      ]
     },
     "metadata": {},
     "output_type": "display_data"
    },
    {
     "data": {
      "text/markdown": [
       "# Results for AUC PR"
      ],
      "text/plain": [
       "<IPython.core.display.Markdown object>"
      ]
     },
     "metadata": {},
     "output_type": "display_data"
    },
    {
     "data": {
      "text/html": [
       "<div>\n",
       "<table border=\"1\" class=\"dataframe\">\n",
       "  <thead>\n",
       "    <tr style=\"text-align: right;\">\n",
       "      <th></th>\n",
       "      <th>Experiment</th>\n",
       "      <th>Transfer Learning</th>\n",
       "      <th>Transfer Learning with Revision Theory</th>\n",
       "      <th>Learning from scratch</th>\n",
       "    </tr>\n",
       "  </thead>\n",
       "  <tbody>\n",
       "    <tr>\n",
       "      <th>0</th>\n",
       "      <td>imdb-&gt;uwcse</td>\n",
       "      <td>0.745 +/- 0.021</td>\n",
       "      <td>0.827 +/- 0.134</td>\n",
       "      <td>0.887 +/- 0.105</td>\n",
       "    </tr>\n",
       "    <tr>\n",
       "      <th>1</th>\n",
       "      <td>uwcse-&gt;imdb</td>\n",
       "      <td>0.845 +/- 0.155</td>\n",
       "      <td>0.845 +/- 0.155</td>\n",
       "      <td>0.987 +/- 0.020</td>\n",
       "    </tr>\n",
       "    <tr>\n",
       "      <th>2</th>\n",
       "      <td>imdb-&gt;cora</td>\n",
       "      <td>0.944 +/- 0.008</td>\n",
       "      <td>0.987 +/- 0.022</td>\n",
       "      <td>0.985 +/- 0.016</td>\n",
       "    </tr>\n",
       "    <tr>\n",
       "      <th>3</th>\n",
       "      <td>cora-&gt;imdb</td>\n",
       "      <td>0.820 +/- 0.021</td>\n",
       "      <td>0.883 +/- 0.158</td>\n",
       "      <td>0.987 +/- 0.020</td>\n",
       "    </tr>\n",
       "    <tr>\n",
       "      <th>4</th>\n",
       "      <td>yeast-&gt;twitter</td>\n",
       "      <td>nan +/- nan</td>\n",
       "      <td>nan +/- nan</td>\n",
       "      <td>nan +/- nan</td>\n",
       "    </tr>\n",
       "  </tbody>\n",
       "</table>\n",
       "</div>"
      ],
      "text/plain": [
       "       Experiment Transfer Learning Transfer Learning with Revision Theory  \\\n",
       "0     imdb->uwcse   0.745 +/- 0.021                        0.827 +/- 0.134   \n",
       "1     uwcse->imdb   0.845 +/- 0.155                        0.845 +/- 0.155   \n",
       "2      imdb->cora   0.944 +/- 0.008                        0.987 +/- 0.022   \n",
       "3      cora->imdb   0.820 +/- 0.021                        0.883 +/- 0.158   \n",
       "4  yeast->twitter       nan +/- nan                            nan +/- nan   \n",
       "\n",
       "  Learning from scratch  \n",
       "0       0.887 +/- 0.105  \n",
       "1       0.987 +/- 0.020  \n",
       "2       0.985 +/- 0.016  \n",
       "3       0.987 +/- 0.020  \n",
       "4           nan +/- nan  "
      ]
     },
     "metadata": {},
     "output_type": "display_data"
    },
    {
     "data": {
      "text/markdown": [
       "# Results for CLL"
      ],
      "text/plain": [
       "<IPython.core.display.Markdown object>"
      ]
     },
     "metadata": {},
     "output_type": "display_data"
    },
    {
     "data": {
      "text/html": [
       "<div>\n",
       "<table border=\"1\" class=\"dataframe\">\n",
       "  <thead>\n",
       "    <tr style=\"text-align: right;\">\n",
       "      <th></th>\n",
       "      <th>Experiment</th>\n",
       "      <th>Transfer Learning</th>\n",
       "      <th>Transfer Learning with Revision Theory</th>\n",
       "      <th>Learning from scratch</th>\n",
       "    </tr>\n",
       "  </thead>\n",
       "  <tbody>\n",
       "    <tr>\n",
       "      <th>0</th>\n",
       "      <td>imdb-&gt;uwcse</td>\n",
       "      <td>-0.592 +/- 0.021</td>\n",
       "      <td>-0.458 +/- 0.245</td>\n",
       "      <td>-0.281 +/- 0.063</td>\n",
       "    </tr>\n",
       "    <tr>\n",
       "      <th>1</th>\n",
       "      <td>uwcse-&gt;imdb</td>\n",
       "      <td>-0.445 +/- 0.341</td>\n",
       "      <td>-0.445 +/- 0.341</td>\n",
       "      <td>-0.109 +/- 0.020</td>\n",
       "    </tr>\n",
       "    <tr>\n",
       "      <th>2</th>\n",
       "      <td>imdb-&gt;cora</td>\n",
       "      <td>-0.256 +/- 0.002</td>\n",
       "      <td>-0.186 +/- 0.063</td>\n",
       "      <td>-0.207 +/- 0.041</td>\n",
       "    </tr>\n",
       "    <tr>\n",
       "      <th>3</th>\n",
       "      <td>cora-&gt;imdb</td>\n",
       "      <td>-0.322 +/- 0.015</td>\n",
       "      <td>-0.245 +/- 0.196</td>\n",
       "      <td>-0.109 +/- 0.020</td>\n",
       "    </tr>\n",
       "    <tr>\n",
       "      <th>4</th>\n",
       "      <td>yeast-&gt;twitter</td>\n",
       "      <td>nan +/- nan</td>\n",
       "      <td>nan +/- nan</td>\n",
       "      <td>nan +/- nan</td>\n",
       "    </tr>\n",
       "  </tbody>\n",
       "</table>\n",
       "</div>"
      ],
      "text/plain": [
       "       Experiment Transfer Learning Transfer Learning with Revision Theory  \\\n",
       "0     imdb->uwcse  -0.592 +/- 0.021                       -0.458 +/- 0.245   \n",
       "1     uwcse->imdb  -0.445 +/- 0.341                       -0.445 +/- 0.341   \n",
       "2      imdb->cora  -0.256 +/- 0.002                       -0.186 +/- 0.063   \n",
       "3      cora->imdb  -0.322 +/- 0.015                       -0.245 +/- 0.196   \n",
       "4  yeast->twitter       nan +/- nan                            nan +/- nan   \n",
       "\n",
       "  Learning from scratch  \n",
       "0      -0.281 +/- 0.063  \n",
       "1      -0.109 +/- 0.020  \n",
       "2      -0.207 +/- 0.041  \n",
       "3      -0.109 +/- 0.020  \n",
       "4           nan +/- nan  "
      ]
     },
     "metadata": {},
     "output_type": "display_data"
    },
    {
     "data": {
      "text/markdown": [
       "# Results for Recall"
      ],
      "text/plain": [
       "<IPython.core.display.Markdown object>"
      ]
     },
     "metadata": {},
     "output_type": "display_data"
    },
    {
     "data": {
      "text/html": [
       "<div>\n",
       "<table border=\"1\" class=\"dataframe\">\n",
       "  <thead>\n",
       "    <tr style=\"text-align: right;\">\n",
       "      <th></th>\n",
       "      <th>Experiment</th>\n",
       "      <th>Transfer Learning</th>\n",
       "      <th>Transfer Learning with Revision Theory</th>\n",
       "      <th>Learning from scratch</th>\n",
       "    </tr>\n",
       "  </thead>\n",
       "  <tbody>\n",
       "    <tr>\n",
       "      <th>0</th>\n",
       "      <td>imdb-&gt;uwcse</td>\n",
       "      <td>0.484 +/- 0.516</td>\n",
       "      <td>0.739 +/- 0.639</td>\n",
       "      <td>0.982 +/- 0.050</td>\n",
       "    </tr>\n",
       "    <tr>\n",
       "      <th>1</th>\n",
       "      <td>uwcse-&gt;imdb</td>\n",
       "      <td>0.562 +/- 0.439</td>\n",
       "      <td>0.562 +/- 0.439</td>\n",
       "      <td>1.000 +/- 0.000</td>\n",
       "    </tr>\n",
       "    <tr>\n",
       "      <th>2</th>\n",
       "      <td>imdb-&gt;cora</td>\n",
       "      <td>1.000 +/- 0.000</td>\n",
       "      <td>0.991 +/- 0.015</td>\n",
       "      <td>0.993 +/- 0.014</td>\n",
       "    </tr>\n",
       "    <tr>\n",
       "      <th>3</th>\n",
       "      <td>cora-&gt;imdb</td>\n",
       "      <td>1.000 +/- 0.000</td>\n",
       "      <td>1.000 +/- 0.000</td>\n",
       "      <td>1.000 +/- 0.000</td>\n",
       "    </tr>\n",
       "    <tr>\n",
       "      <th>4</th>\n",
       "      <td>yeast-&gt;twitter</td>\n",
       "      <td>nan +/- nan</td>\n",
       "      <td>nan +/- nan</td>\n",
       "      <td>nan +/- nan</td>\n",
       "    </tr>\n",
       "  </tbody>\n",
       "</table>\n",
       "</div>"
      ],
      "text/plain": [
       "       Experiment Transfer Learning Transfer Learning with Revision Theory  \\\n",
       "0     imdb->uwcse   0.484 +/- 0.516                        0.739 +/- 0.639   \n",
       "1     uwcse->imdb   0.562 +/- 0.439                        0.562 +/- 0.439   \n",
       "2      imdb->cora   1.000 +/- 0.000                        0.991 +/- 0.015   \n",
       "3      cora->imdb   1.000 +/- 0.000                        1.000 +/- 0.000   \n",
       "4  yeast->twitter       nan +/- nan                            nan +/- nan   \n",
       "\n",
       "  Learning from scratch  \n",
       "0       0.982 +/- 0.050  \n",
       "1       1.000 +/- 0.000  \n",
       "2       0.993 +/- 0.014  \n",
       "3       1.000 +/- 0.000  \n",
       "4           nan +/- nan  "
      ]
     },
     "metadata": {},
     "output_type": "display_data"
    },
    {
     "data": {
      "text/markdown": [
       "# Results for F1"
      ],
      "text/plain": [
       "<IPython.core.display.Markdown object>"
      ]
     },
     "metadata": {},
     "output_type": "display_data"
    },
    {
     "data": {
      "text/html": [
       "<div>\n",
       "<table border=\"1\" class=\"dataframe\">\n",
       "  <thead>\n",
       "    <tr style=\"text-align: right;\">\n",
       "      <th></th>\n",
       "      <th>Experiment</th>\n",
       "      <th>Transfer Learning</th>\n",
       "      <th>Transfer Learning with Revision Theory</th>\n",
       "      <th>Learning from scratch</th>\n",
       "    </tr>\n",
       "  </thead>\n",
       "  <tbody>\n",
       "    <tr>\n",
       "      <th>0</th>\n",
       "      <td>imdb-&gt;uwcse</td>\n",
       "      <td>0.547 +/- 0.122</td>\n",
       "      <td>0.739 +/- 0.369</td>\n",
       "      <td>0.916 +/- 0.022</td>\n",
       "    </tr>\n",
       "    <tr>\n",
       "      <th>1</th>\n",
       "      <td>uwcse-&gt;imdb</td>\n",
       "      <td>0.698 +/- 0.303</td>\n",
       "      <td>0.698 +/- 0.303</td>\n",
       "      <td>0.992 +/- 0.008</td>\n",
       "    </tr>\n",
       "    <tr>\n",
       "      <th>2</th>\n",
       "      <td>imdb-&gt;cora</td>\n",
       "      <td>0.971 +/- 0.004</td>\n",
       "      <td>0.980 +/- 0.033</td>\n",
       "      <td>0.974 +/- 0.029</td>\n",
       "    </tr>\n",
       "    <tr>\n",
       "      <th>3</th>\n",
       "      <td>cora-&gt;imdb</td>\n",
       "      <td>0.901 +/- 0.013</td>\n",
       "      <td>0.936 +/- 0.088</td>\n",
       "      <td>0.992 +/- 0.008</td>\n",
       "    </tr>\n",
       "    <tr>\n",
       "      <th>4</th>\n",
       "      <td>yeast-&gt;twitter</td>\n",
       "      <td>nan +/- nan</td>\n",
       "      <td>nan +/- nan</td>\n",
       "      <td>nan +/- nan</td>\n",
       "    </tr>\n",
       "  </tbody>\n",
       "</table>\n",
       "</div>"
      ],
      "text/plain": [
       "       Experiment Transfer Learning Transfer Learning with Revision Theory  \\\n",
       "0     imdb->uwcse   0.547 +/- 0.122                        0.739 +/- 0.369   \n",
       "1     uwcse->imdb   0.698 +/- 0.303                        0.698 +/- 0.303   \n",
       "2      imdb->cora   0.971 +/- 0.004                        0.980 +/- 0.033   \n",
       "3      cora->imdb   0.901 +/- 0.013                        0.936 +/- 0.088   \n",
       "4  yeast->twitter       nan +/- nan                            nan +/- nan   \n",
       "\n",
       "  Learning from scratch  \n",
       "0       0.916 +/- 0.022  \n",
       "1       0.992 +/- 0.008  \n",
       "2       0.974 +/- 0.029  \n",
       "3       0.992 +/- 0.008  \n",
       "4           nan +/- nan  "
      ]
     },
     "metadata": {},
     "output_type": "display_data"
    },
    {
     "data": {
      "text/markdown": [
       "# Results for Precision"
      ],
      "text/plain": [
       "<IPython.core.display.Markdown object>"
      ]
     },
     "metadata": {},
     "output_type": "display_data"
    },
    {
     "data": {
      "text/html": [
       "<div>\n",
       "<table border=\"1\" class=\"dataframe\">\n",
       "  <thead>\n",
       "    <tr style=\"text-align: right;\">\n",
       "      <th></th>\n",
       "      <th>Experiment</th>\n",
       "      <th>Transfer Learning</th>\n",
       "      <th>Transfer Learning with Revision Theory</th>\n",
       "      <th>Learning from scratch</th>\n",
       "    </tr>\n",
       "  </thead>\n",
       "  <tbody>\n",
       "    <tr>\n",
       "      <th>0</th>\n",
       "      <td>imdb-&gt;uwcse</td>\n",
       "      <td>0.861 +/- 0.366</td>\n",
       "      <td>0.874 +/- 0.185</td>\n",
       "      <td>0.860 +/- 0.076</td>\n",
       "    </tr>\n",
       "    <tr>\n",
       "      <th>1</th>\n",
       "      <td>uwcse-&gt;imdb</td>\n",
       "      <td>1.000 +/- 0.000</td>\n",
       "      <td>1.000 +/- 0.000</td>\n",
       "      <td>0.984 +/- 0.016</td>\n",
       "    </tr>\n",
       "    <tr>\n",
       "      <th>2</th>\n",
       "      <td>imdb-&gt;cora</td>\n",
       "      <td>0.944 +/- 0.008</td>\n",
       "      <td>0.971 +/- 0.071</td>\n",
       "      <td>0.957 +/- 0.055</td>\n",
       "    </tr>\n",
       "    <tr>\n",
       "      <th>3</th>\n",
       "      <td>cora-&gt;imdb</td>\n",
       "      <td>0.820 +/- 0.021</td>\n",
       "      <td>0.883 +/- 0.158</td>\n",
       "      <td>0.984 +/- 0.016</td>\n",
       "    </tr>\n",
       "    <tr>\n",
       "      <th>4</th>\n",
       "      <td>yeast-&gt;twitter</td>\n",
       "      <td>nan +/- nan</td>\n",
       "      <td>nan +/- nan</td>\n",
       "      <td>nan +/- nan</td>\n",
       "    </tr>\n",
       "  </tbody>\n",
       "</table>\n",
       "</div>"
      ],
      "text/plain": [
       "       Experiment Transfer Learning Transfer Learning with Revision Theory  \\\n",
       "0     imdb->uwcse   0.861 +/- 0.366                        0.874 +/- 0.185   \n",
       "1     uwcse->imdb   1.000 +/- 0.000                        1.000 +/- 0.000   \n",
       "2      imdb->cora   0.944 +/- 0.008                        0.971 +/- 0.071   \n",
       "3      cora->imdb   0.820 +/- 0.021                        0.883 +/- 0.158   \n",
       "4  yeast->twitter       nan +/- nan                            nan +/- nan   \n",
       "\n",
       "  Learning from scratch  \n",
       "0       0.860 +/- 0.076  \n",
       "1       0.984 +/- 0.016  \n",
       "2       0.957 +/- 0.055  \n",
       "3       0.984 +/- 0.016  \n",
       "4           nan +/- nan  "
      ]
     },
     "metadata": {},
     "output_type": "display_data"
    },
    {
     "data": {
      "text/markdown": [
       "# Results for Learning and Revision time"
      ],
      "text/plain": [
       "<IPython.core.display.Markdown object>"
      ]
     },
     "metadata": {},
     "output_type": "display_data"
    },
    {
     "data": {
      "text/html": [
       "<div>\n",
       "<table border=\"1\" class=\"dataframe\">\n",
       "  <thead>\n",
       "    <tr style=\"text-align: right;\">\n",
       "      <th></th>\n",
       "      <th>Experiment</th>\n",
       "      <th>Transfer Learning</th>\n",
       "      <th>Transfer Learning with Revision Theory</th>\n",
       "      <th>Learning from scratch</th>\n",
       "    </tr>\n",
       "  </thead>\n",
       "  <tbody>\n",
       "    <tr>\n",
       "      <th>0</th>\n",
       "      <td>imdb-&gt;uwcse</td>\n",
       "      <td>3.354 +/- 3.329</td>\n",
       "      <td>10.016 +/- 7.566</td>\n",
       "      <td>7.819 +/- 11.265</td>\n",
       "    </tr>\n",
       "    <tr>\n",
       "      <th>1</th>\n",
       "      <td>uwcse-&gt;imdb</td>\n",
       "      <td>3.711 +/- 5.674</td>\n",
       "      <td>7.964 +/- 9.547</td>\n",
       "      <td>2.791 +/- 3.078</td>\n",
       "    </tr>\n",
       "    <tr>\n",
       "      <th>2</th>\n",
       "      <td>imdb-&gt;cora</td>\n",
       "      <td>4.991 +/- 3.323</td>\n",
       "      <td>21.255 +/- 8.709</td>\n",
       "      <td>11.924 +/- 17.059</td>\n",
       "    </tr>\n",
       "    <tr>\n",
       "      <th>3</th>\n",
       "      <td>cora-&gt;imdb</td>\n",
       "      <td>3.517 +/- 5.115</td>\n",
       "      <td>10.405 +/- 9.379</td>\n",
       "      <td>2.838 +/- 3.140</td>\n",
       "    </tr>\n",
       "    <tr>\n",
       "      <th>4</th>\n",
       "      <td>yeast-&gt;twitter</td>\n",
       "      <td>nan +/- nan</td>\n",
       "      <td>nan +/- nan</td>\n",
       "      <td>nan +/- nan</td>\n",
       "    </tr>\n",
       "  </tbody>\n",
       "</table>\n",
       "</div>"
      ],
      "text/plain": [
       "       Experiment Transfer Learning Transfer Learning with Revision Theory  \\\n",
       "0     imdb->uwcse   3.354 +/- 3.329                       10.016 +/- 7.566   \n",
       "1     uwcse->imdb   3.711 +/- 5.674                        7.964 +/- 9.547   \n",
       "2      imdb->cora   4.991 +/- 3.323                       21.255 +/- 8.709   \n",
       "3      cora->imdb   3.517 +/- 5.115                       10.405 +/- 9.379   \n",
       "4  yeast->twitter       nan +/- nan                            nan +/- nan   \n",
       "\n",
       "  Learning from scratch  \n",
       "0      7.819 +/- 11.265  \n",
       "1       2.791 +/- 3.078  \n",
       "2     11.924 +/- 17.059  \n",
       "3       2.838 +/- 3.140  \n",
       "4           nan +/- nan  "
      ]
     },
     "metadata": {},
     "output_type": "display_data"
    },
    {
     "data": {
      "text/markdown": [
       "# Results for Inference time"
      ],
      "text/plain": [
       "<IPython.core.display.Markdown object>"
      ]
     },
     "metadata": {},
     "output_type": "display_data"
    },
    {
     "data": {
      "text/html": [
       "<div>\n",
       "<table border=\"1\" class=\"dataframe\">\n",
       "  <thead>\n",
       "    <tr style=\"text-align: right;\">\n",
       "      <th></th>\n",
       "      <th>Experiment</th>\n",
       "      <th>Transfer Learning</th>\n",
       "      <th>Transfer Learning with Revision Theory</th>\n",
       "      <th>Learning from scratch</th>\n",
       "    </tr>\n",
       "  </thead>\n",
       "  <tbody>\n",
       "    <tr>\n",
       "      <th>0</th>\n",
       "      <td>imdb-&gt;uwcse</td>\n",
       "      <td>3.354 +/- 3.329</td>\n",
       "      <td>0.701 +/- 0.056</td>\n",
       "      <td>0.761 +/- 0.115</td>\n",
       "    </tr>\n",
       "    <tr>\n",
       "      <th>1</th>\n",
       "      <td>uwcse-&gt;imdb</td>\n",
       "      <td>3.711 +/- 5.674</td>\n",
       "      <td>0.864 +/- 0.082</td>\n",
       "      <td>0.790 +/- 0.063</td>\n",
       "    </tr>\n",
       "    <tr>\n",
       "      <th>2</th>\n",
       "      <td>imdb-&gt;cora</td>\n",
       "      <td>4.991 +/- 3.323</td>\n",
       "      <td>2.040 +/- 0.360</td>\n",
       "      <td>2.201 +/- 1.150</td>\n",
       "    </tr>\n",
       "    <tr>\n",
       "      <th>3</th>\n",
       "      <td>cora-&gt;imdb</td>\n",
       "      <td>3.517 +/- 5.115</td>\n",
       "      <td>0.871 +/- 0.117</td>\n",
       "      <td>0.818 +/- 0.162</td>\n",
       "    </tr>\n",
       "    <tr>\n",
       "      <th>4</th>\n",
       "      <td>yeast-&gt;twitter</td>\n",
       "      <td>nan +/- nan</td>\n",
       "      <td>nan +/- nan</td>\n",
       "      <td>nan +/- nan</td>\n",
       "    </tr>\n",
       "  </tbody>\n",
       "</table>\n",
       "</div>"
      ],
      "text/plain": [
       "       Experiment Transfer Learning Transfer Learning with Revision Theory  \\\n",
       "0     imdb->uwcse   3.354 +/- 3.329                        0.701 +/- 0.056   \n",
       "1     uwcse->imdb   3.711 +/- 5.674                        0.864 +/- 0.082   \n",
       "2      imdb->cora   4.991 +/- 3.323                        2.040 +/- 0.360   \n",
       "3      cora->imdb   3.517 +/- 5.115                        0.871 +/- 0.117   \n",
       "4  yeast->twitter       nan +/- nan                            nan +/- nan   \n",
       "\n",
       "  Learning from scratch  \n",
       "0       0.761 +/- 0.115  \n",
       "1       0.790 +/- 0.063  \n",
       "2       2.201 +/- 1.150  \n",
       "3       0.818 +/- 0.162  \n",
       "4           nan +/- nan  "
      ]
     },
     "metadata": {},
     "output_type": "display_data"
    }
   ],
   "source": [
    "experiments = [\n",
    "            {'source':'imdb', 'target':'uwcse', 'predicate':'workedunder'},\n",
    "            {'source':'uwcse', 'target':'imdb', 'predicate':'advisedby'},\n",
    "            {'source':'imdb', 'target':'cora', 'predicate':'workedunder'},\n",
    "            {'source':'cora', 'target':'imdb', 'predicate':'samevenue'},\n",
    "            {'source':'yeast', 'target':'twitter', 'predicate':'proteinclass'},\n",
    "            {'source':'twitter', 'target':'yeast', 'predicate':'accounttype'},\n",
    "            #{'source':'nell_sports', 'target':'nell_finances', 'predicate':'teamplayssport'},\n",
    "            #{'source':'nell_finances', 'target':'nell_sports', 'predicate':'companyeconomicsector'},\n",
    "            #{'source':'yeast', 'target':'webkb', 'predicate':'proteinclass'},\n",
    "            #{'source':'webkb', 'target':'yeast', 'predicate':'departmentof'},\n",
    "            #{'source':'twitter', 'target':'webkb', 'predicate':'accounttype'},\n",
    "            #{'source':'webkb', 'target':'twitter', 'predicate':'pageclass'},\n",
    "            ]\n",
    "\n",
    "for metric in ['AUC ROC', 'AUC PR', 'CLL', 'Recall', 'F1', 'Precision', 'Learning and Revision time', 'Inference time']:\n",
    "    display(Markdown('# Results for ' + metric))\n",
    "    table = []\n",
    "    for j in range(len(experiments)):\n",
    "        dataset = experiments[j]['source'] + '->' + experiments[j]['target']\n",
    "        if dataset in data['results']: \n",
    "            #for metric in ['AUC ROC', 'AUC PR']:\n",
    "                #display(Markdown('## ' + metric))\n",
    "            if metric == 'Precision':\n",
    "                scratch = np.array([item['scratch']['Precision'][0] for sublist in data['results'][str(dataset)] for item in sublist])\n",
    "                parameter = np.array([item['transfer']['Parameter Learning results']['Precision'][0] for sublist in data['results'][str(dataset)] for item in sublist])\n",
    "                transfer = np.array([item['transfer']['Precision'][0] for sublist in data['results'][str(dataset)] for item in sublist])\n",
    "            elif metric == 'Learning and Revision time':\n",
    "                scratch = np.array([item['scratch']['Learning time'] for sublist in data['results'][str(dataset)] for item in sublist])\n",
    "                parameter = np.array([item['transfer']['Parameter Learning results']['Learning time'] for sublist in data['results'][str(dataset)] for item in sublist])\n",
    "                transfer = np.array([item['transfer']['Learning time'] for sublist in data['results'][str(dataset)] for item in sublist])\n",
    "            elif metric == 'Inference time':\n",
    "                scratch = np.array([item['scratch']['Inference time'] for sublist in data['results'][str(dataset)] for item in sublist])\n",
    "                parameter = np.array([item['transfer']['Parameter Learning results']['Learning time'] for sublist in data['results'][str(dataset)] for item in sublist])\n",
    "                transfer = np.array([item['transfer']['Inference time'] for sublist in data['results'][str(dataset)] for item in sublist])\n",
    "            else:\n",
    "                scratch = np.array([item['scratch'][metric] for sublist in data['results'][str(dataset)] for item in sublist])\n",
    "                parameter = np.array([item['transfer']['Parameter Learning results'][metric] for sublist in data['results'][str(dataset)] for item in sublist])\n",
    "                transfer = np.array([item['transfer'][metric] for sublist in data['results'][str(dataset)] for item in sublist])\n",
    "            table.append([dataset, '%.3f +/- %.3f' % (parameter.mean(), 2 * parameter.std()),\n",
    "            '%.3f +/- %.3f' % (transfer.mean(), 2 * transfer.std()),\n",
    "            '%.3f +/- %.3f' % (scratch.mean(), 2 * scratch.std())])\n",
    "    display(pd.DataFrame(table, columns=['Experiment', 'Transfer Learning', 'Transfer Learning with Revision Theory', 'Learning from scratch']))"
   ]
  },
  {
   "cell_type": "code",
   "execution_count": 21,
   "metadata": {
    "collapsed": false
   },
   "outputs": [
    {
     "data": {
      "text/markdown": [
       "# Results for imdb->uwcse"
      ],
      "text/plain": [
       "<IPython.core.display.Markdown object>"
      ]
     },
     "metadata": {},
     "output_type": "display_data"
    },
    {
     "data": {
      "text/markdown": [
       "## AUC ROC"
      ],
      "text/plain": [
       "<IPython.core.display.Markdown object>"
      ]
     },
     "metadata": {},
     "output_type": "display_data"
    },
    {
     "name": "stdout",
     "output_type": "stream",
     "text": [
      "Scratch: [0.951923 0.887097 0.899038 0.958672 0.936816]\n",
      "Transfer: [0.68146  0.659614 0.6875   0.676875 0.67919 ]\n",
      "Transfer & Revision: [0.68146  0.902763 0.900518 0.676875 0.929057]\n"
     ]
    },
    {
     "data": {
      "text/markdown": [
       "## AUC PR"
      ],
      "text/plain": [
       "<IPython.core.display.Markdown object>"
      ]
     },
     "metadata": {},
     "output_type": "display_data"
    },
    {
     "name": "stdout",
     "output_type": "stream",
     "text": [
      "Scratch: [0.92262  0.815789 0.832    0.938277 0.928082]\n",
      "Transfer: [0.753614 0.728259 0.756441 0.739319 0.74825 ]\n",
      "Transfer & Revision: [0.753614 0.863302 0.885969 0.739319 0.893756]\n"
     ]
    },
    {
     "data": {
      "text/markdown": [
       "## CLL"
      ],
      "text/plain": [
       "<IPython.core.display.Markdown object>"
      ]
     },
     "metadata": {},
     "output_type": "display_data"
    },
    {
     "name": "stdout",
     "output_type": "stream",
     "text": [
      "Scratch: [-0.259681 -0.327735 -0.30308  -0.239387 -0.274117]\n",
      "Transfer: [-0.584349 -0.61275  -0.591751 -0.58593  -0.586788]\n",
      "Transfer & Revision: [-0.584349 -0.344863 -0.486956 -0.58593  -0.288352]\n"
     ]
    },
    {
     "data": {
      "text/markdown": [
       "## Recall"
      ],
      "text/plain": [
       "<IPython.core.display.Markdown object>"
      ]
     },
     "metadata": {},
     "output_type": "display_data"
    },
    {
     "name": "stdout",
     "output_type": "stream",
     "text": [
      "Scratch: [0.935897 1.       1.       0.975    1.      ]\n",
      "Transfer: [0.346154 0.344086 1.       0.35     0.381443]\n",
      "Transfer & Revision: [0.346154 1.       1.       0.35     1.      ]\n"
     ]
    },
    {
     "data": {
      "text/markdown": [
       "## F1"
      ],
      "text/plain": [
       "<IPython.core.display.Markdown object>"
      ]
     },
     "metadata": {},
     "output_type": "display_data"
    },
    {
     "name": "stdout",
     "output_type": "stream",
     "text": [
      "Scratch: [0.929936 0.898551 0.908297 0.923077 0.919431]\n",
      "Transfer: [0.514286 0.5      0.666667 0.513761 0.540146]\n",
      "Transfer & Revision: [0.514286 0.889952 0.866667 0.513761 0.910798]\n"
     ]
    },
    {
     "data": {
      "text/markdown": [
       "## Precision"
      ],
      "text/plain": [
       "<IPython.core.display.Markdown object>"
      ]
     },
     "metadata": {},
     "output_type": "display_data"
    },
    {
     "name": "stdout",
     "output_type": "stream",
     "text": [
      "Scratch: [0.924051 0.815789 0.832    0.876404 0.850877]\n",
      "Transfer: [1.       0.914286 0.5      0.965517 0.925   ]\n",
      "Transfer & Revision: [1.       0.801724 0.764706 0.965517 0.836207]\n"
     ]
    },
    {
     "data": {
      "text/markdown": [
       "## Learning and Revision time"
      ],
      "text/plain": [
       "<IPython.core.display.Markdown object>"
      ]
     },
     "metadata": {},
     "output_type": "display_data"
    },
    {
     "name": "stdout",
     "output_type": "stream",
     "text": [
      "Scratch: [15.     1.767  1.589 13.42   7.321]\n",
      "Transfer: [3.696 1.604 1.847 6.253 3.372]\n",
      "Transfer & Revision: [ 8.521  6.284  6.385 13.224 15.665]\n"
     ]
    },
    {
     "data": {
      "text/markdown": [
       "## Inference time"
      ],
      "text/plain": [
       "<IPython.core.display.Markdown object>"
      ]
     },
     "metadata": {},
     "output_type": "display_data"
    },
    {
     "name": "stdout",
     "output_type": "stream",
     "text": [
      "Scratch: [0.844 0.712 0.683 0.773 0.791]\n",
      "Transfer: [3.696 1.604 1.847 6.253 3.372]\n",
      "Transfer & Revision: [0.702 0.673 0.708 0.672 0.748]\n"
     ]
    },
    {
     "data": {
      "text/markdown": [
       "# Results for uwcse->imdb"
      ],
      "text/plain": [
       "<IPython.core.display.Markdown object>"
      ]
     },
     "metadata": {},
     "output_type": "display_data"
    },
    {
     "data": {
      "text/markdown": [
       "## AUC ROC"
      ],
      "text/plain": [
       "<IPython.core.display.Markdown object>"
      ]
     },
     "metadata": {},
     "output_type": "display_data"
    },
    {
     "name": "stdout",
     "output_type": "stream",
     "text": [
      "Scratch: [0.989264 0.989198 1.       1.       0.989614]\n",
      "Transfer: [0.735684 0.748057 1.       0.750795 0.732321]\n",
      "Transfer & Revision: [0.735684 0.748057 1.       0.750795 0.732321]\n"
     ]
    },
    {
     "data": {
      "text/markdown": [
       "## AUC PR"
      ],
      "text/plain": [
       "<IPython.core.display.Markdown object>"
      ]
     },
     "metadata": {},
     "output_type": "display_data"
    },
    {
     "name": "stdout",
     "output_type": "stream",
     "text": [
      "Scratch: [0.978979 0.978852 1.       1.       0.979651]\n",
      "Transfer: [0.80099  0.811928 1.       0.81505  0.798914]\n",
      "Transfer & Revision: [0.80099  0.811928 1.       0.81505  0.798914]\n"
     ]
    },
    {
     "data": {
      "text/markdown": [
       "## CLL"
      ],
      "text/plain": [
       "<IPython.core.display.Markdown object>"
      ]
     },
     "metadata": {},
     "output_type": "display_data"
    },
    {
     "name": "stdout",
     "output_type": "stream",
     "text": [
      "Scratch: [-0.116803 -0.11694  -0.094637 -0.098904 -0.11608 ]\n",
      "Transfer: [-0.536961 -0.523744 -0.103835 -0.520732 -0.537627]\n",
      "Transfer & Revision: [-0.536961 -0.523744 -0.103835 -0.520732 -0.537627]\n"
     ]
    },
    {
     "data": {
      "text/markdown": [
       "## Recall"
      ],
      "text/plain": [
       "<IPython.core.display.Markdown object>"
      ]
     },
     "metadata": {},
     "output_type": "display_data"
    },
    {
     "name": "stdout",
     "output_type": "stream",
     "text": [
      "Scratch: [1. 1. 1. 1. 1.]\n",
      "Transfer: [0.43865  0.462963 1.       0.47181  0.436202]\n",
      "Transfer & Revision: [0.43865  0.462963 1.       0.47181  0.436202]\n"
     ]
    },
    {
     "data": {
      "text/markdown": [
       "## F1"
      ],
      "text/plain": [
       "<IPython.core.display.Markdown object>"
      ]
     },
     "metadata": {},
     "output_type": "display_data"
    },
    {
     "name": "stdout",
     "output_type": "stream",
     "text": [
      "Scratch: [0.989378 0.989313 1.       0.991176 0.989721]\n",
      "Transfer: [0.609808 0.632911 1.       0.641129 0.607438]\n",
      "Transfer & Revision: [0.609808 0.632911 1.       0.641129 0.607438]\n"
     ]
    },
    {
     "data": {
      "text/markdown": [
       "## Precision"
      ],
      "text/plain": [
       "<IPython.core.display.Markdown object>"
      ]
     },
     "metadata": {},
     "output_type": "display_data"
    },
    {
     "name": "stdout",
     "output_type": "stream",
     "text": [
      "Scratch: [0.978979 0.978852 1.       0.982507 0.979651]\n",
      "Transfer: [1. 1. 1. 1. 1.]\n",
      "Transfer & Revision: [1. 1. 1. 1. 1.]\n"
     ]
    },
    {
     "data": {
      "text/markdown": [
       "## Learning and Revision time"
      ],
      "text/plain": [
       "<IPython.core.display.Markdown object>"
      ]
     },
     "metadata": {},
     "output_type": "display_data"
    },
    {
     "name": "stdout",
     "output_type": "stream",
     "text": [
      "Scratch: [1.78  1.652 5.62  3.254 1.65 ]\n",
      "Transfer: [2.287 2.678 9.364 2.303 1.921]\n",
      "Transfer & Revision: [ 6.075  5.654 17.493  5.398  5.199]\n"
     ]
    },
    {
     "data": {
      "text/markdown": [
       "## Inference time"
      ],
      "text/plain": [
       "<IPython.core.display.Markdown object>"
      ]
     },
     "metadata": {},
     "output_type": "display_data"
    },
    {
     "name": "stdout",
     "output_type": "stream",
     "text": [
      "Scratch: [0.769 0.767 0.77  0.85  0.792]\n",
      "Transfer: [2.287 2.678 9.364 2.303 1.921]\n",
      "Transfer & Revision: [0.861 0.828 0.812 0.902 0.919]\n"
     ]
    },
    {
     "data": {
      "text/markdown": [
       "# Results for imdb->cora"
      ],
      "text/plain": [
       "<IPython.core.display.Markdown object>"
      ]
     },
     "metadata": {},
     "output_type": "display_data"
    },
    {
     "data": {
      "text/markdown": [
       "## AUC ROC"
      ],
      "text/plain": [
       "<IPython.core.display.Markdown object>"
      ]
     },
     "metadata": {},
     "output_type": "display_data"
    },
    {
     "name": "stdout",
     "output_type": "stream",
     "text": [
      "Scratch: [0.886601 0.813258 0.901578 0.998102 0.875837]\n",
      "Transfer: [0.724138 0.62963  0.685714 0.655172 0.678571]\n",
      "Transfer & Revision: [0.886601 0.994632 0.906721 0.996836 0.837891]\n"
     ]
    },
    {
     "data": {
      "text/markdown": [
       "## AUC PR"
      ],
      "text/plain": [
       "<IPython.core.display.Markdown object>"
      ]
     },
     "metadata": {},
     "output_type": "display_data"
    },
    {
     "name": "stdout",
     "output_type": "stream",
     "text": [
      "Scratch: [0.979404 0.978088 0.980816 0.999835 0.986239]\n",
      "Transfer: [0.949606 0.945205 0.937589 0.942363 0.946746]\n",
      "Transfer & Revision: [0.979404 0.999594 0.981294 0.99973  0.972489]\n"
     ]
    },
    {
     "data": {
      "text/markdown": [
       "## CLL"
      ],
      "text/plain": [
       "<IPython.core.display.Markdown object>"
      ]
     },
     "metadata": {},
     "output_type": "display_data"
    },
    {
     "name": "stdout",
     "output_type": "stream",
     "text": [
      "Scratch: [-0.207381 -0.19843  -0.245797 -0.191219 -0.191953]\n",
      "Transfer: [-0.255665 -0.258457 -0.256513 -0.255786 -0.255769]\n",
      "Transfer & Revision: [-0.207381 -0.150848 -0.232557 -0.153503 -0.18755 ]\n"
     ]
    },
    {
     "data": {
      "text/markdown": [
       "## Recall"
      ],
      "text/plain": [
       "<IPython.core.display.Markdown object>"
      ]
     },
     "metadata": {},
     "output_type": "display_data"
    },
    {
     "name": "stdout",
     "output_type": "stream",
     "text": [
      "Scratch: [0.9801   0.997101 0.990923 1.       0.996875]\n",
      "Transfer: [1. 1. 1. 1. 1.]\n",
      "Transfer & Revision: [0.9801   0.985507 1.       0.990826 0.996875]\n"
     ]
    },
    {
     "data": {
      "text/markdown": [
       "## F1"
      ],
      "text/plain": [
       "<IPython.core.display.Markdown object>"
      ]
     },
     "metadata": {},
     "output_type": "display_data"
    },
    {
     "name": "stdout",
     "output_type": "stream",
     "text": [
      "Scratch: [0.9801   0.981455 0.945166 0.979775 0.984568]\n",
      "Transfer: [0.974152 0.971831 0.967789 0.970326 0.972644]\n",
      "Transfer & Revision: [0.9801   0.992701 0.949713 0.995392 0.984568]\n"
     ]
    },
    {
     "data": {
      "text/markdown": [
       "## Precision"
      ],
      "text/plain": [
       "<IPython.core.display.Markdown object>"
      ]
     },
     "metadata": {},
     "output_type": "display_data"
    },
    {
     "name": "stdout",
     "output_type": "stream",
     "text": [
      "Scratch: [0.9801   0.966292 0.903448 0.960352 0.972561]\n",
      "Transfer: [0.949606 0.945205 0.937589 0.942363 0.946746]\n",
      "Transfer & Revision: [0.9801   1.       0.904241 1.       0.972561]\n"
     ]
    },
    {
     "data": {
      "text/markdown": [
       "## Learning and Revision time"
      ],
      "text/plain": [
       "<IPython.core.display.Markdown object>"
      ]
     },
     "metadata": {},
     "output_type": "display_data"
    },
    {
     "name": "stdout",
     "output_type": "stream",
     "text": [
      "Scratch: [ 5.917  9.897  5.406  9.839 28.559]\n",
      "Transfer: [3.902 4.475 3.05  5.693 7.835]\n",
      "Transfer & Revision: [17.13  19.913 19.948 19.576 29.709]\n"
     ]
    },
    {
     "data": {
      "text/markdown": [
       "## Inference time"
      ],
      "text/plain": [
       "<IPython.core.display.Markdown object>"
      ]
     },
     "metadata": {},
     "output_type": "display_data"
    },
    {
     "name": "stdout",
     "output_type": "stream",
     "text": [
      "Scratch: [1.873 2.007 1.959 1.822 3.344]\n",
      "Transfer: [3.902 4.475 3.05  5.693 7.835]\n",
      "Transfer & Revision: [1.881 2.338 1.914 2.16  1.908]\n"
     ]
    },
    {
     "data": {
      "text/markdown": [
       "# Results for cora->imdb"
      ],
      "text/plain": [
       "<IPython.core.display.Markdown object>"
      ]
     },
     "metadata": {},
     "output_type": "display_data"
    },
    {
     "data": {
      "text/markdown": [
       "## AUC ROC"
      ],
      "text/plain": [
       "<IPython.core.display.Markdown object>"
      ]
     },
     "metadata": {},
     "output_type": "display_data"
    },
    {
     "name": "stdout",
     "output_type": "stream",
     "text": [
      "Scratch: [0.989264 0.989198 1.       1.       0.989614]\n",
      "Transfer: [0.898773 0.891975 0.875    0.894659 0.890208]\n",
      "Transfer & Revision: [0.898773 0.989198 0.875    0.894659 0.989614]\n"
     ]
    },
    {
     "data": {
      "text/markdown": [
       "## AUC PR"
      ],
      "text/plain": [
       "<IPython.core.display.Markdown object>"
      ]
     },
     "metadata": {},
     "output_type": "display_data"
    },
    {
     "name": "stdout",
     "output_type": "stream",
     "text": [
      "Scratch: [0.978979 0.978852 1.       1.       0.979651]\n",
      "Transfer: [0.831633 0.822335 0.8      0.82598  0.819951]\n",
      "Transfer & Revision: [0.831633 0.978852 0.8      0.82598  0.979651]\n"
     ]
    },
    {
     "data": {
      "text/markdown": [
       "## CLL"
      ],
      "text/plain": [
       "<IPython.core.display.Markdown object>"
      ]
     },
     "metadata": {},
     "output_type": "display_data"
    },
    {
     "name": "stdout",
     "output_type": "stream",
     "text": [
      "Scratch: [-0.116803 -0.11694  -0.094637 -0.098904 -0.11608 ]\n",
      "Transfer: [-0.319763 -0.317837 -0.336957 -0.318872 -0.317668]\n",
      "Transfer & Revision: [-0.319763 -0.125811 -0.336957 -0.318872 -0.124812]\n"
     ]
    },
    {
     "data": {
      "text/markdown": [
       "## Recall"
      ],
      "text/plain": [
       "<IPython.core.display.Markdown object>"
      ]
     },
     "metadata": {},
     "output_type": "display_data"
    },
    {
     "name": "stdout",
     "output_type": "stream",
     "text": [
      "Scratch: [1. 1. 1. 1. 1.]\n",
      "Transfer: [1. 1. 1. 1. 1.]\n",
      "Transfer & Revision: [1. 1. 1. 1. 1.]\n"
     ]
    },
    {
     "data": {
      "text/markdown": [
       "## F1"
      ],
      "text/plain": [
       "<IPython.core.display.Markdown object>"
      ]
     },
     "metadata": {},
     "output_type": "display_data"
    },
    {
     "name": "stdout",
     "output_type": "stream",
     "text": [
      "Scratch: [0.989378 0.989313 1.       0.991176 0.989721]\n",
      "Transfer: [0.908078 0.902507 0.888889 0.904698 0.90107 ]\n",
      "Transfer & Revision: [0.908078 0.989313 0.888889 0.904698 0.989721]\n"
     ]
    },
    {
     "data": {
      "text/markdown": [
       "## Precision"
      ],
      "text/plain": [
       "<IPython.core.display.Markdown object>"
      ]
     },
     "metadata": {},
     "output_type": "display_data"
    },
    {
     "name": "stdout",
     "output_type": "stream",
     "text": [
      "Scratch: [0.978979 0.978852 1.       0.982507 0.979651]\n",
      "Transfer: [0.831633 0.822335 0.8      0.82598  0.819951]\n",
      "Transfer & Revision: [0.831633 0.978852 0.8      0.82598  0.979651]\n"
     ]
    },
    {
     "data": {
      "text/markdown": [
       "## Learning and Revision time"
      ],
      "text/plain": [
       "<IPython.core.display.Markdown object>"
      ]
     },
     "metadata": {},
     "output_type": "display_data"
    },
    {
     "name": "stdout",
     "output_type": "stream",
     "text": [
      "Scratch: [1.703 1.737 5.683 3.411 1.655]\n",
      "Transfer: [2.705 1.913 8.602 2.343 2.02 ]\n",
      "Transfer & Revision: [ 6.733 11.439 18.937  5.842  9.072]\n"
     ]
    },
    {
     "data": {
      "text/markdown": [
       "## Inference time"
      ],
      "text/plain": [
       "<IPython.core.display.Markdown object>"
      ]
     },
     "metadata": {},
     "output_type": "display_data"
    },
    {
     "name": "stdout",
     "output_type": "stream",
     "text": [
      "Scratch: [0.808 0.771 0.726 0.966 0.821]\n",
      "Transfer: [2.705 1.913 8.602 2.343 2.02 ]\n",
      "Transfer & Revision: [0.929 0.853 0.769 0.926 0.877]\n"
     ]
    },
    {
     "data": {
      "text/markdown": [
       "# Results for yeast->twitter"
      ],
      "text/plain": [
       "<IPython.core.display.Markdown object>"
      ]
     },
     "metadata": {},
     "output_type": "display_data"
    },
    {
     "data": {
      "text/markdown": [
       "## AUC ROC"
      ],
      "text/plain": [
       "<IPython.core.display.Markdown object>"
      ]
     },
     "metadata": {},
     "output_type": "display_data"
    },
    {
     "name": "stdout",
     "output_type": "stream",
     "text": [
      "Scratch: []\n",
      "Transfer: []\n",
      "Transfer & Revision: []\n"
     ]
    },
    {
     "data": {
      "text/markdown": [
       "## AUC PR"
      ],
      "text/plain": [
       "<IPython.core.display.Markdown object>"
      ]
     },
     "metadata": {},
     "output_type": "display_data"
    },
    {
     "name": "stdout",
     "output_type": "stream",
     "text": [
      "Scratch: []\n",
      "Transfer: []\n",
      "Transfer & Revision: []\n"
     ]
    },
    {
     "data": {
      "text/markdown": [
       "## CLL"
      ],
      "text/plain": [
       "<IPython.core.display.Markdown object>"
      ]
     },
     "metadata": {},
     "output_type": "display_data"
    },
    {
     "name": "stdout",
     "output_type": "stream",
     "text": [
      "Scratch: []\n",
      "Transfer: []\n",
      "Transfer & Revision: []\n"
     ]
    },
    {
     "data": {
      "text/markdown": [
       "## Recall"
      ],
      "text/plain": [
       "<IPython.core.display.Markdown object>"
      ]
     },
     "metadata": {},
     "output_type": "display_data"
    },
    {
     "name": "stdout",
     "output_type": "stream",
     "text": [
      "Scratch: []\n",
      "Transfer: []\n",
      "Transfer & Revision: []\n"
     ]
    },
    {
     "data": {
      "text/markdown": [
       "## F1"
      ],
      "text/plain": [
       "<IPython.core.display.Markdown object>"
      ]
     },
     "metadata": {},
     "output_type": "display_data"
    },
    {
     "name": "stdout",
     "output_type": "stream",
     "text": [
      "Scratch: []\n",
      "Transfer: []\n",
      "Transfer & Revision: []\n"
     ]
    },
    {
     "data": {
      "text/markdown": [
       "## Precision"
      ],
      "text/plain": [
       "<IPython.core.display.Markdown object>"
      ]
     },
     "metadata": {},
     "output_type": "display_data"
    },
    {
     "name": "stdout",
     "output_type": "stream",
     "text": [
      "Scratch: []\n",
      "Transfer: []\n",
      "Transfer & Revision: []\n"
     ]
    },
    {
     "data": {
      "text/markdown": [
       "## Learning and Revision time"
      ],
      "text/plain": [
       "<IPython.core.display.Markdown object>"
      ]
     },
     "metadata": {},
     "output_type": "display_data"
    },
    {
     "name": "stdout",
     "output_type": "stream",
     "text": [
      "Scratch: []\n",
      "Transfer: []\n",
      "Transfer & Revision: []\n"
     ]
    },
    {
     "data": {
      "text/markdown": [
       "## Inference time"
      ],
      "text/plain": [
       "<IPython.core.display.Markdown object>"
      ]
     },
     "metadata": {},
     "output_type": "display_data"
    },
    {
     "name": "stdout",
     "output_type": "stream",
     "text": [
      "Scratch: []\n",
      "Transfer: []\n",
      "Transfer & Revision: []\n"
     ]
    },
    {
     "data": {
      "text/markdown": [
       "# Results for twitter->yeast"
      ],
      "text/plain": [
       "<IPython.core.display.Markdown object>"
      ]
     },
     "metadata": {},
     "output_type": "display_data"
    }
   ],
   "source": [
    "for j in range(len(experiments)):\n",
    "    dataset = experiments[j]['source'] + '->' + experiments[j]['target']\n",
    "    display(Markdown('# Results for ' + dataset))\n",
    "    table = []\n",
    "    for metric in ['AUC ROC', 'AUC PR', 'CLL', 'Recall', 'F1', 'Precision', 'Learning and Revision time', 'Inference time']:\n",
    "    #for metric in ['AUC ROC', 'AUC PR']:\n",
    "        if dataset in data['results']: \n",
    "            #for metric in ['AUC ROC', 'AUC PR']:\n",
    "            display(Markdown('## ' + metric))\n",
    "            if metric == 'Precision':\n",
    "                scratch = np.array([item['scratch']['Precision'][0] for sublist in data['results'][str(dataset)] for item in sublist])\n",
    "                parameter = np.array([item['transfer']['Parameter Learning results']['Precision'][0] for sublist in data['results'][str(dataset)] for item in sublist])\n",
    "                transfer = np.array([item['transfer']['Precision'][0] for sublist in data['results'][str(dataset)] for item in sublist])\n",
    "            elif metric == 'Learning and Revision time':\n",
    "                scratch = np.array([item['scratch']['Learning time'] for sublist in data['results'][str(dataset)] for item in sublist])\n",
    "                parameter = np.array([item['transfer']['Parameter Learning results']['Learning time'] for sublist in data['results'][str(dataset)] for item in sublist])\n",
    "                transfer = np.array([item['transfer']['Learning time'] for sublist in data['results'][str(dataset)] for item in sublist])\n",
    "            elif metric == 'Inference time':\n",
    "                scratch = np.array([item['scratch']['Inference time'] for sublist in data['results'][str(dataset)] for item in sublist])\n",
    "                parameter = np.array([item['transfer']['Parameter Learning results']['Learning time'] for sublist in data['results'][str(dataset)] for item in sublist])\n",
    "                transfer = np.array([item['transfer']['Inference time'] for sublist in data['results'][str(dataset)] for item in sublist])\n",
    "            else:\n",
    "                scratch = np.array([item['scratch'][metric] for sublist in data['results'][str(dataset)] for item in sublist])\n",
    "                parameter = np.array([item['transfer']['Parameter Learning results'][metric] for sublist in data['results'][str(dataset)] for item in sublist])\n",
    "                transfer = np.array([item['transfer'][metric] for sublist in data['results'][str(dataset)] for item in sublist])\n",
    "            print('Scratch: %s' % scratch)\n",
    "            print('Transfer: %s' % parameter)\n",
    "            print('Transfer & Revision: %s' % transfer)"
   ]
  },
  {
   "cell_type": "code",
   "execution_count": null,
   "metadata": {
    "collapsed": true
   },
   "outputs": [],
   "source": []
  }
 ],
 "metadata": {
  "anaconda-cloud": {},
  "kernelspec": {
   "display_name": "Python [conda env:anaconda3]",
   "language": "python",
   "name": "conda-env-anaconda3-py"
  },
  "language_info": {
   "codemirror_mode": {
    "name": "ipython",
    "version": 3
   },
   "file_extension": ".py",
   "mimetype": "text/x-python",
   "name": "python",
   "nbconvert_exporter": "python",
   "pygments_lexer": "ipython3",
   "version": "3.5.2"
  }
 },
 "nbformat": 4,
 "nbformat_minor": 1
}
