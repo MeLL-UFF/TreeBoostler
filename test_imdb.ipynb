{
 "cells": [
  {
   "cell_type": "code",
   "execution_count": 39,
   "metadata": {
    "collapsed": true
   },
   "outputs": [],
   "source": [
    "from datasets.get_datasets import *\n",
    "from revision import *\n",
    "from boostsrl import boostsrl\n",
    "import random"
   ]
  },
  {
   "cell_type": "markdown",
   "metadata": {},
   "source": [
    "## Parameters"
   ]
  },
  {
   "cell_type": "code",
   "execution_count": 40,
   "metadata": {
    "collapsed": true
   },
   "outputs": [],
   "source": [
    "target = 'workedunder'\n",
    "test_size = 0.3\n",
    "small_train_size = 0.05\n",
    "validation_size = 0.2\n",
    "revision_threshold = 0.8\n",
    "max_revision_iterations = 10"
   ]
  },
  {
   "cell_type": "markdown",
   "metadata": {},
   "source": [
    "## Dataset"
   ]
  },
  {
   "cell_type": "code",
   "execution_count": 41,
   "metadata": {
    "collapsed": false
   },
   "outputs": [],
   "source": [
    "[facts, pos, neg] = get_imdb_dataset(target)"
   ]
  },
  {
   "cell_type": "markdown",
   "metadata": {},
   "source": [
    "## Background  configuration"
   ]
  },
  {
   "cell_type": "code",
   "execution_count": 42,
   "metadata": {
    "collapsed": true
   },
   "outputs": [],
   "source": [
    "bk = ['workedunder(+person,+person).',\n",
    "      'workedunder(+person,-person).',\n",
    "      'workedunder(-person,+person).',\n",
    "      'female(+person).',\n",
    "      'actor(+person).',\n",
    "      'director(+person).',\n",
    "      'movie(+movie,+person).',\n",
    "      'movie(+movie,-person).',\n",
    "      'movie(-movie,+person).',\n",
    "      'genre(+person,+genre).']\n",
    "\n",
    "background = boostsrl.modes(bk, [target], useStdLogicVariables=False, treeDepth=8, nodeSize=3, numOfClauses=8)"
   ]
  },
  {
   "cell_type": "markdown",
   "metadata": {},
   "source": [
    "## Sampling examples"
   ]
  },
  {
   "cell_type": "code",
   "execution_count": 43,
   "metadata": {
    "collapsed": false
   },
   "outputs": [
    {
     "name": "stdout",
     "output_type": "stream",
     "text": [
      "Total examples\n",
      "Positive examples: 382\n",
      "Negative examples: 14236\n",
      "\n",
      "\n",
      "Train and test sets from total\n",
      "Train Positive examples: 268\n",
      "Train Negative examples: 9966\n",
      "Test Positive examples: 114\n",
      "Test Negative examples: 4270\n",
      "\n",
      "\n",
      "Small dataset\n",
      "Train Positive examples: 13\n",
      "Train Negative examples: 498\n",
      "\n",
      "\n",
      "Revision theory train dataset and validation\n",
      "Train Positive examples: 215\n",
      "Train Negative examples: 7973\n",
      "Validation Positive examples: 53\n",
      "Validation Negative examples: 1993\n"
     ]
    }
   ],
   "source": [
    "# shuffle all examples\n",
    "random.shuffle(pos)\n",
    "random.shuffle(neg)\n",
    "\n",
    "# separate train and test\n",
    "test_pos = pos[:int(test_size*len(pos))]\n",
    "test_neg = neg[:int(test_size*len(neg))]\n",
    "train_pos = pos[int(test_size*len(pos)):]\n",
    "train_neg = neg[int(test_size*len(neg)):]\n",
    "\n",
    "# learn from scratch in a small dataset\n",
    "s_train_pos = train_pos[:int(small_train_size*len(train_pos))]\n",
    "s_train_neg = train_neg[:int(small_train_size*len(train_neg))]\n",
    "\n",
    "# shuffle all train examples\n",
    "random.shuffle(train_pos)\n",
    "random.shuffle(train_neg)\n",
    "\n",
    "# train set used in revision and validation set\n",
    "r_train_pos = train_pos[int(validation_size*len(train_pos)):]\n",
    "r_train_neg = train_neg[int(validation_size*len(train_neg)):]\n",
    "validation_pos = train_pos[:int(validation_size*len(train_pos))]\n",
    "validation_neg = train_neg[:int(validation_size*len(train_neg))]\n",
    "\n",
    "print('Total examples')\n",
    "print('Positive examples: %s' % len(pos))\n",
    "print('Negative examples: %s' % len(neg))\n",
    "print('\\n')\n",
    "print('Train and test sets from total')\n",
    "print('Train Positive examples: %s' % len(train_pos))\n",
    "print('Train Negative examples: %s' % len(train_neg))\n",
    "print('Test Positive examples: %s' % len(test_pos))\n",
    "print('Test Negative examples: %s' % len(test_neg))\n",
    "print('\\n')\n",
    "print('Small dataset')\n",
    "print('Train Positive examples: %s' % len(s_train_pos))\n",
    "print('Train Negative examples: %s' % len(s_train_neg))\n",
    "print('\\n')\n",
    "print('Revision theory train dataset and validation')\n",
    "print('Train Positive examples: %s' % len(r_train_pos))\n",
    "print('Train Negative examples: %s' % len(r_train_neg))\n",
    "print('Validation Positive examples: %s' % len(validation_pos))\n",
    "print('Validation Negative examples: %s' % len(validation_neg))"
   ]
  },
  {
   "cell_type": "markdown",
   "metadata": {},
   "source": [
    "## Learning from small dataset"
   ]
  },
  {
   "cell_type": "code",
   "execution_count": 44,
   "metadata": {
    "collapsed": false
   },
   "outputs": [
    {
     "name": "stdout",
     "output_type": "stream",
     "text": [
      "WILL-Produced Tree:\n",
      "% FOR workedunder(A, B):\n",
      "%   if ( director(B), movie(C, A), movie(C, B) )\n",
      "%   then return 0.8581489350995123;  // std dev = 0,000, 13,000 (wgt'ed) examples reached here.  /* #pos=13 */\n",
      "%   else return -0.1418510649004877;  // std dev = 2,11e-08, 26,000 (wgt'ed) examples reached here.  /* #neg=26 */\n",
      "\n",
      "\n",
      "Results:\n",
      "{'Recall': 0.0, 'Precision': [nan, 0.5], 'AUC ROC': 0.995902, 'F1': nan, 'AUC PR': 0.765101, 'CLL': -0.165165}\n",
      "\n",
      "\n",
      "Total learning time: 0.571 seconds\n",
      "Total inference time: 0.778 seconds\n",
      "AUC ROC: 0.995902\n",
      "\n",
      "\n",
      "Tree:\n"
     ]
    },
    {
     "data": {
      "image/svg+xml": [
       "<?xml version=\"1.0\" encoding=\"UTF-8\" standalone=\"no\"?>\n",
       "<!DOCTYPE svg PUBLIC \"-//W3C//DTD SVG 1.1//EN\"\n",
       " \"http://www.w3.org/Graphics/SVG/1.1/DTD/svg11.dtd\">\n",
       "<!-- Generated by graphviz version 2.38.0 (20140413.2041)\n",
       " -->\n",
       "<!-- Title: G Pages: 1 -->\n",
       "<svg width=\"319pt\" height=\"131pt\"\n",
       " viewBox=\"0.00 0.00 318.67 131.00\" xmlns=\"http://www.w3.org/2000/svg\" xmlns:xlink=\"http://www.w3.org/1999/xlink\">\n",
       "<g id=\"graph0\" class=\"graph\" transform=\"scale(1 1) rotate(0) translate(4 127)\">\n",
       "<title>G</title>\n",
       "<polygon fill=\"white\" stroke=\"none\" points=\"-4,4 -4,-127 314.672,-127 314.672,4 -4,4\"/>\n",
       "<!-- 1 -->\n",
       "<g id=\"node1\" class=\"node\"><title>1</title>\n",
       "<ellipse fill=\"none\" stroke=\"black\" cx=\"155.336\" cy=\"-105\" rx=\"155.173\" ry=\"18\"/>\n",
       "<text text-anchor=\"middle\" x=\"155.336\" y=\"-101.3\" font-family=\"Times,serif\" font-size=\"14.00\">[director(B), movie(C, A), movie(C, B)]</text>\n",
       "</g>\n",
       "<!-- 2 -->\n",
       "<g id=\"node2\" class=\"node\"><title>2</title>\n",
       "<polygon fill=\"none\" stroke=\"black\" points=\"144.836,-36 57.8362,-36 57.8362,-0 144.836,-0 144.836,-36\"/>\n",
       "<text text-anchor=\"middle\" x=\"101.336\" y=\"-14.3\" font-family=\"Times,serif\" font-size=\"14.00\">0,858(0,702)</text>\n",
       "</g>\n",
       "<!-- 1&#45;&gt;2 -->\n",
       "<g id=\"edge1\" class=\"edge\"><title>1&#45;&gt;2</title>\n",
       "<path fill=\"none\" stroke=\"black\" d=\"M144.409,-86.799C136.723,-74.7017 126.306,-58.3049 117.642,-44.6665\"/>\n",
       "<polygon fill=\"black\" stroke=\"black\" points=\"120.564,-42.7393 112.248,-36.1754 114.656,-46.493 120.564,-42.7393\"/>\n",
       "<text text-anchor=\"middle\" x=\"145.336\" y=\"-57.8\" font-family=\"Times,serif\" font-size=\"14.00\">True</text>\n",
       "</g>\n",
       "<!-- 3 -->\n",
       "<g id=\"node3\" class=\"node\"><title>3</title>\n",
       "<polygon fill=\"none\" stroke=\"black\" points=\"255.336,-36 163.336,-36 163.336,-0 255.336,-0 255.336,-36\"/>\n",
       "<text text-anchor=\"middle\" x=\"209.336\" y=\"-14.3\" font-family=\"Times,serif\" font-size=\"14.00\">&#45;0,142(0,465)</text>\n",
       "</g>\n",
       "<!-- 1&#45;&gt;3 -->\n",
       "<g id=\"edge2\" class=\"edge\"><title>1&#45;&gt;3</title>\n",
       "<path fill=\"none\" stroke=\"black\" d=\"M166.264,-86.799C173.949,-74.7017 184.366,-58.3049 193.03,-44.6665\"/>\n",
       "<polygon fill=\"black\" stroke=\"black\" points=\"196.017,-46.493 198.425,-36.1754 190.108,-42.7393 196.017,-46.493\"/>\n",
       "<text text-anchor=\"middle\" x=\"200.836\" y=\"-57.8\" font-family=\"Times,serif\" font-size=\"14.00\">False</text>\n",
       "</g>\n",
       "</g>\n",
       "</svg>\n"
      ],
      "text/plain": [
       "<graphviz.files.Source at 0x7f118523ce80>"
      ]
     },
     "execution_count": 44,
     "metadata": {},
     "output_type": "execute_result"
    }
   ],
   "source": [
    "delete_model_files()\n",
    "model = boostsrl.train(background, s_train_pos, s_train_neg, facts)\n",
    "learning_time = model.traintime()\n",
    "will = model.get_will_produced_tree()\n",
    "structured = model.get_structured_tree().copy()\n",
    "results = boostsrl.test(model, test_pos, test_neg, facts)\n",
    "inference_time = results.testtime()\n",
    "t_results = results.summarize_results()\n",
    "print('WILL-Produced Tree:')\n",
    "print_will_produced_tree(will)\n",
    "print('\\n')\n",
    "print('Results:')\n",
    "print(t_results)\n",
    "print('\\n')\n",
    "print('Total learning time: %s seconds' % learning_time)\n",
    "print('Total inference time: %s seconds' % inference_time)\n",
    "print('AUC ROC: %s' % t_results['AUC ROC'])\n",
    "print('\\n')\n",
    "print('Tree:')\n",
    "model.tree(0, target, image=True)"
   ]
  },
  {
   "cell_type": "markdown",
   "metadata": {
    "collapsed": true
   },
   "source": [
    "## Learning from complete dataset"
   ]
  },
  {
   "cell_type": "code",
   "execution_count": 45,
   "metadata": {
    "collapsed": false
   },
   "outputs": [
    {
     "name": "stdout",
     "output_type": "stream",
     "text": [
      "WILL-Produced Tree:\n",
      "% FOR workedunder(A, B):\n",
      "%   if ( director(B), actor(A) )\n",
      "%   then if ( movie(C, A), movie(C, B) )\n",
      "%   | then return 0.8581489350995086;  // std dev = 1,08e-06, 268,000 (wgt'ed) examples reached here.  /* #pos=268 */\n",
      "%   | else return -0.14185106490048768;  // std dev = 4,34e-08, 41,000 (wgt'ed) examples reached here.  /* #neg=41 */\n",
      "%   else return -0.14185106490048777;  // std dev = 0,000, 515,000 (wgt'ed) examples reached here.  /* #neg=515 */\n",
      "\n",
      "\n",
      "Results:\n",
      "{'Recall': 0.0, 'Precision': [nan, 0.5], 'AUC ROC': 1.0, 'F1': nan, 'AUC PR': 1.0, 'CLL': -0.163607}\n",
      "\n",
      "\n",
      "Total learning time: 2.587 seconds\n",
      "Total inference time: 1.044 seconds\n",
      "AUC ROC: 1.0\n",
      "\n",
      "\n",
      "Tree:\n"
     ]
    },
    {
     "data": {
      "image/svg+xml": [
       "<?xml version=\"1.0\" encoding=\"UTF-8\" standalone=\"no\"?>\n",
       "<!DOCTYPE svg PUBLIC \"-//W3C//DTD SVG 1.1//EN\"\n",
       " \"http://www.w3.org/Graphics/SVG/1.1/DTD/svg11.dtd\">\n",
       "<!-- Generated by graphviz version 2.38.0 (20140413.2041)\n",
       " -->\n",
       "<!-- Title: G Pages: 1 -->\n",
       "<svg width=\"342pt\" height=\"218pt\"\n",
       " viewBox=\"0.00 0.00 342.13 218.00\" xmlns=\"http://www.w3.org/2000/svg\" xmlns:xlink=\"http://www.w3.org/1999/xlink\">\n",
       "<g id=\"graph0\" class=\"graph\" transform=\"scale(1 1) rotate(0) translate(4 214)\">\n",
       "<title>G</title>\n",
       "<polygon fill=\"white\" stroke=\"none\" points=\"-4,4 -4,-214 338.132,-214 338.132,4 -4,4\"/>\n",
       "<!-- 1 -->\n",
       "<g id=\"node1\" class=\"node\"><title>1</title>\n",
       "<ellipse fill=\"none\" stroke=\"black\" cx=\"243.79\" cy=\"-192\" rx=\"90.1842\" ry=\"18\"/>\n",
       "<text text-anchor=\"middle\" x=\"243.79\" y=\"-188.3\" font-family=\"Times,serif\" font-size=\"14.00\">[director(B), actor(A)]</text>\n",
       "</g>\n",
       "<!-- 2 -->\n",
       "<g id=\"node2\" class=\"node\"><title>2</title>\n",
       "<ellipse fill=\"none\" stroke=\"black\" cx=\"111.79\" cy=\"-105\" rx=\"111.581\" ry=\"18\"/>\n",
       "<text text-anchor=\"middle\" x=\"111.79\" y=\"-101.3\" font-family=\"Times,serif\" font-size=\"14.00\">[movie(C, A), movie(C, B)]</text>\n",
       "</g>\n",
       "<!-- 1&#45;&gt;2 -->\n",
       "<g id=\"edge1\" class=\"edge\"><title>1&#45;&gt;2</title>\n",
       "<path fill=\"none\" stroke=\"black\" d=\"M218.339,-174.611C197.836,-161.409 168.81,-142.717 146.23,-128.177\"/>\n",
       "<polygon fill=\"black\" stroke=\"black\" points=\"147.916,-125.1 137.613,-122.629 144.126,-130.985 147.916,-125.1\"/>\n",
       "<text text-anchor=\"middle\" x=\"198.79\" y=\"-144.8\" font-family=\"Times,serif\" font-size=\"14.00\">True</text>\n",
       "</g>\n",
       "<!-- 3 -->\n",
       "<g id=\"node3\" class=\"node\"><title>3</title>\n",
       "<polygon fill=\"none\" stroke=\"black\" points=\"333.79,-123 241.79,-123 241.79,-87 333.79,-87 333.79,-123\"/>\n",
       "<text text-anchor=\"middle\" x=\"287.79\" y=\"-101.3\" font-family=\"Times,serif\" font-size=\"14.00\">&#45;0,142(0,465)</text>\n",
       "</g>\n",
       "<!-- 1&#45;&gt;3 -->\n",
       "<g id=\"edge2\" class=\"edge\"><title>1&#45;&gt;3</title>\n",
       "<path fill=\"none\" stroke=\"black\" d=\"M252.694,-173.799C258.897,-161.817 267.283,-145.617 274.302,-132.057\"/>\n",
       "<polygon fill=\"black\" stroke=\"black\" points=\"277.41,-133.665 278.899,-123.175 271.194,-130.447 277.41,-133.665\"/>\n",
       "<text text-anchor=\"middle\" x=\"283.29\" y=\"-144.8\" font-family=\"Times,serif\" font-size=\"14.00\">False</text>\n",
       "</g>\n",
       "<!-- 4 -->\n",
       "<g id=\"node4\" class=\"node\"><title>4</title>\n",
       "<polygon fill=\"none\" stroke=\"black\" points=\"101.29,-36 14.2901,-36 14.2901,-0 101.29,-0 101.29,-36\"/>\n",
       "<text text-anchor=\"middle\" x=\"57.7901\" y=\"-14.3\" font-family=\"Times,serif\" font-size=\"14.00\">0,858(0,702)</text>\n",
       "</g>\n",
       "<!-- 2&#45;&gt;4 -->\n",
       "<g id=\"edge3\" class=\"edge\"><title>2&#45;&gt;4</title>\n",
       "<path fill=\"none\" stroke=\"black\" d=\"M100.862,-86.799C93.1771,-74.7017 82.7602,-58.3049 74.0959,-44.6665\"/>\n",
       "<polygon fill=\"black\" stroke=\"black\" points=\"77.0182,-42.7393 68.7015,-36.1754 71.1097,-46.493 77.0182,-42.7393\"/>\n",
       "<text text-anchor=\"middle\" x=\"101.79\" y=\"-57.8\" font-family=\"Times,serif\" font-size=\"14.00\">True</text>\n",
       "</g>\n",
       "<!-- 5 -->\n",
       "<g id=\"node5\" class=\"node\"><title>5</title>\n",
       "<polygon fill=\"none\" stroke=\"black\" points=\"211.79,-36 119.79,-36 119.79,-0 211.79,-0 211.79,-36\"/>\n",
       "<text text-anchor=\"middle\" x=\"165.79\" y=\"-14.3\" font-family=\"Times,serif\" font-size=\"14.00\">&#45;0,142(0,465)</text>\n",
       "</g>\n",
       "<!-- 2&#45;&gt;5 -->\n",
       "<g id=\"edge4\" class=\"edge\"><title>2&#45;&gt;5</title>\n",
       "<path fill=\"none\" stroke=\"black\" d=\"M122.718,-86.799C130.403,-74.7017 140.82,-58.3049 149.484,-44.6665\"/>\n",
       "<polygon fill=\"black\" stroke=\"black\" points=\"152.471,-46.493 154.879,-36.1754 146.562,-42.7393 152.471,-46.493\"/>\n",
       "<text text-anchor=\"middle\" x=\"157.29\" y=\"-57.8\" font-family=\"Times,serif\" font-size=\"14.00\">False</text>\n",
       "</g>\n",
       "</g>\n",
       "</svg>\n"
      ],
      "text/plain": [
       "<graphviz.files.Source at 0x7f118523ccc0>"
      ]
     },
     "execution_count": 45,
     "metadata": {},
     "output_type": "execute_result"
    }
   ],
   "source": [
    "delete_model_files()\n",
    "model = boostsrl.train(background, train_pos, train_neg, facts)\n",
    "learning_time = model.traintime()\n",
    "will = model.get_will_produced_tree()\n",
    "#structured = model.get_structured_tree().copy()\n",
    "results = boostsrl.test(model, test_pos, test_neg, facts)\n",
    "inference_time = results.testtime()\n",
    "t_results = results.summarize_results()\n",
    "print('WILL-Produced Tree:')\n",
    "print_will_produced_tree(will)\n",
    "print('\\n')\n",
    "print('Results:')\n",
    "print(t_results)\n",
    "print('\\n')\n",
    "print('Total learning time: %s seconds' % learning_time)\n",
    "print('Total inference time: %s seconds' % inference_time)\n",
    "print('AUC ROC: %s' % t_results['AUC ROC'])\n",
    "print('\\n')\n",
    "print('Tree:')\n",
    "model.tree(0, target, image=True)"
   ]
  },
  {
   "cell_type": "markdown",
   "metadata": {},
   "source": [
    "## Theory Revision"
   ]
  },
  {
   "cell_type": "code",
   "execution_count": 46,
   "metadata": {
    "collapsed": false
   },
   "outputs": [
    {
     "name": "stdout",
     "output_type": "stream",
     "text": [
      "Performing parameter learning\n",
      "******************************************\n",
      "WILL-Produced Tree:\n",
      "% FOR workedunder(A, B):\n",
      "%   if ( director(B), movie(C, A), movie(C, B) )\n",
      "%   then return 0.8354216623722363;  // std dev = 2,211, 220,000 (wgt'ed) examples reached here.  /* #neg=5 #pos=215 */\n",
      "%   else return -0.1418510649004874;  // std dev = 2,89e-07, 425,000 (wgt'ed) examples reached here.  /* #neg=425 */\n",
      "\n",
      "\n",
      "Results:\n",
      "{'Recall': 0.0, 'Precision': [nan, 0.5], 'AUC ROC': 0.995902, 'F1': nan, 'AUC PR': 0.765101, 'CLL': -0.165541}\n",
      "\n",
      "\n",
      "Total learning time: 0.585 seconds\n",
      "Total inference time: 0.822 seconds\n",
      "AUC ROC: 0.995902\n",
      "\n",
      "\n",
      "Refining iteration 1\n",
      "******************************************\n",
      "Best Tree AUC ROC so far: 0.995902\n",
      "******************************************\n",
      "\n",
      "******************************************\n",
      "Total revision time: 1.407\n",
      "Best validation AUC ROC: 0.995902\n",
      "WILL-Produced Tree:\n",
      "% FOR workedunder(A, B):\n",
      "%   if ( director(B), movie(C, A), movie(C, B) )\n",
      "%   then return 0.8354216623722363;  // std dev = 2,211, 220,000 (wgt'ed) examples reached here.  /* #neg=5 #pos=215 */\n",
      "%   else return -0.1418510649004874;  // std dev = 2,89e-07, 425,000 (wgt'ed) examples reached here.  /* #neg=425 */\n",
      "\n",
      "\n",
      "Results:\n",
      "{'Recall': 0.0, 'Precision': [nan, 0.5], 'AUC ROC': 0.995902, 'F1': nan, 'AUC PR': 0.765101, 'CLL': -0.165541}\n",
      "\n",
      "\n",
      "Total inference time: 0.712 seconds\n",
      "AUC ROC: 0.995902\n",
      "\n",
      "\n",
      "Tree:\n"
     ]
    },
    {
     "data": {
      "image/svg+xml": [
       "<?xml version=\"1.0\" encoding=\"UTF-8\" standalone=\"no\"?>\n",
       "<!DOCTYPE svg PUBLIC \"-//W3C//DTD SVG 1.1//EN\"\n",
       " \"http://www.w3.org/Graphics/SVG/1.1/DTD/svg11.dtd\">\n",
       "<!-- Generated by graphviz version 2.38.0 (20140413.2041)\n",
       " -->\n",
       "<!-- Title: G Pages: 1 -->\n",
       "<svg width=\"319pt\" height=\"131pt\"\n",
       " viewBox=\"0.00 0.00 318.67 131.00\" xmlns=\"http://www.w3.org/2000/svg\" xmlns:xlink=\"http://www.w3.org/1999/xlink\">\n",
       "<g id=\"graph0\" class=\"graph\" transform=\"scale(1 1) rotate(0) translate(4 127)\">\n",
       "<title>G</title>\n",
       "<polygon fill=\"white\" stroke=\"none\" points=\"-4,4 -4,-127 314.672,-127 314.672,4 -4,4\"/>\n",
       "<!-- 1 -->\n",
       "<g id=\"node1\" class=\"node\"><title>1</title>\n",
       "<ellipse fill=\"none\" stroke=\"black\" cx=\"155.336\" cy=\"-105\" rx=\"155.173\" ry=\"18\"/>\n",
       "<text text-anchor=\"middle\" x=\"155.336\" y=\"-101.3\" font-family=\"Times,serif\" font-size=\"14.00\">[director(B), movie(C, A), movie(C, B)]</text>\n",
       "</g>\n",
       "<!-- 2 -->\n",
       "<g id=\"node2\" class=\"node\"><title>2</title>\n",
       "<polygon fill=\"none\" stroke=\"black\" points=\"144.836,-36 57.8362,-36 57.8362,-0 144.836,-0 144.836,-36\"/>\n",
       "<text text-anchor=\"middle\" x=\"101.336\" y=\"-14.3\" font-family=\"Times,serif\" font-size=\"14.00\">0,835(0,698)</text>\n",
       "</g>\n",
       "<!-- 1&#45;&gt;2 -->\n",
       "<g id=\"edge1\" class=\"edge\"><title>1&#45;&gt;2</title>\n",
       "<path fill=\"none\" stroke=\"black\" d=\"M144.409,-86.799C136.723,-74.7017 126.306,-58.3049 117.642,-44.6665\"/>\n",
       "<polygon fill=\"black\" stroke=\"black\" points=\"120.564,-42.7393 112.248,-36.1754 114.656,-46.493 120.564,-42.7393\"/>\n",
       "<text text-anchor=\"middle\" x=\"145.336\" y=\"-57.8\" font-family=\"Times,serif\" font-size=\"14.00\">True</text>\n",
       "</g>\n",
       "<!-- 3 -->\n",
       "<g id=\"node3\" class=\"node\"><title>3</title>\n",
       "<polygon fill=\"none\" stroke=\"black\" points=\"255.336,-36 163.336,-36 163.336,-0 255.336,-0 255.336,-36\"/>\n",
       "<text text-anchor=\"middle\" x=\"209.336\" y=\"-14.3\" font-family=\"Times,serif\" font-size=\"14.00\">&#45;0,142(0,465)</text>\n",
       "</g>\n",
       "<!-- 1&#45;&gt;3 -->\n",
       "<g id=\"edge2\" class=\"edge\"><title>1&#45;&gt;3</title>\n",
       "<path fill=\"none\" stroke=\"black\" d=\"M166.264,-86.799C173.949,-74.7017 184.366,-58.3049 193.03,-44.6665\"/>\n",
       "<polygon fill=\"black\" stroke=\"black\" points=\"196.017,-46.493 198.425,-36.1754 190.108,-42.7393 196.017,-46.493\"/>\n",
       "<text text-anchor=\"middle\" x=\"200.836\" y=\"-57.8\" font-family=\"Times,serif\" font-size=\"14.00\">False</text>\n",
       "</g>\n",
       "</g>\n",
       "</svg>\n"
      ],
      "text/plain": [
       "<graphviz.files.Source at 0x7f11852c1710>"
      ]
     },
     "execution_count": 46,
     "metadata": {},
     "output_type": "execute_result"
    }
   ],
   "source": [
    "total_revision_time = 0\n",
    "best_aucroc = 0\n",
    "best_structured = None\n",
    "\n",
    "print('Performing parameter learning')\n",
    "print('******************************************')\n",
    "delete_model_files()\n",
    "model = boostsrl.train(background, r_train_pos, r_train_neg, facts, refine=get_refine_file(structured))\n",
    "learning_time = model.traintime()\n",
    "will = model.get_will_produced_tree()\n",
    "structured = model.get_structured_tree().copy()\n",
    "results = boostsrl.test(model, test_pos, test_neg, facts)\n",
    "inference_time = results.testtime()\n",
    "t_results = results.summarize_results()\n",
    "total_revision_time += learning_time + inference_time\n",
    "print('WILL-Produced Tree:')\n",
    "print_will_produced_tree(will)\n",
    "print('\\n')\n",
    "print('Results:')\n",
    "print(t_results)\n",
    "print('\\n')\n",
    "print('Total learning time: %s seconds' % learning_time)\n",
    "print('Total inference time: %s seconds' % inference_time)\n",
    "print('AUC ROC: %s' % t_results['AUC ROC'])\n",
    "print('\\n')\n",
    "#print('Tree:')\n",
    "#model.tree(0, target, image=True)\n",
    "\n",
    "best_aucroc = t_results['AUC ROC']\n",
    "best_structured = structured.copy()\n",
    "save_model_files()\n",
    "\n",
    "for i in range(max_revision_iterations):\n",
    "    print('Refining iteration %s' % str(i+1))\n",
    "    print('******************************************')\n",
    "    found_better = False\n",
    "    for candidate in get_cantidates(best_structured, revision_threshold):\n",
    "        print('Refining node candidate')\n",
    "        print('******************************************')\n",
    "        delete_model_files()\n",
    "        model = boostsrl.train(background, r_train_pos, r_train_neg, facts, refine=candidate)\n",
    "        learning_time = model.traintime()\n",
    "        will = model.get_will_produced_tree()\n",
    "        results = boostsrl.test(model, test_pos, test_neg, facts)\n",
    "        inference_time = results.testtime()\n",
    "        t_results = results.summarize_results()\n",
    "        total_revision_time += learning_time + inference_time\n",
    "        print('WILL-Produced Tree:')\n",
    "        print_will_produced_tree(will)\n",
    "        print('\\n')\n",
    "        print('Results:')\n",
    "        print(t_results)\n",
    "        print('\\n')\n",
    "        print('Total learning time: %s seconds' % learning_time)\n",
    "        print('Total inference time: %s seconds' % inference_time)\n",
    "        print('AUC ROC: %s' % t_results['AUC ROC'])\n",
    "        print('\\n')\n",
    "        #print('Tree:')\n",
    "        #model.tree(0, target, image=True)\n",
    "        print('******************************************')\n",
    "\n",
    "        if t_results['AUC ROC'] > best_aucroc:\n",
    "            found_better = True\n",
    "            best_aucroc = t_results['AUC ROC']\n",
    "            best_structured = model.get_structured_tree().copy()\n",
    "            save_model_files()\n",
    "    print('Best Tree AUC ROC so far: %s' % best_aucroc)\n",
    "    print('******************************************\\n')\n",
    "    if found_better == False:\n",
    "        break\n",
    "\n",
    "print('******************************************')\n",
    "delete_model_files()\n",
    "get_saved_model_files()\n",
    "delete_test_files()\n",
    "print('Total revision time: %s' % total_revision_time)\n",
    "print('Best validation AUC ROC: %s' % best_aucroc)\n",
    "will = model.get_will_produced_tree()\n",
    "results = boostsrl.test(model, test_pos, test_neg, facts)\n",
    "inference_time = results.testtime()\n",
    "t_results = results.summarize_results()\n",
    "print('WILL-Produced Tree:')\n",
    "print_will_produced_tree(will)\n",
    "print('\\n')\n",
    "print('Results:')\n",
    "print(t_results)\n",
    "print('\\n')\n",
    "print('Total inference time: %s seconds' % inference_time)\n",
    "print('AUC ROC: %s' % t_results['AUC ROC'])\n",
    "print('\\n')\n",
    "print('Tree:')\n",
    "model.tree(0, target, image=True)"
   ]
  },
  {
   "cell_type": "code",
   "execution_count": null,
   "metadata": {
    "collapsed": true
   },
   "outputs": [],
   "source": []
  }
 ],
 "metadata": {
  "anaconda-cloud": {},
  "kernelspec": {
   "display_name": "Python [conda root]",
   "language": "python",
   "name": "conda-root-py"
  },
  "language_info": {
   "codemirror_mode": {
    "name": "ipython",
    "version": 3
   },
   "file_extension": ".py",
   "mimetype": "text/x-python",
   "name": "python",
   "nbconvert_exporter": "python",
   "pygments_lexer": "ipython3",
   "version": "3.5.2"
  }
 },
 "nbformat": 4,
 "nbformat_minor": 1
}
